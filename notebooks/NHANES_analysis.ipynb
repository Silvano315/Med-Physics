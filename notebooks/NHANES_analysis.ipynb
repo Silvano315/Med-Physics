{
 "cells": [
  {
   "cell_type": "markdown",
   "metadata": {},
   "source": [
    "# NHANES project: descriptive and regression analysis\n",
    "> This notebook has the purpose to collect all the analysis on Nhanes dataset for a medical paper project \n",
    "\n",
    "Requirements and Information:\n",
    "1. Nhanes dataset from 1999/00 to 2001/02\n",
    "2. Oral Frailty Index with:\n",
    "    - 1: Do you have any difficulties eating tough foods compared to 6 months ago? (OHQ080)\n",
    "    - 2: Have you choked on your tea or soup recently? (OHQ100 and OHQ105)\n",
    "    - 3: Do you use dentures? (OHXEDEN)\n",
    "    - 4: Do you often have a dry mouth?\t(OHQ110)\n",
    "    - 5: Do you go out less frequently than you did last year? (PAQ500)\n",
    "    - 6: Can you eat hard foods like squid jerky or pickled radish?\t(OHQ020)\n",
    "    - 7: How many times do you brush your teeth in a day? (3 or more times/day)\t(OHQ040 and OHQ010)\n",
    "    - 8:  Do you visit a dental clinic at least annually? (OHQ050)\n",
    "3. Outcome/Exposure is\n",
    "4. Demographic Data:\n",
    "    - Gender (RIAGENDR)\n",
    "    - Age at screening (RIDAGEYR)\n",
    "    - Race (RIDRETH1)\n",
    "    - Education\t(DMDEDUC2)\n",
    "    - Poverty income ratio (INDFMPIR)\n",
    "    - Smoking status (SMQ020)\n",
    "5. Confounding Variables:\n",
    "    - Heart failure\t(RIDRETH1)  \n",
    "    - Coronary heart disease (MCQ160b)\n",
    "    - Stroke (MCQ160c)\n",
    "    - COPD (MCQ160f)\n",
    "    - Liver disease\t(MCQ160o)\n",
    "    - Cancer (MCQ500)\n",
    "    - Diabetes (MCQ220)\n",
    "    - High blood pressure (DIQ010)\n",
    "6. Age => 60 \n",
    "7. Oral Frailty Index cutoff: \n",
    "8. Oral Frailty Index groups:"
   ]
  },
  {
   "cell_type": "markdown",
   "metadata": {},
   "source": [
    "## Install packages\n",
    "\n",
    "Reference for nhanesA [here](https://cran.r-project.org/web/packages/nhanesA/nhanesA.pdf)"
   ]
  },
  {
   "cell_type": "code",
   "execution_count": null,
   "metadata": {
    "vscode": {
     "languageId": "r"
    }
   },
   "outputs": [],
   "source": [
    "install.packages(c(\"nhanesA\", \"survey\", \"MASS\", \"dplyr\", \"tidyr\", \"tidyverse\"))\n"
   ]
  },
  {
   "cell_type": "code",
   "execution_count": null,
   "metadata": {
    "vscode": {
     "languageId": "r"
    }
   },
   "outputs": [],
   "source": [
    "install.packages(\"devtools\")\n",
    "devtools::install_github(\"cjendres1/nhanes\")\n"
   ]
  },
  {
   "cell_type": "markdown",
   "metadata": {},
   "source": [
    "## Load packages"
   ]
  },
  {
   "cell_type": "code",
   "execution_count": 74,
   "metadata": {
    "vscode": {
     "languageId": "r"
    }
   },
   "outputs": [],
   "source": [
    "library(nhanesA)\n",
    "library(survey)\n",
    "library(MASS)\n",
    "library(dplyr)\n",
    "library(tidyr)\n",
    "library(tidyverse)"
   ]
  },
  {
   "cell_type": "markdown",
   "metadata": {},
   "source": [
    "## Load NHANES data (1999/00-2001/02)"
   ]
  },
  {
   "cell_type": "code",
   "execution_count": 75,
   "metadata": {
    "vscode": {
     "languageId": "r"
    }
   },
   "outputs": [],
   "source": [
    "# The browser may be directed to a specific year, survey, or table\n",
    "\n",
    "browseNHANES(\n",
    "    year = 1999,\n",
    "    data_group = \"DEMO\"\n",
    ")\n"
   ]
  },
  {
   "cell_type": "code",
   "execution_count": 76,
   "metadata": {
    "vscode": {
     "languageId": "r"
    }
   },
   "outputs": [],
   "source": [
    "# Demographics data\n",
    "\n",
    "demo_99_00 <- nhanes(nh_table = \"DEMO\")\n",
    "demo_01_02 <- nhanes(nh_table = \"DEMO_B\")\n"
   ]
  },
  {
   "cell_type": "code",
   "execution_count": null,
   "metadata": {
    "vscode": {
     "languageId": "r"
    }
   },
   "outputs": [],
   "source": [
    "nhanesTableSummary(\"DEMO\", use = \"codebook\")"
   ]
  },
  {
   "cell_type": "code",
   "execution_count": 78,
   "metadata": {
    "vscode": {
     "languageId": "r"
    }
   },
   "outputs": [],
   "source": [
    "# Smoking status\n",
    "\n",
    "smoking_99_00 <- nhanes(nh_table = \"SMQ\")\n",
    "smoking_01_02 <- nhanes(nh_table = \"SMQ_B\")"
   ]
  },
  {
   "cell_type": "code",
   "execution_count": 79,
   "metadata": {
    "vscode": {
     "languageId": "r"
    }
   },
   "outputs": [],
   "source": [
    "# Oral data\n",
    "\n",
    "oral_99_00 <- nhanes(\"OHQ\")\n",
    "oral_01_02 <- nhanes(\"OHQ_B\")"
   ]
  },
  {
   "cell_type": "code",
   "execution_count": 80,
   "metadata": {
    "vscode": {
     "languageId": "r"
    }
   },
   "outputs": [],
   "source": [
    "# Physical Activity\n",
    "\n",
    "physical_99_00 <- nhanes(nh_table = \"PAQ\")\n",
    "physical_01_02 <- nhanes(nh_table = \"PAQ_B\")"
   ]
  },
  {
   "cell_type": "code",
   "execution_count": 81,
   "metadata": {
    "vscode": {
     "languageId": "r"
    }
   },
   "outputs": [],
   "source": [
    "# Medical Conditions\n",
    "\n",
    "med_cond_99_00 <- nhanes(\"MCQ\")\n",
    "med_cond_01_02 <- nhanes(\"MCQ_B\")"
   ]
  },
  {
   "cell_type": "code",
   "execution_count": 82,
   "metadata": {
    "vscode": {
     "languageId": "r"
    }
   },
   "outputs": [],
   "source": [
    "# Diabetes\n",
    "\n",
    "diabetes_99_00 <- nhanes(nh_table = \"DIQ\")\n",
    "diabetes_01_02 <- nhanes(nh_table = \"DIQ_B\")"
   ]
  },
  {
   "cell_type": "code",
   "execution_count": 83,
   "metadata": {
    "vscode": {
     "languageId": "r"
    }
   },
   "outputs": [],
   "source": [
    "# High blood pressure\n",
    "\n",
    "blood_pressure_99_00 <- nhanes(nh_table = \"BPQ\")\n",
    "blood_pressure_01_02 <- nhanes(nh_table = \"BPQ_B\")"
   ]
  },
  {
   "cell_type": "code",
   "execution_count": 84,
   "metadata": {
    "vscode": {
     "languageId": "r"
    }
   },
   "outputs": [],
   "source": [
    "# Edentulous\n",
    "\n",
    "eden_99_00 <- nhanes(nh_table = \"OHXDENT\")\n",
    "eden_01_02 <- nhanes(nh_table = \"OHXDEN_B\")"
   ]
  },
  {
   "cell_type": "markdown",
   "metadata": {},
   "source": [
    "## Data Preparation"
   ]
  },
  {
   "cell_type": "markdown",
   "metadata": {},
   "source": [
    "### Features Selection"
   ]
  },
  {
   "cell_type": "code",
   "execution_count": null,
   "metadata": {
    "vscode": {
     "languageId": "r"
    }
   },
   "outputs": [],
   "source": [
    "# Demographics selection: RIAGENDR, RIDAGEYR, RIDRETH1, DMDEDUC2, INDFMPIR\n",
    "\n",
    "demo_99_00_selected <- demo_99_00 %>%\n",
    "    select(SEQN, RIAGENDR, RIDAGEYR, RIDRETH1, DMDEDUC2, INDFMPIR)\n",
    "\n",
    "demo_01_02_selected <- demo_01_02 %>%\n",
    "    select(SEQN, RIAGENDR, RIDAGEYR, RIDRETH1, DMDEDUC2, INDFMPIR)"
   ]
  },
  {
   "cell_type": "code",
   "execution_count": null,
   "metadata": {
    "vscode": {
     "languageId": "r"
    }
   },
   "outputs": [],
   "source": [
    "# Smoking Status selection: SMQ020\n",
    "\n",
    "smoking_99_00_selected <- smoking_99_00 %>%\n",
    "    select(SEQN, SMQ020)\n",
    "\n",
    "smoking_01_02_selected <- smoking_01_02 %>%\n",
    "    select(SEQN, SMQ020)"
   ]
  },
  {
   "cell_type": "code",
   "execution_count": null,
   "metadata": {
    "vscode": {
     "languageId": "r"
    }
   },
   "outputs": [],
   "source": [
    "# Medical Conditions selection: MCQ160B, MCQ160C, MCQ160F, MCQ160K, MCQ160L, MCQ220\n",
    "\n",
    "med_cond_99_00_selected <- med_cond_99_00 %>%\n",
    "    select(SEQN, MCQ160B, MCQ160C, MCQ160F, MCQ160K, MCQ160L, MCQ220)\n",
    "\n",
    "med_cond_01_02_selected <- med_cond_01_02 %>%\n",
    "    select(SEQN, MCQ160B, MCQ160C, MCQ160F, MCQ160K, MCQ160L, MCQ220)"
   ]
  },
  {
   "cell_type": "code",
   "execution_count": null,
   "metadata": {
    "vscode": {
     "languageId": "r"
    }
   },
   "outputs": [],
   "source": [
    "# Diabetes selection: DIQ010\n",
    "\n",
    "diabetes_99_00_selected <- diabetes_99_00 %>%\n",
    "    select(SEQN, DIQ010)\n",
    "\n",
    "diabetes_01_02_selected <- diabetes_01_02 %>%\n",
    "    select(SEQN, DIQ010)"
   ]
  },
  {
   "cell_type": "code",
   "execution_count": null,
   "metadata": {
    "vscode": {
     "languageId": "r"
    }
   },
   "outputs": [],
   "source": [
    "# High blood pressure selection: BPQ020\n",
    "\n",
    "blood_pressure_99_00_selected <- blood_pressure_99_00 %>%\n",
    "    select(SEQN, BPQ020)\n",
    "\n",
    "blood_pressure_01_02_selected <- blood_pressure_01_02 %>%\n",
    "    select(SEQN, BPQ020)"
   ]
  },
  {
   "cell_type": "code",
   "execution_count": null,
   "metadata": {
    "vscode": {
     "languageId": "r"
    }
   },
   "outputs": [],
   "source": [
    "# Physical Activity selection: PAQ500\n",
    "\n",
    "physical_99_00_selected <- physical_99_00 %>%\n",
    "    select(SEQN, PAQ500)\n",
    "\n",
    "physical_01_02_selected <- physical_01_02 %>%\n",
    "    select(SEQN, PAQ500)"
   ]
  },
  {
   "cell_type": "code",
   "execution_count": null,
   "metadata": {
    "vscode": {
     "languageId": "r"
    }
   },
   "outputs": [],
   "source": [
    "# Edentulous selection: OHXEDEN\n",
    "\n",
    "eden_99_00_selected <- eden_99_00 %>%\n",
    "    select(SEQN, OHXEDEN)\n",
    "\n",
    "eden_01_02_selected <- eden_01_02 %>%\n",
    "    select(SEQN, OHXEDEN)"
   ]
  },
  {
   "cell_type": "code",
   "execution_count": null,
   "metadata": {
    "vscode": {
     "languageId": "r"
    }
   },
   "outputs": [],
   "source": [
    "# Oral data selection: OHQ080/OHQ085, OHQ100/OHQ105, OHQ110/OHQ115, OHQ020, OHQ040/OHQ010, OHQ050\n",
    "\n",
    "oral_99_00_selected <- oral_99_00 %>%\n",
    "    select(SEQN, OHQ080, OHQ100, OHQ110, OHQ020, OHQ040, OHQ050)\n",
    "\n",
    "oral_01_02_selected <- oral_01_02 %>%\n",
    "    select(SEQN, OHQ085, OHQ105, OHQ115, OHQ020, OHQ040, OHQ050)"
   ]
  },
  {
   "cell_type": "markdown",
   "metadata": {},
   "source": [
    "### Data Information"
   ]
  },
  {
   "cell_type": "code",
   "execution_count": null,
   "metadata": {
    "vscode": {
     "languageId": "r"
    }
   },
   "outputs": [],
   "source": [
    "# Function to show dataset information\n",
    "\n",
    "print_dataset_info <- function(df, name) {\n",
    "    cat(sprintf(\"\\nDataset: %s\\n\", name))\n",
    "    cat(sprintf(\"Number of rows: %d\\n\", nrow(df)))\n",
    "    cat(sprintf(\"Number of columns: %d\\n\", ncol(df)))\n",
    "    cat(sprintf(\"Memory usage: %.2f MB\\n\", object.size(df) / 1024^2))\n",
    "    cat(\"\\nColumn details:\\n\")\n",
    "    for (col_name in colnames(df)) {\n",
    "        cat(sprintf(\"- %s: %s\\n\", col_name, class(df[[col_name]])))\n",
    "    }\n",
    "}\n"
   ]
  },
  {
   "cell_type": "code",
   "execution_count": null,
   "metadata": {
    "vscode": {
     "languageId": "r"
    }
   },
   "outputs": [],
   "source": [
    "print_dataset_info(demo_99_00_selected, \"Demographics 1999-2000\")"
   ]
  },
  {
   "cell_type": "code",
   "execution_count": null,
   "metadata": {
    "vscode": {
     "languageId": "r"
    }
   },
   "outputs": [],
   "source": [
    "print_dataset_info(demo_01_02_selected, \"Demographics 2001-2002\")"
   ]
  },
  {
   "cell_type": "code",
   "execution_count": null,
   "metadata": {
    "vscode": {
     "languageId": "r"
    }
   },
   "outputs": [],
   "source": [
    "print_dataset_info(smoking_99_00_selected, \"Smoking Status 1999-2000\")"
   ]
  },
  {
   "cell_type": "code",
   "execution_count": null,
   "metadata": {
    "vscode": {
     "languageId": "r"
    }
   },
   "outputs": [],
   "source": [
    "print_dataset_info(smoking_01_02_selected, \"Smoking Status 2001-2002\")"
   ]
  },
  {
   "cell_type": "code",
   "execution_count": null,
   "metadata": {
    "vscode": {
     "languageId": "r"
    }
   },
   "outputs": [],
   "source": [
    "print_dataset_info(med_cond_99_00_selected, \"Medical Conditions 1999-2000\")"
   ]
  },
  {
   "cell_type": "code",
   "execution_count": null,
   "metadata": {
    "vscode": {
     "languageId": "r"
    }
   },
   "outputs": [],
   "source": [
    "print_dataset_info(med_cond_01_02_selected, \"Medical Conditions 2001-2002\")"
   ]
  },
  {
   "cell_type": "code",
   "execution_count": null,
   "metadata": {
    "vscode": {
     "languageId": "r"
    }
   },
   "outputs": [],
   "source": [
    "print_dataset_info(diabetes_99_00_selected, \"Diabetes 1999-2000\")"
   ]
  },
  {
   "cell_type": "code",
   "execution_count": null,
   "metadata": {
    "vscode": {
     "languageId": "r"
    }
   },
   "outputs": [],
   "source": [
    "print_dataset_info(diabetes_01_02_selected, \"Diabetes 2001-2002\")"
   ]
  },
  {
   "cell_type": "code",
   "execution_count": null,
   "metadata": {
    "vscode": {
     "languageId": "r"
    }
   },
   "outputs": [],
   "source": [
    "print_dataset_info(blood_pressure_99_00_selected, \"High Blood Pressure 1999-2000\")"
   ]
  },
  {
   "cell_type": "code",
   "execution_count": null,
   "metadata": {
    "vscode": {
     "languageId": "r"
    }
   },
   "outputs": [],
   "source": [
    "print_dataset_info(blood_pressure_01_02_selected, \"High Blood Pressure 2001-2002\")"
   ]
  },
  {
   "cell_type": "code",
   "execution_count": null,
   "metadata": {
    "vscode": {
     "languageId": "r"
    }
   },
   "outputs": [],
   "source": [
    "print_dataset_info(physical_99_00_selected, \"Physical Activities 1999-2000\")"
   ]
  },
  {
   "cell_type": "code",
   "execution_count": null,
   "metadata": {
    "vscode": {
     "languageId": "r"
    }
   },
   "outputs": [],
   "source": [
    "print_dataset_info(physical_01_02_selected, \"Physical Activities 2001-2002\")"
   ]
  },
  {
   "cell_type": "code",
   "execution_count": null,
   "metadata": {
    "vscode": {
     "languageId": "r"
    }
   },
   "outputs": [],
   "source": [
    "print_dataset_info(eden_99_00_selected, \"Edentulous 1999-2000\")"
   ]
  },
  {
   "cell_type": "code",
   "execution_count": null,
   "metadata": {
    "vscode": {
     "languageId": "r"
    }
   },
   "outputs": [],
   "source": [
    "print_dataset_info(eden_01_02_selected, \"Edentulous 2001-2002\")"
   ]
  },
  {
   "cell_type": "code",
   "execution_count": null,
   "metadata": {
    "vscode": {
     "languageId": "r"
    }
   },
   "outputs": [],
   "source": [
    "print_dataset_info(oral_99_00_selected, \"Oral Health 1999-2000\")"
   ]
  },
  {
   "cell_type": "code",
   "execution_count": null,
   "metadata": {
    "vscode": {
     "languageId": "r"
    }
   },
   "outputs": [],
   "source": [
    "print_dataset_info(oral_01_02_selected, \"Oral Health 2001-2002\")"
   ]
  },
  {
   "cell_type": "markdown",
   "metadata": {},
   "source": [
    "### Unique values and % for each categorical feature in the datasets"
   ]
  },
  {
   "cell_type": "code",
   "execution_count": null,
   "metadata": {
    "vscode": {
     "languageId": "r"
    }
   },
   "outputs": [],
   "source": [
    "# Function to see unique values for categorical features\n",
    "\n",
    "print_categorical_info <- function(df, name) {\n",
    "  cat(sprintf(\"\\nCategorical Column Analysis for Dataset: %s\\n\", name))\n",
    "\n",
    "  categorical_cols <- names(df)[sapply(df, is.factor) | sapply(df, is.character)]\n",
    "\n",
    "  if (length(categorical_cols) == 0) {\n",
    "    cat(\"No categorical columns found.\\n\")\n",
    "    return()\n",
    "  }\n",
    "\n",
    "  for (col_name in categorical_cols) {\n",
    "    cat(sprintf(\"\\nColumn: %s\\n\", col_name))\n",
    "    value_counts <- table(df[[col_name]])  \n",
    "    total_count <- sum(value_counts)      \n",
    "    percentages <- round(100 * value_counts / total_count, 2) \n",
    "\n",
    "    for (i in seq_along(value_counts)) {\n",
    "      cat(sprintf(\"- %s: %d (%.2f%%)\\n\", names(value_counts)[i], value_counts[i], percentages[i]))\n",
    "    }\n",
    "  }\n",
    "}"
   ]
  },
  {
   "cell_type": "code",
   "execution_count": null,
   "metadata": {
    "vscode": {
     "languageId": "r"
    }
   },
   "outputs": [],
   "source": [
    "print_categorical_info(demo_99_00_selected, \"Demographics 1999-2000\")"
   ]
  },
  {
   "cell_type": "code",
   "execution_count": null,
   "metadata": {
    "vscode": {
     "languageId": "r"
    }
   },
   "outputs": [],
   "source": [
    "print_categorical_info(demo_01_02_selected, \"Demographics 2001-2002\")"
   ]
  },
  {
   "cell_type": "code",
   "execution_count": null,
   "metadata": {
    "vscode": {
     "languageId": "r"
    }
   },
   "outputs": [],
   "source": [
    "print_categorical_info(smoking_99_00_selected, \"Smoking Status 1999-2000\")"
   ]
  },
  {
   "cell_type": "code",
   "execution_count": null,
   "metadata": {
    "vscode": {
     "languageId": "r"
    }
   },
   "outputs": [],
   "source": [
    "print_categorical_info(smoking_01_02_selected, \"Smoking Status 2001-2002\")"
   ]
  },
  {
   "cell_type": "code",
   "execution_count": null,
   "metadata": {
    "vscode": {
     "languageId": "r"
    }
   },
   "outputs": [],
   "source": [
    "print_categorical_info(med_cond_99_00_selected, \"Medical Conditions 1999-2000\")"
   ]
  },
  {
   "cell_type": "code",
   "execution_count": null,
   "metadata": {
    "vscode": {
     "languageId": "r"
    }
   },
   "outputs": [],
   "source": [
    "print_categorical_info(med_cond_01_02_selected, \"Medical Conditions 2001-2002\")"
   ]
  },
  {
   "cell_type": "code",
   "execution_count": null,
   "metadata": {
    "vscode": {
     "languageId": "r"
    }
   },
   "outputs": [],
   "source": [
    "print_categorical_info(diabetes_99_00_selected, \"Diabetes 1999-2000\")"
   ]
  },
  {
   "cell_type": "code",
   "execution_count": null,
   "metadata": {
    "vscode": {
     "languageId": "r"
    }
   },
   "outputs": [],
   "source": [
    "print_categorical_info(diabetes_01_02_selected, \"Diabetes 2001-2002\")"
   ]
  },
  {
   "cell_type": "code",
   "execution_count": null,
   "metadata": {
    "vscode": {
     "languageId": "r"
    }
   },
   "outputs": [],
   "source": [
    "print_categorical_info(blood_pressure_99_00_selected, \"High Blood Pressure 1999-2000\")"
   ]
  },
  {
   "cell_type": "code",
   "execution_count": null,
   "metadata": {
    "vscode": {
     "languageId": "r"
    }
   },
   "outputs": [],
   "source": [
    "print_categorical_info(blood_pressure_01_02_selected, \"High Blood Pressure 2001-2002\")"
   ]
  },
  {
   "cell_type": "code",
   "execution_count": null,
   "metadata": {
    "vscode": {
     "languageId": "r"
    }
   },
   "outputs": [],
   "source": [
    "print_categorical_info(physical_99_00_selected, \"Physical Activities 1999-2000\")"
   ]
  },
  {
   "cell_type": "code",
   "execution_count": null,
   "metadata": {
    "vscode": {
     "languageId": "r"
    }
   },
   "outputs": [],
   "source": [
    "print_categorical_info(physical_01_02_selected, \"Physical Activities 2001-2002\")"
   ]
  },
  {
   "cell_type": "code",
   "execution_count": null,
   "metadata": {
    "vscode": {
     "languageId": "r"
    }
   },
   "outputs": [],
   "source": [
    "print_categorical_info(eden_99_00_selected, \"Edentulous 1999-2000\")"
   ]
  },
  {
   "cell_type": "code",
   "execution_count": null,
   "metadata": {
    "vscode": {
     "languageId": "r"
    }
   },
   "outputs": [],
   "source": [
    "print_categorical_info(eden_01_02_selected, \"Edentulous 2001-2002\")"
   ]
  },
  {
   "cell_type": "code",
   "execution_count": null,
   "metadata": {
    "vscode": {
     "languageId": "r"
    }
   },
   "outputs": [],
   "source": [
    "print_categorical_info(oral_99_00_selected, \"Oral Health 1999-2000\")"
   ]
  },
  {
   "cell_type": "code",
   "execution_count": null,
   "metadata": {
    "vscode": {
     "languageId": "r"
    }
   },
   "outputs": [],
   "source": [
    "print_categorical_info(oral_01_02_selected, \"Oral Health 2001-2002\")"
   ]
  },
  {
   "cell_type": "markdown",
   "metadata": {},
   "source": [
    "### Missing Values and % for each dataset"
   ]
  },
  {
   "cell_type": "code",
   "execution_count": 86,
   "metadata": {
    "vscode": {
     "languageId": "r"
    }
   },
   "outputs": [],
   "source": [
    "# Function to calculate missing values\n",
    "\n",
    "missing_values <- function(df) {\n",
    "    missing_count <- colSums(is.na(df))\n",
    "    missing_percent <- (missing_count/nrow(df)) * 100\n",
    "\n",
    "    missing_df <- data.frame(\n",
    "        variable = names(missing_count),\n",
    "        n_missing = missing_count,\n",
    "        percent_missing = round(missing_percent, 2)\n",
    "    ) %>%\n",
    "        arrange(desc(n_missing))\n",
    "\n",
    "    return(missing_df)\n",
    "}"
   ]
  },
  {
   "cell_type": "code",
   "execution_count": 87,
   "metadata": {
    "vscode": {
     "languageId": "r"
    }
   },
   "outputs": [
    {
     "name": "stdout",
     "output_type": "stream",
     "text": [
      "         variable n_missing percent_missing\n",
      "DMDEDUC2 DMDEDUC2      5087           51.05\n",
      "INDFMPIR INDFMPIR      1483           14.88\n",
      "SEQN         SEQN         0            0.00\n",
      "RIAGENDR RIAGENDR         0            0.00\n",
      "RIDAGEYR RIDAGEYR         0            0.00\n",
      "RIDRETH1 RIDRETH1         0            0.00\n"
     ]
    }
   ],
   "source": [
    "demo_99_00_missing <- missing_values(demo_99_00_selected)\n",
    "print(demo_99_00_missing)"
   ]
  },
  {
   "cell_type": "code",
   "execution_count": 88,
   "metadata": {
    "vscode": {
     "languageId": "r"
    }
   },
   "outputs": [
    {
     "name": "stdout",
     "output_type": "stream",
     "text": [
      "         variable n_missing percent_missing\n",
      "DMDEDUC2 DMDEDUC2      5632           51.02\n",
      "INDFMPIR INDFMPIR       794            7.19\n",
      "SEQN         SEQN         0            0.00\n",
      "RIAGENDR RIAGENDR         0            0.00\n",
      "RIDAGEYR RIDAGEYR         0            0.00\n",
      "RIDRETH1 RIDRETH1         0            0.00\n"
     ]
    }
   ],
   "source": [
    "demo_01_02_missing <- missing_values(demo_01_02_selected)\n",
    "print(demo_01_02_missing)"
   ]
  },
  {
   "cell_type": "code",
   "execution_count": 89,
   "metadata": {
    "vscode": {
     "languageId": "r"
    }
   },
   "outputs": [
    {
     "name": "stdout",
     "output_type": "stream",
     "text": [
      "       variable n_missing percent_missing\n",
      "SMQ020   SMQ020         3            0.06\n",
      "SEQN       SEQN         0            0.00\n"
     ]
    }
   ],
   "source": [
    "smoking_99_00_missing <- missing_values(smoking_99_00_selected)\n",
    "print(smoking_99_00_missing)"
   ]
  },
  {
   "cell_type": "code",
   "execution_count": 90,
   "metadata": {
    "vscode": {
     "languageId": "r"
    }
   },
   "outputs": [
    {
     "name": "stdout",
     "output_type": "stream",
     "text": [
      "       variable n_missing percent_missing\n",
      "SMQ020   SMQ020         4            0.07\n",
      "SEQN       SEQN         0            0.00\n"
     ]
    }
   ],
   "source": [
    "smoking_01_02_missing <- missing_values(smoking_01_02_selected)\n",
    "print(smoking_01_02_missing)"
   ]
  },
  {
   "cell_type": "code",
   "execution_count": 91,
   "metadata": {
    "vscode": {
     "languageId": "r"
    }
   },
   "outputs": [
    {
     "name": "stdout",
     "output_type": "stream",
     "text": [
      "        variable n_missing percent_missing\n",
      "MCQ160B  MCQ160B      4613           48.59\n",
      "MCQ160C  MCQ160C      4613           48.59\n",
      "MCQ160F  MCQ160F      4613           48.59\n",
      "MCQ160K  MCQ160K      4613           48.59\n",
      "MCQ160L  MCQ160L      4613           48.59\n",
      "MCQ220    MCQ220      4613           48.59\n",
      "SEQN        SEQN         0            0.00\n"
     ]
    }
   ],
   "source": [
    "med_cond_99_00_missing <- missing_values(med_cond_99_00_selected)\n",
    "print(med_cond_99_00_missing)"
   ]
  },
  {
   "cell_type": "code",
   "execution_count": 93,
   "metadata": {
    "vscode": {
     "languageId": "r"
    }
   },
   "outputs": [
    {
     "name": "stdout",
     "output_type": "stream",
     "text": [
      "        variable n_missing percent_missing\n",
      "MCQ160B  MCQ160B      5060           48.33\n",
      "MCQ160C  MCQ160C      5060           48.33\n",
      "MCQ160F  MCQ160F      5060           48.33\n",
      "MCQ160K  MCQ160K      5060           48.33\n",
      "MCQ160L  MCQ160L      5060           48.33\n",
      "MCQ220    MCQ220      5060           48.33\n",
      "SEQN        SEQN         0            0.00\n"
     ]
    }
   ],
   "source": [
    "med_cond_01_02_missing <- missing_values(med_cond_01_02_selected)\n",
    "print(med_cond_01_02_missing)"
   ]
  },
  {
   "cell_type": "code",
   "execution_count": 94,
   "metadata": {
    "vscode": {
     "languageId": "r"
    }
   },
   "outputs": [
    {
     "name": "stdout",
     "output_type": "stream",
     "text": [
      "       variable n_missing percent_missing\n",
      "DIQ010   DIQ010         5            0.05\n",
      "SEQN       SEQN         0            0.00\n"
     ]
    }
   ],
   "source": [
    "diabetes_99_00_missing <- missing_values(diabetes_99_00_selected)\n",
    "print(diabetes_99_00_missing)"
   ]
  },
  {
   "cell_type": "code",
   "execution_count": 95,
   "metadata": {
    "vscode": {
     "languageId": "r"
    }
   },
   "outputs": [
    {
     "name": "stdout",
     "output_type": "stream",
     "text": [
      "       variable n_missing percent_missing\n",
      "DIQ010   DIQ010         2            0.02\n",
      "SEQN       SEQN         0            0.00\n"
     ]
    }
   ],
   "source": [
    "diabetes_01_02_missing <- missing_values(diabetes_01_02_selected)\n",
    "print(diabetes_01_02_missing)"
   ]
  },
  {
   "cell_type": "code",
   "execution_count": 96,
   "metadata": {
    "vscode": {
     "languageId": "r"
    }
   },
   "outputs": [
    {
     "name": "stdout",
     "output_type": "stream",
     "text": [
      "       variable n_missing percent_missing\n",
      "BPQ020   BPQ020        93            1.54\n",
      "SEQN       SEQN         0            0.00\n"
     ]
    }
   ],
   "source": [
    "blood_pressure_99_00_missing <- missing_values(blood_pressure_99_00_selected)\n",
    "print(blood_pressure_99_00_missing)"
   ]
  },
  {
   "cell_type": "code",
   "execution_count": 97,
   "metadata": {
    "vscode": {
     "languageId": "r"
    }
   },
   "outputs": [
    {
     "name": "stdout",
     "output_type": "stream",
     "text": [
      "       variable n_missing percent_missing\n",
      "BPQ020   BPQ020       100            1.51\n",
      "SEQN       SEQN         0            0.00\n"
     ]
    }
   ],
   "source": [
    "blood_pressure_01_02_missing <- missing_values(blood_pressure_01_02_selected)\n",
    "print(blood_pressure_01_02_missing)"
   ]
  },
  {
   "cell_type": "code",
   "execution_count": 98,
   "metadata": {
    "vscode": {
     "languageId": "r"
    }
   },
   "outputs": [
    {
     "name": "stdout",
     "output_type": "stream",
     "text": [
      "       variable n_missing percent_missing\n",
      "PAQ500   PAQ500      1990           21.66\n",
      "SEQN       SEQN         0            0.00\n"
     ]
    }
   ],
   "source": [
    "physical_99_00_missing <- missing_values(physical_99_00_selected)\n",
    "print(physical_99_00_missing)"
   ]
  },
  {
   "cell_type": "code",
   "execution_count": 99,
   "metadata": {
    "vscode": {
     "languageId": "r"
    }
   },
   "outputs": [
    {
     "name": "stdout",
     "output_type": "stream",
     "text": [
      "       variable n_missing percent_missing\n",
      "PAQ500   PAQ500      2310           22.88\n",
      "SEQN       SEQN         0            0.00\n"
     ]
    }
   ],
   "source": [
    "physical_01_02_missing <- missing_values(physical_01_02_selected)\n",
    "print(physical_01_02_missing)"
   ]
  },
  {
   "cell_type": "code",
   "execution_count": 100,
   "metadata": {
    "vscode": {
     "languageId": "r"
    }
   },
   "outputs": [
    {
     "name": "stdout",
     "output_type": "stream",
     "text": [
      "        variable n_missing percent_missing\n",
      "OHXEDEN  OHXEDEN      8151           94.92\n",
      "SEQN        SEQN         0            0.00\n"
     ]
    }
   ],
   "source": [
    "eden_99_00_missing <- missing_values(eden_99_00_selected)\n",
    "print(eden_99_00_missing)"
   ]
  },
  {
   "cell_type": "code",
   "execution_count": 101,
   "metadata": {
    "vscode": {
     "languageId": "r"
    }
   },
   "outputs": [
    {
     "name": "stdout",
     "output_type": "stream",
     "text": [
      "        variable n_missing percent_missing\n",
      "OHXEDEN  OHXEDEN      9172           95.56\n",
      "SEQN        SEQN         0            0.00\n"
     ]
    }
   ],
   "source": [
    "eden_01_02_missing <- missing_values(eden_01_02_selected)\n",
    "print(eden_01_02_missing)"
   ]
  },
  {
   "cell_type": "code",
   "execution_count": 103,
   "metadata": {
    "vscode": {
     "languageId": "r"
    }
   },
   "outputs": [
    {
     "name": "stdout",
     "output_type": "stream",
     "text": [
      "       variable n_missing percent_missing\n",
      "OHQ080   OHQ080      7364           79.78\n",
      "OHQ100   OHQ100      7364           79.78\n",
      "OHQ110   OHQ110      7364           79.78\n",
      "OHQ040   OHQ040      6898           74.73\n",
      "OHQ020   OHQ020      3787           41.03\n",
      "OHQ050   OHQ050      3457           37.45\n",
      "SEQN       SEQN         0            0.00\n"
     ]
    }
   ],
   "source": [
    "oral_99_00_missing <- missing_values(oral_99_00_selected)\n",
    "print(oral_99_00_missing)"
   ]
  },
  {
   "cell_type": "code",
   "execution_count": 104,
   "metadata": {
    "vscode": {
     "languageId": "r"
    }
   },
   "outputs": [
    {
     "name": "stdout",
     "output_type": "stream",
     "text": [
      "       variable n_missing percent_missing\n",
      "OHQ040   OHQ040      7543           74.48\n",
      "OHQ085   OHQ085      4317           42.63\n",
      "OHQ105   OHQ105      4317           42.63\n",
      "OHQ115   OHQ115      4317           42.63\n",
      "OHQ020   OHQ020      4138           40.86\n",
      "OHQ050   OHQ050      3541           34.97\n",
      "SEQN       SEQN         0            0.00\n"
     ]
    }
   ],
   "source": [
    "oral_01_02_missing <- missing_values(oral_01_02_selected)\n",
    "print(oral_01_02_missing)"
   ]
  },
  {
   "cell_type": "markdown",
   "metadata": {},
   "source": [
    "### Combine Demographics datasets and filter with age >= 60"
   ]
  },
  {
   "cell_type": "code",
   "execution_count": null,
   "metadata": {
    "vscode": {
     "languageId": "r"
    }
   },
   "outputs": [],
   "source": [
    "combined_demo <- bind_rows(demo_99_00_selected, demo_01_02_selected)"
   ]
  },
  {
   "cell_type": "code",
   "execution_count": 119,
   "metadata": {
    "vscode": {
     "languageId": "r"
    }
   },
   "outputs": [
    {
     "data": {
      "text/html": [
       "<style>\n",
       ".list-inline {list-style: none; margin:0; padding: 0}\n",
       ".list-inline>li {display: inline-block}\n",
       ".list-inline>li:not(:last-child)::after {content: \"\\00b7\"; padding: 0 .5ex}\n",
       "</style>\n",
       "<ol class=list-inline><li>21004</li><li>6</li></ol>\n"
      ],
      "text/latex": [
       "\\begin{enumerate*}\n",
       "\\item 21004\n",
       "\\item 6\n",
       "\\end{enumerate*}\n"
      ],
      "text/markdown": [
       "1. 21004\n",
       "2. 6\n",
       "\n",
       "\n"
      ],
      "text/plain": [
       "[1] 21004     6"
      ]
     },
     "metadata": {},
     "output_type": "display_data"
    }
   ],
   "source": [
    "dim(combined_demo)"
   ]
  },
  {
   "cell_type": "code",
   "execution_count": 120,
   "metadata": {
    "vscode": {
     "languageId": "r"
    }
   },
   "outputs": [],
   "source": [
    "elderly_demo_data <- combined_demo %>%\n",
    "  filter(RIDAGEYR >= 60)"
   ]
  },
  {
   "cell_type": "code",
   "execution_count": 123,
   "metadata": {
    "vscode": {
     "languageId": "r"
    }
   },
   "outputs": [
    {
     "data": {
      "text/html": [
       "<style>\n",
       ".list-inline {list-style: none; margin:0; padding: 0}\n",
       ".list-inline>li {display: inline-block}\n",
       ".list-inline>li:not(:last-child)::after {content: \"\\00b7\"; padding: 0 .5ex}\n",
       "</style>\n",
       "<ol class=list-inline><li>3706</li><li>6</li></ol>\n"
      ],
      "text/latex": [
       "\\begin{enumerate*}\n",
       "\\item 3706\n",
       "\\item 6\n",
       "\\end{enumerate*}\n"
      ],
      "text/markdown": [
       "1. 3706\n",
       "2. 6\n",
       "\n",
       "\n"
      ],
      "text/plain": [
       "[1] 3706    6"
      ]
     },
     "metadata": {},
     "output_type": "display_data"
    }
   ],
   "source": [
    "dim(elderly_demo_data)"
   ]
  },
  {
   "cell_type": "markdown",
   "metadata": {},
   "source": [
    "### Next steps"
   ]
  },
  {
   "cell_type": "code",
   "execution_count": null,
   "metadata": {
    "vscode": {
     "languageId": "r"
    }
   },
   "outputs": [],
   "source": [
    "# Feature Engineering\n",
    "\n",
    "process_features <- function(data) {\n",
    "    processed_data <- data %>%\n",
    "        mutate(\n",
    "            gender = factor(x = RIAGENDR, levels = c(1, 2), labels = c(\"Male\", \"Female\"))\n",
    "        ) %>%\n",
    "        mutate(\n",
    "            ethnicity = case_when(\n",
    "                RIDRETH1 == 1 ~ \"Mexican American\",\n",
    "                RIDRETH1 == 2 ~ \"Other Hispanic\",\n",
    "                RIDRETH1 == 3 ~ \"Non-Hispanic White\",\n",
    "                RIDRETH1 == 4 ~ \"Non-Hispanic Black\",\n",
    "                RIDRETH1 == 5 ~ \"Other Race - Including Multi-Racial\",\n",
    "                TRUE ~ NA_character_\n",
    "            ),\n",
    "            ethnicity_num = as.numeric(RIDRETH1)\n",
    "        ) %>%\n",
    "        mutate(\n",
    "            education = case_when(\n",
    "                DMDEDUC2 == 1 ~ \"Less than 9th grade\",\n",
    "                DMDEDUC2 == 2 ~ \"9-11th grade\",\n",
    "                DMDEDUC2 == 3 ~ \"High school graduate/GED\",\n",
    "                DMDEDUC2 == 4 ~ \"Some college or AA degree\",\n",
    "                DMDEDUC2 == 5 ~ \"College graduate or above\",\n",
    "                DMDEDUC2 %in% c(7, 9) ~ NA_character_\n",
    "            ),\n",
    "            education_3cat = case_when(\n",
    "                DMDEDUC2 %in% c(1, 2) ~ \"Less than 12 years\",\n",
    "                DMDEDUC2 == 3 ~ \"12 years\",\n",
    "                DMDEDUC2 %in% c(4, 5) ~ \"More than 12 years\",\n",
    "                TRUE ~ NA_character_\n",
    "            ),\n",
    "            education_years = case_when(\n",
    "                DMDEDUC2 == 1 ~ 8, # Less than 9th grade\n",
    "                DMDEDUC2 == 2 ~ 10, # 9-11th grade\n",
    "                DMDEDUC2 == 3 ~ 12, # High school/GED\n",
    "                DMDEDUC2 == 4 ~ 14, # Some college/AA\n",
    "                DMDEDUC2 == 5 ~ 16, # College graduate\n",
    "                TRUE ~ NA_real_\n",
    "            )\n",
    "        ) %>%\n",
    "        # Binary indicators for each ethnic category\n",
    "        mutate(\n",
    "            is_mexican_american = RIDRETH1 == 1,\n",
    "            is_other_hispanic = RIDRETH1 == 2,\n",
    "            is_nh_white = RIDRETH1 == 3,\n",
    "            is_nh_black = RIDRETH1 == 4,\n",
    "            is_other_race = RIDRETH1 == 5\n",
    "        ) %>%\n",
    "        # Binary indicators for each educational level\n",
    "        mutate(\n",
    "            is_less_than_hs = DMDEDUC2 %in% c(1, 2),\n",
    "            is_hs_grad = DMDEDUC2 == 3,\n",
    "            is_some_college = DMDEDUC2 == 4,\n",
    "            is_college_grad = DMDEDUC2 == 5\n",
    "        ) %>%\n",
    "        mutate(\n",
    "            income_category = case_when(\n",
    "                INDHHIN2 %in% c(1:4) ~ \"Under $20,000\",\n",
    "                INDHHIN2 %in% c(5:7) ~ \"$20,000 to $44,999\",\n",
    "                INDHHIN2 %in% c(8:10) ~ \"$45,000 to $74,999\",\n",
    "                INDHHIN2 == 13 ~ \"$75,000 to $99,999\",\n",
    "                INDHHIN2 == 14 ~ \"$100,000 and Over\",\n",
    "                INDHHIN2 %in% c(77, 99) ~ NA_character_,\n",
    "                TRUE ~ NA_character_\n",
    "            )\n",
    "        ) %>%\n",
    "        mutate(\n",
    "            income_numeric = case_when(\n",
    "                INDHHIN2 == 1 ~ 2500, # $0-$4,999\n",
    "                INDHHIN2 == 2 ~ 7500, # $5,000-$9,999\n",
    "                INDHHIN2 == 3 ~ 12500, # $10,000-$14,999\n",
    "                INDHHIN2 == 4 ~ 17500, # $15,000-$19,999\n",
    "                INDHHIN2 == 5 ~ 22500, # $20,000-$24,999\n",
    "                INDHHIN2 == 6 ~ 30000, # $25,000-$34,999\n",
    "                INDHHIN2 == 7 ~ 40000, # $35,000-$44,999\n",
    "                INDHHIN2 == 8 ~ 50000, # $45,000-$54,999\n",
    "                INDHHIN2 == 9 ~ 60000, # $55,000-$64,999\n",
    "                INDHHIN2 == 10 ~ 70000, # $65,000-$74,999\n",
    "                INDHHIN2 == 13 ~ 87500, # $75,000-$99,999\n",
    "                INDHHIN2 == 14 ~ 125000, # $100,000 and Over\n",
    "                TRUE ~ NA_real_\n",
    "            )\n",
    "        ) %>%\n",
    "        mutate(\n",
    "            permanent_teeth = rowSums(select(., starts_with(\"OHX\") & ends_with(\"TC\")) == 1, na.rm = TRUE),\n",
    "            missing_teeth = rowSums(select(., starts_with(\"OHX\") & ends_with(\"TC\")) == 2, na.rm = TRUE),\n",
    "            root_fragments = rowSums(select(., starts_with(\"OHX\") & ends_with(\"TC\")) == 3, na.rm = TRUE),\n",
    "            perc_permanent = (permanent_teeth / (permanent_teeth + missing_teeth + root_fragments)) * 100,\n",
    "            dental_status = case_when(\n",
    "                permanent_teeth >= 20 ~ \"Adequate dentition\",\n",
    "                permanent_teeth >= 10 ~ \"Partial dentition\",\n",
    "                TRUE ~ \"Poor dentition\"\n",
    "            )\n",
    "        ) %>%\n",
    "        mutate(\n",
    "            periodontal_disease = case_when(\n",
    "                # Definition CDC/AAP as in the paper (this is a simplified example)\n",
    "                rowMeans(select(., ends_with(\"CSC\")), na.rm = TRUE) >= 4 ~ \"Moderate/Severe\",\n",
    "                TRUE ~ \"No/Mild\"\n",
    "            )\n",
    "        )\n",
    "\n",
    "    return(processed_data)\n",
    "}\n"
   ]
  },
  {
   "cell_type": "code",
   "execution_count": null,
   "metadata": {
    "vscode": {
     "languageId": "r"
    }
   },
   "outputs": [],
   "source": [
    "preprocessed_data <- process_features(features_selected)\n",
    "head(preprocessed_data)\n"
   ]
  },
  {
   "cell_type": "markdown",
   "metadata": {},
   "source": [
    "## nhanesA packages functionalities"
   ]
  },
  {
   "cell_type": "markdown",
   "metadata": {},
   "source": [
    "### Create dataframe using NHANES codes"
   ]
  },
  {
   "cell_type": "code",
   "execution_count": null,
   "metadata": {
    "vscode": {
     "languageId": "r"
    }
   },
   "outputs": [],
   "source": [
    "DF <- nhanesA::nhanes(nh_table = \"OHQ\")\n",
    "DF$OHQ080\n"
   ]
  },
  {
   "cell_type": "code",
   "execution_count": null,
   "metadata": {
    "vscode": {
     "languageId": "r"
    }
   },
   "outputs": [],
   "source": [
    "nhanesA::nhanesCodebook(\"OHQ\", \"OHQ080\")\n"
   ]
  },
  {
   "cell_type": "code",
   "execution_count": null,
   "metadata": {
    "vscode": {
     "languageId": "r"
    }
   },
   "outputs": [],
   "source": [
    "head(DF[, c(\"OHQ020\", \"OHQ040\", \"OHQ050\", \"OHQ080\", \"OHQ100\", \"OHQ110\")])\n"
   ]
  },
  {
   "cell_type": "markdown",
   "metadata": {},
   "source": [
    "### How to drop all NA values"
   ]
  },
  {
   "cell_type": "code",
   "execution_count": null,
   "metadata": {
    "vscode": {
     "languageId": "r"
    }
   },
   "outputs": [],
   "source": [
    "DF_filtered <- na.omit(DF[, c(\"OHQ020\", \"OHQ040\", \"OHQ050\", \"OHQ080\", \"OHQ100\", \"OHQ110\")])\n",
    "dim(DF_filtered)\n"
   ]
  },
  {
   "cell_type": "markdown",
   "metadata": {},
   "source": [
    "### Explore Nhanes attributes"
   ]
  },
  {
   "cell_type": "code",
   "execution_count": null,
   "metadata": {
    "vscode": {
     "languageId": "r"
    }
   },
   "outputs": [],
   "source": [
    "attributes_df <- nhanesAttr(nh_table = \"OHQ\")\n",
    "attributes_df\n"
   ]
  },
  {
   "cell_type": "code",
   "execution_count": null,
   "metadata": {
    "vscode": {
     "languageId": "r"
    }
   },
   "outputs": [],
   "source": [
    "attributes_df <- nhanesTableSummary(nh_table = \"OHQ\")\n",
    "attributes_df\n"
   ]
  },
  {
   "cell_type": "markdown",
   "metadata": {},
   "source": [
    "### Display codebook for selected variable"
   ]
  },
  {
   "cell_type": "code",
   "execution_count": null,
   "metadata": {
    "vscode": {
     "languageId": "r"
    }
   },
   "outputs": [],
   "source": [
    "nhanesCodebook(nh_table = \"OHQ\")$OHQ100\n"
   ]
  },
  {
   "cell_type": "code",
   "execution_count": null,
   "metadata": {
    "vscode": {
     "languageId": "r"
    }
   },
   "outputs": [],
   "source": [
    "# You can do the same with nhanesCodebookFromURL: Download and parse an NHANES doc file from a URL\n",
    "\n",
    "nhanesCodebookFromURL(url = \"https://wwwn.cdc.gov/Nchs/Data/Nhanes/Public/2011/DataFiles/OHQ_G.htm\")$OHQ885\n"
   ]
  },
  {
   "cell_type": "code",
   "execution_count": null,
   "metadata": {
    "vscode": {
     "languageId": "r"
    }
   },
   "outputs": [],
   "source": [
    "dxa_c_s <- nhanesDXA(2003, suppl = TRUE)\n",
    "head(dxa_c_s)\n"
   ]
  },
  {
   "cell_type": "markdown",
   "metadata": {},
   "source": [
    "### Download and parse NHANES manifests"
   ]
  },
  {
   "cell_type": "code",
   "execution_count": null,
   "metadata": {
    "vscode": {
     "languageId": "r"
    }
   },
   "outputs": [],
   "source": [
    "manifest <- nhanesManifest(sizes = FALSE)\n",
    "dim(manifest)\n"
   ]
  },
  {
   "cell_type": "code",
   "execution_count": null,
   "metadata": {
    "vscode": {
     "languageId": "r"
    }
   },
   "outputs": [],
   "source": [
    "varmf <- nhanesManifest(\"variables\", component = \"lab\")\n",
    "head(varmf)\n"
   ]
  },
  {
   "cell_type": "markdown",
   "metadata": {},
   "source": [
    "### Perform a search over the comprehensive NHANES variable list"
   ]
  },
  {
   "cell_type": "code",
   "execution_count": null,
   "metadata": {
    "vscode": {
     "languageId": "r"
    }
   },
   "outputs": [],
   "source": [
    "length(bladder)\n"
   ]
  },
  {
   "cell_type": "code",
   "execution_count": null,
   "metadata": {
    "vscode": {
     "languageId": "r"
    }
   },
   "outputs": [],
   "source": [
    "head(bladder)\n"
   ]
  },
  {
   "cell_type": "markdown",
   "metadata": {},
   "source": [
    "### Explore Data Groups such as Questionnarie, Demographics..."
   ]
  },
  {
   "cell_type": "code",
   "execution_count": null,
   "metadata": {
    "vscode": {
     "languageId": "r"
    }
   },
   "outputs": [],
   "source": [
    "nhanesA::nhanesTables(data_group = \"QUESTIONNAIRE\", year = 2000)\n"
   ]
  },
  {
   "cell_type": "code",
   "execution_count": null,
   "metadata": {
    "vscode": {
     "languageId": "r"
    }
   },
   "outputs": [],
   "source": [
    "exam <- nhanesA::nhanesTables(\"QUESTIONNAIRE\", 2000)\n",
    "dim(exam)\n"
   ]
  },
  {
   "cell_type": "code",
   "execution_count": null,
   "metadata": {
    "vscode": {
     "languageId": "r"
    }
   },
   "outputs": [],
   "source": [
    "nhanesA::nhanesTableSummary(\"DEMO_D\", use = \"codebook\")\n"
   ]
  },
  {
   "cell_type": "code",
   "execution_count": null,
   "metadata": {
    "vscode": {
     "languageId": "r"
    }
   },
   "outputs": [],
   "source": [
    "# Displays a list of variables in the specified NHANES table.\n",
    "exam_ohx <- nhanesTableVars(\"EXAM\", \"OHX_E\", details = TRUE, nchar = 50)\n",
    "dim(exam_ohx)\n"
   ]
  },
  {
   "cell_type": "code",
   "execution_count": null,
   "metadata": {
    "vscode": {
     "languageId": "r"
    }
   },
   "outputs": [],
   "source": [
    "head(exam_ohx)\n"
   ]
  },
  {
   "cell_type": "code",
   "execution_count": null,
   "metadata": {
    "vscode": {
     "languageId": "r"
    }
   },
   "outputs": [],
   "source": [
    "# Display code translation information.\n",
    "\n",
    "nhanesTranslate(\"DEMO_B\", c(\"DMDBORN\", \"DMDCITZN\"))\n"
   ]
  }
 ],
 "metadata": {
  "kernelspec": {
   "display_name": "R",
   "language": "R",
   "name": "ir"
  },
  "language_info": {
   "codemirror_mode": "r",
   "file_extension": ".r",
   "mimetype": "text/x-r-source",
   "name": "R",
   "pygments_lexer": "r",
   "version": "4.4.2"
  }
 },
 "nbformat": 4,
 "nbformat_minor": 2
}
