{
 "cells": [
  {
   "cell_type": "markdown",
   "metadata": {},
   "source": [
    "# NHANES project: descriptive and regression analysis\n",
    "> This notebook has the purpose to collect all the analysis on Nhanes dataset for a medical paper project \n",
    "\n",
    "Requirements and Information:\n",
    "1. Nhanes dataset from 1999/00 to 2001/02\n",
    "2. Oral Frailty Index with:\n",
    "    - 1: Do you have any difficulties eating tough foods compared to 6 months ago? (OHQ080)\n",
    "    - 2: Have you choked on your tea or soup recently? (OHQ100 and OHQ105)\n",
    "    - 3: Do you use dentures? (OHXEDEN)\n",
    "    - 4: Do you often have a dry mouth?\t(OHQ110)\n",
    "    - 5: Do you go out less frequently than you did last year? (PAQ500)\n",
    "    - 6: Can you eat hard foods like squid jerky or pickled radish?\t(OHQ020)\n",
    "    - 7: How many times do you brush your teeth in a day? (3 or more times/day)\t(OHQ040 and OHQ010)\n",
    "    - 8:  Do you visit a dental clinic at least annually? (OHQ050)\n",
    "3. Outcome/Exposure is\n",
    "4. Demographic Data:\n",
    "    - Gender (RIAGENDR)\n",
    "    - Age at screening (RIDAGEYR)\n",
    "    - Race (RIDRETH1)\n",
    "    - Education\t(DMDEDUC2)\n",
    "    - Poverty income ratio (INDFMPIR)\n",
    "    - Smoking status (SMQ020)\n",
    "5. Confounding Variables:\n",
    "    - Heart failure\t(RIDRETH1)  \n",
    "    - Coronary heart disease (MCQ160b)\n",
    "    - Stroke (MCQ160c)\n",
    "    - COPD (MCQ160f)\n",
    "    - Liver disease\t(MCQ160o)\n",
    "    - Cancer (MCQ500)\n",
    "    - Diabetes (MCQ220)\n",
    "    - High blood pressure (DIQ010)\n",
    "6. Age => 60 \n",
    "7. Oral Frailty Index cutoff: \n",
    "8. Oral Frailty Index groups:"
   ]
  },
  {
   "cell_type": "markdown",
   "metadata": {},
   "source": [
    "## Install packages\n",
    "\n",
    "Reference for nhanesA [here](https://cran.r-project.org/web/packages/nhanesA/nhanesA.pdf)"
   ]
  },
  {
   "cell_type": "code",
   "execution_count": null,
   "metadata": {
    "vscode": {
     "languageId": "r"
    }
   },
   "outputs": [],
   "source": [
    "install.packages(c(\"nhanesA\", \"survey\", \"MASS\", \"dplyr\", \"tidyr\", \"tidyverse\"))\n"
   ]
  },
  {
   "cell_type": "code",
   "execution_count": null,
   "metadata": {
    "vscode": {
     "languageId": "r"
    }
   },
   "outputs": [],
   "source": [
    "install.packages(\"devtools\")\n",
    "devtools::install_github(\"cjendres1/nhanes\")\n"
   ]
  },
  {
   "cell_type": "markdown",
   "metadata": {},
   "source": [
    "## Load packages"
   ]
  },
  {
   "cell_type": "code",
   "execution_count": 5,
   "metadata": {
    "vscode": {
     "languageId": "r"
    }
   },
   "outputs": [
    {
     "name": "stderr",
     "output_type": "stream",
     "text": [
      "Loading required package: grid\n",
      "\n",
      "Loading required package: Matrix\n",
      "\n",
      "Loading required package: survival\n",
      "\n",
      "\n",
      "Attaching package: 'survey'\n",
      "\n",
      "\n",
      "The following object is masked from 'package:graphics':\n",
      "\n",
      "    dotchart\n",
      "\n",
      "\n",
      "\n",
      "Attaching package: 'dplyr'\n",
      "\n",
      "\n",
      "The following object is masked from 'package:MASS':\n",
      "\n",
      "    select\n",
      "\n",
      "\n",
      "The following objects are masked from 'package:stats':\n",
      "\n",
      "    filter, lag\n",
      "\n",
      "\n",
      "The following objects are masked from 'package:base':\n",
      "\n",
      "    intersect, setdiff, setequal, union\n",
      "\n",
      "\n",
      "\n",
      "Attaching package: 'tidyr'\n",
      "\n",
      "\n",
      "The following objects are masked from 'package:Matrix':\n",
      "\n",
      "    expand, pack, unpack\n",
      "\n",
      "\n",
      "-- \u001b[1mAttaching core tidyverse packages\u001b[22m ------------------------ tidyverse 2.0.0 --\n",
      "\u001b[32mv\u001b[39m \u001b[34mforcats  \u001b[39m 1.0.0     \u001b[32mv\u001b[39m \u001b[34mreadr    \u001b[39m 2.1.5\n",
      "\u001b[32mv\u001b[39m \u001b[34mggplot2  \u001b[39m 3.5.1     \u001b[32mv\u001b[39m \u001b[34mstringr  \u001b[39m 1.5.1\n",
      "\u001b[32mv\u001b[39m \u001b[34mlubridate\u001b[39m 1.9.4     \u001b[32mv\u001b[39m \u001b[34mtibble   \u001b[39m 3.2.1\n",
      "\u001b[32mv\u001b[39m \u001b[34mpurrr    \u001b[39m 1.0.2     \n",
      "-- \u001b[1mConflicts\u001b[22m ------------------------------------------ tidyverse_conflicts() --\n",
      "\u001b[31mx\u001b[39m \u001b[34mtidyr\u001b[39m::\u001b[32mexpand()\u001b[39m masks \u001b[34mMatrix\u001b[39m::expand()\n",
      "\u001b[31mx\u001b[39m \u001b[34mdplyr\u001b[39m::\u001b[32mfilter()\u001b[39m masks \u001b[34mstats\u001b[39m::filter()\n",
      "\u001b[31mx\u001b[39m \u001b[34mdplyr\u001b[39m::\u001b[32mlag()\u001b[39m    masks \u001b[34mstats\u001b[39m::lag()\n",
      "\u001b[31mx\u001b[39m \u001b[34mtidyr\u001b[39m::\u001b[32mpack()\u001b[39m   masks \u001b[34mMatrix\u001b[39m::pack()\n",
      "\u001b[31mx\u001b[39m \u001b[34mdplyr\u001b[39m::\u001b[32mselect()\u001b[39m masks \u001b[34mMASS\u001b[39m::select()\n",
      "\u001b[31mx\u001b[39m \u001b[34mtidyr\u001b[39m::\u001b[32munpack()\u001b[39m masks \u001b[34mMatrix\u001b[39m::unpack()\n",
      "\u001b[36mi\u001b[39m Use the conflicted package (\u001b[3m\u001b[34m<http://conflicted.r-lib.org/>\u001b[39m\u001b[23m) to force all conflicts to become errors\n"
     ]
    }
   ],
   "source": [
    "library(nhanesA)\n",
    "library(survey)\n",
    "library(MASS)\n",
    "library(dplyr)\n",
    "library(tidyr)\n",
    "library(tidyverse)\n",
    "library(ggplot2)"
   ]
  },
  {
   "cell_type": "markdown",
   "metadata": {},
   "source": [
    "## Load NHANES data (1999/00-2001/02)"
   ]
  },
  {
   "cell_type": "code",
   "execution_count": 5,
   "metadata": {
    "vscode": {
     "languageId": "r"
    }
   },
   "outputs": [],
   "source": [
    "# The browser may be directed to a specific year, survey, or table\n",
    "\n",
    "browseNHANES(\n",
    "    year = 1999,\n",
    "    data_group = \"DEMO\"\n",
    ")\n"
   ]
  },
  {
   "cell_type": "code",
   "execution_count": 6,
   "metadata": {
    "vscode": {
     "languageId": "r"
    }
   },
   "outputs": [],
   "source": [
    "# Demographics data\n",
    "\n",
    "demo_99_00 <- nhanes(nh_table = \"DEMO\")\n",
    "demo_01_02 <- nhanes(nh_table = \"DEMO_B\")\n"
   ]
  },
  {
   "cell_type": "code",
   "execution_count": null,
   "metadata": {
    "vscode": {
     "languageId": "r"
    }
   },
   "outputs": [],
   "source": [
    "nhanesTableSummary(\"DEMO\", use = \"codebook\")"
   ]
  },
  {
   "cell_type": "code",
   "execution_count": 8,
   "metadata": {
    "vscode": {
     "languageId": "r"
    }
   },
   "outputs": [],
   "source": [
    "# Smoking status\n",
    "\n",
    "smoking_99_00 <- nhanes(nh_table = \"SMQ\")\n",
    "smoking_01_02 <- nhanes(nh_table = \"SMQ_B\")"
   ]
  },
  {
   "cell_type": "code",
   "execution_count": 9,
   "metadata": {
    "vscode": {
     "languageId": "r"
    }
   },
   "outputs": [],
   "source": [
    "# Oral data\n",
    "\n",
    "oral_99_00 <- nhanes(\"OHQ\")\n",
    "oral_01_02 <- nhanes(\"OHQ_B\")"
   ]
  },
  {
   "cell_type": "code",
   "execution_count": 10,
   "metadata": {
    "vscode": {
     "languageId": "r"
    }
   },
   "outputs": [],
   "source": [
    "# Physical Activity\n",
    "\n",
    "physical_99_00 <- nhanes(nh_table = \"PAQ\")\n",
    "physical_01_02 <- nhanes(nh_table = \"PAQ_B\")"
   ]
  },
  {
   "cell_type": "code",
   "execution_count": 11,
   "metadata": {
    "vscode": {
     "languageId": "r"
    }
   },
   "outputs": [],
   "source": [
    "# Medical Conditions\n",
    "\n",
    "med_cond_99_00 <- nhanes(\"MCQ\")\n",
    "med_cond_01_02 <- nhanes(\"MCQ_B\")"
   ]
  },
  {
   "cell_type": "code",
   "execution_count": 12,
   "metadata": {
    "vscode": {
     "languageId": "r"
    }
   },
   "outputs": [],
   "source": [
    "# Diabetes\n",
    "\n",
    "diabetes_99_00 <- nhanes(nh_table = \"DIQ\")\n",
    "diabetes_01_02 <- nhanes(nh_table = \"DIQ_B\")"
   ]
  },
  {
   "cell_type": "code",
   "execution_count": 13,
   "metadata": {
    "vscode": {
     "languageId": "r"
    }
   },
   "outputs": [],
   "source": [
    "# High blood pressure\n",
    "\n",
    "blood_pressure_99_00 <- nhanes(nh_table = \"BPQ\")\n",
    "blood_pressure_01_02 <- nhanes(nh_table = \"BPQ_B\")"
   ]
  },
  {
   "cell_type": "code",
   "execution_count": 14,
   "metadata": {
    "vscode": {
     "languageId": "r"
    }
   },
   "outputs": [],
   "source": [
    "# Edentulous\n",
    "\n",
    "eden_99_00 <- nhanes(nh_table = \"OHXDENT\")\n",
    "eden_01_02 <- nhanes(nh_table = \"OHXDEN_B\")"
   ]
  },
  {
   "cell_type": "markdown",
   "metadata": {},
   "source": [
    "## Data Preparation"
   ]
  },
  {
   "cell_type": "markdown",
   "metadata": {},
   "source": [
    "### Features Selection"
   ]
  },
  {
   "cell_type": "code",
   "execution_count": 23,
   "metadata": {
    "vscode": {
     "languageId": "r"
    }
   },
   "outputs": [],
   "source": [
    "# Demographics selection: RIAGENDR, RIDAGEYR, RIDRETH1, DMDEDUC2, INDFMPIR\n",
    "\n",
    "demo_99_00_selected <- demo_99_00 %>%\n",
    "    select(SEQN, RIAGENDR, RIDAGEYR, RIDRETH1, DMDEDUC2, INDFMPIR)\n",
    "\n",
    "demo_01_02_selected <- demo_01_02 %>%\n",
    "    select(SEQN, RIAGENDR, RIDAGEYR, RIDRETH1, DMDEDUC2, INDFMPIR)"
   ]
  },
  {
   "cell_type": "code",
   "execution_count": 24,
   "metadata": {
    "vscode": {
     "languageId": "r"
    }
   },
   "outputs": [],
   "source": [
    "# Smoking Status selection: SMQ020\n",
    "\n",
    "smoking_99_00_selected <- smoking_99_00 %>%\n",
    "    select(SEQN, SMQ020)\n",
    "\n",
    "smoking_01_02_selected <- smoking_01_02 %>%\n",
    "    select(SEQN, SMQ020)"
   ]
  },
  {
   "cell_type": "code",
   "execution_count": 25,
   "metadata": {
    "vscode": {
     "languageId": "r"
    }
   },
   "outputs": [],
   "source": [
    "# Medical Conditions selection: MCQ160B, MCQ160C, MCQ160F, MCQ160K, MCQ160L, MCQ220\n",
    "\n",
    "med_cond_99_00_selected <- med_cond_99_00 %>%\n",
    "    select(SEQN, MCQ160B, MCQ160C, MCQ160F, MCQ160K, MCQ160L, MCQ220)\n",
    "\n",
    "med_cond_01_02_selected <- med_cond_01_02 %>%\n",
    "    select(SEQN, MCQ160B, MCQ160C, MCQ160F, MCQ160K, MCQ160L, MCQ220)"
   ]
  },
  {
   "cell_type": "code",
   "execution_count": 26,
   "metadata": {
    "vscode": {
     "languageId": "r"
    }
   },
   "outputs": [],
   "source": [
    "# Diabetes selection: DIQ010\n",
    "\n",
    "diabetes_99_00_selected <- diabetes_99_00 %>%\n",
    "    select(SEQN, DIQ010)\n",
    "\n",
    "diabetes_01_02_selected <- diabetes_01_02 %>%\n",
    "    select(SEQN, DIQ010)"
   ]
  },
  {
   "cell_type": "code",
   "execution_count": 27,
   "metadata": {
    "vscode": {
     "languageId": "r"
    }
   },
   "outputs": [],
   "source": [
    "# High blood pressure selection: BPQ020\n",
    "\n",
    "blood_pressure_99_00_selected <- blood_pressure_99_00 %>%\n",
    "    select(SEQN, BPQ020)\n",
    "\n",
    "blood_pressure_01_02_selected <- blood_pressure_01_02 %>%\n",
    "    select(SEQN, BPQ020)"
   ]
  },
  {
   "cell_type": "code",
   "execution_count": 28,
   "metadata": {
    "vscode": {
     "languageId": "r"
    }
   },
   "outputs": [],
   "source": [
    "# Physical Activity selection: PAQ500\n",
    "\n",
    "physical_99_00_selected <- physical_99_00 %>%\n",
    "    select(SEQN, PAQ500)\n",
    "\n",
    "physical_01_02_selected <- physical_01_02 %>%\n",
    "    select(SEQN, PAQ500)"
   ]
  },
  {
   "cell_type": "code",
   "execution_count": 29,
   "metadata": {
    "vscode": {
     "languageId": "r"
    }
   },
   "outputs": [],
   "source": [
    "# Edentulous selection: OHXEDEN\n",
    "\n",
    "eden_99_00_selected <- eden_99_00 %>%\n",
    "    select(SEQN, OHXEDEN)\n",
    "\n",
    "eden_01_02_selected <- eden_01_02 %>%\n",
    "    select(SEQN, OHXEDEN)"
   ]
  },
  {
   "cell_type": "code",
   "execution_count": 30,
   "metadata": {
    "vscode": {
     "languageId": "r"
    }
   },
   "outputs": [],
   "source": [
    "# Oral data selection: OHQ080/OHQ085, OHQ100/OHQ105, OHQ110/OHQ115, OHQ020, OHQ040/OHQ010, OHQ050\n",
    "\n",
    "oral_99_00_selected <- oral_99_00 %>%\n",
    "    select(SEQN, OHQ080, OHQ100, OHQ110, OHQ020, OHQ040, OHQ050)\n",
    "\n",
    "oral_01_02_selected <- oral_01_02 %>%\n",
    "    select(SEQN, OHQ085, OHQ105, OHQ115, OHQ020, OHQ040, OHQ050)"
   ]
  },
  {
   "cell_type": "markdown",
   "metadata": {},
   "source": [
    "### Data Information"
   ]
  },
  {
   "cell_type": "code",
   "execution_count": 31,
   "metadata": {
    "vscode": {
     "languageId": "r"
    }
   },
   "outputs": [],
   "source": [
    "# Function to show dataset information\n",
    "\n",
    "print_dataset_info <- function(df, name) {\n",
    "    cat(sprintf(\"\\nDataset: %s\\n\", name))\n",
    "    cat(sprintf(\"Number of rows: %d\\n\", nrow(df)))\n",
    "    cat(sprintf(\"Number of columns: %d\\n\", ncol(df)))\n",
    "    cat(sprintf(\"Memory usage: %.2f MB\\n\", object.size(df) / 1024^2))\n",
    "    cat(\"\\nColumn details:\\n\")\n",
    "    for (col_name in colnames(df)) {\n",
    "        cat(sprintf(\"- %s: %s\\n\", col_name, class(df[[col_name]])))\n",
    "    }\n",
    "}\n"
   ]
  },
  {
   "cell_type": "code",
   "execution_count": 32,
   "metadata": {
    "vscode": {
     "languageId": "r"
    }
   },
   "outputs": [
    {
     "name": "stdout",
     "output_type": "stream",
     "text": [
      "\n",
      "Dataset: Demographics 1999-2000\n",
      "Number of rows: 9965\n",
      "Number of columns: 6\n",
      "Memory usage: 0.35 MB\n",
      "\n",
      "Column details:\n",
      "- SEQN: numeric\n",
      "- RIAGENDR: factor\n",
      "- RIDAGEYR: numeric\n",
      "- RIDRETH1: factor\n",
      "- DMDEDUC2: factor\n",
      "- INDFMPIR: numeric\n"
     ]
    }
   ],
   "source": [
    "print_dataset_info(demo_99_00_selected, \"Demographics 1999-2000\")"
   ]
  },
  {
   "cell_type": "code",
   "execution_count": 33,
   "metadata": {
    "vscode": {
     "languageId": "r"
    }
   },
   "outputs": [
    {
     "name": "stdout",
     "output_type": "stream",
     "text": [
      "\n",
      "Dataset: Demographics 2001-2002\n",
      "Number of rows: 11039\n",
      "Number of columns: 6\n",
      "Memory usage: 0.38 MB\n",
      "\n",
      "Column details:\n",
      "- SEQN: numeric\n",
      "- RIAGENDR: factor\n",
      "- RIDAGEYR: numeric\n",
      "- RIDRETH1: factor\n",
      "- DMDEDUC2: factor\n",
      "- INDFMPIR: numeric\n"
     ]
    }
   ],
   "source": [
    "print_dataset_info(demo_01_02_selected, \"Demographics 2001-2002\")"
   ]
  },
  {
   "cell_type": "code",
   "execution_count": 34,
   "metadata": {
    "vscode": {
     "languageId": "r"
    }
   },
   "outputs": [
    {
     "name": "stdout",
     "output_type": "stream",
     "text": [
      "\n",
      "Dataset: Smoking Status 1999-2000\n",
      "Number of rows: 4880\n",
      "Number of columns: 2\n",
      "Memory usage: 0.06 MB\n",
      "\n",
      "Column details:\n",
      "- SEQN: numeric\n",
      "- SMQ020: factor\n"
     ]
    }
   ],
   "source": [
    "print_dataset_info(smoking_99_00_selected, \"Smoking Status 1999-2000\")"
   ]
  },
  {
   "cell_type": "code",
   "execution_count": 35,
   "metadata": {
    "vscode": {
     "languageId": "r"
    }
   },
   "outputs": [
    {
     "name": "stdout",
     "output_type": "stream",
     "text": [
      "\n",
      "Dataset: Smoking Status 2001-2002\n",
      "Number of rows: 5411\n",
      "Number of columns: 2\n",
      "Memory usage: 0.06 MB\n",
      "\n",
      "Column details:\n",
      "- SEQN: numeric\n",
      "- SMQ020: factor\n"
     ]
    }
   ],
   "source": [
    "print_dataset_info(smoking_01_02_selected, \"Smoking Status 2001-2002\")"
   ]
  },
  {
   "cell_type": "code",
   "execution_count": 36,
   "metadata": {
    "vscode": {
     "languageId": "r"
    }
   },
   "outputs": [
    {
     "name": "stdout",
     "output_type": "stream",
     "text": [
      "\n",
      "Dataset: Medical Conditions 1999-2000\n",
      "Number of rows: 9493\n",
      "Number of columns: 7\n",
      "Memory usage: 0.29 MB\n",
      "\n",
      "Column details:\n",
      "- SEQN: numeric\n",
      "- MCQ160B: factor\n",
      "- MCQ160C: factor\n",
      "- MCQ160F: factor\n",
      "- MCQ160K: factor\n",
      "- MCQ160L: factor\n",
      "- MCQ220: factor\n"
     ]
    }
   ],
   "source": [
    "print_dataset_info(med_cond_99_00_selected, \"Medical Conditions 1999-2000\")"
   ]
  },
  {
   "cell_type": "code",
   "execution_count": 37,
   "metadata": {
    "vscode": {
     "languageId": "r"
    }
   },
   "outputs": [
    {
     "name": "stdout",
     "output_type": "stream",
     "text": [
      "\n",
      "Dataset: Medical Conditions 2001-2002\n",
      "Number of rows: 10470\n",
      "Number of columns: 7\n",
      "Memory usage: 0.32 MB\n",
      "\n",
      "Column details:\n",
      "- SEQN: numeric\n",
      "- MCQ160B: factor\n",
      "- MCQ160C: factor\n",
      "- MCQ160F: factor\n",
      "- MCQ160K: factor\n",
      "- MCQ160L: factor\n",
      "- MCQ220: factor\n"
     ]
    }
   ],
   "source": [
    "print_dataset_info(med_cond_01_02_selected, \"Medical Conditions 2001-2002\")"
   ]
  },
  {
   "cell_type": "code",
   "execution_count": 38,
   "metadata": {
    "vscode": {
     "languageId": "r"
    }
   },
   "outputs": [
    {
     "name": "stdout",
     "output_type": "stream",
     "text": [
      "\n",
      "Dataset: Diabetes 1999-2000\n",
      "Number of rows: 9493\n",
      "Number of columns: 2\n",
      "Memory usage: 0.11 MB\n",
      "\n",
      "Column details:\n",
      "- SEQN: numeric\n",
      "- DIQ010: factor\n"
     ]
    }
   ],
   "source": [
    "print_dataset_info(diabetes_99_00_selected, \"Diabetes 1999-2000\")"
   ]
  },
  {
   "cell_type": "code",
   "execution_count": 39,
   "metadata": {
    "vscode": {
     "languageId": "r"
    }
   },
   "outputs": [
    {
     "name": "stdout",
     "output_type": "stream",
     "text": [
      "\n",
      "Dataset: Diabetes 2001-2002\n",
      "Number of rows: 10470\n",
      "Number of columns: 2\n",
      "Memory usage: 0.12 MB\n",
      "\n",
      "Column details:\n",
      "- SEQN: numeric\n",
      "- DIQ010: factor\n"
     ]
    }
   ],
   "source": [
    "print_dataset_info(diabetes_01_02_selected, \"Diabetes 2001-2002\")"
   ]
  },
  {
   "cell_type": "code",
   "execution_count": 40,
   "metadata": {
    "vscode": {
     "languageId": "r"
    }
   },
   "outputs": [
    {
     "name": "stdout",
     "output_type": "stream",
     "text": [
      "\n",
      "Dataset: High Blood Pressure 1999-2000\n",
      "Number of rows: 6044\n",
      "Number of columns: 2\n",
      "Memory usage: 0.07 MB\n",
      "\n",
      "Column details:\n",
      "- SEQN: numeric\n",
      "- BPQ020: factor\n"
     ]
    }
   ],
   "source": [
    "print_dataset_info(blood_pressure_99_00_selected, \"High Blood Pressure 1999-2000\")"
   ]
  },
  {
   "cell_type": "code",
   "execution_count": 41,
   "metadata": {
    "vscode": {
     "languageId": "r"
    }
   },
   "outputs": [
    {
     "name": "stdout",
     "output_type": "stream",
     "text": [
      "\n",
      "Dataset: High Blood Pressure 2001-2002\n",
      "Number of rows: 6634\n",
      "Number of columns: 2\n",
      "Memory usage: 0.08 MB\n",
      "\n",
      "Column details:\n",
      "- SEQN: numeric\n",
      "- BPQ020: factor\n"
     ]
    }
   ],
   "source": [
    "print_dataset_info(blood_pressure_01_02_selected, \"High Blood Pressure 2001-2002\")"
   ]
  },
  {
   "cell_type": "code",
   "execution_count": 42,
   "metadata": {
    "vscode": {
     "languageId": "r"
    }
   },
   "outputs": [
    {
     "name": "stdout",
     "output_type": "stream",
     "text": [
      "\n",
      "Dataset: Physical Activities 1999-2000\n",
      "Number of rows: 9188\n",
      "Number of columns: 2\n",
      "Memory usage: 0.11 MB\n",
      "\n",
      "Column details:\n",
      "- SEQN: numeric\n",
      "- PAQ500: factor\n"
     ]
    }
   ],
   "source": [
    "print_dataset_info(physical_99_00_selected, \"Physical Activities 1999-2000\")"
   ]
  },
  {
   "cell_type": "code",
   "execution_count": 43,
   "metadata": {
    "vscode": {
     "languageId": "r"
    }
   },
   "outputs": [
    {
     "name": "stdout",
     "output_type": "stream",
     "text": [
      "\n",
      "Dataset: Physical Activities 2001-2002\n",
      "Number of rows: 10094\n",
      "Number of columns: 2\n",
      "Memory usage: 0.12 MB\n",
      "\n",
      "Column details:\n",
      "- SEQN: numeric\n",
      "- PAQ500: factor\n"
     ]
    }
   ],
   "source": [
    "print_dataset_info(physical_01_02_selected, \"Physical Activities 2001-2002\")"
   ]
  },
  {
   "cell_type": "code",
   "execution_count": 44,
   "metadata": {
    "vscode": {
     "languageId": "r"
    }
   },
   "outputs": [
    {
     "name": "stdout",
     "output_type": "stream",
     "text": [
      "\n",
      "Dataset: Edentulous 1999-2000\n",
      "Number of rows: 8587\n",
      "Number of columns: 2\n",
      "Memory usage: 0.10 MB\n",
      "\n",
      "Column details:\n",
      "- SEQN: numeric\n",
      "- OHXEDEN: factor\n"
     ]
    }
   ],
   "source": [
    "print_dataset_info(eden_99_00_selected, \"Edentulous 1999-2000\")"
   ]
  },
  {
   "cell_type": "code",
   "execution_count": 45,
   "metadata": {
    "vscode": {
     "languageId": "r"
    }
   },
   "outputs": [
    {
     "name": "stdout",
     "output_type": "stream",
     "text": [
      "\n",
      "Dataset: Edentulous 2001-2002\n",
      "Number of rows: 9598\n",
      "Number of columns: 2\n",
      "Memory usage: 0.11 MB\n",
      "\n",
      "Column details:\n",
      "- SEQN: numeric\n",
      "- OHXEDEN: factor\n"
     ]
    }
   ],
   "source": [
    "print_dataset_info(eden_01_02_selected, \"Edentulous 2001-2002\")"
   ]
  },
  {
   "cell_type": "code",
   "execution_count": 46,
   "metadata": {
    "vscode": {
     "languageId": "r"
    }
   },
   "outputs": [
    {
     "name": "stdout",
     "output_type": "stream",
     "text": [
      "\n",
      "Dataset: Oral Health 1999-2000\n",
      "Number of rows: 9230\n",
      "Number of columns: 7\n",
      "Memory usage: 0.29 MB\n",
      "\n",
      "Column details:\n",
      "- SEQN: numeric\n",
      "- OHQ080: factor\n",
      "- OHQ100: factor\n",
      "- OHQ110: factor\n",
      "- OHQ020: factor\n",
      "- OHQ040: factor\n",
      "- OHQ050: factor\n"
     ]
    }
   ],
   "source": [
    "print_dataset_info(oral_99_00_selected, \"Oral Health 1999-2000\")"
   ]
  },
  {
   "cell_type": "code",
   "execution_count": 47,
   "metadata": {
    "vscode": {
     "languageId": "r"
    }
   },
   "outputs": [
    {
     "name": "stdout",
     "output_type": "stream",
     "text": [
      "\n",
      "Dataset: Oral Health 2001-2002\n",
      "Number of rows: 10127\n",
      "Number of columns: 7\n",
      "Memory usage: 0.31 MB\n",
      "\n",
      "Column details:\n",
      "- SEQN: numeric\n",
      "- OHQ085: factor\n",
      "- OHQ105: factor\n",
      "- OHQ115: factor\n",
      "- OHQ020: factor\n",
      "- OHQ040: factor\n",
      "- OHQ050: factor\n"
     ]
    }
   ],
   "source": [
    "print_dataset_info(oral_01_02_selected, \"Oral Health 2001-2002\")"
   ]
  },
  {
   "cell_type": "markdown",
   "metadata": {},
   "source": [
    "### Unique values and % for each categorical feature in the datasets"
   ]
  },
  {
   "cell_type": "code",
   "execution_count": 48,
   "metadata": {
    "vscode": {
     "languageId": "r"
    }
   },
   "outputs": [],
   "source": [
    "# Function to see unique values for categorical features\n",
    "\n",
    "print_categorical_info <- function(df, name) {\n",
    "  cat(sprintf(\"\\nCategorical Column Analysis for Dataset: %s\\n\", name))\n",
    "\n",
    "  categorical_cols <- names(df)[sapply(df, is.factor) | sapply(df, is.character)]\n",
    "\n",
    "  if (length(categorical_cols) == 0) {\n",
    "    cat(\"No categorical columns found.\\n\")\n",
    "    return()\n",
    "  }\n",
    "\n",
    "  for (col_name in categorical_cols) {\n",
    "    cat(sprintf(\"\\nColumn: %s\\n\", col_name))\n",
    "    value_counts <- table(df[[col_name]])  \n",
    "    total_count <- sum(value_counts)      \n",
    "    percentages <- round(100 * value_counts / total_count, 2) \n",
    "\n",
    "    for (i in seq_along(value_counts)) {\n",
    "      cat(sprintf(\"- %s: %d (%.2f%%)\\n\", names(value_counts)[i], value_counts[i], percentages[i]))\n",
    "    }\n",
    "  }\n",
    "}"
   ]
  },
  {
   "cell_type": "code",
   "execution_count": 49,
   "metadata": {
    "vscode": {
     "languageId": "r"
    }
   },
   "outputs": [
    {
     "name": "stdout",
     "output_type": "stream",
     "text": [
      "\n",
      "Categorical Column Analysis for Dataset: Demographics 1999-2000\n",
      "\n",
      "Column: RIAGENDR\n",
      "- Male: 4883 (49.00%)\n",
      "- Female: 5082 (51.00%)\n",
      "\n",
      "Column: RIDRETH1\n",
      "- Mexican American: 3393 (34.05%)\n",
      "- Other Hispanic: 589 (5.91%)\n",
      "- Non-Hispanic White: 3367 (33.79%)\n",
      "- Non-Hispanic Black: 2228 (22.36%)\n",
      "- Other Race - Including Multi-Racial: 388 (3.89%)\n",
      "\n",
      "Column: DMDEDUC2\n",
      "- Less Than 9th Grade: 932 (19.11%)\n",
      "- 9-11th Grade (Includes 12th grade with no diploma): 964 (19.76%)\n",
      "- High School Grad/GED or Equivalent: 1097 (22.49%)\n",
      "- Some College or AA degree: 1070 (21.94%)\n",
      "- College Graduate or above: 793 (16.26%)\n",
      "- Refused: 8 (0.16%)\n",
      "- Don't Know: 14 (0.29%)\n"
     ]
    }
   ],
   "source": [
    "print_categorical_info(demo_99_00_selected, \"Demographics 1999-2000\")"
   ]
  },
  {
   "cell_type": "code",
   "execution_count": 50,
   "metadata": {
    "vscode": {
     "languageId": "r"
    }
   },
   "outputs": [
    {
     "name": "stdout",
     "output_type": "stream",
     "text": [
      "\n",
      "Categorical Column Analysis for Dataset: Demographics 2001-2002\n",
      "\n",
      "Column: RIAGENDR\n",
      "- Male: 5331 (48.29%)\n",
      "- Female: 5708 (51.71%)\n",
      "\n",
      "Column: RIDRETH1\n",
      "- Mexican American: 2776 (25.15%)\n",
      "- Other Hispanic: 517 (4.68%)\n",
      "- Non-Hispanic White: 4606 (41.72%)\n",
      "- Non-Hispanic Black: 2681 (24.29%)\n",
      "- Other Race - Including Multi-Racial: 459 (4.16%)\n",
      "\n",
      "Column: DMDEDUC2\n",
      "- Less Than 9th Grade: 797 (14.74%)\n",
      "- 9-11th Grade (Includes 12th grade with no diploma): 870 (16.09%)\n",
      "- High School Grad/GED or Equivalent: 1265 (23.40%)\n",
      "- Some College or AA degree: 1379 (25.50%)\n",
      "- College Graduate or above: 1079 (19.96%)\n",
      "- Refused: 5 (0.09%)\n",
      "- Don't Know: 12 (0.22%)\n"
     ]
    }
   ],
   "source": [
    "print_categorical_info(demo_01_02_selected, \"Demographics 2001-2002\")"
   ]
  },
  {
   "cell_type": "code",
   "execution_count": 51,
   "metadata": {
    "vscode": {
     "languageId": "r"
    }
   },
   "outputs": [
    {
     "name": "stdout",
     "output_type": "stream",
     "text": [
      "\n",
      "Categorical Column Analysis for Dataset: Smoking Status 1999-2000\n",
      "\n",
      "Column: SMQ020\n",
      "- Yes: 2299 (47.14%)\n",
      "- No: 2566 (52.61%)\n",
      "- Refused: 4 (0.08%)\n",
      "- Don't know: 8 (0.16%)\n"
     ]
    }
   ],
   "source": [
    "print_categorical_info(smoking_99_00_selected, \"Smoking Status 1999-2000\")"
   ]
  },
  {
   "cell_type": "code",
   "execution_count": 52,
   "metadata": {
    "vscode": {
     "languageId": "r"
    }
   },
   "outputs": [
    {
     "name": "stdout",
     "output_type": "stream",
     "text": [
      "\n",
      "Categorical Column Analysis for Dataset: Smoking Status 2001-2002\n",
      "\n",
      "Column: SMQ020\n",
      "- Yes: 2596 (48.01%)\n",
      "- No: 2801 (51.80%)\n",
      "- Refused: 4 (0.07%)\n",
      "- Don't know: 6 (0.11%)\n"
     ]
    }
   ],
   "source": [
    "print_categorical_info(smoking_01_02_selected, \"Smoking Status 2001-2002\")"
   ]
  },
  {
   "cell_type": "code",
   "execution_count": 53,
   "metadata": {
    "vscode": {
     "languageId": "r"
    }
   },
   "outputs": [
    {
     "name": "stdout",
     "output_type": "stream",
     "text": [
      "\n",
      "Categorical Column Analysis for Dataset: Medical Conditions 1999-2000\n",
      "\n",
      "Column: MCQ160B\n",
      "- Yes: 167 (3.42%)\n",
      "- No: 4689 (96.09%)\n",
      "- Refused: 1 (0.02%)\n",
      "- Don't know: 23 (0.47%)\n",
      "\n",
      "Column: MCQ160C\n",
      "- Yes: 203 (4.16%)\n",
      "- No: 4644 (95.16%)\n",
      "- Refused: 2 (0.04%)\n",
      "- Don't know: 31 (0.64%)\n",
      "\n",
      "Column: MCQ160F\n",
      "- Yes: 190 (3.89%)\n",
      "- No: 4687 (96.05%)\n",
      "- Don't know: 3 (0.06%)\n",
      "\n",
      "Column: MCQ160K\n",
      "- Yes: 299 (6.13%)\n",
      "- No: 4573 (93.71%)\n",
      "- Don't know: 8 (0.16%)\n",
      "\n",
      "Column: MCQ160L\n",
      "- Yes: 153 (3.14%)\n",
      "- No: 4715 (96.62%)\n",
      "- Don't know: 12 (0.25%)\n",
      "\n",
      "Column: MCQ220\n",
      "- Yes: 386 (7.91%)\n",
      "- No: 4489 (91.99%)\n",
      "- Don't know: 5 (0.10%)\n"
     ]
    }
   ],
   "source": [
    "print_categorical_info(med_cond_99_00_selected, \"Medical Conditions 1999-2000\")"
   ]
  },
  {
   "cell_type": "code",
   "execution_count": 54,
   "metadata": {
    "vscode": {
     "languageId": "r"
    }
   },
   "outputs": [
    {
     "name": "stdout",
     "output_type": "stream",
     "text": [
      "\n",
      "Categorical Column Analysis for Dataset: Medical Conditions 2001-2002\n",
      "\n",
      "Column: MCQ160B\n",
      "- Yes: 187 (3.46%)\n",
      "- No: 5200 (96.12%)\n",
      "- Refused: 1 (0.02%)\n",
      "- Don't know: 22 (0.41%)\n",
      "\n",
      "Column: MCQ160C\n",
      "- Yes: 240 (4.44%)\n",
      "- No: 5131 (94.84%)\n",
      "- Refused: 1 (0.02%)\n",
      "- Don't know: 38 (0.70%)\n",
      "\n",
      "Column: MCQ160F\n",
      "- Yes: 204 (3.77%)\n",
      "- No: 5197 (96.06%)\n",
      "- Don't know: 9 (0.17%)\n",
      "\n",
      "Column: MCQ160K\n",
      "- Yes: 291 (5.38%)\n",
      "- No: 5103 (94.33%)\n",
      "- Don't know: 16 (0.30%)\n",
      "\n",
      "Column: MCQ160L\n",
      "- Yes: 158 (2.92%)\n",
      "- No: 5241 (96.88%)\n",
      "- Don't know: 11 (0.20%)\n",
      "\n",
      "Column: MCQ220\n",
      "- Yes: 520 (9.61%)\n",
      "- No: 4883 (90.26%)\n",
      "- Don't know: 7 (0.13%)\n"
     ]
    }
   ],
   "source": [
    "print_categorical_info(med_cond_01_02_selected, \"Medical Conditions 2001-2002\")"
   ]
  },
  {
   "cell_type": "code",
   "execution_count": 55,
   "metadata": {
    "vscode": {
     "languageId": "r"
    }
   },
   "outputs": [
    {
     "name": "stdout",
     "output_type": "stream",
     "text": [
      "\n",
      "Categorical Column Analysis for Dataset: Diabetes 1999-2000\n",
      "\n",
      "Column: DIQ010\n",
      "- Yes: 489 (5.15%)\n",
      "- No: 8936 (94.18%)\n",
      "- Borderline: 58 (0.61%)\n",
      "- Refused: 1 (0.01%)\n",
      "- Don't know: 4 (0.04%)\n"
     ]
    }
   ],
   "source": [
    "print_categorical_info(diabetes_99_00_selected, \"Diabetes 1999-2000\")"
   ]
  },
  {
   "cell_type": "code",
   "execution_count": 56,
   "metadata": {
    "vscode": {
     "languageId": "r"
    }
   },
   "outputs": [
    {
     "name": "stdout",
     "output_type": "stream",
     "text": [
      "\n",
      "Categorical Column Analysis for Dataset: Diabetes 2001-2002\n",
      "\n",
      "Column: DIQ010\n",
      "- Yes: 528 (5.04%)\n",
      "- No: 9861 (94.20%)\n",
      "- Borderline: 78 (0.75%)\n",
      "- Don't know: 1 (0.01%)\n"
     ]
    }
   ],
   "source": [
    "print_categorical_info(diabetes_01_02_selected, \"Diabetes 2001-2002\")"
   ]
  },
  {
   "cell_type": "code",
   "execution_count": 57,
   "metadata": {
    "vscode": {
     "languageId": "r"
    }
   },
   "outputs": [
    {
     "name": "stdout",
     "output_type": "stream",
     "text": [
      "\n",
      "Categorical Column Analysis for Dataset: High Blood Pressure 1999-2000\n",
      "\n",
      "Column: BPQ020\n",
      "- Yes: 1532 (25.74%)\n",
      "- No: 4408 (74.07%)\n",
      "- Don't know: 11 (0.18%)\n"
     ]
    }
   ],
   "source": [
    "print_categorical_info(blood_pressure_99_00_selected, \"High Blood Pressure 1999-2000\")"
   ]
  },
  {
   "cell_type": "code",
   "execution_count": 58,
   "metadata": {
    "vscode": {
     "languageId": "r"
    }
   },
   "outputs": [
    {
     "name": "stdout",
     "output_type": "stream",
     "text": [
      "\n",
      "Categorical Column Analysis for Dataset: High Blood Pressure 2001-2002\n",
      "\n",
      "Column: BPQ020\n",
      "- Yes: 1681 (25.73%)\n",
      "- No: 4843 (74.12%)\n",
      "- Don't know: 10 (0.15%)\n"
     ]
    }
   ],
   "source": [
    "print_categorical_info(blood_pressure_01_02_selected, \"High Blood Pressure 2001-2002\")"
   ]
  },
  {
   "cell_type": "code",
   "execution_count": 59,
   "metadata": {
    "vscode": {
     "languageId": "r"
    }
   },
   "outputs": [
    {
     "name": "stdout",
     "output_type": "stream",
     "text": [
      "\n",
      "Categorical Column Analysis for Dataset: Physical Activities 1999-2000\n",
      "\n",
      "Column: PAQ500\n",
      "- more active: 1316 (18.28%)\n",
      "- less active, or: 1406 (19.53%)\n",
      "- About the same?: 4467 (62.06%)\n",
      "- Refused: 6 (0.08%)\n",
      "- Don't know: 3 (0.04%)\n"
     ]
    }
   ],
   "source": [
    "print_categorical_info(physical_99_00_selected, \"Physical Activities 1999-2000\")"
   ]
  },
  {
   "cell_type": "code",
   "execution_count": 60,
   "metadata": {
    "vscode": {
     "languageId": "r"
    }
   },
   "outputs": [
    {
     "name": "stdout",
     "output_type": "stream",
     "text": [
      "\n",
      "Categorical Column Analysis for Dataset: Physical Activities 2001-2002\n",
      "\n",
      "Column: PAQ500\n",
      "- more active: 1399 (17.97%)\n",
      "- less active, or: 1598 (20.53%)\n",
      "- About the same?: 4779 (61.40%)\n",
      "- Refused: 4 (0.05%)\n",
      "- Don't know: 4 (0.05%)\n"
     ]
    }
   ],
   "source": [
    "print_categorical_info(physical_01_02_selected, \"Physical Activities 2001-2002\")"
   ]
  },
  {
   "cell_type": "code",
   "execution_count": 61,
   "metadata": {
    "vscode": {
     "languageId": "r"
    }
   },
   "outputs": [
    {
     "name": "stdout",
     "output_type": "stream",
     "text": [
      "\n",
      "Categorical Column Analysis for Dataset: Edentulous 1999-2000\n",
      "\n",
      "Column: OHXEDEN\n",
      "- Yes: 418 (95.87%)\n",
      "- No: 18 (4.13%)\n"
     ]
    }
   ],
   "source": [
    "print_categorical_info(eden_99_00_selected, \"Edentulous 1999-2000\")"
   ]
  },
  {
   "cell_type": "code",
   "execution_count": 62,
   "metadata": {
    "vscode": {
     "languageId": "r"
    }
   },
   "outputs": [
    {
     "name": "stdout",
     "output_type": "stream",
     "text": [
      "\n",
      "Categorical Column Analysis for Dataset: Edentulous 2001-2002\n",
      "\n",
      "Column: OHXEDEN\n",
      "- Yes: 425 (99.77%)\n",
      "- No: 1 (0.23%)\n"
     ]
    }
   ],
   "source": [
    "print_categorical_info(eden_01_02_selected, \"Edentulous 2001-2002\")"
   ]
  },
  {
   "cell_type": "code",
   "execution_count": 63,
   "metadata": {
    "vscode": {
     "languageId": "r"
    }
   },
   "outputs": [
    {
     "name": "stdout",
     "output_type": "stream",
     "text": [
      "\n",
      "Categorical Column Analysis for Dataset: Oral Health 1999-2000\n",
      "\n",
      "Column: OHQ080\n",
      "- Yes: 147 (7.88%)\n",
      "- No: 1718 (92.07%)\n",
      "- Don't know: 1 (0.05%)\n",
      "\n",
      "Column: OHQ100\n",
      "- Yes: 128 (6.86%)\n",
      "- No: 1738 (93.14%)\n",
      "\n",
      "Column: OHQ110\n",
      "- Yes: 95 (5.09%)\n",
      "- No: 1765 (94.59%)\n",
      "- Don't know: 6 (0.32%)\n",
      "\n",
      "Column: OHQ020\n",
      "- Always,: 108 (1.98%)\n",
      "- Very often,: 97 (1.78%)\n",
      "- Often,: 146 (2.68%)\n",
      "- Sometimes,: 535 (9.83%)\n",
      "- Seldom, or: 552 (10.14%)\n",
      "- Never?: 3998 (73.45%)\n",
      "- Refused: 5 (0.09%)\n",
      "- Don't know: 2 (0.04%)\n",
      "\n",
      "Column: OHQ040\n",
      "- Yes: 1163 (49.87%)\n",
      "- No: 1155 (49.53%)\n",
      "- Refused: 5 (0.21%)\n",
      "- Don't know: 9 (0.39%)\n",
      "\n",
      "Column: OHQ050\n",
      "- 2 or more times a year: 2685 (46.51%)\n",
      "- Once a year: 1684 (29.17%)\n",
      "- Less than once a year: 502 (8.70%)\n",
      "- Whenever needed, no regular schedule: 894 (15.49%)\n",
      "- Refused: 1 (0.02%)\n",
      "- Don't know: 7 (0.12%)\n"
     ]
    }
   ],
   "source": [
    "print_categorical_info(oral_99_00_selected, \"Oral Health 1999-2000\")"
   ]
  },
  {
   "cell_type": "code",
   "execution_count": 64,
   "metadata": {
    "vscode": {
     "languageId": "r"
    }
   },
   "outputs": [
    {
     "name": "stdout",
     "output_type": "stream",
     "text": [
      "\n",
      "Categorical Column Analysis for Dataset: Oral Health 2001-2002\n",
      "\n",
      "Column: OHQ085\n",
      "- Yes: 413 (7.11%)\n",
      "- No: 5394 (92.84%)\n",
      "- Refused: 3 (0.05%)\n",
      "\n",
      "Column: OHQ105\n",
      "- Yes: 270 (4.65%)\n",
      "- No: 5533 (95.23%)\n",
      "- Refused: 3 (0.05%)\n",
      "- Don't know: 4 (0.07%)\n",
      "\n",
      "Column: OHQ115\n",
      "- Yes: 278 (4.78%)\n",
      "- No: 5517 (94.96%)\n",
      "- Refused: 3 (0.05%)\n",
      "- Don't know: 12 (0.21%)\n",
      "\n",
      "Column: OHQ020\n",
      "- Always,: 91 (1.52%)\n",
      "- Very often,: 124 (2.07%)\n",
      "- Often,: 133 (2.22%)\n",
      "- Sometimes,: 518 (8.65%)\n",
      "- Seldom, or: 624 (10.42%)\n",
      "- Never?: 4490 (74.97%)\n",
      "- Refused: 4 (0.07%)\n",
      "- Don't know: 5 (0.08%)\n",
      "\n",
      "Column: OHQ040\n",
      "- Yes: 1419 (54.91%)\n",
      "- No: 1155 (44.70%)\n",
      "- Refused: 3 (0.12%)\n",
      "- Don't know: 7 (0.27%)\n",
      "\n",
      "Column: OHQ050\n",
      "- 2 or more times a year: 3286 (49.89%)\n",
      "- Once a year: 1786 (27.12%)\n",
      "- Less than once a year: 479 (7.27%)\n",
      "- Whenever needed, no regular schedule: 1029 (15.62%)\n",
      "- Don't know: 6 (0.09%)\n"
     ]
    }
   ],
   "source": [
    "print_categorical_info(oral_01_02_selected, \"Oral Health 2001-2002\")"
   ]
  },
  {
   "cell_type": "markdown",
   "metadata": {},
   "source": [
    "### Missing Values and % for each dataset"
   ]
  },
  {
   "cell_type": "code",
   "execution_count": 66,
   "metadata": {
    "vscode": {
     "languageId": "r"
    }
   },
   "outputs": [],
   "source": [
    "# Function to calculate missing values\n",
    "\n",
    "missing_values <- function(df) {\n",
    "  missing_count <- colSums(is.na(df))\n",
    "  missing_percent <- (missing_count/nrow(df)) * 100\n",
    "\n",
    "  missing_df <- data.frame(\n",
    "    variable = names(missing_count),\n",
    "    n_missing = missing_count,\n",
    "    percent_missing = round(missing_percent, 2)\n",
    "  ) %>%\n",
    "    arrange(desc(n_missing))\n",
    "\n",
    "  return(missing_df)\n",
    "}"
   ]
  },
  {
   "cell_type": "code",
   "execution_count": 67,
   "metadata": {
    "vscode": {
     "languageId": "r"
    }
   },
   "outputs": [
    {
     "name": "stdout",
     "output_type": "stream",
     "text": [
      "         variable n_missing percent_missing\n",
      "DMDEDUC2 DMDEDUC2      5087           51.05\n",
      "INDFMPIR INDFMPIR      1483           14.88\n",
      "SEQN         SEQN         0            0.00\n",
      "RIAGENDR RIAGENDR         0            0.00\n",
      "RIDAGEYR RIDAGEYR         0            0.00\n",
      "RIDRETH1 RIDRETH1         0            0.00\n"
     ]
    }
   ],
   "source": [
    "demo_99_00_missing <- missing_values(demo_99_00_selected)\n",
    "print(demo_99_00_missing)"
   ]
  },
  {
   "cell_type": "code",
   "execution_count": 68,
   "metadata": {
    "vscode": {
     "languageId": "r"
    }
   },
   "outputs": [
    {
     "name": "stdout",
     "output_type": "stream",
     "text": [
      "         variable n_missing percent_missing\n",
      "DMDEDUC2 DMDEDUC2      5632           51.02\n",
      "INDFMPIR INDFMPIR       794            7.19\n",
      "SEQN         SEQN         0            0.00\n",
      "RIAGENDR RIAGENDR         0            0.00\n",
      "RIDAGEYR RIDAGEYR         0            0.00\n",
      "RIDRETH1 RIDRETH1         0            0.00\n"
     ]
    }
   ],
   "source": [
    "demo_01_02_missing <- missing_values(demo_01_02_selected)\n",
    "print(demo_01_02_missing)"
   ]
  },
  {
   "cell_type": "code",
   "execution_count": 69,
   "metadata": {
    "vscode": {
     "languageId": "r"
    }
   },
   "outputs": [
    {
     "name": "stdout",
     "output_type": "stream",
     "text": [
      "       variable n_missing percent_missing\n",
      "SMQ020   SMQ020         3            0.06\n",
      "SEQN       SEQN         0            0.00\n"
     ]
    }
   ],
   "source": [
    "smoking_99_00_missing <- missing_values(smoking_99_00_selected)\n",
    "print(smoking_99_00_missing)"
   ]
  },
  {
   "cell_type": "code",
   "execution_count": 70,
   "metadata": {
    "vscode": {
     "languageId": "r"
    }
   },
   "outputs": [
    {
     "name": "stdout",
     "output_type": "stream",
     "text": [
      "       variable n_missing percent_missing\n",
      "SMQ020   SMQ020         4            0.07\n",
      "SEQN       SEQN         0            0.00\n"
     ]
    }
   ],
   "source": [
    "smoking_01_02_missing <- missing_values(smoking_01_02_selected)\n",
    "print(smoking_01_02_missing)"
   ]
  },
  {
   "cell_type": "code",
   "execution_count": 71,
   "metadata": {
    "vscode": {
     "languageId": "r"
    }
   },
   "outputs": [
    {
     "name": "stdout",
     "output_type": "stream",
     "text": [
      "        variable n_missing percent_missing\n",
      "MCQ160B  MCQ160B      4613           48.59\n",
      "MCQ160C  MCQ160C      4613           48.59\n",
      "MCQ160F  MCQ160F      4613           48.59\n",
      "MCQ160K  MCQ160K      4613           48.59\n",
      "MCQ160L  MCQ160L      4613           48.59\n",
      "MCQ220    MCQ220      4613           48.59\n",
      "SEQN        SEQN         0            0.00\n"
     ]
    }
   ],
   "source": [
    "med_cond_99_00_missing <- missing_values(med_cond_99_00_selected)\n",
    "print(med_cond_99_00_missing)"
   ]
  },
  {
   "cell_type": "code",
   "execution_count": 72,
   "metadata": {
    "vscode": {
     "languageId": "r"
    }
   },
   "outputs": [
    {
     "name": "stdout",
     "output_type": "stream",
     "text": [
      "        variable n_missing percent_missing\n",
      "MCQ160B  MCQ160B      5060           48.33\n",
      "MCQ160C  MCQ160C      5060           48.33\n",
      "MCQ160F  MCQ160F      5060           48.33\n",
      "MCQ160K  MCQ160K      5060           48.33\n",
      "MCQ160L  MCQ160L      5060           48.33\n",
      "MCQ220    MCQ220      5060           48.33\n",
      "SEQN        SEQN         0            0.00\n"
     ]
    }
   ],
   "source": [
    "med_cond_01_02_missing <- missing_values(med_cond_01_02_selected)\n",
    "print(med_cond_01_02_missing)"
   ]
  },
  {
   "cell_type": "code",
   "execution_count": 73,
   "metadata": {
    "vscode": {
     "languageId": "r"
    }
   },
   "outputs": [
    {
     "name": "stdout",
     "output_type": "stream",
     "text": [
      "       variable n_missing percent_missing\n",
      "DIQ010   DIQ010         5            0.05\n",
      "SEQN       SEQN         0            0.00\n"
     ]
    }
   ],
   "source": [
    "diabetes_99_00_missing <- missing_values(diabetes_99_00_selected)\n",
    "print(diabetes_99_00_missing)"
   ]
  },
  {
   "cell_type": "code",
   "execution_count": 74,
   "metadata": {
    "vscode": {
     "languageId": "r"
    }
   },
   "outputs": [
    {
     "name": "stdout",
     "output_type": "stream",
     "text": [
      "       variable n_missing percent_missing\n",
      "DIQ010   DIQ010         2            0.02\n",
      "SEQN       SEQN         0            0.00\n"
     ]
    }
   ],
   "source": [
    "diabetes_01_02_missing <- missing_values(diabetes_01_02_selected)\n",
    "print(diabetes_01_02_missing)"
   ]
  },
  {
   "cell_type": "code",
   "execution_count": 75,
   "metadata": {
    "vscode": {
     "languageId": "r"
    }
   },
   "outputs": [
    {
     "name": "stdout",
     "output_type": "stream",
     "text": [
      "       variable n_missing percent_missing\n",
      "BPQ020   BPQ020        93            1.54\n",
      "SEQN       SEQN         0            0.00\n"
     ]
    }
   ],
   "source": [
    "blood_pressure_99_00_missing <- missing_values(blood_pressure_99_00_selected)\n",
    "print(blood_pressure_99_00_missing)"
   ]
  },
  {
   "cell_type": "code",
   "execution_count": 76,
   "metadata": {
    "vscode": {
     "languageId": "r"
    }
   },
   "outputs": [
    {
     "name": "stdout",
     "output_type": "stream",
     "text": [
      "       variable n_missing percent_missing\n",
      "BPQ020   BPQ020       100            1.51\n",
      "SEQN       SEQN         0            0.00\n"
     ]
    }
   ],
   "source": [
    "blood_pressure_01_02_missing <- missing_values(blood_pressure_01_02_selected)\n",
    "print(blood_pressure_01_02_missing)"
   ]
  },
  {
   "cell_type": "code",
   "execution_count": 77,
   "metadata": {
    "vscode": {
     "languageId": "r"
    }
   },
   "outputs": [
    {
     "name": "stdout",
     "output_type": "stream",
     "text": [
      "       variable n_missing percent_missing\n",
      "PAQ500   PAQ500      1990           21.66\n",
      "SEQN       SEQN         0            0.00\n"
     ]
    }
   ],
   "source": [
    "physical_99_00_missing <- missing_values(physical_99_00_selected)\n",
    "print(physical_99_00_missing)"
   ]
  },
  {
   "cell_type": "code",
   "execution_count": 78,
   "metadata": {
    "vscode": {
     "languageId": "r"
    }
   },
   "outputs": [
    {
     "name": "stdout",
     "output_type": "stream",
     "text": [
      "       variable n_missing percent_missing\n",
      "PAQ500   PAQ500      2310           22.88\n",
      "SEQN       SEQN         0            0.00\n"
     ]
    }
   ],
   "source": [
    "physical_01_02_missing <- missing_values(physical_01_02_selected)\n",
    "print(physical_01_02_missing)"
   ]
  },
  {
   "cell_type": "code",
   "execution_count": 79,
   "metadata": {
    "vscode": {
     "languageId": "r"
    }
   },
   "outputs": [
    {
     "name": "stdout",
     "output_type": "stream",
     "text": [
      "        variable n_missing percent_missing\n",
      "OHXEDEN  OHXEDEN      8151           94.92\n",
      "SEQN        SEQN         0            0.00\n"
     ]
    }
   ],
   "source": [
    "eden_99_00_missing <- missing_values(eden_99_00_selected)\n",
    "print(eden_99_00_missing)"
   ]
  },
  {
   "cell_type": "code",
   "execution_count": 80,
   "metadata": {
    "vscode": {
     "languageId": "r"
    }
   },
   "outputs": [
    {
     "name": "stdout",
     "output_type": "stream",
     "text": [
      "        variable n_missing percent_missing\n",
      "OHXEDEN  OHXEDEN      9172           95.56\n",
      "SEQN        SEQN         0            0.00\n"
     ]
    }
   ],
   "source": [
    "eden_01_02_missing <- missing_values(eden_01_02_selected)\n",
    "print(eden_01_02_missing)"
   ]
  },
  {
   "cell_type": "code",
   "execution_count": 81,
   "metadata": {
    "vscode": {
     "languageId": "r"
    }
   },
   "outputs": [
    {
     "name": "stdout",
     "output_type": "stream",
     "text": [
      "       variable n_missing percent_missing\n",
      "OHQ080   OHQ080      7364           79.78\n",
      "OHQ100   OHQ100      7364           79.78\n",
      "OHQ110   OHQ110      7364           79.78\n",
      "OHQ040   OHQ040      6898           74.73\n",
      "OHQ020   OHQ020      3787           41.03\n",
      "OHQ050   OHQ050      3457           37.45\n",
      "SEQN       SEQN         0            0.00\n"
     ]
    }
   ],
   "source": [
    "oral_99_00_missing <- missing_values(oral_99_00_selected)\n",
    "print(oral_99_00_missing)"
   ]
  },
  {
   "cell_type": "code",
   "execution_count": 82,
   "metadata": {
    "vscode": {
     "languageId": "r"
    }
   },
   "outputs": [
    {
     "name": "stdout",
     "output_type": "stream",
     "text": [
      "       variable n_missing percent_missing\n",
      "OHQ040   OHQ040      7543           74.48\n",
      "OHQ085   OHQ085      4317           42.63\n",
      "OHQ105   OHQ105      4317           42.63\n",
      "OHQ115   OHQ115      4317           42.63\n",
      "OHQ020   OHQ020      4138           40.86\n",
      "OHQ050   OHQ050      3541           34.97\n",
      "SEQN       SEQN         0            0.00\n"
     ]
    }
   ],
   "source": [
    "oral_01_02_missing <- missing_values(oral_01_02_selected)\n",
    "print(oral_01_02_missing)"
   ]
  },
  {
   "cell_type": "markdown",
   "metadata": {},
   "source": [
    "#### Merge all df with missing data information for each period and plot results"
   ]
  },
  {
   "cell_type": "code",
   "execution_count": 160,
   "metadata": {
    "vscode": {
     "languageId": "r"
    }
   },
   "outputs": [],
   "source": [
    "missing_99_00 <- bind_rows(\n",
    "  oral_99_00_missing, eden_99_00_missing, physical_99_00_missing,\n",
    "  blood_pressure_99_00_missing, diabetes_99_00_missing, med_cond_99_00_missing,\n",
    "  smoking_99_00_missing, demo_99_00_missing\n",
    ") %>%\n",
    "  mutate(period = \"1999-2000\")\n",
    "\n",
    "missing_01_02 <- bind_rows(\n",
    "  oral_01_02_missing, eden_01_02_missing, physical_01_02_missing,\n",
    "  blood_pressure_01_02_missing, diabetes_01_02_missing, med_cond_01_02_missing,\n",
    "  smoking_01_02_missing, demo_01_02_missing\n",
    ") %>%\n",
    "  mutate(period = \"2001-2002\")"
   ]
  },
  {
   "cell_type": "code",
   "execution_count": null,
   "metadata": {
    "vscode": {
     "languageId": "r"
    }
   },
   "outputs": [],
   "source": [
    "missing_data <- bind_rows(missing_99_00, missing_01_02)\n",
    "\n",
    "missing_data <- missing_data %>%\n",
    "mutate(variable_label = paste0(variable, \" (\", round(percent_missing, 1), \"%)\"))"
   ]
  },
  {
   "cell_type": "code",
   "execution_count": 178,
   "metadata": {
    "vscode": {
     "languageId": "r"
    }
   },
   "outputs": [
    {
     "data": {
      "image/png": "[encoded data removed]",
      "text/plain": [
       "plot without title"
      ]
     },
     "metadata": {
      "image/png": {
       "height": 720,
       "width": 900
      }
     },
     "output_type": "display_data"
    }
   ],
   "source": [
    "options(repr.plot.width=15, repr.plot.height=12)\n",
    "\n",
    "ggplot(missing_data, aes(x = reorder(variable_label, -n_missing), y = n_missing, fill = period)) + \n",
    "  geom_col(position = 'dodge') + \n",
    "  coord_flip() + \n",
    "  labs(title = \"Missing Data for each Variable\",\n",
    "       x = \"Variables\",\n",
    "       y = \"Number of missing values\") + \n",
    "  theme_minimal() + \n",
    "  theme(\n",
    "    plot.title = element_text(size = 22, face = \"bold\"),  \n",
    "    axis.text.y = element_text(size = 16, face = \"bold\"),  \n",
    "    axis.text.x = element_text(size = 16),\n",
    "    axis.title.x = element_text(size = 14),\n",
    "    axis.title.y = element_text(size = 14),\n",
    "    legend.text = element_text(size = 16),\n",
    "    legend.title = element_text(size = 16)\n",
    "  ) +\n",
    "  scale_fill_manual(values = c(\"1999-2000\" = \"#E69F00\", \"2001-2002\" = \"#56B4E9\"))"
   ]
  },
  {
   "cell_type": "markdown",
   "metadata": {},
   "source": [
    "### Merge datasets in a one and complete data frame \n",
    "\n",
    "Steps:\n",
    "1. Horizontal union for the period 1999-2000\n",
    "2. Horizontal union for the period 2001-2002\n",
    "3. Vertical union of the two periods\n",
    "4. Filter with Age >= 60"
   ]
  },
  {
   "cell_type": "code",
   "execution_count": 137,
   "metadata": {
    "vscode": {
     "languageId": "r"
    }
   },
   "outputs": [
    {
     "data": {
      "text/html": [
       "<style>\n",
       ".list-inline {list-style: none; margin:0; padding: 0}\n",
       ".list-inline>li {display: inline-block}\n",
       ".list-inline>li:not(:last-child)::after {content: \"\\00b7\"; padding: 0 .5ex}\n",
       "</style>\n",
       "<ol class=list-inline><li>'SEQN'</li><li>'OHQ080'</li><li>'OHQ100'</li><li>'OHQ110'</li><li>'OHQ020'</li><li>'OHQ040'</li><li>'OHQ050'</li></ol>\n"
      ],
      "text/latex": [
       "\\begin{enumerate*}\n",
       "\\item 'SEQN'\n",
       "\\item 'OHQ080'\n",
       "\\item 'OHQ100'\n",
       "\\item 'OHQ110'\n",
       "\\item 'OHQ020'\n",
       "\\item 'OHQ040'\n",
       "\\item 'OHQ050'\n",
       "\\end{enumerate*}\n"
      ],
      "text/markdown": [
       "1. 'SEQN'\n",
       "2. 'OHQ080'\n",
       "3. 'OHQ100'\n",
       "4. 'OHQ110'\n",
       "5. 'OHQ020'\n",
       "6. 'OHQ040'\n",
       "7. 'OHQ050'\n",
       "\n",
       "\n"
      ],
      "text/plain": [
       "[1] \"SEQN\"   \"OHQ080\" \"OHQ100\" \"OHQ110\" \"OHQ020\" \"OHQ040\" \"OHQ050\""
      ]
     },
     "metadata": {},
     "output_type": "display_data"
    }
   ],
   "source": [
    "# Rename the following features that are the same of each df but with different names:\n",
    "# OHQ080 e OHQ085\n",
    "# OHQ100 e OHQ105\n",
    "# OHQ0110 e OHQ115\n",
    "\n",
    "oral_01_02_selected_renamed <- oral_01_02_selected %>%\n",
    "  rename(OHQ080 = OHQ085, OHQ100 = OHQ105, OHQ110 = OHQ115)\n",
    "\n",
    "colnames(oral_01_02_selected_renamed)"
   ]
  },
  {
   "cell_type": "code",
   "execution_count": 153,
   "metadata": {
    "vscode": {
     "languageId": "r"
    }
   },
   "outputs": [],
   "source": [
    "datasets_99_00 <- list(\n",
    "  demo_99_00_selected, smoking_99_00_selected, med_cond_99_00_selected,\n",
    "  diabetes_99_00_selected, blood_pressure_99_00_selected, physical_99_00_selected,\n",
    "  eden_99_00_selected, oral_99_00_selected\n",
    ")\n",
    "\n",
    "datasets_01_02 <- list(\n",
    "  demo_01_02_selected, smoking_01_02_selected, med_cond_01_02_selected,\n",
    "  diabetes_01_02_selected, blood_pressure_01_02_selected, physical_01_02_selected,\n",
    "  eden_01_02_selected, oral_01_02_selected_renamed\n",
    ")\n",
    "\n",
    "# Horizontal union for period 1999/00 and 2001/02\n",
    "\n",
    "df_99_00 <- Reduce(function(x, y) full_join(x, y, by = \"SEQN\"), datasets_99_00)\n",
    "\n",
    "df_01_02 <- Reduce(function(x, y) full_join(x, y, by = \"SEQN\"), datasets_01_02)"
   ]
  },
  {
   "cell_type": "code",
   "execution_count": 154,
   "metadata": {
    "vscode": {
     "languageId": "r"
    }
   },
   "outputs": [
    {
     "data": {
      "text/html": [
       "<style>\n",
       ".list-inline {list-style: none; margin:0; padding: 0}\n",
       ".list-inline>li {display: inline-block}\n",
       ".list-inline>li:not(:last-child)::after {content: \"\\00b7\"; padding: 0 .5ex}\n",
       "</style>\n",
       "<ol class=list-inline><li>21004</li><li>23</li></ol>\n"
      ],
      "text/latex": [
       "\\begin{enumerate*}\n",
       "\\item 21004\n",
       "\\item 23\n",
       "\\end{enumerate*}\n"
      ],
      "text/markdown": [
       "1. 21004\n",
       "2. 23\n",
       "\n",
       "\n"
      ],
      "text/plain": [
       "[1] 21004    23"
      ]
     },
     "metadata": {},
     "output_type": "display_data"
    }
   ],
   "source": [
    "# Vertical union for these two periods\n",
    "\n",
    "df_final <- bind_rows(df_99_00, df_01_02)\n",
    "\n",
    "dim(df_final)"
   ]
  },
  {
   "cell_type": "code",
   "execution_count": 155,
   "metadata": {
    "vscode": {
     "languageId": "r"
    }
   },
   "outputs": [
    {
     "data": {
      "text/html": [
       "<table class=\"dataframe\">\n",
       "<caption>A data.frame: 6 x 23</caption>\n",
       "<thead>\n",
       "\t<tr><th></th><th scope=col>SEQN</th><th scope=col>RIAGENDR</th><th scope=col>RIDAGEYR</th><th scope=col>RIDRETH1</th><th scope=col>DMDEDUC2</th><th scope=col>INDFMPIR</th><th scope=col>SMQ020</th><th scope=col>MCQ160B</th><th scope=col>MCQ160C</th><th scope=col>MCQ160F</th><th scope=col>...</th><th scope=col>DIQ010</th><th scope=col>BPQ020</th><th scope=col>PAQ500</th><th scope=col>OHXEDEN</th><th scope=col>OHQ080</th><th scope=col>OHQ100</th><th scope=col>OHQ110</th><th scope=col>OHQ020</th><th scope=col>OHQ040</th><th scope=col>OHQ050</th></tr>\n",
       "\t<tr><th></th><th scope=col>&lt;dbl&gt;</th><th scope=col>&lt;fct&gt;</th><th scope=col>&lt;dbl&gt;</th><th scope=col>&lt;fct&gt;</th><th scope=col>&lt;fct&gt;</th><th scope=col>&lt;dbl&gt;</th><th scope=col>&lt;fct&gt;</th><th scope=col>&lt;fct&gt;</th><th scope=col>&lt;fct&gt;</th><th scope=col>&lt;fct&gt;</th><th scope=col>...</th><th scope=col>&lt;fct&gt;</th><th scope=col>&lt;fct&gt;</th><th scope=col>&lt;fct&gt;</th><th scope=col>&lt;fct&gt;</th><th scope=col>&lt;fct&gt;</th><th scope=col>&lt;fct&gt;</th><th scope=col>&lt;fct&gt;</th><th scope=col>&lt;fct&gt;</th><th scope=col>&lt;fct&gt;</th><th scope=col>&lt;fct&gt;</th></tr>\n",
       "</thead>\n",
       "<tbody>\n",
       "\t<tr><th scope=row>1</th><td>1</td><td>Female</td><td> 2</td><td>Non-Hispanic Black                 </td><td>NA                       </td><td>0.86</td><td>NA </td><td>NA</td><td>NA</td><td>NA</td><td>...</td><td>No</td><td>NA </td><td>NA             </td><td>NA</td><td>NA</td><td>NA</td><td>NA</td><td>NA    </td><td>NA </td><td>NA                    </td></tr>\n",
       "\t<tr><th scope=row>2</th><td>2</td><td>Male  </td><td>77</td><td>Non-Hispanic White                 </td><td>College Graduate or above</td><td>5.00</td><td>No </td><td>No</td><td>No</td><td>No</td><td>...</td><td>No</td><td>No </td><td>less active, or</td><td>NA</td><td>No</td><td>No</td><td>No</td><td>Never?</td><td>NA </td><td>2 or more times a year</td></tr>\n",
       "\t<tr><th scope=row>3</th><td>3</td><td>Female</td><td>10</td><td>Non-Hispanic White                 </td><td>NA                       </td><td>1.47</td><td>NA </td><td>NA</td><td>NA</td><td>NA</td><td>...</td><td>No</td><td>NA </td><td>NA             </td><td>NA</td><td>NA</td><td>NA</td><td>NA</td><td>NA    </td><td>NA </td><td>Once a year           </td></tr>\n",
       "\t<tr><th scope=row>4</th><td>4</td><td>Male  </td><td> 1</td><td>Non-Hispanic Black                 </td><td>NA                       </td><td>0.57</td><td>NA </td><td>NA</td><td>NA</td><td>NA</td><td>...</td><td>No</td><td>NA </td><td>NA             </td><td>NA</td><td>NA</td><td>NA</td><td>NA</td><td>NA    </td><td>NA </td><td>NA                    </td></tr>\n",
       "\t<tr><th scope=row>5</th><td>5</td><td>Male  </td><td>49</td><td>Non-Hispanic White                 </td><td>College Graduate or above</td><td>5.00</td><td>Yes</td><td>No</td><td>No</td><td>No</td><td>...</td><td>No</td><td>Yes</td><td>About the same?</td><td>NA</td><td>No</td><td>No</td><td>No</td><td>Never?</td><td>Yes</td><td>2 or more times a year</td></tr>\n",
       "\t<tr><th scope=row>6</th><td>6</td><td>Female</td><td>19</td><td>Other Race - Including Multi-Racial</td><td>NA                       </td><td>1.21</td><td>NA </td><td>NA</td><td>NA</td><td>NA</td><td>...</td><td>No</td><td>No </td><td>About the same?</td><td>NA</td><td>NA</td><td>NA</td><td>NA</td><td>Never?</td><td>NA </td><td>Once a year           </td></tr>\n",
       "</tbody>\n",
       "</table>\n"
      ],
      "text/latex": [
       "A data.frame: 6 x 23\n",
       "\\begin{tabular}{r|lllllllllllllllllllll}\n",
       "  & SEQN & RIAGENDR & RIDAGEYR & RIDRETH1 & DMDEDUC2 & INDFMPIR & SMQ020 & MCQ160B & MCQ160C & MCQ160F & ... & DIQ010 & BPQ020 & PAQ500 & OHXEDEN & OHQ080 & OHQ100 & OHQ110 & OHQ020 & OHQ040 & OHQ050\\\\\n",
       "  & <dbl> & <fct> & <dbl> & <fct> & <fct> & <dbl> & <fct> & <fct> & <fct> & <fct> & ... & <fct> & <fct> & <fct> & <fct> & <fct> & <fct> & <fct> & <fct> & <fct> & <fct>\\\\\n",
       "\\hline\n",
       "\t1 & 1 & Female &  2 & Non-Hispanic Black                  & NA                        & 0.86 & NA  & NA & NA & NA & ... & No & NA  & NA              & NA & NA & NA & NA & NA     & NA  & NA                    \\\\\n",
       "\t2 & 2 & Male   & 77 & Non-Hispanic White                  & College Graduate or above & 5.00 & No  & No & No & No & ... & No & No  & less active, or & NA & No & No & No & Never? & NA  & 2 or more times a year\\\\\n",
       "\t3 & 3 & Female & 10 & Non-Hispanic White                  & NA                        & 1.47 & NA  & NA & NA & NA & ... & No & NA  & NA              & NA & NA & NA & NA & NA     & NA  & Once a year           \\\\\n",
       "\t4 & 4 & Male   &  1 & Non-Hispanic Black                  & NA                        & 0.57 & NA  & NA & NA & NA & ... & No & NA  & NA              & NA & NA & NA & NA & NA     & NA  & NA                    \\\\\n",
       "\t5 & 5 & Male   & 49 & Non-Hispanic White                  & College Graduate or above & 5.00 & Yes & No & No & No & ... & No & Yes & About the same? & NA & No & No & No & Never? & Yes & 2 or more times a year\\\\\n",
       "\t6 & 6 & Female & 19 & Other Race - Including Multi-Racial & NA                        & 1.21 & NA  & NA & NA & NA & ... & No & No  & About the same? & NA & NA & NA & NA & Never? & NA  & Once a year           \\\\\n",
       "\\end{tabular}\n"
      ],
      "text/markdown": [
       "\n",
       "A data.frame: 6 x 23\n",
       "\n",
       "| <!--/--> | SEQN &lt;dbl&gt; | RIAGENDR &lt;fct&gt; | RIDAGEYR &lt;dbl&gt; | RIDRETH1 &lt;fct&gt; | DMDEDUC2 &lt;fct&gt; | INDFMPIR &lt;dbl&gt; | SMQ020 &lt;fct&gt; | MCQ160B &lt;fct&gt; | MCQ160C &lt;fct&gt; | MCQ160F &lt;fct&gt; | ... ... | DIQ010 &lt;fct&gt; | BPQ020 &lt;fct&gt; | PAQ500 &lt;fct&gt; | OHXEDEN &lt;fct&gt; | OHQ080 &lt;fct&gt; | OHQ100 &lt;fct&gt; | OHQ110 &lt;fct&gt; | OHQ020 &lt;fct&gt; | OHQ040 &lt;fct&gt; | OHQ050 &lt;fct&gt; |\n",
       "|---|---|---|---|---|---|---|---|---|---|---|---|---|---|---|---|---|---|---|---|---|---|\n",
       "| 1 | 1 | Female |  2 | Non-Hispanic Black                  | NA                        | 0.86 | NA  | NA | NA | NA | ... | No | NA  | NA              | NA | NA | NA | NA | NA     | NA  | NA                     |\n",
       "| 2 | 2 | Male   | 77 | Non-Hispanic White                  | College Graduate or above | 5.00 | No  | No | No | No | ... | No | No  | less active, or | NA | No | No | No | Never? | NA  | 2 or more times a year |\n",
       "| 3 | 3 | Female | 10 | Non-Hispanic White                  | NA                        | 1.47 | NA  | NA | NA | NA | ... | No | NA  | NA              | NA | NA | NA | NA | NA     | NA  | Once a year            |\n",
       "| 4 | 4 | Male   |  1 | Non-Hispanic Black                  | NA                        | 0.57 | NA  | NA | NA | NA | ... | No | NA  | NA              | NA | NA | NA | NA | NA     | NA  | NA                     |\n",
       "| 5 | 5 | Male   | 49 | Non-Hispanic White                  | College Graduate or above | 5.00 | Yes | No | No | No | ... | No | Yes | About the same? | NA | No | No | No | Never? | Yes | 2 or more times a year |\n",
       "| 6 | 6 | Female | 19 | Other Race - Including Multi-Racial | NA                        | 1.21 | NA  | NA | NA | NA | ... | No | No  | About the same? | NA | NA | NA | NA | Never? | NA  | Once a year            |\n",
       "\n"
      ],
      "text/plain": [
       "  SEQN RIAGENDR RIDAGEYR RIDRETH1                           \n",
       "1 1    Female    2       Non-Hispanic Black                 \n",
       "2 2    Male     77       Non-Hispanic White                 \n",
       "3 3    Female   10       Non-Hispanic White                 \n",
       "4 4    Male      1       Non-Hispanic Black                 \n",
       "5 5    Male     49       Non-Hispanic White                 \n",
       "6 6    Female   19       Other Race - Including Multi-Racial\n",
       "  DMDEDUC2                  INDFMPIR SMQ020 MCQ160B MCQ160C MCQ160F ... DIQ010\n",
       "1 NA                        0.86     NA     NA      NA      NA      ... No    \n",
       "2 College Graduate or above 5.00     No     No      No      No      ... No    \n",
       "3 NA                        1.47     NA     NA      NA      NA      ... No    \n",
       "4 NA                        0.57     NA     NA      NA      NA      ... No    \n",
       "5 College Graduate or above 5.00     Yes    No      No      No      ... No    \n",
       "6 NA                        1.21     NA     NA      NA      NA      ... No    \n",
       "  BPQ020 PAQ500          OHXEDEN OHQ080 OHQ100 OHQ110 OHQ020 OHQ040\n",
       "1 NA     NA              NA      NA     NA     NA     NA     NA    \n",
       "2 No     less active, or NA      No     No     No     Never? NA    \n",
       "3 NA     NA              NA      NA     NA     NA     NA     NA    \n",
       "4 NA     NA              NA      NA     NA     NA     NA     NA    \n",
       "5 Yes    About the same? NA      No     No     No     Never? Yes   \n",
       "6 No     About the same? NA      NA     NA     NA     Never? NA    \n",
       "  OHQ050                \n",
       "1 NA                    \n",
       "2 2 or more times a year\n",
       "3 Once a year           \n",
       "4 NA                    \n",
       "5 2 or more times a year\n",
       "6 Once a year           "
      ]
     },
     "metadata": {},
     "output_type": "display_data"
    }
   ],
   "source": [
    "head(df_final)"
   ]
  },
  {
   "cell_type": "code",
   "execution_count": 156,
   "metadata": {
    "vscode": {
     "languageId": "r"
    }
   },
   "outputs": [
    {
     "data": {
      "text/html": [
       "<style>\n",
       ".list-inline {list-style: none; margin:0; padding: 0}\n",
       ".list-inline>li {display: inline-block}\n",
       ".list-inline>li:not(:last-child)::after {content: \"\\00b7\"; padding: 0 .5ex}\n",
       "</style>\n",
       "<ol class=list-inline><li>3706</li><li>23</li></ol>\n"
      ],
      "text/latex": [
       "\\begin{enumerate*}\n",
       "\\item 3706\n",
       "\\item 23\n",
       "\\end{enumerate*}\n"
      ],
      "text/markdown": [
       "1. 3706\n",
       "2. 23\n",
       "\n",
       "\n"
      ],
      "text/plain": [
       "[1] 3706   23"
      ]
     },
     "metadata": {},
     "output_type": "display_data"
    }
   ],
   "source": [
    "# Condition to exclude people younger than 60 years old\n",
    "\n",
    "elderly_df_final <- df_final %>%\n",
    "  filter(RIDAGEYR >= 60)\n",
    "\n",
    "dim(elderly_df_final)"
   ]
  },
  {
   "cell_type": "code",
   "execution_count": null,
   "metadata": {
    "vscode": {
     "languageId": "r"
    }
   },
   "outputs": [
    {
     "data": {
      "image/png": "[encoded data removed]",
      "text/plain": [
       "plot without title"
      ]
     },
     "metadata": {
      "image/png": {
       "height": 480,
       "width": 600
      }
     },
     "output_type": "display_data"
    }
   ],
   "source": [
    "# Plot age distribution\n",
    "\n",
    "options(repr.plot.width = 10, repr.plot.height = 8)\n",
    "\n",
    "mean_age <- mean(elderly_df_final$RIDAGEYR, na.rm = TRUE)\n",
    "sd_age <- sd(elderly_df_final$RIDAGEYR, na.rm = TRUE)\n",
    "\n",
    "ggplot(elderly_df_final, aes(x = RIDAGEYR)) +\n",
    "  geom_density(fill = \"#69b3a2\", alpha = 0.5, color = \"black\") +\n",
    "  geom_vline(xintercept = mean_age, \n",
    "             linetype = \"dashed\", color = \"red\", size = 1) +\n",
    "  geom_vline(xintercept = mean_age + sd_age,\n",
    "             linetype = \"dotted\", color = \"blue\", size = 1) +\n",
    "  geom_vline(xintercept = mean_age - sd_age,\n",
    "             linetype = \"dotted\", color = \"blue\", size = 1) +\n",
    "  labs(title = \"Age Density Distribution\",\n",
    "       x = \"Age (year)\",\n",
    "       y = \"Density\",\n",
    "       subtitle = paste0(\"Mean = \", round(mean_age, 1),\n",
    "                         \" | Std = \", round(sd_age, 1))) +\n",
    "  theme_minimal() +\n",
    "  theme(plot.title = element_text(size = 22, face = \"bold\"),\n",
    "    plot.subtitle = element_text(size = 16)\n",
    "  )"
   ]
  },
  {
   "cell_type": "code",
   "execution_count": 157,
   "metadata": {
    "vscode": {
     "languageId": "r"
    }
   },
   "outputs": [
    {
     "data": {
      "text/html": [
       "<style>\n",
       ".list-inline {list-style: none; margin:0; padding: 0}\n",
       ".list-inline>li {display: inline-block}\n",
       ".list-inline>li:not(:last-child)::after {content: \"\\00b7\"; padding: 0 .5ex}\n",
       "</style>\n",
       "<ol class=list-inline><li>26</li><li>23</li></ol>\n"
      ],
      "text/latex": [
       "\\begin{enumerate*}\n",
       "\\item 26\n",
       "\\item 23\n",
       "\\end{enumerate*}\n"
      ],
      "text/markdown": [
       "1. 26\n",
       "2. 23\n",
       "\n",
       "\n"
      ],
      "text/plain": [
       "[1] 26 23"
      ]
     },
     "metadata": {},
     "output_type": "display_data"
    }
   ],
   "source": [
    "# Remove every row with a least one NA values\n",
    "\n",
    "elderly_df_final_no_na <- na.omit(elderly_df_final)\n",
    "\n",
    "dim(elderly_df_final_no_na)"
   ]
  },
  {
   "cell_type": "code",
   "execution_count": 158,
   "metadata": {
    "vscode": {
     "languageId": "r"
    }
   },
   "outputs": [
    {
     "data": {
      "text/html": [
       "<style>\n",
       ".list-inline {list-style: none; margin:0; padding: 0}\n",
       ".list-inline>li {display: inline-block}\n",
       ".list-inline>li:not(:last-child)::after {content: \"\\00b7\"; padding: 0 .5ex}\n",
       "</style>\n",
       "<ol class=list-inline><li>26</li><li>23</li></ol>\n"
      ],
      "text/latex": [
       "\\begin{enumerate*}\n",
       "\\item 26\n",
       "\\item 23\n",
       "\\end{enumerate*}\n"
      ],
      "text/markdown": [
       "1. 26\n",
       "2. 23\n",
       "\n",
       "\n"
      ],
      "text/plain": [
       "[1] 26 23"
      ]
     },
     "metadata": {},
     "output_type": "display_data"
    }
   ],
   "source": [
    "# Other method to choose which NA columns to drop\n",
    "\n",
    "elderly_df_final_no_na <- elderly_df_final %>% drop_na()\n",
    "\n",
    "dim(elderly_df_final_no_na)"
   ]
  },
  {
   "cell_type": "code",
   "execution_count": 159,
   "metadata": {
    "vscode": {
     "languageId": "r"
    }
   },
   "outputs": [
    {
     "data": {
      "text/html": [
       "<style>\n",
       ".list-inline {list-style: none; margin:0; padding: 0}\n",
       ".list-inline>li {display: inline-block}\n",
       ".list-inline>li:not(:last-child)::after {content: \"\\00b7\"; padding: 0 .5ex}\n",
       "</style>\n",
       "<ol class=list-inline><li>1499</li><li>21</li></ol>\n"
      ],
      "text/latex": [
       "\\begin{enumerate*}\n",
       "\\item 1499\n",
       "\\item 21\n",
       "\\end{enumerate*}\n"
      ],
      "text/markdown": [
       "1. 1499\n",
       "2. 21\n",
       "\n",
       "\n"
      ],
      "text/plain": [
       "[1] 1499   21"
      ]
     },
     "metadata": {},
     "output_type": "display_data"
    }
   ],
   "source": [
    "# JUST FOR TESTING\n",
    "\n",
    "elderly_df_final_no_eden_ohq040 <- subset(elderly_df_final, select = -c(OHXEDEN, OHQ040))\n",
    "\n",
    "elderly_df_final_no_eden_ohq040 <- na.omit(elderly_df_final_no_eden_ohq040)\n",
    "\n",
    "dim(elderly_df_final_no_eden_ohq040)"
   ]
  },
  {
   "cell_type": "markdown",
   "metadata": {},
   "source": [
    "### Next steps"
   ]
  },
  {
   "cell_type": "code",
   "execution_count": null,
   "metadata": {
    "vscode": {
     "languageId": "r"
    }
   },
   "outputs": [],
   "source": [
    "# Feature Engineering\n",
    "\n",
    "process_features <- function(data) {\n",
    "    processed_data <- data %>%\n",
    "        mutate(\n",
    "            gender = factor(x = RIAGENDR, levels = c(1, 2), labels = c(\"Male\", \"Female\"))\n",
    "        ) %>%\n",
    "        mutate(\n",
    "            ethnicity = case_when(\n",
    "                RIDRETH1 == 1 ~ \"Mexican American\",\n",
    "                RIDRETH1 == 2 ~ \"Other Hispanic\",\n",
    "                RIDRETH1 == 3 ~ \"Non-Hispanic White\",\n",
    "                RIDRETH1 == 4 ~ \"Non-Hispanic Black\",\n",
    "                RIDRETH1 == 5 ~ \"Other Race - Including Multi-Racial\",\n",
    "                TRUE ~ NA_character_\n",
    "            ),\n",
    "            ethnicity_num = as.numeric(RIDRETH1)\n",
    "        ) %>%\n",
    "        mutate(\n",
    "            education = case_when(\n",
    "                DMDEDUC2 == 1 ~ \"Less than 9th grade\",\n",
    "                DMDEDUC2 == 2 ~ \"9-11th grade\",\n",
    "                DMDEDUC2 == 3 ~ \"High school graduate/GED\",\n",
    "                DMDEDUC2 == 4 ~ \"Some college or AA degree\",\n",
    "                DMDEDUC2 == 5 ~ \"College graduate or above\",\n",
    "                DMDEDUC2 %in% c(7, 9) ~ NA_character_\n",
    "            ),\n",
    "            education_3cat = case_when(\n",
    "                DMDEDUC2 %in% c(1, 2) ~ \"Less than 12 years\",\n",
    "                DMDEDUC2 == 3 ~ \"12 years\",\n",
    "                DMDEDUC2 %in% c(4, 5) ~ \"More than 12 years\",\n",
    "                TRUE ~ NA_character_\n",
    "            ),\n",
    "            education_years = case_when(\n",
    "                DMDEDUC2 == 1 ~ 8, # Less than 9th grade\n",
    "                DMDEDUC2 == 2 ~ 10, # 9-11th grade\n",
    "                DMDEDUC2 == 3 ~ 12, # High school/GED\n",
    "                DMDEDUC2 == 4 ~ 14, # Some college/AA\n",
    "                DMDEDUC2 == 5 ~ 16, # College graduate\n",
    "                TRUE ~ NA_real_\n",
    "            )\n",
    "        ) %>%\n",
    "        # Binary indicators for each ethnic category\n",
    "        mutate(\n",
    "            is_mexican_american = RIDRETH1 == 1,\n",
    "            is_other_hispanic = RIDRETH1 == 2,\n",
    "            is_nh_white = RIDRETH1 == 3,\n",
    "            is_nh_black = RIDRETH1 == 4,\n",
    "            is_other_race = RIDRETH1 == 5\n",
    "        ) %>%\n",
    "        # Binary indicators for each educational level\n",
    "        mutate(\n",
    "            is_less_than_hs = DMDEDUC2 %in% c(1, 2),\n",
    "            is_hs_grad = DMDEDUC2 == 3,\n",
    "            is_some_college = DMDEDUC2 == 4,\n",
    "            is_college_grad = DMDEDUC2 == 5\n",
    "        ) %>%\n",
    "        mutate(\n",
    "            income_category = case_when(\n",
    "                INDHHIN2 %in% c(1:4) ~ \"Under $20,000\",\n",
    "                INDHHIN2 %in% c(5:7) ~ \"$20,000 to $44,999\",\n",
    "                INDHHIN2 %in% c(8:10) ~ \"$45,000 to $74,999\",\n",
    "                INDHHIN2 == 13 ~ \"$75,000 to $99,999\",\n",
    "                INDHHIN2 == 14 ~ \"$100,000 and Over\",\n",
    "                INDHHIN2 %in% c(77, 99) ~ NA_character_,\n",
    "                TRUE ~ NA_character_\n",
    "            )\n",
    "        ) %>%\n",
    "        mutate(\n",
    "            income_numeric = case_when(\n",
    "                INDHHIN2 == 1 ~ 2500, # $0-$4,999\n",
    "                INDHHIN2 == 2 ~ 7500, # $5,000-$9,999\n",
    "                INDHHIN2 == 3 ~ 12500, # $10,000-$14,999\n",
    "                INDHHIN2 == 4 ~ 17500, # $15,000-$19,999\n",
    "                INDHHIN2 == 5 ~ 22500, # $20,000-$24,999\n",
    "                INDHHIN2 == 6 ~ 30000, # $25,000-$34,999\n",
    "                INDHHIN2 == 7 ~ 40000, # $35,000-$44,999\n",
    "                INDHHIN2 == 8 ~ 50000, # $45,000-$54,999\n",
    "                INDHHIN2 == 9 ~ 60000, # $55,000-$64,999\n",
    "                INDHHIN2 == 10 ~ 70000, # $65,000-$74,999\n",
    "                INDHHIN2 == 13 ~ 87500, # $75,000-$99,999\n",
    "                INDHHIN2 == 14 ~ 125000, # $100,000 and Over\n",
    "                TRUE ~ NA_real_\n",
    "            )\n",
    "        ) %>%\n",
    "        mutate(\n",
    "            permanent_teeth = rowSums(select(., starts_with(\"OHX\") & ends_with(\"TC\")) == 1, na.rm = TRUE),\n",
    "            missing_teeth = rowSums(select(., starts_with(\"OHX\") & ends_with(\"TC\")) == 2, na.rm = TRUE),\n",
    "            root_fragments = rowSums(select(., starts_with(\"OHX\") & ends_with(\"TC\")) == 3, na.rm = TRUE),\n",
    "            perc_permanent = (permanent_teeth / (permanent_teeth + missing_teeth + root_fragments)) * 100,\n",
    "            dental_status = case_when(\n",
    "                permanent_teeth >= 20 ~ \"Adequate dentition\",\n",
    "                permanent_teeth >= 10 ~ \"Partial dentition\",\n",
    "                TRUE ~ \"Poor dentition\"\n",
    "            )\n",
    "        ) %>%\n",
    "        mutate(\n",
    "            periodontal_disease = case_when(\n",
    "                # Definition CDC/AAP as in the paper (this is a simplified example)\n",
    "                rowMeans(select(., ends_with(\"CSC\")), na.rm = TRUE) >= 4 ~ \"Moderate/Severe\",\n",
    "                TRUE ~ \"No/Mild\"\n",
    "            )\n",
    "        )\n",
    "\n",
    "    return(processed_data)\n",
    "}\n"
   ]
  },
  {
   "cell_type": "code",
   "execution_count": null,
   "metadata": {
    "vscode": {
     "languageId": "r"
    }
   },
   "outputs": [],
   "source": [
    "preprocessed_data <- process_features(features_selected)\n",
    "head(preprocessed_data)\n"
   ]
  },
  {
   "cell_type": "markdown",
   "metadata": {},
   "source": [
    "## NHANES 2013/14: Intrinsic Capacity and Periodontal disease"
   ]
  },
  {
   "cell_type": "markdown",
   "metadata": {},
   "source": [
    "### Import Libraries"
   ]
  },
  {
   "cell_type": "code",
   "execution_count": null,
   "metadata": {
    "vscode": {
     "languageId": "r"
    }
   },
   "outputs": [],
   "source": [
    "library(haven)\n",
    "library(nhanesA)\n",
    "library(survey)\n",
    "library(MASS)\n",
    "library(dplyr)\n",
    "library(tidyr)\n",
    "library(tidyverse)\n",
    "library(ggplot2)\n",
    "library(readr)\n",
    "library(flextable)\n",
    "library(officer)"
   ]
  },
  {
   "cell_type": "markdown",
   "metadata": {},
   "source": [
    "### Configurations"
   ]
  },
  {
   "cell_type": "code",
   "execution_count": null,
   "metadata": {
    "vscode": {
     "languageId": "r"
    }
   },
   "outputs": [],
   "source": [
    "path_to_data <- \"/Users/silvanoquarto/Desktop/LAVORO/MEDICAL_PHYSICS/Med-Physics/data/NHANES/2013_14/\""
   ]
  },
  {
   "cell_type": "markdown",
   "metadata": {},
   "source": [
    "### Load Dataset & Feature Selection"
   ]
  },
  {
   "cell_type": "code",
   "execution_count": 36,
   "metadata": {
    "vscode": {
     "languageId": "r"
    }
   },
   "outputs": [
    {
     "data": {
      "text/html": [
       "<table class=\"dataframe\">\n",
       "<caption>A tibble: 6 x 6</caption>\n",
       "<thead>\n",
       "\t<tr><th scope=col>SEQN</th><th scope=col>RIAGENDR</th><th scope=col>RIDAGEYR</th><th scope=col>RIDRETH1</th><th scope=col>DMDEDUC2</th><th scope=col>INDFMPIR</th></tr>\n",
       "\t<tr><th scope=col>&lt;dbl&gt;</th><th scope=col>&lt;dbl&gt;</th><th scope=col>&lt;dbl&gt;</th><th scope=col>&lt;dbl&gt;</th><th scope=col>&lt;dbl&gt;</th><th scope=col>&lt;dbl&gt;</th></tr>\n",
       "</thead>\n",
       "<tbody>\n",
       "\t<tr><td>73557</td><td>1</td><td>69</td><td>4</td><td> 3</td><td>0.84</td></tr>\n",
       "\t<tr><td>73558</td><td>1</td><td>54</td><td>3</td><td> 3</td><td>1.78</td></tr>\n",
       "\t<tr><td>73559</td><td>1</td><td>72</td><td>3</td><td> 4</td><td>4.51</td></tr>\n",
       "\t<tr><td>73560</td><td>1</td><td> 9</td><td>3</td><td>NA</td><td>2.52</td></tr>\n",
       "\t<tr><td>73561</td><td>2</td><td>73</td><td>3</td><td> 5</td><td>5.00</td></tr>\n",
       "\t<tr><td>73562</td><td>1</td><td>56</td><td>1</td><td> 4</td><td>4.79</td></tr>\n",
       "</tbody>\n",
       "</table>\n"
      ],
      "text/latex": [
       "A tibble: 6 x 6\n",
       "\\begin{tabular}{llllll}\n",
       " SEQN & RIAGENDR & RIDAGEYR & RIDRETH1 & DMDEDUC2 & INDFMPIR\\\\\n",
       " <dbl> & <dbl> & <dbl> & <dbl> & <dbl> & <dbl>\\\\\n",
       "\\hline\n",
       "\t 73557 & 1 & 69 & 4 &  3 & 0.84\\\\\n",
       "\t 73558 & 1 & 54 & 3 &  3 & 1.78\\\\\n",
       "\t 73559 & 1 & 72 & 3 &  4 & 4.51\\\\\n",
       "\t 73560 & 1 &  9 & 3 & NA & 2.52\\\\\n",
       "\t 73561 & 2 & 73 & 3 &  5 & 5.00\\\\\n",
       "\t 73562 & 1 & 56 & 1 &  4 & 4.79\\\\\n",
       "\\end{tabular}\n"
      ],
      "text/markdown": [
       "\n",
       "A tibble: 6 x 6\n",
       "\n",
       "| SEQN &lt;dbl&gt; | RIAGENDR &lt;dbl&gt; | RIDAGEYR &lt;dbl&gt; | RIDRETH1 &lt;dbl&gt; | DMDEDUC2 &lt;dbl&gt; | INDFMPIR &lt;dbl&gt; |\n",
       "|---|---|---|---|---|---|\n",
       "| 73557 | 1 | 69 | 4 |  3 | 0.84 |\n",
       "| 73558 | 1 | 54 | 3 |  3 | 1.78 |\n",
       "| 73559 | 1 | 72 | 3 |  4 | 4.51 |\n",
       "| 73560 | 1 |  9 | 3 | NA | 2.52 |\n",
       "| 73561 | 2 | 73 | 3 |  5 | 5.00 |\n",
       "| 73562 | 1 | 56 | 1 |  4 | 4.79 |\n",
       "\n"
      ],
      "text/plain": [
       "  SEQN  RIAGENDR RIDAGEYR RIDRETH1 DMDEDUC2 INDFMPIR\n",
       "1 73557 1        69       4         3       0.84    \n",
       "2 73558 1        54       3         3       1.78    \n",
       "3 73559 1        72       3         4       4.51    \n",
       "4 73560 1         9       3        NA       2.52    \n",
       "5 73561 2        73       3         5       5.00    \n",
       "6 73562 1        56       1         4       4.79    "
      ]
     },
     "metadata": {},
     "output_type": "display_data"
    }
   ],
   "source": [
    "# Demographics \n",
    "\n",
    "demo_13_14 <- read_xpt(file.path(path_to_data, \"DEMO_H.xpt.txt\"))\n",
    "\n",
    "demo_13_14_selected <- demo_13_14 %>%\n",
    "    select(SEQN, RIAGENDR, RIDAGEYR, RIDRETH1, DMDEDUC2, INDFMPIR)\n",
    "\n",
    "head(demo_13_14_selected)"
   ]
  },
  {
   "cell_type": "code",
   "execution_count": 37,
   "metadata": {
    "vscode": {
     "languageId": "r"
    }
   },
   "outputs": [
    {
     "data": {
      "text/html": [
       "<table class=\"dataframe\">\n",
       "<caption>A tibble: 6 x 3</caption>\n",
       "<thead>\n",
       "\t<tr><th scope=col>SEQN</th><th scope=col>ALQ101</th><th scope=col>ALQ130</th></tr>\n",
       "\t<tr><th scope=col>&lt;dbl&gt;</th><th scope=col>&lt;dbl&gt;</th><th scope=col>&lt;dbl&gt;</th></tr>\n",
       "</thead>\n",
       "<tbody>\n",
       "\t<tr><td>73557</td><td>1</td><td> 1</td></tr>\n",
       "\t<tr><td>73558</td><td>1</td><td> 4</td></tr>\n",
       "\t<tr><td>73559</td><td>1</td><td>NA</td></tr>\n",
       "\t<tr><td>73561</td><td>1</td><td>NA</td></tr>\n",
       "\t<tr><td>73562</td><td>1</td><td> 1</td></tr>\n",
       "\t<tr><td>73564</td><td>2</td><td> 1</td></tr>\n",
       "</tbody>\n",
       "</table>\n"
      ],
      "text/latex": [
       "A tibble: 6 x 3\n",
       "\\begin{tabular}{lll}\n",
       " SEQN & ALQ101 & ALQ130\\\\\n",
       " <dbl> & <dbl> & <dbl>\\\\\n",
       "\\hline\n",
       "\t 73557 & 1 &  1\\\\\n",
       "\t 73558 & 1 &  4\\\\\n",
       "\t 73559 & 1 & NA\\\\\n",
       "\t 73561 & 1 & NA\\\\\n",
       "\t 73562 & 1 &  1\\\\\n",
       "\t 73564 & 2 &  1\\\\\n",
       "\\end{tabular}\n"
      ],
      "text/markdown": [
       "\n",
       "A tibble: 6 x 3\n",
       "\n",
       "| SEQN &lt;dbl&gt; | ALQ101 &lt;dbl&gt; | ALQ130 &lt;dbl&gt; |\n",
       "|---|---|---|\n",
       "| 73557 | 1 |  1 |\n",
       "| 73558 | 1 |  4 |\n",
       "| 73559 | 1 | NA |\n",
       "| 73561 | 1 | NA |\n",
       "| 73562 | 1 |  1 |\n",
       "| 73564 | 2 |  1 |\n",
       "\n"
      ],
      "text/plain": [
       "  SEQN  ALQ101 ALQ130\n",
       "1 73557 1       1    \n",
       "2 73558 1       4    \n",
       "3 73559 1      NA    \n",
       "4 73561 1      NA    \n",
       "5 73562 1       1    \n",
       "6 73564 2       1    "
      ]
     },
     "metadata": {},
     "output_type": "display_data"
    }
   ],
   "source": [
    "# Alcohol Use\n",
    "\n",
    "alcohol_13_14 <- read_xpt(file.path(path_to_data, \"ALQ_H.xpt.txt\"))\n",
    "\n",
    "alcohol_13_14_selected <- alcohol_13_14 %>%\n",
    "    select(SEQN, ALQ101, ALQ130)\n",
    "\n",
    "head(alcohol_13_14_selected)"
   ]
  },
  {
   "cell_type": "code",
   "execution_count": 38,
   "metadata": {
    "vscode": {
     "languageId": "r"
    }
   },
   "outputs": [
    {
     "data": {
      "text/html": [
       "<table class=\"dataframe\">\n",
       "<caption>A tibble: 6 x 4</caption>\n",
       "<thead>\n",
       "\t<tr><th scope=col>SEQN</th><th scope=col>SMQ020</th><th scope=col>SMQ040</th><th scope=col>SMD650</th></tr>\n",
       "\t<tr><th scope=col>&lt;dbl&gt;</th><th scope=col>&lt;dbl&gt;</th><th scope=col>&lt;dbl&gt;</th><th scope=col>&lt;dbl&gt;</th></tr>\n",
       "</thead>\n",
       "<tbody>\n",
       "\t<tr><td>73557</td><td>1</td><td> 3</td><td>NA</td></tr>\n",
       "\t<tr><td>73558</td><td>1</td><td> 2</td><td> 1</td></tr>\n",
       "\t<tr><td>73559</td><td>1</td><td> 3</td><td>NA</td></tr>\n",
       "\t<tr><td>73561</td><td>2</td><td>NA</td><td>NA</td></tr>\n",
       "\t<tr><td>73562</td><td>1</td><td> 3</td><td>NA</td></tr>\n",
       "\t<tr><td>73564</td><td>2</td><td>NA</td><td>NA</td></tr>\n",
       "</tbody>\n",
       "</table>\n"
      ],
      "text/latex": [
       "A tibble: 6 x 4\n",
       "\\begin{tabular}{llll}\n",
       " SEQN & SMQ020 & SMQ040 & SMD650\\\\\n",
       " <dbl> & <dbl> & <dbl> & <dbl>\\\\\n",
       "\\hline\n",
       "\t 73557 & 1 &  3 & NA\\\\\n",
       "\t 73558 & 1 &  2 &  1\\\\\n",
       "\t 73559 & 1 &  3 & NA\\\\\n",
       "\t 73561 & 2 & NA & NA\\\\\n",
       "\t 73562 & 1 &  3 & NA\\\\\n",
       "\t 73564 & 2 & NA & NA\\\\\n",
       "\\end{tabular}\n"
      ],
      "text/markdown": [
       "\n",
       "A tibble: 6 x 4\n",
       "\n",
       "| SEQN &lt;dbl&gt; | SMQ020 &lt;dbl&gt; | SMQ040 &lt;dbl&gt; | SMD650 &lt;dbl&gt; |\n",
       "|---|---|---|---|\n",
       "| 73557 | 1 |  3 | NA |\n",
       "| 73558 | 1 |  2 |  1 |\n",
       "| 73559 | 1 |  3 | NA |\n",
       "| 73561 | 2 | NA | NA |\n",
       "| 73562 | 1 |  3 | NA |\n",
       "| 73564 | 2 | NA | NA |\n",
       "\n"
      ],
      "text/plain": [
       "  SEQN  SMQ020 SMQ040 SMD650\n",
       "1 73557 1       3     NA    \n",
       "2 73558 1       2      1    \n",
       "3 73559 1       3     NA    \n",
       "4 73561 2      NA     NA    \n",
       "5 73562 1       3     NA    \n",
       "6 73564 2      NA     NA    "
      ]
     },
     "metadata": {},
     "output_type": "display_data"
    }
   ],
   "source": [
    "# Smoking status\n",
    "\n",
    "smoking_13_14 <- read_xpt(file.path(path_to_data, \"SMQ_H.xpt.txt\"))\n",
    "\n",
    "smoking_13_14_selected <- smoking_13_14 %>%\n",
    "    select(SEQN, SMQ020, SMQ040, SMD650)\n",
    "\n",
    "head(smoking_13_14_selected)"
   ]
  },
  {
   "cell_type": "code",
   "execution_count": 50,
   "metadata": {
    "vscode": {
     "languageId": "r"
    }
   },
   "outputs": [
    {
     "data": {
      "text/html": [
       "<table class=\"dataframe\">\n",
       "<caption>A tibble: 6 x 9</caption>\n",
       "<thead>\n",
       "\t<tr><th scope=col>SEQN</th><th scope=col>MCQ160B</th><th scope=col>MCQ160C</th><th scope=col>MCQ160D</th><th scope=col>MCQ160E</th><th scope=col>MCQ160F</th><th scope=col>MCQ160O</th><th scope=col>MCQ160L</th><th scope=col>MCQ220</th></tr>\n",
       "\t<tr><th scope=col>&lt;dbl&gt;</th><th scope=col>&lt;dbl&gt;</th><th scope=col>&lt;dbl&gt;</th><th scope=col>&lt;dbl&gt;</th><th scope=col>&lt;dbl&gt;</th><th scope=col>&lt;dbl&gt;</th><th scope=col>&lt;dbl&gt;</th><th scope=col>&lt;dbl&gt;</th><th scope=col>&lt;dbl&gt;</th></tr>\n",
       "</thead>\n",
       "<tbody>\n",
       "\t<tr><td>73557</td><td> 2</td><td> 2</td><td> 2</td><td> 2</td><td> 1</td><td> 2</td><td> 2</td><td> 2</td></tr>\n",
       "\t<tr><td>73558</td><td> 2</td><td> 2</td><td> 2</td><td> 2</td><td> 2</td><td> 2</td><td> 2</td><td> 2</td></tr>\n",
       "\t<tr><td>73559</td><td> 2</td><td> 2</td><td> 2</td><td> 2</td><td> 2</td><td> 2</td><td> 2</td><td> 1</td></tr>\n",
       "\t<tr><td>73560</td><td>NA</td><td>NA</td><td>NA</td><td>NA</td><td>NA</td><td>NA</td><td>NA</td><td>NA</td></tr>\n",
       "\t<tr><td>73561</td><td> 2</td><td> 2</td><td> 2</td><td> 2</td><td> 2</td><td> 2</td><td> 2</td><td> 2</td></tr>\n",
       "\t<tr><td>73562</td><td> 2</td><td> 1</td><td> 2</td><td> 1</td><td> 2</td><td> 2</td><td> 2</td><td> 2</td></tr>\n",
       "</tbody>\n",
       "</table>\n"
      ],
      "text/latex": [
       "A tibble: 6 x 9\n",
       "\\begin{tabular}{lllllllll}\n",
       " SEQN & MCQ160B & MCQ160C & MCQ160D & MCQ160E & MCQ160F & MCQ160O & MCQ160L & MCQ220\\\\\n",
       " <dbl> & <dbl> & <dbl> & <dbl> & <dbl> & <dbl> & <dbl> & <dbl> & <dbl>\\\\\n",
       "\\hline\n",
       "\t 73557 &  2 &  2 &  2 &  2 &  1 &  2 &  2 &  2\\\\\n",
       "\t 73558 &  2 &  2 &  2 &  2 &  2 &  2 &  2 &  2\\\\\n",
       "\t 73559 &  2 &  2 &  2 &  2 &  2 &  2 &  2 &  1\\\\\n",
       "\t 73560 & NA & NA & NA & NA & NA & NA & NA & NA\\\\\n",
       "\t 73561 &  2 &  2 &  2 &  2 &  2 &  2 &  2 &  2\\\\\n",
       "\t 73562 &  2 &  1 &  2 &  1 &  2 &  2 &  2 &  2\\\\\n",
       "\\end{tabular}\n"
      ],
      "text/markdown": [
       "\n",
       "A tibble: 6 x 9\n",
       "\n",
       "| SEQN &lt;dbl&gt; | MCQ160B &lt;dbl&gt; | MCQ160C &lt;dbl&gt; | MCQ160D &lt;dbl&gt; | MCQ160E &lt;dbl&gt; | MCQ160F &lt;dbl&gt; | MCQ160O &lt;dbl&gt; | MCQ160L &lt;dbl&gt; | MCQ220 &lt;dbl&gt; |\n",
       "|---|---|---|---|---|---|---|---|---|\n",
       "| 73557 |  2 |  2 |  2 |  2 |  1 |  2 |  2 |  2 |\n",
       "| 73558 |  2 |  2 |  2 |  2 |  2 |  2 |  2 |  2 |\n",
       "| 73559 |  2 |  2 |  2 |  2 |  2 |  2 |  2 |  1 |\n",
       "| 73560 | NA | NA | NA | NA | NA | NA | NA | NA |\n",
       "| 73561 |  2 |  2 |  2 |  2 |  2 |  2 |  2 |  2 |\n",
       "| 73562 |  2 |  1 |  2 |  1 |  2 |  2 |  2 |  2 |\n",
       "\n"
      ],
      "text/plain": [
       "  SEQN  MCQ160B MCQ160C MCQ160D MCQ160E MCQ160F MCQ160O MCQ160L MCQ220\n",
       "1 73557  2       2       2       2       1       2       2       2    \n",
       "2 73558  2       2       2       2       2       2       2       2    \n",
       "3 73559  2       2       2       2       2       2       2       1    \n",
       "4 73560 NA      NA      NA      NA      NA      NA      NA      NA    \n",
       "5 73561  2       2       2       2       2       2       2       2    \n",
       "6 73562  2       1       2       1       2       2       2       2    "
      ]
     },
     "metadata": {},
     "output_type": "display_data"
    }
   ],
   "source": [
    "# Medical Conditions\n",
    "\n",
    "med_conditions_13_14 <- read_xpt(file.path(path_to_data, \"MCQ_H.xpt.txt\"))\n",
    "\n",
    "med_conditions_13_14_selected <- med_conditions_13_14 %>%\n",
    "    select(SEQN, MCQ160B, MCQ160C, MCQ160D, MCQ160E, MCQ160F, MCQ160O, MCQ160L, MCQ220)\n",
    "\n",
    "head(med_conditions_13_14_selected)"
   ]
  },
  {
   "cell_type": "code",
   "execution_count": 41,
   "metadata": {
    "vscode": {
     "languageId": "r"
    }
   },
   "outputs": [
    {
     "data": {
      "text/html": [
       "<table class=\"dataframe\">\n",
       "<caption>A tibble: 6 x 2</caption>\n",
       "<thead>\n",
       "\t<tr><th scope=col>SEQN</th><th scope=col>BPQ020</th></tr>\n",
       "\t<tr><th scope=col>&lt;dbl&gt;</th><th scope=col>&lt;dbl&gt;</th></tr>\n",
       "</thead>\n",
       "<tbody>\n",
       "\t<tr><td>73557</td><td>1</td></tr>\n",
       "\t<tr><td>73558</td><td>1</td></tr>\n",
       "\t<tr><td>73559</td><td>1</td></tr>\n",
       "\t<tr><td>73561</td><td>1</td></tr>\n",
       "\t<tr><td>73562</td><td>1</td></tr>\n",
       "\t<tr><td>73564</td><td>1</td></tr>\n",
       "</tbody>\n",
       "</table>\n"
      ],
      "text/latex": [
       "A tibble: 6 x 2\n",
       "\\begin{tabular}{ll}\n",
       " SEQN & BPQ020\\\\\n",
       " <dbl> & <dbl>\\\\\n",
       "\\hline\n",
       "\t 73557 & 1\\\\\n",
       "\t 73558 & 1\\\\\n",
       "\t 73559 & 1\\\\\n",
       "\t 73561 & 1\\\\\n",
       "\t 73562 & 1\\\\\n",
       "\t 73564 & 1\\\\\n",
       "\\end{tabular}\n"
      ],
      "text/markdown": [
       "\n",
       "A tibble: 6 x 2\n",
       "\n",
       "| SEQN &lt;dbl&gt; | BPQ020 &lt;dbl&gt; |\n",
       "|---|---|\n",
       "| 73557 | 1 |\n",
       "| 73558 | 1 |\n",
       "| 73559 | 1 |\n",
       "| 73561 | 1 |\n",
       "| 73562 | 1 |\n",
       "| 73564 | 1 |\n",
       "\n"
      ],
      "text/plain": [
       "  SEQN  BPQ020\n",
       "1 73557 1     \n",
       "2 73558 1     \n",
       "3 73559 1     \n",
       "4 73561 1     \n",
       "5 73562 1     \n",
       "6 73564 1     "
      ]
     },
     "metadata": {},
     "output_type": "display_data"
    }
   ],
   "source": [
    "# Blood Pressure\n",
    "\n",
    "blood_pressure_13_14 <- read_xpt(file.path(path_to_data, \"BPQ_H.xpt.txt\"))\n",
    "\n",
    "blood_pressure_13_14_selected <- blood_pressure_13_14 %>%\n",
    "    select(SEQN, BPQ020)\n",
    "\n",
    "head(blood_pressure_13_14_selected)"
   ]
  },
  {
   "cell_type": "code",
   "execution_count": 42,
   "metadata": {
    "vscode": {
     "languageId": "r"
    }
   },
   "outputs": [
    {
     "data": {
      "text/html": [
       "<table class=\"dataframe\">\n",
       "<caption>A tibble: 6 x 2</caption>\n",
       "<thead>\n",
       "\t<tr><th scope=col>SEQN</th><th scope=col>DIQ010</th></tr>\n",
       "\t<tr><th scope=col>&lt;dbl&gt;</th><th scope=col>&lt;dbl&gt;</th></tr>\n",
       "</thead>\n",
       "<tbody>\n",
       "\t<tr><td>73557</td><td>1</td></tr>\n",
       "\t<tr><td>73558</td><td>1</td></tr>\n",
       "\t<tr><td>73559</td><td>1</td></tr>\n",
       "\t<tr><td>73560</td><td>2</td></tr>\n",
       "\t<tr><td>73561</td><td>2</td></tr>\n",
       "\t<tr><td>73562</td><td>2</td></tr>\n",
       "</tbody>\n",
       "</table>\n"
      ],
      "text/latex": [
       "A tibble: 6 x 2\n",
       "\\begin{tabular}{ll}\n",
       " SEQN & DIQ010\\\\\n",
       " <dbl> & <dbl>\\\\\n",
       "\\hline\n",
       "\t 73557 & 1\\\\\n",
       "\t 73558 & 1\\\\\n",
       "\t 73559 & 1\\\\\n",
       "\t 73560 & 2\\\\\n",
       "\t 73561 & 2\\\\\n",
       "\t 73562 & 2\\\\\n",
       "\\end{tabular}\n"
      ],
      "text/markdown": [
       "\n",
       "A tibble: 6 x 2\n",
       "\n",
       "| SEQN &lt;dbl&gt; | DIQ010 &lt;dbl&gt; |\n",
       "|---|---|\n",
       "| 73557 | 1 |\n",
       "| 73558 | 1 |\n",
       "| 73559 | 1 |\n",
       "| 73560 | 2 |\n",
       "| 73561 | 2 |\n",
       "| 73562 | 2 |\n",
       "\n"
      ],
      "text/plain": [
       "  SEQN  DIQ010\n",
       "1 73557 1     \n",
       "2 73558 1     \n",
       "3 73559 1     \n",
       "4 73560 2     \n",
       "5 73561 2     \n",
       "6 73562 2     "
      ]
     },
     "metadata": {},
     "output_type": "display_data"
    }
   ],
   "source": [
    "# Diabetes\n",
    "\n",
    "diabetes_13_14 <- read_xpt(file.path(path_to_data, \"DIQ_H.xpt.txt\"))\n",
    "\n",
    "diabetes_13_14_selected <- diabetes_13_14 %>%\n",
    "    select(SEQN, DIQ010)\n",
    "\n",
    "head(diabetes_13_14_selected)"
   ]
  },
  {
   "cell_type": "code",
   "execution_count": 68,
   "metadata": {
    "vscode": {
     "languageId": "r"
    }
   },
   "outputs": [
    {
     "data": {
      "text/html": [
       "<table class=\"dataframe\">\n",
       "<caption>A tibble: 6 x 337</caption>\n",
       "<thead>\n",
       "\t<tr><th scope=col>SEQN</th><th scope=col>OHX02PCD</th><th scope=col>OHX02PCM</th><th scope=col>OHX02PCS</th><th scope=col>OHX02PCP</th><th scope=col>OHX02PCL</th><th scope=col>OHX02PCA</th><th scope=col>OHX02LAD</th><th scope=col>OHX02LAM</th><th scope=col>OHX02LAS</th><th scope=col>...</th><th scope=col>OHX31PCS</th><th scope=col>OHX31PCP</th><th scope=col>OHX31PCL</th><th scope=col>OHX31PCA</th><th scope=col>OHX31LAD</th><th scope=col>OHX31LAM</th><th scope=col>OHX31LAS</th><th scope=col>OHX31LAP</th><th scope=col>OHX31LAL</th><th scope=col>OHX31LAA</th></tr>\n",
       "\t<tr><th scope=col>&lt;dbl&gt;</th><th scope=col>&lt;dbl&gt;</th><th scope=col>&lt;dbl&gt;</th><th scope=col>&lt;dbl&gt;</th><th scope=col>&lt;dbl&gt;</th><th scope=col>&lt;dbl&gt;</th><th scope=col>&lt;dbl&gt;</th><th scope=col>&lt;dbl&gt;</th><th scope=col>&lt;dbl&gt;</th><th scope=col>&lt;dbl&gt;</th><th scope=col>...</th><th scope=col>&lt;dbl&gt;</th><th scope=col>&lt;dbl&gt;</th><th scope=col>&lt;dbl&gt;</th><th scope=col>&lt;dbl&gt;</th><th scope=col>&lt;dbl&gt;</th><th scope=col>&lt;dbl&gt;</th><th scope=col>&lt;dbl&gt;</th><th scope=col>&lt;dbl&gt;</th><th scope=col>&lt;dbl&gt;</th><th scope=col>&lt;dbl&gt;</th></tr>\n",
       "</thead>\n",
       "<tbody>\n",
       "\t<tr><td>73557</td><td>99</td><td>99</td><td>99</td><td>99</td><td>99</td><td>99</td><td>99</td><td>99</td><td>99</td><td>...</td><td>99</td><td>99</td><td>99</td><td>99</td><td>99</td><td>99</td><td>99</td><td>99</td><td>99</td><td>99</td></tr>\n",
       "\t<tr><td>73558</td><td> 2</td><td> 2</td><td> 4</td><td> 4</td><td> 5</td><td> 2</td><td> 4</td><td> 3</td><td> 4</td><td>...</td><td>99</td><td>99</td><td>99</td><td>99</td><td>99</td><td>99</td><td>99</td><td>99</td><td>99</td><td>99</td></tr>\n",
       "\t<tr><td>73559</td><td> 1</td><td> 1</td><td> 1</td><td> 2</td><td> 2</td><td> 2</td><td> 1</td><td> 1</td><td> 1</td><td>...</td><td>99</td><td>99</td><td>99</td><td>99</td><td>99</td><td>99</td><td>99</td><td>99</td><td>99</td><td>99</td></tr>\n",
       "\t<tr><td>73561</td><td>99</td><td>99</td><td>99</td><td>99</td><td>99</td><td>99</td><td>99</td><td>99</td><td>99</td><td>...</td><td>99</td><td>99</td><td>99</td><td>99</td><td>99</td><td>99</td><td>99</td><td>99</td><td>99</td><td>99</td></tr>\n",
       "\t<tr><td>73562</td><td> 2</td><td> 2</td><td> 2</td><td> 3</td><td> 2</td><td> 3</td><td> 2</td><td> 2</td><td> 2</td><td>...</td><td>99</td><td>99</td><td>99</td><td>99</td><td>99</td><td>99</td><td>99</td><td>99</td><td>99</td><td>99</td></tr>\n",
       "\t<tr><td>73564</td><td> 2</td><td> 1</td><td> 2</td><td> 2</td><td> 1</td><td> 2</td><td> 2</td><td> 1</td><td> 2</td><td>...</td><td> 2</td><td> 2</td><td> 2</td><td> 2</td><td> 2</td><td> 2</td><td> 2</td><td> 2</td><td> 2</td><td> 2</td></tr>\n",
       "</tbody>\n",
       "</table>\n"
      ],
      "text/latex": [
       "A tibble: 6 x 337\n",
       "\\begin{tabular}{lllllllllllllllllllll}\n",
       " SEQN & OHX02PCD & OHX02PCM & OHX02PCS & OHX02PCP & OHX02PCL & OHX02PCA & OHX02LAD & OHX02LAM & OHX02LAS & ... & OHX31PCS & OHX31PCP & OHX31PCL & OHX31PCA & OHX31LAD & OHX31LAM & OHX31LAS & OHX31LAP & OHX31LAL & OHX31LAA\\\\\n",
       " <dbl> & <dbl> & <dbl> & <dbl> & <dbl> & <dbl> & <dbl> & <dbl> & <dbl> & <dbl> & ... & <dbl> & <dbl> & <dbl> & <dbl> & <dbl> & <dbl> & <dbl> & <dbl> & <dbl> & <dbl>\\\\\n",
       "\\hline\n",
       "\t 73557 & 99 & 99 & 99 & 99 & 99 & 99 & 99 & 99 & 99 & ... & 99 & 99 & 99 & 99 & 99 & 99 & 99 & 99 & 99 & 99\\\\\n",
       "\t 73558 &  2 &  2 &  4 &  4 &  5 &  2 &  4 &  3 &  4 & ... & 99 & 99 & 99 & 99 & 99 & 99 & 99 & 99 & 99 & 99\\\\\n",
       "\t 73559 &  1 &  1 &  1 &  2 &  2 &  2 &  1 &  1 &  1 & ... & 99 & 99 & 99 & 99 & 99 & 99 & 99 & 99 & 99 & 99\\\\\n",
       "\t 73561 & 99 & 99 & 99 & 99 & 99 & 99 & 99 & 99 & 99 & ... & 99 & 99 & 99 & 99 & 99 & 99 & 99 & 99 & 99 & 99\\\\\n",
       "\t 73562 &  2 &  2 &  2 &  3 &  2 &  3 &  2 &  2 &  2 & ... & 99 & 99 & 99 & 99 & 99 & 99 & 99 & 99 & 99 & 99\\\\\n",
       "\t 73564 &  2 &  1 &  2 &  2 &  1 &  2 &  2 &  1 &  2 & ... &  2 &  2 &  2 &  2 &  2 &  2 &  2 &  2 &  2 &  2\\\\\n",
       "\\end{tabular}\n"
      ],
      "text/markdown": [
       "\n",
       "A tibble: 6 x 337\n",
       "\n",
       "| SEQN &lt;dbl&gt; | OHX02PCD &lt;dbl&gt; | OHX02PCM &lt;dbl&gt; | OHX02PCS &lt;dbl&gt; | OHX02PCP &lt;dbl&gt; | OHX02PCL &lt;dbl&gt; | OHX02PCA &lt;dbl&gt; | OHX02LAD &lt;dbl&gt; | OHX02LAM &lt;dbl&gt; | OHX02LAS &lt;dbl&gt; | ... ... | OHX31PCS &lt;dbl&gt; | OHX31PCP &lt;dbl&gt; | OHX31PCL &lt;dbl&gt; | OHX31PCA &lt;dbl&gt; | OHX31LAD &lt;dbl&gt; | OHX31LAM &lt;dbl&gt; | OHX31LAS &lt;dbl&gt; | OHX31LAP &lt;dbl&gt; | OHX31LAL &lt;dbl&gt; | OHX31LAA &lt;dbl&gt; |\n",
       "|---|---|---|---|---|---|---|---|---|---|---|---|---|---|---|---|---|---|---|---|---|\n",
       "| 73557 | 99 | 99 | 99 | 99 | 99 | 99 | 99 | 99 | 99 | ... | 99 | 99 | 99 | 99 | 99 | 99 | 99 | 99 | 99 | 99 |\n",
       "| 73558 |  2 |  2 |  4 |  4 |  5 |  2 |  4 |  3 |  4 | ... | 99 | 99 | 99 | 99 | 99 | 99 | 99 | 99 | 99 | 99 |\n",
       "| 73559 |  1 |  1 |  1 |  2 |  2 |  2 |  1 |  1 |  1 | ... | 99 | 99 | 99 | 99 | 99 | 99 | 99 | 99 | 99 | 99 |\n",
       "| 73561 | 99 | 99 | 99 | 99 | 99 | 99 | 99 | 99 | 99 | ... | 99 | 99 | 99 | 99 | 99 | 99 | 99 | 99 | 99 | 99 |\n",
       "| 73562 |  2 |  2 |  2 |  3 |  2 |  3 |  2 |  2 |  2 | ... | 99 | 99 | 99 | 99 | 99 | 99 | 99 | 99 | 99 | 99 |\n",
       "| 73564 |  2 |  1 |  2 |  2 |  1 |  2 |  2 |  1 |  2 | ... |  2 |  2 |  2 |  2 |  2 |  2 |  2 |  2 |  2 |  2 |\n",
       "\n"
      ],
      "text/plain": [
       "  SEQN  OHX02PCD OHX02PCM OHX02PCS OHX02PCP OHX02PCL OHX02PCA OHX02LAD OHX02LAM\n",
       "1 73557 99       99       99       99       99       99       99       99      \n",
       "2 73558  2        2        4        4        5        2        4        3      \n",
       "3 73559  1        1        1        2        2        2        1        1      \n",
       "4 73561 99       99       99       99       99       99       99       99      \n",
       "5 73562  2        2        2        3        2        3        2        2      \n",
       "6 73564  2        1        2        2        1        2        2        1      \n",
       "  OHX02LAS ... OHX31PCS OHX31PCP OHX31PCL OHX31PCA OHX31LAD OHX31LAM OHX31LAS\n",
       "1 99       ... 99       99       99       99       99       99       99      \n",
       "2  4       ... 99       99       99       99       99       99       99      \n",
       "3  1       ... 99       99       99       99       99       99       99      \n",
       "4 99       ... 99       99       99       99       99       99       99      \n",
       "5  2       ... 99       99       99       99       99       99       99      \n",
       "6  2       ...  2        2        2        2        2        2        2      \n",
       "  OHX31LAP OHX31LAL OHX31LAA\n",
       "1 99       99       99      \n",
       "2 99       99       99      \n",
       "3 99       99       99      \n",
       "4 99       99       99      \n",
       "5 99       99       99      \n",
       "6  2        2        2      "
      ]
     },
     "metadata": {},
     "output_type": "display_data"
    }
   ],
   "source": [
    "# Periodontal disease with clinical assessment (Oral Health - Periodontal)\n",
    "\n",
    "periodontal_13_14 <- read_xpt(file.path(path_to_data, \"OHXPER_H.xpt.txt\"))\n",
    "\n",
    "selected_cols <- colnames(periodontal_13_14)[grepl(\"^OHX\\\\d{2}(PC|LA)[A-Z]$\", colnames(periodontal_13_14))]\n",
    "\n",
    "periodontal_13_14_selected <- periodontal_13_14 %>%\n",
    "    select(SEQN, all_of(selected_cols))\n",
    "\n",
    "head(periodontal_13_14_selected)"
   ]
  },
  {
   "cell_type": "code",
   "execution_count": 49,
   "metadata": {
    "vscode": {
     "languageId": "r"
    }
   },
   "outputs": [
    {
     "data": {
      "text/html": [
       "<table class=\"dataframe\">\n",
       "<caption>A tibble: 6 x 110</caption>\n",
       "<thead>\n",
       "\t<tr><th scope=col>SEQN</th><th scope=col>OHDEXSTS</th><th scope=col>OHDDESTS</th><th scope=col>OHXIMP</th><th scope=col>OHX01TC</th><th scope=col>OHX02TC</th><th scope=col>OHX03TC</th><th scope=col>OHX04TC</th><th scope=col>OHX05TC</th><th scope=col>OHX06TC</th><th scope=col>...</th><th scope=col>OHX14SE</th><th scope=col>OHX15SE</th><th scope=col>OHX18SE</th><th scope=col>OHX19SE</th><th scope=col>OHX20SE</th><th scope=col>OHX21SE</th><th scope=col>OHX28SE</th><th scope=col>OHX29SE</th><th scope=col>OHX30SE</th><th scope=col>OHX31SE</th></tr>\n",
       "\t<tr><th scope=col>&lt;dbl&gt;</th><th scope=col>&lt;dbl&gt;</th><th scope=col>&lt;dbl&gt;</th><th scope=col>&lt;dbl&gt;</th><th scope=col>&lt;dbl&gt;</th><th scope=col>&lt;dbl&gt;</th><th scope=col>&lt;dbl&gt;</th><th scope=col>&lt;dbl&gt;</th><th scope=col>&lt;dbl&gt;</th><th scope=col>&lt;dbl&gt;</th><th scope=col>...</th><th scope=col>&lt;chr&gt;</th><th scope=col>&lt;chr&gt;</th><th scope=col>&lt;chr&gt;</th><th scope=col>&lt;chr&gt;</th><th scope=col>&lt;chr&gt;</th><th scope=col>&lt;chr&gt;</th><th scope=col>&lt;chr&gt;</th><th scope=col>&lt;chr&gt;</th><th scope=col>&lt;chr&gt;</th><th scope=col>&lt;chr&gt;</th></tr>\n",
       "</thead>\n",
       "<tbody>\n",
       "\t<tr><td>73557</td><td>1</td><td>1</td><td> 2</td><td>4</td><td>4</td><td>4</td><td>4</td><td>4</td><td>4</td><td>...</td><td> </td><td> </td><td> </td><td> </td><td> </td><td> </td><td> </td><td> </td><td> </td><td> </td></tr>\n",
       "\t<tr><td>73558</td><td>1</td><td>1</td><td> 2</td><td>4</td><td>2</td><td>5</td><td>2</td><td>2</td><td>2</td><td>...</td><td> </td><td> </td><td> </td><td> </td><td> </td><td> </td><td> </td><td> </td><td> </td><td> </td></tr>\n",
       "\t<tr><td>73559</td><td>1</td><td>1</td><td> 2</td><td>4</td><td>2</td><td>2</td><td>2</td><td>2</td><td>2</td><td>...</td><td> </td><td> </td><td> </td><td> </td><td> </td><td> </td><td> </td><td> </td><td> </td><td> </td></tr>\n",
       "\t<tr><td>73560</td><td>1</td><td>1</td><td>NA</td><td>4</td><td>4</td><td>2</td><td>1</td><td>1</td><td>4</td><td>...</td><td>1</td><td>9</td><td>9</td><td>1</td><td>4</td><td>0</td><td>4</td><td>4</td><td>1</td><td>9</td></tr>\n",
       "\t<tr><td>73561</td><td>1</td><td>1</td><td> 2</td><td>4</td><td>4</td><td>2</td><td>4</td><td>2</td><td>2</td><td>...</td><td> </td><td> </td><td> </td><td> </td><td> </td><td> </td><td> </td><td> </td><td> </td><td> </td></tr>\n",
       "\t<tr><td>73562</td><td>1</td><td>1</td><td> 2</td><td>4</td><td>2</td><td>2</td><td>4</td><td>2</td><td>4</td><td>...</td><td> </td><td> </td><td> </td><td> </td><td> </td><td> </td><td> </td><td> </td><td> </td><td> </td></tr>\n",
       "</tbody>\n",
       "</table>\n"
      ],
      "text/latex": [
       "A tibble: 6 x 110\n",
       "\\begin{tabular}{lllllllllllllllllllll}\n",
       " SEQN & OHDEXSTS & OHDDESTS & OHXIMP & OHX01TC & OHX02TC & OHX03TC & OHX04TC & OHX05TC & OHX06TC & ... & OHX14SE & OHX15SE & OHX18SE & OHX19SE & OHX20SE & OHX21SE & OHX28SE & OHX29SE & OHX30SE & OHX31SE\\\\\n",
       " <dbl> & <dbl> & <dbl> & <dbl> & <dbl> & <dbl> & <dbl> & <dbl> & <dbl> & <dbl> & ... & <chr> & <chr> & <chr> & <chr> & <chr> & <chr> & <chr> & <chr> & <chr> & <chr>\\\\\n",
       "\\hline\n",
       "\t 73557 & 1 & 1 &  2 & 4 & 4 & 4 & 4 & 4 & 4 & ... &   &   &   &   &   &   &   &   &   &  \\\\\n",
       "\t 73558 & 1 & 1 &  2 & 4 & 2 & 5 & 2 & 2 & 2 & ... &   &   &   &   &   &   &   &   &   &  \\\\\n",
       "\t 73559 & 1 & 1 &  2 & 4 & 2 & 2 & 2 & 2 & 2 & ... &   &   &   &   &   &   &   &   &   &  \\\\\n",
       "\t 73560 & 1 & 1 & NA & 4 & 4 & 2 & 1 & 1 & 4 & ... & 1 & 9 & 9 & 1 & 4 & 0 & 4 & 4 & 1 & 9\\\\\n",
       "\t 73561 & 1 & 1 &  2 & 4 & 4 & 2 & 4 & 2 & 2 & ... &   &   &   &   &   &   &   &   &   &  \\\\\n",
       "\t 73562 & 1 & 1 &  2 & 4 & 2 & 2 & 4 & 2 & 4 & ... &   &   &   &   &   &   &   &   &   &  \\\\\n",
       "\\end{tabular}\n"
      ],
      "text/markdown": [
       "\n",
       "A tibble: 6 x 110\n",
       "\n",
       "| SEQN &lt;dbl&gt; | OHDEXSTS &lt;dbl&gt; | OHDDESTS &lt;dbl&gt; | OHXIMP &lt;dbl&gt; | OHX01TC &lt;dbl&gt; | OHX02TC &lt;dbl&gt; | OHX03TC &lt;dbl&gt; | OHX04TC &lt;dbl&gt; | OHX05TC &lt;dbl&gt; | OHX06TC &lt;dbl&gt; | ... ... | OHX14SE &lt;chr&gt; | OHX15SE &lt;chr&gt; | OHX18SE &lt;chr&gt; | OHX19SE &lt;chr&gt; | OHX20SE &lt;chr&gt; | OHX21SE &lt;chr&gt; | OHX28SE &lt;chr&gt; | OHX29SE &lt;chr&gt; | OHX30SE &lt;chr&gt; | OHX31SE &lt;chr&gt; |\n",
       "|---|---|---|---|---|---|---|---|---|---|---|---|---|---|---|---|---|---|---|---|---|\n",
       "| 73557 | 1 | 1 |  2 | 4 | 4 | 4 | 4 | 4 | 4 | ... | <!----> | <!----> | <!----> | <!----> | <!----> | <!----> | <!----> | <!----> | <!----> | <!----> |\n",
       "| 73558 | 1 | 1 |  2 | 4 | 2 | 5 | 2 | 2 | 2 | ... | <!----> | <!----> | <!----> | <!----> | <!----> | <!----> | <!----> | <!----> | <!----> | <!----> |\n",
       "| 73559 | 1 | 1 |  2 | 4 | 2 | 2 | 2 | 2 | 2 | ... | <!----> | <!----> | <!----> | <!----> | <!----> | <!----> | <!----> | <!----> | <!----> | <!----> |\n",
       "| 73560 | 1 | 1 | NA | 4 | 4 | 2 | 1 | 1 | 4 | ... | 1 | 9 | 9 | 1 | 4 | 0 | 4 | 4 | 1 | 9 |\n",
       "| 73561 | 1 | 1 |  2 | 4 | 4 | 2 | 4 | 2 | 2 | ... | <!----> | <!----> | <!----> | <!----> | <!----> | <!----> | <!----> | <!----> | <!----> | <!----> |\n",
       "| 73562 | 1 | 1 |  2 | 4 | 2 | 2 | 4 | 2 | 4 | ... | <!----> | <!----> | <!----> | <!----> | <!----> | <!----> | <!----> | <!----> | <!----> | <!----> |\n",
       "\n"
      ],
      "text/plain": [
       "  SEQN  OHDEXSTS OHDDESTS OHXIMP OHX01TC OHX02TC OHX03TC OHX04TC OHX05TC\n",
       "1 73557 1        1         2     4       4       4       4       4      \n",
       "2 73558 1        1         2     4       2       5       2       2      \n",
       "3 73559 1        1         2     4       2       2       2       2      \n",
       "4 73560 1        1        NA     4       4       2       1       1      \n",
       "5 73561 1        1         2     4       4       2       4       2      \n",
       "6 73562 1        1         2     4       2       2       4       2      \n",
       "  OHX06TC ... OHX14SE OHX15SE OHX18SE OHX19SE OHX20SE OHX21SE OHX28SE OHX29SE\n",
       "1 4       ...                                                                \n",
       "2 2       ...                                                                \n",
       "3 2       ...                                                                \n",
       "4 4       ... 1       9       9       1       4       0       4       4      \n",
       "5 2       ...                                                                \n",
       "6 4       ...                                                                \n",
       "  OHX30SE OHX31SE\n",
       "1                \n",
       "2                \n",
       "3                \n",
       "4 1       9      \n",
       "5                \n",
       "6                "
      ]
     },
     "metadata": {},
     "output_type": "display_data"
    }
   ],
   "source": [
    "# Oral Health - Dentition\n",
    "\n",
    "dentition_13_14 <- read_xpt(file.path(path_to_data, \"OHXDEN_H.xpt.txt\"))\n",
    "head(dentition_13_14)"
   ]
  },
  {
   "cell_type": "code",
   "execution_count": 29,
   "metadata": {
    "vscode": {
     "languageId": "r"
    }
   },
   "outputs": [
    {
     "data": {
      "text/html": [
       "<table class=\"dataframe\">\n",
       "<caption>A tibble: 6 x 54</caption>\n",
       "<thead>\n",
       "\t<tr><th scope=col>SEQN</th><th scope=col>OHQ030</th><th scope=col>OHQ033</th><th scope=col>OHQ770</th><th scope=col>OHQ780A</th><th scope=col>OHQ780B</th><th scope=col>OHQ780C</th><th scope=col>OHQ780D</th><th scope=col>OHQ780E</th><th scope=col>OHQ780F</th><th scope=col>...</th><th scope=col>OHQ850</th><th scope=col>OHQ855</th><th scope=col>OHQ860</th><th scope=col>OHQ865</th><th scope=col>OHQ870</th><th scope=col>OHQ875</th><th scope=col>OHQ880</th><th scope=col>OHQ885</th><th scope=col>OHQ895</th><th scope=col>OHQ900</th></tr>\n",
       "\t<tr><th scope=col>&lt;dbl&gt;</th><th scope=col>&lt;dbl&gt;</th><th scope=col>&lt;dbl&gt;</th><th scope=col>&lt;dbl&gt;</th><th scope=col>&lt;dbl&gt;</th><th scope=col>&lt;dbl&gt;</th><th scope=col>&lt;dbl&gt;</th><th scope=col>&lt;dbl&gt;</th><th scope=col>&lt;dbl&gt;</th><th scope=col>&lt;dbl&gt;</th><th scope=col>...</th><th scope=col>&lt;dbl&gt;</th><th scope=col>&lt;dbl&gt;</th><th scope=col>&lt;dbl&gt;</th><th scope=col>&lt;dbl&gt;</th><th scope=col>&lt;dbl&gt;</th><th scope=col>&lt;dbl&gt;</th><th scope=col>&lt;dbl&gt;</th><th scope=col>&lt;dbl&gt;</th><th scope=col>&lt;dbl&gt;</th><th scope=col>&lt;dbl&gt;</th></tr>\n",
       "</thead>\n",
       "<tbody>\n",
       "\t<tr><td>73557</td><td>6</td><td>4</td><td>2</td><td>NA</td><td>NA</td><td>NA</td><td>NA</td><td>NA</td><td>NA</td><td>...</td><td> 2</td><td> 2</td><td> 2</td><td> 2</td><td> 0</td><td> 0</td><td> 2</td><td> 2</td><td>NA</td><td>NA</td></tr>\n",
       "\t<tr><td>73558</td><td>6</td><td>3</td><td>1</td><td>10</td><td>NA</td><td>NA</td><td>NA</td><td>NA</td><td>NA</td><td>...</td><td> 1</td><td> 2</td><td> 2</td><td> 2</td><td> 4</td><td> 0</td><td> 2</td><td> 2</td><td>NA</td><td>NA</td></tr>\n",
       "\t<tr><td>73559</td><td>1</td><td>1</td><td>2</td><td>NA</td><td>NA</td><td>NA</td><td>NA</td><td>NA</td><td>NA</td><td>...</td><td> 1</td><td> 2</td><td> 2</td><td> 2</td><td> 1</td><td> 7</td><td> 1</td><td> 1</td><td> 1</td><td> 3</td></tr>\n",
       "\t<tr><td>73560</td><td>1</td><td>1</td><td>2</td><td>NA</td><td>NA</td><td>NA</td><td>NA</td><td>NA</td><td>NA</td><td>...</td><td>NA</td><td>NA</td><td>NA</td><td>NA</td><td>NA</td><td>NA</td><td>NA</td><td>NA</td><td>NA</td><td>NA</td></tr>\n",
       "\t<tr><td>73561</td><td>1</td><td>1</td><td>2</td><td>NA</td><td>NA</td><td>NA</td><td>NA</td><td>NA</td><td>NA</td><td>...</td><td> 2</td><td> 2</td><td> 2</td><td> 2</td><td> 7</td><td> 7</td><td> 2</td><td> 2</td><td>NA</td><td>NA</td></tr>\n",
       "\t<tr><td>73562</td><td>5</td><td>3</td><td>2</td><td>NA</td><td>NA</td><td>NA</td><td>NA</td><td>NA</td><td>NA</td><td>...</td><td> 2</td><td> 1</td><td> 2</td><td> 2</td><td> 7</td><td> 7</td><td> 2</td><td> 2</td><td>NA</td><td>NA</td></tr>\n",
       "</tbody>\n",
       "</table>\n"
      ],
      "text/latex": [
       "A tibble: 6 x 54\n",
       "\\begin{tabular}{lllllllllllllllllllll}\n",
       " SEQN & OHQ030 & OHQ033 & OHQ770 & OHQ780A & OHQ780B & OHQ780C & OHQ780D & OHQ780E & OHQ780F & ... & OHQ850 & OHQ855 & OHQ860 & OHQ865 & OHQ870 & OHQ875 & OHQ880 & OHQ885 & OHQ895 & OHQ900\\\\\n",
       " <dbl> & <dbl> & <dbl> & <dbl> & <dbl> & <dbl> & <dbl> & <dbl> & <dbl> & <dbl> & ... & <dbl> & <dbl> & <dbl> & <dbl> & <dbl> & <dbl> & <dbl> & <dbl> & <dbl> & <dbl>\\\\\n",
       "\\hline\n",
       "\t 73557 & 6 & 4 & 2 & NA & NA & NA & NA & NA & NA & ... &  2 &  2 &  2 &  2 &  0 &  0 &  2 &  2 & NA & NA\\\\\n",
       "\t 73558 & 6 & 3 & 1 & 10 & NA & NA & NA & NA & NA & ... &  1 &  2 &  2 &  2 &  4 &  0 &  2 &  2 & NA & NA\\\\\n",
       "\t 73559 & 1 & 1 & 2 & NA & NA & NA & NA & NA & NA & ... &  1 &  2 &  2 &  2 &  1 &  7 &  1 &  1 &  1 &  3\\\\\n",
       "\t 73560 & 1 & 1 & 2 & NA & NA & NA & NA & NA & NA & ... & NA & NA & NA & NA & NA & NA & NA & NA & NA & NA\\\\\n",
       "\t 73561 & 1 & 1 & 2 & NA & NA & NA & NA & NA & NA & ... &  2 &  2 &  2 &  2 &  7 &  7 &  2 &  2 & NA & NA\\\\\n",
       "\t 73562 & 5 & 3 & 2 & NA & NA & NA & NA & NA & NA & ... &  2 &  1 &  2 &  2 &  7 &  7 &  2 &  2 & NA & NA\\\\\n",
       "\\end{tabular}\n"
      ],
      "text/markdown": [
       "\n",
       "A tibble: 6 x 54\n",
       "\n",
       "| SEQN &lt;dbl&gt; | OHQ030 &lt;dbl&gt; | OHQ033 &lt;dbl&gt; | OHQ770 &lt;dbl&gt; | OHQ780A &lt;dbl&gt; | OHQ780B &lt;dbl&gt; | OHQ780C &lt;dbl&gt; | OHQ780D &lt;dbl&gt; | OHQ780E &lt;dbl&gt; | OHQ780F &lt;dbl&gt; | ... ... | OHQ850 &lt;dbl&gt; | OHQ855 &lt;dbl&gt; | OHQ860 &lt;dbl&gt; | OHQ865 &lt;dbl&gt; | OHQ870 &lt;dbl&gt; | OHQ875 &lt;dbl&gt; | OHQ880 &lt;dbl&gt; | OHQ885 &lt;dbl&gt; | OHQ895 &lt;dbl&gt; | OHQ900 &lt;dbl&gt; |\n",
       "|---|---|---|---|---|---|---|---|---|---|---|---|---|---|---|---|---|---|---|---|---|\n",
       "| 73557 | 6 | 4 | 2 | NA | NA | NA | NA | NA | NA | ... |  2 |  2 |  2 |  2 |  0 |  0 |  2 |  2 | NA | NA |\n",
       "| 73558 | 6 | 3 | 1 | 10 | NA | NA | NA | NA | NA | ... |  1 |  2 |  2 |  2 |  4 |  0 |  2 |  2 | NA | NA |\n",
       "| 73559 | 1 | 1 | 2 | NA | NA | NA | NA | NA | NA | ... |  1 |  2 |  2 |  2 |  1 |  7 |  1 |  1 |  1 |  3 |\n",
       "| 73560 | 1 | 1 | 2 | NA | NA | NA | NA | NA | NA | ... | NA | NA | NA | NA | NA | NA | NA | NA | NA | NA |\n",
       "| 73561 | 1 | 1 | 2 | NA | NA | NA | NA | NA | NA | ... |  2 |  2 |  2 |  2 |  7 |  7 |  2 |  2 | NA | NA |\n",
       "| 73562 | 5 | 3 | 2 | NA | NA | NA | NA | NA | NA | ... |  2 |  1 |  2 |  2 |  7 |  7 |  2 |  2 | NA | NA |\n",
       "\n"
      ],
      "text/plain": [
       "  SEQN  OHQ030 OHQ033 OHQ770 OHQ780A OHQ780B OHQ780C OHQ780D OHQ780E OHQ780F\n",
       "1 73557 6      4      2      NA      NA      NA      NA      NA      NA     \n",
       "2 73558 6      3      1      10      NA      NA      NA      NA      NA     \n",
       "3 73559 1      1      2      NA      NA      NA      NA      NA      NA     \n",
       "4 73560 1      1      2      NA      NA      NA      NA      NA      NA     \n",
       "5 73561 1      1      2      NA      NA      NA      NA      NA      NA     \n",
       "6 73562 5      3      2      NA      NA      NA      NA      NA      NA     \n",
       "  ... OHQ850 OHQ855 OHQ860 OHQ865 OHQ870 OHQ875 OHQ880 OHQ885 OHQ895 OHQ900\n",
       "1 ...  2      2      2      2      0      0      2      2     NA     NA    \n",
       "2 ...  1      2      2      2      4      0      2      2     NA     NA    \n",
       "3 ...  1      2      2      2      1      7      1      1      1      3    \n",
       "4 ... NA     NA     NA     NA     NA     NA     NA     NA     NA     NA    \n",
       "5 ...  2      2      2      2      7      7      2      2     NA     NA    \n",
       "6 ...  2      1      2      2      7      7      2      2     NA     NA    "
      ]
     },
     "metadata": {},
     "output_type": "display_data"
    }
   ],
   "source": [
    "# Periodontal disease with Oral Health\n",
    "\n",
    "oral_health_13_14 <- read_xpt(file.path(path_to_data, \"OHQ_H.xpt.txt\"))\n",
    "head(oral_health_13_14)"
   ]
  },
  {
   "cell_type": "code",
   "execution_count": 45,
   "metadata": {
    "vscode": {
     "languageId": "r"
    }
   },
   "outputs": [
    {
     "data": {
      "text/html": [
       "<table class=\"dataframe\">\n",
       "<caption>A tibble: 6 x 2</caption>\n",
       "<thead>\n",
       "\t<tr><th scope=col>SEQN</th><th scope=col>PFQ061I</th></tr>\n",
       "\t<tr><th scope=col>&lt;dbl&gt;</th><th scope=col>&lt;dbl&gt;</th></tr>\n",
       "</thead>\n",
       "<tbody>\n",
       "\t<tr><td>73557</td><td> 1</td></tr>\n",
       "\t<tr><td>73558</td><td>NA</td></tr>\n",
       "\t<tr><td>73559</td><td> 1</td></tr>\n",
       "\t<tr><td>73560</td><td>NA</td></tr>\n",
       "\t<tr><td>73561</td><td> 1</td></tr>\n",
       "\t<tr><td>73562</td><td> 1</td></tr>\n",
       "</tbody>\n",
       "</table>\n"
      ],
      "text/latex": [
       "A tibble: 6 x 2\n",
       "\\begin{tabular}{ll}\n",
       " SEQN & PFQ061I\\\\\n",
       " <dbl> & <dbl>\\\\\n",
       "\\hline\n",
       "\t 73557 &  1\\\\\n",
       "\t 73558 & NA\\\\\n",
       "\t 73559 &  1\\\\\n",
       "\t 73560 & NA\\\\\n",
       "\t 73561 &  1\\\\\n",
       "\t 73562 &  1\\\\\n",
       "\\end{tabular}\n"
      ],
      "text/markdown": [
       "\n",
       "A tibble: 6 x 2\n",
       "\n",
       "| SEQN &lt;dbl&gt; | PFQ061I &lt;dbl&gt; |\n",
       "|---|---|\n",
       "| 73557 |  1 |\n",
       "| 73558 | NA |\n",
       "| 73559 |  1 |\n",
       "| 73560 | NA |\n",
       "| 73561 |  1 |\n",
       "| 73562 |  1 |\n",
       "\n"
      ],
      "text/plain": [
       "  SEQN  PFQ061I\n",
       "1 73557  1     \n",
       "2 73558 NA     \n",
       "3 73559  1     \n",
       "4 73560 NA     \n",
       "5 73561  1     \n",
       "6 73562  1     "
      ]
     },
     "metadata": {},
     "output_type": "display_data"
    }
   ],
   "source": [
    "# Intrinsic Capacity - Physical Functioning\n",
    "\n",
    "locomotion_13_14 <- read_xpt(file.path(path_to_data, \"PFQ061I.txt\"))\n",
    "\n",
    "locomotion_13_14_selected <- locomotion_13_14 %>%\n",
    "    select(SEQN, PFQ061I)\n",
    "\n",
    "head(locomotion_13_14_selected)"
   ]
  },
  {
   "cell_type": "code",
   "execution_count": 46,
   "metadata": {
    "vscode": {
     "languageId": "r"
    }
   },
   "outputs": [
    {
     "data": {
      "text/html": [
       "<table class=\"dataframe\">\n",
       "<caption>A tibble: 6 x 4</caption>\n",
       "<thead>\n",
       "\t<tr><th scope=col>SEQN</th><th scope=col>DLQ010</th><th scope=col>DLQ020</th><th scope=col>DLQ040</th></tr>\n",
       "\t<tr><th scope=col>&lt;dbl&gt;</th><th scope=col>&lt;dbl&gt;</th><th scope=col>&lt;dbl&gt;</th><th scope=col>&lt;dbl&gt;</th></tr>\n",
       "</thead>\n",
       "<tbody>\n",
       "\t<tr><td>73557</td><td>2</td><td>2</td><td>2</td></tr>\n",
       "\t<tr><td>73558</td><td>2</td><td>2</td><td>2</td></tr>\n",
       "\t<tr><td>73559</td><td>1</td><td>2</td><td>2</td></tr>\n",
       "\t<tr><td>73560</td><td>2</td><td>2</td><td>2</td></tr>\n",
       "\t<tr><td>73561</td><td>2</td><td>2</td><td>2</td></tr>\n",
       "\t<tr><td>73562</td><td>1</td><td>1</td><td>2</td></tr>\n",
       "</tbody>\n",
       "</table>\n"
      ],
      "text/latex": [
       "A tibble: 6 x 4\n",
       "\\begin{tabular}{llll}\n",
       " SEQN & DLQ010 & DLQ020 & DLQ040\\\\\n",
       " <dbl> & <dbl> & <dbl> & <dbl>\\\\\n",
       "\\hline\n",
       "\t 73557 & 2 & 2 & 2\\\\\n",
       "\t 73558 & 2 & 2 & 2\\\\\n",
       "\t 73559 & 1 & 2 & 2\\\\\n",
       "\t 73560 & 2 & 2 & 2\\\\\n",
       "\t 73561 & 2 & 2 & 2\\\\\n",
       "\t 73562 & 1 & 1 & 2\\\\\n",
       "\\end{tabular}\n"
      ],
      "text/markdown": [
       "\n",
       "A tibble: 6 x 4\n",
       "\n",
       "| SEQN &lt;dbl&gt; | DLQ010 &lt;dbl&gt; | DLQ020 &lt;dbl&gt; | DLQ040 &lt;dbl&gt; |\n",
       "|---|---|---|---|\n",
       "| 73557 | 2 | 2 | 2 |\n",
       "| 73558 | 2 | 2 | 2 |\n",
       "| 73559 | 1 | 2 | 2 |\n",
       "| 73560 | 2 | 2 | 2 |\n",
       "| 73561 | 2 | 2 | 2 |\n",
       "| 73562 | 1 | 1 | 2 |\n",
       "\n"
      ],
      "text/plain": [
       "  SEQN  DLQ010 DLQ020 DLQ040\n",
       "1 73557 2      2      2     \n",
       "2 73558 2      2      2     \n",
       "3 73559 1      2      2     \n",
       "4 73560 2      2      2     \n",
       "5 73561 2      2      2     \n",
       "6 73562 1      1      2     "
      ]
     },
     "metadata": {},
     "output_type": "display_data"
    }
   ],
   "source": [
    "# Intrinsic Capacity - Disability\n",
    "\n",
    "disability_13_14 <- read_xpt(file.path(path_to_data, \"DLQ040.txt\"))\n",
    "\n",
    "disability_13_14_selected <- disability_13_14 %>%\n",
    "    select(SEQN, DLQ010, DLQ020, DLQ040)\n",
    "\n",
    "head(disability_13_14_selected)"
   ]
  },
  {
   "cell_type": "code",
   "execution_count": 47,
   "metadata": {
    "vscode": {
     "languageId": "r"
    }
   },
   "outputs": [
    {
     "data": {
      "text/html": [
       "<table class=\"dataframe\">\n",
       "<caption>A tibble: 6 x 4</caption>\n",
       "<thead>\n",
       "\t<tr><th scope=col>SEQN</th><th scope=col>DPQ010</th><th scope=col>DPQ020</th><th scope=col>DPQ050</th></tr>\n",
       "\t<tr><th scope=col>&lt;dbl&gt;</th><th scope=col>&lt;dbl&gt;</th><th scope=col>&lt;dbl&gt;</th><th scope=col>&lt;dbl&gt;</th></tr>\n",
       "</thead>\n",
       "<tbody>\n",
       "\t<tr><td>73557</td><td>1</td><td>0</td><td>0</td></tr>\n",
       "\t<tr><td>73558</td><td>2</td><td>0</td><td>0</td></tr>\n",
       "\t<tr><td>73559</td><td>0</td><td>0</td><td>0</td></tr>\n",
       "\t<tr><td>73561</td><td>2</td><td>1</td><td>3</td></tr>\n",
       "\t<tr><td>73562</td><td>3</td><td>3</td><td>3</td></tr>\n",
       "\t<tr><td>73564</td><td>0</td><td>1</td><td>0</td></tr>\n",
       "</tbody>\n",
       "</table>\n"
      ],
      "text/latex": [
       "A tibble: 6 x 4\n",
       "\\begin{tabular}{llll}\n",
       " SEQN & DPQ010 & DPQ020 & DPQ050\\\\\n",
       " <dbl> & <dbl> & <dbl> & <dbl>\\\\\n",
       "\\hline\n",
       "\t 73557 & 1 & 0 & 0\\\\\n",
       "\t 73558 & 2 & 0 & 0\\\\\n",
       "\t 73559 & 0 & 0 & 0\\\\\n",
       "\t 73561 & 2 & 1 & 3\\\\\n",
       "\t 73562 & 3 & 3 & 3\\\\\n",
       "\t 73564 & 0 & 1 & 0\\\\\n",
       "\\end{tabular}\n"
      ],
      "text/markdown": [
       "\n",
       "A tibble: 6 x 4\n",
       "\n",
       "| SEQN &lt;dbl&gt; | DPQ010 &lt;dbl&gt; | DPQ020 &lt;dbl&gt; | DPQ050 &lt;dbl&gt; |\n",
       "|---|---|---|---|\n",
       "| 73557 | 1 | 0 | 0 |\n",
       "| 73558 | 2 | 0 | 0 |\n",
       "| 73559 | 0 | 0 | 0 |\n",
       "| 73561 | 2 | 1 | 3 |\n",
       "| 73562 | 3 | 3 | 3 |\n",
       "| 73564 | 0 | 1 | 0 |\n",
       "\n"
      ],
      "text/plain": [
       "  SEQN  DPQ010 DPQ020 DPQ050\n",
       "1 73557 1      0      0     \n",
       "2 73558 2      0      0     \n",
       "3 73559 0      0      0     \n",
       "4 73561 2      1      3     \n",
       "5 73562 3      3      3     \n",
       "6 73564 0      1      0     "
      ]
     },
     "metadata": {},
     "output_type": "display_data"
    }
   ],
   "source": [
    "# Intrinsic Capacity - Mental Health (Depression Screener)\n",
    "\n",
    "mental_health_13_14 <- read_xpt(file.path(path_to_data, \"DPQ-.txt\"))\n",
    "\n",
    "mental_health_13_14_selected <- mental_health_13_14 %>%\n",
    "    select(SEQN, DPQ010, DPQ020, DPQ050)\n",
    "\n",
    "head(mental_health_13_14_selected)"
   ]
  },
  {
   "cell_type": "code",
   "execution_count": 48,
   "metadata": {
    "vscode": {
     "languageId": "r"
    }
   },
   "outputs": [
    {
     "data": {
      "text/html": [
       "<table class=\"dataframe\">\n",
       "<caption>A tibble: 6 x 2</caption>\n",
       "<thead>\n",
       "\t<tr><th scope=col>SEQN</th><th scope=col>WHQ060</th></tr>\n",
       "\t<tr><th scope=col>&lt;dbl&gt;</th><th scope=col>&lt;dbl&gt;</th></tr>\n",
       "</thead>\n",
       "<tbody>\n",
       "\t<tr><td>73557</td><td> 1</td></tr>\n",
       "\t<tr><td>73558</td><td>NA</td></tr>\n",
       "\t<tr><td>73559</td><td>NA</td></tr>\n",
       "\t<tr><td>73561</td><td> 2</td></tr>\n",
       "\t<tr><td>73562</td><td>NA</td></tr>\n",
       "\t<tr><td>73564</td><td>NA</td></tr>\n",
       "</tbody>\n",
       "</table>\n"
      ],
      "text/latex": [
       "A tibble: 6 x 2\n",
       "\\begin{tabular}{ll}\n",
       " SEQN & WHQ060\\\\\n",
       " <dbl> & <dbl>\\\\\n",
       "\\hline\n",
       "\t 73557 &  1\\\\\n",
       "\t 73558 & NA\\\\\n",
       "\t 73559 & NA\\\\\n",
       "\t 73561 &  2\\\\\n",
       "\t 73562 & NA\\\\\n",
       "\t 73564 & NA\\\\\n",
       "\\end{tabular}\n"
      ],
      "text/markdown": [
       "\n",
       "A tibble: 6 x 2\n",
       "\n",
       "| SEQN &lt;dbl&gt; | WHQ060 &lt;dbl&gt; |\n",
       "|---|---|\n",
       "| 73557 |  1 |\n",
       "| 73558 | NA |\n",
       "| 73559 | NA |\n",
       "| 73561 |  2 |\n",
       "| 73562 | NA |\n",
       "| 73564 | NA |\n",
       "\n"
      ],
      "text/plain": [
       "  SEQN  WHQ060\n",
       "1 73557  1    \n",
       "2 73558 NA    \n",
       "3 73559 NA    \n",
       "4 73561  2    \n",
       "5 73562 NA    \n",
       "6 73564 NA    "
      ]
     },
     "metadata": {},
     "output_type": "display_data"
    }
   ],
   "source": [
    "# Intrinsic Capacity - Weight History\n",
    "\n",
    "weight_history_13_14 <- read_xpt(file.path(path_to_data, \"WHQ060.txt\"))\n",
    "\n",
    "weight_history_13_14_selected <- weight_history_13_14 %>%\n",
    "    select(SEQN, WHQ060)\n",
    "\n",
    "head(weight_history_13_14_selected)"
   ]
  },
  {
   "cell_type": "markdown",
   "metadata": {},
   "source": [
    "### Merge datasets"
   ]
  },
  {
   "cell_type": "code",
   "execution_count": 207,
   "metadata": {
    "vscode": {
     "languageId": "r"
    }
   },
   "outputs": [
    {
     "data": {
      "text/html": [
       "<table class=\"dataframe\">\n",
       "<caption>A tibble: 6 x 21</caption>\n",
       "<thead>\n",
       "\t<tr><th scope=col>SEQN</th><th scope=col>RIAGENDR</th><th scope=col>RIDAGEYR</th><th scope=col>RIDRETH1</th><th scope=col>DMDEDUC2</th><th scope=col>INDFMPIR</th><th scope=col>SMQ020</th><th scope=col>SMQ040</th><th scope=col>SMD650</th><th scope=col>ALQ101</th><th scope=col>...</th><th scope=col>MCQ160B</th><th scope=col>MCQ160C</th><th scope=col>MCQ160D</th><th scope=col>MCQ160E</th><th scope=col>MCQ160F</th><th scope=col>MCQ160O</th><th scope=col>MCQ160L</th><th scope=col>MCQ220</th><th scope=col>BPQ020</th><th scope=col>DIQ010</th></tr>\n",
       "\t<tr><th scope=col>&lt;dbl&gt;</th><th scope=col>&lt;dbl&gt;</th><th scope=col>&lt;dbl&gt;</th><th scope=col>&lt;dbl&gt;</th><th scope=col>&lt;dbl&gt;</th><th scope=col>&lt;dbl&gt;</th><th scope=col>&lt;dbl&gt;</th><th scope=col>&lt;dbl&gt;</th><th scope=col>&lt;dbl&gt;</th><th scope=col>&lt;dbl&gt;</th><th scope=col>...</th><th scope=col>&lt;dbl&gt;</th><th scope=col>&lt;dbl&gt;</th><th scope=col>&lt;dbl&gt;</th><th scope=col>&lt;dbl&gt;</th><th scope=col>&lt;dbl&gt;</th><th scope=col>&lt;dbl&gt;</th><th scope=col>&lt;dbl&gt;</th><th scope=col>&lt;dbl&gt;</th><th scope=col>&lt;dbl&gt;</th><th scope=col>&lt;dbl&gt;</th></tr>\n",
       "</thead>\n",
       "<tbody>\n",
       "\t<tr><td>73557</td><td>1</td><td>69</td><td>4</td><td> 3</td><td>0.84</td><td> 1</td><td> 3</td><td>NA</td><td> 1</td><td>...</td><td> 2</td><td> 2</td><td> 2</td><td> 2</td><td> 1</td><td> 2</td><td> 2</td><td> 2</td><td> 1</td><td>1</td></tr>\n",
       "\t<tr><td>73558</td><td>1</td><td>54</td><td>3</td><td> 3</td><td>1.78</td><td> 1</td><td> 2</td><td> 1</td><td> 1</td><td>...</td><td> 2</td><td> 2</td><td> 2</td><td> 2</td><td> 2</td><td> 2</td><td> 2</td><td> 2</td><td> 1</td><td>1</td></tr>\n",
       "\t<tr><td>73559</td><td>1</td><td>72</td><td>3</td><td> 4</td><td>4.51</td><td> 1</td><td> 3</td><td>NA</td><td> 1</td><td>...</td><td> 2</td><td> 2</td><td> 2</td><td> 2</td><td> 2</td><td> 2</td><td> 2</td><td> 1</td><td> 1</td><td>1</td></tr>\n",
       "\t<tr><td>73560</td><td>1</td><td> 9</td><td>3</td><td>NA</td><td>2.52</td><td>NA</td><td>NA</td><td>NA</td><td>NA</td><td>...</td><td>NA</td><td>NA</td><td>NA</td><td>NA</td><td>NA</td><td>NA</td><td>NA</td><td>NA</td><td>NA</td><td>2</td></tr>\n",
       "\t<tr><td>73561</td><td>2</td><td>73</td><td>3</td><td> 5</td><td>5.00</td><td> 2</td><td>NA</td><td>NA</td><td> 1</td><td>...</td><td> 2</td><td> 2</td><td> 2</td><td> 2</td><td> 2</td><td> 2</td><td> 2</td><td> 2</td><td> 1</td><td>2</td></tr>\n",
       "\t<tr><td>73562</td><td>1</td><td>56</td><td>1</td><td> 4</td><td>4.79</td><td> 1</td><td> 3</td><td>NA</td><td> 1</td><td>...</td><td> 2</td><td> 1</td><td> 2</td><td> 1</td><td> 2</td><td> 2</td><td> 2</td><td> 2</td><td> 1</td><td>2</td></tr>\n",
       "</tbody>\n",
       "</table>\n"
      ],
      "text/latex": [
       "A tibble: 6 x 21\n",
       "\\begin{tabular}{lllllllllllllllllllll}\n",
       " SEQN & RIAGENDR & RIDAGEYR & RIDRETH1 & DMDEDUC2 & INDFMPIR & SMQ020 & SMQ040 & SMD650 & ALQ101 & ... & MCQ160B & MCQ160C & MCQ160D & MCQ160E & MCQ160F & MCQ160O & MCQ160L & MCQ220 & BPQ020 & DIQ010\\\\\n",
       " <dbl> & <dbl> & <dbl> & <dbl> & <dbl> & <dbl> & <dbl> & <dbl> & <dbl> & <dbl> & ... & <dbl> & <dbl> & <dbl> & <dbl> & <dbl> & <dbl> & <dbl> & <dbl> & <dbl> & <dbl>\\\\\n",
       "\\hline\n",
       "\t 73557 & 1 & 69 & 4 &  3 & 0.84 &  1 &  3 & NA &  1 & ... &  2 &  2 &  2 &  2 &  1 &  2 &  2 &  2 &  1 & 1\\\\\n",
       "\t 73558 & 1 & 54 & 3 &  3 & 1.78 &  1 &  2 &  1 &  1 & ... &  2 &  2 &  2 &  2 &  2 &  2 &  2 &  2 &  1 & 1\\\\\n",
       "\t 73559 & 1 & 72 & 3 &  4 & 4.51 &  1 &  3 & NA &  1 & ... &  2 &  2 &  2 &  2 &  2 &  2 &  2 &  1 &  1 & 1\\\\\n",
       "\t 73560 & 1 &  9 & 3 & NA & 2.52 & NA & NA & NA & NA & ... & NA & NA & NA & NA & NA & NA & NA & NA & NA & 2\\\\\n",
       "\t 73561 & 2 & 73 & 3 &  5 & 5.00 &  2 & NA & NA &  1 & ... &  2 &  2 &  2 &  2 &  2 &  2 &  2 &  2 &  1 & 2\\\\\n",
       "\t 73562 & 1 & 56 & 1 &  4 & 4.79 &  1 &  3 & NA &  1 & ... &  2 &  1 &  2 &  1 &  2 &  2 &  2 &  2 &  1 & 2\\\\\n",
       "\\end{tabular}\n"
      ],
      "text/markdown": [
       "\n",
       "A tibble: 6 x 21\n",
       "\n",
       "| SEQN &lt;dbl&gt; | RIAGENDR &lt;dbl&gt; | RIDAGEYR &lt;dbl&gt; | RIDRETH1 &lt;dbl&gt; | DMDEDUC2 &lt;dbl&gt; | INDFMPIR &lt;dbl&gt; | SMQ020 &lt;dbl&gt; | SMQ040 &lt;dbl&gt; | SMD650 &lt;dbl&gt; | ALQ101 &lt;dbl&gt; | ... ... | MCQ160B &lt;dbl&gt; | MCQ160C &lt;dbl&gt; | MCQ160D &lt;dbl&gt; | MCQ160E &lt;dbl&gt; | MCQ160F &lt;dbl&gt; | MCQ160O &lt;dbl&gt; | MCQ160L &lt;dbl&gt; | MCQ220 &lt;dbl&gt; | BPQ020 &lt;dbl&gt; | DIQ010 &lt;dbl&gt; |\n",
       "|---|---|---|---|---|---|---|---|---|---|---|---|---|---|---|---|---|---|---|---|---|\n",
       "| 73557 | 1 | 69 | 4 |  3 | 0.84 |  1 |  3 | NA |  1 | ... |  2 |  2 |  2 |  2 |  1 |  2 |  2 |  2 |  1 | 1 |\n",
       "| 73558 | 1 | 54 | 3 |  3 | 1.78 |  1 |  2 |  1 |  1 | ... |  2 |  2 |  2 |  2 |  2 |  2 |  2 |  2 |  1 | 1 |\n",
       "| 73559 | 1 | 72 | 3 |  4 | 4.51 |  1 |  3 | NA |  1 | ... |  2 |  2 |  2 |  2 |  2 |  2 |  2 |  1 |  1 | 1 |\n",
       "| 73560 | 1 |  9 | 3 | NA | 2.52 | NA | NA | NA | NA | ... | NA | NA | NA | NA | NA | NA | NA | NA | NA | 2 |\n",
       "| 73561 | 2 | 73 | 3 |  5 | 5.00 |  2 | NA | NA |  1 | ... |  2 |  2 |  2 |  2 |  2 |  2 |  2 |  2 |  1 | 2 |\n",
       "| 73562 | 1 | 56 | 1 |  4 | 4.79 |  1 |  3 | NA |  1 | ... |  2 |  1 |  2 |  1 |  2 |  2 |  2 |  2 |  1 | 2 |\n",
       "\n"
      ],
      "text/plain": [
       "  SEQN  RIAGENDR RIDAGEYR RIDRETH1 DMDEDUC2 INDFMPIR SMQ020 SMQ040 SMD650\n",
       "1 73557 1        69       4         3       0.84      1      3     NA    \n",
       "2 73558 1        54       3         3       1.78      1      2      1    \n",
       "3 73559 1        72       3         4       4.51      1      3     NA    \n",
       "4 73560 1         9       3        NA       2.52     NA     NA     NA    \n",
       "5 73561 2        73       3         5       5.00      2     NA     NA    \n",
       "6 73562 1        56       1         4       4.79      1      3     NA    \n",
       "  ALQ101 ... MCQ160B MCQ160C MCQ160D MCQ160E MCQ160F MCQ160O MCQ160L MCQ220\n",
       "1  1     ...  2       2       2       2       1       2       2       2    \n",
       "2  1     ...  2       2       2       2       2       2       2       2    \n",
       "3  1     ...  2       2       2       2       2       2       2       1    \n",
       "4 NA     ... NA      NA      NA      NA      NA      NA      NA      NA    \n",
       "5  1     ...  2       2       2       2       2       2       2       2    \n",
       "6  1     ...  2       1       2       1       2       2       2       2    \n",
       "  BPQ020 DIQ010\n",
       "1  1     1     \n",
       "2  1     1     \n",
       "3  1     1     \n",
       "4 NA     2     \n",
       "5  1     2     \n",
       "6  1     2     "
      ]
     },
     "metadata": {},
     "output_type": "display_data"
    }
   ],
   "source": [
    "# Merge demographics data\n",
    "\n",
    "demographics_13_14 <- demo_13_14_selected %>%\n",
    "  full_join(smoking_13_14_selected, by = \"SEQN\") %>%\n",
    "  full_join(alcohol_13_14_selected, by = \"SEQN\") %>%\n",
    "  full_join(med_conditions_13_14_selected, by = \"SEQN\") %>%\n",
    "  full_join(blood_pressure_13_14_selected, by = \"SEQN\") %>%\n",
    "  full_join(diabetes_13_14_selected, by = \"SEQN\")\n",
    "\n",
    "head(demographics_13_14)"
   ]
  },
  {
   "cell_type": "code",
   "execution_count": 208,
   "metadata": {
    "vscode": {
     "languageId": "r"
    }
   },
   "outputs": [
    {
     "data": {
      "text/html": [
       "<style>\n",
       ".list-inline {list-style: none; margin:0; padding: 0}\n",
       ".list-inline>li {display: inline-block}\n",
       ".list-inline>li:not(:last-child)::after {content: \"\\00b7\"; padding: 0 .5ex}\n",
       "</style>\n",
       "<ol class=list-inline><li>10175</li><li>6</li></ol>\n"
      ],
      "text/latex": [
       "\\begin{enumerate*}\n",
       "\\item 10175\n",
       "\\item 6\n",
       "\\end{enumerate*}\n"
      ],
      "text/markdown": [
       "1. 10175\n",
       "2. 6\n",
       "\n",
       "\n"
      ],
      "text/plain": [
       "[1] 10175     6"
      ]
     },
     "metadata": {},
     "output_type": "display_data"
    },
    {
     "data": {
      "text/html": [
       "<style>\n",
       ".list-inline {list-style: none; margin:0; padding: 0}\n",
       ".list-inline>li {display: inline-block}\n",
       ".list-inline>li:not(:last-child)::after {content: \"\\00b7\"; padding: 0 .5ex}\n",
       "</style>\n",
       "<ol class=list-inline><li>7168</li><li>4</li></ol>\n"
      ],
      "text/latex": [
       "\\begin{enumerate*}\n",
       "\\item 7168\n",
       "\\item 4\n",
       "\\end{enumerate*}\n"
      ],
      "text/markdown": [
       "1. 7168\n",
       "2. 4\n",
       "\n",
       "\n"
      ],
      "text/plain": [
       "[1] 7168    4"
      ]
     },
     "metadata": {},
     "output_type": "display_data"
    },
    {
     "data": {
      "text/html": [
       "<style>\n",
       ".list-inline {list-style: none; margin:0; padding: 0}\n",
       ".list-inline>li {display: inline-block}\n",
       ".list-inline>li:not(:last-child)::after {content: \"\\00b7\"; padding: 0 .5ex}\n",
       "</style>\n",
       "<ol class=list-inline><li>5924</li><li>3</li></ol>\n"
      ],
      "text/latex": [
       "\\begin{enumerate*}\n",
       "\\item 5924\n",
       "\\item 3\n",
       "\\end{enumerate*}\n"
      ],
      "text/markdown": [
       "1. 5924\n",
       "2. 3\n",
       "\n",
       "\n"
      ],
      "text/plain": [
       "[1] 5924    3"
      ]
     },
     "metadata": {},
     "output_type": "display_data"
    },
    {
     "data": {
      "text/html": [
       "<style>\n",
       ".list-inline {list-style: none; margin:0; padding: 0}\n",
       ".list-inline>li {display: inline-block}\n",
       ".list-inline>li:not(:last-child)::after {content: \"\\00b7\"; padding: 0 .5ex}\n",
       "</style>\n",
       "<ol class=list-inline><li>9770</li><li>9</li></ol>\n"
      ],
      "text/latex": [
       "\\begin{enumerate*}\n",
       "\\item 9770\n",
       "\\item 9\n",
       "\\end{enumerate*}\n"
      ],
      "text/markdown": [
       "1. 9770\n",
       "2. 9\n",
       "\n",
       "\n"
      ],
      "text/plain": [
       "[1] 9770    9"
      ]
     },
     "metadata": {},
     "output_type": "display_data"
    },
    {
     "data": {
      "text/html": [
       "<style>\n",
       ".list-inline {list-style: none; margin:0; padding: 0}\n",
       ".list-inline>li {display: inline-block}\n",
       ".list-inline>li:not(:last-child)::after {content: \"\\00b7\"; padding: 0 .5ex}\n",
       "</style>\n",
       "<ol class=list-inline><li>6464</li><li>2</li></ol>\n"
      ],
      "text/latex": [
       "\\begin{enumerate*}\n",
       "\\item 6464\n",
       "\\item 2\n",
       "\\end{enumerate*}\n"
      ],
      "text/markdown": [
       "1. 6464\n",
       "2. 2\n",
       "\n",
       "\n"
      ],
      "text/plain": [
       "[1] 6464    2"
      ]
     },
     "metadata": {},
     "output_type": "display_data"
    },
    {
     "data": {
      "text/html": [
       "<style>\n",
       ".list-inline {list-style: none; margin:0; padding: 0}\n",
       ".list-inline>li {display: inline-block}\n",
       ".list-inline>li:not(:last-child)::after {content: \"\\00b7\"; padding: 0 .5ex}\n",
       "</style>\n",
       "<ol class=list-inline><li>9770</li><li>2</li></ol>\n"
      ],
      "text/latex": [
       "\\begin{enumerate*}\n",
       "\\item 9770\n",
       "\\item 2\n",
       "\\end{enumerate*}\n"
      ],
      "text/markdown": [
       "1. 9770\n",
       "2. 2\n",
       "\n",
       "\n"
      ],
      "text/plain": [
       "[1] 9770    2"
      ]
     },
     "metadata": {},
     "output_type": "display_data"
    },
    {
     "data": {
      "text/html": [
       "<style>\n",
       ".list-inline {list-style: none; margin:0; padding: 0}\n",
       ".list-inline>li {display: inline-block}\n",
       ".list-inline>li:not(:last-child)::after {content: \"\\00b7\"; padding: 0 .5ex}\n",
       "</style>\n",
       "<ol class=list-inline><li>10175</li><li>21</li></ol>\n"
      ],
      "text/latex": [
       "\\begin{enumerate*}\n",
       "\\item 10175\n",
       "\\item 21\n",
       "\\end{enumerate*}\n"
      ],
      "text/markdown": [
       "1. 10175\n",
       "2. 21\n",
       "\n",
       "\n"
      ],
      "text/plain": [
       "[1] 10175    21"
      ]
     },
     "metadata": {},
     "output_type": "display_data"
    }
   ],
   "source": [
    "dim(demo_13_14_selected)\n",
    "dim(smoking_13_14_selected)\n",
    "dim(alcohol_13_14_selected)\n",
    "dim(med_conditions_13_14_selected)\n",
    "dim(blood_pressure_13_14_selected)\n",
    "dim(diabetes_13_14_selected)\n",
    "dim(demographics_13_14)"
   ]
  },
  {
   "cell_type": "code",
   "execution_count": 209,
   "metadata": {
    "vscode": {
     "languageId": "r"
    }
   },
   "outputs": [
    {
     "name": "stdout",
     "output_type": "stream",
     "text": [
      "[1] \"Deleted Rows: 364\"\n"
     ]
    },
    {
     "data": {
      "text/html": [
       "<table class=\"dataframe\">\n",
       "<caption>A tibble: 6 x 337</caption>\n",
       "<thead>\n",
       "\t<tr><th scope=col>SEQN</th><th scope=col>OHX02PCD</th><th scope=col>OHX02PCM</th><th scope=col>OHX02PCS</th><th scope=col>OHX02PCP</th><th scope=col>OHX02PCL</th><th scope=col>OHX02PCA</th><th scope=col>OHX02LAD</th><th scope=col>OHX02LAM</th><th scope=col>OHX02LAS</th><th scope=col>...</th><th scope=col>OHX31PCS</th><th scope=col>OHX31PCP</th><th scope=col>OHX31PCL</th><th scope=col>OHX31PCA</th><th scope=col>OHX31LAD</th><th scope=col>OHX31LAM</th><th scope=col>OHX31LAS</th><th scope=col>OHX31LAP</th><th scope=col>OHX31LAL</th><th scope=col>OHX31LAA</th></tr>\n",
       "\t<tr><th scope=col>&lt;dbl&gt;</th><th scope=col>&lt;dbl&gt;</th><th scope=col>&lt;dbl&gt;</th><th scope=col>&lt;dbl&gt;</th><th scope=col>&lt;dbl&gt;</th><th scope=col>&lt;dbl&gt;</th><th scope=col>&lt;dbl&gt;</th><th scope=col>&lt;dbl&gt;</th><th scope=col>&lt;dbl&gt;</th><th scope=col>&lt;dbl&gt;</th><th scope=col>...</th><th scope=col>&lt;dbl&gt;</th><th scope=col>&lt;dbl&gt;</th><th scope=col>&lt;dbl&gt;</th><th scope=col>&lt;dbl&gt;</th><th scope=col>&lt;dbl&gt;</th><th scope=col>&lt;dbl&gt;</th><th scope=col>&lt;dbl&gt;</th><th scope=col>&lt;dbl&gt;</th><th scope=col>&lt;dbl&gt;</th><th scope=col>&lt;dbl&gt;</th></tr>\n",
       "</thead>\n",
       "<tbody>\n",
       "\t<tr><td>73558</td><td> 2</td><td> 2</td><td> 4</td><td> 4</td><td> 5</td><td> 2</td><td> 4</td><td> 3</td><td> 4</td><td>...</td><td>99</td><td>99</td><td>99</td><td>99</td><td>99</td><td>99</td><td>99</td><td>99</td><td>99</td><td>99</td></tr>\n",
       "\t<tr><td>73559</td><td> 1</td><td> 1</td><td> 1</td><td> 2</td><td> 2</td><td> 2</td><td> 1</td><td> 1</td><td> 1</td><td>...</td><td>99</td><td>99</td><td>99</td><td>99</td><td>99</td><td>99</td><td>99</td><td>99</td><td>99</td><td>99</td></tr>\n",
       "\t<tr><td>73561</td><td>99</td><td>99</td><td>99</td><td>99</td><td>99</td><td>99</td><td>99</td><td>99</td><td>99</td><td>...</td><td>99</td><td>99</td><td>99</td><td>99</td><td>99</td><td>99</td><td>99</td><td>99</td><td>99</td><td>99</td></tr>\n",
       "\t<tr><td>73562</td><td> 2</td><td> 2</td><td> 2</td><td> 3</td><td> 2</td><td> 3</td><td> 2</td><td> 2</td><td> 2</td><td>...</td><td>99</td><td>99</td><td>99</td><td>99</td><td>99</td><td>99</td><td>99</td><td>99</td><td>99</td><td>99</td></tr>\n",
       "\t<tr><td>73564</td><td> 2</td><td> 1</td><td> 2</td><td> 2</td><td> 1</td><td> 2</td><td> 2</td><td> 1</td><td> 2</td><td>...</td><td> 2</td><td> 2</td><td> 2</td><td> 2</td><td> 2</td><td> 2</td><td> 2</td><td> 2</td><td> 2</td><td> 2</td></tr>\n",
       "\t<tr><td>73566</td><td> 2</td><td> 1</td><td> 2</td><td> 3</td><td> 2</td><td> 3</td><td> 2</td><td> 1</td><td> 2</td><td>...</td><td> 2</td><td> 2</td><td> 2</td><td> 3</td><td> 2</td><td> 2</td><td> 2</td><td> 2</td><td> 2</td><td> 2</td></tr>\n",
       "</tbody>\n",
       "</table>\n"
      ],
      "text/latex": [
       "A tibble: 6 x 337\n",
       "\\begin{tabular}{lllllllllllllllllllll}\n",
       " SEQN & OHX02PCD & OHX02PCM & OHX02PCS & OHX02PCP & OHX02PCL & OHX02PCA & OHX02LAD & OHX02LAM & OHX02LAS & ... & OHX31PCS & OHX31PCP & OHX31PCL & OHX31PCA & OHX31LAD & OHX31LAM & OHX31LAS & OHX31LAP & OHX31LAL & OHX31LAA\\\\\n",
       " <dbl> & <dbl> & <dbl> & <dbl> & <dbl> & <dbl> & <dbl> & <dbl> & <dbl> & <dbl> & ... & <dbl> & <dbl> & <dbl> & <dbl> & <dbl> & <dbl> & <dbl> & <dbl> & <dbl> & <dbl>\\\\\n",
       "\\hline\n",
       "\t 73558 &  2 &  2 &  4 &  4 &  5 &  2 &  4 &  3 &  4 & ... & 99 & 99 & 99 & 99 & 99 & 99 & 99 & 99 & 99 & 99\\\\\n",
       "\t 73559 &  1 &  1 &  1 &  2 &  2 &  2 &  1 &  1 &  1 & ... & 99 & 99 & 99 & 99 & 99 & 99 & 99 & 99 & 99 & 99\\\\\n",
       "\t 73561 & 99 & 99 & 99 & 99 & 99 & 99 & 99 & 99 & 99 & ... & 99 & 99 & 99 & 99 & 99 & 99 & 99 & 99 & 99 & 99\\\\\n",
       "\t 73562 &  2 &  2 &  2 &  3 &  2 &  3 &  2 &  2 &  2 & ... & 99 & 99 & 99 & 99 & 99 & 99 & 99 & 99 & 99 & 99\\\\\n",
       "\t 73564 &  2 &  1 &  2 &  2 &  1 &  2 &  2 &  1 &  2 & ... &  2 &  2 &  2 &  2 &  2 &  2 &  2 &  2 &  2 &  2\\\\\n",
       "\t 73566 &  2 &  1 &  2 &  3 &  2 &  3 &  2 &  1 &  2 & ... &  2 &  2 &  2 &  3 &  2 &  2 &  2 &  2 &  2 &  2\\\\\n",
       "\\end{tabular}\n"
      ],
      "text/markdown": [
       "\n",
       "A tibble: 6 x 337\n",
       "\n",
       "| SEQN &lt;dbl&gt; | OHX02PCD &lt;dbl&gt; | OHX02PCM &lt;dbl&gt; | OHX02PCS &lt;dbl&gt; | OHX02PCP &lt;dbl&gt; | OHX02PCL &lt;dbl&gt; | OHX02PCA &lt;dbl&gt; | OHX02LAD &lt;dbl&gt; | OHX02LAM &lt;dbl&gt; | OHX02LAS &lt;dbl&gt; | ... ... | OHX31PCS &lt;dbl&gt; | OHX31PCP &lt;dbl&gt; | OHX31PCL &lt;dbl&gt; | OHX31PCA &lt;dbl&gt; | OHX31LAD &lt;dbl&gt; | OHX31LAM &lt;dbl&gt; | OHX31LAS &lt;dbl&gt; | OHX31LAP &lt;dbl&gt; | OHX31LAL &lt;dbl&gt; | OHX31LAA &lt;dbl&gt; |\n",
       "|---|---|---|---|---|---|---|---|---|---|---|---|---|---|---|---|---|---|---|---|---|\n",
       "| 73558 |  2 |  2 |  4 |  4 |  5 |  2 |  4 |  3 |  4 | ... | 99 | 99 | 99 | 99 | 99 | 99 | 99 | 99 | 99 | 99 |\n",
       "| 73559 |  1 |  1 |  1 |  2 |  2 |  2 |  1 |  1 |  1 | ... | 99 | 99 | 99 | 99 | 99 | 99 | 99 | 99 | 99 | 99 |\n",
       "| 73561 | 99 | 99 | 99 | 99 | 99 | 99 | 99 | 99 | 99 | ... | 99 | 99 | 99 | 99 | 99 | 99 | 99 | 99 | 99 | 99 |\n",
       "| 73562 |  2 |  2 |  2 |  3 |  2 |  3 |  2 |  2 |  2 | ... | 99 | 99 | 99 | 99 | 99 | 99 | 99 | 99 | 99 | 99 |\n",
       "| 73564 |  2 |  1 |  2 |  2 |  1 |  2 |  2 |  1 |  2 | ... |  2 |  2 |  2 |  2 |  2 |  2 |  2 |  2 |  2 |  2 |\n",
       "| 73566 |  2 |  1 |  2 |  3 |  2 |  3 |  2 |  1 |  2 | ... |  2 |  2 |  2 |  3 |  2 |  2 |  2 |  2 |  2 |  2 |\n",
       "\n"
      ],
      "text/plain": [
       "  SEQN  OHX02PCD OHX02PCM OHX02PCS OHX02PCP OHX02PCL OHX02PCA OHX02LAD OHX02LAM\n",
       "1 73558  2        2        4        4        5        2        4        3      \n",
       "2 73559  1        1        1        2        2        2        1        1      \n",
       "3 73561 99       99       99       99       99       99       99       99      \n",
       "4 73562  2        2        2        3        2        3        2        2      \n",
       "5 73564  2        1        2        2        1        2        2        1      \n",
       "6 73566  2        1        2        3        2        3        2        1      \n",
       "  OHX02LAS ... OHX31PCS OHX31PCP OHX31PCL OHX31PCA OHX31LAD OHX31LAM OHX31LAS\n",
       "1  4       ... 99       99       99       99       99       99       99      \n",
       "2  1       ... 99       99       99       99       99       99       99      \n",
       "3 99       ... 99       99       99       99       99       99       99      \n",
       "4  2       ... 99       99       99       99       99       99       99      \n",
       "5  2       ...  2        2        2        2        2        2        2      \n",
       "6  2       ...  2        2        2        3        2        2        2      \n",
       "  OHX31LAP OHX31LAL OHX31LAA\n",
       "1 99       99       99      \n",
       "2 99       99       99      \n",
       "3 99       99       99      \n",
       "4 99       99       99      \n",
       "5  2        2        2      \n",
       "6  2        2        2      "
      ]
     },
     "metadata": {},
     "output_type": "display_data"
    }
   ],
   "source": [
    "# Drop rows with all 99 values for each column in periodontal dataframe\n",
    "\n",
    "periodontal_13_14_selected_clean <- periodontal_13_14_selected[rowSums(periodontal_13_14_selected[, colnames(periodontal_13_14_selected) != \"SEQN\"] == 99) != (ncol(periodontal_13_14_selected) - 1), ]\n",
    "\n",
    "print(paste(\"Deleted Rows:\", nrow(periodontal_13_14_selected) - nrow(periodontal_13_14_selected_clean)))\n",
    "\n",
    "head(periodontal_13_14_selected_clean)"
   ]
  },
  {
   "cell_type": "code",
   "execution_count": 210,
   "metadata": {
    "vscode": {
     "languageId": "r"
    }
   },
   "outputs": [
    {
     "data": {
      "text/html": [
       "<table class=\"dataframe\">\n",
       "<caption>A data.frame: 6 x 347</caption>\n",
       "<thead>\n",
       "\t<tr><th></th><th scope=col>SEQN</th><th scope=col>OHX02PCD</th><th scope=col>OHX02PCM</th><th scope=col>OHX02PCS</th><th scope=col>OHX02PCP</th><th scope=col>OHX02PCL</th><th scope=col>OHX02PCA</th><th scope=col>OHX02LAD</th><th scope=col>OHX02LAM</th><th scope=col>OHX02LAS</th><th scope=col>...</th><th scope=col>RIAGENDR</th><th scope=col>RIDAGEYR</th><th scope=col>RIDRETH1</th><th scope=col>DMDEDUC2</th><th scope=col>INDFMPIR</th><th scope=col>SMQ020</th><th scope=col>SMQ040</th><th scope=col>SMD650</th><th scope=col>ALQ101</th><th scope=col>ALQ130</th></tr>\n",
       "\t<tr><th></th><th scope=col>&lt;dbl&gt;</th><th scope=col>&lt;dbl&gt;</th><th scope=col>&lt;dbl&gt;</th><th scope=col>&lt;dbl&gt;</th><th scope=col>&lt;dbl&gt;</th><th scope=col>&lt;dbl&gt;</th><th scope=col>&lt;dbl&gt;</th><th scope=col>&lt;dbl&gt;</th><th scope=col>&lt;dbl&gt;</th><th scope=col>&lt;dbl&gt;</th><th scope=col>...</th><th scope=col>&lt;dbl&gt;</th><th scope=col>&lt;dbl&gt;</th><th scope=col>&lt;dbl&gt;</th><th scope=col>&lt;dbl&gt;</th><th scope=col>&lt;dbl&gt;</th><th scope=col>&lt;dbl&gt;</th><th scope=col>&lt;dbl&gt;</th><th scope=col>&lt;dbl&gt;</th><th scope=col>&lt;dbl&gt;</th><th scope=col>&lt;dbl&gt;</th></tr>\n",
       "</thead>\n",
       "<tbody>\n",
       "\t<tr><th scope=row>1</th><td>73558</td><td> 2</td><td> 2</td><td> 4</td><td> 4</td><td> 5</td><td> 2</td><td> 4</td><td> 3</td><td> 4</td><td>...</td><td>1</td><td>54</td><td>3</td><td>3</td><td>1.78</td><td>1</td><td> 2</td><td> 1</td><td>1</td><td> 4</td></tr>\n",
       "\t<tr><th scope=row>2</th><td>73559</td><td> 1</td><td> 1</td><td> 1</td><td> 2</td><td> 2</td><td> 2</td><td> 1</td><td> 1</td><td> 1</td><td>...</td><td>1</td><td>72</td><td>3</td><td>4</td><td>4.51</td><td>1</td><td> 3</td><td>NA</td><td>1</td><td>NA</td></tr>\n",
       "\t<tr><th scope=row>3</th><td>73561</td><td>99</td><td>99</td><td>99</td><td>99</td><td>99</td><td>99</td><td>99</td><td>99</td><td>99</td><td>...</td><td>2</td><td>73</td><td>3</td><td>5</td><td>5.00</td><td>2</td><td>NA</td><td>NA</td><td>1</td><td>NA</td></tr>\n",
       "\t<tr><th scope=row>4</th><td>73562</td><td> 2</td><td> 2</td><td> 2</td><td> 3</td><td> 2</td><td> 3</td><td> 2</td><td> 2</td><td> 2</td><td>...</td><td>1</td><td>56</td><td>1</td><td>4</td><td>4.79</td><td>1</td><td> 3</td><td>NA</td><td>1</td><td> 1</td></tr>\n",
       "\t<tr><th scope=row>5</th><td>73564</td><td> 2</td><td> 1</td><td> 2</td><td> 2</td><td> 1</td><td> 2</td><td> 2</td><td> 1</td><td> 2</td><td>...</td><td>2</td><td>61</td><td>3</td><td>5</td><td>5.00</td><td>2</td><td>NA</td><td>NA</td><td>2</td><td> 1</td></tr>\n",
       "\t<tr><th scope=row>6</th><td>73566</td><td> 2</td><td> 1</td><td> 2</td><td> 3</td><td> 2</td><td> 3</td><td> 2</td><td> 1</td><td> 2</td><td>...</td><td>2</td><td>56</td><td>3</td><td>3</td><td>0.48</td><td>1</td><td> 1</td><td> 1</td><td>1</td><td> 1</td></tr>\n",
       "</tbody>\n",
       "</table>\n"
      ],
      "text/latex": [
       "A data.frame: 6 x 347\n",
       "\\begin{tabular}{r|lllllllllllllllllllll}\n",
       "  & SEQN & OHX02PCD & OHX02PCM & OHX02PCS & OHX02PCP & OHX02PCL & OHX02PCA & OHX02LAD & OHX02LAM & OHX02LAS & ... & RIAGENDR & RIDAGEYR & RIDRETH1 & DMDEDUC2 & INDFMPIR & SMQ020 & SMQ040 & SMD650 & ALQ101 & ALQ130\\\\\n",
       "  & <dbl> & <dbl> & <dbl> & <dbl> & <dbl> & <dbl> & <dbl> & <dbl> & <dbl> & <dbl> & ... & <dbl> & <dbl> & <dbl> & <dbl> & <dbl> & <dbl> & <dbl> & <dbl> & <dbl> & <dbl>\\\\\n",
       "\\hline\n",
       "\t1 & 73558 &  2 &  2 &  4 &  4 &  5 &  2 &  4 &  3 &  4 & ... & 1 & 54 & 3 & 3 & 1.78 & 1 &  2 &  1 & 1 &  4\\\\\n",
       "\t2 & 73559 &  1 &  1 &  1 &  2 &  2 &  2 &  1 &  1 &  1 & ... & 1 & 72 & 3 & 4 & 4.51 & 1 &  3 & NA & 1 & NA\\\\\n",
       "\t3 & 73561 & 99 & 99 & 99 & 99 & 99 & 99 & 99 & 99 & 99 & ... & 2 & 73 & 3 & 5 & 5.00 & 2 & NA & NA & 1 & NA\\\\\n",
       "\t4 & 73562 &  2 &  2 &  2 &  3 &  2 &  3 &  2 &  2 &  2 & ... & 1 & 56 & 1 & 4 & 4.79 & 1 &  3 & NA & 1 &  1\\\\\n",
       "\t5 & 73564 &  2 &  1 &  2 &  2 &  1 &  2 &  2 &  1 &  2 & ... & 2 & 61 & 3 & 5 & 5.00 & 2 & NA & NA & 2 &  1\\\\\n",
       "\t6 & 73566 &  2 &  1 &  2 &  3 &  2 &  3 &  2 &  1 &  2 & ... & 2 & 56 & 3 & 3 & 0.48 & 1 &  1 &  1 & 1 &  1\\\\\n",
       "\\end{tabular}\n"
      ],
      "text/markdown": [
       "\n",
       "A data.frame: 6 x 347\n",
       "\n",
       "| <!--/--> | SEQN &lt;dbl&gt; | OHX02PCD &lt;dbl&gt; | OHX02PCM &lt;dbl&gt; | OHX02PCS &lt;dbl&gt; | OHX02PCP &lt;dbl&gt; | OHX02PCL &lt;dbl&gt; | OHX02PCA &lt;dbl&gt; | OHX02LAD &lt;dbl&gt; | OHX02LAM &lt;dbl&gt; | OHX02LAS &lt;dbl&gt; | ... ... | RIAGENDR &lt;dbl&gt; | RIDAGEYR &lt;dbl&gt; | RIDRETH1 &lt;dbl&gt; | DMDEDUC2 &lt;dbl&gt; | INDFMPIR &lt;dbl&gt; | SMQ020 &lt;dbl&gt; | SMQ040 &lt;dbl&gt; | SMD650 &lt;dbl&gt; | ALQ101 &lt;dbl&gt; | ALQ130 &lt;dbl&gt; |\n",
       "|---|---|---|---|---|---|---|---|---|---|---|---|---|---|---|---|---|---|---|---|---|---|\n",
       "| 1 | 73558 |  2 |  2 |  4 |  4 |  5 |  2 |  4 |  3 |  4 | ... | 1 | 54 | 3 | 3 | 1.78 | 1 |  2 |  1 | 1 |  4 |\n",
       "| 2 | 73559 |  1 |  1 |  1 |  2 |  2 |  2 |  1 |  1 |  1 | ... | 1 | 72 | 3 | 4 | 4.51 | 1 |  3 | NA | 1 | NA |\n",
       "| 3 | 73561 | 99 | 99 | 99 | 99 | 99 | 99 | 99 | 99 | 99 | ... | 2 | 73 | 3 | 5 | 5.00 | 2 | NA | NA | 1 | NA |\n",
       "| 4 | 73562 |  2 |  2 |  2 |  3 |  2 |  3 |  2 |  2 |  2 | ... | 1 | 56 | 1 | 4 | 4.79 | 1 |  3 | NA | 1 |  1 |\n",
       "| 5 | 73564 |  2 |  1 |  2 |  2 |  1 |  2 |  2 |  1 |  2 | ... | 2 | 61 | 3 | 5 | 5.00 | 2 | NA | NA | 2 |  1 |\n",
       "| 6 | 73566 |  2 |  1 |  2 |  3 |  2 |  3 |  2 |  1 |  2 | ... | 2 | 56 | 3 | 3 | 0.48 | 1 |  1 |  1 | 1 |  1 |\n",
       "\n"
      ],
      "text/plain": [
       "  SEQN  OHX02PCD OHX02PCM OHX02PCS OHX02PCP OHX02PCL OHX02PCA OHX02LAD OHX02LAM\n",
       "1 73558  2        2        4        4        5        2        4        3      \n",
       "2 73559  1        1        1        2        2        2        1        1      \n",
       "3 73561 99       99       99       99       99       99       99       99      \n",
       "4 73562  2        2        2        3        2        3        2        2      \n",
       "5 73564  2        1        2        2        1        2        2        1      \n",
       "6 73566  2        1        2        3        2        3        2        1      \n",
       "  OHX02LAS ... RIAGENDR RIDAGEYR RIDRETH1 DMDEDUC2 INDFMPIR SMQ020 SMQ040\n",
       "1  4       ... 1        54       3        3        1.78     1       2    \n",
       "2  1       ... 1        72       3        4        4.51     1       3    \n",
       "3 99       ... 2        73       3        5        5.00     2      NA    \n",
       "4  2       ... 1        56       1        4        4.79     1       3    \n",
       "5  2       ... 2        61       3        5        5.00     2      NA    \n",
       "6  2       ... 2        56       3        3        0.48     1       1    \n",
       "  SMD650 ALQ101 ALQ130\n",
       "1  1     1       4    \n",
       "2 NA     1      NA    \n",
       "3 NA     1      NA    \n",
       "4 NA     1       1    \n",
       "5 NA     2       1    \n",
       "6  1     1       1    "
      ]
     },
     "metadata": {},
     "output_type": "display_data"
    }
   ],
   "source": [
    "# Merge demographic data and periodontal features\n",
    "# drop demographic rows with no correspondance to periodontal dataframe\n",
    "\n",
    "df_13_14 <- merge(periodontal_13_14_selected_clean, demographics_13_14, by = \"SEQN\", all.x = TRUE)\n",
    "\n",
    "head(df_merged)"
   ]
  },
  {
   "cell_type": "code",
   "execution_count": 211,
   "metadata": {
    "vscode": {
     "languageId": "r"
    }
   },
   "outputs": [
    {
     "data": {
      "text/html": [
       "<style>\n",
       ".list-inline {list-style: none; margin:0; padding: 0}\n",
       ".list-inline>li {display: inline-block}\n",
       ".list-inline>li:not(:last-child)::after {content: \"\\00b7\"; padding: 0 .5ex}\n",
       "</style>\n",
       "<ol class=list-inline><li>4305</li><li>357</li></ol>\n"
      ],
      "text/latex": [
       "\\begin{enumerate*}\n",
       "\\item 4305\n",
       "\\item 357\n",
       "\\end{enumerate*}\n"
      ],
      "text/markdown": [
       "1. 4305\n",
       "2. 357\n",
       "\n",
       "\n"
      ],
      "text/plain": [
       "[1] 4305  357"
      ]
     },
     "metadata": {},
     "output_type": "display_data"
    },
    {
     "data": {
      "text/html": [
       "<style>\n",
       ".list-inline {list-style: none; margin:0; padding: 0}\n",
       ".list-inline>li {display: inline-block}\n",
       ".list-inline>li:not(:last-child)::after {content: \"\\00b7\"; padding: 0 .5ex}\n",
       "</style>\n",
       "<ol class=list-inline><li>10175</li><li>21</li></ol>\n"
      ],
      "text/latex": [
       "\\begin{enumerate*}\n",
       "\\item 10175\n",
       "\\item 21\n",
       "\\end{enumerate*}\n"
      ],
      "text/markdown": [
       "1. 10175\n",
       "2. 21\n",
       "\n",
       "\n"
      ],
      "text/plain": [
       "[1] 10175    21"
      ]
     },
     "metadata": {},
     "output_type": "display_data"
    },
    {
     "data": {
      "text/html": [
       "<style>\n",
       ".list-inline {list-style: none; margin:0; padding: 0}\n",
       ".list-inline>li {display: inline-block}\n",
       ".list-inline>li:not(:last-child)::after {content: \"\\00b7\"; padding: 0 .5ex}\n",
       "</style>\n",
       "<ol class=list-inline><li>4305</li><li>337</li></ol>\n"
      ],
      "text/latex": [
       "\\begin{enumerate*}\n",
       "\\item 4305\n",
       "\\item 337\n",
       "\\end{enumerate*}\n"
      ],
      "text/markdown": [
       "1. 4305\n",
       "2. 337\n",
       "\n",
       "\n"
      ],
      "text/plain": [
       "[1] 4305  337"
      ]
     },
     "metadata": {},
     "output_type": "display_data"
    }
   ],
   "source": [
    "dim(df_13_14)\n",
    "dim(demographics_13_14)\n",
    "dim(periodontal_13_14_selected_clean)"
   ]
  },
  {
   "cell_type": "code",
   "execution_count": 212,
   "metadata": {
    "vscode": {
     "languageId": "r"
    }
   },
   "outputs": [
    {
     "data": {
      "text/html": [
       "<style>\n",
       ".list-inline {list-style: none; margin:0; padding: 0}\n",
       ".list-inline>li {display: inline-block}\n",
       ".list-inline>li:not(:last-child)::after {content: \"\\00b7\"; padding: 0 .5ex}\n",
       "</style>\n",
       "<ol class=list-inline><li>1167</li><li>357</li></ol>\n"
      ],
      "text/latex": [
       "\\begin{enumerate*}\n",
       "\\item 1167\n",
       "\\item 357\n",
       "\\end{enumerate*}\n"
      ],
      "text/markdown": [
       "1. 1167\n",
       "2. 357\n",
       "\n",
       "\n"
      ],
      "text/plain": [
       "[1] 1167  357"
      ]
     },
     "metadata": {},
     "output_type": "display_data"
    }
   ],
   "source": [
    "# Filter with AGE >= 60\n",
    "\n",
    "df_13_14_age_60 <- subset(df_13_14, RIDAGEYR >= 60)\n",
    "\n",
    "dim(df_13_14_age_60)"
   ]
  },
  {
   "cell_type": "markdown",
   "metadata": {},
   "source": [
    "### Classify Periodontitis"
   ]
  },
  {
   "cell_type": "code",
   "execution_count": 213,
   "metadata": {
    "vscode": {
     "languageId": "r"
    }
   },
   "outputs": [],
   "source": [
    "classify_periodontitis <- function(df) {\n",
    "  # Function to count sites on different teeth that meet a criterion\n",
    "  count_sites_different_teeth <- function(tooth_sites,\n",
    "                                          threshold, measurement_type) {\n",
    "    teeth_with_sites <- list()\n",
    "    for(tooth in unique(sub(\"(OHX\\\\d+).*\", \"\\\\1\", names(tooth_sites)))) {\n",
    "      # Include all interproximal sites\n",
    "      # S = mesio-facial, D = distal, A = mesio-lingual, P = disto-lingual\n",
    "      tooth_cols <- grep(paste0(tooth, measurement_type, \"[SDAP]$\"), \n",
    "                        names(tooth_sites), value = TRUE)\n",
    "      values <- as.numeric(tooth_sites[tooth_cols])\n",
    "      valid_values <- values[values != 99 & !is.na(values)]\n",
    "      # If at least one site exceeds the threshold, add to list\n",
    "      if(length(valid_values) > 0 && any(valid_values >= threshold)) {\n",
    "        teeth_with_sites <- c(teeth_with_sites, tooth)\n",
    "      }\n",
    "    }\n",
    "    # Returns the number of different teeth with sites exceeding the threshold\n",
    "    return(length(teeth_with_sites))\n",
    "  }\n",
    "\n",
    "  ppd_cols <- grep(\"PC[SDAP]$\", names(df), value = TRUE)\n",
    "  cal_cols <- grep(\"LA[SDAP]$\", names(df), value = TRUE)\n",
    "\n",
    "  # Initializes the columns for classification\n",
    "  df$severe <- FALSE\n",
    "  df$moderate <- FALSE\n",
    "\n",
    "  for(i in 1:nrow(df)) {\n",
    "    ppd_values <- df[i, ppd_cols]\n",
    "    cal_values <- df[i, cal_cols]\n",
    "\n",
    "    # Counts teeth with sites that meet the criteria\n",
    "    teeth_with_cal_6mm <- count_sites_different_teeth(cal_values, 6, \"LA\")\n",
    "    teeth_with_cal_4mm <- count_sites_different_teeth(cal_values, 4, \"LA\")\n",
    "    teeth_with_ppd_5mm <- count_sites_different_teeth(ppd_values, 5, \"PC\")\n",
    "\n",
    "    # Severe periodontitis classification\n",
    "    # ≥2 teeth with interproximal sites CAL ≥6 mm AND ≥1 tooth with PPD ≥5 mm\n",
    "    if(teeth_with_cal_6mm >= 2 && teeth_with_ppd_5mm >= 1) {\n",
    "      df$severe[i] <- TRUE\n",
    "    }\n",
    "    # Moderate periodontitis classification\n",
    "    # ≥2 teeth with interproximal sites CAL ≥4 mm OR ≥2 tooth with PPD ≥5 mm\n",
    "    else if(teeth_with_cal_4mm >= 2 || teeth_with_ppd_5mm >= 2) {\n",
    "      df$moderate[i] <- TRUE\n",
    "    }\n",
    "  }\n",
    "\n",
    "  # Final Classification\n",
    "  df$periodontitis <- case_when(\n",
    "    df$severe ~ \"Severe\",\n",
    "    df$moderate ~ \"Moderate\",\n",
    "    TRUE ~ \"None/Mild\"\n",
    "  )\n",
    "\n",
    "  return(df)\n",
    "}"
   ]
  },
  {
   "cell_type": "code",
   "execution_count": 214,
   "metadata": {
    "vscode": {
     "languageId": "r"
    }
   },
   "outputs": [],
   "source": [
    "df_classification <- classify_periodontitis(df_13_14_age_60)"
   ]
  },
  {
   "cell_type": "code",
   "execution_count": 215,
   "metadata": {
    "vscode": {
     "languageId": "r"
    }
   },
   "outputs": [
    {
     "data": {
      "text/html": [
       "<table class=\"dataframe\">\n",
       "<caption>A data.frame: 6 x 360</caption>\n",
       "<thead>\n",
       "\t<tr><th></th><th scope=col>SEQN</th><th scope=col>OHX02PCD</th><th scope=col>OHX02PCM</th><th scope=col>OHX02PCS</th><th scope=col>OHX02PCP</th><th scope=col>OHX02PCL</th><th scope=col>OHX02PCA</th><th scope=col>OHX02LAD</th><th scope=col>OHX02LAM</th><th scope=col>OHX02LAS</th><th scope=col>...</th><th scope=col>MCQ160E</th><th scope=col>MCQ160F</th><th scope=col>MCQ160O</th><th scope=col>MCQ160L</th><th scope=col>MCQ220</th><th scope=col>BPQ020</th><th scope=col>DIQ010</th><th scope=col>severe</th><th scope=col>moderate</th><th scope=col>periodontitis</th></tr>\n",
       "\t<tr><th></th><th scope=col>&lt;dbl&gt;</th><th scope=col>&lt;dbl&gt;</th><th scope=col>&lt;dbl&gt;</th><th scope=col>&lt;dbl&gt;</th><th scope=col>&lt;dbl&gt;</th><th scope=col>&lt;dbl&gt;</th><th scope=col>&lt;dbl&gt;</th><th scope=col>&lt;dbl&gt;</th><th scope=col>&lt;dbl&gt;</th><th scope=col>&lt;dbl&gt;</th><th scope=col>...</th><th scope=col>&lt;dbl&gt;</th><th scope=col>&lt;dbl&gt;</th><th scope=col>&lt;dbl&gt;</th><th scope=col>&lt;dbl&gt;</th><th scope=col>&lt;dbl&gt;</th><th scope=col>&lt;dbl&gt;</th><th scope=col>&lt;dbl&gt;</th><th scope=col>&lt;lgl&gt;</th><th scope=col>&lt;lgl&gt;</th><th scope=col>&lt;chr&gt;</th></tr>\n",
       "</thead>\n",
       "<tbody>\n",
       "\t<tr><th scope=row>2</th><td>73559</td><td> 1</td><td> 1</td><td> 1</td><td> 2</td><td> 2</td><td> 2</td><td> 1</td><td> 1</td><td> 1</td><td>...</td><td>2</td><td>2</td><td>2</td><td>2</td><td>1</td><td>1</td><td>1</td><td>FALSE</td><td>FALSE</td><td>None/Mild</td></tr>\n",
       "\t<tr><th scope=row>3</th><td>73561</td><td>99</td><td>99</td><td>99</td><td>99</td><td>99</td><td>99</td><td>99</td><td>99</td><td>99</td><td>...</td><td>2</td><td>2</td><td>2</td><td>2</td><td>2</td><td>1</td><td>2</td><td>FALSE</td><td>FALSE</td><td>None/Mild</td></tr>\n",
       "\t<tr><th scope=row>5</th><td>73564</td><td> 2</td><td> 1</td><td> 2</td><td> 2</td><td> 1</td><td> 2</td><td> 2</td><td> 1</td><td> 2</td><td>...</td><td>2</td><td>2</td><td>2</td><td>2</td><td>2</td><td>1</td><td>2</td><td>FALSE</td><td>FALSE</td><td>None/Mild</td></tr>\n",
       "\t<tr><th scope=row>16</th><td>73604</td><td>99</td><td>99</td><td>99</td><td>99</td><td>99</td><td>99</td><td>99</td><td>99</td><td>99</td><td>...</td><td>2</td><td>2</td><td>2</td><td>2</td><td>1</td><td>2</td><td>2</td><td>FALSE</td><td>FALSE</td><td>None/Mild</td></tr>\n",
       "\t<tr><th scope=row>18</th><td>73613</td><td>99</td><td>99</td><td>99</td><td>99</td><td>99</td><td>99</td><td>99</td><td>99</td><td>99</td><td>...</td><td>2</td><td>2</td><td>2</td><td>2</td><td>2</td><td>1</td><td>2</td><td>FALSE</td><td>FALSE</td><td>None/Mild</td></tr>\n",
       "\t<tr><th scope=row>19</th><td>73616</td><td> 2</td><td> 1</td><td> 2</td><td> 1</td><td> 1</td><td> 2</td><td> 2</td><td> 1</td><td> 2</td><td>...</td><td>2</td><td>2</td><td>2</td><td>2</td><td>2</td><td>2</td><td>2</td><td>FALSE</td><td>FALSE</td><td>None/Mild</td></tr>\n",
       "</tbody>\n",
       "</table>\n"
      ],
      "text/latex": [
       "A data.frame: 6 x 360\n",
       "\\begin{tabular}{r|lllllllllllllllllllll}\n",
       "  & SEQN & OHX02PCD & OHX02PCM & OHX02PCS & OHX02PCP & OHX02PCL & OHX02PCA & OHX02LAD & OHX02LAM & OHX02LAS & ... & MCQ160E & MCQ160F & MCQ160O & MCQ160L & MCQ220 & BPQ020 & DIQ010 & severe & moderate & periodontitis\\\\\n",
       "  & <dbl> & <dbl> & <dbl> & <dbl> & <dbl> & <dbl> & <dbl> & <dbl> & <dbl> & <dbl> & ... & <dbl> & <dbl> & <dbl> & <dbl> & <dbl> & <dbl> & <dbl> & <lgl> & <lgl> & <chr>\\\\\n",
       "\\hline\n",
       "\t2 & 73559 &  1 &  1 &  1 &  2 &  2 &  2 &  1 &  1 &  1 & ... & 2 & 2 & 2 & 2 & 1 & 1 & 1 & FALSE & FALSE & None/Mild\\\\\n",
       "\t3 & 73561 & 99 & 99 & 99 & 99 & 99 & 99 & 99 & 99 & 99 & ... & 2 & 2 & 2 & 2 & 2 & 1 & 2 & FALSE & FALSE & None/Mild\\\\\n",
       "\t5 & 73564 &  2 &  1 &  2 &  2 &  1 &  2 &  2 &  1 &  2 & ... & 2 & 2 & 2 & 2 & 2 & 1 & 2 & FALSE & FALSE & None/Mild\\\\\n",
       "\t16 & 73604 & 99 & 99 & 99 & 99 & 99 & 99 & 99 & 99 & 99 & ... & 2 & 2 & 2 & 2 & 1 & 2 & 2 & FALSE & FALSE & None/Mild\\\\\n",
       "\t18 & 73613 & 99 & 99 & 99 & 99 & 99 & 99 & 99 & 99 & 99 & ... & 2 & 2 & 2 & 2 & 2 & 1 & 2 & FALSE & FALSE & None/Mild\\\\\n",
       "\t19 & 73616 &  2 &  1 &  2 &  1 &  1 &  2 &  2 &  1 &  2 & ... & 2 & 2 & 2 & 2 & 2 & 2 & 2 & FALSE & FALSE & None/Mild\\\\\n",
       "\\end{tabular}\n"
      ],
      "text/markdown": [
       "\n",
       "A data.frame: 6 x 360\n",
       "\n",
       "| <!--/--> | SEQN &lt;dbl&gt; | OHX02PCD &lt;dbl&gt; | OHX02PCM &lt;dbl&gt; | OHX02PCS &lt;dbl&gt; | OHX02PCP &lt;dbl&gt; | OHX02PCL &lt;dbl&gt; | OHX02PCA &lt;dbl&gt; | OHX02LAD &lt;dbl&gt; | OHX02LAM &lt;dbl&gt; | OHX02LAS &lt;dbl&gt; | ... ... | MCQ160E &lt;dbl&gt; | MCQ160F &lt;dbl&gt; | MCQ160O &lt;dbl&gt; | MCQ160L &lt;dbl&gt; | MCQ220 &lt;dbl&gt; | BPQ020 &lt;dbl&gt; | DIQ010 &lt;dbl&gt; | severe &lt;lgl&gt; | moderate &lt;lgl&gt; | periodontitis &lt;chr&gt; |\n",
       "|---|---|---|---|---|---|---|---|---|---|---|---|---|---|---|---|---|---|---|---|---|---|\n",
       "| 2 | 73559 |  1 |  1 |  1 |  2 |  2 |  2 |  1 |  1 |  1 | ... | 2 | 2 | 2 | 2 | 1 | 1 | 1 | FALSE | FALSE | None/Mild |\n",
       "| 3 | 73561 | 99 | 99 | 99 | 99 | 99 | 99 | 99 | 99 | 99 | ... | 2 | 2 | 2 | 2 | 2 | 1 | 2 | FALSE | FALSE | None/Mild |\n",
       "| 5 | 73564 |  2 |  1 |  2 |  2 |  1 |  2 |  2 |  1 |  2 | ... | 2 | 2 | 2 | 2 | 2 | 1 | 2 | FALSE | FALSE | None/Mild |\n",
       "| 16 | 73604 | 99 | 99 | 99 | 99 | 99 | 99 | 99 | 99 | 99 | ... | 2 | 2 | 2 | 2 | 1 | 2 | 2 | FALSE | FALSE | None/Mild |\n",
       "| 18 | 73613 | 99 | 99 | 99 | 99 | 99 | 99 | 99 | 99 | 99 | ... | 2 | 2 | 2 | 2 | 2 | 1 | 2 | FALSE | FALSE | None/Mild |\n",
       "| 19 | 73616 |  2 |  1 |  2 |  1 |  1 |  2 |  2 |  1 |  2 | ... | 2 | 2 | 2 | 2 | 2 | 2 | 2 | FALSE | FALSE | None/Mild |\n",
       "\n"
      ],
      "text/plain": [
       "   SEQN  OHX02PCD OHX02PCM OHX02PCS OHX02PCP OHX02PCL OHX02PCA OHX02LAD\n",
       "2  73559  1        1        1        2        2        2        1      \n",
       "3  73561 99       99       99       99       99       99       99      \n",
       "5  73564  2        1        2        2        1        2        2      \n",
       "16 73604 99       99       99       99       99       99       99      \n",
       "18 73613 99       99       99       99       99       99       99      \n",
       "19 73616  2        1        2        1        1        2        2      \n",
       "   OHX02LAM OHX02LAS ... MCQ160E MCQ160F MCQ160O MCQ160L MCQ220 BPQ020 DIQ010\n",
       "2   1        1       ... 2       2       2       2       1      1      1     \n",
       "3  99       99       ... 2       2       2       2       2      1      2     \n",
       "5   1        2       ... 2       2       2       2       2      1      2     \n",
       "16 99       99       ... 2       2       2       2       1      2      2     \n",
       "18 99       99       ... 2       2       2       2       2      1      2     \n",
       "19  1        2       ... 2       2       2       2       2      2      2     \n",
       "   severe moderate periodontitis\n",
       "2  FALSE  FALSE    None/Mild    \n",
       "3  FALSE  FALSE    None/Mild    \n",
       "5  FALSE  FALSE    None/Mild    \n",
       "16 FALSE  FALSE    None/Mild    \n",
       "18 FALSE  FALSE    None/Mild    \n",
       "19 FALSE  FALSE    None/Mild    "
      ]
     },
     "metadata": {},
     "output_type": "display_data"
    }
   ],
   "source": [
    "head(df_classification)"
   ]
  },
  {
   "cell_type": "code",
   "execution_count": 216,
   "metadata": {
    "vscode": {
     "languageId": "r"
    }
   },
   "outputs": [
    {
     "data": {
      "text/html": [
       "<style>\n",
       ".list-inline {list-style: none; margin:0; padding: 0}\n",
       ".list-inline>li {display: inline-block}\n",
       ".list-inline>li:not(:last-child)::after {content: \"\\00b7\"; padding: 0 .5ex}\n",
       "</style>\n",
       "<ol class=list-inline><li>1167</li><li>360</li></ol>\n"
      ],
      "text/latex": [
       "\\begin{enumerate*}\n",
       "\\item 1167\n",
       "\\item 360\n",
       "\\end{enumerate*}\n"
      ],
      "text/markdown": [
       "1. 1167\n",
       "2. 360\n",
       "\n",
       "\n"
      ],
      "text/plain": [
       "[1] 1167  360"
      ]
     },
     "metadata": {},
     "output_type": "display_data"
    }
   ],
   "source": [
    "dim(df_classification)"
   ]
  },
  {
   "cell_type": "code",
   "execution_count": 217,
   "metadata": {
    "vscode": {
     "languageId": "r"
    }
   },
   "outputs": [
    {
     "name": "stdout",
     "output_type": "stream",
     "text": [
      "[1] \"Distribution of periodontitis categories (counting):\"\n",
      "\n",
      " Moderate None/Mild    Severe \n",
      "      520       508       139 \n",
      "[1] \"Distribution of periodontitis categories (percentage):\"\n",
      "\n",
      " Moderate None/Mild    Severe \n",
      "    44.56     43.53     11.91 \n"
     ]
    }
   ],
   "source": [
    "table_counts <- table(df_classification$periodontitis)\n",
    "table_percent <- prop.table(table_counts) * 100\n",
    "\n",
    "print(\"Distribution of periodontitis categories (counting):\")\n",
    "print(table_counts)\n",
    "\n",
    "print(\"Distribution of periodontitis categories (percentage):\")\n",
    "print(round(table_percent, 2))\n"
   ]
  },
  {
   "cell_type": "markdown",
   "metadata": {},
   "source": [
    "### Mean PPD and CAL"
   ]
  },
  {
   "cell_type": "code",
   "execution_count": 218,
   "metadata": {
    "vscode": {
     "languageId": "r"
    }
   },
   "outputs": [],
   "source": [
    "calculate_means <- function(df) {\n",
    "  # Select columns for interproximal sites\n",
    "  ppd_cols <- grep(\"PC[SDAP]$\", names(df), value = TRUE)\n",
    "  cal_cols <- grep(\"LA[SDAP]$\", names(df), value = TRUE)\n",
    "  \n",
    "  # Calculate the average excluding invalid values\n",
    "  calculate_valid_mean <- function(row, cols) {\n",
    "    values <- as.numeric(row[cols])\n",
    "    valid_values <- values[values != 99 & !is.na(values)]\n",
    "    if(length(valid_values) > 0) {\n",
    "      return(mean(valid_values, na.rm = TRUE))\n",
    "    } else {\n",
    "      return(NA)\n",
    "    }\n",
    "  }\n",
    "  \n",
    "  df$mean_ppd <- apply(df[ppd_cols], 1, calculate_valid_mean, cols = ppd_cols)\n",
    "  df$mean_cal <- apply(df[cal_cols], 1, calculate_valid_mean, cols = cal_cols)\n",
    "  \n",
    "  df$mean_ppd <- round(df$mean_ppd, 2)\n",
    "  df$mean_cal <- round(df$mean_cal, 2)\n",
    "  \n",
    "  return(df)\n",
    "}"
   ]
  },
  {
   "cell_type": "code",
   "execution_count": 219,
   "metadata": {
    "vscode": {
     "languageId": "r"
    }
   },
   "outputs": [],
   "source": [
    "df_class_with_means <- calculate_means(df_classification)"
   ]
  },
  {
   "cell_type": "code",
   "execution_count": 220,
   "metadata": {
    "vscode": {
     "languageId": "r"
    }
   },
   "outputs": [
    {
     "data": {
      "text/html": [
       "<table class=\"dataframe\">\n",
       "<caption>A data.frame: 6 x 362</caption>\n",
       "<thead>\n",
       "\t<tr><th></th><th scope=col>SEQN</th><th scope=col>OHX02PCD</th><th scope=col>OHX02PCM</th><th scope=col>OHX02PCS</th><th scope=col>OHX02PCP</th><th scope=col>OHX02PCL</th><th scope=col>OHX02PCA</th><th scope=col>OHX02LAD</th><th scope=col>OHX02LAM</th><th scope=col>OHX02LAS</th><th scope=col>...</th><th scope=col>MCQ160O</th><th scope=col>MCQ160L</th><th scope=col>MCQ220</th><th scope=col>BPQ020</th><th scope=col>DIQ010</th><th scope=col>severe</th><th scope=col>moderate</th><th scope=col>periodontitis</th><th scope=col>mean_ppd</th><th scope=col>mean_cal</th></tr>\n",
       "\t<tr><th></th><th scope=col>&lt;dbl&gt;</th><th scope=col>&lt;dbl&gt;</th><th scope=col>&lt;dbl&gt;</th><th scope=col>&lt;dbl&gt;</th><th scope=col>&lt;dbl&gt;</th><th scope=col>&lt;dbl&gt;</th><th scope=col>&lt;dbl&gt;</th><th scope=col>&lt;dbl&gt;</th><th scope=col>&lt;dbl&gt;</th><th scope=col>&lt;dbl&gt;</th><th scope=col>...</th><th scope=col>&lt;dbl&gt;</th><th scope=col>&lt;dbl&gt;</th><th scope=col>&lt;dbl&gt;</th><th scope=col>&lt;dbl&gt;</th><th scope=col>&lt;dbl&gt;</th><th scope=col>&lt;lgl&gt;</th><th scope=col>&lt;lgl&gt;</th><th scope=col>&lt;chr&gt;</th><th scope=col>&lt;dbl&gt;</th><th scope=col>&lt;dbl&gt;</th></tr>\n",
       "</thead>\n",
       "<tbody>\n",
       "\t<tr><th scope=row>2</th><td>73559</td><td> 1</td><td> 1</td><td> 1</td><td> 2</td><td> 2</td><td> 2</td><td> 1</td><td> 1</td><td> 1</td><td>...</td><td>2</td><td>2</td><td>1</td><td>1</td><td>1</td><td>FALSE</td><td>FALSE</td><td>None/Mild</td><td>1.51</td><td>2.05</td></tr>\n",
       "\t<tr><th scope=row>3</th><td>73561</td><td>99</td><td>99</td><td>99</td><td>99</td><td>99</td><td>99</td><td>99</td><td>99</td><td>99</td><td>...</td><td>2</td><td>2</td><td>2</td><td>1</td><td>2</td><td>FALSE</td><td>FALSE</td><td>None/Mild</td><td>1.07</td><td>1.32</td></tr>\n",
       "\t<tr><th scope=row>5</th><td>73564</td><td> 2</td><td> 1</td><td> 2</td><td> 2</td><td> 1</td><td> 2</td><td> 2</td><td> 1</td><td> 2</td><td>...</td><td>2</td><td>2</td><td>2</td><td>1</td><td>2</td><td>FALSE</td><td>FALSE</td><td>None/Mild</td><td>1.46</td><td>1.46</td></tr>\n",
       "\t<tr><th scope=row>16</th><td>73604</td><td>99</td><td>99</td><td>99</td><td>99</td><td>99</td><td>99</td><td>99</td><td>99</td><td>99</td><td>...</td><td>2</td><td>2</td><td>1</td><td>2</td><td>2</td><td>FALSE</td><td>FALSE</td><td>None/Mild</td><td>0.62</td><td>0.88</td></tr>\n",
       "\t<tr><th scope=row>18</th><td>73613</td><td>99</td><td>99</td><td>99</td><td>99</td><td>99</td><td>99</td><td>99</td><td>99</td><td>99</td><td>...</td><td>2</td><td>2</td><td>2</td><td>1</td><td>2</td><td>FALSE</td><td>FALSE</td><td>None/Mild</td><td>1.77</td><td>1.94</td></tr>\n",
       "\t<tr><th scope=row>19</th><td>73616</td><td> 2</td><td> 1</td><td> 2</td><td> 1</td><td> 1</td><td> 2</td><td> 2</td><td> 1</td><td> 2</td><td>...</td><td>2</td><td>2</td><td>2</td><td>2</td><td>2</td><td>FALSE</td><td>FALSE</td><td>None/Mild</td><td>1.67</td><td>1.71</td></tr>\n",
       "</tbody>\n",
       "</table>\n"
      ],
      "text/latex": [
       "A data.frame: 6 x 362\n",
       "\\begin{tabular}{r|lllllllllllllllllllll}\n",
       "  & SEQN & OHX02PCD & OHX02PCM & OHX02PCS & OHX02PCP & OHX02PCL & OHX02PCA & OHX02LAD & OHX02LAM & OHX02LAS & ... & MCQ160O & MCQ160L & MCQ220 & BPQ020 & DIQ010 & severe & moderate & periodontitis & mean\\_ppd & mean\\_cal\\\\\n",
       "  & <dbl> & <dbl> & <dbl> & <dbl> & <dbl> & <dbl> & <dbl> & <dbl> & <dbl> & <dbl> & ... & <dbl> & <dbl> & <dbl> & <dbl> & <dbl> & <lgl> & <lgl> & <chr> & <dbl> & <dbl>\\\\\n",
       "\\hline\n",
       "\t2 & 73559 &  1 &  1 &  1 &  2 &  2 &  2 &  1 &  1 &  1 & ... & 2 & 2 & 1 & 1 & 1 & FALSE & FALSE & None/Mild & 1.51 & 2.05\\\\\n",
       "\t3 & 73561 & 99 & 99 & 99 & 99 & 99 & 99 & 99 & 99 & 99 & ... & 2 & 2 & 2 & 1 & 2 & FALSE & FALSE & None/Mild & 1.07 & 1.32\\\\\n",
       "\t5 & 73564 &  2 &  1 &  2 &  2 &  1 &  2 &  2 &  1 &  2 & ... & 2 & 2 & 2 & 1 & 2 & FALSE & FALSE & None/Mild & 1.46 & 1.46\\\\\n",
       "\t16 & 73604 & 99 & 99 & 99 & 99 & 99 & 99 & 99 & 99 & 99 & ... & 2 & 2 & 1 & 2 & 2 & FALSE & FALSE & None/Mild & 0.62 & 0.88\\\\\n",
       "\t18 & 73613 & 99 & 99 & 99 & 99 & 99 & 99 & 99 & 99 & 99 & ... & 2 & 2 & 2 & 1 & 2 & FALSE & FALSE & None/Mild & 1.77 & 1.94\\\\\n",
       "\t19 & 73616 &  2 &  1 &  2 &  1 &  1 &  2 &  2 &  1 &  2 & ... & 2 & 2 & 2 & 2 & 2 & FALSE & FALSE & None/Mild & 1.67 & 1.71\\\\\n",
       "\\end{tabular}\n"
      ],
      "text/markdown": [
       "\n",
       "A data.frame: 6 x 362\n",
       "\n",
       "| <!--/--> | SEQN &lt;dbl&gt; | OHX02PCD &lt;dbl&gt; | OHX02PCM &lt;dbl&gt; | OHX02PCS &lt;dbl&gt; | OHX02PCP &lt;dbl&gt; | OHX02PCL &lt;dbl&gt; | OHX02PCA &lt;dbl&gt; | OHX02LAD &lt;dbl&gt; | OHX02LAM &lt;dbl&gt; | OHX02LAS &lt;dbl&gt; | ... ... | MCQ160O &lt;dbl&gt; | MCQ160L &lt;dbl&gt; | MCQ220 &lt;dbl&gt; | BPQ020 &lt;dbl&gt; | DIQ010 &lt;dbl&gt; | severe &lt;lgl&gt; | moderate &lt;lgl&gt; | periodontitis &lt;chr&gt; | mean_ppd &lt;dbl&gt; | mean_cal &lt;dbl&gt; |\n",
       "|---|---|---|---|---|---|---|---|---|---|---|---|---|---|---|---|---|---|---|---|---|---|\n",
       "| 2 | 73559 |  1 |  1 |  1 |  2 |  2 |  2 |  1 |  1 |  1 | ... | 2 | 2 | 1 | 1 | 1 | FALSE | FALSE | None/Mild | 1.51 | 2.05 |\n",
       "| 3 | 73561 | 99 | 99 | 99 | 99 | 99 | 99 | 99 | 99 | 99 | ... | 2 | 2 | 2 | 1 | 2 | FALSE | FALSE | None/Mild | 1.07 | 1.32 |\n",
       "| 5 | 73564 |  2 |  1 |  2 |  2 |  1 |  2 |  2 |  1 |  2 | ... | 2 | 2 | 2 | 1 | 2 | FALSE | FALSE | None/Mild | 1.46 | 1.46 |\n",
       "| 16 | 73604 | 99 | 99 | 99 | 99 | 99 | 99 | 99 | 99 | 99 | ... | 2 | 2 | 1 | 2 | 2 | FALSE | FALSE | None/Mild | 0.62 | 0.88 |\n",
       "| 18 | 73613 | 99 | 99 | 99 | 99 | 99 | 99 | 99 | 99 | 99 | ... | 2 | 2 | 2 | 1 | 2 | FALSE | FALSE | None/Mild | 1.77 | 1.94 |\n",
       "| 19 | 73616 |  2 |  1 |  2 |  1 |  1 |  2 |  2 |  1 |  2 | ... | 2 | 2 | 2 | 2 | 2 | FALSE | FALSE | None/Mild | 1.67 | 1.71 |\n",
       "\n"
      ],
      "text/plain": [
       "   SEQN  OHX02PCD OHX02PCM OHX02PCS OHX02PCP OHX02PCL OHX02PCA OHX02LAD\n",
       "2  73559  1        1        1        2        2        2        1      \n",
       "3  73561 99       99       99       99       99       99       99      \n",
       "5  73564  2        1        2        2        1        2        2      \n",
       "16 73604 99       99       99       99       99       99       99      \n",
       "18 73613 99       99       99       99       99       99       99      \n",
       "19 73616  2        1        2        1        1        2        2      \n",
       "   OHX02LAM OHX02LAS ... MCQ160O MCQ160L MCQ220 BPQ020 DIQ010 severe moderate\n",
       "2   1        1       ... 2       2       1      1      1      FALSE  FALSE   \n",
       "3  99       99       ... 2       2       2      1      2      FALSE  FALSE   \n",
       "5   1        2       ... 2       2       2      1      2      FALSE  FALSE   \n",
       "16 99       99       ... 2       2       1      2      2      FALSE  FALSE   \n",
       "18 99       99       ... 2       2       2      1      2      FALSE  FALSE   \n",
       "19  1        2       ... 2       2       2      2      2      FALSE  FALSE   \n",
       "   periodontitis mean_ppd mean_cal\n",
       "2  None/Mild     1.51     2.05    \n",
       "3  None/Mild     1.07     1.32    \n",
       "5  None/Mild     1.46     1.46    \n",
       "16 None/Mild     0.62     0.88    \n",
       "18 None/Mild     1.77     1.94    \n",
       "19 None/Mild     1.67     1.71    "
      ]
     },
     "metadata": {},
     "output_type": "display_data"
    }
   ],
   "source": [
    "head(df_class_with_means)"
   ]
  },
  {
   "cell_type": "code",
   "execution_count": 232,
   "metadata": {
    "vscode": {
     "languageId": "r"
    }
   },
   "outputs": [
    {
     "name": "stdout",
     "output_type": "stream",
     "text": [
      "[1] 1167   21\n"
     ]
    }
   ],
   "source": [
    "# Features selection for the descriptive analysis\n",
    "\n",
    "columns_to_keep <- c(\"SEQN\", \"RIAGENDR\", \"RIDAGEYR\", \"RIDRETH1\", \"DMDEDUC2\", \"INDFMPIR\", \n",
    "                     \"SMQ020\", \"ALQ101\", \"MCQ160B\", \"MCQ160C\", \n",
    "                     \"MCQ160D\", \"MCQ160E\", \"MCQ160F\", \"MCQ160O\", \"MCQ160L\", \"MCQ220\", \"BPQ020\", \n",
    "                     \"DIQ010\", \"periodontitis\", \"mean_ppd\", \"mean_cal\")\n",
    "\n",
    "df_selected <- df_class_with_means[, columns_to_keep]\n",
    "\n",
    "print(dim(df_selected))"
   ]
  },
  {
   "cell_type": "code",
   "execution_count": null,
   "metadata": {
    "vscode": {
     "languageId": "r"
    }
   },
   "outputs": [
    {
     "name": "stdout",
     "output_type": "stream",
     "text": [
      "[1] \"Deleted rows: 122\"\n"
     ]
    }
   ],
   "source": [
    "# Drop rows with NA\n",
    "\n",
    "df_selected_clean <- na.omit(df_selected)\n",
    "\n",
    "print(paste(\"Deleted rows:\", nrow(df_selected) - nrow(df_selected_clean)))"
   ]
  },
  {
   "cell_type": "code",
   "execution_count": 255,
   "metadata": {
    "vscode": {
     "languageId": "r"
    }
   },
   "outputs": [
    {
     "name": "stdout",
     "output_type": "stream",
     "text": [
      "[1] \"Deleted rows: 17\"\n"
     ]
    }
   ],
   "source": [
    "# Drop rows with value 9 for the following columns:\n",
    "# DMDEDUC2, SMQ020, MCQ160B, MCQ160C, MCQ160D, MCQ160E, MCQ160F, MCQ160L, BPQ020\n",
    "\n",
    "columns_to_check <- c(\"DMDEDUC2\", \"SMQ020\", \"MCQ160B\", \"MCQ160C\", \"MCQ160D\", \n",
    "                      \"MCQ160E\", \"MCQ160F\", \"MCQ160L\", \"BPQ020\", \"ALQ101\")\n",
    "\n",
    "df_final <- df_selected_clean[!rowSums(df_selected_clean[, columns_to_check] == 9), ]\n",
    "\n",
    "print(paste(\"Deleted rows:\", nrow(df_selected_clean) - nrow(df_final)))"
   ]
  },
  {
   "cell_type": "code",
   "execution_count": 257,
   "metadata": {
    "vscode": {
     "languageId": "r"
    }
   },
   "outputs": [
    {
     "data": {
      "text/html": [
       "<style>\n",
       ".list-inline {list-style: none; margin:0; padding: 0}\n",
       ".list-inline>li {display: inline-block}\n",
       ".list-inline>li:not(:last-child)::after {content: \"\\00b7\"; padding: 0 .5ex}\n",
       "</style>\n",
       "<ol class=list-inline><li>1028</li><li>21</li></ol>\n"
      ],
      "text/latex": [
       "\\begin{enumerate*}\n",
       "\\item 1028\n",
       "\\item 21\n",
       "\\end{enumerate*}\n"
      ],
      "text/markdown": [
       "1. 1028\n",
       "2. 21\n",
       "\n",
       "\n"
      ],
      "text/plain": [
       "[1] 1028   21"
      ]
     },
     "metadata": {},
     "output_type": "display_data"
    }
   ],
   "source": [
    "dim(df_final)"
   ]
  },
  {
   "cell_type": "code",
   "execution_count": 256,
   "metadata": {
    "vscode": {
     "languageId": "r"
    }
   },
   "outputs": [
    {
     "name": "stdout",
     "output_type": "stream",
     "text": [
      "[1] \"Unique values for RIAGENDR :\"\n",
      "[1] 1 2\n",
      "[1] \"---------------\"\n",
      "[1] \"Unique values for RIDRETH1 :\"\n",
      "[1] 3 4 5 1 2\n",
      "[1] \"---------------\"\n",
      "[1] \"Unique values for DMDEDUC2 :\"\n",
      "[1] 4 5 2 3 1\n",
      "[1] \"---------------\"\n",
      "[1] \"Unique values for SMQ020 :\"\n",
      "[1] 1 2\n",
      "[1] \"---------------\"\n",
      "[1] \"Unique values for ALQ101 :\"\n",
      "[1] 1 2\n",
      "[1] \"---------------\"\n",
      "[1] \"Unique values for MCQ160B :\"\n",
      "[1] 2 1\n",
      "[1] \"---------------\"\n",
      "[1] \"Unique values for MCQ160C :\"\n",
      "[1] 2 1\n",
      "[1] \"---------------\"\n",
      "[1] \"Unique values for MCQ160D :\"\n",
      "[1] 2 1\n",
      "[1] \"---------------\"\n",
      "[1] \"Unique values for MCQ160E :\"\n",
      "[1] 2 1\n",
      "[1] \"---------------\"\n",
      "[1] \"Unique values for MCQ160F :\"\n",
      "[1] 2 1\n",
      "[1] \"---------------\"\n",
      "[1] \"Unique values for MCQ160O :\"\n",
      "[1] 2 1\n",
      "[1] \"---------------\"\n",
      "[1] \"Unique values for MCQ160L :\"\n",
      "[1] 2 1\n",
      "[1] \"---------------\"\n",
      "[1] \"Unique values for MCQ220 :\"\n",
      "[1] 1 2\n",
      "[1] \"---------------\"\n",
      "[1] \"Unique values for BPQ020 :\"\n",
      "[1] 1 2\n",
      "[1] \"---------------\"\n",
      "[1] \"Unique values for DIQ010 :\"\n",
      "[1] 1 2 3\n",
      "[1] \"---------------\"\n"
     ]
    }
   ],
   "source": [
    "# Check unique values for categorical features\n",
    "\n",
    "columns_to_check <- c(\"RIAGENDR\", \"RIDRETH1\", \"DMDEDUC2\",\n",
    "                      \"SMQ020\", \"ALQ101\", \"MCQ160B\", \"MCQ160C\", \n",
    "                      \"MCQ160D\", \"MCQ160E\", \"MCQ160F\", \"MCQ160O\", \n",
    "                      \"MCQ160L\", \"MCQ220\", \"BPQ020\", \"DIQ010\")\n",
    "\n",
    "unique_values <- lapply(df_final[, columns_to_check], unique)\n",
    "\n",
    "for (col in names(unique_values)) {\n",
    "  print(paste(\"Unique values for\", col, \":\"))\n",
    "  print(unique_values[[col]])\n",
    "  print(\"---------------\")\n",
    "}"
   ]
  },
  {
   "cell_type": "markdown",
   "metadata": {},
   "source": [
    "### Descriptive Analysis"
   ]
  },
  {
   "cell_type": "code",
   "execution_count": 262,
   "metadata": {
    "vscode": {
     "languageId": "r"
    }
   },
   "outputs": [],
   "source": [
    "# Function to create a more detailed table of continuous variables\n",
    "\n",
    "create_continuous_vars_table <- function(df) {\n",
    "  continuous_vars <- c(\"RIDAGEYR\", \"INDFMPIR\", \"mean_ppd\", \"mean_cal\")\n",
    "  \n",
    "  # Descriptive Statistics\n",
    "  get_stats <- function(x) {\n",
    "    c(\n",
    "      n = sum(!is.na(x)),\n",
    "      mean = mean(x, na.rm = TRUE),\n",
    "      sd = sd(x, na.rm = TRUE),\n",
    "      median = median(x, na.rm = TRUE),\n",
    "      q1 = quantile(x, 0.25, na.rm = TRUE),\n",
    "      q3 = quantile(x, 0.75, na.rm = TRUE),\n",
    "      min = min(x, na.rm = TRUE),\n",
    "      max = max(x, na.rm = TRUE)\n",
    "    )\n",
    "  }\n",
    "  \n",
    "  # Calculates statistics for each variable, overall and by group\n",
    "  results <- lapply(continuous_vars, function(var) {\n",
    "    # Overall statistics\n",
    "    overall <- get_stats(df[[var]])\n",
    "    \n",
    "    # Statistics by periodontitis group\n",
    "    by_group <- tapply(df[[var]], df$periodontitis, get_stats)\n",
    "    \n",
    "    # ANOVA or Kruskal-Wallis test\n",
    "    normal_test <- shapiro.test(df[[var]])\n",
    "    if(normal_test$p.value > 0.05) {\n",
    "      test_result <- oneway.test(df[[var]] ~ df$periodontitis)\n",
    "    } else {\n",
    "      test_result <- kruskal.test(df[[var]] ~ df$periodontitis)\n",
    "    }\n",
    "    \n",
    "    list(\n",
    "      overall = overall,\n",
    "      by_group = by_group,\n",
    "      p_value = test_result$p.value\n",
    "    )\n",
    "  })\n",
    "  \n",
    "  names(results) <- continuous_vars\n",
    "  return(results)\n",
    "}"
   ]
  },
  {
   "cell_type": "code",
   "execution_count": 346,
   "metadata": {
    "vscode": {
     "languageId": "r"
    }
   },
   "outputs": [],
   "source": [
    "# Function for the descriptive analysis\n",
    "\n",
    "create_descriptive_table <- function(df) {\n",
    "  require(tableone)\n",
    "  require(dplyr)\n",
    "\n",
    "  df$periodontitis <- factor(df$periodontitis, levels = c(\"None/Mild\", \"Moderate\", \"Severe\"))\n",
    "  \n",
    "  # Recoding categorical variables\n",
    "  df <- df %>%\n",
    "    mutate(\n",
    "      `Age (years)` = RIDAGEYR,\n",
    "      `Ratio of family income` = INDFMPIR,\n",
    "      `Mean PPD` = mean_ppd,\n",
    "      `Mean CAL` = mean_cal,\n",
    "      Gender = factor(RIAGENDR, levels = c(1, 2), \n",
    "                      labels = c(\"Male\", \"Female\")),\n",
    "      \n",
    "      Ethnicity = factor(RIDRETH1, levels = 1:5, \n",
    "                         labels = c(\"Mexican American\", \"Other Hispanic\",\n",
    "                                    \"Non-Hispanic White\", \"Non-Hispanic Black\",\n",
    "                                    \"Other Race\")),\n",
    "      \n",
    "      Education = factor(DMDEDUC2, levels = 1:5,\n",
    "                         labels = c(\"Less than 9th grade\", \"9-11th grade\",\n",
    "                                    \"High school graduate\",\n",
    "                                    \"Some college/AA degree\",\n",
    "                                    \"College graduate or above\")),\n",
    "      \n",
    "      Smoking = factor(SMQ020, levels = c(1, 2),\n",
    "                       labels = c(\"Yes\", \"No\")),\n",
    "      \n",
    "      `Alcohol intake` = factor(ALQ101, levels = c(1, 2),\n",
    "                       labels = c(\"Over 12 alcohol drinks/1 yr\",\n",
    "                       \"Under 12 alcohol drinks/1 yr\")),\n",
    "      \n",
    "      `Heart Failure` = factor(MCQ160B, levels = c(1, 2), \n",
    "                             labels = c(\"Yes\", \"No\")),\n",
    "      `Coronary Heart` = factor(MCQ160C, levels = c(1, 2),\n",
    "                              labels = c(\"Yes\", \"No\")),\n",
    "      Angina = factor(MCQ160D, levels = c(1, 2),\n",
    "                      labels = c(\"Yes\", \"No\")),\n",
    "      `Heart Attack` = factor(MCQ160E, levels = c(1, 2),\n",
    "                            labels = c(\"Yes\", \"No\")),\n",
    "      Stroke = factor(MCQ160F, levels = c(1, 2),\n",
    "                      labels = c(\"Yes\", \"No\")),\n",
    "      COPD = factor(MCQ160O, levels = c(1, 2),\n",
    "                    labels = c(\"Yes\", \"No\")),\n",
    "      Liver = factor(MCQ160L, levels = c(1, 2),\n",
    "                     labels = c(\"Yes\", \"No\")),\n",
    "      Hypertension = factor(BPQ020, levels = c(1,2),\n",
    "                            labels = c(\"Yes\", \"No\")),\n",
    "      Diabetes = factor(DIQ010, levels = 1:3,\n",
    "                        labels = c(\"Yes\", \"No\", \"Borderline\"))\n",
    "    )\n",
    "  \n",
    "  continuous_vars <- c(\"Age (years)\", \"Ratio of family income\", \"Mean PPD\", \"Mean CAL\")\n",
    "  \n",
    "  categorical_vars <- c(\"Gender\", \"Ethnicity\", \"Education\", \"Smoking\", \"Alcohol intake\",\n",
    "                        \"Heart Failure\", \"Coronary Heart\", \"Angina\", \"Heart Attack\",\n",
    "                        \"Stroke\", \"COPD\", \"Liver\", \"Hypertension\", \"Diabetes\")\n",
    "\n",
    "  table1 <- CreateTableOne(vars = c(continuous_vars, categorical_vars),\n",
    "                           strata = \"periodontitis\",\n",
    "                           data = df,\n",
    "                           test = TRUE)\n",
    "\n",
    "  cont_vars_overall <- c(\"Age (years)\", \"Ratio of family income\")\n",
    "  \n",
    "  table_overall <- CreateTableOne(vars = c(cont_vars_overall, categorical_vars),\n",
    "                                  data = df,\n",
    "                                  test = FALSE)\n",
    "  \n",
    "  formatted_table <- print(table1,\n",
    "                           #nonnormal = continuous_vars,\n",
    "                           nonnormal = NULL,\n",
    "                           contDigits = 2,\n",
    "                           showAllLevels = TRUE,\n",
    "                           printToggle = FALSE,\n",
    "                           smd = FALSE)\n",
    "  \n",
    "  formatted_table_overall <- print(table_overall,\n",
    "                                   #nonnormal = continuous_vars,\n",
    "                                   nonnormal = NULL,\n",
    "                                   contDigits = 2,\n",
    "                                   showAllLevels = TRUE,\n",
    "                                   printToggle = FALSE,\n",
    "                                   smd = FALSE)\n",
    "  \n",
    "  final_table <- list(\"Stratified by periodontitis\" = formatted_table, \n",
    "                      \"Overall\" = formatted_table_overall)\n",
    "  \n",
    "  return(final_table)\n",
    "}\n"
   ]
  },
  {
   "cell_type": "code",
   "execution_count": 347,
   "metadata": {
    "vscode": {
     "languageId": "r"
    }
   },
   "outputs": [],
   "source": [
    "descriptive_table <- create_descriptive_table(df_final)"
   ]
  },
  {
   "cell_type": "code",
   "execution_count": 348,
   "metadata": {
    "vscode": {
     "languageId": "r"
    }
   },
   "outputs": [
    {
     "data": {
      "text/html": [
       "<dl>\n",
       "\t<dt>$`Stratified by periodontitis`</dt>\n",
       "\t\t<dd><table class=\"dataframe\">\n",
       "<caption>A matrix: 40 x 6 of type chr</caption>\n",
       "<thead>\n",
       "\t<tr><th></th><th scope=col>level</th><th scope=col>None/Mild</th><th scope=col>Moderate</th><th scope=col>Severe</th><th scope=col>p</th><th scope=col>test</th></tr>\n",
       "</thead>\n",
       "<tbody>\n",
       "\t<tr><th scope=row>n</th><td>                            </td><td>  451        </td><td>  464        </td><td>  113        </td><td>      </td><td></td></tr>\n",
       "\t<tr><th scope=row>Age (years) (mean (SD))</th><td><span style=white-space:pre-wrap>                            </span></td><td>69.07 (6.69) </td><td>69.80 (6.68) </td><td>66.62 (6.12) </td><td>&lt;0.001</td><td></td></tr>\n",
       "\t<tr><th scope=row>Ratio of family income (mean (SD))</th><td><span style=white-space:pre-wrap>                            </span></td><td> 3.14 (1.58) </td><td> 2.45 (1.53) </td><td> 2.00 (1.46) </td><td>&lt;0.001</td><td></td></tr>\n",
       "\t<tr><th scope=row>Mean PPD (mean (SD))</th><td><span style=white-space:pre-wrap>                            </span></td><td> 1.20 (0.36) </td><td> 1.70 (0.47) </td><td> 2.67 (0.72) </td><td>&lt;0.001</td><td></td></tr>\n",
       "\t<tr><th scope=row>Mean CAL (mean (SD))</th><td><span style=white-space:pre-wrap>                            </span></td><td> 1.43 (0.47) </td><td> 2.58 (1.00) </td><td> 3.93 (1.23) </td><td>&lt;0.001</td><td></td></tr>\n",
       "\t<tr><th scope=row>Gender (%)</th><td><span style=white-space:pre-wrap>Male                        </span></td><td><span style=white-space:pre-wrap>  171 (37.9) </span></td><td><span style=white-space:pre-wrap>  256 (55.2) </span></td><td><span style=white-space:pre-wrap>   79 (69.9) </span></td><td>&lt;0.001</td><td></td></tr>\n",
       "\t<tr><th scope=row></th><td>Female                      </td><td>  280 (62.1) </td><td>  208 (44.8) </td><td>   34 (30.1) </td><td>      </td><td></td></tr>\n",
       "\t<tr><th scope=row>Ethnicity (%)</th><td><span style=white-space:pre-wrap>Mexican American            </span></td><td><span style=white-space:pre-wrap>   36 ( 8.0) </span></td><td><span style=white-space:pre-wrap>   53 (11.4) </span></td><td><span style=white-space:pre-wrap>   23 (20.4) </span></td><td>&lt;0.001</td><td></td></tr>\n",
       "\t<tr><th scope=row></th><td>Other Hispanic              </td><td>   33 ( 7.3) </td><td>   49 (10.6) </td><td>   11 ( 9.7) </td><td>      </td><td></td></tr>\n",
       "\t<tr><th scope=row></th><td>Non-Hispanic White          </td><td>  285 (63.2) </td><td>  206 (44.4) </td><td>   23 (20.4) </td><td>      </td><td></td></tr>\n",
       "\t<tr><th scope=row></th><td>Non-Hispanic Black          </td><td>   53 (11.8) </td><td>  104 (22.4) </td><td>   48 (42.5) </td><td>      </td><td></td></tr>\n",
       "\t<tr><th scope=row></th><td>Other Race                  </td><td>   44 ( 9.8) </td><td>   52 (11.2) </td><td>    8 ( 7.1) </td><td>      </td><td></td></tr>\n",
       "\t<tr><th scope=row>Education (%)</th><td><span style=white-space:pre-wrap>Less than 9th grade         </span></td><td><span style=white-space:pre-wrap>   25 ( 5.5) </span></td><td><span style=white-space:pre-wrap>   62 (13.4) </span></td><td><span style=white-space:pre-wrap>   14 (12.4) </span></td><td>&lt;0.001</td><td></td></tr>\n",
       "\t<tr><th scope=row></th><td>9-11th grade                </td><td>   36 ( 8.0) </td><td>   58 (12.5) </td><td>   25 (22.1) </td><td>      </td><td></td></tr>\n",
       "\t<tr><th scope=row></th><td>High school graduate        </td><td>   89 (19.7) </td><td>  101 (21.8) </td><td>   38 (33.6) </td><td>      </td><td></td></tr>\n",
       "\t<tr><th scope=row></th><td>Some college/AA degree      </td><td>  153 (33.9) </td><td>  133 (28.7) </td><td>   23 (20.4) </td><td>      </td><td></td></tr>\n",
       "\t<tr><th scope=row></th><td>College graduate or above   </td><td>  148 (32.8) </td><td>  110 (23.7) </td><td>   13 (11.5) </td><td>      </td><td></td></tr>\n",
       "\t<tr><th scope=row>Smoking (%)</th><td><span style=white-space:pre-wrap>Yes                         </span></td><td><span style=white-space:pre-wrap>  176 (39.0) </span></td><td><span style=white-space:pre-wrap>  255 (55.0) </span></td><td><span style=white-space:pre-wrap>   65 (57.5) </span></td><td>&lt;0.001</td><td></td></tr>\n",
       "\t<tr><th scope=row></th><td>No                          </td><td>  275 (61.0) </td><td>  209 (45.0) </td><td>   48 (42.5) </td><td>      </td><td></td></tr>\n",
       "\t<tr><th scope=row>Alcohol intake (%)</th><td>Over 12 alcohol drinks/1 yr </td><td>  307 (68.1) </td><td>  311 (67.0) </td><td>   87 (77.0) </td><td> 0.117</td><td></td></tr>\n",
       "\t<tr><th scope=row></th><td>Under 12 alcohol drinks/1 yr</td><td>  144 (31.9) </td><td>  153 (33.0) </td><td>   26 (23.0) </td><td>      </td><td></td></tr>\n",
       "\t<tr><th scope=row>Heart Failure (%)</th><td>Yes                         </td><td>   16 ( 3.5) </td><td>   29 ( 6.2) </td><td>    6 ( 5.3) </td><td> 0.167</td><td></td></tr>\n",
       "\t<tr><th scope=row></th><td>No                          </td><td>  435 (96.5) </td><td>  435 (93.8) </td><td>  107 (94.7) </td><td>      </td><td></td></tr>\n",
       "\t<tr><th scope=row>Coronary Heart (%)</th><td>Yes                         </td><td>   31 ( 6.9) </td><td>   39 ( 8.4) </td><td>    7 ( 6.2) </td><td> 0.582</td><td></td></tr>\n",
       "\t<tr><th scope=row></th><td>No                          </td><td>  420 (93.1) </td><td>  425 (91.6) </td><td>  106 (93.8) </td><td>      </td><td></td></tr>\n",
       "\t<tr><th scope=row>Angina (%)</th><td>Yes                         </td><td>   26 ( 5.8) </td><td>   22 ( 4.7) </td><td>    4 ( 3.5) </td><td> 0.574</td><td></td></tr>\n",
       "\t<tr><th scope=row></th><td>No                          </td><td>  425 (94.2) </td><td>  442 (95.3) </td><td>  109 (96.5) </td><td>      </td><td></td></tr>\n",
       "\t<tr><th scope=row>Heart Attack (%)</th><td>Yes                         </td><td>   25 ( 5.5) </td><td>   38 ( 8.2) </td><td>   11 ( 9.7) </td><td> 0.164</td><td></td></tr>\n",
       "\t<tr><th scope=row></th><td>No                          </td><td>  426 (94.5) </td><td>  426 (91.8) </td><td>  102 (90.3) </td><td>      </td><td></td></tr>\n",
       "\t<tr><th scope=row>Stroke (%)</th><td>Yes                         </td><td>   32 ( 7.1) </td><td>   26 ( 5.6) </td><td>    5 ( 4.4) </td><td> 0.466</td><td></td></tr>\n",
       "\t<tr><th scope=row></th><td>No                          </td><td>  419 (92.9) </td><td>  438 (94.4) </td><td>  108 (95.6) </td><td>      </td><td></td></tr>\n",
       "\t<tr><th scope=row>COPD (%)</th><td>Yes                         </td><td>   14 ( 3.1) </td><td>   36 ( 7.8) </td><td>    7 ( 6.2) </td><td> 0.008</td><td></td></tr>\n",
       "\t<tr><th scope=row></th><td>No                          </td><td>  437 (96.9) </td><td>  428 (92.2) </td><td>  106 (93.8) </td><td>      </td><td></td></tr>\n",
       "\t<tr><th scope=row>Liver (%)</th><td>Yes                         </td><td>   22 ( 4.9) </td><td>   21 ( 4.5) </td><td>    5 ( 4.4) </td><td> 0.960</td><td></td></tr>\n",
       "\t<tr><th scope=row></th><td>No                          </td><td>  429 (95.1) </td><td>  443 (95.5) </td><td>  108 (95.6) </td><td>      </td><td></td></tr>\n",
       "\t<tr><th scope=row>Hypertension (%)</th><td>Yes                         </td><td>  276 (61.2) </td><td>  283 (61.0) </td><td>   73 (64.6) </td><td> 0.768</td><td></td></tr>\n",
       "\t<tr><th scope=row></th><td>No                          </td><td>  175 (38.8) </td><td>  181 (39.0) </td><td>   40 (35.4) </td><td>      </td><td></td></tr>\n",
       "\t<tr><th scope=row>Diabetes (%)</th><td>Yes                         </td><td>   82 (18.2) </td><td>  119 (25.6) </td><td>   24 (21.2) </td><td> 0.090</td><td></td></tr>\n",
       "\t<tr><th scope=row></th><td>No                          </td><td>  344 (76.3) </td><td>  321 (69.2) </td><td>   81 (71.7) </td><td>      </td><td></td></tr>\n",
       "\t<tr><th scope=row></th><td>Borderline                  </td><td>   25 ( 5.5) </td><td>   24 ( 5.2) </td><td>    8 ( 7.1) </td><td>      </td><td></td></tr>\n",
       "</tbody>\n",
       "</table>\n",
       "</dd>\n",
       "\t<dt>$Overall</dt>\n",
       "\t\t<dd><table class=\"dataframe\">\n",
       "<caption>A matrix: 38 x 2 of type chr</caption>\n",
       "<thead>\n",
       "\t<tr><th></th><th scope=col>level</th><th scope=col>Overall</th></tr>\n",
       "</thead>\n",
       "<tbody>\n",
       "\t<tr><th scope=row>n</th><td>                            </td><td> 1028        </td></tr>\n",
       "\t<tr><th scope=row>Age (years) (mean (SD))</th><td>                            </td><td>69.13 (6.68) </td></tr>\n",
       "\t<tr><th scope=row>Ratio of family income (mean (SD))</th><td>                            </td><td> 2.70 (1.60) </td></tr>\n",
       "\t<tr><th scope=row>Gender (%)</th><td>Male                        </td><td>  506 (49.2) </td></tr>\n",
       "\t<tr><th scope=row></th><td>Female                      </td><td>  522 (50.8) </td></tr>\n",
       "\t<tr><th scope=row>Ethnicity (%)</th><td>Mexican American            </td><td>  112 (10.9) </td></tr>\n",
       "\t<tr><th scope=row></th><td>Other Hispanic              </td><td>   93 ( 9.0) </td></tr>\n",
       "\t<tr><th scope=row></th><td>Non-Hispanic White          </td><td>  514 (50.0) </td></tr>\n",
       "\t<tr><th scope=row></th><td>Non-Hispanic Black          </td><td>  205 (19.9) </td></tr>\n",
       "\t<tr><th scope=row></th><td>Other Race                  </td><td>  104 (10.1) </td></tr>\n",
       "\t<tr><th scope=row>Education (%)</th><td>Less than 9th grade         </td><td>  101 ( 9.8) </td></tr>\n",
       "\t<tr><th scope=row></th><td>9-11th grade                </td><td>  119 (11.6) </td></tr>\n",
       "\t<tr><th scope=row></th><td>High school graduate        </td><td>  228 (22.2) </td></tr>\n",
       "\t<tr><th scope=row></th><td>Some college/AA degree      </td><td>  309 (30.1) </td></tr>\n",
       "\t<tr><th scope=row></th><td>College graduate or above   </td><td>  271 (26.4) </td></tr>\n",
       "\t<tr><th scope=row>Smoking (%)</th><td>Yes                         </td><td>  496 (48.2) </td></tr>\n",
       "\t<tr><th scope=row></th><td>No                          </td><td>  532 (51.8) </td></tr>\n",
       "\t<tr><th scope=row>Alcohol intake (%)</th><td>Over 12 alcohol drinks/1 yr </td><td>  705 (68.6) </td></tr>\n",
       "\t<tr><th scope=row></th><td>Under 12 alcohol drinks/1 yr</td><td>  323 (31.4) </td></tr>\n",
       "\t<tr><th scope=row>Heart Failure (%)</th><td>Yes                         </td><td>   51 ( 5.0) </td></tr>\n",
       "\t<tr><th scope=row></th><td>No                          </td><td>  977 (95.0) </td></tr>\n",
       "\t<tr><th scope=row>Coronary Heart (%)</th><td>Yes                         </td><td>   77 ( 7.5) </td></tr>\n",
       "\t<tr><th scope=row></th><td>No                          </td><td>  951 (92.5) </td></tr>\n",
       "\t<tr><th scope=row>Angina (%)</th><td>Yes                         </td><td>   52 ( 5.1) </td></tr>\n",
       "\t<tr><th scope=row></th><td>No                          </td><td>  976 (94.9) </td></tr>\n",
       "\t<tr><th scope=row>Heart Attack (%)</th><td>Yes                         </td><td>   74 ( 7.2) </td></tr>\n",
       "\t<tr><th scope=row></th><td>No                          </td><td>  954 (92.8) </td></tr>\n",
       "\t<tr><th scope=row>Stroke (%)</th><td>Yes                         </td><td>   63 ( 6.1) </td></tr>\n",
       "\t<tr><th scope=row></th><td>No                          </td><td>  965 (93.9) </td></tr>\n",
       "\t<tr><th scope=row>COPD (%)</th><td>Yes                         </td><td>   57 ( 5.5) </td></tr>\n",
       "\t<tr><th scope=row></th><td>No                          </td><td>  971 (94.5) </td></tr>\n",
       "\t<tr><th scope=row>Liver (%)</th><td>Yes                         </td><td>   48 ( 4.7) </td></tr>\n",
       "\t<tr><th scope=row></th><td>No                          </td><td>  980 (95.3) </td></tr>\n",
       "\t<tr><th scope=row>Hypertension (%)</th><td>Yes                         </td><td>  632 (61.5) </td></tr>\n",
       "\t<tr><th scope=row></th><td>No                          </td><td>  396 (38.5) </td></tr>\n",
       "\t<tr><th scope=row>Diabetes (%)</th><td>Yes                         </td><td>  225 (21.9) </td></tr>\n",
       "\t<tr><th scope=row></th><td>No                          </td><td>  746 (72.6) </td></tr>\n",
       "\t<tr><th scope=row></th><td>Borderline                  </td><td>   57 ( 5.5) </td></tr>\n",
       "</tbody>\n",
       "</table>\n",
       "</dd>\n",
       "</dl>\n"
      ],
      "text/latex": [
       "\\begin{description}\n",
       "\\item[\\$`Stratified by periodontitis`] A matrix: 40 x 6 of type chr\n",
       "\\begin{tabular}{r|llllll}\n",
       "  & level & None/Mild & Moderate & Severe & p & test\\\\\n",
       "\\hline\n",
       "\tn &                              &   451         &   464         &   113         &        & \\\\\n",
       "\tAge (years) (mean (SD)) &                              & 69.07 (6.69)  & 69.80 (6.68)  & 66.62 (6.12)  & <0.001 & \\\\\n",
       "\tRatio of family income (mean (SD)) &                              &  3.14 (1.58)  &  2.45 (1.53)  &  2.00 (1.46)  & <0.001 & \\\\\n",
       "\tMean PPD (mean (SD)) &                              &  1.20 (0.36)  &  1.70 (0.47)  &  2.67 (0.72)  & <0.001 & \\\\\n",
       "\tMean CAL (mean (SD)) &                              &  1.43 (0.47)  &  2.58 (1.00)  &  3.93 (1.23)  & <0.001 & \\\\\n",
       "\tGender (\\%) & Male                         &   171 (37.9)  &   256 (55.2)  &    79 (69.9)  & <0.001 & \\\\\n",
       "\t & Female                       &   280 (62.1)  &   208 (44.8)  &    34 (30.1)  &        & \\\\\n",
       "\tEthnicity (\\%) & Mexican American             &    36 ( 8.0)  &    53 (11.4)  &    23 (20.4)  & <0.001 & \\\\\n",
       "\t & Other Hispanic               &    33 ( 7.3)  &    49 (10.6)  &    11 ( 9.7)  &        & \\\\\n",
       "\t & Non-Hispanic White           &   285 (63.2)  &   206 (44.4)  &    23 (20.4)  &        & \\\\\n",
       "\t & Non-Hispanic Black           &    53 (11.8)  &   104 (22.4)  &    48 (42.5)  &        & \\\\\n",
       "\t & Other Race                   &    44 ( 9.8)  &    52 (11.2)  &     8 ( 7.1)  &        & \\\\\n",
       "\tEducation (\\%) & Less than 9th grade          &    25 ( 5.5)  &    62 (13.4)  &    14 (12.4)  & <0.001 & \\\\\n",
       "\t & 9-11th grade                 &    36 ( 8.0)  &    58 (12.5)  &    25 (22.1)  &        & \\\\\n",
       "\t & High school graduate         &    89 (19.7)  &   101 (21.8)  &    38 (33.6)  &        & \\\\\n",
       "\t & Some college/AA degree       &   153 (33.9)  &   133 (28.7)  &    23 (20.4)  &        & \\\\\n",
       "\t & College graduate or above    &   148 (32.8)  &   110 (23.7)  &    13 (11.5)  &        & \\\\\n",
       "\tSmoking (\\%) & Yes                          &   176 (39.0)  &   255 (55.0)  &    65 (57.5)  & <0.001 & \\\\\n",
       "\t & No                           &   275 (61.0)  &   209 (45.0)  &    48 (42.5)  &        & \\\\\n",
       "\tAlcohol intake (\\%) & Over 12 alcohol drinks/1 yr  &   307 (68.1)  &   311 (67.0)  &    87 (77.0)  &  0.117 & \\\\\n",
       "\t & Under 12 alcohol drinks/1 yr &   144 (31.9)  &   153 (33.0)  &    26 (23.0)  &        & \\\\\n",
       "\tHeart Failure (\\%) & Yes                          &    16 ( 3.5)  &    29 ( 6.2)  &     6 ( 5.3)  &  0.167 & \\\\\n",
       "\t & No                           &   435 (96.5)  &   435 (93.8)  &   107 (94.7)  &        & \\\\\n",
       "\tCoronary Heart (\\%) & Yes                          &    31 ( 6.9)  &    39 ( 8.4)  &     7 ( 6.2)  &  0.582 & \\\\\n",
       "\t & No                           &   420 (93.1)  &   425 (91.6)  &   106 (93.8)  &        & \\\\\n",
       "\tAngina (\\%) & Yes                          &    26 ( 5.8)  &    22 ( 4.7)  &     4 ( 3.5)  &  0.574 & \\\\\n",
       "\t & No                           &   425 (94.2)  &   442 (95.3)  &   109 (96.5)  &        & \\\\\n",
       "\tHeart Attack (\\%) & Yes                          &    25 ( 5.5)  &    38 ( 8.2)  &    11 ( 9.7)  &  0.164 & \\\\\n",
       "\t & No                           &   426 (94.5)  &   426 (91.8)  &   102 (90.3)  &        & \\\\\n",
       "\tStroke (\\%) & Yes                          &    32 ( 7.1)  &    26 ( 5.6)  &     5 ( 4.4)  &  0.466 & \\\\\n",
       "\t & No                           &   419 (92.9)  &   438 (94.4)  &   108 (95.6)  &        & \\\\\n",
       "\tCOPD (\\%) & Yes                          &    14 ( 3.1)  &    36 ( 7.8)  &     7 ( 6.2)  &  0.008 & \\\\\n",
       "\t & No                           &   437 (96.9)  &   428 (92.2)  &   106 (93.8)  &        & \\\\\n",
       "\tLiver (\\%) & Yes                          &    22 ( 4.9)  &    21 ( 4.5)  &     5 ( 4.4)  &  0.960 & \\\\\n",
       "\t & No                           &   429 (95.1)  &   443 (95.5)  &   108 (95.6)  &        & \\\\\n",
       "\tHypertension (\\%) & Yes                          &   276 (61.2)  &   283 (61.0)  &    73 (64.6)  &  0.768 & \\\\\n",
       "\t & No                           &   175 (38.8)  &   181 (39.0)  &    40 (35.4)  &        & \\\\\n",
       "\tDiabetes (\\%) & Yes                          &    82 (18.2)  &   119 (25.6)  &    24 (21.2)  &  0.090 & \\\\\n",
       "\t & No                           &   344 (76.3)  &   321 (69.2)  &    81 (71.7)  &        & \\\\\n",
       "\t & Borderline                   &    25 ( 5.5)  &    24 ( 5.2)  &     8 ( 7.1)  &        & \\\\\n",
       "\\end{tabular}\n",
       "\n",
       "\\item[\\$Overall] A matrix: 38 x 2 of type chr\n",
       "\\begin{tabular}{r|ll}\n",
       "  & level & Overall\\\\\n",
       "\\hline\n",
       "\tn &                              &  1028        \\\\\n",
       "\tAge (years) (mean (SD)) &                              & 69.13 (6.68) \\\\\n",
       "\tRatio of family income (mean (SD)) &                              &  2.70 (1.60) \\\\\n",
       "\tGender (\\%) & Male                         &   506 (49.2) \\\\\n",
       "\t & Female                       &   522 (50.8) \\\\\n",
       "\tEthnicity (\\%) & Mexican American             &   112 (10.9) \\\\\n",
       "\t & Other Hispanic               &    93 ( 9.0) \\\\\n",
       "\t & Non-Hispanic White           &   514 (50.0) \\\\\n",
       "\t & Non-Hispanic Black           &   205 (19.9) \\\\\n",
       "\t & Other Race                   &   104 (10.1) \\\\\n",
       "\tEducation (\\%) & Less than 9th grade          &   101 ( 9.8) \\\\\n",
       "\t & 9-11th grade                 &   119 (11.6) \\\\\n",
       "\t & High school graduate         &   228 (22.2) \\\\\n",
       "\t & Some college/AA degree       &   309 (30.1) \\\\\n",
       "\t & College graduate or above    &   271 (26.4) \\\\\n",
       "\tSmoking (\\%) & Yes                          &   496 (48.2) \\\\\n",
       "\t & No                           &   532 (51.8) \\\\\n",
       "\tAlcohol intake (\\%) & Over 12 alcohol drinks/1 yr  &   705 (68.6) \\\\\n",
       "\t & Under 12 alcohol drinks/1 yr &   323 (31.4) \\\\\n",
       "\tHeart Failure (\\%) & Yes                          &    51 ( 5.0) \\\\\n",
       "\t & No                           &   977 (95.0) \\\\\n",
       "\tCoronary Heart (\\%) & Yes                          &    77 ( 7.5) \\\\\n",
       "\t & No                           &   951 (92.5) \\\\\n",
       "\tAngina (\\%) & Yes                          &    52 ( 5.1) \\\\\n",
       "\t & No                           &   976 (94.9) \\\\\n",
       "\tHeart Attack (\\%) & Yes                          &    74 ( 7.2) \\\\\n",
       "\t & No                           &   954 (92.8) \\\\\n",
       "\tStroke (\\%) & Yes                          &    63 ( 6.1) \\\\\n",
       "\t & No                           &   965 (93.9) \\\\\n",
       "\tCOPD (\\%) & Yes                          &    57 ( 5.5) \\\\\n",
       "\t & No                           &   971 (94.5) \\\\\n",
       "\tLiver (\\%) & Yes                          &    48 ( 4.7) \\\\\n",
       "\t & No                           &   980 (95.3) \\\\\n",
       "\tHypertension (\\%) & Yes                          &   632 (61.5) \\\\\n",
       "\t & No                           &   396 (38.5) \\\\\n",
       "\tDiabetes (\\%) & Yes                          &   225 (21.9) \\\\\n",
       "\t & No                           &   746 (72.6) \\\\\n",
       "\t & Borderline                   &    57 ( 5.5) \\\\\n",
       "\\end{tabular}\n",
       "\n",
       "\\end{description}\n"
      ],
      "text/markdown": [
       "$`Stratified by periodontitis`\n",
       ":   \n",
       "A matrix: 40 x 6 of type chr\n",
       "\n",
       "| <!--/--> | level | None/Mild | Moderate | Severe | p | test |\n",
       "|---|---|---|---|---|---|---|\n",
       "| n | <!----> |   451         |   464         |   113         | <!----> | <!----> |\n",
       "| Age (years) (mean (SD)) | <!----> | 69.07 (6.69)  | 69.80 (6.68)  | 66.62 (6.12)  | &lt;0.001 | <!----> |\n",
       "| Ratio of family income (mean (SD)) | <!----> |  3.14 (1.58)  |  2.45 (1.53)  |  2.00 (1.46)  | &lt;0.001 | <!----> |\n",
       "| Mean PPD (mean (SD)) | <!----> |  1.20 (0.36)  |  1.70 (0.47)  |  2.67 (0.72)  | &lt;0.001 | <!----> |\n",
       "| Mean CAL (mean (SD)) | <!----> |  1.43 (0.47)  |  2.58 (1.00)  |  3.93 (1.23)  | &lt;0.001 | <!----> |\n",
       "| Gender (%) | Male                         |   171 (37.9)  |   256 (55.2)  |    79 (69.9)  | &lt;0.001 | <!----> |\n",
       "| <!----> | Female                       |   280 (62.1)  |   208 (44.8)  |    34 (30.1)  | <!----> | <!----> |\n",
       "| Ethnicity (%) | Mexican American             |    36 ( 8.0)  |    53 (11.4)  |    23 (20.4)  | &lt;0.001 | <!----> |\n",
       "| <!----> | Other Hispanic               |    33 ( 7.3)  |    49 (10.6)  |    11 ( 9.7)  | <!----> | <!----> |\n",
       "| <!----> | Non-Hispanic White           |   285 (63.2)  |   206 (44.4)  |    23 (20.4)  | <!----> | <!----> |\n",
       "| <!----> | Non-Hispanic Black           |    53 (11.8)  |   104 (22.4)  |    48 (42.5)  | <!----> | <!----> |\n",
       "| <!----> | Other Race                   |    44 ( 9.8)  |    52 (11.2)  |     8 ( 7.1)  | <!----> | <!----> |\n",
       "| Education (%) | Less than 9th grade          |    25 ( 5.5)  |    62 (13.4)  |    14 (12.4)  | &lt;0.001 | <!----> |\n",
       "| <!----> | 9-11th grade                 |    36 ( 8.0)  |    58 (12.5)  |    25 (22.1)  | <!----> | <!----> |\n",
       "| <!----> | High school graduate         |    89 (19.7)  |   101 (21.8)  |    38 (33.6)  | <!----> | <!----> |\n",
       "| <!----> | Some college/AA degree       |   153 (33.9)  |   133 (28.7)  |    23 (20.4)  | <!----> | <!----> |\n",
       "| <!----> | College graduate or above    |   148 (32.8)  |   110 (23.7)  |    13 (11.5)  | <!----> | <!----> |\n",
       "| Smoking (%) | Yes                          |   176 (39.0)  |   255 (55.0)  |    65 (57.5)  | &lt;0.001 | <!----> |\n",
       "| <!----> | No                           |   275 (61.0)  |   209 (45.0)  |    48 (42.5)  | <!----> | <!----> |\n",
       "| Alcohol intake (%) | Over 12 alcohol drinks/1 yr  |   307 (68.1)  |   311 (67.0)  |    87 (77.0)  |  0.117 | <!----> |\n",
       "| <!----> | Under 12 alcohol drinks/1 yr |   144 (31.9)  |   153 (33.0)  |    26 (23.0)  | <!----> | <!----> |\n",
       "| Heart Failure (%) | Yes                          |    16 ( 3.5)  |    29 ( 6.2)  |     6 ( 5.3)  |  0.167 | <!----> |\n",
       "| <!----> | No                           |   435 (96.5)  |   435 (93.8)  |   107 (94.7)  | <!----> | <!----> |\n",
       "| Coronary Heart (%) | Yes                          |    31 ( 6.9)  |    39 ( 8.4)  |     7 ( 6.2)  |  0.582 | <!----> |\n",
       "| <!----> | No                           |   420 (93.1)  |   425 (91.6)  |   106 (93.8)  | <!----> | <!----> |\n",
       "| Angina (%) | Yes                          |    26 ( 5.8)  |    22 ( 4.7)  |     4 ( 3.5)  |  0.574 | <!----> |\n",
       "| <!----> | No                           |   425 (94.2)  |   442 (95.3)  |   109 (96.5)  | <!----> | <!----> |\n",
       "| Heart Attack (%) | Yes                          |    25 ( 5.5)  |    38 ( 8.2)  |    11 ( 9.7)  |  0.164 | <!----> |\n",
       "| <!----> | No                           |   426 (94.5)  |   426 (91.8)  |   102 (90.3)  | <!----> | <!----> |\n",
       "| Stroke (%) | Yes                          |    32 ( 7.1)  |    26 ( 5.6)  |     5 ( 4.4)  |  0.466 | <!----> |\n",
       "| <!----> | No                           |   419 (92.9)  |   438 (94.4)  |   108 (95.6)  | <!----> | <!----> |\n",
       "| COPD (%) | Yes                          |    14 ( 3.1)  |    36 ( 7.8)  |     7 ( 6.2)  |  0.008 | <!----> |\n",
       "| <!----> | No                           |   437 (96.9)  |   428 (92.2)  |   106 (93.8)  | <!----> | <!----> |\n",
       "| Liver (%) | Yes                          |    22 ( 4.9)  |    21 ( 4.5)  |     5 ( 4.4)  |  0.960 | <!----> |\n",
       "| <!----> | No                           |   429 (95.1)  |   443 (95.5)  |   108 (95.6)  | <!----> | <!----> |\n",
       "| Hypertension (%) | Yes                          |   276 (61.2)  |   283 (61.0)  |    73 (64.6)  |  0.768 | <!----> |\n",
       "| <!----> | No                           |   175 (38.8)  |   181 (39.0)  |    40 (35.4)  | <!----> | <!----> |\n",
       "| Diabetes (%) | Yes                          |    82 (18.2)  |   119 (25.6)  |    24 (21.2)  |  0.090 | <!----> |\n",
       "| <!----> | No                           |   344 (76.3)  |   321 (69.2)  |    81 (71.7)  | <!----> | <!----> |\n",
       "| <!----> | Borderline                   |    25 ( 5.5)  |    24 ( 5.2)  |     8 ( 7.1)  | <!----> | <!----> |\n",
       "\n",
       "\n",
       "$Overall\n",
       ":   \n",
       "A matrix: 38 x 2 of type chr\n",
       "\n",
       "| <!--/--> | level | Overall |\n",
       "|---|---|---|\n",
       "| n | <!----> |  1028         |\n",
       "| Age (years) (mean (SD)) | <!----> | 69.13 (6.68)  |\n",
       "| Ratio of family income (mean (SD)) | <!----> |  2.70 (1.60)  |\n",
       "| Gender (%) | Male                         |   506 (49.2)  |\n",
       "| <!----> | Female                       |   522 (50.8)  |\n",
       "| Ethnicity (%) | Mexican American             |   112 (10.9)  |\n",
       "| <!----> | Other Hispanic               |    93 ( 9.0)  |\n",
       "| <!----> | Non-Hispanic White           |   514 (50.0)  |\n",
       "| <!----> | Non-Hispanic Black           |   205 (19.9)  |\n",
       "| <!----> | Other Race                   |   104 (10.1)  |\n",
       "| Education (%) | Less than 9th grade          |   101 ( 9.8)  |\n",
       "| <!----> | 9-11th grade                 |   119 (11.6)  |\n",
       "| <!----> | High school graduate         |   228 (22.2)  |\n",
       "| <!----> | Some college/AA degree       |   309 (30.1)  |\n",
       "| <!----> | College graduate or above    |   271 (26.4)  |\n",
       "| Smoking (%) | Yes                          |   496 (48.2)  |\n",
       "| <!----> | No                           |   532 (51.8)  |\n",
       "| Alcohol intake (%) | Over 12 alcohol drinks/1 yr  |   705 (68.6)  |\n",
       "| <!----> | Under 12 alcohol drinks/1 yr |   323 (31.4)  |\n",
       "| Heart Failure (%) | Yes                          |    51 ( 5.0)  |\n",
       "| <!----> | No                           |   977 (95.0)  |\n",
       "| Coronary Heart (%) | Yes                          |    77 ( 7.5)  |\n",
       "| <!----> | No                           |   951 (92.5)  |\n",
       "| Angina (%) | Yes                          |    52 ( 5.1)  |\n",
       "| <!----> | No                           |   976 (94.9)  |\n",
       "| Heart Attack (%) | Yes                          |    74 ( 7.2)  |\n",
       "| <!----> | No                           |   954 (92.8)  |\n",
       "| Stroke (%) | Yes                          |    63 ( 6.1)  |\n",
       "| <!----> | No                           |   965 (93.9)  |\n",
       "| COPD (%) | Yes                          |    57 ( 5.5)  |\n",
       "| <!----> | No                           |   971 (94.5)  |\n",
       "| Liver (%) | Yes                          |    48 ( 4.7)  |\n",
       "| <!----> | No                           |   980 (95.3)  |\n",
       "| Hypertension (%) | Yes                          |   632 (61.5)  |\n",
       "| <!----> | No                           |   396 (38.5)  |\n",
       "| Diabetes (%) | Yes                          |   225 (21.9)  |\n",
       "| <!----> | No                           |   746 (72.6)  |\n",
       "| <!----> | Borderline                   |    57 ( 5.5)  |\n",
       "\n",
       "\n",
       "\n",
       "\n"
      ],
      "text/plain": [
       "$`Stratified by periodontitis`\n",
       "                                    Stratified by periodontitis\n",
       "                                     level                         \n",
       "  n                                  \"\"                            \n",
       "  Age (years) (mean (SD))            \"\"                            \n",
       "  Ratio of family income (mean (SD)) \"\"                            \n",
       "  Mean PPD (mean (SD))               \"\"                            \n",
       "  Mean CAL (mean (SD))               \"\"                            \n",
       "  Gender (%)                         \"Male\"                        \n",
       "                                     \"Female\"                      \n",
       "  Ethnicity (%)                      \"Mexican American\"            \n",
       "                                     \"Other Hispanic\"              \n",
       "                                     \"Non-Hispanic White\"          \n",
       "                                     \"Non-Hispanic Black\"          \n",
       "                                     \"Other Race\"                  \n",
       "  Education (%)                      \"Less than 9th grade\"         \n",
       "                                     \"9-11th grade\"                \n",
       "                                     \"High school graduate\"        \n",
       "                                     \"Some college/AA degree\"      \n",
       "                                     \"College graduate or above\"   \n",
       "  Smoking (%)                        \"Yes\"                         \n",
       "                                     \"No\"                          \n",
       "  Alcohol intake (%)                 \"Over 12 alcohol drinks/1 yr\" \n",
       "                                     \"Under 12 alcohol drinks/1 yr\"\n",
       "  Heart Failure (%)                  \"Yes\"                         \n",
       "                                     \"No\"                          \n",
       "  Coronary Heart (%)                 \"Yes\"                         \n",
       "                                     \"No\"                          \n",
       "  Angina (%)                         \"Yes\"                         \n",
       "                                     \"No\"                          \n",
       "  Heart Attack (%)                   \"Yes\"                         \n",
       "                                     \"No\"                          \n",
       "  Stroke (%)                         \"Yes\"                         \n",
       "                                     \"No\"                          \n",
       "  COPD (%)                           \"Yes\"                         \n",
       "                                     \"No\"                          \n",
       "  Liver (%)                          \"Yes\"                         \n",
       "                                     \"No\"                          \n",
       "  Hypertension (%)                   \"Yes\"                         \n",
       "                                     \"No\"                          \n",
       "  Diabetes (%)                       \"Yes\"                         \n",
       "                                     \"No\"                          \n",
       "                                     \"Borderline\"                  \n",
       "                                    Stratified by periodontitis\n",
       "                                     None/Mild       Moderate       \n",
       "  n                                  \"  451\"         \"  464\"        \n",
       "  Age (years) (mean (SD))            \"69.07 (6.69)\"  \"69.80 (6.68)\" \n",
       "  Ratio of family income (mean (SD)) \" 3.14 (1.58)\"  \" 2.45 (1.53)\" \n",
       "  Mean PPD (mean (SD))               \" 1.20 (0.36)\"  \" 1.70 (0.47)\" \n",
       "  Mean CAL (mean (SD))               \" 1.43 (0.47)\"  \" 2.58 (1.00)\" \n",
       "  Gender (%)                         \"  171 (37.9) \" \"  256 (55.2) \"\n",
       "                                     \"  280 (62.1) \" \"  208 (44.8) \"\n",
       "  Ethnicity (%)                      \"   36 ( 8.0) \" \"   53 (11.4) \"\n",
       "                                     \"   33 ( 7.3) \" \"   49 (10.6) \"\n",
       "                                     \"  285 (63.2) \" \"  206 (44.4) \"\n",
       "                                     \"   53 (11.8) \" \"  104 (22.4) \"\n",
       "                                     \"   44 ( 9.8) \" \"   52 (11.2) \"\n",
       "  Education (%)                      \"   25 ( 5.5) \" \"   62 (13.4) \"\n",
       "                                     \"   36 ( 8.0) \" \"   58 (12.5) \"\n",
       "                                     \"   89 (19.7) \" \"  101 (21.8) \"\n",
       "                                     \"  153 (33.9) \" \"  133 (28.7) \"\n",
       "                                     \"  148 (32.8) \" \"  110 (23.7) \"\n",
       "  Smoking (%)                        \"  176 (39.0) \" \"  255 (55.0) \"\n",
       "                                     \"  275 (61.0) \" \"  209 (45.0) \"\n",
       "  Alcohol intake (%)                 \"  307 (68.1) \" \"  311 (67.0) \"\n",
       "                                     \"  144 (31.9) \" \"  153 (33.0) \"\n",
       "  Heart Failure (%)                  \"   16 ( 3.5) \" \"   29 ( 6.2) \"\n",
       "                                     \"  435 (96.5) \" \"  435 (93.8) \"\n",
       "  Coronary Heart (%)                 \"   31 ( 6.9) \" \"   39 ( 8.4) \"\n",
       "                                     \"  420 (93.1) \" \"  425 (91.6) \"\n",
       "  Angina (%)                         \"   26 ( 5.8) \" \"   22 ( 4.7) \"\n",
       "                                     \"  425 (94.2) \" \"  442 (95.3) \"\n",
       "  Heart Attack (%)                   \"   25 ( 5.5) \" \"   38 ( 8.2) \"\n",
       "                                     \"  426 (94.5) \" \"  426 (91.8) \"\n",
       "  Stroke (%)                         \"   32 ( 7.1) \" \"   26 ( 5.6) \"\n",
       "                                     \"  419 (92.9) \" \"  438 (94.4) \"\n",
       "  COPD (%)                           \"   14 ( 3.1) \" \"   36 ( 7.8) \"\n",
       "                                     \"  437 (96.9) \" \"  428 (92.2) \"\n",
       "  Liver (%)                          \"   22 ( 4.9) \" \"   21 ( 4.5) \"\n",
       "                                     \"  429 (95.1) \" \"  443 (95.5) \"\n",
       "  Hypertension (%)                   \"  276 (61.2) \" \"  283 (61.0) \"\n",
       "                                     \"  175 (38.8) \" \"  181 (39.0) \"\n",
       "  Diabetes (%)                       \"   82 (18.2) \" \"  119 (25.6) \"\n",
       "                                     \"  344 (76.3) \" \"  321 (69.2) \"\n",
       "                                     \"   25 ( 5.5) \" \"   24 ( 5.2) \"\n",
       "                                    Stratified by periodontitis\n",
       "                                     Severe          p        test\n",
       "  n                                  \"  113\"         \"\"       \"\"  \n",
       "  Age (years) (mean (SD))            \"66.62 (6.12)\"  \"<0.001\" \"\"  \n",
       "  Ratio of family income (mean (SD)) \" 2.00 (1.46)\"  \"<0.001\" \"\"  \n",
       "  Mean PPD (mean (SD))               \" 2.67 (0.72)\"  \"<0.001\" \"\"  \n",
       "  Mean CAL (mean (SD))               \" 3.93 (1.23)\"  \"<0.001\" \"\"  \n",
       "  Gender (%)                         \"   79 (69.9) \" \"<0.001\" \"\"  \n",
       "                                     \"   34 (30.1) \" \"\"       \"\"  \n",
       "  Ethnicity (%)                      \"   23 (20.4) \" \"<0.001\" \"\"  \n",
       "                                     \"   11 ( 9.7) \" \"\"       \"\"  \n",
       "                                     \"   23 (20.4) \" \"\"       \"\"  \n",
       "                                     \"   48 (42.5) \" \"\"       \"\"  \n",
       "                                     \"    8 ( 7.1) \" \"\"       \"\"  \n",
       "  Education (%)                      \"   14 (12.4) \" \"<0.001\" \"\"  \n",
       "                                     \"   25 (22.1) \" \"\"       \"\"  \n",
       "                                     \"   38 (33.6) \" \"\"       \"\"  \n",
       "                                     \"   23 (20.4) \" \"\"       \"\"  \n",
       "                                     \"   13 (11.5) \" \"\"       \"\"  \n",
       "  Smoking (%)                        \"   65 (57.5) \" \"<0.001\" \"\"  \n",
       "                                     \"   48 (42.5) \" \"\"       \"\"  \n",
       "  Alcohol intake (%)                 \"   87 (77.0) \" \" 0.117\" \"\"  \n",
       "                                     \"   26 (23.0) \" \"\"       \"\"  \n",
       "  Heart Failure (%)                  \"    6 ( 5.3) \" \" 0.167\" \"\"  \n",
       "                                     \"  107 (94.7) \" \"\"       \"\"  \n",
       "  Coronary Heart (%)                 \"    7 ( 6.2) \" \" 0.582\" \"\"  \n",
       "                                     \"  106 (93.8) \" \"\"       \"\"  \n",
       "  Angina (%)                         \"    4 ( 3.5) \" \" 0.574\" \"\"  \n",
       "                                     \"  109 (96.5) \" \"\"       \"\"  \n",
       "  Heart Attack (%)                   \"   11 ( 9.7) \" \" 0.164\" \"\"  \n",
       "                                     \"  102 (90.3) \" \"\"       \"\"  \n",
       "  Stroke (%)                         \"    5 ( 4.4) \" \" 0.466\" \"\"  \n",
       "                                     \"  108 (95.6) \" \"\"       \"\"  \n",
       "  COPD (%)                           \"    7 ( 6.2) \" \" 0.008\" \"\"  \n",
       "                                     \"  106 (93.8) \" \"\"       \"\"  \n",
       "  Liver (%)                          \"    5 ( 4.4) \" \" 0.960\" \"\"  \n",
       "                                     \"  108 (95.6) \" \"\"       \"\"  \n",
       "  Hypertension (%)                   \"   73 (64.6) \" \" 0.768\" \"\"  \n",
       "                                     \"   40 (35.4) \" \"\"       \"\"  \n",
       "  Diabetes (%)                       \"   24 (21.2) \" \" 0.090\" \"\"  \n",
       "                                     \"   81 (71.7) \" \"\"       \"\"  \n",
       "                                     \"    8 ( 7.1) \" \"\"       \"\"  \n",
       "\n",
       "$Overall\n",
       "                                    \n",
       "                                     level                         \n",
       "  n                                  \"\"                            \n",
       "  Age (years) (mean (SD))            \"\"                            \n",
       "  Ratio of family income (mean (SD)) \"\"                            \n",
       "  Gender (%)                         \"Male\"                        \n",
       "                                     \"Female\"                      \n",
       "  Ethnicity (%)                      \"Mexican American\"            \n",
       "                                     \"Other Hispanic\"              \n",
       "                                     \"Non-Hispanic White\"          \n",
       "                                     \"Non-Hispanic Black\"          \n",
       "                                     \"Other Race\"                  \n",
       "  Education (%)                      \"Less than 9th grade\"         \n",
       "                                     \"9-11th grade\"                \n",
       "                                     \"High school graduate\"        \n",
       "                                     \"Some college/AA degree\"      \n",
       "                                     \"College graduate or above\"   \n",
       "  Smoking (%)                        \"Yes\"                         \n",
       "                                     \"No\"                          \n",
       "  Alcohol intake (%)                 \"Over 12 alcohol drinks/1 yr\" \n",
       "                                     \"Under 12 alcohol drinks/1 yr\"\n",
       "  Heart Failure (%)                  \"Yes\"                         \n",
       "                                     \"No\"                          \n",
       "  Coronary Heart (%)                 \"Yes\"                         \n",
       "                                     \"No\"                          \n",
       "  Angina (%)                         \"Yes\"                         \n",
       "                                     \"No\"                          \n",
       "  Heart Attack (%)                   \"Yes\"                         \n",
       "                                     \"No\"                          \n",
       "  Stroke (%)                         \"Yes\"                         \n",
       "                                     \"No\"                          \n",
       "  COPD (%)                           \"Yes\"                         \n",
       "                                     \"No\"                          \n",
       "  Liver (%)                          \"Yes\"                         \n",
       "                                     \"No\"                          \n",
       "  Hypertension (%)                   \"Yes\"                         \n",
       "                                     \"No\"                          \n",
       "  Diabetes (%)                       \"Yes\"                         \n",
       "                                     \"No\"                          \n",
       "                                     \"Borderline\"                  \n",
       "                                    \n",
       "                                     Overall        \n",
       "  n                                  \" 1028\"        \n",
       "  Age (years) (mean (SD))            \"69.13 (6.68)\" \n",
       "  Ratio of family income (mean (SD)) \" 2.70 (1.60)\" \n",
       "  Gender (%)                         \"  506 (49.2) \"\n",
       "                                     \"  522 (50.8) \"\n",
       "  Ethnicity (%)                      \"  112 (10.9) \"\n",
       "                                     \"   93 ( 9.0) \"\n",
       "                                     \"  514 (50.0) \"\n",
       "                                     \"  205 (19.9) \"\n",
       "                                     \"  104 (10.1) \"\n",
       "  Education (%)                      \"  101 ( 9.8) \"\n",
       "                                     \"  119 (11.6) \"\n",
       "                                     \"  228 (22.2) \"\n",
       "                                     \"  309 (30.1) \"\n",
       "                                     \"  271 (26.4) \"\n",
       "  Smoking (%)                        \"  496 (48.2) \"\n",
       "                                     \"  532 (51.8) \"\n",
       "  Alcohol intake (%)                 \"  705 (68.6) \"\n",
       "                                     \"  323 (31.4) \"\n",
       "  Heart Failure (%)                  \"   51 ( 5.0) \"\n",
       "                                     \"  977 (95.0) \"\n",
       "  Coronary Heart (%)                 \"   77 ( 7.5) \"\n",
       "                                     \"  951 (92.5) \"\n",
       "  Angina (%)                         \"   52 ( 5.1) \"\n",
       "                                     \"  976 (94.9) \"\n",
       "  Heart Attack (%)                   \"   74 ( 7.2) \"\n",
       "                                     \"  954 (92.8) \"\n",
       "  Stroke (%)                         \"   63 ( 6.1) \"\n",
       "                                     \"  965 (93.9) \"\n",
       "  COPD (%)                           \"   57 ( 5.5) \"\n",
       "                                     \"  971 (94.5) \"\n",
       "  Liver (%)                          \"   48 ( 4.7) \"\n",
       "                                     \"  980 (95.3) \"\n",
       "  Hypertension (%)                   \"  632 (61.5) \"\n",
       "                                     \"  396 (38.5) \"\n",
       "  Diabetes (%)                       \"  225 (21.9) \"\n",
       "                                     \"  746 (72.6) \"\n",
       "                                     \"   57 ( 5.5) \"\n"
      ]
     },
     "metadata": {},
     "output_type": "display_data"
    }
   ],
   "source": [
    "descriptive_table"
   ]
  },
  {
   "cell_type": "code",
   "execution_count": null,
   "metadata": {
    "vscode": {
     "languageId": "r"
    }
   },
   "outputs": [],
   "source": [
    "# Save tables as csv files\n",
    "\n",
    "write.csv(descriptive_table$`Stratified by periodontitis`,\n",
    "          \"descriptive_table_stratified.csv\", row.names = TRUE)\n",
    "\n",
    "write.csv(descriptive_table$Overall,\n",
    "          \"descriptive_table_overall.csv\", row.names = TRUE)"
   ]
  },
  {
   "cell_type": "code",
   "execution_count": null,
   "metadata": {
    "vscode": {
     "languageId": "r"
    }
   },
   "outputs": [],
   "source": [
    "# Save tables as document Word\n",
    "\n",
    "doc <- read_docx()\n",
    "\n",
    "table_stratified <- flextable(as.data.frame(descriptive_table$`Stratified by periodontitis`))\n",
    "table_overall <- flextable(as.data.frame(descriptive_table$Overall))\n",
    "\n",
    "doc <- doc %>%\n",
    "  body_add_par(\"Descriptive Table - Stratified by Periodontitis\", style = \"heading 1\") %>%\n",
    "  body_add_flextable(table_stratified) %>%\n",
    "  body_add_par(\"\") %>%\n",
    "\n",
    "  body_add_par(\"Descriptive Table - Overall\", style = \"heading 1\") %>%\n",
    "  body_add_flextable(table_overall)\n",
    "\n",
    "print(doc, target = \"descriptive_tables.docx\")"
   ]
  },
  {
   "cell_type": "code",
   "execution_count": 271,
   "metadata": {
    "vscode": {
     "languageId": "r"
    }
   },
   "outputs": [],
   "source": [
    "continuous_analysis <- create_continuous_vars_table(df_final)"
   ]
  },
  {
   "cell_type": "code",
   "execution_count": 275,
   "metadata": {
    "vscode": {
     "languageId": "r"
    }
   },
   "outputs": [
    {
     "name": "stdout",
     "output_type": "stream",
     "text": [
      "$overall\n",
      "          n        mean          sd      median      q1.25%      q3.75% \n",
      "1028.000000   69.133268    6.684483   68.000000   63.000000   74.000000 \n",
      "        min         max \n",
      "  60.000000   80.000000 \n",
      "\n",
      "$by_group\n",
      "$by_group$Moderate\n",
      "         n       mean         sd     median     q1.25%     q3.75%        min \n",
      "464.000000  69.803879   6.676601  69.000000  64.000000  76.000000  60.000000 \n",
      "       max \n",
      " 80.000000 \n",
      "\n",
      "$by_group$`None/Mild`\n",
      "         n       mean         sd     median     q1.25%     q3.75%        min \n",
      "451.000000  69.073171   6.689392  68.000000  63.000000  74.000000  60.000000 \n",
      "       max \n",
      " 80.000000 \n",
      "\n",
      "$by_group$Severe\n",
      "         n       mean         sd     median     q1.25%     q3.75%        min \n",
      "113.000000  66.619469   6.115435  65.000000  62.000000  69.000000  60.000000 \n",
      "       max \n",
      " 80.000000 \n",
      "\n",
      "\n",
      "$p_value\n",
      "[1] 1.419841e-05\n",
      "\n"
     ]
    }
   ],
   "source": [
    "print(continuous_analysis$RIDAGEYR)"
   ]
  },
  {
   "cell_type": "markdown",
   "metadata": {},
   "source": [
    "### Summary Statistics"
   ]
  },
  {
   "cell_type": "code",
   "execution_count": null,
   "metadata": {
    "vscode": {
     "languageId": "r"
    }
   },
   "outputs": [],
   "source": [
    "calculate_periodontal_stats <- function(df) {\n",
    "  # Calculate statistics for a variable\n",
    "  get_stats <- function(x) {\n",
    "    x <- x[!is.na(x)]  \n",
    "    if(length(x) == 0) return(c(n=0, mean=NA, sd=NA, median=NA, min=NA, max=NA, q25=NA, q75=NA))\n",
    "    \n",
    "    c(\n",
    "      n = length(x),\n",
    "      mean = mean(x, na.rm = TRUE),\n",
    "      sd = sd(x, na.rm = TRUE),\n",
    "      median = median(x, na.rm = TRUE),\n",
    "      min = min(x, na.rm = TRUE),\n",
    "      max = max(x, na.rm = TRUE),\n",
    "      q25 = quantile(x, 0.25, na.rm = TRUE),\n",
    "      q75 = quantile(x, 0.75, na.rm = TRUE)\n",
    "    )\n",
    "  }\n",
    "  \n",
    "  # Calculates global statistics\n",
    "  overall_stats <- list(\n",
    "    PPD = get_stats(df$mean_ppd),\n",
    "    CAL = get_stats(df$mean_cal)\n",
    "  )\n",
    "  \n",
    "  # Calculate statistics by periodontitis group\n",
    "  by_periodontitis <- list(\n",
    "    PPD = tapply(df$mean_ppd, df$periodontitis, get_stats),\n",
    "    CAL = tapply(df$mean_cal, df$periodontitis, get_stats)\n",
    "  )\n",
    "  \n",
    "  format_stats <- function(stats) {\n",
    "    round(data.frame(\n",
    "      N = stats[\"n\"],\n",
    "      Mean = stats[\"mean\"],\n",
    "      SD = stats[\"sd\"],\n",
    "      Median = stats[\"median\"],\n",
    "      Min = stats[\"min\"],\n",
    "      Max = stats[\"max\"],\n",
    "      Q25 = stats[\"q25\"],\n",
    "      Q75 = stats[\"q75\"]\n",
    "    ), 2)\n",
    "  }\n",
    "  \n",
    "  # Summary Tables\n",
    "  results <- list(\n",
    "    Overall = list(\n",
    "      PPD = format_stats(overall_stats$PPD),\n",
    "      CAL = format_stats(overall_stats$CAL)\n",
    "    ),\n",
    "    ByGroup = list(\n",
    "      PPD = do.call(rbind, lapply(by_periodontitis$PPD, format_stats)),\n",
    "      CAL = do.call(rbind, lapply(by_periodontitis$CAL, format_stats))\n",
    "    )\n",
    "  )\n",
    "  \n",
    "  # Statistics Test\n",
    "  results$Tests <- list(\n",
    "    # ANOVA for differences between groups\n",
    "    ANOVA = list(\n",
    "      PPD = summary(aov(mean_ppd ~ periodontitis, data = df)),\n",
    "      CAL = summary(aov(mean_cal ~ periodontitis, data = df))\n",
    "    ),\n",
    "    # Kruskal-Wallis test (non parametric)\n",
    "    KruskalWallis = list(\n",
    "      PPD = kruskal.test(mean_ppd ~ periodontitis, data = df),\n",
    "      CAL = kruskal.test(mean_cal ~ periodontitis, data = df)\n",
    "    )\n",
    "  )\n",
    "  \n",
    "  return(results)\n",
    "}"
   ]
  },
  {
   "cell_type": "code",
   "execution_count": 191,
   "metadata": {
    "vscode": {
     "languageId": "r"
    }
   },
   "outputs": [],
   "source": [
    "stats <- calculate_periodontal_stats(df_class_with_means)"
   ]
  },
  {
   "cell_type": "code",
   "execution_count": null,
   "metadata": {
    "vscode": {
     "languageId": "r"
    }
   },
   "outputs": [
    {
     "name": "stdout",
     "output_type": "stream",
     "text": [
      "[1] \"Overall PPD Statistics:\"\n",
      "     N Mean   SD Median  Min  Max Q25 Q75\n",
      "n 1167  1.6 0.64    1.5 0.11 5.53  NA  NA\n",
      "[1] \"Overall CAL Statistics:\"\n",
      "     N Mean   SD Median  Min  Max Q25 Q75\n",
      "n 1167 2.23 1.17   1.88 0.49 8.75  NA  NA\n",
      "[1] \"PPD Statistics by Periodontitis Group:\"\n",
      "            N Mean   SD Median  Min  Max Q25 Q75\n",
      "Moderate  520 1.70 0.47   1.68 0.46 3.57  NA  NA\n",
      "None/Mild 508 1.20 0.35   1.21 0.11 2.36  NA  NA\n",
      "Severe    139 2.65 0.70   2.56 1.08 5.53  NA  NA\n",
      "[1] \"CAL Statistics by Periodontitis Group:\"\n",
      "            N Mean   SD Median  Min  Max Q25 Q75\n",
      "Moderate  520 2.57 0.98   2.30 1.11 7.88  NA  NA\n",
      "None/Mild 508 1.43 0.47   1.38 0.49 5.50  NA  NA\n",
      "Severe    139 3.92 1.24   3.68 1.70 8.75  NA  NA\n",
      "[1] \"Statistical Tests Results:\"\n",
      "$PPD\n",
      "                Df Sum Sq Mean Sq F value Pr(>F)    \n",
      "periodontitis    2  240.4  120.19   574.8 <2e-16 ***\n",
      "Residuals     1164  243.4    0.21                   \n",
      "---\n",
      "Signif. codes:  0 '***' 0.001 '**' 0.01 '*' 0.05 '.' 0.1 ' ' 1\n",
      "\n",
      "$CAL\n",
      "                Df Sum Sq Mean Sq F value Pr(>F)    \n",
      "periodontitis    2  783.8   391.9   557.2 <2e-16 ***\n",
      "Residuals     1164  818.7     0.7                   \n",
      "---\n",
      "Signif. codes:  0 '***' 0.001 '**' 0.01 '*' 0.05 '.' 0.1 ' ' 1\n",
      "\n",
      "$PPD\n",
      "\n",
      "\tKruskal-Wallis rank sum test\n",
      "\n",
      "data:  mean_ppd by periodontitis\n",
      "Kruskal-Wallis chi-squared = 516.37, df = 2, p-value < 2.2e-16\n",
      "\n",
      "\n",
      "$CAL\n",
      "\n",
      "\tKruskal-Wallis rank sum test\n",
      "\n",
      "data:  mean_cal by periodontitis\n",
      "Kruskal-Wallis chi-squared = 704.74, df = 2, p-value < 2.2e-16\n",
      "\n",
      "\n"
     ]
    }
   ],
   "source": [
    "print(\"Overall PPD Statistics:\")\n",
    "print(stats$Overall$PPD)\n",
    "\n",
    "print(\"Overall CAL Statistics:\")\n",
    "print(stats$Overall$CAL)\n",
    "\n",
    "print(\"PPD Statistics by Periodontitis Group:\")\n",
    "print(stats$ByGroup$PPD)\n",
    "\n",
    "print(\"CAL Statistics by Periodontitis Group:\")\n",
    "print(stats$ByGroup$CAL)\n",
    "\n",
    "print(\"Statistical Tests Results:\")\n",
    "print(stats$Tests$ANOVA)\n",
    "print(stats$Tests$KruskalWallis)"
   ]
  },
  {
   "cell_type": "markdown",
   "metadata": {},
   "source": [
    "## EXTRA: nhanesA packages functionalities"
   ]
  },
  {
   "cell_type": "markdown",
   "metadata": {},
   "source": [
    "### Create dataframe using NHANES codes"
   ]
  },
  {
   "cell_type": "code",
   "execution_count": null,
   "metadata": {
    "vscode": {
     "languageId": "r"
    }
   },
   "outputs": [],
   "source": [
    "DF <- nhanesA::nhanes(nh_table = \"OHQ\")\n",
    "DF$OHQ080\n"
   ]
  },
  {
   "cell_type": "code",
   "execution_count": null,
   "metadata": {
    "vscode": {
     "languageId": "r"
    }
   },
   "outputs": [],
   "source": [
    "nhanesA::nhanesCodebook(\"OHQ\", \"OHQ080\")\n"
   ]
  },
  {
   "cell_type": "code",
   "execution_count": null,
   "metadata": {
    "vscode": {
     "languageId": "r"
    }
   },
   "outputs": [],
   "source": [
    "head(DF[, c(\"OHQ020\", \"OHQ040\", \"OHQ050\", \"OHQ080\", \"OHQ100\", \"OHQ110\")])\n"
   ]
  },
  {
   "cell_type": "markdown",
   "metadata": {},
   "source": [
    "### How to drop all NA values"
   ]
  },
  {
   "cell_type": "code",
   "execution_count": null,
   "metadata": {
    "vscode": {
     "languageId": "r"
    }
   },
   "outputs": [],
   "source": [
    "DF_filtered <- na.omit(DF[, c(\"OHQ020\", \"OHQ040\", \"OHQ050\", \"OHQ080\", \"OHQ100\", \"OHQ110\")])\n",
    "dim(DF_filtered)\n"
   ]
  },
  {
   "cell_type": "markdown",
   "metadata": {},
   "source": [
    "### Explore Nhanes attributes"
   ]
  },
  {
   "cell_type": "code",
   "execution_count": null,
   "metadata": {
    "vscode": {
     "languageId": "r"
    }
   },
   "outputs": [],
   "source": [
    "attributes_df <- nhanesAttr(nh_table = \"OHQ\")\n",
    "attributes_df\n"
   ]
  },
  {
   "cell_type": "code",
   "execution_count": null,
   "metadata": {
    "vscode": {
     "languageId": "r"
    }
   },
   "outputs": [],
   "source": [
    "attributes_df <- nhanesTableSummary(nh_table = \"OHQ\")\n",
    "attributes_df\n"
   ]
  },
  {
   "cell_type": "markdown",
   "metadata": {},
   "source": [
    "### Display codebook for selected variable"
   ]
  },
  {
   "cell_type": "code",
   "execution_count": null,
   "metadata": {
    "vscode": {
     "languageId": "r"
    }
   },
   "outputs": [],
   "source": [
    "nhanesCodebook(nh_table = \"OHQ\")$OHQ100\n"
   ]
  },
  {
   "cell_type": "code",
   "execution_count": null,
   "metadata": {
    "vscode": {
     "languageId": "r"
    }
   },
   "outputs": [],
   "source": [
    "# You can do the same with nhanesCodebookFromURL: Download and parse an NHANES doc file from a URL\n",
    "\n",
    "nhanesCodebookFromURL(url = \"https://wwwn.cdc.gov/Nchs/Data/Nhanes/Public/2011/DataFiles/OHQ_G.htm\")$OHQ885\n"
   ]
  },
  {
   "cell_type": "code",
   "execution_count": null,
   "metadata": {
    "vscode": {
     "languageId": "r"
    }
   },
   "outputs": [],
   "source": [
    "dxa_c_s <- nhanesDXA(2003, suppl = TRUE)\n",
    "head(dxa_c_s)\n"
   ]
  },
  {
   "cell_type": "markdown",
   "metadata": {},
   "source": [
    "### Download and parse NHANES manifests"
   ]
  },
  {
   "cell_type": "code",
   "execution_count": null,
   "metadata": {
    "vscode": {
     "languageId": "r"
    }
   },
   "outputs": [],
   "source": [
    "manifest <- nhanesManifest(sizes = FALSE)\n",
    "dim(manifest)\n"
   ]
  },
  {
   "cell_type": "code",
   "execution_count": null,
   "metadata": {
    "vscode": {
     "languageId": "r"
    }
   },
   "outputs": [],
   "source": [
    "varmf <- nhanesManifest(\"variables\", component = \"lab\")\n",
    "head(varmf)\n"
   ]
  },
  {
   "cell_type": "markdown",
   "metadata": {},
   "source": [
    "### Perform a search over the comprehensive NHANES variable list"
   ]
  },
  {
   "cell_type": "code",
   "execution_count": null,
   "metadata": {
    "vscode": {
     "languageId": "r"
    }
   },
   "outputs": [],
   "source": [
    "length(bladder)\n"
   ]
  },
  {
   "cell_type": "code",
   "execution_count": null,
   "metadata": {
    "vscode": {
     "languageId": "r"
    }
   },
   "outputs": [],
   "source": [
    "head(bladder)\n"
   ]
  },
  {
   "cell_type": "markdown",
   "metadata": {},
   "source": [
    "### Explore Data Groups such as Questionnarie, Demographics..."
   ]
  },
  {
   "cell_type": "code",
   "execution_count": null,
   "metadata": {
    "vscode": {
     "languageId": "r"
    }
   },
   "outputs": [],
   "source": [
    "nhanesA::nhanesTables(data_group = \"QUESTIONNAIRE\", year = 2000)\n"
   ]
  },
  {
   "cell_type": "code",
   "execution_count": null,
   "metadata": {
    "vscode": {
     "languageId": "r"
    }
   },
   "outputs": [],
   "source": [
    "exam <- nhanesA::nhanesTables(\"QUESTIONNAIRE\", 2000)\n",
    "dim(exam)\n"
   ]
  },
  {
   "cell_type": "code",
   "execution_count": null,
   "metadata": {
    "vscode": {
     "languageId": "r"
    }
   },
   "outputs": [],
   "source": [
    "nhanesA::nhanesTableSummary(\"DEMO_D\", use = \"codebook\")\n"
   ]
  },
  {
   "cell_type": "code",
   "execution_count": null,
   "metadata": {
    "vscode": {
     "languageId": "r"
    }
   },
   "outputs": [],
   "source": [
    "# Displays a list of variables in the specified NHANES table.\n",
    "exam_ohx <- nhanesTableVars(\"EXAM\", \"OHX_E\", details = TRUE, nchar = 50)\n",
    "dim(exam_ohx)\n"
   ]
  },
  {
   "cell_type": "code",
   "execution_count": null,
   "metadata": {
    "vscode": {
     "languageId": "r"
    }
   },
   "outputs": [],
   "source": [
    "head(exam_ohx)\n"
   ]
  },
  {
   "cell_type": "code",
   "execution_count": null,
   "metadata": {
    "vscode": {
     "languageId": "r"
    }
   },
   "outputs": [],
   "source": [
    "# Display code translation information.\n",
    "\n",
    "nhanesTranslate(\"DEMO_B\", c(\"DMDBORN\", \"DMDCITZN\"))\n"
   ]
  }
 ],
 "metadata": {
  "kernelspec": {
   "display_name": "R",
   "language": "R",
   "name": "ir"
  },
  "language_info": {
   "codemirror_mode": "r",
   "file_extension": ".r",
   "mimetype": "text/x-r-source",
   "name": "R",
   "pygments_lexer": "r",
   "version": "4.4.2"
  }
 },
 "nbformat": 4,
 "nbformat_minor": 2
}
