{
 "cells": [
  {
   "cell_type": "markdown",
   "metadata": {},
   "source": [
    "# NHANES dataset: exploratory and analysis"
   ]
  },
  {
   "cell_type": "markdown",
   "metadata": {},
   "source": [
    "## Google Colab configuration"
   ]
  },
  {
   "cell_type": "code",
   "execution_count": null,
   "metadata": {},
   "outputs": [],
   "source": [
    "!git clone https://github.com/Silvano315/Med-Physics.git"
   ]
  },
  {
   "cell_type": "code",
   "execution_count": null,
   "metadata": {},
   "outputs": [],
   "source": [
    "# change working directory\n",
    "\n",
    "import os\n",
    "\n",
    "os.chdir(\"Med-Physics\")\n",
    "os.getcwd()"
   ]
  },
  {
   "cell_type": "code",
   "execution_count": null,
   "metadata": {},
   "outputs": [],
   "source": [
    "from google.colab import drive\n",
    "drive.mount('/content/drive')"
   ]
  },
  {
   "cell_type": "code",
   "execution_count": null,
   "metadata": {},
   "outputs": [],
   "source": [
    "# Copy your Kaggle API to /root/.config/kaggle and /root/.kaggle/kaggle.json\n",
    "\n",
    "os.makedirs('/root/.kaggle', exist_ok = True)\n",
    "\n",
    "!cp /content/drive/MyDrive/Kaggle_api/kaggle.json /root/.config/kaggle.json\n",
    "!cp /content/drive/MyDrive/Kaggle_api/kaggle.json /root/.kaggle/kaggle.json"
   ]
  },
  {
   "cell_type": "markdown",
   "metadata": {},
   "source": [
    "## Import Libraries"
   ]
  },
  {
   "cell_type": "code",
   "execution_count": 3,
   "metadata": {},
   "outputs": [
    {
     "data": {
      "text/plain": [
       "'/Users/silvanoquarto/Desktop/LAVORO/MEDICAL_PHYSICS/Med-Physics'"
      ]
     },
     "execution_count": 3,
     "metadata": {},
     "output_type": "execute_result"
    }
   ],
   "source": [
    "# If you're running this repository LOCALLY, RUN this cell:\n",
    "\n",
    "import os\n",
    "os.chdir(\"..\")\n",
    "os.getcwd()"
   ]
  },
  {
   "cell_type": "code",
   "execution_count": 4,
   "metadata": {},
   "outputs": [],
   "source": [
    "import kaggle\n",
    "from pathlib import Path"
   ]
  },
  {
   "cell_type": "markdown",
   "metadata": {},
   "source": [
    "## Download dataset"
   ]
  },
  {
   "cell_type": "code",
   "execution_count": 8,
   "metadata": {},
   "outputs": [],
   "source": [
    "def download_kaggle_dataset(dataset_name : str = None, kaggle_url : str = None):\n",
    "    \"\"\"\n",
    "    Download dataset from Kaggle using Kaggle API.\n",
    "    Requires:\n",
    "    1. Kaggle account\n",
    "    2. API token (kaggle.json) in ~/.kaggle/\n",
    "    3. kaggle package installed: pip install kaggle\n",
    "    \"\"\"\n",
    "\n",
    "    data_dir = Path('data/' + dataset_name)\n",
    "    data_dir.mkdir(exist_ok=True)\n",
    "\n",
    "    print(f\"Downloading {dataset_name} dataset from Kaggle...\")\n",
    "    try:\n",
    "        kaggle.api.authenticate()\n",
    "        kaggle.api.dataset_download_files(\n",
    "            kaggle_url,\n",
    "            path=data_dir,\n",
    "            unzip=True\n",
    "        )\n",
    "        print(\"Dataset downloaded and extracted successfully!\")\n",
    "\n",
    "    except Exception as e:\n",
    "        print(f\"Error downloading dataset: {e}\")\n",
    "        print(\"\\nPlease ensure you have:\")\n",
    "        print(\"1. Created a Kaggle account\")\n",
    "        print(\"2. Generated an API token from https://www.kaggle.com/settings\")\n",
    "        print(\"3. Placed kaggle.json in ~/.kaggle/\")\n",
    "        print(\"4. Set appropriate permissions: chmod 600 ~/.kaggle/kaggle.json\")\n",
    "        raise"
   ]
  },
  {
   "cell_type": "code",
   "execution_count": 9,
   "metadata": {},
   "outputs": [
    {
     "name": "stdout",
     "output_type": "stream",
     "text": [
      "Downloading NHANES dataset from Kaggle...\n",
      "Dataset URL: https://www.kaggle.com/datasets/cdc/national-health-and-nutrition-examination-survey\n",
      "Dataset downloaded and extracted successfully!\n"
     ]
    }
   ],
   "source": [
    "# Download ACDC dataset from Kaggle using API key\n",
    "\n",
    "download_kaggle_dataset(dataset_name=\"NHANES\", kaggle_url='cdc/national-health-and-nutrition-examination-survey')"
   ]
  }
 ],
 "metadata": {
  "kernelspec": {
   "display_name": ".venv",
   "language": "python",
   "name": "python3"
  },
  "language_info": {
   "codemirror_mode": {
    "name": "ipython",
    "version": 3
   },
   "file_extension": ".py",
   "mimetype": "text/x-python",
   "name": "python",
   "nbconvert_exporter": "python",
   "pygments_lexer": "ipython3",
   "version": "3.11.9"
  }
 },
 "nbformat": 4,
 "nbformat_minor": 2
}
