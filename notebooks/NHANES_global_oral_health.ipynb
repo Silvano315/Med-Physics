{
 "cells": [
  {
   "cell_type": "markdown",
   "metadata": {},
   "source": [
    "# NHANES project about General Oral Health: descriptive and regression analysis\n",
    "> This notebook has the purpose to collect all the analysis on Nhanes dataset for a medical paper project \n",
    "\n",
    "Requirements and Information:\n",
    "1. Nhanes dataset from 2009/10 to 2013/14\n",
    "2. 5 Intrinsic Capacity domains\n",
    "    1. Locomotion:\n",
    "        - Standingup from armless chair difficulty (PFQ061I)\n",
    "    2. Cognitive Function:\n",
    "        - Have serious difficulty concentrating (DLQ040)\n",
    "    3. Vitality:\n",
    "        - Weight change intentional (WHQ060)\n",
    "        - Poor appetite or overeating (DPQ050)\n",
    "    4. Psychological status:\n",
    "        - Feeling down, depressed, or hopeless (DPQ020)\n",
    "        - Have little interest in doing things (DPQ010)\n",
    "    5. Sensory domain:\n",
    "        - Have serious difficulty hearing? (DLQ010)\n",
    "        - Have serious difficulty seeing? (DLQ020)\n",
    "3. Exposure/Predictor:\n",
    "    1. OHQ835 : {Do you/Does SP} think {you/s/he} might have gum disease?\n",
    "    2. OHQ845 : Overall, how would {you/SP} rate the health of {your/his/her} teeth and gums?\n",
    "    3. OHQ850 : Ever had treatment for gum disease?\n",
    "    4. OHQ855 : Any teeth became loose without an injury\n",
    "    5. OHQ860 : Ever been told of bone loss around teeth\n",
    "    6. OHQ865 : Noticed a tooth that doesn't look right\n",
    "    7. OHQ870 : How many days use dental floss/device\n",
    "    8. OHQ875 : Days used mouthwash for dental problem\n",
    "4. Confounding Variables:\n",
    "    - Gender (RIAGENDR)\n",
    "    - Age at screening (RIDAGEYR)\n",
    "    - Race (RIDRETH1)\n",
    "    - Education\t(DMDEDUC2)\n",
    "    - Poverty income ratio (INDFMPIR)\n",
    "    - Smoking status (SMQ020)\n",
    "5. Mediators:\n",
    "    - Heart failure\t(RIDRETH1)  \n",
    "    - Coronary heart disease (MCQ160b)\n",
    "    - Stroke (MCQ160c)\n",
    "    - Liver disease\t(MCQ160o)\n",
    "    - Cancer (MCQ500)\n",
    "    - Diabetes (MCQ220)\n",
    "    - High blood pressure (DIQ010)\n",
    "6. Age => 60"
   ]
  },
  {
   "cell_type": "markdown",
   "metadata": {},
   "source": [
    "## NHANES 2013/14: Intrinsic Capacity and Global Oral Health"
   ]
  },
  {
   "cell_type": "markdown",
   "metadata": {},
   "source": [
    "### Import Libraries"
   ]
  },
  {
   "cell_type": "code",
   "execution_count": 28,
   "metadata": {
    "vscode": {
     "languageId": "r"
    }
   },
   "outputs": [],
   "source": [
    "library(haven)\n",
    "library(nhanesA)\n",
    "library(survey)\n",
    "library(MASS)\n",
    "library(dplyr)\n",
    "library(tidyr)\n",
    "library(tidyverse)\n",
    "library(ggplot2)\n",
    "library(readr)\n",
    "library(flextable)\n",
    "library(officer)\n",
    "library(nnet)\n",
    "library(broom)\n",
    "library(ggplot2)"
   ]
  },
  {
   "cell_type": "markdown",
   "metadata": {},
   "source": [
    "### Configurations"
   ]
  },
  {
   "cell_type": "code",
   "execution_count": 29,
   "metadata": {
    "vscode": {
     "languageId": "r"
    }
   },
   "outputs": [],
   "source": [
    "path_to_data_09_10 <- \"/Users/silvanoquarto/Desktop/LAVORO/MEDICAL_PHYSICS/Med-Physics/data/NHANES/2009_10/\"\n",
    "path_to_data_11_12 <- \"/Users/silvanoquarto/Desktop/LAVORO/MEDICAL_PHYSICS/Med-Physics/data/NHANES/2011_12/\"\n",
    "path_to_data_13_14 <- \"/Users/silvanoquarto/Desktop/LAVORO/MEDICAL_PHYSICS/Med-Physics/data/NHANES/2013_14/\""
   ]
  },
  {
   "cell_type": "markdown",
   "metadata": {},
   "source": [
    "### Load Dataset & Feature Selection"
   ]
  },
  {
   "cell_type": "code",
   "execution_count": 30,
   "metadata": {
    "vscode": {
     "languageId": "r"
    }
   },
   "outputs": [],
   "source": [
    "# Datasets for 2009/10 period\n",
    "\n",
    "demo_09_10 <- read_xpt(file.path(path_to_data_09_10, \"DEMO_F.xpt\"))\n",
    "\n",
    "demo_09_10_selected <- demo_09_10 %>%\n",
    "  select(SEQN, RIAGENDR, RIDAGEYR, RIDRETH1, DMDEDUC2, INDFMPIR)\n",
    "\n",
    "alcohol_09_10 <- read_xpt(file.path(path_to_data_09_10, \"ALQ_F.xpt\"))\n",
    "\n",
    "alcohol_09_10_selected <- alcohol_09_10 %>%\n",
    "  select(SEQN, ALQ101)\n",
    "\n",
    "smoking_09_10 <- read_xpt(file.path(path_to_data_09_10, \"SMQ_F.xpt.txt\"))\n",
    "\n",
    "smoking_09_10_selected <- smoking_09_10 %>%\n",
    "    select(SEQN, SMQ020)\n",
    "\n",
    "med_conditions_09_10 <- read_xpt(file.path(path_to_data_09_10, \"MCQ_F.xpt\"))\n",
    "\n",
    "med_conditions_09_10_selected <- med_conditions_09_10 %>%\n",
    "    select(SEQN, MCQ140, MCQ160B, MCQ160C, MCQ160D, MCQ160E, MCQ160F, MCQ160L, MCQ220)\n",
    "\n",
    "med_conditions_09_10_selected <- med_conditions_09_10_selected %>%\n",
    "  rename(DLQ020 = MCQ140)\n",
    "\n",
    "\n",
    "blood_pressure_09_10 <- read_xpt(file.path(path_to_data_09_10, \"BPQ_F.xpt\"))\n",
    "\n",
    "blood_pressure_09_10_selected <- blood_pressure_09_10 %>%\n",
    "    select(SEQN, BPQ020)\n",
    "\n",
    "\n",
    "diabetes_09_10 <- read_xpt(file.path(path_to_data_09_10, \"DIQ_F.xpt\"))\n",
    "\n",
    "diabetes_09_10_selected <- diabetes_09_10 %>%\n",
    "    select(SEQN, DIQ010)\n",
    "\n",
    "\n",
    "oral_09_10 <- read_xpt(file.path(path_to_data_09_10, \"OHQ_F.xpt\"))\n",
    "\n",
    "selected_cols <- c(\n",
    "  \"OHQ835\",\n",
    "  \"OHQ845\",\n",
    "  \"OHQ850\",\n",
    "  \"OHQ855\",\n",
    "  \"OHQ860\",\n",
    "  \"OHQ865\",\n",
    "  \"OHQ870\",\n",
    "  \"OHQ875\"\n",
    ")\n",
    "oral_09_10_selected <- oral_09_10 %>%\n",
    "    select(SEQN, all_of(selected_cols))\n",
    "\n",
    "\n",
    "locomotion_09_10 <- read_xpt(file.path(path_to_data_09_10, \"PFQ_F.xpt\"))\n",
    "\n",
    "locomotion_09_10_selected <- locomotion_09_10 %>%\n",
    "    select(SEQN, PFQ061I)\n",
    "\n",
    "\n",
    "mental_health_09_10 <- read_xpt(file.path(path_to_data_09_10, \"DPQ_F.xpt\"))\n",
    "\n",
    "mental_health_09_10_selected <- mental_health_09_10 %>%\n",
    "    select(SEQN, DPQ010, DPQ020, DPQ050, DPQ070)\n",
    "\n",
    "mental_health_09_10_selected <- mental_health_09_10_selected %>%\n",
    "  mutate(DPQ070 = case_when(\n",
    "    DPQ070 %in% c(0, 1) ~ 2,\n",
    "    DPQ070 %in% c(2, 3) ~ 1,\n",
    "    TRUE ~ DPQ070\n",
    "  ))\n",
    "\n",
    "mental_health_09_10_selected <- mental_health_09_10_selected %>%\n",
    "  rename(DLQ040 = DPQ070)\n",
    "\n",
    "\n",
    "weight_history_09_10 <- read_xpt(file.path(path_to_data_09_10, \"WHQ_F.xpt\"))\n",
    "\n",
    "weight_history_09_10_selected <- weight_history_09_10 %>%\n",
    "    select(SEQN, WHQ060)\n",
    "\n",
    "\n",
    "audiometry_09_10 <- read_xpt(file.path(path_to_data_09_10, \"AUQ_F.xpt\"))\n",
    "\n",
    "audiometry_09_10_selected <- audiometry_09_10 %>%\n",
    "    select(SEQN, AUQ131)\n",
    "\n",
    "audiometry_09_10_selected <- audiometry_09_10_selected %>%\n",
    "  mutate(AUQ131 = case_when(\n",
    "    AUQ131 %in% c(1, 2, 3) ~ 2,\n",
    "    AUQ131 %in% c(4, 5, 6) ~ 1,\n",
    "    TRUE ~ AUQ131\n",
    "  ))\n",
    "\n",
    "audiometry_09_10_selected <- audiometry_09_10_selected %>%\n",
    "  rename(DLQ010 = AUQ131)"
   ]
  },
  {
   "cell_type": "code",
   "execution_count": 31,
   "metadata": {
    "vscode": {
     "languageId": "r"
    }
   },
   "outputs": [],
   "source": [
    "# Datasets for 2011/12 period\n",
    "\n",
    "demo_11_12 <- read_xpt(file.path(path_to_data_11_12, \"DEMO_G.xpt.txt\"))\n",
    "\n",
    "demo_11_12_selected <- demo_11_12 %>%\n",
    "  select(SEQN, RIAGENDR, RIDAGEYR, RIDRETH1, DMDEDUC2, INDFMPIR)\n",
    "\n",
    "alcohol_11_12 <- read_xpt(file.path(path_to_data_11_12, \"ALQ_G.xpt.txt\"))\n",
    "\n",
    "alcohol_11_12_selected <- alcohol_11_12 %>%\n",
    "  select(SEQN, ALQ101)\n",
    "\n",
    "\n",
    "smoking_11_12 <- read_xpt(file.path(path_to_data_11_12, \"SMQ_G.xpt.txt\"))\n",
    "\n",
    "smoking_11_12_selected <- smoking_11_12 %>%\n",
    "    select(SEQN, SMQ020)\n",
    "\n",
    "\n",
    "med_conditions_11_12 <- read_xpt(file.path(path_to_data_11_12, \"MCQ_G.xpt.txt\"))\n",
    "\n",
    "med_conditions_11_12_selected <- med_conditions_11_12 %>%\n",
    "    select(SEQN, MCQ140, MCQ160B, MCQ160C, MCQ160D, MCQ160E, MCQ160F, MCQ160L, MCQ220)\n",
    "\n",
    "med_conditions_11_12_selected <- med_conditions_11_12_selected %>%\n",
    "  rename(DLQ020 = MCQ140)\n",
    "\n",
    "\n",
    "blood_pressure_11_12 <- read_xpt(file.path(path_to_data_11_12, \"BPQ_G.xpt.txt\"))\n",
    "\n",
    "blood_pressure_11_12_selected <- blood_pressure_11_12 %>%\n",
    "    select(SEQN, BPQ020)\n",
    "\n",
    "\n",
    "diabetes_11_12 <- read_xpt(file.path(path_to_data_11_12, \"DIQ_G.xpt.txt\"))\n",
    "\n",
    "diabetes_11_12_selected <- diabetes_11_12 %>%\n",
    "    select(SEQN, DIQ010)\n",
    "\n",
    "\n",
    "oral_11_12 <- read_xpt(file.path(path_to_data_11_12, \"OHQ_G.xpt.txt\"))\n",
    "\n",
    "selected_cols <- c(\n",
    "  \"OHQ835\",\n",
    "  \"OHQ845\",\n",
    "  \"OHQ850\",\n",
    "  \"OHQ855\",\n",
    "  \"OHQ860\",\n",
    "  \"OHQ865\",\n",
    "  \"OHQ870\",\n",
    "  \"OHQ875\"\n",
    ")\n",
    "oral_11_12_selected <- oral_11_12 %>%\n",
    "    select(SEQN, all_of(selected_cols))\n",
    "\n",
    "locomotion_11_12 <- read_xpt(file.path(path_to_data_11_12, \"PFQ_G.xpt.txt\"))\n",
    "\n",
    "locomotion_11_12_selected <- locomotion_11_12 %>%\n",
    "    select(SEQN, PFQ061I)\n",
    "\n",
    "\n",
    "mental_health_11_12 <- read_xpt(file.path(path_to_data_11_12, \"DPQ_G.xpt.txt\"))\n",
    "\n",
    "mental_health_11_12_selected <- mental_health_11_12 %>%\n",
    "    select(SEQN, DPQ010, DPQ020, DPQ050, DPQ070)\n",
    "\n",
    "mental_health_11_12_selected <- mental_health_11_12_selected %>%\n",
    "  mutate(DPQ070 = case_when(\n",
    "    DPQ070 %in% c(0, 1) ~ 2,\n",
    "    DPQ070 %in% c(2, 3) ~ 1,\n",
    "    TRUE ~ DPQ070\n",
    "  ))\n",
    "\n",
    "mental_health_11_12_selected <- mental_health_11_12_selected %>%\n",
    "  rename(DLQ040 = DPQ070)\n",
    "\n",
    "\n",
    "weight_history_11_12 <- read_xpt(file.path(path_to_data_11_12, \"WHQ_G.xpt.txt\"))\n",
    "\n",
    "weight_history_11_12_selected <- weight_history_11_12 %>%\n",
    "    select(SEQN, WHQ060)\n",
    "\n",
    "\n",
    "audiometry_11_12 <- read_xpt(file.path(path_to_data_11_12, \"AUQ_G.xpt.txt\"))\n",
    "\n",
    "audiometry_11_12_selected <- audiometry_11_12 %>%\n",
    "  select(SEQN, AUQ054)\n",
    "\n",
    "audiometry_11_12_selected <- audiometry_11_12_selected %>%\n",
    "  mutate(AUQ054 = case_when(\n",
    "    AUQ054 %in% c(1, 2, 3) ~ 2,\n",
    "    AUQ054 %in% c(4, 5, 6) ~ 1,\n",
    "    TRUE ~ AUQ054\n",
    "  ))\n",
    "\n",
    "audiometry_11_12_selected <- audiometry_11_12_selected %>%\n",
    "  rename(DLQ010 = AUQ054)"
   ]
  },
  {
   "cell_type": "code",
   "execution_count": 32,
   "metadata": {
    "vscode": {
     "languageId": "r"
    }
   },
   "outputs": [],
   "source": [
    "# Datasets for 2013/14 period\n",
    "\n",
    "demo_13_14 <- read_xpt(file.path(path_to_data_13_14, \"DEMO_H.xpt.txt\"))\n",
    "\n",
    "demo_13_14_selected <- demo_13_14 %>%\n",
    "    select(SEQN, RIAGENDR, RIDAGEYR, RIDRETH1, DMDEDUC2, INDFMPIR)\n",
    "\n",
    "\n",
    "alcohol_13_14 <- read_xpt(file.path(path_to_data_13_14, \"ALQ_H.xpt.txt\"))\n",
    "\n",
    "alcohol_13_14_selected <- alcohol_13_14 %>%\n",
    "    select(SEQN, ALQ101)\n",
    "\n",
    "\n",
    "smoking_13_14 <- read_xpt(file.path(path_to_data_13_14, \"SMQ_H.xpt.txt\"))\n",
    "\n",
    "smoking_13_14_selected <- smoking_13_14 %>%\n",
    "    select(SEQN, SMQ020)\n",
    "\n",
    "\n",
    "med_conditions_13_14 <- read_xpt(file.path(path_to_data_13_14, \"MCQ_H.xpt.txt\"))\n",
    "\n",
    "med_conditions_13_14_selected <- med_conditions_13_14 %>%\n",
    "    select(SEQN, MCQ160B, MCQ160C, MCQ160D, MCQ160E, MCQ160F, MCQ160L, MCQ220)\n",
    "\n",
    "\n",
    "blood_pressure_13_14 <- read_xpt(file.path(path_to_data_13_14, \"BPQ_H.xpt.txt\"))\n",
    "\n",
    "blood_pressure_13_14_selected <- blood_pressure_13_14 %>%\n",
    "    select(SEQN, BPQ020)\n",
    "\n",
    "\n",
    "diabetes_13_14 <- read_xpt(file.path(path_to_data_13_14, \"DIQ_H.xpt.txt\"))\n",
    "\n",
    "diabetes_13_14_selected <- diabetes_13_14 %>%\n",
    "    select(SEQN, DIQ010)\n",
    "\n",
    "\n",
    "oral_13_14 <- read_xpt(file.path(path_to_data_13_14, \"OHQ_H.xpt.txt\"))\n",
    "\n",
    "selected_cols <- c(\n",
    "  \"OHQ835\",\n",
    "  \"OHQ845\",\n",
    "  \"OHQ850\",\n",
    "  \"OHQ855\",\n",
    "  \"OHQ860\",\n",
    "  \"OHQ865\",\n",
    "  \"OHQ870\",\n",
    "  \"OHQ875\"\n",
    ")\n",
    "oral_13_14_selected <- oral_13_14 %>%\n",
    "  select(SEQN, all_of(selected_cols))\n",
    "\n",
    "\n",
    "locomotion_13_14 <- read_xpt(file.path(path_to_data_13_14, \"PFQ061I.txt\"))\n",
    "\n",
    "locomotion_13_14_selected <- locomotion_13_14 %>%\n",
    "    select(SEQN, PFQ061I)\n",
    "\n",
    "\n",
    "disability_13_14 <- read_xpt(file.path(path_to_data_13_14, \"DLQ040.txt\"))\n",
    "\n",
    "disability_13_14_selected <- disability_13_14 %>%\n",
    "    select(SEQN, DLQ010, DLQ020, DLQ040)\n",
    "\n",
    "\n",
    "mental_health_13_14 <- read_xpt(file.path(path_to_data_13_14, \"DPQ-.txt\"))\n",
    "\n",
    "mental_health_13_14_selected <- mental_health_13_14 %>%\n",
    "    select(SEQN, DPQ010, DPQ020, DPQ050)\n",
    "\n",
    "\n",
    "weight_history_13_14 <- read_xpt(file.path(path_to_data_13_14, \"WHQ060.txt\"))\n",
    "\n",
    "weight_history_13_14_selected <- weight_history_13_14 %>%\n",
    "    select(SEQN, WHQ060)"
   ]
  },
  {
   "cell_type": "code",
   "execution_count": 33,
   "metadata": {
    "vscode": {
     "languageId": "r"
    }
   },
   "outputs": [
    {
     "data": {
      "text/html": [
       "<style>\n",
       ".list-inline {list-style: none; margin:0; padding: 0}\n",
       ".list-inline>li {display: inline-block}\n",
       ".list-inline>li:not(:last-child)::after {content: \"\\00b7\"; padding: 0 .5ex}\n",
       "</style>\n",
       "<ol class=list-inline><li>5177</li><li>9</li></ol>\n"
      ],
      "text/latex": [
       "\\begin{enumerate*}\n",
       "\\item 5177\n",
       "\\item 9\n",
       "\\end{enumerate*}\n"
      ],
      "text/markdown": [
       "1. 5177\n",
       "2. 9\n",
       "\n",
       "\n"
      ],
      "text/plain": [
       "[1] 5177    9"
      ]
     },
     "metadata": {},
     "output_type": "display_data"
    },
    {
     "data": {
      "text/html": [
       "<style>\n",
       ".list-inline {list-style: none; margin:0; padding: 0}\n",
       ".list-inline>li {display: inline-block}\n",
       ".list-inline>li:not(:last-child)::after {content: \"\\00b7\"; padding: 0 .5ex}\n",
       "</style>\n",
       "<ol class=list-inline><li>9364</li><li>9</li></ol>\n"
      ],
      "text/latex": [
       "\\begin{enumerate*}\n",
       "\\item 9364\n",
       "\\item 9\n",
       "\\end{enumerate*}\n"
      ],
      "text/markdown": [
       "1. 9364\n",
       "2. 9\n",
       "\n",
       "\n"
      ],
      "text/plain": [
       "[1] 9364    9"
      ]
     },
     "metadata": {},
     "output_type": "display_data"
    },
    {
     "data": {
      "text/html": [
       "<style>\n",
       ".list-inline {list-style: none; margin:0; padding: 0}\n",
       ".list-inline>li {display: inline-block}\n",
       ".list-inline>li:not(:last-child)::after {content: \"\\00b7\"; padding: 0 .5ex}\n",
       "</style>\n",
       "<ol class=list-inline><li>9770</li><li>9</li></ol>\n"
      ],
      "text/latex": [
       "\\begin{enumerate*}\n",
       "\\item 9770\n",
       "\\item 9\n",
       "\\end{enumerate*}\n"
      ],
      "text/markdown": [
       "1. 9770\n",
       "2. 9\n",
       "\n",
       "\n"
      ],
      "text/plain": [
       "[1] 9770    9"
      ]
     },
     "metadata": {},
     "output_type": "display_data"
    }
   ],
   "source": [
    "dim(oral_09_10_selected)\n",
    "dim(oral_11_12_selected)\n",
    "dim(oral_13_14_selected)"
   ]
  },
  {
   "cell_type": "markdown",
   "metadata": {},
   "source": [
    "### Merge datasets without NA and missing values\n",
    "> Merge all data from each datasets and then exclude patients"
   ]
  },
  {
   "cell_type": "code",
   "execution_count": 34,
   "metadata": {
    "vscode": {
     "languageId": "r"
    }
   },
   "outputs": [
    {
     "name": "stdout",
     "output_type": "stream",
     "text": [
      "[1] \"Dimensions before removing NA values\"\n"
     ]
    },
    {
     "data": {
      "text/html": [
       "<style>\n",
       ".list-inline {list-style: none; margin:0; padding: 0}\n",
       ".list-inline>li {display: inline-block}\n",
       ".list-inline>li:not(:last-child)::after {content: \"\\00b7\"; padding: 0 .5ex}\n",
       "</style>\n",
       "<ol class=list-inline><li>30468</li><li>33</li></ol>\n"
      ],
      "text/latex": [
       "\\begin{enumerate*}\n",
       "\\item 30468\n",
       "\\item 33\n",
       "\\end{enumerate*}\n"
      ],
      "text/markdown": [
       "1. 30468\n",
       "2. 33\n",
       "\n",
       "\n"
      ],
      "text/plain": [
       "[1] 30468    33"
      ]
     },
     "metadata": {},
     "output_type": "display_data"
    },
    {
     "name": "stdout",
     "output_type": "stream",
     "text": [
      "[1] \"Dimensions with AGE >= 60\"\n"
     ]
    },
    {
     "data": {
      "text/html": [
       "<style>\n",
       ".list-inline {list-style: none; margin:0; padding: 0}\n",
       ".list-inline>li {display: inline-block}\n",
       ".list-inline>li:not(:last-child)::after {content: \"\\00b7\"; padding: 0 .5ex}\n",
       "</style>\n",
       "<ol class=list-inline><li>5705</li><li>33</li></ol>\n"
      ],
      "text/latex": [
       "\\begin{enumerate*}\n",
       "\\item 5705\n",
       "\\item 33\n",
       "\\end{enumerate*}\n"
      ],
      "text/markdown": [
       "1. 5705\n",
       "2. 33\n",
       "\n",
       "\n"
      ],
      "text/plain": [
       "[1] 5705   33"
      ]
     },
     "metadata": {},
     "output_type": "display_data"
    },
    {
     "name": "stdout",
     "output_type": "stream",
     "text": [
      "[1] \"Dimensions without IC missing values\"\n"
     ]
    },
    {
     "data": {
      "text/html": [
       "<style>\n",
       ".list-inline {list-style: none; margin:0; padding: 0}\n",
       ".list-inline>li {display: inline-block}\n",
       ".list-inline>li:not(:last-child)::after {content: \"\\00b7\"; padding: 0 .5ex}\n",
       "</style>\n",
       "<ol class=list-inline><li>994</li><li>33</li></ol>\n"
      ],
      "text/latex": [
       "\\begin{enumerate*}\n",
       "\\item 994\n",
       "\\item 33\n",
       "\\end{enumerate*}\n"
      ],
      "text/markdown": [
       "1. 994\n",
       "2. 33\n",
       "\n",
       "\n"
      ],
      "text/plain": [
       "[1] 994  33"
      ]
     },
     "metadata": {},
     "output_type": "display_data"
    },
    {
     "name": "stdout",
     "output_type": "stream",
     "text": [
      "[1] \"Dimensions without complete Oral examination (missing values)\"\n"
     ]
    },
    {
     "data": {
      "text/html": [
       "<style>\n",
       ".list-inline {list-style: none; margin:0; padding: 0}\n",
       ".list-inline>li {display: inline-block}\n",
       ".list-inline>li:not(:last-child)::after {content: \"\\00b7\"; padding: 0 .5ex}\n",
       "</style>\n",
       "<ol class=list-inline><li>928</li><li>33</li></ol>\n"
      ],
      "text/latex": [
       "\\begin{enumerate*}\n",
       "\\item 928\n",
       "\\item 33\n",
       "\\end{enumerate*}\n"
      ],
      "text/markdown": [
       "1. 928\n",
       "2. 33\n",
       "\n",
       "\n"
      ],
      "text/plain": [
       "[1] 928  33"
      ]
     },
     "metadata": {},
     "output_type": "display_data"
    },
    {
     "name": "stdout",
     "output_type": "stream",
     "text": [
      "[1] \"Dimensions without Confounding missing values\"\n"
     ]
    },
    {
     "data": {
      "text/html": [
       "<style>\n",
       ".list-inline {list-style: none; margin:0; padding: 0}\n",
       ".list-inline>li {display: inline-block}\n",
       ".list-inline>li:not(:last-child)::after {content: \"\\00b7\"; padding: 0 .5ex}\n",
       "</style>\n",
       "<ol class=list-inline><li>828</li><li>33</li></ol>\n"
      ],
      "text/latex": [
       "\\begin{enumerate*}\n",
       "\\item 828\n",
       "\\item 33\n",
       "\\end{enumerate*}\n"
      ],
      "text/markdown": [
       "1. 828\n",
       "2. 33\n",
       "\n",
       "\n"
      ],
      "text/plain": [
       "[1] 828  33"
      ]
     },
     "metadata": {},
     "output_type": "display_data"
    }
   ],
   "source": [
    "# Merge datasets demographics and intrinsic capacity data\n",
    "\n",
    "datasets_09_10 <- list(\n",
    "  demo_09_10_selected, alcohol_09_10_selected, smoking_09_10_selected, med_conditions_09_10_selected,\n",
    "  blood_pressure_09_10_selected, diabetes_09_10_selected,\n",
    "  locomotion_09_10_selected, mental_health_09_10_selected,\n",
    "  weight_history_09_10_selected, audiometry_09_10_selected, oral_09_10_selected\n",
    ")\n",
    "\n",
    "datasets_11_12 <- list(\n",
    "  demo_11_12_selected, alcohol_11_12_selected, smoking_11_12_selected, med_conditions_11_12_selected,\n",
    "  blood_pressure_11_12_selected, diabetes_11_12_selected,\n",
    "  locomotion_11_12_selected, mental_health_11_12_selected,\n",
    "  weight_history_11_12_selected, audiometry_11_12_selected, oral_11_12_selected\n",
    ")\n",
    "\n",
    "datasets_13_14 <- list(\n",
    "  demo_13_14_selected, alcohol_13_14_selected, smoking_13_14_selected, med_conditions_13_14_selected,\n",
    "  blood_pressure_13_14_selected, diabetes_13_14_selected,\n",
    "  locomotion_13_14_selected, disability_13_14_selected, mental_health_13_14_selected,\n",
    "  weight_history_13_14_selected, oral_13_14_selected\n",
    ")\n",
    "\n",
    "# Horizontal union for period 2009/10, 2011/12, 2013/14\n",
    "\n",
    "df_09_10 <- Reduce(function(x, y) full_join(x, y, by = \"SEQN\"), datasets_09_10)\n",
    "\n",
    "df_11_12 <- Reduce(function(x, y) full_join(x, y, by = \"SEQN\"), datasets_11_12)\n",
    "\n",
    "df_13_14 <- Reduce(function(x, y) full_join(x, y, by = \"SEQN\"), datasets_13_14)\n",
    "\n",
    "# Vertical union\n",
    "\n",
    "df_final <- bind_rows(df_09_10, df_11_12, df_13_14)\n",
    "\n",
    "print(\"Dimensions before removing NA values\")\n",
    "dim(df_final)\n",
    "\n",
    "# Filter with AGE >= 60\n",
    "\n",
    "df_final_age_60 <- subset(df_final, RIDAGEYR >= 60)\n",
    "\n",
    "print(\"Dimensions with AGE >= 60\")\n",
    "dim(df_final_age_60)\n",
    "\n",
    "# Excluding patients with missing values in Intrinsic Capacity features\n",
    "\n",
    "df_final_excluding_IC <- df_final_age_60[complete.cases(df_final_age_60[, c('DLQ020', 'PFQ061I', 'DPQ010', 'DPQ020', 'DPQ050', 'DLQ040', 'WHQ060', 'DLQ010')]), ]\n",
    "\n",
    "df_final_excluding_IC <- df_final_excluding_IC %>%\n",
    "  filter(!if_any(c(DLQ020, PFQ061I, DLQ040, WHQ060, DLQ010,\n",
    "                   DPQ020, DPQ050, DPQ010), ~ . == 9))\n",
    "\n",
    "df_final_excluding_IC <- df_final_excluding_IC %>%\n",
    "  filter(!if_any(c(DLQ020, PFQ061I, DLQ040, WHQ060, DLQ010,\n",
    "                   DPQ020, DPQ050, DPQ010), ~ . == 7))\n",
    "\n",
    "df_final_excluding_IC <- df_final_excluding_IC %>%\n",
    "  filter(!if_any(c(DLQ020, PFQ061I, DLQ040, WHQ060, DLQ010,\n",
    "                   DPQ020, DPQ050, DPQ010), ~ . == 99))\n",
    "\n",
    "print(\"Dimensions without IC missing values\")\n",
    "dim(df_final_excluding_IC)\n",
    "\n",
    "# Excluding patients with no examinations for Oral examination\n",
    "\n",
    "df_final_excluding_oral <- df_final_excluding_IC[complete.cases(\n",
    "  df_final_excluding_IC[, c(\n",
    "                            \"OHQ835\",\n",
    "                            \"OHQ845\",\n",
    "                            \"OHQ850\",\n",
    "                            \"OHQ855\",\n",
    "                            \"OHQ860\",\n",
    "                            \"OHQ865\",\n",
    "                            \"OHQ870\",\n",
    "                            \"OHQ875\"\n",
    "                          )]), ]\n",
    "\n",
    "df_final_excluding_oral <- df_final_excluding_oral %>%\n",
    "  filter(!if_any(c(OHQ835, OHQ845, OHQ850, OHQ855, OHQ860,\n",
    "                   OHQ865, OHQ870, OHQ875), ~ . == 9))\n",
    "\n",
    "df_final_excluding_oral <- df_final_excluding_oral %>%\n",
    "  filter(!if_any(c(OHQ835, OHQ845, OHQ850, OHQ855, OHQ860,\n",
    "                   OHQ865), ~ . == 7))\n",
    "\n",
    "df_final_excluding_oral <- df_final_excluding_oral %>%\n",
    "  filter(!if_any(c(OHQ870, OHQ875), ~ . == 77))\n",
    "\n",
    "df_final_excluding_oral <- df_final_excluding_oral %>%\n",
    "  filter(!if_any(c(OHQ870, OHQ875), ~ . == 99))\n",
    "\n",
    "print(\"Dimensions without complete Oral examination (missing values)\")\n",
    "dim(df_final_excluding_oral)\n",
    "\n",
    "# Excluding patients with missing values in Confounding features\n",
    "\n",
    "df_final_excluding_confounding <- df_final_excluding_oral[complete.cases(df_final_excluding_oral[, \n",
    "                                  c('RIAGENDR', 'RIDAGEYR', 'RIDRETH1', 'DMDEDUC2', 'INDFMPIR', 'ALQ101', 'SMQ020', 'MCQ160B',\n",
    "                                  'MCQ160C', 'MCQ160D', 'MCQ160E', 'MCQ160F', 'MCQ160L', 'MCQ220', 'BPQ020', 'DIQ010')]), ]\n",
    "\n",
    "df_final_merged <- df_final_excluding_confounding %>%\n",
    "  filter(!if_any(c(DMDEDUC2, ALQ101, MCQ160B, MCQ160C, MCQ160D,\n",
    "                   MCQ160E, MCQ160F, MCQ160L, BPQ020, DIQ010), ~ . == 9))\n",
    "\n",
    "print(\"Dimensions without Confounding missing values\")\n",
    "dim(df_final_merged)"
   ]
  },
  {
   "cell_type": "code",
   "execution_count": 37,
   "metadata": {
    "vscode": {
     "languageId": "r"
    }
   },
   "outputs": [],
   "source": [
    "# Saving preprocessed\n",
    "\n",
    "write.csv(df_final_merged, \"/Users/silvanoquarto/Desktop/LAVORO/MEDICAL_PHYSICS/Med-Physics/data/NHANES/df_oral_health_09_14.csv\", row.names=FALSE)"
   ]
  },
  {
   "cell_type": "markdown",
   "metadata": {},
   "source": [
    "### Exploratory Analysis"
   ]
  },
  {
   "cell_type": "code",
   "execution_count": 2,
   "metadata": {
    "vscode": {
     "languageId": "r"
    }
   },
   "outputs": [
    {
     "data": {
      "text/html": [
       "<table class=\"dataframe\">\n",
       "<caption>A data.frame: 6 x 33</caption>\n",
       "<thead>\n",
       "\t<tr><th></th><th scope=col>SEQN</th><th scope=col>RIAGENDR</th><th scope=col>RIDAGEYR</th><th scope=col>RIDRETH1</th><th scope=col>DMDEDUC2</th><th scope=col>INDFMPIR</th><th scope=col>ALQ101</th><th scope=col>SMQ020</th><th scope=col>DLQ020</th><th scope=col>MCQ160B</th><th scope=col>...</th><th scope=col>WHQ060</th><th scope=col>DLQ010</th><th scope=col>OHQ835</th><th scope=col>OHQ845</th><th scope=col>OHQ850</th><th scope=col>OHQ855</th><th scope=col>OHQ860</th><th scope=col>OHQ865</th><th scope=col>OHQ870</th><th scope=col>OHQ875</th></tr>\n",
       "\t<tr><th></th><th scope=col>&lt;int&gt;</th><th scope=col>&lt;int&gt;</th><th scope=col>&lt;int&gt;</th><th scope=col>&lt;int&gt;</th><th scope=col>&lt;int&gt;</th><th scope=col>&lt;dbl&gt;</th><th scope=col>&lt;int&gt;</th><th scope=col>&lt;int&gt;</th><th scope=col>&lt;int&gt;</th><th scope=col>&lt;int&gt;</th><th scope=col>...</th><th scope=col>&lt;int&gt;</th><th scope=col>&lt;int&gt;</th><th scope=col>&lt;int&gt;</th><th scope=col>&lt;int&gt;</th><th scope=col>&lt;int&gt;</th><th scope=col>&lt;int&gt;</th><th scope=col>&lt;int&gt;</th><th scope=col>&lt;int&gt;</th><th scope=col>&lt;int&gt;</th><th scope=col>&lt;int&gt;</th></tr>\n",
       "</thead>\n",
       "<tbody>\n",
       "\t<tr><th scope=row>1</th><td>51633</td><td>1</td><td>80</td><td>3</td><td>4</td><td>1.27</td><td>1</td><td>1</td><td>1</td><td>2</td><td>...</td><td>1</td><td>2</td><td>2</td><td>2</td><td>2</td><td>2</td><td>2</td><td>2</td><td>5</td><td>6</td></tr>\n",
       "\t<tr><th scope=row>2</th><td>51654</td><td>1</td><td>66</td><td>3</td><td>4</td><td>2.20</td><td>1</td><td>1</td><td>2</td><td>2</td><td>...</td><td>2</td><td>2</td><td>2</td><td>2</td><td>1</td><td>2</td><td>1</td><td>2</td><td>7</td><td>7</td></tr>\n",
       "\t<tr><th scope=row>3</th><td>51680</td><td>2</td><td>60</td><td>4</td><td>4</td><td>2.59</td><td>1</td><td>1</td><td>1</td><td>2</td><td>...</td><td>1</td><td>2</td><td>2</td><td>3</td><td>2</td><td>2</td><td>1</td><td>1</td><td>7</td><td>0</td></tr>\n",
       "\t<tr><th scope=row>4</th><td>51687</td><td>1</td><td>78</td><td>3</td><td>5</td><td>5.00</td><td>1</td><td>1</td><td>2</td><td>2</td><td>...</td><td>2</td><td>2</td><td>2</td><td>3</td><td>2</td><td>2</td><td>2</td><td>2</td><td>7</td><td>0</td></tr>\n",
       "\t<tr><th scope=row>5</th><td>51736</td><td>2</td><td>60</td><td>1</td><td>3</td><td>0.68</td><td>1</td><td>1</td><td>2</td><td>2</td><td>...</td><td>1</td><td>2</td><td>2</td><td>2</td><td>2</td><td>2</td><td>2</td><td>2</td><td>4</td><td>6</td></tr>\n",
       "\t<tr><th scope=row>6</th><td>51861</td><td>1</td><td>80</td><td>3</td><td>3</td><td>4.94</td><td>1</td><td>2</td><td>2</td><td>2</td><td>...</td><td>1</td><td>1</td><td>2</td><td>2</td><td>2</td><td>1</td><td>2</td><td>2</td><td>0</td><td>7</td></tr>\n",
       "</tbody>\n",
       "</table>\n"
      ],
      "text/latex": [
       "A data.frame: 6 x 33\n",
       "\\begin{tabular}{r|lllllllllllllllllllll}\n",
       "  & SEQN & RIAGENDR & RIDAGEYR & RIDRETH1 & DMDEDUC2 & INDFMPIR & ALQ101 & SMQ020 & DLQ020 & MCQ160B & ... & WHQ060 & DLQ010 & OHQ835 & OHQ845 & OHQ850 & OHQ855 & OHQ860 & OHQ865 & OHQ870 & OHQ875\\\\\n",
       "  & <int> & <int> & <int> & <int> & <int> & <dbl> & <int> & <int> & <int> & <int> & ... & <int> & <int> & <int> & <int> & <int> & <int> & <int> & <int> & <int> & <int>\\\\\n",
       "\\hline\n",
       "\t1 & 51633 & 1 & 80 & 3 & 4 & 1.27 & 1 & 1 & 1 & 2 & ... & 1 & 2 & 2 & 2 & 2 & 2 & 2 & 2 & 5 & 6\\\\\n",
       "\t2 & 51654 & 1 & 66 & 3 & 4 & 2.20 & 1 & 1 & 2 & 2 & ... & 2 & 2 & 2 & 2 & 1 & 2 & 1 & 2 & 7 & 7\\\\\n",
       "\t3 & 51680 & 2 & 60 & 4 & 4 & 2.59 & 1 & 1 & 1 & 2 & ... & 1 & 2 & 2 & 3 & 2 & 2 & 1 & 1 & 7 & 0\\\\\n",
       "\t4 & 51687 & 1 & 78 & 3 & 5 & 5.00 & 1 & 1 & 2 & 2 & ... & 2 & 2 & 2 & 3 & 2 & 2 & 2 & 2 & 7 & 0\\\\\n",
       "\t5 & 51736 & 2 & 60 & 1 & 3 & 0.68 & 1 & 1 & 2 & 2 & ... & 1 & 2 & 2 & 2 & 2 & 2 & 2 & 2 & 4 & 6\\\\\n",
       "\t6 & 51861 & 1 & 80 & 3 & 3 & 4.94 & 1 & 2 & 2 & 2 & ... & 1 & 1 & 2 & 2 & 2 & 1 & 2 & 2 & 0 & 7\\\\\n",
       "\\end{tabular}\n"
      ],
      "text/markdown": [
       "\n",
       "A data.frame: 6 x 33\n",
       "\n",
       "| <!--/--> | SEQN &lt;int&gt; | RIAGENDR &lt;int&gt; | RIDAGEYR &lt;int&gt; | RIDRETH1 &lt;int&gt; | DMDEDUC2 &lt;int&gt; | INDFMPIR &lt;dbl&gt; | ALQ101 &lt;int&gt; | SMQ020 &lt;int&gt; | DLQ020 &lt;int&gt; | MCQ160B &lt;int&gt; | ... ... | WHQ060 &lt;int&gt; | DLQ010 &lt;int&gt; | OHQ835 &lt;int&gt; | OHQ845 &lt;int&gt; | OHQ850 &lt;int&gt; | OHQ855 &lt;int&gt; | OHQ860 &lt;int&gt; | OHQ865 &lt;int&gt; | OHQ870 &lt;int&gt; | OHQ875 &lt;int&gt; |\n",
       "|---|---|---|---|---|---|---|---|---|---|---|---|---|---|---|---|---|---|---|---|---|---|\n",
       "| 1 | 51633 | 1 | 80 | 3 | 4 | 1.27 | 1 | 1 | 1 | 2 | ... | 1 | 2 | 2 | 2 | 2 | 2 | 2 | 2 | 5 | 6 |\n",
       "| 2 | 51654 | 1 | 66 | 3 | 4 | 2.20 | 1 | 1 | 2 | 2 | ... | 2 | 2 | 2 | 2 | 1 | 2 | 1 | 2 | 7 | 7 |\n",
       "| 3 | 51680 | 2 | 60 | 4 | 4 | 2.59 | 1 | 1 | 1 | 2 | ... | 1 | 2 | 2 | 3 | 2 | 2 | 1 | 1 | 7 | 0 |\n",
       "| 4 | 51687 | 1 | 78 | 3 | 5 | 5.00 | 1 | 1 | 2 | 2 | ... | 2 | 2 | 2 | 3 | 2 | 2 | 2 | 2 | 7 | 0 |\n",
       "| 5 | 51736 | 2 | 60 | 1 | 3 | 0.68 | 1 | 1 | 2 | 2 | ... | 1 | 2 | 2 | 2 | 2 | 2 | 2 | 2 | 4 | 6 |\n",
       "| 6 | 51861 | 1 | 80 | 3 | 3 | 4.94 | 1 | 2 | 2 | 2 | ... | 1 | 1 | 2 | 2 | 2 | 1 | 2 | 2 | 0 | 7 |\n",
       "\n"
      ],
      "text/plain": [
       "  SEQN  RIAGENDR RIDAGEYR RIDRETH1 DMDEDUC2 INDFMPIR ALQ101 SMQ020 DLQ020\n",
       "1 51633 1        80       3        4        1.27     1      1      1     \n",
       "2 51654 1        66       3        4        2.20     1      1      2     \n",
       "3 51680 2        60       4        4        2.59     1      1      1     \n",
       "4 51687 1        78       3        5        5.00     1      1      2     \n",
       "5 51736 2        60       1        3        0.68     1      1      2     \n",
       "6 51861 1        80       3        3        4.94     1      2      2     \n",
       "  MCQ160B ... WHQ060 DLQ010 OHQ835 OHQ845 OHQ850 OHQ855 OHQ860 OHQ865 OHQ870\n",
       "1 2       ... 1      2      2      2      2      2      2      2      5     \n",
       "2 2       ... 2      2      2      2      1      2      1      2      7     \n",
       "3 2       ... 1      2      2      3      2      2      1      1      7     \n",
       "4 2       ... 2      2      2      3      2      2      2      2      7     \n",
       "5 2       ... 1      2      2      2      2      2      2      2      4     \n",
       "6 2       ... 1      1      2      2      2      1      2      2      0     \n",
       "  OHQ875\n",
       "1 6     \n",
       "2 7     \n",
       "3 0     \n",
       "4 0     \n",
       "5 6     \n",
       "6 7     "
      ]
     },
     "metadata": {},
     "output_type": "display_data"
    }
   ],
   "source": [
    "df <- read.csv(\"/Users/silvanoquarto/Desktop/LAVORO/MEDICAL_PHYSICS/Med-Physics/data/NHANES/df_oral_health_09_14.csv\", \n",
    "              stringsAsFactors = TRUE)\n",
    "\n",
    "head(df)"
   ]
  },
  {
   "cell_type": "code",
   "execution_count": 3,
   "metadata": {
    "vscode": {
     "languageId": "r"
    }
   },
   "outputs": [],
   "source": [
    "# Import libraries\n",
    "\n",
    "library(tidyverse)\n",
    "library(corrplot)\n",
    "library(ggplot2)\n",
    "#library(gridExtra)\n",
    "#library(psych)\n",
    "#library(summarytools)\n",
    "#library(RColorBrewer)"
   ]
  },
  {
   "cell_type": "markdown",
   "metadata": {},
   "source": [
    "#### Exploring the distributions of individual oral health variables"
   ]
  },
  {
   "cell_type": "code",
   "execution_count": null,
   "metadata": {
    "vscode": {
     "languageId": "r"
    }
   },
   "outputs": [
    {
     "name": "stdout",
     "output_type": "stream",
     "text": [
      "Df Shape:  828 8 \n",
      " \n",
      "     OHQ835          OHQ845          OHQ850          OHQ855          OHQ860    \n",
      " Min.   :1.000   Min.   :1.000   Min.   :1.000   Min.   :1.000   Min.   :1.00  \n",
      " 1st Qu.:2.000   1st Qu.:2.000   1st Qu.:1.000   1st Qu.:2.000   1st Qu.:2.00  \n",
      " Median :2.000   Median :3.000   Median :2.000   Median :2.000   Median :2.00  \n",
      " Mean   :1.838   Mean   :3.098   Mean   :1.745   Mean   :1.768   Mean   :1.82  \n",
      " 3rd Qu.:2.000   3rd Qu.:4.000   3rd Qu.:2.000   3rd Qu.:2.000   3rd Qu.:2.00  \n",
      " Max.   :2.000   Max.   :5.000   Max.   :2.000   Max.   :2.000   Max.   :2.00  \n",
      "     OHQ865          OHQ870         OHQ875     \n",
      " Min.   :1.000   Min.   :0.00   Min.   :0.000  \n",
      " 1st Qu.:2.000   1st Qu.:0.00   1st Qu.:0.000  \n",
      " Median :2.000   Median :1.00   Median :3.000  \n",
      " Mean   :1.819   Mean   :2.68   Mean   :3.301  \n",
      " 3rd Qu.:2.000   3rd Qu.:7.00   3rd Qu.:7.000  \n",
      " Max.   :2.000   Max.   :7.00   Max.   :7.000  \n"
     ]
    }
   ],
   "source": [
    "oral_vars <- c(\"OHQ835\", \"OHQ845\", \"OHQ850\", \"OHQ855\", \n",
    "               \"OHQ860\", \"OHQ865\", \"OHQ870\", \"OHQ875\")\n",
    "\n",
    "df_oral <- df[, oral_vars]\n",
    "\n",
    "# Statistics information\n",
    "cat(\"Df Shape: \", dim(df_oral), \"\\n\", \"\\n\")\n",
    "print(summary(df_oral))"
   ]
  },
  {
   "cell_type": "markdown",
   "metadata": {},
   "source": [
    "### Descriptive Analysis"
   ]
  },
  {
   "cell_type": "markdown",
   "metadata": {},
   "source": [
    "### Regression Analysis"
   ]
  },
  {
   "cell_type": "markdown",
   "metadata": {},
   "source": [
    "#### Load Preprocessed Data + Recoded outcome and some variables"
   ]
  },
  {
   "cell_type": "markdown",
   "metadata": {},
   "source": [
    "#### Bivariate Analysis: Exploratory Data Analysis"
   ]
  },
  {
   "cell_type": "markdown",
   "metadata": {},
   "source": [
    "#### Crude & Adjusted WHEIGHTED Logistic Regression Analysis"
   ]
  }
 ],
 "metadata": {
  "kernelspec": {
   "display_name": "R",
   "language": "R",
   "name": "ir"
  },
  "language_info": {
   "codemirror_mode": "r",
   "file_extension": ".r",
   "mimetype": "text/x-r-source",
   "name": "R",
   "pygments_lexer": "r",
   "version": "4.4.2"
  }
 },
 "nbformat": 4,
 "nbformat_minor": 2
}
