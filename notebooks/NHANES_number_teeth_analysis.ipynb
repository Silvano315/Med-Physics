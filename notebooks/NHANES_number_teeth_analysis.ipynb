{
 "cells": [
  {
   "cell_type": "markdown",
   "metadata": {},
   "source": [
    "# NHANES project about Number of Teeth and Intrinsic Capacity: descriptive and regression analysis\n",
    "> This notebook has the purpose to collect all the analysis on Nhanes dataset for a medical paper project \n",
    "\n",
    "Requirements and Information:\n",
    "1. Nhanes dataset from 2009/10 to 2013/14\n",
    "2. 5 Intrinsic Capacity domains\n",
    "    1. Locomotion:\n",
    "        - Standingup from armless chair difficulty (PFQ061I)\n",
    "    2. Cognitive Function:\n",
    "        - Trouble concentrating on things (DPQ070)\n",
    "    3. Vitality:\n",
    "        - Weight change intentional (WHQ060)\n",
    "        - Poor appetite or overeating (DPQ050)\n",
    "    4. Psychological status:\n",
    "        - Feeling down, depressed, or hopeless (DPQ020)\n",
    "        - Have little interest in doing things (DPQ010)\n",
    "    5. Sensory domain:\n",
    "        - Have serious difficulty hearing? (DLQ010)\n",
    "        - Have serious difficulty seeing? (DLQ020)\n",
    "3. Outcome:\n",
    "    - number of teeth (OHXDEN)\n",
    "    - consists of 2 categories: patients with < 20 teeth, patients with >= 20 teeth\n",
    "4. Confounding Variables:\n",
    "    - Gender (RIAGENDR)\n",
    "    - Age at screening (RIDAGEYR)\n",
    "    - Race (RIDRETH1)\n",
    "    - Education\t(DMDEDUC2)\n",
    "    - Poverty income ratio (INDFMPIR)\n",
    "    - Smoking status (SMQ020)\n",
    "5. Mediators:\n",
    "    - Heart failure\t(RIDRETH1)  \n",
    "    - Coronary heart disease (MCQ160b)\n",
    "    - Stroke (MCQ160c)\n",
    "    - Liver disease\t(MCQ160o)\n",
    "    - Cancer (MCQ500)\n",
    "    - Diabetes (MCQ220)\n",
    "    - High blood pressure (DIQ010)\n",
    "6. Age => 60"
   ]
  }
 ],
 "metadata": {
  "language_info": {
   "name": "python"
  }
 },
 "nbformat": 4,
 "nbformat_minor": 2
}
