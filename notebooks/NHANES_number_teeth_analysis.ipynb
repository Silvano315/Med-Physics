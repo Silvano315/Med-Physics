{
 "cells": [
  {
   "cell_type": "markdown",
   "metadata": {},
   "source": [
    "# NHANES project about Number of Teeth and Intrinsic Capacity: descriptive and regression analysis\n",
    "> This notebook has the purpose to collect all the analysis on Nhanes dataset for a medical paper project \n",
    "\n",
    "Requirements and Information:\n",
    "1. Nhanes dataset from 2009/10 to 2013/14\n",
    "2. 5 Intrinsic Capacity domains\n",
    "    1. Locomotion:\n",
    "        - Standingup from armless chair difficulty (PFQ061I)\n",
    "    2. Cognitive Function:\n",
    "        - Trouble concentrating on things (DPQ070)\n",
    "    3. Vitality:\n",
    "        - Weight change intentional (WHQ060)\n",
    "        - Poor appetite or overeating (DPQ050)\n",
    "    4. Psychological status:\n",
    "        - Feeling down, depressed, or hopeless (DPQ020)\n",
    "        - Have little interest in doing things (DPQ010)\n",
    "    5. Sensory domain:\n",
    "        - Have serious difficulty hearing? (DLQ010)\n",
    "        - Have serious difficulty seeing? (DLQ020)\n",
    "3. Outcome:\n",
    "    - number of teeth (OHXDEN)\n",
    "    - consists of 2 categories: patients with < 20 teeth, patients with >= 20 teeth\n",
    "4. Confounding Variables:\n",
    "    - Gender (RIAGENDR)\n",
    "    - Age at screening (RIDAGEYR)\n",
    "    - Race (RIDRETH1)\n",
    "    - Education\t(DMDEDUC2)\n",
    "    - Poverty income ratio (INDFMPIR)\n",
    "    - Smoking status (SMQ020)\n",
    "5. Mediators:\n",
    "    - Heart failure\t(RIDRETH1)  \n",
    "    - Coronary heart disease (MCQ160b)\n",
    "    - Stroke (MCQ160c)\n",
    "    - Liver disease\t(MCQ160o)\n",
    "    - Cancer (MCQ500)\n",
    "    - Diabetes (MCQ220)\n",
    "    - High blood pressure (DIQ010)\n",
    "6. Age => 60"
   ]
  },
  {
   "cell_type": "markdown",
   "metadata": {},
   "source": [
    "TO-DO LIST (Italian version):\n",
    "\n",
    "1. replicare tutta l'analisi fatta per la periodontite\n",
    "2. per il momento, unica sostituzione sarà sostituire la periodontite con la variabile binaria del **numero di denti**\n",
    "3. data preparation praticamente già pronta: load dei dati, formazione unico df, selezione feature, esclusione dei pazienti. Unica modifica riguarda gestione dei denti (che fare con paziente che ha 30 valori per il numero di denti ma due NA?? RISOLTO: if the variable item was tooth not present, meaning tooth loss. INOLTRE come gestire gli edentolous?)\n",
    "4. Partire subito con una descrittiva --> seguire esempi dati da Vittorio\n",
    "5. Confondenti e mediatori vanno bene o bisogna aggiungere o rimuovere qualcosa?\n",
    "6. Subito una analisi univariata, gestione delle feature della IC sarà la stessa."
   ]
  },
  {
   "cell_type": "markdown",
   "metadata": {},
   "source": [
    "## NHANES 2013/14: Intrinsic Capacity and Teeth counts"
   ]
  },
  {
   "cell_type": "markdown",
   "metadata": {},
   "source": [
    "### Import Libraries"
   ]
  },
  {
   "cell_type": "code",
   "execution_count": 1,
   "metadata": {
    "vscode": {
     "languageId": "r"
    }
   },
   "outputs": [
    {
     "name": "stderr",
     "output_type": "stream",
     "text": [
      "Loading required package: grid\n",
      "\n",
      "Loading required package: Matrix\n",
      "\n",
      "Loading required package: survival\n",
      "\n",
      "\n",
      "Attaching package: 'survey'\n",
      "\n",
      "\n",
      "The following object is masked from 'package:graphics':\n",
      "\n",
      "    dotchart\n",
      "\n",
      "\n",
      "\n",
      "Attaching package: 'dplyr'\n",
      "\n",
      "\n",
      "The following object is masked from 'package:MASS':\n",
      "\n",
      "    select\n",
      "\n",
      "\n",
      "The following objects are masked from 'package:stats':\n",
      "\n",
      "    filter, lag\n",
      "\n",
      "\n",
      "The following objects are masked from 'package:base':\n",
      "\n",
      "    intersect, setdiff, setequal, union\n",
      "\n",
      "\n",
      "\n",
      "Attaching package: 'tidyr'\n",
      "\n",
      "\n",
      "The following objects are masked from 'package:Matrix':\n",
      "\n",
      "    expand, pack, unpack\n",
      "\n",
      "\n",
      "-- \u001b[1mAttaching core tidyverse packages\u001b[22m ------------------------ tidyverse 2.0.0 --\n",
      "\u001b[32mv\u001b[39m \u001b[34mforcats  \u001b[39m 1.0.0     \u001b[32mv\u001b[39m \u001b[34mreadr    \u001b[39m 2.1.5\n",
      "\u001b[32mv\u001b[39m \u001b[34mggplot2  \u001b[39m 3.5.1     \u001b[32mv\u001b[39m \u001b[34mstringr  \u001b[39m 1.5.1\n",
      "\u001b[32mv\u001b[39m \u001b[34mlubridate\u001b[39m 1.9.4     \u001b[32mv\u001b[39m \u001b[34mtibble   \u001b[39m 3.2.1\n",
      "\u001b[32mv\u001b[39m \u001b[34mpurrr    \u001b[39m 1.0.2     \n",
      "-- \u001b[1mConflicts\u001b[22m ------------------------------------------ tidyverse_conflicts() --\n",
      "\u001b[31mx\u001b[39m \u001b[34mtidyr\u001b[39m::\u001b[32mexpand()\u001b[39m masks \u001b[34mMatrix\u001b[39m::expand()\n",
      "\u001b[31mx\u001b[39m \u001b[34mdplyr\u001b[39m::\u001b[32mfilter()\u001b[39m masks \u001b[34mstats\u001b[39m::filter()\n",
      "\u001b[31mx\u001b[39m \u001b[34mdplyr\u001b[39m::\u001b[32mlag()\u001b[39m    masks \u001b[34mstats\u001b[39m::lag()\n",
      "\u001b[31mx\u001b[39m \u001b[34mtidyr\u001b[39m::\u001b[32mpack()\u001b[39m   masks \u001b[34mMatrix\u001b[39m::pack()\n",
      "\u001b[31mx\u001b[39m \u001b[34mdplyr\u001b[39m::\u001b[32mselect()\u001b[39m masks \u001b[34mMASS\u001b[39m::select()\n",
      "\u001b[31mx\u001b[39m \u001b[34mtidyr\u001b[39m::\u001b[32munpack()\u001b[39m masks \u001b[34mMatrix\u001b[39m::unpack()\n",
      "\u001b[36mi\u001b[39m Use the conflicted package (\u001b[3m\u001b[34m<http://conflicted.r-lib.org/>\u001b[39m\u001b[23m) to force all conflicts to become errors\n",
      "\n",
      "Attaching package: 'flextable'\n",
      "\n",
      "\n",
      "The following object is masked from 'package:purrr':\n",
      "\n",
      "    compose\n",
      "\n",
      "\n"
     ]
    }
   ],
   "source": [
    "library(haven)\n",
    "library(nhanesA)\n",
    "library(survey)\n",
    "library(MASS)\n",
    "library(dplyr)\n",
    "library(tidyr)\n",
    "library(tidyverse)\n",
    "library(ggplot2)\n",
    "library(readr)\n",
    "library(flextable)\n",
    "library(officer)\n",
    "library(nnet)\n",
    "library(broom)\n",
    "library(ggplot2)"
   ]
  },
  {
   "cell_type": "markdown",
   "metadata": {},
   "source": [
    "### Configurations"
   ]
  },
  {
   "cell_type": "code",
   "execution_count": 2,
   "metadata": {
    "vscode": {
     "languageId": "r"
    }
   },
   "outputs": [],
   "source": [
    "path_to_data_09_10 <- \"/Users/silvanoquarto/Desktop/LAVORO/MEDICAL_PHYSICS/Med-Physics/data/NHANES/2009_10/\"\n",
    "path_to_data_11_12 <- \"/Users/silvanoquarto/Desktop/LAVORO/MEDICAL_PHYSICS/Med-Physics/data/NHANES/2011_12/\"\n",
    "path_to_data_12_13 <- \"/Users/silvanoquarto/Desktop/LAVORO/MEDICAL_PHYSICS/Med-Physics/data/NHANES/2013_14/\""
   ]
  },
  {
   "cell_type": "markdown",
   "metadata": {},
   "source": [
    "### Load Dataset & Feature Selection"
   ]
  },
  {
   "cell_type": "code",
   "execution_count": 3,
   "metadata": {
    "vscode": {
     "languageId": "r"
    }
   },
   "outputs": [],
   "source": [
    "# Datasets for 2009/10 period\n",
    "\n",
    "demo_09_10 <- read_xpt(file.path(path_to_data_09_10, \"DEMO_F.xpt\"))\n",
    "\n",
    "demo_09_10_selected <- demo_09_10 %>%\n",
    "  select(SEQN, RIAGENDR, RIDAGEYR, RIDRETH1, DMDEDUC2, INDFMPIR)\n",
    "\n",
    "alcohol_09_10 <- read_xpt(file.path(path_to_data_09_10, \"ALQ_F.xpt\"))\n",
    "\n",
    "alcohol_09_10_selected <- alcohol_09_10 %>%\n",
    "  select(SEQN, ALQ101)\n",
    "\n",
    "smoking_09_10 <- read_xpt(file.path(path_to_data_09_10, \"SMQ_F.xpt.txt\"))\n",
    "\n",
    "smoking_09_10_selected <- smoking_09_10 %>%\n",
    "    select(SEQN, SMQ020)\n",
    "\n",
    "med_conditions_09_10 <- read_xpt(file.path(path_to_data_09_10, \"MCQ_F.xpt\"))\n",
    "\n",
    "med_conditions_09_10_selected <- med_conditions_09_10 %>%\n",
    "    select(SEQN, MCQ140, MCQ160B, MCQ160C, MCQ160D, MCQ160E, MCQ160F, MCQ160L, MCQ220)\n",
    "\n",
    "med_conditions_09_10_selected <- med_conditions_09_10_selected %>%\n",
    "  rename(DLQ020 = MCQ140)\n",
    "\n",
    "\n",
    "blood_pressure_09_10 <- read_xpt(file.path(path_to_data_09_10, \"BPQ_F.xpt\"))\n",
    "\n",
    "blood_pressure_09_10_selected <- blood_pressure_09_10 %>%\n",
    "    select(SEQN, BPQ020)\n",
    "\n",
    "\n",
    "diabetes_09_10 <- read_xpt(file.path(path_to_data_09_10, \"DIQ_F.xpt\"))\n",
    "\n",
    "diabetes_09_10_selected <- diabetes_09_10 %>%\n",
    "    select(SEQN, DIQ010)\n",
    "\n",
    "\n",
    "teeth_09_10 <- read_xpt(file.path(path_to_data_09_10, \"OHXDEN_F.xpt.txt\"))\n",
    "\n",
    "selected_cols <- colnames(teeth_09_10)[grepl(\"^OHX\\\\d{2}TC\", colnames(teeth_09_10))]\n",
    "\n",
    "teeth_09_10_selected <- teeth_09_10 %>%\n",
    "    select(SEQN, all_of(selected_cols))\n",
    "\n",
    "\n",
    "locomotion_09_10 <- read_xpt(file.path(path_to_data_09_10, \"PFQ_F.xpt\"))\n",
    "\n",
    "locomotion_09_10_selected <- locomotion_09_10 %>%\n",
    "    select(SEQN, PFQ061I)\n",
    "\n",
    "\n",
    "mental_health_09_10 <- read_xpt(file.path(path_to_data_09_10, \"DPQ_F.xpt\"))\n",
    "\n",
    "mental_health_09_10_selected <- mental_health_09_10 %>%\n",
    "    select(SEQN, DPQ010, DPQ020, DPQ050, DPQ070)\n",
    "\n",
    "mental_health_09_10_selected <- mental_health_09_10_selected %>%\n",
    "  mutate(DPQ070 = case_when(\n",
    "    DPQ070 %in% c(0, 1) ~ 2,\n",
    "    DPQ070 %in% c(2, 3) ~ 1,\n",
    "    TRUE ~ DPQ070\n",
    "  ))\n",
    "\n",
    "mental_health_09_10_selected <- mental_health_09_10_selected %>%\n",
    "  rename(DLQ040 = DPQ070)\n",
    "\n",
    "\n",
    "weight_history_09_10 <- read_xpt(file.path(path_to_data_09_10, \"WHQ_F.xpt\"))\n",
    "\n",
    "weight_history_09_10_selected <- weight_history_09_10 %>%\n",
    "    select(SEQN, WHQ060)\n",
    "\n",
    "\n",
    "audiometry_09_10 <- read_xpt(file.path(path_to_data_09_10, \"AUQ_F.xpt\"))\n",
    "\n",
    "audiometry_09_10_selected <- audiometry_09_10 %>%\n",
    "    select(SEQN, AUQ131)\n",
    "\n",
    "audiometry_09_10_selected <- audiometry_09_10_selected %>%\n",
    "  mutate(AUQ131 = case_when(\n",
    "    AUQ131 %in% c(1, 2, 3) ~ 2,\n",
    "    AUQ131 %in% c(4, 5, 6) ~ 1,\n",
    "    TRUE ~ AUQ131\n",
    "  ))\n",
    "\n",
    "audiometry_09_10_selected <- audiometry_09_10_selected %>%\n",
    "  rename(DLQ010 = AUQ131)"
   ]
  },
  {
   "cell_type": "code",
   "execution_count": 4,
   "metadata": {
    "vscode": {
     "languageId": "r"
    }
   },
   "outputs": [],
   "source": [
    "# Datasets for 2011/12 period\n",
    "\n",
    "demo_11_12 <- read_xpt(file.path(path_to_data_11_12, \"DEMO_G.xpt.txt\"))\n",
    "\n",
    "demo_11_12_selected <- demo_11_12 %>%\n",
    "  select(SEQN, RIAGENDR, RIDAGEYR, RIDRETH1, DMDEDUC2, INDFMPIR)\n",
    "\n",
    "alcohol_11_12 <- read_xpt(file.path(path_to_data_11_12, \"ALQ_G.xpt.txt\"))\n",
    "\n",
    "alcohol_11_12_selected <- alcohol_11_12 %>%\n",
    "  select(SEQN, ALQ101)\n",
    "\n",
    "\n",
    "smoking_11_12 <- read_xpt(file.path(path_to_data_11_12, \"SMQ_G.xpt.txt\"))\n",
    "\n",
    "smoking_11_12_selected <- smoking_11_12 %>%\n",
    "    select(SEQN, SMQ020)\n",
    "\n",
    "\n",
    "med_conditions_11_12 <- read_xpt(file.path(path_to_data_11_12, \"MCQ_G.xpt.txt\"))\n",
    "\n",
    "med_conditions_11_12_selected <- med_conditions_11_12 %>%\n",
    "    select(SEQN, MCQ140, MCQ160B, MCQ160C, MCQ160D, MCQ160E, MCQ160F, MCQ160L, MCQ220)\n",
    "\n",
    "med_conditions_11_12_selected <- med_conditions_11_12_selected %>%\n",
    "  rename(DLQ020 = MCQ140)\n",
    "\n",
    "\n",
    "blood_pressure_11_12 <- read_xpt(file.path(path_to_data_11_12, \"BPQ_G.xpt.txt\"))\n",
    "\n",
    "blood_pressure_11_12_selected <- blood_pressure_11_12 %>%\n",
    "    select(SEQN, BPQ020)\n",
    "\n",
    "\n",
    "diabetes_11_12 <- read_xpt(file.path(path_to_data_11_12, \"DIQ_G.xpt.txt\"))\n",
    "\n",
    "diabetes_11_12_selected <- diabetes_11_12 %>%\n",
    "    select(SEQN, DIQ010)\n",
    "\n",
    "\n",
    "teeth_11_12 <- read_xpt(file.path(path_to_data_11_12, \"OHXDEN_G.xpt.txt\"))\n",
    "\n",
    "selected_cols <- colnames(teeth_11_12)[grepl(\"^OHX\\\\d{2}TC\", colnames(teeth_11_12))]\n",
    "\n",
    "teeth_11_12_selected <- teeth_11_12 %>%\n",
    "    select(SEQN, all_of(selected_cols))\n",
    "\n",
    "\n",
    "locomotion_11_12 <- read_xpt(file.path(path_to_data_11_12, \"PFQ_G.xpt.txt\"))\n",
    "\n",
    "locomotion_11_12_selected <- locomotion_11_12 %>%\n",
    "    select(SEQN, PFQ061I)\n",
    "\n",
    "\n",
    "mental_health_11_12 <- read_xpt(file.path(path_to_data_11_12, \"DPQ_G.xpt.txt\"))\n",
    "\n",
    "mental_health_11_12_selected <- mental_health_11_12 %>%\n",
    "    select(SEQN, DPQ010, DPQ020, DPQ050, DPQ070)\n",
    "\n",
    "mental_health_11_12_selected <- mental_health_11_12_selected %>%\n",
    "  mutate(DPQ070 = case_when(\n",
    "    DPQ070 %in% c(0, 1) ~ 2,\n",
    "    DPQ070 %in% c(2, 3) ~ 1,\n",
    "    TRUE ~ DPQ070\n",
    "  ))\n",
    "\n",
    "mental_health_11_12_selected <- mental_health_11_12_selected %>%\n",
    "  rename(DLQ040 = DPQ070)\n",
    "\n",
    "\n",
    "weight_history_11_12 <- read_xpt(file.path(path_to_data_11_12, \"WHQ_G.xpt.txt\"))\n",
    "\n",
    "weight_history_11_12_selected <- weight_history_11_12 %>%\n",
    "    select(SEQN, WHQ060)\n",
    "\n",
    "\n",
    "audiometry_11_12 <- read_xpt(file.path(path_to_data_11_12, \"AUQ_G.xpt.txt\"))\n",
    "\n",
    "audiometry_11_12_selected <- audiometry_11_12 %>%\n",
    "  select(SEQN, AUQ054)\n",
    "\n",
    "audiometry_11_12_selected <- audiometry_11_12_selected %>%\n",
    "  mutate(AUQ054 = case_when(\n",
    "    AUQ054 %in% c(1, 2, 3) ~ 2,\n",
    "    AUQ054 %in% c(4, 5, 6) ~ 1,\n",
    "    TRUE ~ AUQ054\n",
    "  ))\n",
    "\n",
    "audiometry_11_12_selected <- audiometry_11_12_selected %>%\n",
    "  rename(DLQ010 = AUQ054)"
   ]
  },
  {
   "cell_type": "code",
   "execution_count": 5,
   "metadata": {
    "vscode": {
     "languageId": "r"
    }
   },
   "outputs": [],
   "source": [
    "# Datasets for 2013/14 period\n",
    "\n",
    "demo_13_14 <- read_xpt(file.path(path_to_data_12_13, \"DEMO_H.xpt.txt\"))\n",
    "\n",
    "demo_13_14_selected <- demo_13_14 %>%\n",
    "    select(SEQN, RIAGENDR, RIDAGEYR, RIDRETH1, DMDEDUC2, INDFMPIR)\n",
    "\n",
    "\n",
    "alcohol_13_14 <- read_xpt(file.path(path_to_data_12_13, \"ALQ_H.xpt.txt\"))\n",
    "\n",
    "alcohol_13_14_selected <- alcohol_13_14 %>%\n",
    "    select(SEQN, ALQ101)\n",
    "\n",
    "\n",
    "smoking_13_14 <- read_xpt(file.path(path_to_data_12_13, \"SMQ_H.xpt.txt\"))\n",
    "\n",
    "smoking_13_14_selected <- smoking_13_14 %>%\n",
    "    select(SEQN, SMQ020)\n",
    "\n",
    "\n",
    "med_conditions_13_14 <- read_xpt(file.path(path_to_data_12_13, \"MCQ_H.xpt.txt\"))\n",
    "\n",
    "med_conditions_13_14_selected <- med_conditions_13_14 %>%\n",
    "    select(SEQN, MCQ160B, MCQ160C, MCQ160D, MCQ160E, MCQ160F, MCQ160L, MCQ220)\n",
    "\n",
    "\n",
    "blood_pressure_13_14 <- read_xpt(file.path(path_to_data_12_13, \"BPQ_H.xpt.txt\"))\n",
    "\n",
    "blood_pressure_13_14_selected <- blood_pressure_13_14 %>%\n",
    "    select(SEQN, BPQ020)\n",
    "\n",
    "\n",
    "diabetes_13_14 <- read_xpt(file.path(path_to_data_12_13, \"DIQ_H.xpt.txt\"))\n",
    "\n",
    "diabetes_13_14_selected <- diabetes_13_14 %>%\n",
    "    select(SEQN, DIQ010)\n",
    "\n",
    "\n",
    "teeth_13_14 <- read_xpt(file.path(path_to_data_12_13, \"OHXDEN_H.xpt.txt\"))\n",
    "\n",
    "selected_cols <- colnames(teeth_13_14)[grepl(\"^OHX\\\\d{2}TC\", colnames(teeth_13_14))]\n",
    "\n",
    "teeth_13_14_selected <- teeth_13_14 %>%\n",
    "    select(SEQN, all_of(selected_cols))\n",
    "\n",
    "\n",
    "locomotion_13_14 <- read_xpt(file.path(path_to_data_12_13, \"PFQ061I.txt\"))\n",
    "\n",
    "locomotion_13_14_selected <- locomotion_13_14 %>%\n",
    "    select(SEQN, PFQ061I)\n",
    "\n",
    "\n",
    "disability_13_14 <- read_xpt(file.path(path_to_data_12_13, \"DLQ040.txt\"))\n",
    "\n",
    "disability_13_14_selected <- disability_13_14 %>%\n",
    "    select(SEQN, DLQ010, DLQ020, DLQ040)\n",
    "\n",
    "\n",
    "mental_health_13_14 <- read_xpt(file.path(path_to_data_12_13, \"DPQ-.txt\"))\n",
    "\n",
    "mental_health_13_14_selected <- mental_health_13_14 %>%\n",
    "    select(SEQN, DPQ010, DPQ020, DPQ050)\n",
    "\n",
    "\n",
    "weight_history_13_14 <- read_xpt(file.path(path_to_data_12_13, \"WHQ060.txt\"))\n",
    "\n",
    "weight_history_13_14_selected <- weight_history_13_14 %>%\n",
    "    select(SEQN, WHQ060)"
   ]
  },
  {
   "cell_type": "code",
   "execution_count": 6,
   "metadata": {
    "vscode": {
     "languageId": "r"
    }
   },
   "outputs": [
    {
     "data": {
      "text/html": [
       "<style>\n",
       ".list-inline {list-style: none; margin:0; padding: 0}\n",
       ".list-inline>li {display: inline-block}\n",
       ".list-inline>li:not(:last-child)::after {content: \"\\00b7\"; padding: 0 .5ex}\n",
       "</style>\n",
       "<ol class=list-inline><li>8189</li><li>33</li></ol>\n"
      ],
      "text/latex": [
       "\\begin{enumerate*}\n",
       "\\item 8189\n",
       "\\item 33\n",
       "\\end{enumerate*}\n"
      ],
      "text/markdown": [
       "1. 8189\n",
       "2. 33\n",
       "\n",
       "\n"
      ],
      "text/plain": [
       "[1] 8189   33"
      ]
     },
     "metadata": {},
     "output_type": "display_data"
    },
    {
     "data": {
      "text/html": [
       "<style>\n",
       ".list-inline {list-style: none; margin:0; padding: 0}\n",
       ".list-inline>li {display: inline-block}\n",
       ".list-inline>li:not(:last-child)::after {content: \"\\00b7\"; padding: 0 .5ex}\n",
       "</style>\n",
       "<ol class=list-inline><li>8956</li><li>33</li></ol>\n"
      ],
      "text/latex": [
       "\\begin{enumerate*}\n",
       "\\item 8956\n",
       "\\item 33\n",
       "\\end{enumerate*}\n"
      ],
      "text/markdown": [
       "1. 8956\n",
       "2. 33\n",
       "\n",
       "\n"
      ],
      "text/plain": [
       "[1] 8956   33"
      ]
     },
     "metadata": {},
     "output_type": "display_data"
    },
    {
     "data": {
      "text/html": [
       "<style>\n",
       ".list-inline {list-style: none; margin:0; padding: 0}\n",
       ".list-inline>li {display: inline-block}\n",
       ".list-inline>li:not(:last-child)::after {content: \"\\00b7\"; padding: 0 .5ex}\n",
       "</style>\n",
       "<ol class=list-inline><li>9422</li><li>33</li></ol>\n"
      ],
      "text/latex": [
       "\\begin{enumerate*}\n",
       "\\item 9422\n",
       "\\item 33\n",
       "\\end{enumerate*}\n"
      ],
      "text/markdown": [
       "1. 9422\n",
       "2. 33\n",
       "\n",
       "\n"
      ],
      "text/plain": [
       "[1] 9422   33"
      ]
     },
     "metadata": {},
     "output_type": "display_data"
    }
   ],
   "source": [
    "dim(teeth_09_10_selected)\n",
    "dim(teeth_11_12_selected)\n",
    "dim(teeth_13_14_selected)"
   ]
  },
  {
   "cell_type": "markdown",
   "metadata": {},
   "source": [
    "### Merge datasets without NA and missing values\n",
    "> Merge all data from each datasets and then exclude patients"
   ]
  },
  {
   "cell_type": "code",
   "execution_count": 7,
   "metadata": {
    "vscode": {
     "languageId": "r"
    }
   },
   "outputs": [
    {
     "name": "stdout",
     "output_type": "stream",
     "text": [
      "[1] \"Dimensions before removing NA values\"\n"
     ]
    },
    {
     "data": {
      "text/html": [
       "<style>\n",
       ".list-inline {list-style: none; margin:0; padding: 0}\n",
       ".list-inline>li {display: inline-block}\n",
       ".list-inline>li:not(:last-child)::after {content: \"\\00b7\"; padding: 0 .5ex}\n",
       "</style>\n",
       "<ol class=list-inline><li>30468</li><li>57</li></ol>\n"
      ],
      "text/latex": [
       "\\begin{enumerate*}\n",
       "\\item 30468\n",
       "\\item 57\n",
       "\\end{enumerate*}\n"
      ],
      "text/markdown": [
       "1. 30468\n",
       "2. 57\n",
       "\n",
       "\n"
      ],
      "text/plain": [
       "[1] 30468    57"
      ]
     },
     "metadata": {},
     "output_type": "display_data"
    },
    {
     "name": "stdout",
     "output_type": "stream",
     "text": [
      "[1] \"Dimensions with AGE >= 60\"\n"
     ]
    },
    {
     "data": {
      "text/html": [
       "<style>\n",
       ".list-inline {list-style: none; margin:0; padding: 0}\n",
       ".list-inline>li {display: inline-block}\n",
       ".list-inline>li:not(:last-child)::after {content: \"\\00b7\"; padding: 0 .5ex}\n",
       "</style>\n",
       "<ol class=list-inline><li>5705</li><li>57</li></ol>\n"
      ],
      "text/latex": [
       "\\begin{enumerate*}\n",
       "\\item 5705\n",
       "\\item 57\n",
       "\\end{enumerate*}\n"
      ],
      "text/markdown": [
       "1. 5705\n",
       "2. 57\n",
       "\n",
       "\n"
      ],
      "text/plain": [
       "[1] 5705   57"
      ]
     },
     "metadata": {},
     "output_type": "display_data"
    },
    {
     "name": "stdout",
     "output_type": "stream",
     "text": [
      "[1] \"Dimensions without IC missing values\"\n"
     ]
    },
    {
     "data": {
      "text/html": [
       "<style>\n",
       ".list-inline {list-style: none; margin:0; padding: 0}\n",
       ".list-inline>li {display: inline-block}\n",
       ".list-inline>li:not(:last-child)::after {content: \"\\00b7\"; padding: 0 .5ex}\n",
       "</style>\n",
       "<ol class=list-inline><li>994</li><li>57</li></ol>\n"
      ],
      "text/latex": [
       "\\begin{enumerate*}\n",
       "\\item 994\n",
       "\\item 57\n",
       "\\end{enumerate*}\n"
      ],
      "text/markdown": [
       "1. 994\n",
       "2. 57\n",
       "\n",
       "\n"
      ],
      "text/plain": [
       "[1] 994  57"
      ]
     },
     "metadata": {},
     "output_type": "display_data"
    },
    {
     "name": "stdout",
     "output_type": "stream",
     "text": [
      "[1] \"Dimensions without Teeth counts missing values\"\n"
     ]
    },
    {
     "data": {
      "text/html": [
       "<style>\n",
       ".list-inline {list-style: none; margin:0; padding: 0}\n",
       ".list-inline>li {display: inline-block}\n",
       ".list-inline>li:not(:last-child)::after {content: \"\\00b7\"; padding: 0 .5ex}\n",
       "</style>\n",
       "<ol class=list-inline><li>881</li><li>57</li></ol>\n"
      ],
      "text/latex": [
       "\\begin{enumerate*}\n",
       "\\item 881\n",
       "\\item 57\n",
       "\\end{enumerate*}\n"
      ],
      "text/markdown": [
       "1. 881\n",
       "2. 57\n",
       "\n",
       "\n"
      ],
      "text/plain": [
       "[1] 881  57"
      ]
     },
     "metadata": {},
     "output_type": "display_data"
    },
    {
     "name": "stdout",
     "output_type": "stream",
     "text": [
      "[1] \"Dimensions without Confounding missing values\"\n"
     ]
    },
    {
     "data": {
      "text/html": [
       "<style>\n",
       ".list-inline {list-style: none; margin:0; padding: 0}\n",
       ".list-inline>li {display: inline-block}\n",
       ".list-inline>li:not(:last-child)::after {content: \"\\00b7\"; padding: 0 .5ex}\n",
       "</style>\n",
       "<ol class=list-inline><li>787</li><li>57</li></ol>\n"
      ],
      "text/latex": [
       "\\begin{enumerate*}\n",
       "\\item 787\n",
       "\\item 57\n",
       "\\end{enumerate*}\n"
      ],
      "text/markdown": [
       "1. 787\n",
       "2. 57\n",
       "\n",
       "\n"
      ],
      "text/plain": [
       "[1] 787  57"
      ]
     },
     "metadata": {},
     "output_type": "display_data"
    }
   ],
   "source": [
    "# Merge datasets demographics and intrinsic capacity data\n",
    "\n",
    "datasets_09_10 <- list(\n",
    "  demo_09_10_selected, alcohol_09_10_selected, smoking_09_10_selected, med_conditions_09_10_selected,\n",
    "  blood_pressure_09_10_selected, diabetes_09_10_selected,\n",
    "  locomotion_09_10_selected, mental_health_09_10_selected,\n",
    "  weight_history_09_10_selected, audiometry_09_10_selected, teeth_09_10_selected\n",
    ")\n",
    "\n",
    "datasets_11_12 <- list(\n",
    "  demo_11_12_selected, alcohol_11_12_selected, smoking_11_12_selected, med_conditions_11_12_selected,\n",
    "  blood_pressure_11_12_selected, diabetes_11_12_selected,\n",
    "  locomotion_11_12_selected, mental_health_11_12_selected,\n",
    "  weight_history_11_12_selected, audiometry_11_12_selected, teeth_11_12_selected\n",
    ")\n",
    "\n",
    "datasets_13_14 <- list(\n",
    "  demo_13_14_selected, alcohol_13_14_selected, smoking_13_14_selected, med_conditions_13_14_selected,\n",
    "  blood_pressure_13_14_selected, diabetes_13_14_selected,\n",
    "  locomotion_13_14_selected, disability_13_14_selected, mental_health_13_14_selected,\n",
    "  weight_history_13_14_selected, teeth_13_14_selected\n",
    ")\n",
    "\n",
    "# Horizontal union for period 2009/10, 2011/12, 2013/14\n",
    "\n",
    "df_09_10 <- Reduce(function(x, y) full_join(x, y, by = \"SEQN\"), datasets_09_10)\n",
    "\n",
    "df_11_12 <- Reduce(function(x, y) full_join(x, y, by = \"SEQN\"), datasets_11_12)\n",
    "\n",
    "df_13_14 <- Reduce(function(x, y) full_join(x, y, by = \"SEQN\"), datasets_13_14)\n",
    "\n",
    "# Vertical union\n",
    "\n",
    "df_final <- bind_rows(df_09_10, df_11_12, df_13_14)\n",
    "\n",
    "print(\"Dimensions before removing NA values\")\n",
    "dim(df_final)\n",
    "\n",
    "# Filter with AGE >= 60\n",
    "\n",
    "df_final_age_60 <- subset(df_final, RIDAGEYR >= 60)\n",
    "\n",
    "print(\"Dimensions with AGE >= 60\")\n",
    "dim(df_final_age_60)\n",
    "\n",
    "# Excluding patients with missing values in Intrinsic Capacity features\n",
    "\n",
    "df_final_excluding_IC <- df_final_age_60[complete.cases(df_final_age_60[, c('DLQ020', 'PFQ061I', 'DPQ010', 'DPQ020', 'DPQ050', 'DLQ040', 'WHQ060', 'DLQ010')]), ]\n",
    "\n",
    "df_final_excluding_IC <- df_final_excluding_IC %>%\n",
    "  filter(!if_any(c(DLQ020, PFQ061I, DLQ040, WHQ060, DLQ010,\n",
    "                   DPQ020, DPQ050, DPQ010), ~ . == 9))\n",
    "\n",
    "df_final_excluding_IC <- df_final_excluding_IC %>%\n",
    "  filter(!if_any(c(DLQ020, PFQ061I, DLQ040, WHQ060, DLQ010,\n",
    "                   DPQ020, DPQ050, DPQ010), ~ . == 7))\n",
    "\n",
    "df_final_excluding_IC <- df_final_excluding_IC %>%\n",
    "  filter(!if_any(c(DLQ020, PFQ061I, DLQ040, WHQ060, DLQ010,\n",
    "                   DPQ020, DPQ050, DPQ010), ~ . == 99))\n",
    "\n",
    "print(\"Dimensions without IC missing values\")\n",
    "dim(df_final_excluding_IC)\n",
    "\n",
    "# Excluding patients with no examinations for Teeth counts\n",
    "\n",
    "df_final_excluding_teeth <- df_final_excluding_IC %>%\n",
    "  filter(rowSums(!is.na(select(., starts_with(\"OHX\")))) > 0)\n",
    "\n",
    "print(\"Dimensions without Teeth counts missing values\")\n",
    "dim(df_final_excluding_teeth)\n",
    "\n",
    "# Excluding patients with missing values in Confounding features\n",
    "\n",
    "df_final_excluding_confounding <- df_final_excluding_teeth[complete.cases(df_final_excluding_teeth[, \n",
    "                                  c('RIAGENDR', 'RIDAGEYR', 'RIDRETH1', 'DMDEDUC2', 'INDFMPIR', 'ALQ101', 'SMQ020', 'MCQ160B',\n",
    "                                  'MCQ160C', 'MCQ160D', 'MCQ160E', 'MCQ160F', 'MCQ160L', 'MCQ220', 'BPQ020', 'DIQ010')]), ]\n",
    "\n",
    "df_final_merged <- df_final_excluding_confounding %>%\n",
    "  filter(!if_any(c(DMDEDUC2, ALQ101, MCQ160B, MCQ160C, MCQ160D,\n",
    "                   MCQ160E, MCQ160F, MCQ160L, BPQ020, DIQ010), ~ . == 9))\n",
    "\n",
    "print(\"Dimensions without Confounding missing values\")\n",
    "dim(df_final_merged)"
   ]
  },
  {
   "cell_type": "markdown",
   "metadata": {},
   "source": [
    "### Teeth counts\n",
    "> two categories: >=20 teeth or < 20 teeth"
   ]
  },
  {
   "cell_type": "code",
   "execution_count": null,
   "metadata": {
    "vscode": {
     "languageId": "r"
    }
   },
   "outputs": [
    {
     "data": {
      "text/html": [
       "<table class=\"dataframe\">\n",
       "<caption>A tibble: 4 x 57</caption>\n",
       "<thead>\n",
       "\t<tr><th scope=col>SEQN</th><th scope=col>RIAGENDR</th><th scope=col>RIDAGEYR</th><th scope=col>RIDRETH1</th><th scope=col>DMDEDUC2</th><th scope=col>INDFMPIR</th><th scope=col>ALQ101</th><th scope=col>SMQ020</th><th scope=col>DLQ020</th><th scope=col>MCQ160B</th><th scope=col>...</th><th scope=col>OHX23TC</th><th scope=col>OHX24TC</th><th scope=col>OHX25TC</th><th scope=col>OHX26TC</th><th scope=col>OHX27TC</th><th scope=col>OHX28TC</th><th scope=col>OHX29TC</th><th scope=col>OHX30TC</th><th scope=col>OHX31TC</th><th scope=col>OHX32TC</th></tr>\n",
       "\t<tr><th scope=col>&lt;dbl&gt;</th><th scope=col>&lt;dbl&gt;</th><th scope=col>&lt;dbl&gt;</th><th scope=col>&lt;dbl&gt;</th><th scope=col>&lt;dbl&gt;</th><th scope=col>&lt;dbl&gt;</th><th scope=col>&lt;dbl&gt;</th><th scope=col>&lt;dbl&gt;</th><th scope=col>&lt;dbl&gt;</th><th scope=col>&lt;dbl&gt;</th><th scope=col>...</th><th scope=col>&lt;dbl&gt;</th><th scope=col>&lt;dbl&gt;</th><th scope=col>&lt;dbl&gt;</th><th scope=col>&lt;dbl&gt;</th><th scope=col>&lt;dbl&gt;</th><th scope=col>&lt;dbl&gt;</th><th scope=col>&lt;dbl&gt;</th><th scope=col>&lt;dbl&gt;</th><th scope=col>&lt;dbl&gt;</th><th scope=col>&lt;dbl&gt;</th></tr>\n",
       "</thead>\n",
       "<tbody>\n",
       "\t<tr><td>60998</td><td>2</td><td>60</td><td>2</td><td>1</td><td>2.64</td><td>2</td><td>1</td><td>2</td><td>2</td><td>...</td><td>4</td><td>4</td><td>4</td><td>4</td><td>5</td><td>4</td><td>4</td><td>4</td><td>4</td><td>4</td></tr>\n",
       "\t<tr><td>64973</td><td>1</td><td>64</td><td>3</td><td>3</td><td>1.13</td><td>1</td><td>2</td><td>2</td><td>2</td><td>...</td><td>4</td><td>4</td><td>4</td><td>4</td><td>5</td><td>4</td><td>4</td><td>4</td><td>4</td><td>4</td></tr>\n",
       "\t<tr><td>74674</td><td>2</td><td>67</td><td>1</td><td>1</td><td>0.97</td><td>2</td><td>2</td><td>2</td><td>2</td><td>...</td><td>4</td><td>4</td><td>4</td><td>4</td><td>4</td><td>4</td><td>5</td><td>4</td><td>4</td><td>4</td></tr>\n",
       "\t<tr><td>78009</td><td>1</td><td>80</td><td>4</td><td>2</td><td>1.39</td><td>1</td><td>1</td><td>1</td><td>2</td><td>...</td><td>5</td><td>5</td><td>5</td><td>5</td><td>5</td><td>5</td><td>5</td><td>4</td><td>4</td><td>4</td></tr>\n",
       "</tbody>\n",
       "</table>\n"
      ],
      "text/latex": [
       "A tibble: 4 x 57\n",
       "\\begin{tabular}{lllllllllllllllllllll}\n",
       " SEQN & RIAGENDR & RIDAGEYR & RIDRETH1 & DMDEDUC2 & INDFMPIR & ALQ101 & SMQ020 & DLQ020 & MCQ160B & ... & OHX23TC & OHX24TC & OHX25TC & OHX26TC & OHX27TC & OHX28TC & OHX29TC & OHX30TC & OHX31TC & OHX32TC\\\\\n",
       " <dbl> & <dbl> & <dbl> & <dbl> & <dbl> & <dbl> & <dbl> & <dbl> & <dbl> & <dbl> & ... & <dbl> & <dbl> & <dbl> & <dbl> & <dbl> & <dbl> & <dbl> & <dbl> & <dbl> & <dbl>\\\\\n",
       "\\hline\n",
       "\t 60998 & 2 & 60 & 2 & 1 & 2.64 & 2 & 1 & 2 & 2 & ... & 4 & 4 & 4 & 4 & 5 & 4 & 4 & 4 & 4 & 4\\\\\n",
       "\t 64973 & 1 & 64 & 3 & 3 & 1.13 & 1 & 2 & 2 & 2 & ... & 4 & 4 & 4 & 4 & 5 & 4 & 4 & 4 & 4 & 4\\\\\n",
       "\t 74674 & 2 & 67 & 1 & 1 & 0.97 & 2 & 2 & 2 & 2 & ... & 4 & 4 & 4 & 4 & 4 & 4 & 5 & 4 & 4 & 4\\\\\n",
       "\t 78009 & 1 & 80 & 4 & 2 & 1.39 & 1 & 1 & 1 & 2 & ... & 5 & 5 & 5 & 5 & 5 & 5 & 5 & 4 & 4 & 4\\\\\n",
       "\\end{tabular}\n"
      ],
      "text/markdown": [
       "\n",
       "A tibble: 4 x 57\n",
       "\n",
       "| SEQN &lt;dbl&gt; | RIAGENDR &lt;dbl&gt; | RIDAGEYR &lt;dbl&gt; | RIDRETH1 &lt;dbl&gt; | DMDEDUC2 &lt;dbl&gt; | INDFMPIR &lt;dbl&gt; | ALQ101 &lt;dbl&gt; | SMQ020 &lt;dbl&gt; | DLQ020 &lt;dbl&gt; | MCQ160B &lt;dbl&gt; | ... ... | OHX23TC &lt;dbl&gt; | OHX24TC &lt;dbl&gt; | OHX25TC &lt;dbl&gt; | OHX26TC &lt;dbl&gt; | OHX27TC &lt;dbl&gt; | OHX28TC &lt;dbl&gt; | OHX29TC &lt;dbl&gt; | OHX30TC &lt;dbl&gt; | OHX31TC &lt;dbl&gt; | OHX32TC &lt;dbl&gt; |\n",
       "|---|---|---|---|---|---|---|---|---|---|---|---|---|---|---|---|---|---|---|---|---|\n",
       "| 60998 | 2 | 60 | 2 | 1 | 2.64 | 2 | 1 | 2 | 2 | ... | 4 | 4 | 4 | 4 | 5 | 4 | 4 | 4 | 4 | 4 |\n",
       "| 64973 | 1 | 64 | 3 | 3 | 1.13 | 1 | 2 | 2 | 2 | ... | 4 | 4 | 4 | 4 | 5 | 4 | 4 | 4 | 4 | 4 |\n",
       "| 74674 | 2 | 67 | 1 | 1 | 0.97 | 2 | 2 | 2 | 2 | ... | 4 | 4 | 4 | 4 | 4 | 4 | 5 | 4 | 4 | 4 |\n",
       "| 78009 | 1 | 80 | 4 | 2 | 1.39 | 1 | 1 | 1 | 2 | ... | 5 | 5 | 5 | 5 | 5 | 5 | 5 | 4 | 4 | 4 |\n",
       "\n"
      ],
      "text/plain": [
       "  SEQN  RIAGENDR RIDAGEYR RIDRETH1 DMDEDUC2 INDFMPIR ALQ101 SMQ020 DLQ020\n",
       "1 60998 2        60       2        1        2.64     2      1      2     \n",
       "2 64973 1        64       3        3        1.13     1      2      2     \n",
       "3 74674 2        67       1        1        0.97     2      2      2     \n",
       "4 78009 1        80       4        2        1.39     1      1      1     \n",
       "  MCQ160B ... OHX23TC OHX24TC OHX25TC OHX26TC OHX27TC OHX28TC OHX29TC OHX30TC\n",
       "1 2       ... 4       4       4       4       5       4       4       4      \n",
       "2 2       ... 4       4       4       4       5       4       4       4      \n",
       "3 2       ... 4       4       4       4       4       4       5       4      \n",
       "4 2       ... 5       5       5       5       5       5       5       4      \n",
       "  OHX31TC OHX32TC\n",
       "1 4       4      \n",
       "2 4       4      \n",
       "3 4       4      \n",
       "4 4       4      "
      ]
     },
     "metadata": {},
     "output_type": "display_data"
    }
   ],
   "source": [
    "# Functions to check if there are patients with zero permanent teeth, and moreover, patients with only not present teeth and fragments/root\n",
    "\n",
    "find_patients_no_teeth <- function(df) {\n",
    "  # Seleziona le colonne dei denti (OHXxxTC)\n",
    "  teeth_cols <- grep(\"^OHX\\\\d{2}TC$\", names(df), value = TRUE)\n",
    "  \n",
    "  # Identifica i pazienti che non hanno nemmeno un valore 2\n",
    "  no_teeth_patients <- df[rowSums(df[, teeth_cols] == 2, na.rm = TRUE) == 0, ]\n",
    "  \n",
    "  # Restituisce gli ID dei pazienti senza denti naturali\n",
    "  return(no_teeth_patients)\n",
    "}\n",
    "\n",
    "find_patients_with_non4_values <- function(df) {\n",
    "  \n",
    "  teeth_cols <- grep(\"^OHX\\\\d{2}TC$\", names(df), value = TRUE)\n",
    "\n",
    "  no_teeth_patients <- find_patients_no_teeth(df)\n",
    "\n",
    "  patients_with_non4 <- no_teeth_patients[rowSums(no_teeth_patients[, teeth_cols] != 4, na.rm = TRUE) > 0, ]\n",
    "\n",
    "  return(patients_with_non4)\n",
    "\n",
    "}\n",
    "\n",
    "test_edentolus <- find_patients_with_non4_values(df_final_merged)\n",
    "head(test_edentolus)"
   ]
  },
  {
   "cell_type": "code",
   "execution_count": 34,
   "metadata": {
    "vscode": {
     "languageId": "r"
    }
   },
   "outputs": [
    {
     "data": {
      "text/html": [
       "<table class=\"dataframe\">\n",
       "<caption>A data.frame: 6 x 29</caption>\n",
       "<thead>\n",
       "\t<tr><th></th><th scope=col>SEQN</th><th scope=col>RIAGENDR</th><th scope=col>RIDAGEYR</th><th scope=col>RIDRETH1</th><th scope=col>DMDEDUC2</th><th scope=col>INDFMPIR</th><th scope=col>ALQ101</th><th scope=col>SMQ020</th><th scope=col>DLQ020</th><th scope=col>MCQ160B</th><th scope=col>...</th><th scope=col>DPQ010</th><th scope=col>DPQ020</th><th scope=col>DPQ050</th><th scope=col>DLQ040</th><th scope=col>WHQ060</th><th scope=col>DLQ010</th><th scope=col>total_teeth</th><th scope=col>has_20_or_more_teeth</th><th scope=col>edentulous</th><th scope=col>teeth_category</th></tr>\n",
       "\t<tr><th></th><th scope=col>&lt;dbl&gt;</th><th scope=col>&lt;dbl&gt;</th><th scope=col>&lt;dbl&gt;</th><th scope=col>&lt;dbl&gt;</th><th scope=col>&lt;dbl&gt;</th><th scope=col>&lt;dbl&gt;</th><th scope=col>&lt;dbl&gt;</th><th scope=col>&lt;dbl&gt;</th><th scope=col>&lt;dbl&gt;</th><th scope=col>&lt;dbl&gt;</th><th scope=col>...</th><th scope=col>&lt;dbl&gt;</th><th scope=col>&lt;dbl&gt;</th><th scope=col>&lt;dbl&gt;</th><th scope=col>&lt;dbl&gt;</th><th scope=col>&lt;dbl&gt;</th><th scope=col>&lt;dbl&gt;</th><th scope=col>&lt;dbl&gt;</th><th scope=col>&lt;dbl&gt;</th><th scope=col>&lt;dbl&gt;</th><th scope=col>&lt;fct&gt;</th></tr>\n",
       "</thead>\n",
       "<tbody>\n",
       "\t<tr><th scope=row>1</th><td>51633</td><td>1</td><td>80</td><td>3</td><td>4</td><td>1.27</td><td>1</td><td>1</td><td>1</td><td>2</td><td>...</td><td>0</td><td>0</td><td>0</td><td>2</td><td>1</td><td>2</td><td> 6</td><td>0</td><td>0</td><td>Severe Loss (1-9)      </td></tr>\n",
       "\t<tr><th scope=row>2</th><td>51654</td><td>1</td><td>66</td><td>3</td><td>4</td><td>2.20</td><td>1</td><td>1</td><td>2</td><td>2</td><td>...</td><td>0</td><td>0</td><td>0</td><td>2</td><td>2</td><td>2</td><td>26</td><td>1</td><td>0</td><td>Nearly Complete (25-32)</td></tr>\n",
       "\t<tr><th scope=row>3</th><td>51680</td><td>2</td><td>60</td><td>4</td><td>4</td><td>2.59</td><td>1</td><td>1</td><td>1</td><td>2</td><td>...</td><td>0</td><td>1</td><td>1</td><td>2</td><td>1</td><td>2</td><td>20</td><td>1</td><td>0</td><td>Sufficient (20-24)     </td></tr>\n",
       "\t<tr><th scope=row>4</th><td>51687</td><td>1</td><td>78</td><td>3</td><td>5</td><td>5.00</td><td>1</td><td>1</td><td>2</td><td>2</td><td>...</td><td>0</td><td>0</td><td>0</td><td>2</td><td>2</td><td>2</td><td>28</td><td>1</td><td>0</td><td>Nearly Complete (25-32)</td></tr>\n",
       "\t<tr><th scope=row>5</th><td>51736</td><td>2</td><td>60</td><td>1</td><td>3</td><td>0.68</td><td>1</td><td>1</td><td>2</td><td>2</td><td>...</td><td>0</td><td>1</td><td>0</td><td>2</td><td>1</td><td>2</td><td>21</td><td>1</td><td>0</td><td>Sufficient (20-24)     </td></tr>\n",
       "\t<tr><th scope=row>6</th><td>51861</td><td>1</td><td>80</td><td>3</td><td>3</td><td>4.94</td><td>1</td><td>2</td><td>2</td><td>2</td><td>...</td><td>0</td><td>0</td><td>0</td><td>2</td><td>1</td><td>1</td><td> 8</td><td>0</td><td>0</td><td>Severe Loss (1-9)      </td></tr>\n",
       "</tbody>\n",
       "</table>\n"
      ],
      "text/latex": [
       "A data.frame: 6 x 29\n",
       "\\begin{tabular}{r|lllllllllllllllllllll}\n",
       "  & SEQN & RIAGENDR & RIDAGEYR & RIDRETH1 & DMDEDUC2 & INDFMPIR & ALQ101 & SMQ020 & DLQ020 & MCQ160B & ... & DPQ010 & DPQ020 & DPQ050 & DLQ040 & WHQ060 & DLQ010 & total\\_teeth & has\\_20\\_or\\_more\\_teeth & edentulous & teeth\\_category\\\\\n",
       "  & <dbl> & <dbl> & <dbl> & <dbl> & <dbl> & <dbl> & <dbl> & <dbl> & <dbl> & <dbl> & ... & <dbl> & <dbl> & <dbl> & <dbl> & <dbl> & <dbl> & <dbl> & <dbl> & <dbl> & <fct>\\\\\n",
       "\\hline\n",
       "\t1 & 51633 & 1 & 80 & 3 & 4 & 1.27 & 1 & 1 & 1 & 2 & ... & 0 & 0 & 0 & 2 & 1 & 2 &  6 & 0 & 0 & Severe Loss (1-9)      \\\\\n",
       "\t2 & 51654 & 1 & 66 & 3 & 4 & 2.20 & 1 & 1 & 2 & 2 & ... & 0 & 0 & 0 & 2 & 2 & 2 & 26 & 1 & 0 & Nearly Complete (25-32)\\\\\n",
       "\t3 & 51680 & 2 & 60 & 4 & 4 & 2.59 & 1 & 1 & 1 & 2 & ... & 0 & 1 & 1 & 2 & 1 & 2 & 20 & 1 & 0 & Sufficient (20-24)     \\\\\n",
       "\t4 & 51687 & 1 & 78 & 3 & 5 & 5.00 & 1 & 1 & 2 & 2 & ... & 0 & 0 & 0 & 2 & 2 & 2 & 28 & 1 & 0 & Nearly Complete (25-32)\\\\\n",
       "\t5 & 51736 & 2 & 60 & 1 & 3 & 0.68 & 1 & 1 & 2 & 2 & ... & 0 & 1 & 0 & 2 & 1 & 2 & 21 & 1 & 0 & Sufficient (20-24)     \\\\\n",
       "\t6 & 51861 & 1 & 80 & 3 & 3 & 4.94 & 1 & 2 & 2 & 2 & ... & 0 & 0 & 0 & 2 & 1 & 1 &  8 & 0 & 0 & Severe Loss (1-9)      \\\\\n",
       "\\end{tabular}\n"
      ],
      "text/markdown": [
       "\n",
       "A data.frame: 6 x 29\n",
       "\n",
       "| <!--/--> | SEQN &lt;dbl&gt; | RIAGENDR &lt;dbl&gt; | RIDAGEYR &lt;dbl&gt; | RIDRETH1 &lt;dbl&gt; | DMDEDUC2 &lt;dbl&gt; | INDFMPIR &lt;dbl&gt; | ALQ101 &lt;dbl&gt; | SMQ020 &lt;dbl&gt; | DLQ020 &lt;dbl&gt; | MCQ160B &lt;dbl&gt; | ... ... | DPQ010 &lt;dbl&gt; | DPQ020 &lt;dbl&gt; | DPQ050 &lt;dbl&gt; | DLQ040 &lt;dbl&gt; | WHQ060 &lt;dbl&gt; | DLQ010 &lt;dbl&gt; | total_teeth &lt;dbl&gt; | has_20_or_more_teeth &lt;dbl&gt; | edentulous &lt;dbl&gt; | teeth_category &lt;fct&gt; |\n",
       "|---|---|---|---|---|---|---|---|---|---|---|---|---|---|---|---|---|---|---|---|---|---|\n",
       "| 1 | 51633 | 1 | 80 | 3 | 4 | 1.27 | 1 | 1 | 1 | 2 | ... | 0 | 0 | 0 | 2 | 1 | 2 |  6 | 0 | 0 | Severe Loss (1-9)       |\n",
       "| 2 | 51654 | 1 | 66 | 3 | 4 | 2.20 | 1 | 1 | 2 | 2 | ... | 0 | 0 | 0 | 2 | 2 | 2 | 26 | 1 | 0 | Nearly Complete (25-32) |\n",
       "| 3 | 51680 | 2 | 60 | 4 | 4 | 2.59 | 1 | 1 | 1 | 2 | ... | 0 | 1 | 1 | 2 | 1 | 2 | 20 | 1 | 0 | Sufficient (20-24)      |\n",
       "| 4 | 51687 | 1 | 78 | 3 | 5 | 5.00 | 1 | 1 | 2 | 2 | ... | 0 | 0 | 0 | 2 | 2 | 2 | 28 | 1 | 0 | Nearly Complete (25-32) |\n",
       "| 5 | 51736 | 2 | 60 | 1 | 3 | 0.68 | 1 | 1 | 2 | 2 | ... | 0 | 1 | 0 | 2 | 1 | 2 | 21 | 1 | 0 | Sufficient (20-24)      |\n",
       "| 6 | 51861 | 1 | 80 | 3 | 3 | 4.94 | 1 | 2 | 2 | 2 | ... | 0 | 0 | 0 | 2 | 1 | 1 |  8 | 0 | 0 | Severe Loss (1-9)       |\n",
       "\n"
      ],
      "text/plain": [
       "  SEQN  RIAGENDR RIDAGEYR RIDRETH1 DMDEDUC2 INDFMPIR ALQ101 SMQ020 DLQ020\n",
       "1 51633 1        80       3        4        1.27     1      1      1     \n",
       "2 51654 1        66       3        4        2.20     1      1      2     \n",
       "3 51680 2        60       4        4        2.59     1      1      1     \n",
       "4 51687 1        78       3        5        5.00     1      1      2     \n",
       "5 51736 2        60       1        3        0.68     1      1      2     \n",
       "6 51861 1        80       3        3        4.94     1      2      2     \n",
       "  MCQ160B ... DPQ010 DPQ020 DPQ050 DLQ040 WHQ060 DLQ010 total_teeth\n",
       "1 2       ... 0      0      0      2      1      2       6         \n",
       "2 2       ... 0      0      0      2      2      2      26         \n",
       "3 2       ... 0      1      1      2      1      2      20         \n",
       "4 2       ... 0      0      0      2      2      2      28         \n",
       "5 2       ... 0      1      0      2      1      2      21         \n",
       "6 2       ... 0      0      0      2      1      1       8         \n",
       "  has_20_or_more_teeth edentulous teeth_category         \n",
       "1 0                    0          Severe Loss (1-9)      \n",
       "2 1                    0          Nearly Complete (25-32)\n",
       "3 1                    0          Sufficient (20-24)     \n",
       "4 1                    0          Nearly Complete (25-32)\n",
       "5 1                    0          Sufficient (20-24)     \n",
       "6 0                    0          Severe Loss (1-9)      "
      ]
     },
     "metadata": {},
     "output_type": "display_data"
    }
   ],
   "source": [
    "# Function to calculate total number of teeth for each patient and categorize it\n",
    "\n",
    "count_teeth <- function(df) {\n",
    "\n",
    "  teeth_cols <- grep(\"^OHX\\\\d{2}TC$\", names(df), value = TRUE)\n",
    "  \n",
    "  df$total_teeth <- rowSums(df[, teeth_cols] == 2, na.rm = TRUE)\n",
    "  \n",
    "  # Binary category: 1 if >=20 teeth, 0 otherwise\n",
    "  df$has_20_or_more_teeth <- ifelse(df$total_teeth >= 20, 1, 0)\n",
    "  \n",
    "  # edentulous patients (every 32 teeth with value 4 or 5)\n",
    "  df$edentulous <- ifelse(rowSums(df[, teeth_cols] == 4 | df[, teeth_cols] == 5, na.rm = TRUE) == length(teeth_cols), 1, 0)\n",
    "  \n",
    "  # Other possible categories: Edentulous, Severe, Moderate, Sufficient, Nearly Complete\n",
    "  df$teeth_category <- cut(\n",
    "    df$total_teeth,\n",
    "    breaks = c(-Inf, 0, 9, 19, 24, 32),\n",
    "    labels = c(\"Edentulous\", \"Severe Loss (1-9)\", \"Moderate Loss (10-19)\", \"Sufficient (20-24)\", \"Nearly Complete (25-32)\"),\n",
    "    right = TRUE\n",
    "  )\n",
    "  \n",
    "  df <- df[, !names(df) %in% teeth_cols]\n",
    "  \n",
    "  return(df)\n",
    "}\n",
    "\n",
    "df <- as.data.frame(count_teeth(df_final_merged))\n",
    "head(df)"
   ]
  },
  {
   "cell_type": "code",
   "execution_count": 35,
   "metadata": {
    "vscode": {
     "languageId": "r"
    }
   },
   "outputs": [],
   "source": [
    "# Saving preprocessed \n",
    "\n",
    "write.csv(df, \"/Users/silvanoquarto/Desktop/LAVORO/MEDICAL_PHYSICS/Med-Physics/data/NHANES/preprocessed_df_teeth_09_14.csv\", row.names=FALSE)"
   ]
  },
  {
   "cell_type": "code",
   "execution_count": null,
   "metadata": {
    "vscode": {
     "languageId": "r"
    }
   },
   "outputs": [],
   "source": []
  }
 ],
 "metadata": {
  "kernelspec": {
   "display_name": "R",
   "language": "R",
   "name": "ir"
  },
  "language_info": {
   "codemirror_mode": "r",
   "file_extension": ".r",
   "mimetype": "text/x-r-source",
   "name": "R",
   "pygments_lexer": "r",
   "version": "4.4.2"
  }
 },
 "nbformat": 4,
 "nbformat_minor": 2
}
