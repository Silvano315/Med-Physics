{
 "cells": [
  {
   "cell_type": "markdown",
   "metadata": {},
   "source": [
    "# NHANES project about Periodontal disease: descriptive and regression analysis\n",
    "> This notebook has the purpose to collect all the analysis on Nhanes dataset for a medical paper project \n",
    "\n",
    "Requirements and Information:\n",
    "1. Nhanes dataset from 2009/10 to 2013/14\n",
    "2. 5 Intrinsic Capacity domains\n",
    "    1. Locomotion:\n",
    "        - Standingup from armless chair difficulty (PFQ061I)\n",
    "    2. Cognitive Function:\n",
    "        - Have serious difficulty concentrating (DLQ040)\n",
    "    3. Vitality:\n",
    "        - Weight change intentional (WHQ060)\n",
    "        - Poor appetite or overeating (DPQ050)\n",
    "    4. Psychological status:\n",
    "        - Feeling down, depressed, or hopeless (DPQ020)\n",
    "        - Have little interest in doing things (DPQ010)\n",
    "    5. Sensory domain:\n",
    "        - Have serious difficulty hearing? (DLQ010)\n",
    "        - Have serious difficulty seeing? (DLQ020)\n",
    "3. Outcome:\n",
    "    - calculated using Periodontal Exam (OHXPER_H) and CDC/AAP criteria (Eke et al., 2012)\n",
    "    - consists of 3 categories: None/Mild, Moderate, Severe\n",
    "4. Confounding Variables:\n",
    "    - Gender (RIAGENDR)\n",
    "    - Age at screening (RIDAGEYR)\n",
    "    - Race (RIDRETH1)\n",
    "    - Education\t(DMDEDUC2)\n",
    "    - Poverty income ratio (INDFMPIR)\n",
    "    - Smoking status (SMQ020)\n",
    "5. Mediators:\n",
    "    - Heart failure\t(RIDRETH1)  \n",
    "    - Coronary heart disease (MCQ160b)\n",
    "    - Stroke (MCQ160c)\n",
    "    - Liver disease\t(MCQ160o)\n",
    "    - Cancer (MCQ500)\n",
    "    - Diabetes (MCQ220)\n",
    "    - High blood pressure (DIQ010)\n",
    "6. Age => 60"
   ]
  },
  {
   "cell_type": "markdown",
   "metadata": {},
   "source": [
    "## NHANES 2013/14: Intrinsic Capacity and Periodontal disease"
   ]
  },
  {
   "cell_type": "markdown",
   "metadata": {},
   "source": [
    "### Import Libraries"
   ]
  },
  {
   "cell_type": "code",
   "execution_count": 25,
   "metadata": {
    "vscode": {
     "languageId": "r"
    }
   },
   "outputs": [],
   "source": [
    "library(haven)\n",
    "library(nhanesA)\n",
    "library(survey)\n",
    "library(MASS)\n",
    "library(dplyr)\n",
    "library(tidyr)\n",
    "library(tidyverse)\n",
    "library(ggplot2)\n",
    "library(readr)\n",
    "library(flextable)\n",
    "library(officer)\n",
    "library(nnet)\n",
    "library(broom)\n",
    "library(ggplot2)"
   ]
  },
  {
   "cell_type": "markdown",
   "metadata": {},
   "source": [
    "### Configurations"
   ]
  },
  {
   "cell_type": "code",
   "execution_count": 26,
   "metadata": {
    "vscode": {
     "languageId": "r"
    }
   },
   "outputs": [],
   "source": [
    "path_to_data <- \"/Users/silvanoquarto/Desktop/LAVORO/MEDICAL_PHYSICS/Med-Physics/data/NHANES/2013_14/\"\n",
    "\n",
    "path_to_data_09_10 <- \"/Users/silvanoquarto/Desktop/LAVORO/MEDICAL_PHYSICS/Med-Physics/data/NHANES/2009_10/\"\n",
    "path_to_data_11_12 <- \"/Users/silvanoquarto/Desktop/LAVORO/MEDICAL_PHYSICS/Med-Physics/data/NHANES/2011_12/\""
   ]
  },
  {
   "cell_type": "markdown",
   "metadata": {},
   "source": [
    "### Load Dataset & Feature Selection"
   ]
  },
  {
   "cell_type": "code",
   "execution_count": null,
   "metadata": {
    "vscode": {
     "languageId": "r"
    }
   },
   "outputs": [],
   "source": [
    "# Datasets for 2009/10 period\n",
    "\n",
    "demo_09_10 <- read_xpt(file.path(path_to_data_09_10, \"DEMO_F.xpt\"))\n",
    "\n",
    "demo_09_10_selected <- demo_09_10 %>%\n",
    "  select(SEQN, RIAGENDR, RIDAGEYR, RIDRETH1, DMDEDUC2, INDFMPIR)\n",
    "\n",
    "alcohol_09_10 <- read_xpt(file.path(path_to_data_09_10, \"ALQ_F.xpt\"))\n",
    "\n",
    "alcohol_09_10_selected <- alcohol_09_10 %>%\n",
    "  select(SEQN, ALQ101)\n",
    "\n",
    "smoking_09_10 <- read_xpt(file.path(path_to_data_09_10, \"SMQ_F.xpt.txt\"))\n",
    "\n",
    "smoking_09_10_selected <- smoking_09_10 %>%\n",
    "    select(SEQN, SMQ020)\n",
    "\n",
    "med_conditions_09_10 <- read_xpt(file.path(path_to_data_09_10, \"MCQ_F.xpt\"))\n",
    "\n",
    "med_conditions_09_10_selected <- med_conditions_09_10 %>%\n",
    "    select(SEQN, MCQ140, MCQ160B, MCQ160C, MCQ160D, MCQ160E, MCQ160F, MCQ160L, MCQ220)\n",
    "\n",
    "med_conditions_09_10_selected <- med_conditions_09_10_selected %>%\n",
    "  rename(DLQ020 = MCQ140)\n",
    "\n",
    "\n",
    "blood_pressure_09_10 <- read_xpt(file.path(path_to_data_09_10, \"BPQ_F.xpt\"))\n",
    "\n",
    "blood_pressure_09_10_selected <- blood_pressure_09_10 %>%\n",
    "    select(SEQN, BPQ020)\n",
    "\n",
    "\n",
    "diabetes_09_10 <- read_xpt(file.path(path_to_data_09_10, \"DIQ_F.xpt\"))\n",
    "\n",
    "diabetes_09_10_selected <- diabetes_09_10 %>%\n",
    "    select(SEQN, DIQ010)\n",
    "\n",
    "\n",
    "periodontal_09_10 <- read_xpt(file.path(path_to_data_09_10, \"OHXPER_F.xpt.txt\"))\n",
    "\n",
    "selected_cols <- colnames(periodontal_09_10)[grepl(\"^OHX\\\\d{2}(PC|LA)[A-Z]$\", colnames(periodontal_09_10))]\n",
    "\n",
    "periodontal_09_10_selected <- periodontal_09_10 %>%\n",
    "    select(SEQN, all_of(selected_cols))\n",
    "\n",
    "\n",
    "locomotion_09_10 <- read_xpt(file.path(path_to_data_09_10, \"PFQ_F.xpt\"))\n",
    "\n",
    "locomotion_09_10_selected <- locomotion_09_10 %>%\n",
    "    select(SEQN, PFQ061I)\n",
    "\n",
    "\n",
    "mental_health_09_10 <- read_xpt(file.path(path_to_data_09_10, \"DPQ_F.xpt\"))\n",
    "\n",
    "mental_health_09_10_selected <- mental_health_09_10 %>%\n",
    "    select(SEQN, DPQ010, DPQ020, DPQ050, DPQ070)\n",
    "\n",
    "mental_health_09_10_selected <- mental_health_09_10_selected %>%\n",
    "  mutate(DPQ070 = case_when(\n",
    "    DPQ070 %in% c(0, 1) ~ 2,\n",
    "    DPQ070 %in% c(2, 3) ~ 1,\n",
    "    TRUE ~ DPQ070\n",
    "  ))\n",
    "\n",
    "mental_health_09_10_selected <- mental_health_09_10_selected %>%\n",
    "  rename(DLQ040 = DPQ070)\n",
    "\n",
    "\n",
    "weight_history_09_10 <- read_xpt(file.path(path_to_data_09_10, \"WHQ_F.xpt\"))\n",
    "\n",
    "weight_history_09_10_selected <- weight_history_09_10 %>%\n",
    "    select(SEQN, WHQ060)\n",
    "\n",
    "\n",
    "audiometry_09_10 <- read_xpt(file.path(path_to_data_09_10, \"AUQ_F.xpt\"))\n",
    "\n",
    "audiometry_09_10_selected <- audiometry_09_10 %>%\n",
    "    select(SEQN, AUQ131)\n",
    "\n",
    "audiometry_09_10_selected <- audiometry_09_10_selected %>%\n",
    "  mutate(AUQ131 = case_when(\n",
    "    AUQ131 %in% c(1, 2, 3) ~ 2,\n",
    "    AUQ131 %in% c(4, 5, 6) ~ 1,\n",
    "    TRUE ~ AUQ131\n",
    "  ))\n",
    "\n",
    "audiometry_09_10_selected <- audiometry_09_10_selected %>%\n",
    "  rename(DLQ010 = AUQ131)"
   ]
  },
  {
   "cell_type": "code",
   "execution_count": null,
   "metadata": {
    "vscode": {
     "languageId": "r"
    }
   },
   "outputs": [],
   "source": [
    "# Datasets for 2011/12 period\n",
    "\n",
    "demo_11_12 <- read_xpt(file.path(path_to_data_11_12, \"DEMO_G.xpt.txt\"))\n",
    "\n",
    "demo_11_12_selected <- demo_11_12 %>%\n",
    "  select(SEQN, RIAGENDR, RIDAGEYR, RIDRETH1, DMDEDUC2, INDFMPIR)\n",
    "\n",
    "alcohol_11_12 <- read_xpt(file.path(path_to_data_11_12, \"ALQ_G.xpt.txt\"))\n",
    "\n",
    "alcohol_11_12_selected <- alcohol_11_12 %>%\n",
    "  select(SEQN, ALQ101)\n",
    "\n",
    "\n",
    "smoking_11_12 <- read_xpt(file.path(path_to_data_11_12, \"SMQ_G.xpt.txt\"))\n",
    "\n",
    "smoking_11_12_selected <- smoking_11_12 %>%\n",
    "    select(SEQN, SMQ020)\n",
    "\n",
    "\n",
    "med_conditions_11_12 <- read_xpt(file.path(path_to_data_11_12, \"MCQ_G.xpt.txt\"))\n",
    "\n",
    "med_conditions_11_12_selected <- med_conditions_11_12 %>%\n",
    "    select(SEQN, MCQ140, MCQ160B, MCQ160C, MCQ160D, MCQ160E, MCQ160F, MCQ160L, MCQ220)\n",
    "\n",
    "med_conditions_11_12_selected <- med_conditions_11_12_selected %>%\n",
    "  rename(DLQ020 = MCQ140)\n",
    "\n",
    "\n",
    "blood_pressure_11_12 <- read_xpt(file.path(path_to_data_11_12, \"BPQ_G.xpt.txt\"))\n",
    "\n",
    "blood_pressure_11_12_selected <- blood_pressure_11_12 %>%\n",
    "    select(SEQN, BPQ020)\n",
    "\n",
    "\n",
    "diabetes_11_12 <- read_xpt(file.path(path_to_data_11_12, \"DIQ_G.xpt.txt\"))\n",
    "\n",
    "diabetes_11_12_selected <- diabetes_11_12 %>%\n",
    "    select(SEQN, DIQ010)\n",
    "\n",
    "\n",
    "periodontal_11_12 <- read_xpt(file.path(path_to_data_11_12, \"OHXPER_G.xpt.txt\"))\n",
    "\n",
    "selected_cols <- colnames(periodontal_11_12)[grepl(\"^OHX\\\\d{2}(PC|LA)[A-Z]$\", colnames(periodontal_11_12))]\n",
    "\n",
    "periodontal_11_12_selected <- periodontal_11_12 %>%\n",
    "    select(SEQN, all_of(selected_cols))\n",
    "\n",
    "\n",
    "locomotion_11_12 <- read_xpt(file.path(path_to_data_11_12, \"PFQ_G.xpt.txt\"))\n",
    "\n",
    "locomotion_11_12_selected <- locomotion_11_12 %>%\n",
    "    select(SEQN, PFQ061I)\n",
    "\n",
    "\n",
    "mental_health_11_12 <- read_xpt(file.path(path_to_data_11_12, \"DPQ_G.xpt.txt\"))\n",
    "\n",
    "mental_health_11_12_selected <- mental_health_11_12 %>%\n",
    "    select(SEQN, DPQ010, DPQ020, DPQ050, DPQ070)\n",
    "\n",
    "mental_health_11_12_selected <- mental_health_11_12_selected %>%\n",
    "  mutate(DPQ070 = case_when(\n",
    "    DPQ070 %in% c(0, 1) ~ 2,\n",
    "    DPQ070 %in% c(2, 3) ~ 1,\n",
    "    TRUE ~ DPQ070\n",
    "  ))\n",
    "\n",
    "mental_health_11_12_selected <- mental_health_11_12_selected %>%\n",
    "  rename(DLQ040 = DPQ070)\n",
    "\n",
    "\n",
    "weight_history_11_12 <- read_xpt(file.path(path_to_data_11_12, \"WHQ_G.xpt.txt\"))\n",
    "\n",
    "weight_history_11_12_selected <- weight_history_11_12 %>%\n",
    "    select(SEQN, WHQ060)\n",
    "\n",
    "\n",
    "audiometry_11_12 <- read_xpt(file.path(path_to_data_11_12, \"AUQ_G.xpt.txt\"))\n",
    "\n",
    "audiometry_11_12_selected <- audiometry_11_12 %>%\n",
    "  select(SEQN, AUQ054)\n",
    "\n",
    "audiometry_11_12_selected <- audiometry_11_12_selected %>%\n",
    "  mutate(AUQ054 = case_when(\n",
    "    AUQ054 %in% c(1, 2, 3) ~ 2,\n",
    "    AUQ054 %in% c(4, 5, 6) ~ 1,\n",
    "    TRUE ~ AUQ054\n",
    "  ))\n",
    "\n",
    "audiometry_11_12_selected <- audiometry_11_12_selected %>%\n",
    "  rename(DLQ010 = AUQ054)"
   ]
  },
  {
   "cell_type": "code",
   "execution_count": null,
   "metadata": {
    "vscode": {
     "languageId": "r"
    }
   },
   "outputs": [],
   "source": [
    "# Datasets for 2013/14 period\n",
    "\n",
    "demo_13_14 <- read_xpt(file.path(path_to_data, \"DEMO_H.xpt.txt\"))\n",
    "\n",
    "demo_13_14_selected <- demo_13_14 %>%\n",
    "    select(SEQN, RIAGENDR, RIDAGEYR, RIDRETH1, DMDEDUC2, INDFMPIR)\n",
    "\n",
    "\n",
    "alcohol_13_14 <- read_xpt(file.path(path_to_data, \"ALQ_H.xpt.txt\"))\n",
    "\n",
    "alcohol_13_14_selected <- alcohol_13_14 %>%\n",
    "    select(SEQN, ALQ101)\n",
    "\n",
    "\n",
    "smoking_13_14 <- read_xpt(file.path(path_to_data, \"SMQ_H.xpt.txt\"))\n",
    "\n",
    "smoking_13_14_selected <- smoking_13_14 %>%\n",
    "    select(SEQN, SMQ020)\n",
    "\n",
    "\n",
    "med_conditions_13_14 <- read_xpt(file.path(path_to_data, \"MCQ_H.xpt.txt\"))\n",
    "\n",
    "med_conditions_13_14_selected <- med_conditions_13_14 %>%\n",
    "    select(SEQN, MCQ160B, MCQ160C, MCQ160D, MCQ160E, MCQ160F, MCQ160L, MCQ220)\n",
    "\n",
    "\n",
    "blood_pressure_13_14 <- read_xpt(file.path(path_to_data, \"BPQ_H.xpt.txt\"))\n",
    "\n",
    "blood_pressure_13_14_selected <- blood_pressure_13_14 %>%\n",
    "    select(SEQN, BPQ020)\n",
    "\n",
    "\n",
    "diabetes_13_14 <- read_xpt(file.path(path_to_data, \"DIQ_H.xpt.txt\"))\n",
    "\n",
    "diabetes_13_14_selected <- diabetes_13_14 %>%\n",
    "    select(SEQN, DIQ010)\n",
    "\n",
    "\n",
    "periodontal_13_14 <- read_xpt(file.path(path_to_data, \"OHXPER_H.xpt.txt\"))\n",
    "\n",
    "selected_cols <- colnames(periodontal_13_14)[grepl(\"^OHX\\\\d{2}(PC|LA)[A-Z]$\", colnames(periodontal_13_14))]\n",
    "\n",
    "periodontal_13_14_selected <- periodontal_13_14 %>%\n",
    "    select(SEQN, all_of(selected_cols))\n",
    "\n",
    "\n",
    "locomotion_13_14 <- read_xpt(file.path(path_to_data, \"PFQ061I.txt\"))\n",
    "\n",
    "locomotion_13_14_selected <- locomotion_13_14 %>%\n",
    "    select(SEQN, PFQ061I)\n",
    "\n",
    "\n",
    "disability_13_14 <- read_xpt(file.path(path_to_data, \"DLQ040.txt\"))\n",
    "\n",
    "disability_13_14_selected <- disability_13_14 %>%\n",
    "    select(SEQN, DLQ010, DLQ020, DLQ040)\n",
    "\n",
    "\n",
    "mental_health_13_14 <- read_xpt(file.path(path_to_data, \"DPQ-.txt\"))\n",
    "\n",
    "mental_health_13_14_selected <- mental_health_13_14 %>%\n",
    "    select(SEQN, DPQ010, DPQ020, DPQ050)\n",
    "\n",
    "\n",
    "weight_history_13_14 <- read_xpt(file.path(path_to_data, \"WHQ060.txt\"))\n",
    "\n",
    "weight_history_13_14_selected <- weight_history_13_14 %>%\n",
    "    select(SEQN, WHQ060)"
   ]
  },
  {
   "cell_type": "code",
   "execution_count": null,
   "metadata": {
    "vscode": {
     "languageId": "r"
    }
   },
   "outputs": [],
   "source": [
    "# Dimensions for periodontal datasets\n",
    "\n",
    "dim(periodontal_09_10_selected)\n",
    "dim(periodontal_11_12_selected)\n",
    "dim(periodontal_13_14_selected)"
   ]
  },
  {
   "cell_type": "markdown",
   "metadata": {},
   "source": [
    "### Merge datasets without NA and missing values"
   ]
  },
  {
   "cell_type": "markdown",
   "metadata": {},
   "source": [
    "#### First method\n",
    "> Merge all data from each datasets and then exclude patients"
   ]
  },
  {
   "cell_type": "code",
   "execution_count": null,
   "metadata": {
    "vscode": {
     "languageId": "r"
    }
   },
   "outputs": [],
   "source": [
    "# Merge datasets demographics and intrinsic capacity data\n",
    "\n",
    "datasets_09_10 <- list(\n",
    "  demo_09_10_selected, alcohol_09_10_selected, smoking_09_10_selected, med_conditions_09_10_selected,\n",
    "  blood_pressure_09_10_selected, diabetes_09_10_selected,\n",
    "  locomotion_09_10_selected, mental_health_09_10_selected,\n",
    "  weight_history_09_10_selected, audiometry_09_10_selected, periodontal_09_10_selected\n",
    ")\n",
    "\n",
    "datasets_11_12 <- list(\n",
    "  demo_11_12_selected, alcohol_11_12_selected, smoking_11_12_selected, med_conditions_11_12_selected,\n",
    "  blood_pressure_11_12_selected, diabetes_11_12_selected,\n",
    "  locomotion_11_12_selected, mental_health_11_12_selected,\n",
    "  weight_history_11_12_selected, audiometry_11_12_selected, periodontal_11_12_selected\n",
    ")\n",
    "\n",
    "datasets_13_14 <- list(\n",
    "  demo_13_14_selected, alcohol_13_14_selected, smoking_13_14_selected, med_conditions_13_14_selected,\n",
    "  blood_pressure_13_14_selected, diabetes_13_14_selected,\n",
    "  locomotion_13_14_selected, disability_13_14_selected, mental_health_13_14_selected,\n",
    "  weight_history_13_14_selected, periodontal_13_14_selected\n",
    ")\n",
    "\n",
    "# Horizontal union for period 2009/10, 2011/12, 2013/14\n",
    "\n",
    "df_09_10 <- Reduce(function(x, y) full_join(x, y, by = \"SEQN\"), datasets_09_10)\n",
    "\n",
    "df_11_12 <- Reduce(function(x, y) full_join(x, y, by = \"SEQN\"), datasets_11_12)\n",
    "\n",
    "df_13_14 <- Reduce(function(x, y) full_join(x, y, by = \"SEQN\"), datasets_13_14)\n",
    "\n",
    "# Vertical union\n",
    "\n",
    "df_final <- bind_rows(df_09_10, df_11_12, df_13_14)\n",
    "\n",
    "print(\"Dimensions before removing NA values\")\n",
    "dim(df_final)\n",
    "\n",
    "# Filter with AGE >= 60\n",
    "\n",
    "df_final_age_60 <- subset(df_final, RIDAGEYR >= 60)\n",
    "\n",
    "print(\"Dimensions with AGE >= 60\")\n",
    "dim(df_final_age_60)\n",
    "\n",
    "# Excluding patients with missing values in Intrinsic Capacity features\n",
    "\n",
    "df_final_excluding_IC <- df_final_age_60[complete.cases(df_final_age_60[, c('DLQ020', 'PFQ061I', 'DPQ010', 'DPQ020', 'DPQ050', 'DLQ040', 'WHQ060', 'DLQ010')]), ]\n",
    "\n",
    "df_final_excluding_IC <- df_final_excluding_IC %>%\n",
    "  filter(!if_any(c(DLQ020, PFQ061I, DLQ040, WHQ060, DLQ010,\n",
    "                   DPQ020, DPQ050, DPQ010), ~ . == 9))\n",
    "\n",
    "df_final_excluding_IC <- df_final_excluding_IC %>%\n",
    "  filter(!if_any(c(DLQ020, PFQ061I, DLQ040, WHQ060, DLQ010,\n",
    "                   DPQ020, DPQ050, DPQ010), ~ . == 7))\n",
    "\n",
    "df_final_excluding_IC <- df_final_excluding_IC %>%\n",
    "  filter(!if_any(c(DLQ020, PFQ061I, DLQ040, WHQ060, DLQ010,\n",
    "                   DPQ020, DPQ050, DPQ010), ~ . == 99))\n",
    "\n",
    "print(\"Dimensions without IC missing values\")\n",
    "dim(df_final_excluding_IC)\n",
    "\n",
    "# Excluding patients with no examinations for Periodontitis Disease features\n",
    "\n",
    "df_final_excluding_PD <- df_final_excluding_IC %>%\n",
    "  filter(rowSums(!is.na(select(., starts_with(\"OHX\")))) > 0)\n",
    "\n",
    "print(\"Dimensions without PD missing values\")\n",
    "dim(df_final_excluding_PD)\n",
    "\n",
    "# Excluding Edentulia\n",
    "\n",
    "df_final_excluding_edentulus <- df_final_excluding_PD %>%\n",
    "  filter(rowSums(select(., starts_with(\"OHX\")) == 99, na.rm = FALSE) < ncol(select(., starts_with(\"OHX\"))))\n",
    "\n",
    "print(\"Dimensions without Edentulus patients\")\n",
    "dim(df_final_excluding_edentulus)\n",
    "\n",
    "# Excluding patients with missing values in Confounding features\n",
    "\n",
    "df_final_excluding_confounding <- df_final_excluding_edentulus[complete.cases(df_final_excluding_edentulus[, \n",
    "                                  c('RIAGENDR', 'RIDAGEYR', 'RIDRETH1', 'DMDEDUC2', 'INDFMPIR', 'ALQ101', 'SMQ020', 'MCQ160B',\n",
    "                                  'MCQ160C', 'MCQ160D', 'MCQ160E', 'MCQ160F', 'MCQ160L', 'MCQ220', 'BPQ020', 'DIQ010')]), ]\n",
    "\n",
    "df_final_merged <- df_final_excluding_confounding %>%\n",
    "  filter(!if_any(c(DMDEDUC2, ALQ101, MCQ160B, MCQ160C, MCQ160D,\n",
    "                   MCQ160E, MCQ160F, MCQ160L, BPQ020, DIQ010), ~ . == 9))\n",
    "\n",
    "print(\"Dimensions without Confounding missing values\")\n",
    "dim(df_final_merged)"
   ]
  },
  {
   "cell_type": "markdown",
   "metadata": {},
   "source": [
    "#### Second method\n",
    "> Merge demographics and intrinsic capacity data from each datasets, then exclude patients, at the end merge this dataset with periodontal data"
   ]
  },
  {
   "cell_type": "code",
   "execution_count": null,
   "metadata": {
    "vscode": {
     "languageId": "r"
    }
   },
   "outputs": [],
   "source": [
    "# Vertical union for periodontal data: removing patients with 0 teeth \n",
    "\n",
    "df_periodontal <- bind_rows(periodontal_09_10_selected, periodontal_11_12_selected, periodontal_13_14_selected)\n",
    "\n",
    "df_periodontal_clean <- df_periodontal[rowSums(df_periodontal[, colnames(df_periodontal) != \"SEQN\"] == 99) != (ncol(df_periodontal) - 1), ]\n",
    "\n",
    "print(paste(\"Deleted Rows:\", nrow(df_periodontal) - nrow(df_periodontal_clean)))\n",
    "\n",
    "dim(df_periodontal_clean)"
   ]
  },
  {
   "cell_type": "code",
   "execution_count": null,
   "metadata": {
    "vscode": {
     "languageId": "r"
    }
   },
   "outputs": [],
   "source": [
    "# Merge datasets demographics and intrinsic capacity data\n",
    "\n",
    "datasets_09_10 <- list(\n",
    "  demo_09_10_selected, alcohol_09_10_selected, smoking_09_10_selected, med_conditions_09_10_selected,\n",
    "  blood_pressure_09_10_selected, diabetes_09_10_selected,\n",
    "  locomotion_09_10_selected, mental_health_09_10_selected,\n",
    "  weight_history_09_10_selected, audiometry_09_10_selected\n",
    ")\n",
    "\n",
    "datasets_11_12 <- list(\n",
    "  demo_11_12_selected, alcohol_11_12_selected, smoking_11_12_selected, med_conditions_11_12_selected,\n",
    "  blood_pressure_11_12_selected, diabetes_11_12_selected,\n",
    "  locomotion_11_12_selected, mental_health_11_12_selected,\n",
    "  weight_history_11_12_selected, audiometry_11_12_selected\n",
    ")\n",
    "\n",
    "datasets_13_14 <- list(\n",
    "  demo_13_14_selected, alcohol_13_14_selected, smoking_13_14_selected, med_conditions_13_14_selected,\n",
    "  blood_pressure_13_14_selected, diabetes_13_14_selected,\n",
    "  locomotion_13_14_selected, disability_13_14_selected, mental_health_13_14_selected,\n",
    "  weight_history_13_14_selected\n",
    ")\n",
    "\n",
    "# Horizontal union for period 2009/10, 2011/12, 2013/14\n",
    "\n",
    "df_09_10 <- Reduce(function(x, y) full_join(x, y, by = \"SEQN\"), datasets_09_10)\n",
    "\n",
    "df_11_12 <- Reduce(function(x, y) full_join(x, y, by = \"SEQN\"), datasets_11_12)\n",
    "\n",
    "df_13_14 <- Reduce(function(x, y) full_join(x, y, by = \"SEQN\"), datasets_13_14)\n",
    "\n",
    "# Vertical union\n",
    "\n",
    "df_final <- bind_rows(df_09_10, df_11_12, df_13_14)\n",
    "\n",
    "print(\"Dimensions before removing NA values\")\n",
    "dim(df_final)\n",
    "\n",
    "# Remove NA values\n",
    "\n",
    "df_final <- na.omit(df_final)\n",
    "\n",
    "df_final <- df_final %>%\n",
    "  filter(!if_any(c(DMDEDUC2, ALQ101, DLQ020, MCQ160B, MCQ160C, MCQ160D, \n",
    "                   MCQ160E, MCQ160F, MCQ160L, BPQ020, DIQ010, PFQ061I, \n",
    "                   DPQ020, DPQ050, DPQ010), ~ . == 9))\n",
    "\n",
    "df_final <- df_final %>%\n",
    "  filter(!if_any(c(DPQ010), ~ . == 7))\n",
    "\n",
    "df_final <- df_final %>%\n",
    "  filter(!if_any(c(DLQ010), ~ . == 99))\n",
    "\n",
    "print(\"Dimensions after removing NA values\")\n",
    "dim(df_final)\n",
    "\n",
    "# Filter with AGE >= 60\n",
    "\n",
    "df_final_age_60 <- subset(df_final, RIDAGEYR >= 60)\n",
    "\n",
    "print(\"Dimensions with AGE >= 60\")\n",
    "dim(df_final_age_60)"
   ]
  },
  {
   "cell_type": "code",
   "execution_count": null,
   "metadata": {
    "vscode": {
     "languageId": "r"
    }
   },
   "outputs": [],
   "source": [
    "# Merge df_final_age_60 with features for periodontal disease\n",
    "\n",
    "df_final_merged <- df_final_age_60 %>%\n",
    "  inner_join(df_periodontal_clean, by = \"SEQN\")\n",
    "\n",
    "dim(df_final_merged)"
   ]
  },
  {
   "cell_type": "markdown",
   "metadata": {},
   "source": [
    "#### Save df cleaned"
   ]
  },
  {
   "cell_type": "code",
   "execution_count": null,
   "metadata": {
    "vscode": {
     "languageId": "r"
    }
   },
   "outputs": [],
   "source": [
    "# Saving completed and cleaned dataframe for analysis\n",
    "\n",
    "write.csv(df_final_merged, \"/Users/silvanoquarto/Desktop/LAVORO/MEDICAL_PHYSICS/Med-Physics/data/NHANES/merged_and_cleaned_df_09_14.csv\")"
   ]
  },
  {
   "cell_type": "markdown",
   "metadata": {},
   "source": [
    "### Periodontitis Classification"
   ]
  },
  {
   "cell_type": "code",
   "execution_count": null,
   "metadata": {
    "vscode": {
     "languageId": "r"
    }
   },
   "outputs": [],
   "source": [
    "classify_periodontitis <- function(df) {\n",
    "  # Function to count sites on different teeth that meet a criterion\n",
    "  count_sites_different_teeth <- function(tooth_sites,\n",
    "                                          threshold, measurement_type) {\n",
    "    teeth_with_sites <- list()\n",
    "    for(tooth in unique(sub(\"(OHX\\\\d+).*\", \"\\\\1\", names(tooth_sites)))) {\n",
    "      # Include all interproximal sites\n",
    "      # S = mesio-facial, D = distal, A = mesio-lingual, P = disto-lingual\n",
    "      tooth_cols <- grep(paste0(tooth, measurement_type, \"[SDAP]$\"), \n",
    "                        names(tooth_sites), value = TRUE)\n",
    "      values <- as.numeric(tooth_sites[tooth_cols])\n",
    "      valid_values <- values[values != 99 & !is.na(values)]\n",
    "      # If at least one site exceeds the threshold, add to list\n",
    "      if(length(valid_values) > 0 && any(valid_values >= threshold)) {\n",
    "        teeth_with_sites <- c(teeth_with_sites, tooth)\n",
    "      }\n",
    "    }\n",
    "    # Returns the number of different teeth with sites exceeding the threshold\n",
    "    return(length(teeth_with_sites))\n",
    "  }\n",
    "\n",
    "  ppd_cols <- grep(\"PC[SDAP]$\", names(df), value = TRUE)\n",
    "  cal_cols <- grep(\"LA[SDAP]$\", names(df), value = TRUE)\n",
    "\n",
    "  # Initializes the columns for classification\n",
    "  df$severe <- FALSE\n",
    "  df$moderate <- FALSE\n",
    "  df$mild <- FALSE\n",
    "\n",
    "  for(i in 1:nrow(df)) {\n",
    "    ppd_values <- df[i, ppd_cols]\n",
    "    cal_values <- df[i, cal_cols]\n",
    "\n",
    "    # Counts teeth with sites that meet the criteria\n",
    "    teeth_with_cal_6mm <- count_sites_different_teeth(cal_values, 6, \"LA\")\n",
    "    teeth_with_cal_4mm <- count_sites_different_teeth(cal_values, 4, \"LA\")\n",
    "    teeth_with_cal_3mm <- count_sites_different_teeth(cal_values, 3, \"LA\")\n",
    "    teeth_with_ppd_5mm <- count_sites_different_teeth(ppd_values, 5, \"PC\")\n",
    "    teeth_with_ppd_4mm <- count_sites_different_teeth(ppd_values, 4, \"PC\")\n",
    "\n",
    "    # Severe periodontitis classification\n",
    "    # ≥2 teeth with interproximal sites CAL ≥6 mm AND ≥1 tooth with PPD ≥5 mm\n",
    "    if(teeth_with_cal_6mm >= 2 && teeth_with_ppd_5mm >= 1) {\n",
    "      df$severe[i] <- TRUE\n",
    "    }\n",
    "    # Moderate periodontitis classification\n",
    "    # ≥2 teeth with interproximal sites CAL ≥4 mm OR ≥2 tooth with PPD ≥5 mm\n",
    "    else if(teeth_with_cal_4mm >= 2 || teeth_with_ppd_5mm >= 2) {\n",
    "      df$moderate[i] <- TRUE\n",
    "    }\n",
    "    # Mild periodontitis\n",
    "    # ≥2 teeth with interproximal sites CAL ≥3 mm AND\n",
    "    # ≥2 teeth with interproximal sites PPD ≥4 mm\n",
    "    else if(teeth_with_cal_3mm >= 2 &&\n",
    "              teeth_with_ppd_4mm >= 2) {\n",
    "      df$mild[i] <- TRUE\n",
    "    }\n",
    "  }\n",
    "\n",
    "  # Final Classification\n",
    "  df$periodontitis <- case_when(\n",
    "    df$severe ~ \"Severe\",\n",
    "    df$moderate ~ \"Moderate\",\n",
    "    #TRUE ~ \"None/Mild\"\n",
    "    df$mild ~ \"Mild\",\n",
    "    TRUE ~ \"None\"\n",
    "  )\n",
    "\n",
    "  return(df)\n",
    "}"
   ]
  },
  {
   "cell_type": "code",
   "execution_count": null,
   "metadata": {
    "vscode": {
     "languageId": "r"
    }
   },
   "outputs": [],
   "source": [
    "df_classification <- classify_periodontitis(df_final_merged)"
   ]
  },
  {
   "cell_type": "code",
   "execution_count": null,
   "metadata": {
    "vscode": {
     "languageId": "r"
    }
   },
   "outputs": [],
   "source": [
    "table_counts <- table(df_classification$periodontitis)\n",
    "table_percent <- prop.table(table_counts) * 100\n",
    "\n",
    "print(\"Distribution of periodontitis categories (counting):\")\n",
    "print(table_counts)\n",
    "\n",
    "print(\"Distribution of periodontitis categories (percentage):\")\n",
    "print(round(table_percent, 2))"
   ]
  },
  {
   "cell_type": "markdown",
   "metadata": {},
   "source": [
    "### Calculate Mean PPD and Mean CAL"
   ]
  },
  {
   "cell_type": "code",
   "execution_count": null,
   "metadata": {
    "vscode": {
     "languageId": "r"
    }
   },
   "outputs": [],
   "source": [
    "calculate_means <- function(df) {\n",
    "  # Select columns for interproximal sites\n",
    "  ppd_cols <- grep(\"PC[SDAP]$\", names(df), value = TRUE)\n",
    "  cal_cols <- grep(\"LA[SDAP]$\", names(df), value = TRUE)\n",
    "  \n",
    "  # Calculate the average excluding invalid values\n",
    "  calculate_valid_mean <- function(row, cols) {\n",
    "    values <- as.numeric(row[cols])\n",
    "    valid_values <- values[values != 99 & !is.na(values)]\n",
    "    if(length(valid_values) > 0) {\n",
    "      return(mean(valid_values, na.rm = TRUE))\n",
    "    } else {\n",
    "      return(NA)\n",
    "    }\n",
    "  }\n",
    "  \n",
    "  df$mean_ppd <- apply(df[ppd_cols], 1, calculate_valid_mean, cols = ppd_cols)\n",
    "  df$mean_cal <- apply(df[cal_cols], 1, calculate_valid_mean, cols = cal_cols)\n",
    "  \n",
    "  df$mean_ppd <- round(df$mean_ppd, 2)\n",
    "  df$mean_cal <- round(df$mean_cal, 2)\n",
    "  \n",
    "  return(df)\n",
    "}"
   ]
  },
  {
   "cell_type": "code",
   "execution_count": null,
   "metadata": {
    "vscode": {
     "languageId": "r"
    }
   },
   "outputs": [],
   "source": [
    "df_class_with_means <- calculate_means(df_classification)\n",
    "\n",
    "dim(df_class_with_means)\n",
    "head(df_class_with_means)"
   ]
  },
  {
   "cell_type": "markdown",
   "metadata": {},
   "source": [
    "### Features selection"
   ]
  },
  {
   "cell_type": "code",
   "execution_count": null,
   "metadata": {
    "vscode": {
     "languageId": "r"
    }
   },
   "outputs": [],
   "source": [
    "# Features selection for the descriptive and regression analysis\n",
    "\n",
    "columns_to_keep <- c(\"SEQN\", \"RIAGENDR\", \"RIDAGEYR\", \"RIDRETH1\",\n",
    "                     \"DMDEDUC2\", \"INDFMPIR\",\n",
    "                     \"SMQ020\", \"ALQ101\", \"MCQ160B\", \"MCQ160C\",\n",
    "                     \"MCQ160D\", \"MCQ160E\", \"MCQ160F\",\n",
    "                     \"MCQ160L\", \"MCQ220\", \"BPQ020\",\n",
    "                     \"DIQ010\", \"PFQ061I\",\n",
    "                     \"DLQ010\", \"DLQ020\", \"DLQ040\",\n",
    "                     \"DPQ010\", \"DPQ020\", \"DPQ050\", \"WHQ060\",\n",
    "                     \"periodontitis\", \"mean_ppd\", \"mean_cal\")\n",
    "\n",
    "df <- df_class_with_means[, columns_to_keep]\n",
    "\n",
    "dim(df)\n",
    "head(df)"
   ]
  },
  {
   "cell_type": "code",
   "execution_count": null,
   "metadata": {
    "vscode": {
     "languageId": "r"
    }
   },
   "outputs": [],
   "source": [
    "write.csv(df, \"/Users/silvanoquarto/Desktop/LAVORO/MEDICAL_PHYSICS/Med-Physics/data/NHANES/preprocessed_df_09_14.csv\", row.names=FALSE)"
   ]
  },
  {
   "cell_type": "markdown",
   "metadata": {},
   "source": [
    "### Descriptive analysis"
   ]
  },
  {
   "cell_type": "code",
   "execution_count": null,
   "metadata": {
    "vscode": {
     "languageId": "r"
    }
   },
   "outputs": [],
   "source": [
    "# Function for the descriptive analysis\n",
    "\n",
    "create_descriptive_table <- function(df) {\n",
    "  require(tableone)\n",
    "  require(dplyr)\n",
    "\n",
    "  df$periodontitis <- factor(df$periodontitis, levels = c(\"None\", \"Mild\", \"Moderate\", \"Severe\"))\n",
    "  \n",
    "  # Recoding categorical variables\n",
    "  df <- df %>%\n",
    "    mutate(\n",
    "      `Age (years)` = RIDAGEYR,\n",
    "      `Ratio of family income` = INDFMPIR,\n",
    "      `Mean PPD` = mean_ppd,\n",
    "      `Mean CAL` = mean_cal,\n",
    "      Gender = factor(RIAGENDR, levels = c(1, 2), \n",
    "                      labels = c(\"Male\", \"Female\")),\n",
    "      \n",
    "      Ethnicity = factor(RIDRETH1, levels = 1:5, \n",
    "                         labels = c(\"Mexican American\", \"Other Hispanic\",\n",
    "                                    \"Non-Hispanic White\", \"Non-Hispanic Black\",\n",
    "                                    \"Other Race\")),\n",
    "      \n",
    "      Education = factor(DMDEDUC2, levels = 1:5,\n",
    "                         labels = c(\"Less than 9th grade\", \"9-11th grade\",\n",
    "                                    \"High school graduate\",\n",
    "                                    \"Some college/AA degree\",\n",
    "                                    \"College graduate or above\")),\n",
    "      \n",
    "      Smoking = factor(SMQ020, levels = c(1, 2),\n",
    "                       labels = c(\"Yes\", \"No\")),\n",
    "      \n",
    "      `Alcohol intake` = factor(ALQ101, levels = c(1, 2),\n",
    "                       labels = c(\"Over 12 alcohol drinks/1 yr\",\n",
    "                       \"Under 12 alcohol drinks/1 yr\")),\n",
    "      \n",
    "      `Heart Failure` = factor(MCQ160B, levels = c(1, 2), \n",
    "                             labels = c(\"Yes\", \"No\")),\n",
    "      `Coronary Heart` = factor(MCQ160C, levels = c(1, 2),\n",
    "                              labels = c(\"Yes\", \"No\")),\n",
    "      Angina = factor(MCQ160D, levels = c(1, 2),\n",
    "                      labels = c(\"Yes\", \"No\")),\n",
    "      `Heart Attack` = factor(MCQ160E, levels = c(1, 2),\n",
    "                            labels = c(\"Yes\", \"No\")),\n",
    "      Stroke = factor(MCQ160F, levels = c(1, 2),\n",
    "                      labels = c(\"Yes\", \"No\")),\n",
    "      Cancer = factor(MCQ220, levels = c(1, 2),\n",
    "                    labels = c(\"Yes\", \"No\")),\n",
    "      Liver = factor(MCQ160L, levels = c(1, 2),\n",
    "                     labels = c(\"Yes\", \"No\")),\n",
    "      Hypertension = factor(BPQ020, levels = c(1,2),\n",
    "                            labels = c(\"Yes\", \"No\")),\n",
    "      Diabetes = factor(DIQ010, levels = 1:3,\n",
    "                        labels = c(\"Yes\", \"No\", \"Borderline\"))\n",
    "    )\n",
    "  \n",
    "  continuous_vars <- c(\"Age (years)\", \"Ratio of family income\", \"Mean PPD\", \"Mean CAL\")\n",
    "  \n",
    "  categorical_vars <- c(\"Gender\", \"Ethnicity\", \"Education\", \"Smoking\", \"Alcohol intake\",\n",
    "                        \"Heart Failure\", \"Coronary Heart\", \"Angina\", \"Heart Attack\",\n",
    "                        \"Stroke\", \"Cancer\", \"Liver\", \"Hypertension\", \"Diabetes\")\n",
    "\n",
    "  table1 <- CreateTableOne(vars = c(continuous_vars, categorical_vars),\n",
    "                           strata = \"periodontitis\",\n",
    "                           data = df,\n",
    "                           test = TRUE)\n",
    "\n",
    "  cont_vars_overall <- c(\"Age (years)\", \"Ratio of family income\")\n",
    "  \n",
    "  table_overall <- CreateTableOne(vars = c(cont_vars_overall, categorical_vars),\n",
    "                                  data = df,\n",
    "                                  test = FALSE)\n",
    "  \n",
    "  formatted_table <- print(table1,\n",
    "                           #nonnormal = continuous_vars,\n",
    "                           nonnormal = NULL,\n",
    "                           contDigits = 2,\n",
    "                           showAllLevels = TRUE,\n",
    "                           printToggle = FALSE,\n",
    "                           smd = FALSE)\n",
    "  \n",
    "  formatted_table_overall <- print(table_overall,\n",
    "                                   #nonnormal = continuous_vars,\n",
    "                                   nonnormal = NULL,\n",
    "                                   contDigits = 2,\n",
    "                                   showAllLevels = TRUE,\n",
    "                                   printToggle = FALSE,\n",
    "                                   smd = FALSE)\n",
    "  \n",
    "  final_table <- list(\"Stratified by periodontitis\" = formatted_table, \n",
    "                      \"Overall\" = formatted_table_overall)\n",
    "  \n",
    "  return(final_table)\n",
    "}"
   ]
  },
  {
   "cell_type": "code",
   "execution_count": null,
   "metadata": {
    "vscode": {
     "languageId": "r"
    }
   },
   "outputs": [],
   "source": [
    "descriptive_table <- create_descriptive_table(df)\n",
    "\n",
    "descriptive_table"
   ]
  },
  {
   "cell_type": "code",
   "execution_count": null,
   "metadata": {
    "vscode": {
     "languageId": "r"
    }
   },
   "outputs": [],
   "source": [
    "# Save tables as csv files\n",
    "\n",
    "write.csv(descriptive_table$`Stratified by periodontitis`,\n",
    "          \"descriptive_table_stratified.csv\", row.names = TRUE)\n",
    "\n",
    "write.csv(descriptive_table$Overall,\n",
    "          \"descriptive_table_overall.csv\", row.names = TRUE)"
   ]
  },
  {
   "cell_type": "markdown",
   "metadata": {},
   "source": [
    "### Regression Analysis"
   ]
  },
  {
   "cell_type": "markdown",
   "metadata": {},
   "source": [
    "#### Load Preprocessed Data + Recoded outcome and some variables"
   ]
  },
  {
   "cell_type": "code",
   "execution_count": null,
   "metadata": {
    "vscode": {
     "languageId": "r"
    }
   },
   "outputs": [],
   "source": [
    "# Load preprocessed and cleaned df\n",
    "\n",
    "df <- read.csv(\"/Users/silvanoquarto/Desktop/LAVORO/MEDICAL_PHYSICS/Med-Physics/data/NHANES/preprocessed_df_09_14.csv\",\n",
    "               header = TRUE)\n",
    "\n",
    "head(df)"
   ]
  },
  {
   "cell_type": "code",
   "execution_count": null,
   "metadata": {
    "vscode": {
     "languageId": "r"
    }
   },
   "outputs": [],
   "source": [
    "# Recoding of the outcome with 3 levels: \"None/Mild\", \"Moderate\", \"Severe\"\n",
    "\n",
    "df <- df %>%\n",
    "  mutate(periodontitis = recode(periodontitis,\n",
    "                                \"Mild\" = \"None/Mild\",\n",
    "                                \"None\" = \"None/Mild\"))\n",
    "\n",
    "df$periodontitis <- factor(df$periodontitis,\n",
    "                           levels = c(\"None/Mild\", \"Moderate\", \"Severe\"),\n",
    "                           ordered = TRUE)"
   ]
  },
  {
   "cell_type": "code",
   "execution_count": null,
   "metadata": {
    "vscode": {
     "languageId": "r"
    }
   },
   "outputs": [],
   "source": [
    "table(df$periodontitis)"
   ]
  },
  {
   "cell_type": "code",
   "execution_count": null,
   "metadata": {
    "vscode": {
     "languageId": "r"
    }
   },
   "outputs": [],
   "source": [
    "# Create a df copy (just in case)\n",
    "\n",
    "df_prove <- df"
   ]
  },
  {
   "cell_type": "code",
   "execution_count": null,
   "metadata": {
    "vscode": {
     "languageId": "r"
    }
   },
   "outputs": [],
   "source": [
    "# Recoding binary variables (1/2 -> 0/1): 0 as \"No\", 1 as \"Yes\"\n",
    "\n",
    "binary_vars <- c(\"DLQ040\", \"WHQ060\", \"DLQ010\", \"DLQ020\")\n",
    "for(var in binary_vars) {\n",
    "  df_prove[[var]] <- ifelse(df_prove[[var]] == 1, 1, 0)\n",
    "}"
   ]
  },
  {
   "cell_type": "code",
   "execution_count": null,
   "metadata": {
    "vscode": {
     "languageId": "r"
    }
   },
   "outputs": [],
   "source": [
    "# Recoding multi level variables as binary variable: 0 as \"No\", 1 as \"Yes\"\n",
    "\n",
    "df_prove <- df_prove %>% mutate(\n",
    "  # Locomotion\n",
    "  PFQ061I_bin = ifelse(PFQ061I == 1, 0, 1),\n",
    "  \n",
    "  # Vitality\n",
    "  DPQ050_bin = ifelse(DPQ050 == 0, 0, 1),\n",
    "  \n",
    "  # Psychological\n",
    "  DPQ020_bin = ifelse(DPQ020 == 0, 0, 1),\n",
    "  DPQ010_bin = ifelse(DPQ010 == 0, 0, 1)\n",
    ")"
   ]
  },
  {
   "cell_type": "code",
   "execution_count": null,
   "metadata": {
    "vscode": {
     "languageId": "r"
    }
   },
   "outputs": [],
   "source": [
    "# Saving recoded df\n",
    "\n",
    "write.csv(df_prove, \"/Users/silvanoquarto/Desktop/LAVORO/MEDICAL_PHYSICS/Med-Physics/data/NHANES/recoded_df_09_14.csv\", row.names = FALSE)"
   ]
  },
  {
   "cell_type": "markdown",
   "metadata": {},
   "source": [
    "#### Crude and Adjusted Logistic Regression analysis with periodontitis outcome"
   ]
  },
  {
   "cell_type": "code",
   "execution_count": null,
   "metadata": {
    "vscode": {
     "languageId": "r"
    }
   },
   "outputs": [],
   "source": [
    "df_prove <- read.csv(\"/Users/silvanoquarto/Desktop/LAVORO/MEDICAL_PHYSICS/Med-Physics/data/NHANES/recoded_df_09_14.csv\", \n",
    "              stringsAsFactors = TRUE)\n",
    "\n",
    "head(df_prove)"
   ]
  },
  {
   "cell_type": "code",
   "execution_count": null,
   "metadata": {
    "vscode": {
     "languageId": "r"
    }
   },
   "outputs": [],
   "source": [
    "# Function to run a crude & adjusted logistic regression analysis\n",
    "\n",
    "run_logistic_analysis <- function(df, outcome) {\n",
    "  \n",
    "  results = list()\n",
    "  \n",
    "  get_model_stats <- function(model) {\n",
    "    coef_summary <- summary(model)\n",
    "    or <- exp(coef(model)[2])\n",
    "    ci <- exp(confint(model)[2,])\n",
    "    p_value <- coef_summary$coefficients[2,4]\n",
    "    \n",
    "    return(list(\n",
    "      or = or,\n",
    "      ci_low = ci[1],\n",
    "      ci_high = ci[2],\n",
    "      p = p_value\n",
    "    ))\n",
    "  }\n",
    "\n",
    "  for(perio_type in c(\"moderate\", \"severe\")) {\n",
    "    if(perio_type == \"moderate\") {\n",
    "      # Moderate vs None/Mild\n",
    "      subset_df <- df[df$periodontitis %in% c(\"None/Mild\", \"Moderate\"),]\n",
    "      # Create Binary Variable (1 = moderate, 0 = None/Mild)\n",
    "      subset_df$perio_binary <- ifelse(subset_df$periodontitis == \"Moderate\", 1, 0)\n",
    "    } else {\n",
    "      # Severe vs None/Mild\n",
    "      subset_df <- df[df$periodontitis %in% c(\"None/Mild\", \"Severe\"),]\n",
    "      # Create Binary Variable (1 = severe, 0 = None/Mild)\n",
    "      subset_df$perio_binary <- ifelse(subset_df$periodontitis == \"Severe\", 1, 0)\n",
    "    }\n",
    "\n",
    "    # Crude Analysis\n",
    "    # Overall\n",
    "    model_crude_overall <- glm(as.formula(paste(outcome, \" ~ perio_binary\")), \n",
    "                               family = binomial, data = subset_df)\n",
    "    \n",
    "    # Only Male\n",
    "    model_crude_males <- glm(as.formula(paste(outcome, \" ~ perio_binary\")), \n",
    "                             family = binomial, data = subset_df[subset_df$RIAGENDR == 1,])\n",
    "    \n",
    "    # Only Female\n",
    "    model_crude_females <- glm(as.formula(paste(outcome, \" ~ perio_binary\")), \n",
    "                               family = binomial, data = subset_df[subset_df$RIAGENDR == 2,])\n",
    "\n",
    "    # Adjusted Analysis\n",
    "    adjusted_formula <- paste(\n",
    "      \" ~ perio_binary + RIDAGEYR + RIAGENDR + SMQ020 + INDFMPIR + DMDEDUC2 + ALQ101\"\n",
    "    )\n",
    "    # Overall\n",
    "    model_adj_overall = glm(as.formula(paste(outcome, adjusted_formula)),\n",
    "                       family = binomial, data = subset_df)\n",
    "\n",
    "    # Males only (removed RIAGENDR from formula for Gender subgroups)\n",
    "    gender_formula <- paste(\n",
    "      \" ~ perio_binary + RIDAGEYR + SMQ020 + INDFMPIR + DMDEDUC2 + ALQ101\"\n",
    "    )\n",
    "    model_adj_males = glm(as.formula(paste(outcome, gender_formula)),\n",
    "                      family = binomial, data = subset_df[subset_df$RIAGENDR == 1,])\n",
    "    \n",
    "    # Females only\n",
    "    model_adj_females = glm(as.formula(paste(outcome, gender_formula)),\n",
    "                        family = binomial, data = subset_df[subset_df$RIAGENDR == 2,])\n",
    "    \n",
    "    # Saving results\n",
    "    results[[perio_type]] <- list(\n",
    "      crude = list(\n",
    "        overall = get_model_stats(model_crude_overall),\n",
    "        males = get_model_stats(model_crude_males),\n",
    "        females = get_model_stats(model_crude_females)\n",
    "      ),\n",
    "      adjusted = list(\n",
    "        overall = get_model_stats(model_adj_overall),\n",
    "        males = get_model_stats(model_adj_males),\n",
    "        females = get_model_stats(model_adj_females)\n",
    "      )\n",
    "    )\n",
    "  }\n",
    "  return(results)\n",
    "}"
   ]
  },
  {
   "cell_type": "code",
   "execution_count": null,
   "metadata": {
    "vscode": {
     "languageId": "r"
    }
   },
   "outputs": [],
   "source": [
    "# Function to run only crude logistic regression analysis\n",
    "\n",
    "run_crude_logistic_analysis <- function(df, outcome) {\n",
    "  \n",
    "  results = list()\n",
    "  \n",
    "  get_model_stats <- function(model) {\n",
    "    coef_summary <- summary(model)\n",
    "    or <- exp(coef(model)[2])\n",
    "    ci <- exp(confint(model)[2,])\n",
    "    p_value <- coef_summary$coefficients[2,4]\n",
    "\n",
    "    return(list(\n",
    "      or = or,\n",
    "      ci_low = ci[1],\n",
    "      ci_high = ci[2],\n",
    "      p = p_value\n",
    "    ))\n",
    "  }\n",
    "\n",
    "  for(perio_type in c(\"moderate\", \"severe\")) {\n",
    "    if(perio_type == \"moderate\") {\n",
    "      # Moderate vs None/Mild\n",
    "      subset_df <- df[df$periodontitis %in% c(\"None/Mild\", \"Moderate\"),]\n",
    "      # Create Binary Variable (1 = moderate, 0 = None/Mild)\n",
    "      subset_df$perio_binary <- ifelse(subset_df$periodontitis == \"Moderate\", 1, 0)\n",
    "    } else {\n",
    "      # Severe vs None/Mild\n",
    "      subset_df <- df[df$periodontitis %in% c(\"None/Mild\", \"Severe\"),]\n",
    "      # Create Binary Variable (1 = severe, 0 = None/Mild)\n",
    "      subset_df$perio_binary <- ifelse(subset_df$periodontitis == \"Severe\", 1, 0)\n",
    "    }\n",
    "\n",
    "    # Crude Analysis\n",
    "    # Overall\n",
    "    model_crude_overall <- glm(as.formula(paste(outcome, \" ~ perio_binary\")), \n",
    "                               family = binomial, data = subset_df)\n",
    "    \n",
    "    # Only Male\n",
    "    model_crude_males <- glm(as.formula(paste(outcome, \" ~ perio_binary\")), \n",
    "                             family = binomial, data = subset_df[subset_df$RIAGENDR == 1,])\n",
    "    \n",
    "    # Only Female\n",
    "    model_crude_females <- glm(as.formula(paste(outcome, \" ~ perio_binary\")), \n",
    "                               family = binomial, data = subset_df[subset_df$RIAGENDR == 2,])\n",
    "    \n",
    "    results[[perio_type]] = list(\n",
    "      overall = get_model_stats(model_crude_overall),\n",
    "      males = get_model_stats(model_crude_males),\n",
    "      females = get_model_stats(model_crude_females)\n",
    "    )\n",
    "  }\n",
    "  \n",
    "  return(results)\n",
    "}"
   ]
  },
  {
   "cell_type": "code",
   "execution_count": null,
   "metadata": {
    "vscode": {
     "languageId": "r"
    }
   },
   "outputs": [],
   "source": [
    "# Function to run only adjusted logistic regression analysis\n",
    "\n",
    "run_adjusted_logistic_analysis <- function(df, outcome) {\n",
    "  results = list()\n",
    "\n",
    "  get_model_stats <- function(model) {\n",
    "    coef_summary <- summary(model)\n",
    "    pred_idx <- which(rownames(coef_summary$coefficients) == \"perio_binary\")\n",
    "    or <- exp(coef(model)[pred_idx])\n",
    "    ci <- exp(confint(model)[pred_idx,])\n",
    "    p_value <- coef_summary$coefficients[pred_idx,4]\n",
    "    return(list(\n",
    "      or = or,\n",
    "      ci_low = ci[1],\n",
    "      ci_high = ci[2],\n",
    "      p = p_value\n",
    "    ))\n",
    "  }\n",
    "\n",
    "  for(perio_type in c(\"moderate\", \"severe\")) {\n",
    "    if(perio_type == \"moderate\") {\n",
    "      # Moderate vs None/Mild\n",
    "      subset_df <- df[df$periodontitis %in% c(\"None/Mild\", \"Moderate\"),]\n",
    "      # Create Binary Variable (1 = moderate, 0 = None/Mild)\n",
    "      subset_df$perio_binary <- ifelse(subset_df$periodontitis == \"Moderate\", 1, 0)\n",
    "    } else {\n",
    "      # Severe vs None/Mild\n",
    "      subset_df <- df[df$periodontitis %in% c(\"None/Mild\", \"Severe\"),]\n",
    "      # Create Binary Variable (1 = severe, 0 = None/Mild)\n",
    "      subset_df$perio_binary <- ifelse(subset_df$periodontitis == \"Severe\", 1, 0)\n",
    "    }\n",
    "\n",
    "    # Adjusted Analysis\n",
    "    adjusted_formula <- paste(\n",
    "      \" ~ perio_binary + RIDAGEYR + RIAGENDR + SMQ020 + INDFMPIR + DMDEDUC2 + ALQ101\"\n",
    "    )\n",
    "    # Overall\n",
    "    model_adj_overall = glm(as.formula(paste(outcome, adjusted_formula)),\n",
    "                        family = binomial, data = subset_df)\n",
    "\n",
    "    # Males only (removed RIAGENDR from formula for Gender subgroups)\n",
    "    gender_formula <- paste(\n",
    "      \" ~ perio_binary + RIDAGEYR + SMQ020 + INDFMPIR + DMDEDUC2 + ALQ101\"\n",
    "    )\n",
    "    model_adj_males = glm(as.formula(paste(outcome, gender_formula)),\n",
    "                      family = binomial, data = subset_df[subset_df$RIAGENDR == 1,])\n",
    "    \n",
    "    # Females only\n",
    "    model_adj_females = glm(as.formula(paste(outcome, gender_formula)),\n",
    "                        family = binomial, data = subset_df[subset_df$RIAGENDR == 2,])\n",
    "\n",
    "    results[[perio_type]] = list(\n",
    "      overall = get_model_stats(model_adj_overall),\n",
    "      males = get_model_stats(model_adj_males),\n",
    "      females = get_model_stats(model_adj_females)\n",
    "    )\n",
    "  }\n",
    "  \n",
    "  return(results)\n",
    "}"
   ]
  },
  {
   "cell_type": "code",
   "execution_count": null,
   "metadata": {
    "vscode": {
     "languageId": "r"
    }
   },
   "outputs": [],
   "source": [
    "# Function to format results in a precise table (for single analysis)\n",
    "\n",
    "format_results_single_analysis <- function(results_list, predictors) {\n",
    "  formatted_table <- data.frame(\n",
    "    Predictor = character(),\n",
    "    `Moderate (Overall)` = character(),\n",
    "    `Moderate (Males)` = character(),\n",
    "    `Moderate (Females)` = character(),\n",
    "    `Severe (Overall)` = character(),\n",
    "    `Severe (Males)` = character(),\n",
    "    `Severe (Females)` = character(),\n",
    "    stringsAsFactors = FALSE\n",
    "  )\n",
    "  \n",
    "  format_stats <- function(stats) {\n",
    "    stars <- ifelse(stats$p < 0.001, \"***\",\n",
    "                   ifelse(stats$p < 0.01, \"**\",\n",
    "                          ifelse(stats$p < 0.05, \"*\", \"\")))\n",
    "    \n",
    "    paste0(\n",
    "      round(stats$or, 2), \" (\",\n",
    "      round(stats$ci_low, 2), \"-\",\n",
    "      round(stats$ci_high, 2), \")\",\n",
    "      stars\n",
    "    )\n",
    "  }\n",
    "  \n",
    "  for(pred in names(results_list)) {\n",
    "    res <- results_list[[pred]]\n",
    "    \n",
    "    row <- data.frame(\n",
    "      Predictor = pred,\n",
    "      `Moderate (Overall)` = format_stats(res$moderate$overall),\n",
    "      `Moderate (Males)` = format_stats(res$moderate$males),\n",
    "      `Moderate (Females)` = format_stats(res$moderate$females),\n",
    "      `Severe (Overall)` = format_stats(res$severe$overall),\n",
    "      `Severe (Males)` = format_stats(res$severe$males),\n",
    "      `Severe (Females)` = format_stats(res$severe$females)\n",
    "    )\n",
    "    \n",
    "    formatted_table <- rbind(formatted_table, row)\n",
    "  }\n",
    "  \n",
    "  predictor_names <- c(\n",
    "    \"PFQ061I_bin\" = \"Locomotor Capacity\",\n",
    "    \"DLQ040\" = \"Cognitive Capacity\",\n",
    "    \"WHQ060\" = \"Vitality (Weight loss)\",\n",
    "    \"DPQ050_bin\" = \"Vitality (Nutrition)\",\n",
    "    \"DPQ020_bin\" = \"Psychological Capacity (Mood)\",\n",
    "    \"DPQ010_bin\" = \"Psychological Capacity (Anhedonia)\",\n",
    "    \"DLQ010\" = \"Sensory Capacity (Hearing Capacity)\",\n",
    "    \"DLQ020\" = \"Sensory Domain (Visual Capacity)\"\n",
    "  )\n",
    "  \n",
    "  formatted_table$Predictor <- predictor_names[formatted_table$Predictor]\n",
    "  \n",
    "  formatted_table <- formatted_table[match(predictor_names, formatted_table$Predictor), ]\n",
    "  \n",
    "  return(formatted_table)\n",
    "}"
   ]
  },
  {
   "cell_type": "code",
   "execution_count": null,
   "metadata": {
    "vscode": {
     "languageId": "r"
    }
   },
   "outputs": [],
   "source": [
    "# Function to format results with domain names, and crude/adjusted rows\n",
    "\n",
    "format_results <- function(results_list, outcomes) {\n",
    "  formatted_table <- data.frame(\n",
    "    Predictor = character(),\n",
    "    `Moderate (Overall)` = character(),\n",
    "    `Moderate (Males)` = character(),\n",
    "    `Moderate (Females)` = character(),\n",
    "    `Severe (Overall)` = character(),\n",
    "    `Severe (Males)` = character(),\n",
    "    `Severe (Females)` = character(),\n",
    "    stringsAsFactors = FALSE\n",
    "  )\n",
    "  \n",
    "  format_stats <- function(stats) {\n",
    "    stars <- ifelse(stats$p < 0.001, \"***\",\n",
    "                    ifelse(stats$p < 0.01, \"**\",\n",
    "                           ifelse(stats$p < 0.05, \"*\", \"\")))\n",
    "    paste0(\n",
    "      round(stats$or, 2), \" (\",\n",
    "      round(stats$ci_low, 2), \"-\",\n",
    "      round(stats$ci_high, 2), \")\",\n",
    "      stars\n",
    "    )\n",
    "  }\n",
    "  \n",
    "  # Outcome names (name to be changed)\n",
    "  predictor_names <- c(\n",
    "    \"PFQ061I_bin\" = \"Locomotor Capacity\",\n",
    "    \"DLQ040\" = \"Cognitive Capacity\",\n",
    "    \"WHQ060\" = \"Vitality (Weight loss)\",\n",
    "    \"DPQ050_bin\" = \"Vitality (Nutrition)\",\n",
    "    \"DPQ020_bin\" = \"Psychological Capacity (Mood)\",\n",
    "    \"DPQ010_bin\" = \"Psychological Capacity (Anhedonia)\",\n",
    "    \"DLQ010\" = \"Sensory Capacity (Hearing Capacity)\",\n",
    "    \"DLQ020\" = \"Sensory Domain (Visual Capacity)\"\n",
    "  )\n",
    "  \n",
    "  for(outcome in names(results_list)) {\n",
    "    res <- results_list[[outcome]]\n",
    "    \n",
    "    domain_row <- data.frame(\n",
    "      Predictor = predictor_names[outcome],\n",
    "      `Moderate (Overall)` = \"\",\n",
    "      `Moderate (Males)` = \"\",\n",
    "      `Moderate (Females)` = \"\",\n",
    "      `Severe (Overall)` = \"\",\n",
    "      `Severe (Males)` = \"\",\n",
    "      `Severe (Females)` = \"\",\n",
    "      stringsAsFactors = FALSE\n",
    "    )\n",
    "    \n",
    "    crude_row <- data.frame(\n",
    "      Predictor = \"Crude\",\n",
    "      `Moderate (Overall)` = format_stats(res$moderate$crude$overall),\n",
    "      `Moderate (Males)` = format_stats(res$moderate$crude$males),\n",
    "      `Moderate (Females)` = format_stats(res$moderate$crude$females),\n",
    "      `Severe (Overall)` = format_stats(res$severe$crude$overall),\n",
    "      `Severe (Males)` = format_stats(res$severe$crude$males),\n",
    "      `Severe (Females)` = format_stats(res$severe$crude$females),\n",
    "      stringsAsFactors = FALSE\n",
    "    )\n",
    "    \n",
    "    adjusted_row <- data.frame(\n",
    "      Predictor = \"Adjusted\",\n",
    "      `Moderate (Overall)` = format_stats(res$moderate$adjusted$overall),\n",
    "      `Moderate (Males)` = format_stats(res$moderate$adjusted$males),\n",
    "      `Moderate (Females)` = format_stats(res$moderate$adjusted$females),\n",
    "      `Severe (Overall)` = format_stats(res$severe$adjusted$overall),\n",
    "      `Severe (Males)` = format_stats(res$severe$adjusted$males),\n",
    "      `Severe (Females)` = format_stats(res$severe$adjusted$females),\n",
    "      stringsAsFactors = FALSE\n",
    "    )\n",
    "    \n",
    "    formatted_table <- rbind(formatted_table, domain_row, crude_row, adjusted_row)\n",
    "  }\n",
    "  \n",
    "  ordered_outcomes <- names(predictor_names)\n",
    "  row_indices <- c()\n",
    "  \n",
    "  for (outcome in ordered_outcomes) {\n",
    "    domain_idx <- which(formatted_table$Predictor == predictor_names[outcome])\n",
    "    if (length(domain_idx) > 0) {\n",
    "      row_indices <- c(row_indices, domain_idx, domain_idx + 1, domain_idx + 2)\n",
    "    }\n",
    "  }\n",
    "  \n",
    "  if (length(row_indices) == nrow(formatted_table)) {\n",
    "    formatted_table <- formatted_table[row_indices, ]\n",
    "  }\n",
    "  \n",
    "  return(formatted_table)\n",
    "}"
   ]
  },
  {
   "cell_type": "code",
   "execution_count": null,
   "metadata": {
    "vscode": {
     "languageId": "r"
    }
   },
   "outputs": [],
   "source": [
    "# Perform Crude & Adjusted Logistic Regression\n",
    "\n",
    "outcomes <- c(\"PFQ061I_bin\", \"DLQ040\", \"WHQ060\", \"DPQ050_bin\", \n",
    "                \"DPQ020_bin\", \"DPQ010_bin\", \"DLQ010\", \"DLQ020\")\n",
    "\n",
    "results_list <- setNames(\n",
    "  lapply(outcomes, function(pred) run_logistic_analysis(df_prove, pred)),\n",
    "  outcomes\n",
    ")\n",
    "\n",
    "final_table <- format_results(results_list, outcomes)\n",
    "final_table"
   ]
  },
  {
   "cell_type": "code",
   "execution_count": null,
   "metadata": {
    "vscode": {
     "languageId": "r"
    }
   },
   "outputs": [],
   "source": [
    "# Saving Table in the csv format\n",
    "\n",
    "csv_table <- final_table\n",
    "colnames(csv_table) <- c(\n",
    "    \"Intrinsic Capacity domains\",\n",
    "    \"Moderate periodontitis - OR (95% CI) - Overall\",\n",
    "    \"Moderate periodontitis - OR (95% CI) - Males\",\n",
    "    \"Moderate periodontitis - OR (95% CI) - Females\",\n",
    "    \"Severe periodontitis - OR (95% CI) - Overall\",\n",
    "    \"Severe periodontitis - OR (95% CI) - Males\",\n",
    "    \"Severe periodontitis - OR (95% CI) - Females\"\n",
    ")\n",
    "\n",
    "write.csv(csv_table, \"/Users/silvanoquarto/Desktop/LAVORO/MEDICAL_PHYSICS/Med-Physics/results/NHANES_13_14/completed_regression_analysis.csv\", row.names = FALSE)"
   ]
  },
  {
   "cell_type": "code",
   "execution_count": null,
   "metadata": {
    "vscode": {
     "languageId": "r"
    }
   },
   "outputs": [],
   "source": [
    "# Perform Crude Logistic Regression\n",
    "\n",
    "outcomes <- c(\"PFQ061I_bin\", \"DLQ040\", \"WHQ060\", \"DPQ050_bin\", \n",
    "                \"DPQ020_bin\", \"DPQ010_bin\", \"DLQ010\", \"DLQ020\")\n",
    "\n",
    "results_list_crude <- setNames(\n",
    "  lapply(outcomes, function(pred) run_crude_logistic_analysis(df_prove, pred)),\n",
    "  outcomes\n",
    ")\n",
    "\n",
    "final_table_crude <- format_results_single_analysis(results_list_crude, outcomes)\n",
    "final_table_crude"
   ]
  },
  {
   "cell_type": "code",
   "execution_count": null,
   "metadata": {
    "vscode": {
     "languageId": "r"
    }
   },
   "outputs": [],
   "source": [
    "# Perform Adjusted Logistic Regression\n",
    "\n",
    "outcomes <- c(\"PFQ061I_bin\", \"DLQ040\", \"WHQ060\", \"DPQ050_bin\", \n",
    "                \"DPQ020_bin\", \"DPQ010_bin\", \"DLQ010\", \"DLQ020\")\n",
    "\n",
    "results_list_adjusted <- setNames(\n",
    "  lapply(outcomes, function(pred) run_adjusted_logistic_analysis(df_prove, pred)),\n",
    "  outcomes\n",
    ")\n",
    "\n",
    "final_table_adjusted <- format_results_single_analysis(results_list_adjusted, outcomes)\n",
    "final_table_adjusted"
   ]
  },
  {
   "cell_type": "code",
   "execution_count": null,
   "metadata": {
    "vscode": {
     "languageId": "r"
    }
   },
   "outputs": [],
   "source": [
    "# Saving Crude Table in the csv format\n",
    "\n",
    "csv_table <- final_table_crude\n",
    "colnames(csv_table) <- c(\n",
    "    \"Intrinsic Capacity domains\",\n",
    "    \"Moderate periodontitis - OR (95% CI) - Overall\",\n",
    "    \"Moderate periodontitis - OR (95% CI) - Males\",\n",
    "    \"Moderate periodontitis - OR (95% CI) - Females\",\n",
    "    \"Severe periodontitis - OR (95% CI) - Overall\",\n",
    "    \"Severe periodontitis - OR (95% CI) - Males\",\n",
    "    \"Severe periodontitis - OR (95% CI) - Females\"\n",
    ")\n",
    "\n",
    "write.csv(csv_table, \"/Users/silvanoquarto/Desktop/LAVORO/MEDICAL_PHYSICS/Med-Physics/results/NHANES_13_14/crude_logistic_regression_results.csv\", row.names = FALSE)"
   ]
  },
  {
   "cell_type": "code",
   "execution_count": null,
   "metadata": {
    "vscode": {
     "languageId": "r"
    }
   },
   "outputs": [],
   "source": [
    "# Saving Adjusted Table in the csv format\n",
    "\n",
    "csv_table <- final_table_adjusted\n",
    "colnames(csv_table) <- c(\n",
    "    \"Intrinsic Capacity domains\",\n",
    "    \"Moderate periodontitis - OR (95% CI) - Overall\",\n",
    "    \"Moderate periodontitis - OR (95% CI) - Males\",\n",
    "    \"Moderate periodontitis - OR (95% CI) - Females\",\n",
    "    \"Severe periodontitis - OR (95% CI) - Overall\",\n",
    "    \"Severe periodontitis - OR (95% CI) - Males\",\n",
    "    \"Severe periodontitis - OR (95% CI) - Females\"\n",
    ")\n",
    "\n",
    "write.csv(csv_table, \"/Users/silvanoquarto/Desktop/LAVORO/MEDICAL_PHYSICS/Med-Physics/results/NHANES_13_14/adjusted_logistic_regression_results.csv\", row.names = FALSE)"
   ]
  },
  {
   "cell_type": "markdown",
   "metadata": {},
   "source": [
    "#### Visualize Results using separated results"
   ]
  },
  {
   "cell_type": "code",
   "execution_count": null,
   "metadata": {
    "vscode": {
     "languageId": "r"
    }
   },
   "outputs": [],
   "source": [
    "# Function to prepare data for the forest plot from results_list\n",
    "\n",
    "prepare_forest_data_from_list <- function(results_list, outcome_type, analysis_type, predictor_names) {\n",
    "  plot_data <- data.frame(\n",
    "    predictor = character(),\n",
    "    predictor_label = character(),\n",
    "    or = numeric(),\n",
    "    ci_low = numeric(),\n",
    "    ci_high = numeric(),\n",
    "    p_value = numeric(),\n",
    "    stringsAsFactors = FALSE\n",
    "  )\n",
    "  \n",
    "  for(pred in names(results_list)) {\n",
    "    if(outcome_type %in% names(results_list[[pred]]) && \n",
    "       analysis_type %in% names(results_list[[pred]][[outcome_type]])) {\n",
    "      \n",
    "      result <- results_list[[pred]][[outcome_type]][[analysis_type]]\n",
    "      \n",
    "      if(pred %in% names(predictor_names)) {\n",
    "        pred_label <- predictor_names[[pred]]\n",
    "      } else {\n",
    "        pred_label <- pred\n",
    "      }\n",
    "      \n",
    "      plot_data <- rbind(plot_data, data.frame(\n",
    "        predictor = pred,\n",
    "        predictor_label = pred_label,\n",
    "        or = result$or[1],\n",
    "        ci_low = result$ci_low[1],\n",
    "        ci_high = result$ci_high[1],\n",
    "        p_value = result$p,\n",
    "        stringsAsFactors = FALSE\n",
    "      ))\n",
    "    }\n",
    "  }\n",
    "  \n",
    "  plot_data <- plot_data[order(plot_data$or), ]\n",
    "  \n",
    "  return(plot_data)\n",
    "}\n",
    "\n",
    "# Function to create the forest plot\n",
    "create_odds_ratio_forest_plot <- function(plot_data, title) {\n",
    "  plot_data$or_ci_text <- sprintf(\"%.2f (%.2f-%.2f)\", \n",
    "                                 plot_data$or, \n",
    "                                 plot_data$ci_low, \n",
    "                                 plot_data$ci_high)\n",
    "  \n",
    "  plot_data$p_text <- ifelse(plot_data$p_value < 0.001, \"0.000\", \n",
    "                            sprintf(\"%.3f\", plot_data$p_value))\n",
    "  \n",
    "  x_max <- max(plot_data$ci_high, na.rm = TRUE) * 1.25\n",
    "  x_min <- min(0.875, min(plot_data$ci_low, na.rm = TRUE) * 0.9)\n",
    "  \n",
    "  ggplot(plot_data, aes(x = or, y = reorder(predictor_label, or))) +\n",
    "    geom_vline(xintercept = 1, linetype = \"dashed\", color = \"grey50\") +\n",
    "    geom_point(shape = 15, size = 9, color = \"darkgreen\") +\n",
    "    geom_errorbarh(aes(xmin = ci_low, xmax = ci_high), height = 0.2, color = \"darkgreen\") +\n",
    "\n",
    "    geom_text(aes(x = x_max * 0.83, label = or_ci_text), hjust = 0, size = 12, fontface = \"bold\") +\n",
    "    geom_text(aes(x = x_max * 0.98, label = p_text), hjust = 0, size = 12, fontface = \"bold\") +\n",
    "\n",
    "    theme_minimal() +\n",
    "    theme(\n",
    "      panel.grid.major = element_blank(), \n",
    "      panel.grid.minor = element_blank(),\n",
    "      axis.text.x = element_text(size = 27),\n",
    "      axis.text.y = element_text(size = 44, face = \"bold\"),\n",
    "      axis.title.x = element_text(size = 34, face = \"bold\"),\n",
    "      plot.title = element_text(hjust = 0.5, size = 44, face = \"bold\")\n",
    "    ) +\n",
    "    \n",
    "    labs(\n",
    "      title = title,\n",
    "      x = \"OR\",\n",
    "      y = NULL,\n",
    "      caption = \"\"\n",
    "    ) +\n",
    "\n",
    "    scale_x_continuous(\n",
    "      limits = c(x_min, x_max),\n",
    "      breaks = seq(round(x_min, 1), round(x_max, 1), by = 0.2),\n",
    "      minor_breaks = NULL,\n",
    "      guide = guide_axis(check.overlap = TRUE)\n",
    "    ) + \n",
    "    theme(\n",
    "      axis.line.x = element_line(color = \"black\"),\n",
    "      axis.ticks.x = element_line(color = \"black\")\n",
    "    )\n",
    "}"
   ]
  },
  {
   "cell_type": "markdown",
   "metadata": {},
   "source": [
    "##### Crude Regression Visualization"
   ]
  },
  {
   "cell_type": "code",
   "execution_count": null,
   "metadata": {
    "vscode": {
     "languageId": "r"
    }
   },
   "outputs": [],
   "source": [
    "# Forest Plot for Adjusted Regression Analysis\n",
    "\n",
    "predictor_names <- c(\n",
    "  \"PFQ061I_bin\" = \"Locomotor Capacity\",\n",
    "  \"DLQ040\" = \"Cognitive Capacity\",\n",
    "  \"WHQ060\" = \"Vitality (Weight loss)\",\n",
    "  \"DPQ050_bin\" = \"Vitality (Nutrition)\",\n",
    "  \"DPQ020_bin\" = \"Psychological Capacity (Mood)\",\n",
    "  \"DPQ010_bin\" = \"Psychological Capacity (Anhedonia)\",\n",
    "  \"DLQ010\" = \"Sensory Capacity (Hearing Capacity)\",\n",
    "  \"DLQ020\" = \"Sensory Domain (Visual Capacity)\"\n",
    ")\n",
    "\n",
    "crude_moderate_overall_data <- prepare_forest_data_from_list(results_list_crude, \"moderate\", \"overall\", predictor_names)\n",
    "\n",
    "crude_moderate_plot <- create_odds_ratio_forest_plot(crude_moderate_overall_data, \n",
    "                                             \"Crude logistic regression of Moderate VS None/Mild Periodontitis\")\n",
    "\n",
    "options(repr.plot.width = 34, repr.plot.height = 28)\n",
    "\n",
    "ggsave(\"/Users/silvanoquarto/Desktop/datagrafico.png\", width = 15, height = 10, units = \"in\", dpi = 300)\n",
    "\n",
    "print(crude_moderate_plot)"
   ]
  },
  {
   "cell_type": "code",
   "execution_count": null,
   "metadata": {
    "vscode": {
     "languageId": "r"
    }
   },
   "outputs": [],
   "source": [
    "# Severe Periodontitis Visualization\n",
    "\n",
    "crude_severe_overall_data <- prepare_forest_data_from_list(results_list_crude, \"severe\", \"overall\", predictor_names)\n",
    "crude_severe_plot <- create_odds_ratio_forest_plot(crude_severe_overall_data, \n",
    "                                          \"Crude logistic regression of Severe VS None/Mild Periodontitis\")\n",
    "crude_severe_plot"
   ]
  },
  {
   "cell_type": "code",
   "execution_count": null,
   "metadata": {
    "vscode": {
     "languageId": "r"
    }
   },
   "outputs": [],
   "source": [
    "# Moderate Periodontitis Visualization for Male subgroup \n",
    "\n",
    "crude_moderate_male_data <- prepare_forest_data_from_list(results_list_crude, \"moderate\", \"males\", predictor_names)\n",
    "crude_moderate_male_plot <- create_odds_ratio_forest_plot(crude_moderate_male_data,\n",
    "                                          \"Male crude logistic regression of Moderate VS None/Mild Periodontitis\")\n",
    "crude_moderate_male_plot"
   ]
  },
  {
   "cell_type": "code",
   "execution_count": null,
   "metadata": {
    "vscode": {
     "languageId": "r"
    }
   },
   "outputs": [],
   "source": [
    "# Severe Periodontitis Visualization for Male subgroup \n",
    "\n",
    "crude_severe_male_data <- prepare_forest_data_from_list(results_list_crude, \"severe\", \"males\", predictor_names)\n",
    "crude_severe_male_plot <- create_odds_ratio_forest_plot(crude_severe_male_data, \n",
    "                                          \"Male crude logistic regression of Severe VS None/Mild Periodontitis\")\n",
    "crude_severe_male_plot"
   ]
  },
  {
   "cell_type": "code",
   "execution_count": null,
   "metadata": {
    "vscode": {
     "languageId": "r"
    }
   },
   "outputs": [],
   "source": [
    "# Moderate Periodontitis Visualization for Female subgroup \n",
    "\n",
    "crude_moderate_female_data <- prepare_forest_data_from_list(results_list_crude, \"moderate\", \"females\", predictor_names)\n",
    "crude_moderate_female_plot <- create_odds_ratio_forest_plot(crude_moderate_female_data,\n",
    "                                          \"Female crude logistic regression of Moderate VS None/Mild Periodontitis\")\n",
    "crude_moderate_female_plot"
   ]
  },
  {
   "cell_type": "code",
   "execution_count": null,
   "metadata": {
    "vscode": {
     "languageId": "r"
    }
   },
   "outputs": [],
   "source": [
    "# Severe Periodontitis Visualization for Female subgroup \n",
    "\n",
    "crude_severe_female_data <- prepare_forest_data_from_list(results_list_crude, \"severe\", \"females\", predictor_names)\n",
    "crude_severe_female_plot <- create_odds_ratio_forest_plot(crude_severe_female_data, \n",
    "                                          \"Female crude logistic regression of Severe VS None/Mild Periodontitis\")\n",
    "crude_severe_female_plot"
   ]
  },
  {
   "cell_type": "markdown",
   "metadata": {},
   "source": [
    "##### Adjusted Regression Visualization"
   ]
  },
  {
   "cell_type": "code",
   "execution_count": null,
   "metadata": {
    "vscode": {
     "languageId": "r"
    }
   },
   "outputs": [],
   "source": [
    "# Forest Plot for Adjusted Regression Analysis\n",
    "\n",
    "predictor_names <- c(\n",
    "  \"PFQ061I_bin\" = \"Locomotor Capacity\",\n",
    "  \"DLQ040\" = \"Cognitive Capacity\",\n",
    "  \"WHQ060\" = \"Vitality (Weight loss)\",\n",
    "  \"DPQ050_bin\" = \"Vitality (Nutrition)\",\n",
    "  \"DPQ020_bin\" = \"Psychological Capacity (Mood)\",\n",
    "  \"DPQ010_bin\" = \"Psychological Capacity (Anhedonia)\",\n",
    "  \"DLQ010\" = \"Sensory Capacity (Hearing Capacity)\",\n",
    "  \"DLQ020\" = \"Sensory Domain (Visual Capacity)\"\n",
    ")\n",
    "\n",
    "moderate_overall_data <- prepare_forest_data_from_list(results_list_adjusted, \"moderate\", \"overall\", predictor_names)\n",
    "\n",
    "moderate_plot <- create_odds_ratio_forest_plot(moderate_overall_data, \n",
    "                                             \"Adjusted logistic regression of Moderate VS None/Mild Periodontitis\")\n",
    "\n",
    "options(repr.plot.width = 14, repr.plot.height = 10)\n",
    "print(moderate_plot)"
   ]
  },
  {
   "cell_type": "code",
   "execution_count": null,
   "metadata": {
    "vscode": {
     "languageId": "r"
    }
   },
   "outputs": [],
   "source": [
    "# Severe Periodontitis Visualization\n",
    "\n",
    "severe_overall_data <- prepare_forest_data_from_list(results_list_adjusted, \"severe\", \"overall\", predictor_names)\n",
    "severe_plot <- create_odds_ratio_forest_plot(severe_overall_data, \n",
    "                                          \"Adjusted logistic regression of Severe VS None/Mild Periodontitis\")\n",
    "severe_plot"
   ]
  },
  {
   "cell_type": "code",
   "execution_count": null,
   "metadata": {
    "vscode": {
     "languageId": "r"
    }
   },
   "outputs": [],
   "source": [
    "# Moderate Periodontitis Visualization for Male subgroup \n",
    "\n",
    "moderate_male_data <- prepare_forest_data_from_list(results_list_adjusted, \"moderate\", \"males\", predictor_names)\n",
    "moderate_male_plot <- create_odds_ratio_forest_plot(moderate_male_data,\n",
    "                                          \"Male adjusted logistic regression of Moderate VS None/Mild Periodontitis\")\n",
    "moderate_male_plot"
   ]
  },
  {
   "cell_type": "code",
   "execution_count": null,
   "metadata": {
    "vscode": {
     "languageId": "r"
    }
   },
   "outputs": [],
   "source": [
    "# Severe Periodontitis Visualization for Male subgroup \n",
    "\n",
    "severe_male_data <- prepare_forest_data_from_list(results_list_adjusted, \"severe\", \"males\", predictor_names)\n",
    "severe_male_plot <- create_odds_ratio_forest_plot(severe_male_data, \n",
    "                                          \"Male adjusted logistic regression of Severe VS None/Mild Periodontitis\")\n",
    "severe_male_plot"
   ]
  },
  {
   "cell_type": "code",
   "execution_count": null,
   "metadata": {
    "vscode": {
     "languageId": "r"
    }
   },
   "outputs": [],
   "source": [
    "# Moderate Periodontitis Visualization for Female subgroup \n",
    "\n",
    "moderate_female_data <- prepare_forest_data_from_list(results_list_adjusted, \"moderate\", \"females\", predictor_names)\n",
    "moderate_female_plot <- create_odds_ratio_forest_plot(moderate_female_data,\n",
    "                                          \"Female adjusted logistic regression of Moderate VS None/Mild Periodontitis\")\n",
    "moderate_female_plot"
   ]
  },
  {
   "cell_type": "code",
   "execution_count": null,
   "metadata": {
    "vscode": {
     "languageId": "r"
    }
   },
   "outputs": [],
   "source": [
    "# Severe Periodontitis Visualization for Female subgroup \n",
    "\n",
    "severe_female_data <- prepare_forest_data_from_list(results_list_adjusted, \"severe\", \"females\", predictor_names)\n",
    "severe_female_plot <- create_odds_ratio_forest_plot(severe_female_data, \n",
    "                                          \"Female adjusted logistic regression of Severe VS None/Mild Periodontitis\")\n",
    "severe_female_plot"
   ]
  },
  {
   "cell_type": "markdown",
   "metadata": {},
   "source": [
    "#### Crude and Adjusted Logistic Regression analysis with CAL and PPD means as outcome"
   ]
  },
  {
   "cell_type": "code",
   "execution_count": null,
   "metadata": {
    "vscode": {
     "languageId": "r"
    }
   },
   "outputs": [],
   "source": [
    "df_prove <- read.csv(\"/Users/silvanoquarto/Desktop/LAVORO/MEDICAL_PHYSICS/Med-Physics/data/NHANES/recoded_df_09_14.csv\", \n",
    "              stringsAsFactors = TRUE)\n",
    "\n",
    "head(df_prove)"
   ]
  },
  {
   "cell_type": "code",
   "execution_count": null,
   "metadata": {
    "vscode": {
     "languageId": "r"
    }
   },
   "outputs": [],
   "source": [
    "# Function to run a crude & adjusted logistic regression analysis\n",
    "\n",
    "run_logistic_analysis_mean_ppd_cal <- function(df, outcome) {\n",
    "  \n",
    "  results = list()\n",
    "  \n",
    "  get_model_stats <- function(model) {\n",
    "    coef_summary <- summary(model)\n",
    "    or <- exp(coef(model)[2])\n",
    "    ci <- exp(confint(model)[2,])\n",
    "    p_value <- coef_summary$coefficients[2,4]\n",
    "    \n",
    "    return(list(\n",
    "      or = or,\n",
    "      ci_low = ci[1],\n",
    "      ci_high = ci[2],\n",
    "      p = p_value\n",
    "    ))\n",
    "  }\n",
    "\n",
    "  for(perio_pred in c(\"mean_ppd\", \"mean_cal\")) {\n",
    "\n",
    "    # Crude Analysis\n",
    "    # Overall\n",
    "    model_crude_overall <- glm(as.formula(paste(outcome, \" ~ \", perio_pred)), \n",
    "                               family = binomial, data = df)\n",
    "    \n",
    "    # Only Male\n",
    "    model_crude_males <- glm(as.formula(paste(outcome, \" ~ \", perio_pred)), \n",
    "                             family = binomial, data = df[df$RIAGENDR == 1,])\n",
    "    \n",
    "    # Only Female\n",
    "    model_crude_females <- glm(as.formula(paste(outcome, \" ~ \", perio_pred)), \n",
    "                               family = binomial, data = df[df$RIAGENDR == 2,])\n",
    "\n",
    "    # Adjusted Analysis\n",
    "    adjusted_formula <- paste(\n",
    "      \" ~ \", perio_pred, \" + RIDAGEYR + RIAGENDR + SMQ020 + INDFMPIR + DMDEDUC2 + ALQ101\"\n",
    "    )\n",
    "    # Overall\n",
    "    model_adj_overall = glm(as.formula(paste(outcome, adjusted_formula)),\n",
    "                       family = binomial, data = df)\n",
    "\n",
    "    # Males only (removed RIAGENDR from formula for Gender subgroups)\n",
    "    gender_formula <- paste(\n",
    "      \" ~ \", perio_pred, \" + RIDAGEYR + SMQ020 + INDFMPIR + DMDEDUC2 + ALQ101\"\n",
    "    )\n",
    "    model_adj_males = glm(as.formula(paste(outcome, gender_formula)),\n",
    "                      family = binomial, data = df[df$RIAGENDR == 1,])\n",
    "    \n",
    "    # Females only\n",
    "    model_adj_females = glm(as.formula(paste(outcome, gender_formula)),\n",
    "                        family = binomial, data = df[df$RIAGENDR == 2,])\n",
    "    \n",
    "    # Saving results\n",
    "    results[[perio_pred]] <- list(\n",
    "      crude = list(\n",
    "        overall = get_model_stats(model_crude_overall),\n",
    "        males = get_model_stats(model_crude_males),\n",
    "        females = get_model_stats(model_crude_females)\n",
    "      ),\n",
    "      adjusted = list(\n",
    "        overall = get_model_stats(model_adj_overall),\n",
    "        males = get_model_stats(model_adj_males),\n",
    "        females = get_model_stats(model_adj_females)\n",
    "      )\n",
    "    )\n",
    "  }\n",
    "  return(results)\n",
    "}"
   ]
  },
  {
   "cell_type": "code",
   "execution_count": null,
   "metadata": {
    "vscode": {
     "languageId": "r"
    }
   },
   "outputs": [],
   "source": [
    "# Function to format results with domain names, and crude/adjusted rows\n",
    "\n",
    "format_results_mean_ppd_cal <- function(results_list, outcomes) {\n",
    "  formatted_table <- data.frame(\n",
    "    Predictor = character(),\n",
    "    `Mean PPD (Overall)` = character(),\n",
    "    `Mean PPD (Males)` = character(),\n",
    "    `Mean PPD (Females)` = character(),\n",
    "    `Mean CAL (Overall)` = character(),\n",
    "    `Mean CAL (Males)` = character(),\n",
    "    `Mean CAL (Females)` = character(),\n",
    "    stringsAsFactors = FALSE\n",
    "  )\n",
    "  \n",
    "  format_stats <- function(stats) {\n",
    "    stars <- ifelse(stats$p < 0.001, \"***\",\n",
    "                    ifelse(stats$p < 0.01, \"**\",\n",
    "                           ifelse(stats$p < 0.05, \"*\", \"\")))\n",
    "    paste0(\n",
    "      round(stats$or, 2), \" (\",\n",
    "      round(stats$ci_low, 2), \"-\",\n",
    "      round(stats$ci_high, 2), \")\",\n",
    "      stars\n",
    "    )\n",
    "  }\n",
    "  \n",
    "  # Outcome names (name to be changed)\n",
    "  predictor_names <- c(\n",
    "    \"PFQ061I_bin\" = \"Locomotor Capacity\",\n",
    "    \"DLQ040\" = \"Cognitive Capacity\",\n",
    "    \"WHQ060\" = \"Vitality (Weight loss)\",\n",
    "    \"DPQ050_bin\" = \"Vitality (Nutrition)\",\n",
    "    \"DPQ020_bin\" = \"Psychological Capacity (Mood)\",\n",
    "    \"DPQ010_bin\" = \"Psychological Capacity (Anhedonia)\",\n",
    "    \"DLQ010\" = \"Sensory Capacity (Hearing Capacity)\",\n",
    "    \"DLQ020\" = \"Sensory Domain (Visual Capacity)\"\n",
    "  )\n",
    "  \n",
    "  for(outcome in names(results_list)) {\n",
    "    res <- results_list[[outcome]]\n",
    "    \n",
    "    domain_row <- data.frame(\n",
    "      Predictor = predictor_names[outcome],\n",
    "      `Mean PPD (Overall)` = \"\",\n",
    "      `Mean PPD (Males)` = \"\",\n",
    "      `Mean PPD (Females)` = \"\",\n",
    "      `Mean CAL (Overall)` = \"\",\n",
    "      `Mean CAL (Males)` = \"\",\n",
    "      `Mean CAL (Females)` = \"\",\n",
    "      stringsAsFactors = FALSE\n",
    "    )\n",
    "    \n",
    "    crude_row <- data.frame(\n",
    "      Predictor = \"Crude\",\n",
    "      `Mean PPD (Overall)` = format_stats(res$mean_ppd$crude$overall),\n",
    "      `Mean PPD (Males)` = format_stats(res$mean_ppd$crude$males),\n",
    "      `Mean PPD (Females)` = format_stats(res$mean_ppd$crude$females),\n",
    "      `Mean CAL (Overall)` = format_stats(res$mean_cal$crude$overall),\n",
    "      `Mean CAL (Males)` = format_stats(res$mean_cal$crude$males),\n",
    "      `Mean CAL (Females)` = format_stats(res$mean_cal$crude$females),\n",
    "      stringsAsFactors = FALSE\n",
    "    )\n",
    "    \n",
    "    adjusted_row <- data.frame(\n",
    "      Predictor = \"Adjusted\",\n",
    "      `Mean PPD (Overall)` = format_stats(res$mean_ppd$adjusted$overall),\n",
    "      `Mean PPD (Males)` = format_stats(res$mean_ppd$adjusted$males),\n",
    "      `Mean PPD (Females)` = format_stats(res$mean_ppd$adjusted$females),\n",
    "      `Mean CAL (Overall)` = format_stats(res$mean_cal$adjusted$overall),\n",
    "      `Mean CAL (Males)` = format_stats(res$mean_cal$adjusted$males),\n",
    "      `Mean CAL (Females)` = format_stats(res$mean_cal$adjusted$females),\n",
    "      stringsAsFactors = FALSE\n",
    "    )\n",
    "    \n",
    "    formatted_table <- rbind(formatted_table, domain_row, crude_row, adjusted_row)\n",
    "  }\n",
    "  \n",
    "  ordered_outcomes <- names(predictor_names)\n",
    "  row_indices <- c()\n",
    "  \n",
    "  for (outcome in ordered_outcomes) {\n",
    "    domain_idx <- which(formatted_table$Predictor == predictor_names[outcome])\n",
    "    if (length(domain_idx) > 0) {\n",
    "      row_indices <- c(row_indices, domain_idx, domain_idx + 1, domain_idx + 2)\n",
    "    }\n",
    "  }\n",
    "  \n",
    "  if (length(row_indices) == nrow(formatted_table)) {\n",
    "    formatted_table <- formatted_table[row_indices, ]\n",
    "  }\n",
    "  \n",
    "  return(formatted_table)\n",
    "}"
   ]
  },
  {
   "cell_type": "code",
   "execution_count": null,
   "metadata": {
    "vscode": {
     "languageId": "r"
    }
   },
   "outputs": [],
   "source": [
    "# Perform Crude & Adjusted Logistic Regression\n",
    "\n",
    "outcomes <- c(\"PFQ061I_bin\", \"DLQ040\", \"WHQ060\", \"DPQ050_bin\", \n",
    "                \"DPQ020_bin\", \"DPQ010_bin\", \"DLQ010\", \"DLQ020\")\n",
    "\n",
    "results_list_mean_ppd_cal <- setNames(\n",
    "  lapply(outcomes, function(pred) run_logistic_analysis_mean_ppd_cal(df_prove, pred)),\n",
    "  outcomes\n",
    ")\n",
    "\n",
    "final_table_mean_ppd_cal <- format_results_mean_ppd_cal(results_list_mean_ppd_cal, outcomes)\n",
    "final_table_mean_ppd_cal"
   ]
  },
  {
   "cell_type": "code",
   "execution_count": null,
   "metadata": {
    "vscode": {
     "languageId": "r"
    }
   },
   "outputs": [],
   "source": [
    "# Saving Table in the csv format\n",
    "\n",
    "csv_table <- final_table_mean_ppd_cal\n",
    "colnames(csv_table) <- c(\n",
    "    \"Intrinsic Capacity domains\",\n",
    "    \"Mean PPD - OR (95% CI) - Overall\",\n",
    "    \"Mean PPD - OR (95% CI) - Males\",\n",
    "    \"Mean PPD - OR (95% CI) - Females\",\n",
    "    \"Mean CAL - OR (95% CI) - Overall\",\n",
    "    \"Mean CAL - OR (95% CI) - Males\",\n",
    "    \"Mean CAL - OR (95% CI) - Females\"\n",
    ")\n",
    "\n",
    "write.csv(csv_table, \"/Users/silvanoquarto/Desktop/LAVORO/MEDICAL_PHYSICS/Med-Physics/results/NHANES_13_14/regression_analysis_mean_ppd_cal.csv\", row.names = FALSE)"
   ]
  },
  {
   "cell_type": "markdown",
   "metadata": {},
   "source": [
    "### Crude & Adjusted WHEIGHTED Logistic Regression Analysis"
   ]
  },
  {
   "cell_type": "code",
   "execution_count": null,
   "metadata": {
    "vscode": {
     "languageId": "r"
    }
   },
   "outputs": [],
   "source": [
    "df_prove <- read.csv(\"/Users/silvanoquarto/Desktop/LAVORO/MEDICAL_PHYSICS/Med-Physics/data/NHANES/recoded_df_09_14.csv\", \n",
    "              stringsAsFactors = TRUE)\n",
    "\n",
    "head(df_prove)"
   ]
  },
  {
   "cell_type": "code",
   "execution_count": null,
   "metadata": {
    "vscode": {
     "languageId": "r"
    }
   },
   "outputs": [],
   "source": [
    "# Weights from Demographic datasets\n",
    "\n",
    "demo_09_10 <- read_xpt(file.path(path_to_data_09_10, \"DEMO_F.xpt\"))\n",
    "\n",
    "demo_09_10_weights <- demo_09_10 %>%\n",
    "    select(SEQN, RIDAGEYR, WTMEC2YR, SDMVPSU, SDMVSTRA)\n",
    "\n",
    "demo_11_12 <- read_xpt(file.path(path_to_data_11_12, \"DEMO_G.xpt.txt\"))\n",
    "\n",
    "demo_11_12_weights <- demo_11_12 %>%\n",
    "    select(SEQN, RIDAGEYR, WTMEC2YR, SDMVPSU, SDMVSTRA)\n",
    "\n",
    "demo_13_14 <- read_xpt(file.path(path_to_data, \"DEMO_H.xpt.txt\"))\n",
    "\n",
    "demo_13_14_weights <- demo_13_14 %>%\n",
    "    select(SEQN, RIDAGEYR, WTMEC2YR, SDMVPSU, SDMVSTRA)\n",
    "\n",
    "weights_09_10 <- list(\n",
    "  demo_09_10_weights\n",
    ")\n",
    "\n",
    "weights_11_12 <- list(\n",
    "  demo_11_12_weights\n",
    ")\n",
    "\n",
    "weights_13_14 <- list(\n",
    "  demo_13_14_weights\n",
    ")\n",
    "\n",
    "# Horizontal union for period 2009/10, 2011/12, 2013/14\n",
    "\n",
    "wt_09_10 <- Reduce(function(x, y) full_join(x, y, by = \"SEQN\"), weights_09_10)\n",
    "\n",
    "wt_11_12 <- Reduce(function(x, y) full_join(x, y, by = \"SEQN\"), weights_11_12)\n",
    "\n",
    "wt_13_14 <- Reduce(function(x, y) full_join(x, y, by = \"SEQN\"), weights_13_14)\n",
    "\n",
    "# Vertical union\n",
    "\n",
    "wt_final <- bind_rows(wt_09_10, wt_11_12, wt_13_14)\n",
    "\n",
    "print(\"Dimensions before removing NA values\")\n",
    "dim(wt_final)\n",
    "\n",
    "# Filter with AGE >= 60\n",
    "\n",
    "wt_final_age_60 <- subset(wt_final, RIDAGEYR >= 60)\n",
    "\n",
    "print(\"Dimensions with AGE >= 60\")\n",
    "dim(wt_final_age_60)\n",
    "\n",
    "wt_final_age_60 <- subset(wt_final_age_60, select = -RIDAGEYR)\n",
    "head(wt_final_age_60)"
   ]
  },
  {
   "cell_type": "code",
   "execution_count": null,
   "metadata": {
    "vscode": {
     "languageId": "r"
    }
   },
   "outputs": [],
   "source": [
    "# Merge wt_final_age_60 with my final data frame \n",
    "\n",
    "df_final_merged <- df_prove %>%\n",
    "  inner_join(wt_final_age_60, by = \"SEQN\")\n",
    "\n",
    "dim(df_final_merged)"
   ]
  },
  {
   "cell_type": "code",
   "execution_count": null,
   "metadata": {
    "vscode": {
     "languageId": "r"
    }
   },
   "outputs": [],
   "source": [
    "# Preprocessing for WTMEC2YR: divide it for the number of NHANES cycles used (3 for our case)\n",
    "\n",
    "df_final_merged[, \"wt\"] = df_final_merged[, \"WTMEC2YR\"] / 3\n",
    "\n",
    "head(df_final_merged)"
   ]
  },
  {
   "cell_type": "code",
   "execution_count": null,
   "metadata": {
    "vscode": {
     "languageId": "r"
    }
   },
   "outputs": [],
   "source": [
    "# Function to run a crude & adjusted weighted logistic regression analysis\n",
    "\n",
    "options(survey.lonely.psu = \"adjust\") \n",
    "options(survey.adjust.domain.lonely = TRUE)\n",
    "\n",
    "run_weighted_logistic_analysis <- function(df, outcome) {\n",
    "  \n",
    "  results = list()\n",
    "  \n",
    "  get_model_stats <- function(model) {\n",
    "    coef_summary <- summary(model)\n",
    "    pred_idx <- which(rownames(coef_summary$coefficients) == \"perio_binary\")\n",
    "    or <- exp(coef(model)[pred_idx])\n",
    "    ci <- exp(confint(model)[pred_idx,])\n",
    "    p_value <- coef_summary$coefficients[pred_idx,4]\n",
    "    \n",
    "    return(list(\n",
    "      or = or,\n",
    "      ci_low = ci[1],\n",
    "      ci_high = ci[2],\n",
    "      p = p_value\n",
    "    ))\n",
    "  }\n",
    "\n",
    "  for(perio_type in c(\"moderate\", \"severe\")) {\n",
    "    if(perio_type == \"moderate\") {\n",
    "      # Moderate vs None/Mild\n",
    "      subset_df <- df[df$periodontitis %in% c(\"None/Mild\", \"Moderate\"),]\n",
    "      # Create Binary Variable (1 = moderate, 0 = None/Mild)\n",
    "      subset_df$perio_binary <- ifelse(subset_df$periodontitis == \"Moderate\", 1, 0)\n",
    "    } else {\n",
    "      # Severe vs None/Mild\n",
    "      subset_df <- df[df$periodontitis %in% c(\"None/Mild\", \"Severe\"),]\n",
    "      # Create Binary Variable (1 = severe, 0 = None/Mild)\n",
    "      subset_df$perio_binary <- ifelse(subset_df$periodontitis == \"Severe\", 1, 0)\n",
    "    }\n",
    "\n",
    "    # Define survey design\n",
    "    subset_design <- survey::svydesign(id = ~SDMVPSU,\n",
    "                           strata = ~SDMVSTRA,\n",
    "                           weights = ~wt,\n",
    "                           nest = TRUE,\n",
    "                           data = subset_df)\n",
    "\n",
    "    # Define subset for Gender subgroup analysis\n",
    "    subset_design_male <- subset(subset_design, RIAGENDR == 1)\n",
    "    subset_design_female <- subset(subset_design, RIAGENDR == 2)\n",
    "\n",
    "\n",
    "    # Crude Analysis\n",
    "    # Overall\n",
    "    model_crude_overall <- survey::svyglm(as.formula(paste(outcome, \" ~ perio_binary\")),\n",
    "                              family = quasibinomial, design = subset_design)\n",
    "    \n",
    "    # Only Male\n",
    "    model_crude_males <- survey::svyglm(as.formula(paste(outcome, \" ~ perio_binary\")), \n",
    "                              family = quasibinomial, design = subset_design_male)\n",
    "    \n",
    "    # Only Female\n",
    "    model_crude_females <- survey::svyglm(as.formula(paste(outcome, \" ~ perio_binary\")), \n",
    "                              family = quasibinomial, design = subset_design_female)\n",
    "\n",
    "    # Adjusted Analysis\n",
    "    adjusted_formula <- paste(\n",
    "      \" ~ perio_binary + RIDAGEYR + RIAGENDR + SMQ020 + INDFMPIR + DMDEDUC2 + ALQ101\"\n",
    "    )\n",
    "    # Overall\n",
    "    model_adj_overall <- survey::svyglm(as.formula(paste(outcome, adjusted_formula)),\n",
    "                              family = quasibinomial, design = subset_design)\n",
    "\n",
    "    # Males only (removed RIAGENDR from formula for Gender subgroups)\n",
    "    gender_formula <- paste(\n",
    "      \" ~ perio_binary + RIDAGEYR + SMQ020 + INDFMPIR + DMDEDUC2 + ALQ101\"\n",
    "    )\n",
    "    model_adj_males <- survey::svyglm(as.formula(paste(outcome, gender_formula)), \n",
    "                              family = quasibinomial, design = subset_design_male)\n",
    "    \n",
    "    # Females only\n",
    "    model_adj_females <- survey::svyglm(as.formula(paste(outcome, gender_formula)), \n",
    "                              family = quasibinomial, design = subset_design_female)\n",
    "    \n",
    "    # Saving results\n",
    "    results[[perio_type]] <- list(\n",
    "      crude = list(\n",
    "        overall = get_model_stats(model_crude_overall),\n",
    "        males = get_model_stats(model_crude_males),\n",
    "        females = get_model_stats(model_crude_females)\n",
    "      ),\n",
    "      adjusted = list(\n",
    "        overall = get_model_stats(model_adj_overall),\n",
    "        males = get_model_stats(model_adj_males),\n",
    "        females = get_model_stats(model_adj_females)\n",
    "      )\n",
    "    )\n",
    "  }\n",
    "  return(results)\n",
    "}"
   ]
  },
  {
   "cell_type": "code",
   "execution_count": null,
   "metadata": {
    "vscode": {
     "languageId": "r"
    }
   },
   "outputs": [],
   "source": [
    "# Function to format results with domain names, and crude/adjusted rows\n",
    "\n",
    "format_results <- function(results_list, outcomes) {\n",
    "  formatted_table <- data.frame(\n",
    "    Predictor = character(),\n",
    "    `Moderate (Overall)` = character(),\n",
    "    `Moderate (Males)` = character(),\n",
    "    `Moderate (Females)` = character(),\n",
    "    `Severe (Overall)` = character(),\n",
    "    `Severe (Males)` = character(),\n",
    "    `Severe (Females)` = character(),\n",
    "    stringsAsFactors = FALSE\n",
    "  )\n",
    "  \n",
    "  format_stats <- function(stats) {\n",
    "    stars <- ifelse(stats$p < 0.001, \"***\",\n",
    "                    ifelse(stats$p < 0.01, \"**\",\n",
    "                           ifelse(stats$p < 0.05, \"*\", \"\")))\n",
    "    paste0(\n",
    "      round(stats$or, 2), \" (\",\n",
    "      round(stats$ci_low, 2), \"-\",\n",
    "      round(stats$ci_high, 2), \")\",\n",
    "      stars\n",
    "    )\n",
    "  }\n",
    "  \n",
    "  # Outcome names (name to be changed)\n",
    "  predictor_names <- c(\n",
    "    \"PFQ061I_bin\" = \"Locomotor Capacity\",\n",
    "    \"DLQ040\" = \"Cognitive Capacity\",\n",
    "    \"WHQ060\" = \"Vitality (Weight loss)\",\n",
    "    \"DPQ050_bin\" = \"Vitality (Nutrition)\",\n",
    "    \"DPQ020_bin\" = \"Psychological Capacity (Mood)\",\n",
    "    \"DPQ010_bin\" = \"Psychological Capacity (Anhedonia)\",\n",
    "    \"DLQ010\" = \"Sensory Capacity (Hearing Capacity)\",\n",
    "    \"DLQ020\" = \"Sensory Domain (Visual Capacity)\"\n",
    "  )\n",
    "  \n",
    "  for(outcome in names(results_list)) {\n",
    "    res <- results_list[[outcome]]\n",
    "    \n",
    "    domain_row <- data.frame(\n",
    "      Predictor = predictor_names[outcome],\n",
    "      `Moderate (Overall)` = \"\",\n",
    "      `Moderate (Males)` = \"\",\n",
    "      `Moderate (Females)` = \"\",\n",
    "      `Severe (Overall)` = \"\",\n",
    "      `Severe (Males)` = \"\",\n",
    "      `Severe (Females)` = \"\",\n",
    "      stringsAsFactors = FALSE\n",
    "    )\n",
    "    \n",
    "    crude_row <- data.frame(\n",
    "      Predictor = \"Crude\",\n",
    "      `Moderate (Overall)` = format_stats(res$moderate$crude$overall),\n",
    "      `Moderate (Males)` = format_stats(res$moderate$crude$males),\n",
    "      `Moderate (Females)` = format_stats(res$moderate$crude$females),\n",
    "      `Severe (Overall)` = format_stats(res$severe$crude$overall),\n",
    "      `Severe (Males)` = format_stats(res$severe$crude$males),\n",
    "      `Severe (Females)` = format_stats(res$severe$crude$females),\n",
    "      stringsAsFactors = FALSE\n",
    "    )\n",
    "    \n",
    "    adjusted_row <- data.frame(\n",
    "      Predictor = \"Adjusted\",\n",
    "      `Moderate (Overall)` = format_stats(res$moderate$adjusted$overall),\n",
    "      `Moderate (Males)` = format_stats(res$moderate$adjusted$males),\n",
    "      `Moderate (Females)` = format_stats(res$moderate$adjusted$females),\n",
    "      `Severe (Overall)` = format_stats(res$severe$adjusted$overall),\n",
    "      `Severe (Males)` = format_stats(res$severe$adjusted$males),\n",
    "      `Severe (Females)` = format_stats(res$severe$adjusted$females),\n",
    "      stringsAsFactors = FALSE\n",
    "    )\n",
    "    \n",
    "    formatted_table <- rbind(formatted_table, domain_row, crude_row, adjusted_row)\n",
    "  }\n",
    "  \n",
    "  ordered_outcomes <- names(predictor_names)\n",
    "  row_indices <- c()\n",
    "  \n",
    "  for (outcome in ordered_outcomes) {\n",
    "    domain_idx <- which(formatted_table$Predictor == predictor_names[outcome])\n",
    "    if (length(domain_idx) > 0) {\n",
    "      row_indices <- c(row_indices, domain_idx, domain_idx + 1, domain_idx + 2)\n",
    "    }\n",
    "  }\n",
    "  \n",
    "  if (length(row_indices) == nrow(formatted_table)) {\n",
    "    formatted_table <- formatted_table[row_indices, ]\n",
    "  }\n",
    "  \n",
    "  return(formatted_table)\n",
    "}"
   ]
  },
  {
   "cell_type": "code",
   "execution_count": null,
   "metadata": {
    "vscode": {
     "languageId": "r"
    }
   },
   "outputs": [],
   "source": [
    "# Perform Crude & Adjusted Weighted Logistic Regression\n",
    "\n",
    "outcomes <- c(\"PFQ061I_bin\", \"DLQ040\", \"WHQ060\", \"DPQ050_bin\", \n",
    "                \"DPQ020_bin\", \"DPQ010_bin\", \"DLQ010\", \"DLQ020\")\n",
    "\n",
    "results_list <- setNames(\n",
    "  lapply(outcomes, function(pred) run_weighted_logistic_analysis(df_final_merged, pred)),\n",
    "  outcomes\n",
    ")\n",
    "\n",
    "final_table <- format_results(results_list, outcomes)\n",
    "final_table"
   ]
  },
  {
   "cell_type": "markdown",
   "metadata": {},
   "source": [
    "### Mediators Analysis"
   ]
  },
  {
   "cell_type": "code",
   "execution_count": null,
   "metadata": {
    "vscode": {
     "languageId": "r"
    }
   },
   "outputs": [],
   "source": [
    "df_prove <- read.csv(\"/Users/silvanoquarto/Desktop/LAVORO/MEDICAL_PHYSICS/Med-Physics/data/NHANES/recoded_df_09_14.csv\", \n",
    "              stringsAsFactors = TRUE)\n",
    "\n",
    "head(df_prove)"
   ]
  },
  {
   "cell_type": "markdown",
   "metadata": {},
   "source": [
    "#### Association between predictors and mediator "
   ]
  },
  {
   "cell_type": "code",
   "execution_count": null,
   "metadata": {
    "vscode": {
     "languageId": "r"
    }
   },
   "outputs": [],
   "source": [
    "# Function to assess association between predictors and mediator \n",
    "\n",
    "predictor_vs_mediator <- function(df, mediator) {\n",
    "  results = list()\n",
    "  \n",
    "  get_model_stats <- function(model, model_type) {\n",
    "    if (model_type == \"binomial\" || model_type == \"linear\") {\n",
    "      coef_summary <- summary(model)\n",
    "      idx <- which(rownames(coef_summary$coefficients) == \"perio_binary\")\n",
    "      \n",
    "      if (model_type == \"binomial\") {\n",
    "        or <- exp(coef(model)[idx])\n",
    "        ci <- exp(confint(model)[idx,])\n",
    "        p_value <- coef_summary$coefficients[idx,4]\n",
    "        return(list(\n",
    "          or = or,\n",
    "          ci_low = ci[1],\n",
    "          ci_high = ci[2],\n",
    "          p = p_value\n",
    "        ))\n",
    "      } else {\n",
    "        beta <- coef(model)[idx]\n",
    "        ci <- confint(model)[idx,]\n",
    "        p_value <- coef_summary$coefficients[idx,4]\n",
    "        return(list(\n",
    "          beta = beta,\n",
    "          ci_low = ci[1],\n",
    "          ci_high = ci[2],\n",
    "          p = p_value\n",
    "        ))\n",
    "      }\n",
    "    } else if (model_type == \"multinomial\") {\n",
    "      coef_summary <- summary(model)\n",
    "      z_values <- coef_summary$coefficients / coef_summary$standard.errors\n",
    "      p_values <- 2 * (1 - pnorm(abs(z_values)))\n",
    "      \n",
    "      results_by_level <- list()\n",
    "      \n",
    "      for (i in 1:nrow(coef_summary$coefficients)) {\n",
    "        level_name <- rownames(coef_summary$coefficients)[i]\n",
    "        or <- exp(coef_summary$coefficients[i, \"perio_binary\"])\n",
    "        se <- coef_summary$standard.errors[i, \"perio_binary\"]\n",
    "        ci_low <- exp(coef_summary$coefficients[i, \"perio_binary\"] - 1.96 * se)\n",
    "        ci_high <- exp(coef_summary$coefficients[i, \"perio_binary\"] + 1.96 * se)\n",
    "        p_value <- p_values[i, \"perio_binary\"]\n",
    "        \n",
    "        results_by_level[[level_name]] <- list(\n",
    "          or = or,\n",
    "          ci_low = ci_low,\n",
    "          ci_high = ci_high,\n",
    "          p = p_value\n",
    "        )\n",
    "      }\n",
    "      return(results_by_level)\n",
    "    }\n",
    "  }\n",
    "  \n",
    "  for(perio_type in c(\"moderate\", \"severe\")) {\n",
    "    if(perio_type == \"moderate\") {\n",
    "      # Moderate vs None/Mild\n",
    "      subset_df <- df[df$periodontitis %in% c(\"None/Mild\", \"Moderate\"),]\n",
    "      # Create Binary Variable (1 = moderate, 0 = None/Mild)\n",
    "      subset_df$perio_binary <- ifelse(subset_df$periodontitis == \"Moderate\", 1, 0)\n",
    "    } else {\n",
    "      # Severe vs None/Mild\n",
    "      subset_df <- df[df$periodontitis %in% c(\"None/Mild\", \"Severe\"),]\n",
    "      # Create Binary Variable (1 = severe, 0 = None/Mild)\n",
    "      subset_df$perio_binary <- ifelse(subset_df$periodontitis == \"Severe\", 1, 0)\n",
    "    }\n",
    "    \n",
    "    mediator_values <- subset_df[[mediator]]\n",
    "    \n",
    "    if(is.numeric(mediator_values)) {\n",
    "      unique_values <- unique(mediator_values[!is.na(mediator_values)])\n",
    "      \n",
    "      if(length(unique_values) < 10 && all(unique_values == floor(unique_values))) {\n",
    "        subset_df[[mediator]] <- factor(subset_df[[mediator]])\n",
    "      }\n",
    "    }\n",
    "    \n",
    "    mediator_values <- subset_df[[mediator]]\n",
    "    mediator_unique <- length(unique(mediator_values[!is.na(mediator_values)]))\n",
    "    \n",
    "    if (is.factor(mediator_values) && mediator_unique > 2) {\n",
    "      library(nnet)\n",
    "      mediator_model <- multinom(as.formula(paste(mediator, \"~ perio_binary\")), \n",
    "                                data = subset_df)\n",
    "      model_type <- \"multinomial\"\n",
    "    } else if ((is.factor(mediator_values) && mediator_unique == 2) || \n",
    "               is.logical(mediator_values) || \n",
    "               (is.numeric(mediator_values) && all(mediator_values %in% c(0,1,NA)))) {\n",
    "      mediator_model <- glm(as.formula(paste(mediator, \"~ perio_binary\")),\n",
    "                           family = binomial, data = subset_df)\n",
    "      model_type <- \"binomial\"\n",
    "    } else if (is.numeric(mediator_values)) {\n",
    "      mediator_model <- lm(as.formula(paste(mediator, \"~ perio_binary\")),\n",
    "                          data = subset_df)\n",
    "      model_type <- \"linear\"\n",
    "    } else {\n",
    "      warning(paste(\"Type of mediator not supported for\", mediator))\n",
    "      next\n",
    "    }\n",
    "    \n",
    "    results[[perio_type]] <- list(\n",
    "      mediator_case = get_model_stats(mediator_model, model_type)\n",
    "    )\n",
    "  }\n",
    "  \n",
    "  return(results)\n",
    "}"
   ]
  },
  {
   "cell_type": "code",
   "execution_count": null,
   "metadata": {
    "vscode": {
     "languageId": "r"
    }
   },
   "outputs": [],
   "source": [
    "format_predictor_mediator_results <- function(results_list_med_pred) {\n",
    "  formatted_results <- data.frame(\n",
    "    Mediator = character(),\n",
    "    Type = character(),\n",
    "    Association = character(),\n",
    "    P_value = numeric(),\n",
    "    Significant = logical(),\n",
    "    stringsAsFactors = FALSE\n",
    "  )\n",
    "  \n",
    "  for (mediator_name in names(results_list_med_pred)) {\n",
    "    mediator_results <- results_list_med_pred[[mediator_name]]\n",
    "    \n",
    "    for (perio_type in c(\"moderate\", \"severe\")) {\n",
    "      if (!is.null(mediator_results[[perio_type]])) {\n",
    "        result <- mediator_results[[perio_type]]$mediator_case\n",
    "        \n",
    "        if (is.list(result)) {\n",
    "          if (!is.null(result$overall)) {\n",
    "            if (!is.null(result$overall$or)) {\n",
    "              association <- sprintf(\"OR: %.2f (%.2f-%.2f)\", \n",
    "                                    result$overall$or, \n",
    "                                    result$overall$ci_low, \n",
    "                                    result$overall$ci_high)\n",
    "              p_val <- result$overall$p\n",
    "            } else if (!is.null(result$overall$beta)) {\n",
    "              association <- sprintf(\"β: %.2f (%.2f-%.2f)\", \n",
    "                                    result$overall$beta, \n",
    "                                    result$overall$ci_low, \n",
    "                                    result$overall$ci_high)\n",
    "              p_val <- result$overall$p\n",
    "            } else {\n",
    "              next\n",
    "            }\n",
    "            \n",
    "            formatted_results <- rbind(formatted_results, data.frame(\n",
    "              Mediator = mediator_name,\n",
    "              Type = perio_type,\n",
    "              Association = association,\n",
    "              P_value = p_val,\n",
    "              Significant = p_val < 0.05,\n",
    "              stringsAsFactors = FALSE\n",
    "            ))\n",
    "          } \n",
    "          else {\n",
    "            for (level_name in names(result)) {\n",
    "              if (is.list(result[[level_name]])) {\n",
    "                level_result <- result[[level_name]]\n",
    "                \n",
    "                if (!is.null(level_result$or)) {\n",
    "                  association <- sprintf(\"OR: %.2f (%.2f-%.2f)\", \n",
    "                                        level_result$or, \n",
    "                                        level_result$ci_low, \n",
    "                                        level_result$ci_high)\n",
    "                  p_val <- level_result$p\n",
    "                  \n",
    "                  formatted_results <- rbind(formatted_results, data.frame(\n",
    "                    Mediator = paste0(mediator_name, \" (\", level_name, \")\"),\n",
    "                    Type = perio_type,\n",
    "                    Association = association,\n",
    "                    P_value = p_val,\n",
    "                    Significant = p_val < 0.05,\n",
    "                    stringsAsFactors = FALSE\n",
    "                  ))\n",
    "                }\n",
    "              }\n",
    "            }\n",
    "          }\n",
    "        }\n",
    "      }\n",
    "    }\n",
    "  }\n",
    "  \n",
    "  return(formatted_results)\n",
    "}"
   ]
  },
  {
   "cell_type": "code",
   "execution_count": null,
   "metadata": {
    "vscode": {
     "languageId": "r"
    }
   },
   "outputs": [],
   "source": [
    "mediators <- c(\n",
    "  \"DIQ010\", \"BPQ020\", \"MCQ160B\", \"MCQ160C\", \"MCQ160E\",\n",
    "  \"MCQ160F\", \"MCQ160L\", \"MCQ220\"\n",
    ")\n",
    "\n",
    "results_list_med_pred <- setNames(\n",
    "  lapply(mediators, function(med) predictor_vs_mediator(df_prove, med)),\n",
    "  mediators\n",
    ")\n",
    "\n",
    "table_mediators <- format_predictor_mediator_results(results_list_med_pred)\n",
    "table_mediators"
   ]
  },
  {
   "cell_type": "markdown",
   "metadata": {},
   "source": [
    "#### Regression with mediators & Periodontitis Level \n",
    "> metric: p-values"
   ]
  },
  {
   "cell_type": "code",
   "execution_count": null,
   "metadata": {
    "vscode": {
     "languageId": "r"
    }
   },
   "outputs": [],
   "source": [
    "# Function to run a crude & adjusted logistic regression analysis\n",
    "\n",
    "run_logistic_analysis_mediators <- function(df, outcome) {\n",
    "  \n",
    "  results = list()\n",
    "  \n",
    "  get_model_stats <- function(model) {\n",
    "    coef_summary <- summary(model)\n",
    "    or <- exp(coef(model)[2])\n",
    "    ci <- exp(confint(model)[2,])\n",
    "    p_value <- coef_summary$coefficients[2,4]\n",
    "    \n",
    "    return(list(\n",
    "      or = or,\n",
    "      ci_low = ci[1],\n",
    "      ci_high = ci[2],\n",
    "      p = p_value\n",
    "    ))\n",
    "  }\n",
    "\n",
    "  for(perio_type in c(\"moderate\", \"severe\")) {\n",
    "    if(perio_type == \"moderate\") {\n",
    "      # Moderate vs None/Mild\n",
    "      subset_df <- df[df$periodontitis %in% c(\"None/Mild\", \"Moderate\"),]\n",
    "      # Create Binary Variable (1 = moderate, 0 = None/Mild)\n",
    "      subset_df$perio_binary <- ifelse(subset_df$periodontitis == \"Moderate\", 1, 0)\n",
    "    } else {\n",
    "      # Severe vs None/Mild\n",
    "      subset_df <- df[df$periodontitis %in% c(\"None/Mild\", \"Severe\"),]\n",
    "      # Create Binary Variable (1 = severe, 0 = None/Mild)\n",
    "      subset_df$perio_binary <- ifelse(subset_df$periodontitis == \"Severe\", 1, 0)\n",
    "    }\n",
    "\n",
    "    # Crude Analysis\n",
    "    # Overall\n",
    "    model_crude_overall <- glm(as.formula(paste(outcome, \" ~ perio_binary\")), \n",
    "                               family = binomial, data = subset_df)\n",
    "    \n",
    "    # Only Male\n",
    "    model_crude_males <- glm(as.formula(paste(outcome, \" ~ perio_binary\")), \n",
    "                             family = binomial, data = subset_df[subset_df$RIAGENDR == 1,])\n",
    "    \n",
    "    # Only Female\n",
    "    model_crude_females <- glm(as.formula(paste(outcome, \" ~ perio_binary\")), \n",
    "                               family = binomial, data = subset_df[subset_df$RIAGENDR == 2,])\n",
    "\n",
    "    # Adjusted Analysis\n",
    "    adjusted_formula <- paste(\n",
    "      \" ~ perio_binary + RIDAGEYR + RIAGENDR + SMQ020 + INDFMPIR + DMDEDUC2 + ALQ101\"\n",
    "    )\n",
    "    # Overall\n",
    "    model_adj_overall = glm(as.formula(paste(outcome, adjusted_formula)),\n",
    "                       family = binomial, data = subset_df)\n",
    "\n",
    "    # Males only (removed RIAGENDR from formula for Gender subgroups)\n",
    "    gender_formula <- paste(\n",
    "      \" ~ perio_binary + RIDAGEYR + SMQ020 + INDFMPIR + DMDEDUC2 + ALQ101\"\n",
    "    )\n",
    "    model_adj_males = glm(as.formula(paste(outcome, gender_formula)),\n",
    "                      family = binomial, data = subset_df[subset_df$RIAGENDR == 1,])\n",
    "    \n",
    "    # Females only\n",
    "    model_adj_females = glm(as.formula(paste(outcome, gender_formula)),\n",
    "                        family = binomial, data = subset_df[subset_df$RIAGENDR == 2,])\n",
    "\n",
    "    # Overall with Base Model + Diabetes\n",
    "    base_diabetes_overall = glm(as.formula(paste(outcome, adjusted_formula, \" + DIQ010\")),\n",
    "                       family = binomial, data = subset_df)\n",
    "\n",
    "    base_diabetes_males = glm(as.formula(paste(outcome, gender_formula, \" + DIQ010\")),\n",
    "                      family = binomial, data = subset_df[subset_df$RIAGENDR == 1,])\n",
    "    base_diabetes_females = glm(as.formula(paste(outcome, gender_formula, \" + DIQ010\")),\n",
    "                      family = binomial, data = subset_df[subset_df$RIAGENDR == 2,])\n",
    "    \n",
    "    # Overall with Base Model + Hypertension\n",
    "    base_hypertension_overall = glm(as.formula(paste(outcome, adjusted_formula, \" + BPQ020\")),\n",
    "                       family = binomial, data = subset_df)\n",
    "\n",
    "    base_hypertension_males = glm(as.formula(paste(outcome, gender_formula, \" + BPQ020\")),\n",
    "                      family = binomial, data = subset_df[subset_df$RIAGENDR == 1,])\n",
    "    base_hypertension_females = glm(as.formula(paste(outcome, gender_formula, \" + BPQ020\")),\n",
    "                      family = binomial, data = subset_df[subset_df$RIAGENDR == 2,])\n",
    "\n",
    "    # Overall with Base Model + Heart Failure\n",
    "    base_failure_overall = glm(as.formula(paste(outcome, adjusted_formula, \" + MCQ160B\")),\n",
    "                       family = binomial, data = subset_df)\n",
    "\n",
    "    base_failure_males = glm(as.formula(paste(outcome, gender_formula, \" + MCQ160B\")),\n",
    "                      family = binomial, data = subset_df[subset_df$RIAGENDR == 1,])\n",
    "    base_failure_females = glm(as.formula(paste(outcome, gender_formula, \" + MCQ160B\")),\n",
    "                      family = binomial, data = subset_df[subset_df$RIAGENDR == 2,])\n",
    "\n",
    "    # Overall with Base Model + Coronary Heart Disease\n",
    "    base_coronary_overall = glm(as.formula(paste(outcome, adjusted_formula, \" + MCQ160C\")),\n",
    "                       family = binomial, data = subset_df)\n",
    "\n",
    "    base_coronary_males = glm(as.formula(paste(outcome, gender_formula, \" + MCQ160C\")),\n",
    "                      family = binomial, data = subset_df[subset_df$RIAGENDR == 1,])\n",
    "    base_coronary_females = glm(as.formula(paste(outcome, gender_formula, \" + MCQ160C\")),\n",
    "                      family = binomial, data = subset_df[subset_df$RIAGENDR == 2,])\n",
    "\n",
    "    # Overall with Base Model + Heart Attack\n",
    "    base_heartattack_overall = glm(as.formula(paste(outcome, adjusted_formula, \" + MCQ160E\")),\n",
    "                       family = binomial, data = subset_df)\n",
    "\n",
    "    base_heartattack_males = glm(as.formula(paste(outcome, gender_formula, \" + MCQ160E\")),\n",
    "                      family = binomial, data = subset_df[subset_df$RIAGENDR == 1,])\n",
    "    base_heartattack_females = glm(as.formula(paste(outcome, gender_formula, \" + MCQ160E\")),\n",
    "                      family = binomial, data = subset_df[subset_df$RIAGENDR == 2,])\n",
    "\n",
    "    # Overall with Base Model + Stroke\n",
    "    base_stroke_overall = glm(as.formula(paste(outcome, adjusted_formula, \" + MCQ160F\")),\n",
    "                       family = binomial, data = subset_df)\n",
    "\n",
    "    base_stroke_males = glm(as.formula(paste(outcome, gender_formula, \" + MCQ160F\")),\n",
    "                      family = binomial, data = subset_df[subset_df$RIAGENDR == 1,])\n",
    "    base_stroke_females = glm(as.formula(paste(outcome, gender_formula, \" + MCQ160F\")),\n",
    "                      family = binomial, data = subset_df[subset_df$RIAGENDR == 2,])\n",
    "\n",
    "    # Overall with Base Model + Liver Disease\n",
    "    base_liver_overall = glm(as.formula(paste(outcome, adjusted_formula, \" + MCQ160L\")),\n",
    "                       family = binomial, data = subset_df)\n",
    "\n",
    "    base_liver_males = glm(as.formula(paste(outcome, gender_formula, \" + MCQ160L\")),\n",
    "                      family = binomial, data = subset_df[subset_df$RIAGENDR == 1,])\n",
    "    base_liver_females = glm(as.formula(paste(outcome, gender_formula, \" + MCQ160L\")),\n",
    "                      family = binomial, data = subset_df[subset_df$RIAGENDR == 2,])\n",
    "\n",
    "    # Overall with Base Model + Cancer\n",
    "    base_cancer_overall = glm(as.formula(paste(outcome, adjusted_formula, \" + MCQ220\")),\n",
    "                       family = binomial, data = subset_df)\n",
    "\n",
    "    base_cancer_males = glm(as.formula(paste(outcome, gender_formula, \" + MCQ220\")),\n",
    "                      family = binomial, data = subset_df[subset_df$RIAGENDR == 1,])\n",
    "    base_cancer_females = glm(as.formula(paste(outcome, gender_formula, \" + MCQ220\")),\n",
    "                      family = binomial, data = subset_df[subset_df$RIAGENDR == 2,])\n",
    "    \n",
    "    # Saving results\n",
    "    results[[perio_type]] <- list(\n",
    "      crude = list(\n",
    "        overall = get_model_stats(model_crude_overall),\n",
    "        males = get_model_stats(model_crude_males),\n",
    "        females = get_model_stats(model_crude_females)\n",
    "      ),\n",
    "      adjusted = list(\n",
    "        overall = get_model_stats(model_adj_overall),\n",
    "        males = get_model_stats(model_adj_males),\n",
    "        females = get_model_stats(model_adj_females)\n",
    "      ),\n",
    "      base_diabetes = list(\n",
    "        overall = get_model_stats(base_diabetes_overall),\n",
    "        males = get_model_stats(base_diabetes_males),\n",
    "        females = get_model_stats(base_diabetes_females)\n",
    "      ),\n",
    "      base_hypertension = list(\n",
    "        overall = get_model_stats(base_hypertension_overall),\n",
    "        males = get_model_stats(base_hypertension_males),\n",
    "        females = get_model_stats(base_hypertension_females)\n",
    "      ),\n",
    "      base_failure = list(\n",
    "        overall = get_model_stats(base_failure_overall),\n",
    "        males = get_model_stats(base_failure_males),\n",
    "        females = get_model_stats(base_failure_females)\n",
    "      ),\n",
    "      base_coronary = list(\n",
    "        overall = get_model_stats(base_coronary_overall),\n",
    "        males = get_model_stats(base_coronary_males),\n",
    "        females = get_model_stats(base_coronary_females)\n",
    "      ),\n",
    "      base_heartattack = list(\n",
    "        overall = get_model_stats(base_heartattack_overall),\n",
    "        males = get_model_stats(base_heartattack_males),\n",
    "        females = get_model_stats(base_heartattack_females)\n",
    "      ),\n",
    "      base_stroke = list(\n",
    "        overall = get_model_stats(base_stroke_overall),\n",
    "        males = get_model_stats(base_stroke_males),\n",
    "        females = get_model_stats(base_stroke_females)\n",
    "      ),\n",
    "      base_liver = list(\n",
    "        overall = get_model_stats(base_liver_overall),\n",
    "        males = get_model_stats(base_liver_males),\n",
    "        females = get_model_stats(base_liver_females)\n",
    "      ),\n",
    "      base_cancer = list(\n",
    "        overall = get_model_stats(base_cancer_overall),\n",
    "        males = get_model_stats(base_cancer_males),\n",
    "        females = get_model_stats(base_cancer_females)\n",
    "      )\n",
    "    )\n",
    "  }\n",
    "  return(results)\n",
    "}"
   ]
  },
  {
   "cell_type": "code",
   "execution_count": null,
   "metadata": {
    "vscode": {
     "languageId": "r"
    }
   },
   "outputs": [],
   "source": [
    "# Function to format results with domain names, and crude/adjusted rows and mediators analysis\n",
    "\n",
    "format_results_mediators <- function(results_list, outcomes) {\n",
    "  formatted_table <- data.frame(\n",
    "    Predictor = character(),\n",
    "    `Moderate (Overall)` = character(),\n",
    "    `Moderate (Males)` = character(),\n",
    "    `Moderate (Females)` = character(),\n",
    "    `Severe (Overall)` = character(),\n",
    "    `Severe (Males)` = character(),\n",
    "    `Severe (Females)` = character(),\n",
    "    stringsAsFactors = FALSE\n",
    "  )\n",
    "  \n",
    "  format_stats <- function(stats) {\n",
    "    stars <- ifelse(stats$p < 0.001, \"***\",\n",
    "                    ifelse(stats$p < 0.01, \"**\",\n",
    "                           ifelse(stats$p < 0.05, \"*\", \"\")))\n",
    "    paste0(\n",
    "      round(stats$or, 2), \" (\",\n",
    "      round(stats$ci_low, 2), \"-\",\n",
    "      round(stats$ci_high, 2), \")\",\n",
    "      stars\n",
    "    )\n",
    "  }\n",
    "  \n",
    "  # Outcome names (name to be changed)\n",
    "  predictor_names <- c(\n",
    "    \"PFQ061I_bin\" = \"Locomotor Capacity\",\n",
    "    \"DLQ040\" = \"Cognitive Capacity\",\n",
    "    \"WHQ060\" = \"Vitality (Weight loss)\",\n",
    "    \"DPQ050_bin\" = \"Vitality (Nutrition)\",\n",
    "    \"DPQ020_bin\" = \"Psychological Capacity (Mood)\",\n",
    "    \"DPQ010_bin\" = \"Psychological Capacity (Anhedonia)\",\n",
    "    \"DLQ010\" = \"Sensory Capacity (Hearing Capacity)\",\n",
    "    \"DLQ020\" = \"Sensory Domain (Visual Capacity)\"\n",
    "  )\n",
    "  \n",
    "  for(outcome in names(results_list)) {\n",
    "    res <- results_list[[outcome]]\n",
    "    \n",
    "    domain_row <- data.frame(\n",
    "      Predictor = predictor_names[outcome],\n",
    "      `Moderate (Overall)` = \"\",\n",
    "      `Moderate (Males)` = \"\",\n",
    "      `Moderate (Females)` = \"\",\n",
    "      `Severe (Overall)` = \"\",\n",
    "      `Severe (Males)` = \"\",\n",
    "      `Severe (Females)` = \"\",\n",
    "      stringsAsFactors = FALSE\n",
    "    )\n",
    "    \n",
    "    crude_row <- data.frame(\n",
    "      Predictor = \"Crude\",\n",
    "      `Moderate (Overall)` = format_stats(res$moderate$crude$overall),\n",
    "      `Moderate (Males)` = format_stats(res$moderate$crude$males),\n",
    "      `Moderate (Females)` = format_stats(res$moderate$crude$females),\n",
    "      `Severe (Overall)` = format_stats(res$severe$crude$overall),\n",
    "      `Severe (Males)` = format_stats(res$severe$crude$males),\n",
    "      `Severe (Females)` = format_stats(res$severe$crude$females),\n",
    "      stringsAsFactors = FALSE\n",
    "    )\n",
    "    \n",
    "    adjusted_row <- data.frame(\n",
    "      Predictor = \"Adjusted\",\n",
    "      `Moderate (Overall)` = format_stats(res$moderate$adjusted$overall),\n",
    "      `Moderate (Males)` = format_stats(res$moderate$adjusted$males),\n",
    "      `Moderate (Females)` = format_stats(res$moderate$adjusted$females),\n",
    "      `Severe (Overall)` = format_stats(res$severe$adjusted$overall),\n",
    "      `Severe (Males)` = format_stats(res$severe$adjusted$males),\n",
    "      `Severe (Females)` = format_stats(res$severe$adjusted$females),\n",
    "      stringsAsFactors = FALSE\n",
    "    )\n",
    "\n",
    "    diabetes_row <- data.frame(\n",
    "      Predictor = \"+ Diabetes\",\n",
    "      `Moderate (Overall)` = format_stats(res$moderate$base_diabetes$overall),\n",
    "      `Moderate (Males)` = format_stats(res$moderate$base_diabetes$males),\n",
    "      `Moderate (Females)` = format_stats(res$moderate$base_diabetes$females),\n",
    "      `Severe (Overall)` = format_stats(res$severe$base_diabetes$overall),\n",
    "      `Severe (Males)` = format_stats(res$severe$base_diabetes$males),\n",
    "      `Severe (Females)` = format_stats(res$severe$base_diabetes$females),\n",
    "      stringsAsFactors = FALSE\n",
    "    )\n",
    "\n",
    "    hypertension_row <- data.frame(\n",
    "      Predictor = \"+ Hypertension\",\n",
    "      `Moderate (Overall)` = format_stats(res$moderate$base_hypertension$overall),\n",
    "      `Moderate (Males)` = format_stats(res$moderate$base_hypertension$males),\n",
    "      `Moderate (Females)` = format_stats(res$moderate$base_hypertension$females),\n",
    "      `Severe (Overall)` = format_stats(res$severe$base_hypertension$overall),\n",
    "      `Severe (Males)` = format_stats(res$severe$base_hypertension$males),\n",
    "      `Severe (Females)` = format_stats(res$severe$base_hypertension$females),\n",
    "      stringsAsFactors = FALSE\n",
    "    )\n",
    "\n",
    "    failure_row <- data.frame(\n",
    "      Predictor = \"+ Heart Failure\",\n",
    "      `Moderate (Overall)` = format_stats(res$moderate$base_failure$overall),\n",
    "      `Moderate (Males)` = format_stats(res$moderate$base_failure$males),\n",
    "      `Moderate (Females)` = format_stats(res$moderate$base_failure$females),\n",
    "      `Severe (Overall)` = format_stats(res$severe$base_failure$overall),\n",
    "      `Severe (Males)` = format_stats(res$severe$base_failure$males),\n",
    "      `Severe (Females)` = format_stats(res$severe$base_failure$females),\n",
    "      stringsAsFactors = FALSE\n",
    "    )\n",
    "\n",
    "    coronary_row <- data.frame(\n",
    "      Predictor = \"+ Coronary Heart Disease\",\n",
    "      `Moderate (Overall)` = format_stats(res$moderate$base_coronary$overall),\n",
    "      `Moderate (Males)` = format_stats(res$moderate$base_coronary$males),\n",
    "      `Moderate (Females)` = format_stats(res$moderate$base_coronary$females),\n",
    "      `Severe (Overall)` = format_stats(res$severe$base_coronary$overall),\n",
    "      `Severe (Males)` = format_stats(res$severe$base_coronary$males),\n",
    "      `Severe (Females)` = format_stats(res$severe$base_coronary$females),\n",
    "      stringsAsFactors = FALSE\n",
    "    )\n",
    "\n",
    "    heartattack_row <- data.frame(\n",
    "      Predictor = \"+ Heart Attack\",\n",
    "      `Moderate (Overall)` = format_stats(res$moderate$base_heartattack$overall),\n",
    "      `Moderate (Males)` = format_stats(res$moderate$base_heartattack$males),\n",
    "      `Moderate (Females)` = format_stats(res$moderate$base_heartattack$females),\n",
    "      `Severe (Overall)` = format_stats(res$severe$base_heartattack$overall),\n",
    "      `Severe (Males)` = format_stats(res$severe$base_heartattack$males),\n",
    "      `Severe (Females)` = format_stats(res$severe$base_heartattack$females),\n",
    "      stringsAsFactors = FALSE\n",
    "    )\n",
    "\n",
    "    stroke_row <- data.frame(\n",
    "      Predictor = \"+ Stroke\",\n",
    "      `Moderate (Overall)` = format_stats(res$moderate$base_stroke$overall),\n",
    "      `Moderate (Males)` = format_stats(res$moderate$base_stroke$males),\n",
    "      `Moderate (Females)` = format_stats(res$moderate$base_stroke$females),\n",
    "      `Severe (Overall)` = format_stats(res$severe$base_stroke$overall),\n",
    "      `Severe (Males)` = format_stats(res$severe$base_stroke$males),\n",
    "      `Severe (Females)` = format_stats(res$severe$base_stroke$females),\n",
    "      stringsAsFactors = FALSE\n",
    "    )\n",
    "\n",
    "    liver_row <- data.frame(\n",
    "      Predictor = \"+ Liver Disease\",\n",
    "      `Moderate (Overall)` = format_stats(res$moderate$base_liver$overall),\n",
    "      `Moderate (Males)` = format_stats(res$moderate$base_liver$males),\n",
    "      `Moderate (Females)` = format_stats(res$moderate$base_liver$females),\n",
    "      `Severe (Overall)` = format_stats(res$severe$base_liver$overall),\n",
    "      `Severe (Males)` = format_stats(res$severe$base_liver$males),\n",
    "      `Severe (Females)` = format_stats(res$severe$base_liver$females),\n",
    "      stringsAsFactors = FALSE\n",
    "    )\n",
    "\n",
    "    cancer_row <- data.frame(\n",
    "      Predictor = \"+ Cancer\",\n",
    "      `Moderate (Overall)` = format_stats(res$moderate$base_cancer$overall),\n",
    "      `Moderate (Males)` = format_stats(res$moderate$base_cancer$males),\n",
    "      `Moderate (Females)` = format_stats(res$moderate$base_cancer$females),\n",
    "      `Severe (Overall)` = format_stats(res$severe$base_cancer$overall),\n",
    "      `Severe (Males)` = format_stats(res$severe$base_cancer$males),\n",
    "      `Severe (Females)` = format_stats(res$severe$base_cancer$females),\n",
    "      stringsAsFactors = FALSE\n",
    "    )\n",
    "    \n",
    "    formatted_table <- rbind(formatted_table, domain_row, crude_row, adjusted_row,\n",
    "                            diabetes_row, hypertension_row, failure_row, coronary_row,\n",
    "                            heartattack_row, stroke_row, liver_row, cancer_row)\n",
    "  }\n",
    "\n",
    "  ordered_outcomes <- names(predictor_names)\n",
    "  row_indices <- c()\n",
    "  \n",
    "  for (outcome in ordered_outcomes) {\n",
    "    domain_idx <- which(formatted_table$Predictor == predictor_names[outcome])\n",
    "    if (length(domain_idx) > 0) {\n",
    "      row_indices <- c(row_indices, domain_idx, domain_idx + 1, domain_idx + 2)\n",
    "    }\n",
    "  }\n",
    "  \n",
    "  if (length(row_indices) == nrow(formatted_table)) {\n",
    "    formatted_table <- formatted_table[row_indices, ]\n",
    "  }\n",
    "  \n",
    "  return(formatted_table)\n",
    "}"
   ]
  },
  {
   "cell_type": "code",
   "execution_count": null,
   "metadata": {
    "vscode": {
     "languageId": "r"
    }
   },
   "outputs": [],
   "source": [
    "# Perform Crude & Adjusted Logistic Regression with mediators\n",
    "\n",
    "outcomes <- c(\"PFQ061I_bin\", \"DLQ040\", \"WHQ060\", \"DPQ050_bin\", \n",
    "                \"DPQ020_bin\", \"DPQ010_bin\", \"DLQ010\", \"DLQ020\")\n",
    "\n",
    "results_list <- setNames(\n",
    "  lapply(outcomes, function(out) run_logistic_analysis_mediators(df_prove, out)),\n",
    "  outcomes\n",
    ")\n",
    "\n",
    "final_table <- format_results_mediators(results_list, outcomes)\n",
    "final_table"
   ]
  },
  {
   "cell_type": "code",
   "execution_count": null,
   "metadata": {
    "vscode": {
     "languageId": "r"
    }
   },
   "outputs": [],
   "source": [
    "# Saving Table in the csv format\n",
    "\n",
    "csv_table <- final_table\n",
    "colnames(csv_table) <- c(\n",
    "    \"Intrinsic Capacity domains\",\n",
    "    \"Moderate periodontitis - OR (95% CI) - Overall\",\n",
    "    \"Moderate periodontitis - OR (95% CI) - Males\",\n",
    "    \"Moderate periodontitis - OR (95% CI) - Females\",\n",
    "    \"Severe periodontitis - OR (95% CI) - Overall\",\n",
    "    \"Severe periodontitis - OR (95% CI) - Males\",\n",
    "    \"Severe periodontitis - OR (95% CI) - Females\"\n",
    ")\n",
    "\n",
    "write.csv(csv_table, \"/Users/silvanoquarto/Desktop/LAVORO/MEDICAL_PHYSICS/Med-Physics/results/NHANES_13_14/completed_regression_analysis_mediators.csv\", row.names = FALSE)"
   ]
  },
  {
   "cell_type": "markdown",
   "metadata": {},
   "source": [
    "#### Mediation analysis with Mean PPD & Mean CAL\n",
    "> metric: p-values"
   ]
  },
  {
   "cell_type": "code",
   "execution_count": null,
   "metadata": {
    "vscode": {
     "languageId": "r"
    }
   },
   "outputs": [],
   "source": [
    "# Function to run a crude & adjusted logistic regression analysis\n",
    "\n",
    "run_logistic_analysis_mean_ppd_cal_mediation <- function(df, outcome) {\n",
    "  \n",
    "  results = list()\n",
    "  \n",
    "  get_model_stats <- function(model) {\n",
    "    coef_summary <- summary(model)\n",
    "    or <- exp(coef(model)[2])\n",
    "    ci <- exp(confint(model)[2,])\n",
    "    p_value <- coef_summary$coefficients[2,4]\n",
    "    \n",
    "    return(list(\n",
    "      or = or,\n",
    "      ci_low = ci[1],\n",
    "      ci_high = ci[2],\n",
    "      p = p_value\n",
    "    ))\n",
    "  }\n",
    "\n",
    "  for(perio_pred in c(\"mean_ppd\", \"mean_cal\")) {\n",
    "\n",
    "    # Crude Analysis\n",
    "    # Overall\n",
    "    model_crude_overall <- glm(as.formula(paste(outcome, \" ~ \", perio_pred)), \n",
    "                               family = binomial, data = df)\n",
    "    \n",
    "    # Only Male\n",
    "    model_crude_males <- glm(as.formula(paste(outcome, \" ~ \", perio_pred)), \n",
    "                             family = binomial, data = df[df$RIAGENDR == 1,])\n",
    "    \n",
    "    # Only Female\n",
    "    model_crude_females <- glm(as.formula(paste(outcome, \" ~ \", perio_pred)), \n",
    "                               family = binomial, data = df[df$RIAGENDR == 2,])\n",
    "\n",
    "    # Adjusted Analysis\n",
    "    adjusted_formula <- paste(\n",
    "      \" ~ \", perio_pred, \" + RIDAGEYR + RIAGENDR + SMQ020 + INDFMPIR + DMDEDUC2 + ALQ101\"\n",
    "    )\n",
    "    # Overall\n",
    "    model_adj_overall = glm(as.formula(paste(outcome, adjusted_formula)),\n",
    "                       family = binomial, data = df)\n",
    "\n",
    "    # Males only (removed RIAGENDR from formula for Gender subgroups)\n",
    "    gender_formula <- paste(\n",
    "      \" ~ \", perio_pred, \" + RIDAGEYR + SMQ020 + INDFMPIR + DMDEDUC2 + ALQ101\"\n",
    "    )\n",
    "    model_adj_males = glm(as.formula(paste(outcome, gender_formula)),\n",
    "                      family = binomial, data = df[df$RIAGENDR == 1,])\n",
    "    \n",
    "    # Females only\n",
    "    model_adj_females = glm(as.formula(paste(outcome, gender_formula)),\n",
    "                        family = binomial, data = df[df$RIAGENDR == 2,])\n",
    "\n",
    "     # Overall with Base Model + Diabetes\n",
    "    base_diabetes_overall = glm(as.formula(paste(outcome, adjusted_formula, \" + DIQ010\")),\n",
    "                       family = binomial, data = df)\n",
    "\n",
    "    base_diabetes_males = glm(as.formula(paste(outcome, gender_formula, \" + DIQ010\")),\n",
    "                      family = binomial, data = df[df$RIAGENDR == 1,])\n",
    "    base_diabetes_females = glm(as.formula(paste(outcome, gender_formula, \" + DIQ010\")),\n",
    "                      family = binomial, data = df[df$RIAGENDR == 2,])\n",
    "    \n",
    "    # Overall with Base Model + Hypertension\n",
    "    base_hypertension_overall = glm(as.formula(paste(outcome, adjusted_formula, \" + BPQ020\")),\n",
    "                       family = binomial, data = df)\n",
    "\n",
    "    base_hypertension_males = glm(as.formula(paste(outcome, gender_formula, \" + BPQ020\")),\n",
    "                      family = binomial, data = df[df$RIAGENDR == 1,])\n",
    "    base_hypertension_females = glm(as.formula(paste(outcome, gender_formula, \" + BPQ020\")),\n",
    "                      family = binomial, data = df[df$RIAGENDR == 2,])\n",
    "\n",
    "    # Overall with Base Model + Heart Failure\n",
    "    base_failure_overall = glm(as.formula(paste(outcome, adjusted_formula, \" + MCQ160B\")),\n",
    "                       family = binomial, data = df)\n",
    "\n",
    "    base_failure_males = glm(as.formula(paste(outcome, gender_formula, \" + MCQ160B\")),\n",
    "                      family = binomial, data = df[df$RIAGENDR == 1,])\n",
    "    base_failure_females = glm(as.formula(paste(outcome, gender_formula, \" + MCQ160B\")),\n",
    "                      family = binomial, data = df[df$RIAGENDR == 2,])\n",
    "\n",
    "    # Overall with Base Model + Coronary Heart Disease\n",
    "    base_coronary_overall = glm(as.formula(paste(outcome, adjusted_formula, \" + MCQ160C\")),\n",
    "                       family = binomial, data = df)\n",
    "\n",
    "    base_coronary_males = glm(as.formula(paste(outcome, gender_formula, \" + MCQ160C\")),\n",
    "                      family = binomial, data = df[df$RIAGENDR == 1,])\n",
    "    base_coronary_females = glm(as.formula(paste(outcome, gender_formula, \" + MCQ160C\")),\n",
    "                      family = binomial, data = df[df$RIAGENDR == 2,])\n",
    "\n",
    "    # Overall with Base Model + Heart Attack\n",
    "    base_heartattack_overall = glm(as.formula(paste(outcome, adjusted_formula, \" + MCQ160E\")),\n",
    "                       family = binomial, data = df)\n",
    "\n",
    "    base_heartattack_males = glm(as.formula(paste(outcome, gender_formula, \" + MCQ160E\")),\n",
    "                      family = binomial, data = df[df$RIAGENDR == 1,])\n",
    "    base_heartattack_females = glm(as.formula(paste(outcome, gender_formula, \" + MCQ160E\")),\n",
    "                      family = binomial, data = df[df$RIAGENDR == 2,])\n",
    "\n",
    "    # Overall with Base Model + Stroke\n",
    "    base_stroke_overall = glm(as.formula(paste(outcome, adjusted_formula, \" + MCQ160F\")),\n",
    "                       family = binomial, data = df)\n",
    "\n",
    "    base_stroke_males = glm(as.formula(paste(outcome, gender_formula, \" + MCQ160F\")),\n",
    "                      family = binomial, data = df[df$RIAGENDR == 1,])\n",
    "    base_stroke_females = glm(as.formula(paste(outcome, gender_formula, \" + MCQ160F\")),\n",
    "                      family = binomial, data = df[df$RIAGENDR == 2,])\n",
    "\n",
    "    # Overall with Base Model + Liver Disease\n",
    "    base_liver_overall = glm(as.formula(paste(outcome, adjusted_formula, \" + MCQ160L\")),\n",
    "                       family = binomial, data = df)\n",
    "\n",
    "    base_liver_males = glm(as.formula(paste(outcome, gender_formula, \" + MCQ160L\")),\n",
    "                      family = binomial, data = df[df$RIAGENDR == 1,])\n",
    "    base_liver_females = glm(as.formula(paste(outcome, gender_formula, \" + MCQ160L\")),\n",
    "                      family = binomial, data = df[df$RIAGENDR == 2,])\n",
    "\n",
    "    # Overall with Base Model + Cancer\n",
    "    base_cancer_overall = glm(as.formula(paste(outcome, adjusted_formula, \" + MCQ220\")),\n",
    "                       family = binomial, data = df)\n",
    "\n",
    "    base_cancer_males = glm(as.formula(paste(outcome, gender_formula, \" + MCQ220\")),\n",
    "                      family = binomial, data = df[df$RIAGENDR == 1,])\n",
    "    base_cancer_females = glm(as.formula(paste(outcome, gender_formula, \" + MCQ220\")),\n",
    "                      family = binomial, data = df[df$RIAGENDR == 2,])\n",
    "    \n",
    "    # Saving results\n",
    "    results[[perio_pred]] <- list(\n",
    "      crude = list(\n",
    "        overall = get_model_stats(model_crude_overall),\n",
    "        males = get_model_stats(model_crude_males),\n",
    "        females = get_model_stats(model_crude_females)\n",
    "      ),\n",
    "      adjusted = list(\n",
    "        overall = get_model_stats(model_adj_overall),\n",
    "        males = get_model_stats(model_adj_males),\n",
    "        females = get_model_stats(model_adj_females)\n",
    "      ),\n",
    "      base_diabetes = list(\n",
    "        overall = get_model_stats(base_diabetes_overall),\n",
    "        males = get_model_stats(base_diabetes_males),\n",
    "        females = get_model_stats(base_diabetes_females)\n",
    "      ),\n",
    "      base_hypertension = list(\n",
    "        overall = get_model_stats(base_hypertension_overall),\n",
    "        males = get_model_stats(base_hypertension_males),\n",
    "        females = get_model_stats(base_hypertension_females)\n",
    "      ),\n",
    "      base_failure = list(\n",
    "        overall = get_model_stats(base_failure_overall),\n",
    "        males = get_model_stats(base_failure_males),\n",
    "        females = get_model_stats(base_failure_females)\n",
    "      ),\n",
    "      base_coronary = list(\n",
    "        overall = get_model_stats(base_coronary_overall),\n",
    "        males = get_model_stats(base_coronary_males),\n",
    "        females = get_model_stats(base_coronary_females)\n",
    "      ),\n",
    "      base_heartattack = list(\n",
    "        overall = get_model_stats(base_heartattack_overall),\n",
    "        males = get_model_stats(base_heartattack_males),\n",
    "        females = get_model_stats(base_heartattack_females)\n",
    "      ),\n",
    "      base_stroke = list(\n",
    "        overall = get_model_stats(base_stroke_overall),\n",
    "        males = get_model_stats(base_stroke_males),\n",
    "        females = get_model_stats(base_stroke_females)\n",
    "      ),\n",
    "      base_liver = list(\n",
    "        overall = get_model_stats(base_liver_overall),\n",
    "        males = get_model_stats(base_liver_males),\n",
    "        females = get_model_stats(base_liver_females)\n",
    "      ),\n",
    "      base_cancer = list(\n",
    "        overall = get_model_stats(base_cancer_overall),\n",
    "        males = get_model_stats(base_cancer_males),\n",
    "        females = get_model_stats(base_cancer_females)\n",
    "      )\n",
    "    )\n",
    "  }\n",
    "  return(results)\n",
    "}"
   ]
  },
  {
   "cell_type": "code",
   "execution_count": null,
   "metadata": {
    "vscode": {
     "languageId": "r"
    }
   },
   "outputs": [],
   "source": [
    "# Function to format results with domain names, and crude/adjusted rows\n",
    "\n",
    "format_results_mean_ppd_cal_mediation <- function(results_list, outcomes) {\n",
    "  formatted_table <- data.frame(\n",
    "    Predictor = character(),\n",
    "    `Mean PPD (Overall)` = character(),\n",
    "    `Mean PPD (Males)` = character(),\n",
    "    `Mean PPD (Females)` = character(),\n",
    "    `Mean CAL (Overall)` = character(),\n",
    "    `Mean CAL (Males)` = character(),\n",
    "    `Mean CAL (Females)` = character(),\n",
    "    stringsAsFactors = FALSE\n",
    "  )\n",
    "  \n",
    "  format_stats <- function(stats) {\n",
    "    stars <- ifelse(stats$p < 0.001, \"***\",\n",
    "                    ifelse(stats$p < 0.01, \"**\",\n",
    "                           ifelse(stats$p < 0.05, \"*\", \"\")))\n",
    "    paste0(\n",
    "      round(stats$or, 2), \" (\",\n",
    "      round(stats$ci_low, 2), \"-\",\n",
    "      round(stats$ci_high, 2), \")\",\n",
    "      stars\n",
    "    )\n",
    "  }\n",
    "  \n",
    "  # Outcome names (name to be changed)\n",
    "  predictor_names <- c(\n",
    "    \"PFQ061I_bin\" = \"Locomotor Capacity\",\n",
    "    \"DLQ040\" = \"Cognitive Capacity\",\n",
    "    \"WHQ060\" = \"Vitality (Weight loss)\",\n",
    "    \"DPQ050_bin\" = \"Vitality (Nutrition)\",\n",
    "    \"DPQ020_bin\" = \"Psychological Capacity (Mood)\",\n",
    "    \"DPQ010_bin\" = \"Psychological Capacity (Anhedonia)\",\n",
    "    \"DLQ010\" = \"Sensory Capacity (Hearing Capacity)\",\n",
    "    \"DLQ020\" = \"Sensory Domain (Visual Capacity)\"\n",
    "  )\n",
    "  \n",
    "  for(outcome in names(results_list)) {\n",
    "    res <- results_list[[outcome]]\n",
    "    \n",
    "    domain_row <- data.frame(\n",
    "      Predictor = predictor_names[outcome],\n",
    "      `Mean PPD (Overall)` = \"\",\n",
    "      `Mean PPD (Males)` = \"\",\n",
    "      `Mean PPD (Females)` = \"\",\n",
    "      `Mean CAL (Overall)` = \"\",\n",
    "      `Mean CAL (Males)` = \"\",\n",
    "      `Mean CAL (Females)` = \"\",\n",
    "      stringsAsFactors = FALSE\n",
    "    )\n",
    "    \n",
    "    crude_row <- data.frame(\n",
    "      Predictor = \"Crude\",\n",
    "      `Mean PPD (Overall)` = format_stats(res$mean_ppd$crude$overall),\n",
    "      `Mean PPD (Males)` = format_stats(res$mean_ppd$crude$males),\n",
    "      `Mean PPD (Females)` = format_stats(res$mean_ppd$crude$females),\n",
    "      `Mean CAL (Overall)` = format_stats(res$mean_cal$crude$overall),\n",
    "      `Mean CAL (Males)` = format_stats(res$mean_cal$crude$males),\n",
    "      `Mean CAL (Females)` = format_stats(res$mean_cal$crude$females),\n",
    "      stringsAsFactors = FALSE\n",
    "    )\n",
    "    \n",
    "    adjusted_row <- data.frame(\n",
    "      Predictor = \"Adjusted\",\n",
    "      `Mean PPD (Overall)` = format_stats(res$mean_ppd$adjusted$overall),\n",
    "      `Mean PPD (Males)` = format_stats(res$mean_ppd$adjusted$males),\n",
    "      `Mean PPD (Females)` = format_stats(res$mean_ppd$adjusted$females),\n",
    "      `Mean CAL (Overall)` = format_stats(res$mean_cal$adjusted$overall),\n",
    "      `Mean CAL (Males)` = format_stats(res$mean_cal$adjusted$males),\n",
    "      `Mean CAL (Females)` = format_stats(res$mean_cal$adjusted$females),\n",
    "      stringsAsFactors = FALSE\n",
    "    )\n",
    "    \n",
    "    diabetes_row <- data.frame(\n",
    "      Predictor = \"+ Diabetes\",\n",
    "      `Mean PPD (Overall)` = format_stats(res$mean_ppd$base_diabetes$overall),\n",
    "      `Mean PPD (Males)` = format_stats(res$mean_ppd$base_diabetes$males),\n",
    "      `Mean PPD (Females)` = format_stats(res$mean_ppd$base_diabetes$females),\n",
    "      `Mean CAL (Overall)` = format_stats(res$mean_cal$base_diabetes$overall),\n",
    "      `Mean CAL (Males)` = format_stats(res$mean_cal$base_diabetes$males),\n",
    "      `Mean CAL (Females)` = format_stats(res$mean_cal$base_diabetes$females),\n",
    "      stringsAsFactors = FALSE\n",
    "    )\n",
    "\n",
    "    hypertension_row <- data.frame(\n",
    "      Predictor = \"+ Hypertension\",\n",
    "      `Mean PPD (Overall)` = format_stats(res$mean_ppd$base_hypertension$overall),\n",
    "      `Mean PPD (Males)` = format_stats(res$mean_ppd$base_hypertension$males),\n",
    "      `Mean PPD (Females)` = format_stats(res$mean_ppd$base_hypertension$females),\n",
    "      `Mean CAL (Overall)` = format_stats(res$mean_cal$base_hypertension$overall),\n",
    "      `Mean CAL (Males)` = format_stats(res$mean_cal$base_hypertension$males),\n",
    "      `Mean CAL (Females)` = format_stats(res$mean_cal$base_hypertension$females),\n",
    "      stringsAsFactors = FALSE\n",
    "    )\n",
    "\n",
    "    failure_row <- data.frame(\n",
    "      Predictor = \"+ Heart Failure\",\n",
    "      `Mean PPD (Overall)` = format_stats(res$mean_ppd$base_failure$overall),\n",
    "      `Mean PPD (Males)` = format_stats(res$mean_ppd$base_failure$males),\n",
    "      `Mean PPD (Females)` = format_stats(res$mean_ppd$base_failure$females),\n",
    "      `Mean CAL (Overall)` = format_stats(res$mean_cal$base_failure$overall),\n",
    "      `Mean CAL (Males)` = format_stats(res$mean_cal$base_failure$males),\n",
    "      `Mean CAL (Females)` = format_stats(res$mean_cal$base_failure$females),\n",
    "      stringsAsFactors = FALSE\n",
    "    )\n",
    "\n",
    "    coronary_row <- data.frame(\n",
    "      Predictor = \"+ Coronary Heart Disease\",\n",
    "      `Mean PPD (Overall)` = format_stats(res$mean_ppd$base_coronary$overall),\n",
    "      `Mean PPD (Males)` = format_stats(res$mean_ppd$base_coronary$males),\n",
    "      `Mean PPD (Females)` = format_stats(res$mean_ppd$base_coronary$females),\n",
    "      `Mean CAL (Overall)` = format_stats(res$mean_cal$base_coronary$overall),\n",
    "      `Mean CAL (Males)` = format_stats(res$mean_cal$base_coronary$males),\n",
    "      `Mean CAL (Females)` = format_stats(res$mean_cal$base_coronary$females),\n",
    "      stringsAsFactors = FALSE\n",
    "    )\n",
    "\n",
    "    heartattack_row <- data.frame(\n",
    "      Predictor = \"+ Heart Attack\",\n",
    "      `Mean PPD (Overall)` = format_stats(res$mean_ppd$base_heartattack$overall),\n",
    "      `Mean PPD (Males)` = format_stats(res$mean_ppd$base_heartattack$males),\n",
    "      `Mean PPD (Females)` = format_stats(res$mean_ppd$base_heartattack$females),\n",
    "      `Mean CAL (Overall)` = format_stats(res$mean_cal$base_heartattack$overall),\n",
    "      `Mean CAL (Males)` = format_stats(res$mean_cal$base_heartattack$males),\n",
    "      `Mean CAL (Females)` = format_stats(res$mean_cal$base_heartattack$females),\n",
    "      stringsAsFactors = FALSE\n",
    "    )\n",
    "\n",
    "    stroke_row <- data.frame(\n",
    "      Predictor = \"+ Stroke\",\n",
    "      `Mean PPD (Overall)` = format_stats(res$mean_ppd$base_stroke$overall),\n",
    "      `Mean PPD (Males)` = format_stats(res$mean_ppd$base_stroke$males),\n",
    "      `Mean PPD (Females)` = format_stats(res$mean_ppd$base_stroke$females),\n",
    "      `Mean CAL (Overall)` = format_stats(res$mean_cal$base_stroke$overall),\n",
    "      `Mean CAL (Males)` = format_stats(res$mean_cal$base_stroke$males),\n",
    "      `Mean CAL (Females)` = format_stats(res$mean_cal$base_stroke$females),\n",
    "      stringsAsFactors = FALSE\n",
    "    )\n",
    "\n",
    "    liver_row <- data.frame(\n",
    "      Predictor = \"+ Liver Disease\",\n",
    "      `Mean PPD (Overall)` = format_stats(res$mean_ppd$base_liver$overall),\n",
    "      `Mean PPD (Males)` = format_stats(res$mean_ppd$base_liver$males),\n",
    "      `Mean PPD (Females)` = format_stats(res$mean_ppd$base_liver$females),\n",
    "      `Mean CAL (Overall)` = format_stats(res$mean_cal$base_liver$overall),\n",
    "      `Mean CAL (Males)` = format_stats(res$mean_cal$base_liver$males),\n",
    "      `Mean CAL (Females)` = format_stats(res$mean_cal$base_liver$females),\n",
    "      stringsAsFactors = FALSE\n",
    "    )\n",
    "\n",
    "    cancer_row <- data.frame(\n",
    "      Predictor = \"+ Cancer\",\n",
    "      `Mean PPD (Overall)` = format_stats(res$mean_ppd$base_cancer$overall),\n",
    "      `Mean PPD (Males)` = format_stats(res$mean_ppd$base_cancer$males),\n",
    "      `Mean PPD (Females)` = format_stats(res$mean_ppd$base_cancer$females),\n",
    "      `Mean CAL (Overall)` = format_stats(res$mean_cal$base_cancer$overall),\n",
    "      `Mean CAL (Males)` = format_stats(res$mean_cal$base_cancer$males),\n",
    "      `Mean CAL (Females)` = format_stats(res$mean_cal$base_cancer$females),\n",
    "      stringsAsFactors = FALSE\n",
    "    )\n",
    "    \n",
    "    formatted_table <- rbind(formatted_table, domain_row, crude_row, adjusted_row,\n",
    "                            diabetes_row, hypertension_row, failure_row, coronary_row,\n",
    "                            heartattack_row, stroke_row, liver_row, cancer_row)\n",
    "  }\n",
    "  \n",
    "  ordered_outcomes <- names(predictor_names)\n",
    "  row_indices <- c()\n",
    "  \n",
    "  for (outcome in ordered_outcomes) {\n",
    "    domain_idx <- which(formatted_table$Predictor == predictor_names[outcome])\n",
    "    if (length(domain_idx) > 0) {\n",
    "      row_indices <- c(row_indices, domain_idx, domain_idx + 1, domain_idx + 2)\n",
    "    }\n",
    "  }\n",
    "  \n",
    "  if (length(row_indices) == nrow(formatted_table)) {\n",
    "    formatted_table <- formatted_table[row_indices, ]\n",
    "  }\n",
    "  \n",
    "  return(formatted_table)\n",
    "}"
   ]
  },
  {
   "cell_type": "code",
   "execution_count": null,
   "metadata": {
    "vscode": {
     "languageId": "r"
    }
   },
   "outputs": [],
   "source": [
    "# Perform Crude & Adjusted Logistic Regression with mediators\n",
    "\n",
    "outcomes <- c(\"PFQ061I_bin\", \"DLQ040\", \"WHQ060\", \"DPQ050_bin\", \n",
    "                \"DPQ020_bin\", \"DPQ010_bin\", \"DLQ010\", \"DLQ020\")\n",
    "\n",
    "results_list <- setNames(\n",
    "  lapply(outcomes, function(out) run_logistic_analysis_mean_ppd_cal_mediation(df_prove, out)),\n",
    "  outcomes\n",
    ")\n",
    "\n",
    "final_table_med_ppd_cal <- format_results_mean_ppd_cal_mediation(results_list, outcomes)\n",
    "final_table_med_ppd_cal"
   ]
  },
  {
   "cell_type": "code",
   "execution_count": null,
   "metadata": {
    "vscode": {
     "languageId": "r"
    }
   },
   "outputs": [],
   "source": [
    "# Saving Table in the csv format\n",
    "\n",
    "csv_table <- final_table_med_ppd_cal\n",
    "colnames(csv_table) <- c(\n",
    "    \"Intrinsic Capacity domains\",\n",
    "    \"Mean PPD - OR (95% CI) - Overall\",\n",
    "    \"Mean PPD - OR (95% CI) - Males\",\n",
    "    \"Mean PPD - OR (95% CI) - Females\",\n",
    "    \"Mean CAL - OR (95% CI) - Overall\",\n",
    "    \"Mean CAL - OR (95% CI) - Males\",\n",
    "    \"Mean CAL - OR (95% CI) - Females\"\n",
    ")\n",
    "\n",
    "write.csv(csv_table, \"/Users/silvanoquarto/Desktop/LAVORO/MEDICAL_PHYSICS/Med-Physics/results/NHANES_13_14/mediation_regression_mean_ppd_cal.csv\", row.names = FALSE)"
   ]
  },
  {
   "cell_type": "markdown",
   "metadata": {},
   "source": [
    "#### Regression with mediators & Periodontitis Level\n",
    "> metric: excess risk explained %"
   ]
  },
  {
   "cell_type": "code",
   "execution_count": null,
   "metadata": {
    "vscode": {
     "languageId": "r"
    }
   },
   "outputs": [],
   "source": [
    "# Function to run adjusted logistic regression analysis with mediators\n",
    "\n",
    "calculate_excess_risk <- function(base_or, mediator_or) {\n",
    "  excess_risk <- ((base_or - mediator_or) / (base_or - 1)) * 100\n",
    "  excess_risk <- ifelse(excess_risk < 0, 0, excess_risk)\n",
    "  return(excess_risk)\n",
    "}\n",
    "\n",
    "run_logistic_mediators_analysis <- function(df, outcome) {\n",
    "  \n",
    "  results = list()\n",
    "  \n",
    "  get_model_stats <- function(model) {\n",
    "    coef_summary <- summary(model)\n",
    "    pred_idx <- which(rownames(coef_summary$coefficients) == \"perio_binary\")\n",
    "    or <- exp(coef(model)[pred_idx])\n",
    "    ci <- exp(confint(model)[pred_idx,])\n",
    "    p_value <- coef_summary$coefficients[pred_idx,4]\n",
    "    \n",
    "    return(list(\n",
    "      or = or,\n",
    "      ci_low = ci[1],\n",
    "      ci_high = ci[2],\n",
    "      p = p_value\n",
    "    ))\n",
    "  }\n",
    "\n",
    "  for(perio_type in c(\"moderate\", \"severe\")) {\n",
    "    if(perio_type == \"moderate\") {\n",
    "      # Moderate vs None/Mild\n",
    "      subset_df <- df[df$periodontitis %in% c(\"None/Mild\", \"Moderate\"),]\n",
    "      # Create Binary Variable (1 = moderate, 0 = None/Mild)\n",
    "      subset_df$perio_binary <- ifelse(subset_df$periodontitis == \"Moderate\", 1, 0)\n",
    "    } else {\n",
    "      # Severe vs None/Mild\n",
    "      subset_df <- df[df$periodontitis %in% c(\"None/Mild\", \"Severe\"),]\n",
    "      # Create Binary Variable (1 = severe, 0 = None/Mild)\n",
    "      subset_df$perio_binary <- ifelse(subset_df$periodontitis == \"Severe\", 1, 0)\n",
    "    }\n",
    "\n",
    "    # Adjusted Analysis with Base Model\n",
    "    adjusted_formula <- paste(\n",
    "      \" ~ perio_binary + RIDAGEYR + RIAGENDR + SMQ020 + INDFMPIR + DMDEDUC2 + ALQ101\"\n",
    "    )\n",
    "\n",
    "    # Overall with Base Model\n",
    "    model_adj_overall = glm(as.formula(paste(outcome, adjusted_formula)),\n",
    "                       family = binomial, data = subset_df)\n",
    "\n",
    "    # Overall with Base Model + Diabetes\n",
    "    base_diabetes_overall = glm(as.formula(paste(outcome, adjusted_formula, \" + DIQ010\")),\n",
    "                       family = binomial, data = subset_df)\n",
    "    \n",
    "    # Overall with Base Model + Hypertension\n",
    "    base_hypertension_overall = glm(as.formula(paste(outcome, adjusted_formula, \" + BPQ020\")),\n",
    "                       family = binomial, data = subset_df)\n",
    "\n",
    "    # Overall with Base Model + Heart Failure\n",
    "    base_failure_overall = glm(as.formula(paste(outcome, adjusted_formula, \" + MCQ160B\")),\n",
    "                       family = binomial, data = subset_df)\n",
    "\n",
    "    # Overall with Base Model + Coronary Heart Disease\n",
    "    base_coronary_overall = glm(as.formula(paste(outcome, adjusted_formula, \" + MCQ160C\")),\n",
    "                       family = binomial, data = subset_df)\n",
    "\n",
    "    # Overall with Base Model + Heart Attack\n",
    "    base_heartattack_overall = glm(as.formula(paste(outcome, adjusted_formula, \" + MCQ160E\")),\n",
    "                       family = binomial, data = subset_df)\n",
    "\n",
    "    # Overall with Base Model + Stroke\n",
    "    base_stroke_overall = glm(as.formula(paste(outcome, adjusted_formula, \" + MCQ160F\")),\n",
    "                       family = binomial, data = subset_df)\n",
    "\n",
    "    # Overall with Base Model + Liver Disease\n",
    "    base_liver_overall = glm(as.formula(paste(outcome, adjusted_formula, \" + MCQ160L\")),\n",
    "                       family = binomial, data = subset_df)\n",
    "\n",
    "    # Overall with Base Model + Cancer\n",
    "    base_cancer_overall = glm(as.formula(paste(outcome, adjusted_formula, \" + MCQ220\")),\n",
    "                       family = binomial, data = subset_df)\n",
    "\n",
    "    # Saving results\n",
    "    results[[perio_type]] <- list(\n",
    "      base = list(\n",
    "        overall = get_model_stats(model_adj_overall)\n",
    "      ),\n",
    "      base_diabetes = list(\n",
    "        overall = get_model_stats(base_diabetes_overall)\n",
    "      ),\n",
    "      base_hypertension = list(\n",
    "        overall = get_model_stats(base_hypertension_overall)\n",
    "      ),\n",
    "      base_failure = list(\n",
    "        overall = get_model_stats(base_failure_overall)\n",
    "      ),\n",
    "      base_coronary = list(\n",
    "        overall = get_model_stats(base_coronary_overall)\n",
    "      ),\n",
    "      base_heartattack = list(\n",
    "        overall = get_model_stats(base_heartattack_overall)\n",
    "      ),\n",
    "      base_stroke = list(\n",
    "        overall = get_model_stats(base_stroke_overall)\n",
    "      ),\n",
    "      base_liver = list(\n",
    "        overall = get_model_stats(base_liver_overall)\n",
    "      ),\n",
    "      base_cancer = list(\n",
    "        overall = get_model_stats(base_cancer_overall)\n",
    "      )\n",
    "    )\n",
    "  }\n",
    "\n",
    "  for(perio_type in c(\"moderate\", \"severe\")) {\n",
    "    base_or <- results[[perio_type]]$base$overall$or\n",
    "    \n",
    "    # Calculate excess risk percentage\n",
    "    results[[perio_type]]$base_diabetes$excess_risk <- \n",
    "      calculate_excess_risk(base_or, results[[perio_type]]$base_diabetes$overall$or)\n",
    "    \n",
    "    results[[perio_type]]$base_hypertension$excess_risk <- \n",
    "      calculate_excess_risk(base_or, results[[perio_type]]$base_hypertension$overall$or)\n",
    "    \n",
    "    results[[perio_type]]$base_failure$excess_risk <- \n",
    "      calculate_excess_risk(base_or, results[[perio_type]]$base_failure$overall$or)\n",
    "    \n",
    "    results[[perio_type]]$base_coronary$excess_risk <- \n",
    "      calculate_excess_risk(base_or, results[[perio_type]]$base_coronary$overall$or)\n",
    "    \n",
    "    results[[perio_type]]$base_heartattack$excess_risk <- \n",
    "      calculate_excess_risk(base_or, results[[perio_type]]$base_heartattack$overall$or)\n",
    "    \n",
    "    results[[perio_type]]$base_stroke$excess_risk <- \n",
    "      calculate_excess_risk(base_or, results[[perio_type]]$base_stroke$overall$or)\n",
    "    \n",
    "    results[[perio_type]]$base_liver$excess_risk <- \n",
    "      calculate_excess_risk(base_or, results[[perio_type]]$base_liver$overall$or)\n",
    "    \n",
    "    results[[perio_type]]$base_cancer$excess_risk <- \n",
    "      calculate_excess_risk(base_or, results[[perio_type]]$base_cancer$overall$or)\n",
    "  }\n",
    "\n",
    "  return(results)\n",
    "}"
   ]
  },
  {
   "cell_type": "code",
   "execution_count": null,
   "metadata": {
    "vscode": {
     "languageId": "r"
    }
   },
   "outputs": [],
   "source": [
    "# Format Function\n",
    "\n",
    "create_mediation_table <- function(results_list, outcome_names) {\n",
    "  table_data <- data.frame()\n",
    "  \n",
    "  for(outcome_name in names(results_list)) {\n",
    "    outcome_results <- results_list[[outcome_name]]\n",
    "    \n",
    "    for(perio_type in c(\"moderate\", \"severe\")) {\n",
    "      base_row <- data.frame(\n",
    "        Outcome = outcome_names[outcome_name],\n",
    "        PerioType = ifelse(perio_type == \"moderate\", \"Moderate periodontitis\", \"Severe periodontitis\"),\n",
    "        Model = \"Base model\",\n",
    "        OR = sprintf(\"%.2f (%.2f-%.2f)\", \n",
    "                    outcome_results[[perio_type]]$base$overall$or,\n",
    "                    outcome_results[[perio_type]]$base$overall$ci_low,\n",
    "                    outcome_results[[perio_type]]$base$overall$ci_high),\n",
    "        ExcessRiskExplained = \"—\",\n",
    "        stringsAsFactors = FALSE\n",
    "      )\n",
    "      \n",
    "      mediators <- list(\n",
    "        \"Diabetes\" = \"base_diabetes\",\n",
    "        \"Hypertension\" = \"base_hypertension\",\n",
    "        \"Heart Failure\" = \"base_failure\",\n",
    "        \"Coronary Heart Disease\" = \"base_coronary\",\n",
    "        \"Heart Attack\" = \"base_heartattack\",\n",
    "        \"Stroke\" = \"base_stroke\",\n",
    "        \"Liver Disease\" = \"base_liver\",\n",
    "        \"Cancer\" = \"base_cancer\"\n",
    "      )\n",
    "      \n",
    "      mediator_rows <- do.call(rbind, lapply(names(mediators), function(mediator_name) {\n",
    "        mediator_key <- mediators[[mediator_name]]\n",
    "        data.frame(\n",
    "          Outcome = outcome_names[outcome_name],\n",
    "          PerioType = ifelse(perio_type == \"moderate\", \"Moderate periodontitis\", \"Severe periodontitis\"),\n",
    "          Model = paste0(\"+ \", mediator_name),\n",
    "          OR = sprintf(\"%.2f (%.2f-%.2f)\", \n",
    "                      outcome_results[[perio_type]][[mediator_key]]$overall$or,\n",
    "                      outcome_results[[perio_type]][[mediator_key]]$overall$ci_low,\n",
    "                      outcome_results[[perio_type]][[mediator_key]]$overall$ci_high),\n",
    "          ExcessRiskExplained = sprintf(\"%.1f%%\", \n",
    "                                       outcome_results[[perio_type]][[mediator_key]]$excess_risk),\n",
    "          stringsAsFactors = FALSE\n",
    "        )\n",
    "      }))\n",
    "      \n",
    "      table_data <- rbind(table_data, base_row, mediator_rows)\n",
    "    }\n",
    "  }\n",
    "  \n",
    "  return(table_data)\n",
    "}"
   ]
  },
  {
   "cell_type": "code",
   "execution_count": null,
   "metadata": {
    "vscode": {
     "languageId": "r"
    }
   },
   "outputs": [],
   "source": [
    "# Perform Base & Adjusted Logistic Regression\n",
    "\n",
    "outcomes <- c(\"PFQ061I_bin\", \"DLQ040\", \"WHQ060\", \"DPQ050_bin\", \n",
    "                \"DPQ020_bin\", \"DPQ010_bin\", \"DLQ010\", \"DLQ020\")\n",
    "\n",
    "outcome_names <- c(\n",
    "  \"PFQ061I_bin\" = \"Locomotor Capacity\",\n",
    "  \"DLQ040\" = \"Cognitive Capacity\",\n",
    "  \"WHQ060\" = \"Vitality (Weight loss)\",\n",
    "  \"DPQ050_bin\" = \"Vitality (Nutrition)\",\n",
    "  \"DPQ020_bin\" = \"Psychological Capacity (Mood)\",\n",
    "  \"DPQ010_bin\" = \"Psychological Capacity (Anhedonia)\",\n",
    "  \"DLQ010\" = \"Sensory Capacity (Hearing Capacity)\",\n",
    "  \"DLQ020\" = \"Sensory Domain (Visual Capacity)\"\n",
    ")\n",
    "\n",
    "results_list <- setNames(\n",
    "  lapply(outcomes, function(out) run_logistic_mediators_analysis(df_prove, out)),\n",
    "  outcomes\n",
    ")\n",
    "\n",
    "mediation_table <- create_mediation_table(results_list, outcome_names)\n",
    "\n",
    "library(knitr)\n",
    "kable(mediation_table)"
   ]
  },
  {
   "cell_type": "code",
   "execution_count": null,
   "metadata": {
    "vscode": {
     "languageId": "r"
    }
   },
   "outputs": [],
   "source": [
    "library(openxlsx)\n",
    "\n",
    "create_single_formatted_table <- function(mediation_table, selected_outcomes) {\n",
    "  # Create a workbook\n",
    "  wb <- createWorkbook()\n",
    "  addWorksheet(wb, \"Mediation Results\")\n",
    "  \n",
    "  # Define columns for each outcome\n",
    "  outcome_cols <- 4  # OR Moderate, Risk Moderate, OR Severe, Risk Severe\n",
    "  header_row <- 3\n",
    "  start_row <- 4\n",
    "  \n",
    "  models <- unique(mediation_table$Model)\n",
    "  \n",
    "  writeData(wb, \"Mediation Results\", data.frame(Model = models), \n",
    "            startCol = 1, startRow = start_row, colNames = FALSE)\n",
    "  \n",
    "  for(i in 1:length(selected_outcomes)) {\n",
    "    outcome <- selected_outcomes[i]\n",
    "    outcome_data <- mediation_table[mediation_table$Outcome == outcome, ]\n",
    "    \n",
    "    start_col <- 2 + (i-1) * outcome_cols\n",
    "    \n",
    "    writeData(wb, \"Mediation Results\", outcome, \n",
    "              startCol = start_col, startRow = 1)\n",
    "    mergeCells(wb, \"Mediation Results\", \n",
    "               cols = start_col:(start_col+outcome_cols-1), rows = 1)\n",
    "    \n",
    "    writeData(wb, \"Mediation Results\", \"Moderate periodontitis\", \n",
    "              startCol = start_col, startRow = 2)\n",
    "    writeData(wb, \"Mediation Results\", \"Severe periodontitis\", \n",
    "              startCol = start_col+2, startRow = 2)\n",
    "    mergeCells(wb, \"Mediation Results\", cols = start_col:(start_col+1), rows = 2)\n",
    "    mergeCells(wb, \"Mediation Results\", cols = (start_col+2):(start_col+3), rows = 2)\n",
    "    \n",
    "    writeData(wb, \"Mediation Results\", \"OR (95% CI)\", \n",
    "              startCol = start_col, startRow = header_row)\n",
    "    writeData(wb, \"Mediation Results\", \"% excess risk explained\", \n",
    "              startCol = start_col+1, startRow = header_row)\n",
    "    writeData(wb, \"Mediation Results\", \"OR (95% CI)\", \n",
    "              startCol = start_col+2, startRow = header_row)\n",
    "    writeData(wb, \"Mediation Results\", \"% excess risk explained\", \n",
    "              startCol = start_col+3, startRow = header_row)\n",
    "    \n",
    "    for(row_idx in 1:length(models)) {\n",
    "      model <- models[row_idx]\n",
    "      model_data <- outcome_data[outcome_data$Model == model, ]\n",
    "      \n",
    "      moderate_data <- model_data[model_data$PerioType == \"Moderate periodontitis\", ]\n",
    "      severe_data <- model_data[model_data$PerioType == \"Severe periodontitis\", ]\n",
    "      \n",
    "      if(nrow(moderate_data) > 0) {\n",
    "        writeData(wb, \"Mediation Results\", moderate_data$OR, \n",
    "                  startCol = start_col, startRow = start_row + row_idx - 1)\n",
    "        writeData(wb, \"Mediation Results\", moderate_data$ExcessRiskExplained, \n",
    "                  startCol = start_col+1, startRow = start_row + row_idx - 1)\n",
    "      }\n",
    "      \n",
    "      if(nrow(severe_data) > 0) {\n",
    "        writeData(wb, \"Mediation Results\", severe_data$OR, \n",
    "                  startCol = start_col+2, startRow = start_row + row_idx - 1)\n",
    "        writeData(wb, \"Mediation Results\", severe_data$ExcessRiskExplained, \n",
    "                  startCol = start_col+3, startRow = start_row + row_idx - 1)\n",
    "      }\n",
    "    }\n",
    "  }\n",
    "  \n",
    "  headerStyle <- createStyle(halign = \"center\", textDecoration = \"bold\")\n",
    "  addStyle(wb, \"Mediation Results\", headerStyle, \n",
    "           rows = 1:header_row, cols = 1:(1 + length(selected_outcomes) * outcome_cols), \n",
    "           gridExpand = TRUE)\n",
    "  \n",
    "  borderStyle <- createStyle(borderStyle = \"thin\")\n",
    "  addStyle(wb, \"Mediation Results\", borderStyle, \n",
    "           rows = 1:(start_row + length(models) - 1), \n",
    "           cols = 1:(1 + length(selected_outcomes) * outcome_cols), \n",
    "           gridExpand = TRUE)\n",
    "  \n",
    "  setColWidths(wb, \"Mediation Results\", cols = 1, widths = 25)\n",
    "  setColWidths(wb, \"Mediation Results\", \n",
    "               cols = 2:(1 + length(selected_outcomes) * outcome_cols), widths = 18)\n",
    "  \n",
    "  saveWorkbook(wb, \"/Users/silvanoquarto/Desktop/LAVORO/MEDICAL_PHYSICS/Med-Physics/results/NHANES_13_14/mediation_analysis_all_outcomes.xlsx\", overwrite = TRUE)\n",
    "  cat(\"Saved table with all selected outcomes as mediation_analysis_all_outcomes.xlsx in results folder\\n\")\n",
    "}\n",
    "\n",
    "# Create xlsx table\n",
    "\n",
    "selected_outcomes <- c(\"Locomotor Capacity\", \n",
    "                        \"Cognitive Capacity\",\n",
    "                        \"Vitality (Weight loss)\",\n",
    "                        \"Vitality (Nutrition)\",\n",
    "                        \"Psychological Capacity (Mood)\",\n",
    "                        \"Psychological Capacity (Anhedonia)\",\n",
    "                        \"Sensory Capacity (Hearing Capacity)\",\n",
    "                        \"Sensory Domain (Visual Capacity)\"\n",
    ")\n",
    "create_single_formatted_table(mediation_table, selected_outcomes)"
   ]
  },
  {
   "cell_type": "markdown",
   "metadata": {},
   "source": [
    "#### Mediation analysis with Mean PPD & Mean CAL\n",
    "> metric: excess risk explained %"
   ]
  },
  {
   "cell_type": "code",
   "execution_count": null,
   "metadata": {
    "vscode": {
     "languageId": "r"
    }
   },
   "outputs": [],
   "source": [
    "# Function to run adjusted logistic regression analysis with mediators\n",
    "\n",
    "calculate_excess_risk <- function(base_or, mediator_or) {\n",
    "  excess_risk <- ((base_or - mediator_or) / (base_or - 1)) * 100\n",
    "  excess_risk <- ifelse(excess_risk < 0, 0, excess_risk)\n",
    "  return(excess_risk)\n",
    "}\n",
    "\n",
    "mediators_analysis_mean_PPD_CAL <- function(df, outcome) {\n",
    "  \n",
    "  results = list()\n",
    "  \n",
    "  get_model_stats <- function(model, perio_type) {\n",
    "    coef_summary <- summary(model)\n",
    "    pred_idx <- which(rownames(coef_summary$coefficients) == perio_type)\n",
    "    or <- exp(coef(model)[pred_idx])\n",
    "    ci <- exp(confint(model)[pred_idx,])\n",
    "    p_value <- coef_summary$coefficients[pred_idx,4]\n",
    "    \n",
    "    return(list(\n",
    "      or = or,\n",
    "      ci_low = ci[1],\n",
    "      ci_high = ci[2],\n",
    "      p = p_value\n",
    "    ))\n",
    "  }\n",
    "\n",
    "  for(perio_pred in c(\"mean_ppd\", \"mean_cal\")) {\n",
    "\n",
    "    # Adjusted Analysis with Base Model\n",
    "    adjusted_formula <- paste(\n",
    "      \" ~ \", perio_pred, \" + RIDAGEYR + RIAGENDR + SMQ020 + INDFMPIR + DMDEDUC2 + ALQ101\"\n",
    "    )\n",
    "\n",
    "    # Overall with Base Model\n",
    "    model_adj_overall = glm(as.formula(paste(outcome, adjusted_formula)),\n",
    "                       family = binomial, data = df)\n",
    "\n",
    "    # Overall with Base Model + Diabetes\n",
    "    base_diabetes_overall = glm(as.formula(paste(outcome, adjusted_formula, \" + DIQ010\")),\n",
    "                       family = binomial, data = df)\n",
    "    \n",
    "    # Overall with Base Model + Hypertension\n",
    "    base_hypertension_overall = glm(as.formula(paste(outcome, adjusted_formula, \" + BPQ020\")),\n",
    "                       family = binomial, data = df)\n",
    "\n",
    "    # Overall with Base Model + Heart Failure\n",
    "    base_failure_overall = glm(as.formula(paste(outcome, adjusted_formula, \" + MCQ160B\")),\n",
    "                       family = binomial, data = df)\n",
    "\n",
    "    # Overall with Base Model + Coronary Heart Disease\n",
    "    base_coronary_overall = glm(as.formula(paste(outcome, adjusted_formula, \" + MCQ160C\")),\n",
    "                       family = binomial, data = df)\n",
    "\n",
    "    # Overall with Base Model + Heart Attack\n",
    "    base_heartattack_overall = glm(as.formula(paste(outcome, adjusted_formula, \" + MCQ160E\")),\n",
    "                       family = binomial, data = df)\n",
    "\n",
    "    # Overall with Base Model + Stroke\n",
    "    base_stroke_overall = glm(as.formula(paste(outcome, adjusted_formula, \" + MCQ160F\")),\n",
    "                       family = binomial, data = df)\n",
    "\n",
    "    # Overall with Base Model + Liver Disease\n",
    "    base_liver_overall = glm(as.formula(paste(outcome, adjusted_formula, \" + MCQ160L\")),\n",
    "                       family = binomial, data = df)\n",
    "\n",
    "    # Overall with Base Model + Cancer\n",
    "    base_cancer_overall = glm(as.formula(paste(outcome, adjusted_formula, \" + MCQ220\")),\n",
    "                       family = binomial, data = df)\n",
    "\n",
    "    # Saving results\n",
    "    results[[perio_pred]] <- list(\n",
    "      base = list(\n",
    "        overall = get_model_stats(model_adj_overall, perio_pred)\n",
    "      ),\n",
    "      base_diabetes = list(\n",
    "        overall = get_model_stats(base_diabetes_overall, perio_pred)\n",
    "      ),\n",
    "      base_hypertension = list(\n",
    "        overall = get_model_stats(base_hypertension_overall, perio_pred)\n",
    "      ),\n",
    "      base_failure = list(\n",
    "        overall = get_model_stats(base_failure_overall, perio_pred)\n",
    "      ),\n",
    "      base_coronary = list(\n",
    "        overall = get_model_stats(base_coronary_overall, perio_pred)\n",
    "      ),\n",
    "      base_heartattack = list(\n",
    "        overall = get_model_stats(base_heartattack_overall, perio_pred)\n",
    "      ),\n",
    "      base_stroke = list(\n",
    "        overall = get_model_stats(base_stroke_overall, perio_pred)\n",
    "      ),\n",
    "      base_liver = list(\n",
    "        overall = get_model_stats(base_liver_overall, perio_pred)\n",
    "      ),\n",
    "      base_cancer = list(\n",
    "        overall = get_model_stats(base_cancer_overall, perio_pred)\n",
    "      )\n",
    "    )\n",
    "  }\n",
    "\n",
    "  for(perio_pred in c(\"mean_ppd\", \"mean_cal\")) {\n",
    "    base_or <- results[[perio_pred]]$base$overall$or\n",
    "    \n",
    "    # Calculate excess risk percentage\n",
    "    results[[perio_pred]]$base_diabetes$excess_risk <- \n",
    "      calculate_excess_risk(base_or, results[[perio_pred]]$base_diabetes$overall$or)\n",
    "    \n",
    "    results[[perio_pred]]$base_hypertension$excess_risk <- \n",
    "      calculate_excess_risk(base_or, results[[perio_pred]]$base_hypertension$overall$or)\n",
    "    \n",
    "    results[[perio_pred]]$base_failure$excess_risk <- \n",
    "      calculate_excess_risk(base_or, results[[perio_pred]]$base_failure$overall$or)\n",
    "    \n",
    "    results[[perio_pred]]$base_coronary$excess_risk <- \n",
    "      calculate_excess_risk(base_or, results[[perio_pred]]$base_coronary$overall$or)\n",
    "    \n",
    "    results[[perio_pred]]$base_heartattack$excess_risk <- \n",
    "      calculate_excess_risk(base_or, results[[perio_pred]]$base_heartattack$overall$or)\n",
    "    \n",
    "    results[[perio_pred]]$base_stroke$excess_risk <- \n",
    "      calculate_excess_risk(base_or, results[[perio_pred]]$base_stroke$overall$or)\n",
    "    \n",
    "    results[[perio_pred]]$base_liver$excess_risk <- \n",
    "      calculate_excess_risk(base_or, results[[perio_pred]]$base_liver$overall$or)\n",
    "    \n",
    "    results[[perio_pred]]$base_cancer$excess_risk <- \n",
    "      calculate_excess_risk(base_or, results[[perio_pred]]$base_cancer$overall$or)\n",
    "  }\n",
    "\n",
    "  return(results)\n",
    "}"
   ]
  },
  {
   "cell_type": "code",
   "execution_count": null,
   "metadata": {
    "vscode": {
     "languageId": "r"
    }
   },
   "outputs": [],
   "source": [
    "# Format Function\n",
    "\n",
    "create_mediation_PPD_CAL_table <- function(results_list, outcome_names) {\n",
    "  table_data <- data.frame()\n",
    "  \n",
    "  for(outcome_name in names(results_list)) {\n",
    "    outcome_results <- results_list[[outcome_name]]\n",
    "    \n",
    "    for(perio_pred in c(\"mean_ppd\", \"mean_cal\")) {\n",
    "      base_row <- data.frame(\n",
    "        Outcome = outcome_names[outcome_name],\n",
    "        PerioType = ifelse(perio_pred == \"mean_ppd\", \"Mean PPD\", \"Mean CAL\"),\n",
    "        Model = \"Base model\",\n",
    "        OR = sprintf(\"%.2f (%.2f-%.2f)\", \n",
    "                    outcome_results[[perio_pred]]$base$overall$or,\n",
    "                    outcome_results[[perio_pred]]$base$overall$ci_low,\n",
    "                    outcome_results[[perio_pred]]$base$overall$ci_high),\n",
    "        ExcessRiskExplained = \"—\",\n",
    "        stringsAsFactors = FALSE\n",
    "      )\n",
    "      \n",
    "      mediators <- list(\n",
    "        \"Diabetes\" = \"base_diabetes\",\n",
    "        \"Hypertension\" = \"base_hypertension\",\n",
    "        \"Heart Failure\" = \"base_failure\",\n",
    "        \"Coronary Heart Disease\" = \"base_coronary\",\n",
    "        \"Heart Attack\" = \"base_heartattack\",\n",
    "        \"Stroke\" = \"base_stroke\",\n",
    "        \"Liver Disease\" = \"base_liver\",\n",
    "        \"Cancer\" = \"base_cancer\"\n",
    "      )\n",
    "      \n",
    "      mediator_rows <- do.call(rbind, lapply(names(mediators), function(mediator_name) {\n",
    "        mediator_key <- mediators[[mediator_name]]\n",
    "        data.frame(\n",
    "          Outcome = outcome_names[outcome_name],\n",
    "          PerioType = ifelse(perio_pred == \"mean_ppd\", \"Mean PPD\", \"Mean CAL\"),\n",
    "          Model = paste0(\"+ \", mediator_name),\n",
    "          OR = sprintf(\"%.2f (%.2f-%.2f)\", \n",
    "                      outcome_results[[perio_pred]][[mediator_key]]$overall$or,\n",
    "                      outcome_results[[perio_pred]][[mediator_key]]$overall$ci_low,\n",
    "                      outcome_results[[perio_pred]][[mediator_key]]$overall$ci_high),\n",
    "          ExcessRiskExplained = sprintf(\"%.1f%%\", \n",
    "                                       outcome_results[[perio_pred]][[mediator_key]]$excess_risk),\n",
    "          stringsAsFactors = FALSE\n",
    "        )\n",
    "      }))\n",
    "      \n",
    "      table_data <- rbind(table_data, base_row, mediator_rows)\n",
    "    }\n",
    "  }\n",
    "  \n",
    "  return(table_data)\n",
    "}"
   ]
  },
  {
   "cell_type": "code",
   "execution_count": null,
   "metadata": {
    "vscode": {
     "languageId": "r"
    }
   },
   "outputs": [],
   "source": [
    "# Perform Base & Adjusted Logistic Regression\n",
    "\n",
    "outcomes <- c(\"PFQ061I_bin\", \"DLQ040\", \"WHQ060\", \"DPQ050_bin\", \n",
    "                \"DPQ020_bin\", \"DPQ010_bin\", \"DLQ010\", \"DLQ020\")\n",
    "\n",
    "outcome_names <- c(\n",
    "  \"PFQ061I_bin\" = \"Locomotor Capacity\",\n",
    "  \"DLQ040\" = \"Cognitive Capacity\",\n",
    "  \"WHQ060\" = \"Vitality (Weight loss)\",\n",
    "  \"DPQ050_bin\" = \"Vitality (Nutrition)\",\n",
    "  \"DPQ020_bin\" = \"Psychological Capacity (Mood)\",\n",
    "  \"DPQ010_bin\" = \"Psychological Capacity (Anhedonia)\",\n",
    "  \"DLQ010\" = \"Sensory Capacity (Hearing Capacity)\",\n",
    "  \"DLQ020\" = \"Sensory Domain (Visual Capacity)\"\n",
    ")\n",
    "\n",
    "results_list <- setNames(\n",
    "  lapply(outcomes, function(out) mediators_analysis_mean_PPD_CAL(df_prove, out)),\n",
    "  outcomes\n",
    ")\n",
    "\n",
    "mediation_table <- create_mediation_PPD_CAL_table(results_list, outcome_names)\n",
    "\n",
    "library(knitr)\n",
    "kable(mediation_table)"
   ]
  },
  {
   "cell_type": "code",
   "execution_count": null,
   "metadata": {
    "vscode": {
     "languageId": "r"
    }
   },
   "outputs": [],
   "source": [
    "library(openxlsx)\n",
    "\n",
    "create_single_formatted_table <- function(mediation_table, selected_outcomes) {\n",
    "  # Create a workbook\n",
    "  wb <- createWorkbook()\n",
    "  addWorksheet(wb, \"Mediation with Mean PPD/CAL\")\n",
    "  \n",
    "  # Define columns for each outcome\n",
    "  outcome_cols <- 4  # OR Mean PPD, Risk Mean PPD, OR Mean CAL, Risk Mean CAL\n",
    "  header_row <- 3\n",
    "  start_row <- 4\n",
    "  \n",
    "  models <- unique(mediation_table$Model)\n",
    "  \n",
    "  writeData(wb, \"Mediation with Mean PPD/CAL\", data.frame(Model = models), \n",
    "            startCol = 1, startRow = start_row, colNames = FALSE)\n",
    "  \n",
    "  for(i in 1:length(selected_outcomes)) {\n",
    "    outcome <- selected_outcomes[i]\n",
    "    outcome_data <- mediation_table[mediation_table$Outcome == outcome, ]\n",
    "    \n",
    "    start_col <- 2 + (i-1) * outcome_cols\n",
    "    \n",
    "    writeData(wb, \"Mediation with Mean PPD/CAL\", outcome, \n",
    "              startCol = start_col, startRow = 1)\n",
    "    mergeCells(wb, \"Mediation with Mean PPD/CAL\", \n",
    "               cols = start_col:(start_col+outcome_cols-1), rows = 1)\n",
    "    \n",
    "    writeData(wb, \"Mediation with Mean PPD/CAL\", \"Mean PPD\", \n",
    "              startCol = start_col, startRow = 2)\n",
    "    writeData(wb, \"Mediation with Mean PPD/CAL\", \"Mean CAL\", \n",
    "              startCol = start_col+2, startRow = 2)\n",
    "    mergeCells(wb, \"Mediation with Mean PPD/CAL\", cols = start_col:(start_col+1), rows = 2)\n",
    "    mergeCells(wb, \"Mediation with Mean PPD/CAL\", cols = (start_col+2):(start_col+3), rows = 2)\n",
    "    \n",
    "    writeData(wb, \"Mediation with Mean PPD/CAL\", \"OR (95% CI)\", \n",
    "              startCol = start_col, startRow = header_row)\n",
    "    writeData(wb, \"Mediation with Mean PPD/CAL\", \"% excess risk explained\", \n",
    "              startCol = start_col+1, startRow = header_row)\n",
    "    writeData(wb, \"Mediation with Mean PPD/CAL\", \"OR (95% CI)\", \n",
    "              startCol = start_col+2, startRow = header_row)\n",
    "    writeData(wb, \"Mediation with Mean PPD/CAL\", \"% excess risk explained\", \n",
    "              startCol = start_col+3, startRow = header_row)\n",
    "    \n",
    "    for(row_idx in 1:length(models)) {\n",
    "      model <- models[row_idx]\n",
    "      model_data <- outcome_data[outcome_data$Model == model, ]\n",
    "      \n",
    "      moderate_data <- model_data[model_data$PerioType == \"Mean PPD\", ]\n",
    "      severe_data <- model_data[model_data$PerioType == \"Mean CAL\", ]\n",
    "      \n",
    "      if(nrow(moderate_data) > 0) {\n",
    "        writeData(wb, \"Mediation with Mean PPD/CAL\", moderate_data$OR, \n",
    "                  startCol = start_col, startRow = start_row + row_idx - 1)\n",
    "        writeData(wb, \"Mediation with Mean PPD/CAL\", moderate_data$ExcessRiskExplained, \n",
    "                  startCol = start_col+1, startRow = start_row + row_idx - 1)\n",
    "      }\n",
    "      \n",
    "      if(nrow(severe_data) > 0) {\n",
    "        writeData(wb, \"Mediation with Mean PPD/CAL\", severe_data$OR, \n",
    "                  startCol = start_col+2, startRow = start_row + row_idx - 1)\n",
    "        writeData(wb, \"Mediation with Mean PPD/CAL\", severe_data$ExcessRiskExplained, \n",
    "                  startCol = start_col+3, startRow = start_row + row_idx - 1)\n",
    "      }\n",
    "    }\n",
    "  }\n",
    "  \n",
    "  headerStyle <- createStyle(halign = \"center\", textDecoration = \"bold\")\n",
    "  addStyle(wb, \"Mediation with Mean PPD/CAL\", headerStyle, \n",
    "           rows = 1:header_row, cols = 1:(1 + length(selected_outcomes) * outcome_cols), \n",
    "           gridExpand = TRUE)\n",
    "  \n",
    "  borderStyle <- createStyle(borderStyle = \"thin\")\n",
    "  addStyle(wb, \"Mediation with Mean PPD/CAL\", borderStyle, \n",
    "           rows = 1:(start_row + length(models) - 1), \n",
    "           cols = 1:(1 + length(selected_outcomes) * outcome_cols), \n",
    "           gridExpand = TRUE)\n",
    "  \n",
    "  setColWidths(wb, \"Mediation with Mean PPD/CAL\", cols = 1, widths = 25)\n",
    "  setColWidths(wb, \"Mediation with Mean PPD/CAL\", \n",
    "               cols = 2:(1 + length(selected_outcomes) * outcome_cols), widths = 18)\n",
    "  \n",
    "  saveWorkbook(wb, \"/Users/silvanoquarto/Desktop/LAVORO/MEDICAL_PHYSICS/Med-Physics/results/NHANES_13_14/mediation_analysis_mean_PPD_CAL.xlsx\", overwrite = TRUE)\n",
    "  cat(\"Saved table with all selected outcomes as mediation_analysis_mean_PPD_CAL.xlsx in results folder\\n\")\n",
    "}\n",
    "\n",
    "# Create xlsx table\n",
    "\n",
    "selected_outcomes <- c(\"Locomotor Capacity\", \n",
    "                        \"Cognitive Capacity\",\n",
    "                        \"Vitality (Weight loss)\",\n",
    "                        \"Vitality (Nutrition)\",\n",
    "                        \"Psychological Capacity (Mood)\",\n",
    "                        \"Psychological Capacity (Anhedonia)\",\n",
    "                        \"Sensory Capacity (Hearing Capacity)\",\n",
    "                        \"Sensory Domain (Visual Capacity)\"\n",
    ")\n",
    "create_single_formatted_table(mediation_table, selected_outcomes)"
   ]
  },
  {
   "cell_type": "markdown",
   "metadata": {},
   "source": [
    "### Clustering Analysis"
   ]
  },
  {
   "cell_type": "code",
   "execution_count": 23,
   "metadata": {
    "vscode": {
     "languageId": "r"
    }
   },
   "outputs": [
    {
     "data": {
      "text/html": [
       "<table class=\"dataframe\">\n",
       "<caption>A data.frame: 6 x 32</caption>\n",
       "<thead>\n",
       "\t<tr><th></th><th scope=col>SEQN</th><th scope=col>RIAGENDR</th><th scope=col>RIDAGEYR</th><th scope=col>RIDRETH1</th><th scope=col>DMDEDUC2</th><th scope=col>INDFMPIR</th><th scope=col>SMQ020</th><th scope=col>ALQ101</th><th scope=col>MCQ160B</th><th scope=col>MCQ160C</th><th scope=col>...</th><th scope=col>DPQ020</th><th scope=col>DPQ050</th><th scope=col>WHQ060</th><th scope=col>periodontitis</th><th scope=col>mean_ppd</th><th scope=col>mean_cal</th><th scope=col>PFQ061I_bin</th><th scope=col>DPQ050_bin</th><th scope=col>DPQ020_bin</th><th scope=col>DPQ010_bin</th></tr>\n",
       "\t<tr><th></th><th scope=col>&lt;int&gt;</th><th scope=col>&lt;int&gt;</th><th scope=col>&lt;int&gt;</th><th scope=col>&lt;int&gt;</th><th scope=col>&lt;int&gt;</th><th scope=col>&lt;dbl&gt;</th><th scope=col>&lt;int&gt;</th><th scope=col>&lt;int&gt;</th><th scope=col>&lt;int&gt;</th><th scope=col>&lt;int&gt;</th><th scope=col>...</th><th scope=col>&lt;int&gt;</th><th scope=col>&lt;int&gt;</th><th scope=col>&lt;int&gt;</th><th scope=col>&lt;fct&gt;</th><th scope=col>&lt;dbl&gt;</th><th scope=col>&lt;dbl&gt;</th><th scope=col>&lt;int&gt;</th><th scope=col>&lt;int&gt;</th><th scope=col>&lt;int&gt;</th><th scope=col>&lt;int&gt;</th></tr>\n",
       "</thead>\n",
       "<tbody>\n",
       "\t<tr><th scope=row>1</th><td>51633</td><td>1</td><td>80</td><td>3</td><td>4</td><td>1.27</td><td>1</td><td>1</td><td>2</td><td>2</td><td>...</td><td>0</td><td>0</td><td>1</td><td>Moderate </td><td>2.26</td><td>1.26</td><td>0</td><td>0</td><td>0</td><td>0</td></tr>\n",
       "\t<tr><th scope=row>2</th><td>51654</td><td>1</td><td>66</td><td>3</td><td>4</td><td>2.20</td><td>1</td><td>1</td><td>2</td><td>2</td><td>...</td><td>0</td><td>0</td><td>0</td><td>Moderate </td><td>1.95</td><td>1.72</td><td>0</td><td>0</td><td>0</td><td>0</td></tr>\n",
       "\t<tr><th scope=row>3</th><td>51680</td><td>2</td><td>60</td><td>4</td><td>4</td><td>2.59</td><td>1</td><td>1</td><td>2</td><td>2</td><td>...</td><td>1</td><td>1</td><td>1</td><td>Severe   </td><td>1.81</td><td>1.48</td><td>0</td><td>1</td><td>1</td><td>0</td></tr>\n",
       "\t<tr><th scope=row>4</th><td>51687</td><td>1</td><td>78</td><td>3</td><td>5</td><td>5.00</td><td>1</td><td>1</td><td>2</td><td>2</td><td>...</td><td>0</td><td>0</td><td>0</td><td>None/Mild</td><td>1.29</td><td>1.27</td><td>0</td><td>0</td><td>0</td><td>0</td></tr>\n",
       "\t<tr><th scope=row>5</th><td>51736</td><td>2</td><td>60</td><td>1</td><td>3</td><td>0.68</td><td>1</td><td>1</td><td>2</td><td>2</td><td>...</td><td>1</td><td>0</td><td>1</td><td>Moderate </td><td>2.49</td><td>1.99</td><td>0</td><td>0</td><td>1</td><td>0</td></tr>\n",
       "\t<tr><th scope=row>6</th><td>51861</td><td>1</td><td>80</td><td>3</td><td>3</td><td>4.94</td><td>2</td><td>1</td><td>2</td><td>1</td><td>...</td><td>0</td><td>0</td><td>1</td><td>Moderate </td><td>1.70</td><td>1.33</td><td>1</td><td>0</td><td>0</td><td>0</td></tr>\n",
       "</tbody>\n",
       "</table>\n"
      ],
      "text/latex": [
       "A data.frame: 6 x 32\n",
       "\\begin{tabular}{r|lllllllllllllllllllll}\n",
       "  & SEQN & RIAGENDR & RIDAGEYR & RIDRETH1 & DMDEDUC2 & INDFMPIR & SMQ020 & ALQ101 & MCQ160B & MCQ160C & ... & DPQ020 & DPQ050 & WHQ060 & periodontitis & mean\\_ppd & mean\\_cal & PFQ061I\\_bin & DPQ050\\_bin & DPQ020\\_bin & DPQ010\\_bin\\\\\n",
       "  & <int> & <int> & <int> & <int> & <int> & <dbl> & <int> & <int> & <int> & <int> & ... & <int> & <int> & <int> & <fct> & <dbl> & <dbl> & <int> & <int> & <int> & <int>\\\\\n",
       "\\hline\n",
       "\t1 & 51633 & 1 & 80 & 3 & 4 & 1.27 & 1 & 1 & 2 & 2 & ... & 0 & 0 & 1 & Moderate  & 2.26 & 1.26 & 0 & 0 & 0 & 0\\\\\n",
       "\t2 & 51654 & 1 & 66 & 3 & 4 & 2.20 & 1 & 1 & 2 & 2 & ... & 0 & 0 & 0 & Moderate  & 1.95 & 1.72 & 0 & 0 & 0 & 0\\\\\n",
       "\t3 & 51680 & 2 & 60 & 4 & 4 & 2.59 & 1 & 1 & 2 & 2 & ... & 1 & 1 & 1 & Severe    & 1.81 & 1.48 & 0 & 1 & 1 & 0\\\\\n",
       "\t4 & 51687 & 1 & 78 & 3 & 5 & 5.00 & 1 & 1 & 2 & 2 & ... & 0 & 0 & 0 & None/Mild & 1.29 & 1.27 & 0 & 0 & 0 & 0\\\\\n",
       "\t5 & 51736 & 2 & 60 & 1 & 3 & 0.68 & 1 & 1 & 2 & 2 & ... & 1 & 0 & 1 & Moderate  & 2.49 & 1.99 & 0 & 0 & 1 & 0\\\\\n",
       "\t6 & 51861 & 1 & 80 & 3 & 3 & 4.94 & 2 & 1 & 2 & 1 & ... & 0 & 0 & 1 & Moderate  & 1.70 & 1.33 & 1 & 0 & 0 & 0\\\\\n",
       "\\end{tabular}\n"
      ],
      "text/markdown": [
       "\n",
       "A data.frame: 6 x 32\n",
       "\n",
       "| <!--/--> | SEQN &lt;int&gt; | RIAGENDR &lt;int&gt; | RIDAGEYR &lt;int&gt; | RIDRETH1 &lt;int&gt; | DMDEDUC2 &lt;int&gt; | INDFMPIR &lt;dbl&gt; | SMQ020 &lt;int&gt; | ALQ101 &lt;int&gt; | MCQ160B &lt;int&gt; | MCQ160C &lt;int&gt; | ... ... | DPQ020 &lt;int&gt; | DPQ050 &lt;int&gt; | WHQ060 &lt;int&gt; | periodontitis &lt;fct&gt; | mean_ppd &lt;dbl&gt; | mean_cal &lt;dbl&gt; | PFQ061I_bin &lt;int&gt; | DPQ050_bin &lt;int&gt; | DPQ020_bin &lt;int&gt; | DPQ010_bin &lt;int&gt; |\n",
       "|---|---|---|---|---|---|---|---|---|---|---|---|---|---|---|---|---|---|---|---|---|---|\n",
       "| 1 | 51633 | 1 | 80 | 3 | 4 | 1.27 | 1 | 1 | 2 | 2 | ... | 0 | 0 | 1 | Moderate  | 2.26 | 1.26 | 0 | 0 | 0 | 0 |\n",
       "| 2 | 51654 | 1 | 66 | 3 | 4 | 2.20 | 1 | 1 | 2 | 2 | ... | 0 | 0 | 0 | Moderate  | 1.95 | 1.72 | 0 | 0 | 0 | 0 |\n",
       "| 3 | 51680 | 2 | 60 | 4 | 4 | 2.59 | 1 | 1 | 2 | 2 | ... | 1 | 1 | 1 | Severe    | 1.81 | 1.48 | 0 | 1 | 1 | 0 |\n",
       "| 4 | 51687 | 1 | 78 | 3 | 5 | 5.00 | 1 | 1 | 2 | 2 | ... | 0 | 0 | 0 | None/Mild | 1.29 | 1.27 | 0 | 0 | 0 | 0 |\n",
       "| 5 | 51736 | 2 | 60 | 1 | 3 | 0.68 | 1 | 1 | 2 | 2 | ... | 1 | 0 | 1 | Moderate  | 2.49 | 1.99 | 0 | 0 | 1 | 0 |\n",
       "| 6 | 51861 | 1 | 80 | 3 | 3 | 4.94 | 2 | 1 | 2 | 1 | ... | 0 | 0 | 1 | Moderate  | 1.70 | 1.33 | 1 | 0 | 0 | 0 |\n",
       "\n"
      ],
      "text/plain": [
       "  SEQN  RIAGENDR RIDAGEYR RIDRETH1 DMDEDUC2 INDFMPIR SMQ020 ALQ101 MCQ160B\n",
       "1 51633 1        80       3        4        1.27     1      1      2      \n",
       "2 51654 1        66       3        4        2.20     1      1      2      \n",
       "3 51680 2        60       4        4        2.59     1      1      2      \n",
       "4 51687 1        78       3        5        5.00     1      1      2      \n",
       "5 51736 2        60       1        3        0.68     1      1      2      \n",
       "6 51861 1        80       3        3        4.94     2      1      2      \n",
       "  MCQ160C ... DPQ020 DPQ050 WHQ060 periodontitis mean_ppd mean_cal PFQ061I_bin\n",
       "1 2       ... 0      0      1      Moderate      2.26     1.26     0          \n",
       "2 2       ... 0      0      0      Moderate      1.95     1.72     0          \n",
       "3 2       ... 1      1      1      Severe        1.81     1.48     0          \n",
       "4 2       ... 0      0      0      None/Mild     1.29     1.27     0          \n",
       "5 2       ... 1      0      1      Moderate      2.49     1.99     0          \n",
       "6 1       ... 0      0      1      Moderate      1.70     1.33     1          \n",
       "  DPQ050_bin DPQ020_bin DPQ010_bin\n",
       "1 0          0          0         \n",
       "2 0          0          0         \n",
       "3 1          1          0         \n",
       "4 0          0          0         \n",
       "5 0          1          0         \n",
       "6 0          0          0         "
      ]
     },
     "metadata": {},
     "output_type": "display_data"
    }
   ],
   "source": [
    "df <- read.csv(\"/Users/silvanoquarto/Desktop/LAVORO/MEDICAL_PHYSICS/Med-Physics/data/NHANES/recoded_df_09_14.csv\", \n",
    "              stringsAsFactors = TRUE)\n",
    "\n",
    "head(df)"
   ]
  },
  {
   "cell_type": "code",
   "execution_count": 24,
   "metadata": {
    "vscode": {
     "languageId": "r"
    }
   },
   "outputs": [],
   "source": [
    "intrinsic_vars <- c(\n",
    "  \"PFQ061I_bin\",\n",
    "  \"DLQ040\",\n",
    "  \"WHQ060\",\n",
    "  \"DPQ050_bin\",\n",
    "  \"DPQ020_bin\",\n",
    "  \"DPQ010_bin\",\n",
    "  \"DLQ010\",\n",
    "  \"DLQ020\"\n",
    ")\n",
    "\n",
    "covariates <- c(\n",
    "  'RIAGENDR',\n",
    "  'RIDAGEYR',\n",
    "  'RIDRETH1',\n",
    "  'DMDEDUC2',\n",
    "  'INDFMPIR',\n",
    "  'SMQ020',\n",
    "  'ALQ101',\n",
    "  'MCQ160B',\n",
    "  'MCQ160C',\n",
    "  'MCQ160D',\n",
    "  'MCQ160E',\n",
    "  'MCQ160F',\n",
    "  'MCQ160L',\n",
    "  'MCQ220',\n",
    "  'BPQ020',\n",
    "  'DIQ010'\n",
    ")"
   ]
  },
  {
   "cell_type": "markdown",
   "metadata": {},
   "source": [
    "#### PCA"
   ]
  },
  {
   "cell_type": "code",
   "execution_count": 65,
   "metadata": {
    "vscode": {
     "languageId": "r"
    }
   },
   "outputs": [
    {
     "name": "stderr",
     "output_type": "stream",
     "text": [
      "\u001b[1m\u001b[22mScale for \u001b[32mfill\u001b[39m is already present.\n",
      "Adding another scale for \u001b[32mfill\u001b[39m, which will replace the existing scale.\n"
     ]
    },
    {
     "data": {
      "image/png": "[encoded data removed]",
      "text/plain": [
       "plot without title"
      ]
     },
     "metadata": {
      "image/png": {
       "height": 420,
       "width": 420
      }
     },
     "output_type": "display_data"
    }
   ],
   "source": [
    "# Correlation matrix\n",
    "\n",
    "library(ggcorrplot)\n",
    "library(ggplot2)\n",
    "\n",
    "corr <- cor(df[intrinsic_vars])\n",
    "\n",
    "p <- ggcorrplot(corr, \n",
    "                hc.order = TRUE, \n",
    "                type = \"lower\", \n",
    "                lab = TRUE, \n",
    "                show.legend = TRUE) +\n",
    "  scale_fill_gradient2(low = \"blue\", mid = \"white\", high = \"red\", midpoint = 0, limit = c(-1, 1)) +\n",
    "  theme_minimal() +\n",
    "  theme(axis.text.x = element_text(angle = 45, hjust=1),\n",
    "        legend.title = element_text(size = 10),\n",
    "        legend.text = element_text(size = 8)) +\n",
    "  labs(fill = \"Correlation\")\n",
    "\n",
    "p"
   ]
  },
  {
   "cell_type": "code",
   "execution_count": 41,
   "metadata": {
    "vscode": {
     "languageId": "r"
    }
   },
   "outputs": [
    {
     "data": {
      "text/plain": [
       "Importance of components:\n",
       "                          PC1    PC2    PC3    PC4     PC5     PC6     PC7\n",
       "Standard deviation     1.4802 1.0976 0.9842 0.9460 0.88422 0.86767 0.84624\n",
       "Proportion of Variance 0.2739 0.1506 0.1211 0.1119 0.09773 0.09411 0.08951\n",
       "Cumulative Proportion  0.2739 0.4245 0.5456 0.6574 0.75515 0.84925 0.93877\n",
       "                           PC8\n",
       "Standard deviation     0.69990\n",
       "Proportion of Variance 0.06123\n",
       "Cumulative Proportion  1.00000"
      ]
     },
     "metadata": {},
     "output_type": "display_data"
    }
   ],
   "source": [
    "# PCA\n",
    "\n",
    "pca <- prcomp(df[intrinsic_vars],\n",
    "              scale = T,\n",
    "              center = T)\n",
    "\n",
    "summary(pca)"
   ]
  },
  {
   "cell_type": "code",
   "execution_count": 51,
   "metadata": {
    "vscode": {
     "languageId": "r"
    }
   },
   "outputs": [
    {
     "data": {
      "image/png": "[encoded data removed]",
      "text/plain": [
       "plot without title"
      ]
     },
     "metadata": {
      "image/png": {
       "height": 420,
       "width": 420
      }
     },
     "output_type": "display_data"
    }
   ],
   "source": [
    "# screeplot\n",
    "\n",
    "library(factoextra)\n",
    "\n",
    "fviz_screeplot(pca, \n",
    "               geom = \"line\", \n",
    "               linecolor = \"steelblue\", \n",
    "               linetype = \"solid\", \n",
    "               addlabels = TRUE) +\n",
    "  theme_minimal() +\n",
    "  labs(title = \"Scree Plot\",\n",
    "       x = \"Principal Components\",\n",
    "       y = \"Percentage of Variance Explained\")"
   ]
  },
  {
   "cell_type": "code",
   "execution_count": 54,
   "metadata": {
    "vscode": {
     "languageId": "r"
    }
   },
   "outputs": [
    {
     "data": {
      "image/png": "[encoded data removed]",
      "text/plain": [
       "plot without title"
      ]
     },
     "metadata": {
      "image/png": {
       "height": 420,
       "width": 420
      }
     },
     "output_type": "display_data"
    }
   ],
   "source": [
    "# Plot cumulative explained variance\n",
    "\n",
    "# Calculate cumulative explained variance\n",
    "explained_var <- pca$sdev^2 / sum(pca$sdev^2)\n",
    "cum_explained_var <- cumsum(explained_var)\n",
    "cumvar_df <- data.frame(\n",
    "  PC = seq_along(cum_explained_var),\n",
    "  CumulativeVariance = cum_explained_var\n",
    ")\n",
    "\n",
    "ggplot(cumvar_df, aes(x = PC, y = CumulativeVariance)) +\n",
    "  geom_line(color = \"steelblue\", size = 1) +\n",
    "  geom_point(color = \"steelblue\", size = 2) +\n",
    "  scale_y_continuous(labels = scales::percent_format(accuracy = 1)) +\n",
    "  theme_minimal() +\n",
    "  labs(title = \"Cumulative Explained Variance\",\n",
    "       x = \"Principal Components\",\n",
    "       y = \"Cumulative Variance Explained (%)\")\n"
   ]
  },
  {
   "cell_type": "code",
   "execution_count": 58,
   "metadata": {
    "vscode": {
     "languageId": "r"
    }
   },
   "outputs": [
    {
     "data": {
      "image/png": "[encoded data removed]",
      "text/plain": [
       "plot without title"
      ]
     },
     "metadata": {
      "image/png": {
       "height": 420,
       "width": 420
      }
     },
     "output_type": "display_data"
    }
   ],
   "source": [
    "# Plot top variable contributions to PC1\n",
    "\n",
    "fviz_contrib(pca, \n",
    "             choice = \"var\", \n",
    "             axes = 1, \n",
    "             top = 20, \n",
    "             fill = \"steelblue\", \n",
    "             color = \"steelblue\") +\n",
    "  theme_minimal() +\n",
    "  labs(title = \"Top 20 Variable Contributions to PC1\",\n",
    "       x = \"Variables\",\n",
    "       y = \"Contribution (%)\") +\n",
    "  theme(axis.text.x = element_text(angle = 45, hjust = 1))"
   ]
  },
  {
   "cell_type": "code",
   "execution_count": 59,
   "metadata": {
    "vscode": {
     "languageId": "r"
    }
   },
   "outputs": [
    {
     "data": {
      "image/png": "[encoded data removed]",
      "text/plain": [
       "plot without title"
      ]
     },
     "metadata": {
      "image/png": {
       "height": 420,
       "width": 420
      }
     },
     "output_type": "display_data"
    }
   ],
   "source": [
    "# PCA variable plot - top 10 contributing variables\n",
    "\n",
    "fviz_pca_var(pca, \n",
    "             col.var = \"contrib\", \n",
    "             select.var = list(contrib = 10), \n",
    "             gradient.cols = c(\"#00AFBB\", \"#E7B800\", \"#FC4E07\"), \n",
    "             repel = TRUE) +\n",
    "  theme_minimal() +\n",
    "  labs(title = \"Top 10 Variables by Contribution\",\n",
    "       color = \"Contribution\")"
   ]
  },
  {
   "cell_type": "code",
   "execution_count": 63,
   "metadata": {
    "vscode": {
     "languageId": "r"
    }
   },
   "outputs": [
    {
     "data": {
      "image/png": "[encoded data removed]",
      "text/plain": [
       "plot without title"
      ]
     },
     "metadata": {
      "image/png": {
       "height": 420,
       "width": 420
      }
     },
     "output_type": "display_data"
    }
   ],
   "source": [
    "fviz_pca_biplot(pca, \n",
    "                select.var = list(contrib = 10), \n",
    "                label = 'var', \n",
    "                repel = T, \n",
    "                pointsize = 0.5)"
   ]
  },
  {
   "cell_type": "code",
   "execution_count": null,
   "metadata": {
    "vscode": {
     "languageId": "r"
    }
   },
   "outputs": [],
   "source": []
  },
  {
   "cell_type": "code",
   "execution_count": null,
   "metadata": {
    "vscode": {
     "languageId": "r"
    }
   },
   "outputs": [],
   "source": []
  },
  {
   "cell_type": "markdown",
   "metadata": {},
   "source": [
    "#### Clustering"
   ]
  },
  {
   "cell_type": "code",
   "execution_count": 71,
   "metadata": {
    "vscode": {
     "languageId": "r"
    }
   },
   "outputs": [
    {
     "data": {
      "text/html": [
       "<table class=\"dataframe\">\n",
       "<caption>A data.frame: 6 x 8</caption>\n",
       "<thead>\n",
       "\t<tr><th></th><th scope=col>PFQ061I_bin</th><th scope=col>DLQ040</th><th scope=col>WHQ060</th><th scope=col>DPQ050_bin</th><th scope=col>DPQ020_bin</th><th scope=col>DPQ010_bin</th><th scope=col>DLQ010</th><th scope=col>DLQ020</th></tr>\n",
       "\t<tr><th></th><th scope=col>&lt;int&gt;</th><th scope=col>&lt;int&gt;</th><th scope=col>&lt;int&gt;</th><th scope=col>&lt;int&gt;</th><th scope=col>&lt;int&gt;</th><th scope=col>&lt;int&gt;</th><th scope=col>&lt;int&gt;</th><th scope=col>&lt;int&gt;</th></tr>\n",
       "</thead>\n",
       "<tbody>\n",
       "\t<tr><th scope=row>1</th><td>0</td><td>0</td><td>1</td><td>0</td><td>0</td><td>0</td><td>0</td><td>1</td></tr>\n",
       "\t<tr><th scope=row>2</th><td>0</td><td>0</td><td>0</td><td>0</td><td>0</td><td>0</td><td>0</td><td>0</td></tr>\n",
       "\t<tr><th scope=row>3</th><td>0</td><td>0</td><td>1</td><td>1</td><td>1</td><td>0</td><td>0</td><td>1</td></tr>\n",
       "\t<tr><th scope=row>4</th><td>0</td><td>0</td><td>0</td><td>0</td><td>0</td><td>0</td><td>0</td><td>0</td></tr>\n",
       "\t<tr><th scope=row>5</th><td>0</td><td>0</td><td>1</td><td>0</td><td>1</td><td>0</td><td>0</td><td>0</td></tr>\n",
       "\t<tr><th scope=row>6</th><td>1</td><td>0</td><td>1</td><td>0</td><td>0</td><td>0</td><td>1</td><td>0</td></tr>\n",
       "</tbody>\n",
       "</table>\n"
      ],
      "text/latex": [
       "A data.frame: 6 x 8\n",
       "\\begin{tabular}{r|llllllll}\n",
       "  & PFQ061I\\_bin & DLQ040 & WHQ060 & DPQ050\\_bin & DPQ020\\_bin & DPQ010\\_bin & DLQ010 & DLQ020\\\\\n",
       "  & <int> & <int> & <int> & <int> & <int> & <int> & <int> & <int>\\\\\n",
       "\\hline\n",
       "\t1 & 0 & 0 & 1 & 0 & 0 & 0 & 0 & 1\\\\\n",
       "\t2 & 0 & 0 & 0 & 0 & 0 & 0 & 0 & 0\\\\\n",
       "\t3 & 0 & 0 & 1 & 1 & 1 & 0 & 0 & 1\\\\\n",
       "\t4 & 0 & 0 & 0 & 0 & 0 & 0 & 0 & 0\\\\\n",
       "\t5 & 0 & 0 & 1 & 0 & 1 & 0 & 0 & 0\\\\\n",
       "\t6 & 1 & 0 & 1 & 0 & 0 & 0 & 1 & 0\\\\\n",
       "\\end{tabular}\n"
      ],
      "text/markdown": [
       "\n",
       "A data.frame: 6 x 8\n",
       "\n",
       "| <!--/--> | PFQ061I_bin &lt;int&gt; | DLQ040 &lt;int&gt; | WHQ060 &lt;int&gt; | DPQ050_bin &lt;int&gt; | DPQ020_bin &lt;int&gt; | DPQ010_bin &lt;int&gt; | DLQ010 &lt;int&gt; | DLQ020 &lt;int&gt; |\n",
       "|---|---|---|---|---|---|---|---|---|\n",
       "| 1 | 0 | 0 | 1 | 0 | 0 | 0 | 0 | 1 |\n",
       "| 2 | 0 | 0 | 0 | 0 | 0 | 0 | 0 | 0 |\n",
       "| 3 | 0 | 0 | 1 | 1 | 1 | 0 | 0 | 1 |\n",
       "| 4 | 0 | 0 | 0 | 0 | 0 | 0 | 0 | 0 |\n",
       "| 5 | 0 | 0 | 1 | 0 | 1 | 0 | 0 | 0 |\n",
       "| 6 | 1 | 0 | 1 | 0 | 0 | 0 | 1 | 0 |\n",
       "\n"
      ],
      "text/plain": [
       "  PFQ061I_bin DLQ040 WHQ060 DPQ050_bin DPQ020_bin DPQ010_bin DLQ010 DLQ020\n",
       "1 0           0      1      0          0          0          0      1     \n",
       "2 0           0      0      0          0          0          0      0     \n",
       "3 0           0      1      1          1          0          0      1     \n",
       "4 0           0      0      0          0          0          0      0     \n",
       "5 0           0      1      0          1          0          0      0     \n",
       "6 1           0      1      0          0          0          1      0     "
      ]
     },
     "metadata": {},
     "output_type": "display_data"
    }
   ],
   "source": [
    "data_cluster <- df %>% \n",
    "    select(intrinsic_vars)\n",
    "\n",
    "head(data_cluster)"
   ]
  },
  {
   "cell_type": "code",
   "execution_count": 72,
   "metadata": {
    "vscode": {
     "languageId": "r"
    }
   },
   "outputs": [],
   "source": [
    "# need to make variables as factors\n",
    "\n"
   ]
  },
  {
   "cell_type": "code",
   "execution_count": 86,
   "metadata": {
    "vscode": {
     "languageId": "r"
    }
   },
   "outputs": [
    {
     "data": {
      "image/png": "[encoded data removed]",
      "text/plain": [
       "Plot with title \"Elbow Method for Optimal K (kmodes)\""
      ]
     },
     "metadata": {
      "image/png": {
       "height": 420,
       "width": 420
      }
     },
     "output_type": "display_data"
    }
   ],
   "source": [
    "library(klaR)\n",
    "library(factoextra)\n",
    "\n",
    "# Wrapper for kmodes\n",
    "kmodes_wrapper <- function(x, k) {\n",
    "  klaR::kmodes(x, modes = k, iter.max = 10)\n",
    "}\n",
    "\n",
    "set.seed(123)\n",
    "\n",
    "# Calculate total within-cluster dissimilarity for different k values\n",
    "wss <- sapply(1:10, function(k) {\n",
    "  model <- kmodes(data_cluster, k)  \n",
    "  return(sum(model$withindiff))\n",
    "})\n",
    "\n",
    "# Plot WSS (Within-Cluster Dissimilarity) against K\n",
    "par(bg = \"white\")\n",
    "plot(1:10, wss, type = \"b\", pch = 19, frame = FALSE,\n",
    "     xlab = \"Number of clusters K\", \n",
    "     ylab = \"Within-Cluster Dissimilarity\",\n",
    "     main = \"Elbow Method for Optimal K (kmodes)\")\n",
    "abline(v = which.min(diff(wss)), col = \"red\", lty = 2)\n",
    "grid()"
   ]
  },
  {
   "cell_type": "markdown",
   "metadata": {},
   "source": [
    "### Data Exploration and Visualization"
   ]
  },
  {
   "cell_type": "code",
   "execution_count": null,
   "metadata": {
    "vscode": {
     "languageId": "r"
    }
   },
   "outputs": [],
   "source": [
    "library(ggplot2)\n",
    "library(dplyr)\n",
    "library(tidyr)\n",
    "library(scales)\n",
    "library(forcats)\n",
    "library(corrplot)\n",
    "library(GGally)\n",
    "library(viridis)\n",
    "library(patchwork)"
   ]
  },
  {
   "cell_type": "code",
   "execution_count": null,
   "metadata": {
    "vscode": {
     "languageId": "r"
    }
   },
   "outputs": [],
   "source": [
    "df <- read.csv(\"/Users/silvanoquarto/Desktop/LAVORO/MEDICAL_PHYSICS/Med-Physics/data/NHANES/recoded_df_09_14.csv\", \n",
    "              stringsAsFactors = TRUE)\n",
    "\n",
    "head(df)"
   ]
  },
  {
   "cell_type": "code",
   "execution_count": null,
   "metadata": {
    "vscode": {
     "languageId": "r"
    }
   },
   "outputs": [],
   "source": [
    "# Conversion of the variable periodontitis into factor with specific order\n",
    "\n",
    "df$periodontitis <- factor(df$periodontitis, \n",
    "                          levels = c(\"None/Mild\", \"Moderate\", \"Severe\"),\n",
    "                          ordered = TRUE)"
   ]
  },
  {
   "cell_type": "code",
   "execution_count": null,
   "metadata": {
    "vscode": {
     "languageId": "r"
    }
   },
   "outputs": [],
   "source": [
    "# Bar graph for periodontitis distribution\n",
    "\n",
    "df_count <- df %>%\n",
    "  count(periodontitis) %>%\n",
    "  mutate(percent = round(n / sum(n) * 100, 1))\n",
    "\n",
    "ggplot(df_count, aes(x = periodontitis, y = n, fill = periodontitis)) +\n",
    "  geom_bar(stat = \"identity\") +\n",
    "  geom_text(aes(label = paste0(\"\", n, \" (\", percent, \"%)\")),\n",
    "            vjust = -0.5, size = 5, fontface = \"bold\") +\n",
    "  scale_fill_viridis_d(option = \"plasma\", begin = 0.2, end = 0.8) +\n",
    "  labs(title = \"\",\n",
    "       x = \"\",\n",
    "       y = \"Counts\",\n",
    "       fill = \"Severity\") +\n",
    "  theme_minimal() +\n",
    "  theme(\n",
    "    legend.position = \"right\",\n",
    "    plot.title = element_text(hjust = 0.5, face = \"bold\", size = 20),\n",
    "    axis.text.x = element_text(angle = 0, hjust = 0.5, size = 16),\n",
    "    axis.text.y = element_text(size = 14),\n",
    "    axis.title.y = element_text(size = 14, face = \"bold\"),\n",
    "    legend.text = element_text(size = 12),\n",
    "    legend.title = element_text(size = 13, face = \"bold\")\n",
    "  )\n"
   ]
  },
  {
   "cell_type": "code",
   "execution_count": null,
   "metadata": {
    "vscode": {
     "languageId": "r"
    }
   },
   "outputs": [],
   "source": [
    "# Gender Encoding\n",
    "df$gender <- factor(df$RIAGENDR, \n",
    "                   levels = c(1, 2), \n",
    "                   labels = c(\"Male\", \"Female\"))\n",
    "\n",
    "# Stacked bar graph for periodontitis by gender\n",
    "ggplot(df, aes(x = gender, fill = periodontitis)) +\n",
    "  geom_bar(position = \"fill\") +\n",
    "  scale_y_continuous(labels = percent) +\n",
    "  scale_fill_viridis_d(option = \"plasma\", begin = 0.2, end = 0.8) +\n",
    "  labs(title = \"Periodontitis Distribution for Gender\",\n",
    "       x = \"Gender\",\n",
    "       y = \"Percentage\",\n",
    "       fill = \"Severity\") +\n",
    "  theme_minimal() +\n",
    "  theme(legend.position = \"bottom\",\n",
    "        plot.title = element_text(hjust = 0.5, face = \"bold\"))"
   ]
  },
  {
   "cell_type": "code",
   "execution_count": null,
   "metadata": {
    "vscode": {
     "languageId": "r"
    }
   },
   "outputs": [],
   "source": [
    "# Side-by-side bar graph for periodontitis by gender\n",
    "\n",
    "df_count <- df %>%\n",
    "  group_by(gender, periodontitis) %>%\n",
    "  count() %>%\n",
    "  group_by(gender) %>%\n",
    "  mutate(percent = round(n / sum(n) * 100, 2))\n",
    "\n",
    "\n",
    "options(repr.plot.width = 12, repr.plot.height = 8) \n",
    "\n",
    "ggplot(df_count, aes(x = gender, y = n, fill = periodontitis)) +\n",
    "  geom_bar(stat = \"identity\", position = \"dodge\") +\n",
    "  geom_text(aes(label = paste0(n, \" (\", percent, \"%)\")),\n",
    "            position = position_dodge(width = 0.9),\n",
    "            vjust = -0.5, size = 5, fontface = \"bold\") +\n",
    "  scale_fill_viridis_d(option = \"plasma\", begin = 0.2, end = 0.8) +\n",
    "  labs(title = \"\",\n",
    "       x = \"Gender\", \n",
    "       y = \"Count\",\n",
    "       fill = \"Severity\") +\n",
    "  theme_minimal() +\n",
    "  theme(\n",
    "    legend.position = \"right\",\n",
    "    plot.title = element_text(hjust = 0.5, face = \"bold\", size = 20),\n",
    "    axis.text.x = element_text(angle = 0, hjust = 0.5, size = 16),\n",
    "    axis.text.y = element_text(size = 14),\n",
    "    axis.title.y = element_text(size = 14, face = \"bold\"),\n",
    "    axis.title.x = element_text(size = 16, face = \"bold\"),\n",
    "    legend.text = element_text(size = 12),\n",
    "    legend.title = element_text(size = 13, face = \"bold\")\n",
    "  )"
   ]
  },
  {
   "cell_type": "code",
   "execution_count": null,
   "metadata": {
    "vscode": {
     "languageId": "r"
    }
   },
   "outputs": [],
   "source": [
    "# Age and Periodontitis\n",
    "\n",
    "df_stats <- df %>%\n",
    "  group_by(periodontitis) %>%\n",
    "  summarise(\n",
    "    mean_age = mean(RIDAGEYR, na.rm = TRUE),\n",
    "    sd_age = sd(RIDAGEYR, na.rm = TRUE)\n",
    "  ) %>%\n",
    "  mutate(legend_label = paste(periodontitis, \n",
    "                              \" (Mean: \", round(mean_age, 1), \n",
    "                              \", SD: \", round(sd_age, 1), \")\", sep = \"\"))\n",
    "\n",
    "ggplot(df, aes(x = periodontitis, y = RIDAGEYR, fill = periodontitis)) +\n",
    "  geom_boxplot(alpha = 0.7) +\n",
    "  scale_fill_viridis_d(option = \"plasma\", begin = 0.2, end = 0.8, labels = df_stats$legend_label) +\n",
    "  labs(title = \"\",\n",
    "       x = \"\", \n",
    "       y = \"Age (years)\",\n",
    "       fill = \"Severity\") +\n",
    "  theme_minimal() +\n",
    "  theme(\n",
    "    legend.position = \"right\",\n",
    "    plot.title = element_text(hjust = 0.5, face = \"bold\", size = 20),\n",
    "    axis.text.x = element_text(angle = 0, hjust = 0.5, size = 16),\n",
    "    axis.text.y = element_text(size = 14),\n",
    "    axis.title.y = element_text(size = 14, face = \"bold\"),\n",
    "    legend.text = element_text(size = 16),\n",
    "    legend.title = element_text(size = 15, face = \"bold\")\n",
    "  )"
   ]
  },
  {
   "cell_type": "code",
   "execution_count": null,
   "metadata": {
    "vscode": {
     "languageId": "r"
    }
   },
   "outputs": [],
   "source": [
    "# Socio-Economic Condition (INDFMPIR) and Periodontitis\n",
    "\n",
    "ggplot(df, aes(x = periodontitis, y = INDFMPIR, fill = periodontitis)) +\n",
    "  geom_boxplot(alpha = 0.7) +\n",
    "  scale_fill_viridis_d(option = \"plasma\", begin = 0.2, end = 0.8) +\n",
    "  labs(title = \"Poverty Index for Severity of Periodontitis\",\n",
    "       x = \"Severity of periodontitis\", \n",
    "       y = \"Poverty Index (INDFMPIR)\",\n",
    "       caption = \"Higher values indicate better economic condition\",\n",
    "       fill = \"Severity\") +\n",
    "  theme_minimal() +\n",
    "  theme(legend.position = \"bottom\",\n",
    "        plot.title = element_text(hjust = 0.5, face = \"bold\"))"
   ]
  },
  {
   "cell_type": "code",
   "execution_count": null,
   "metadata": {
    "vscode": {
     "languageId": "r"
    }
   },
   "outputs": [],
   "source": [
    "# Ethnicity and Periodontitis\n",
    "# Encoding RIDRETH1 (ethnicity)\n",
    "\n",
    "df$ethnicity <- factor(df$RIDRETH1, \n",
    "                      levels = c(1, 2, 3, 4, 5), \n",
    "                      labels = c(\"Mexican American\",\n",
    "                                 \"Other Hispanic\",\n",
    "                                 \"Non-Hispanic White\",\n",
    "                                 \"Non-Hispanic Black\",\n",
    "                                 \"Other Race\"))\n",
    "\n",
    "ggplot(df, aes(x = ethnicity, fill = periodontitis)) +\n",
    "  geom_bar(position = \"fill\") +\n",
    "  scale_y_continuous(labels = percent) +\n",
    "  scale_fill_viridis_d(option = \"plasma\", begin = 0.2, end = 0.8) +\n",
    "  labs(title = \"Distribution of Periodontitis by Ethnicity\",\n",
    "       x = \"Ethnicity\", \n",
    "       y = \"Percentage\",\n",
    "       fill = \"Severity\") +\n",
    "  theme_minimal() +\n",
    "  theme(legend.position = \"bottom\",\n",
    "        plot.title = element_text(hjust = 0.5, face = \"bold\"),\n",
    "        axis.text.x = element_text(angle = 45, hjust = 1, size = 8))"
   ]
  },
  {
   "cell_type": "code",
   "execution_count": null,
   "metadata": {
    "vscode": {
     "languageId": "r"
    }
   },
   "outputs": [],
   "source": [
    "# Bar graph side-by-side for ethnicity and periodontitis\n",
    "\n",
    "ggplot(df, aes(x = ethnicity, fill = periodontitis)) +\n",
    "  geom_bar(position = \"dodge\") +\n",
    "  scale_fill_viridis_d(option = \"plasma\", begin = 0.2, end = 0.8) +\n",
    "  labs(title = \"Distribution of Periodontitis by Ethnicity\",\n",
    "       x = \"Ethnicity\", \n",
    "       y = \"Count\",\n",
    "       fill = \"Severity\") +\n",
    "  theme_minimal() +\n",
    "  theme(legend.position = \"bottom\",\n",
    "        plot.title = element_text(hjust = 0.5, face = \"bold\"),\n",
    "        axis.text.x = element_text(angle = 45, hjust = 1, size = 8))"
   ]
  },
  {
   "cell_type": "code",
   "execution_count": null,
   "metadata": {
    "vscode": {
     "languageId": "r"
    }
   },
   "outputs": [],
   "source": [
    "# Education Level and Periodontitis\n",
    "# Encoding DMDEDUC2 (education)\n",
    "df$education <- factor(df$DMDEDUC2, \n",
    "                      levels = c(1, 2, 3, 4, 5), \n",
    "                      labels = c(\"Less than 9th grade\",\n",
    "                                 \"9-11th grade\",\n",
    "                                 \"High school graduate\",\n",
    "                                 \"Some college/AA degree\",\n",
    "                                 \"College graduate or above\"))\n",
    "\n",
    "ggplot(df, aes(x = education, fill = periodontitis)) +\n",
    "  geom_bar(position = \"fill\") +\n",
    "  scale_y_continuous(labels = percent) +\n",
    "  scale_fill_viridis_d(option = \"plasma\", begin = 0.2, end = 0.8) +\n",
    "  labs(title = \"Periodontitis distribution by level of education\",\n",
    "       x = \"Education Level\", \n",
    "       y = \"Percentage\",\n",
    "       fill = \"Severity\") +\n",
    "  theme_minimal() +\n",
    "  theme(legend.position = \"bottom\",\n",
    "        plot.title = element_text(hjust = 0.5, face = \"bold\"),\n",
    "        axis.text.x = element_text(angle = 45, hjust = 1, size = 8))"
   ]
  },
  {
   "cell_type": "code",
   "execution_count": null,
   "metadata": {
    "vscode": {
     "languageId": "r"
    }
   },
   "outputs": [],
   "source": [
    "# Side-by-side bar graph for education and periodontitis\n",
    "\n",
    "ggplot(df, aes(x = education, fill = periodontitis)) +\n",
    "  geom_bar(position = \"dodge\") +\n",
    "  scale_fill_viridis_d(option = \"plasma\", begin = 0.2, end = 0.8) +\n",
    "  labs(title = \"Periodontitis distribution by level of education\",\n",
    "       x = \"Education Level\", \n",
    "       y = \"Count\",\n",
    "       fill = \"Severity\") +\n",
    "  theme_minimal() +\n",
    "  theme(legend.position = \"bottom\",\n",
    "        plot.title = element_text(hjust = 0.5, face = \"bold\"),\n",
    "        axis.text.x = element_text(angle = 45, hjust = 1, size = 8))"
   ]
  },
  {
   "cell_type": "code",
   "execution_count": null,
   "metadata": {
    "vscode": {
     "languageId": "r"
    }
   },
   "outputs": [],
   "source": [
    "# FACET GRID FOR PERIODONTITIS BY GENDER AND AGE\n",
    "# Creation of age groups\n",
    "df$age_group <- cut(df$RIDAGEYR, \n",
    "                   breaks = c(59, 65, 70, 75, 81),\n",
    "                   labels = c(\"60-65\", \"66-70\", \"71-75\", \"76-80\"),\n",
    "                   include.lowest = TRUE)\n",
    "\n",
    "ggplot(df, aes(x = periodontitis, fill = periodontitis)) +\n",
    "  geom_bar() +\n",
    "  facet_grid(gender ~ age_group) +\n",
    "  scale_fill_viridis_d(option = \"plasma\", begin = 0.2, end = 0.8) +\n",
    "  labs(title = \"Periodontitis distribution by gender and age group\",\n",
    "       x = \"Periodontitis Severity\", \n",
    "       y = \"Count\",\n",
    "       fill = \"Severity\") +\n",
    "  theme_minimal() +\n",
    "  theme(legend.position = \"bottom\",\n",
    "        plot.title = element_text(hjust = 0.5, face = \"bold\"),\n",
    "        axis.text.x = element_text(angle = 45, hjust = 1, size = 8),\n",
    "        strip.text = element_text(size = 10, face = \"bold\"))"
   ]
  },
  {
   "cell_type": "code",
   "execution_count": null,
   "metadata": {
    "vscode": {
     "languageId": "r"
    }
   },
   "outputs": [],
   "source": [
    "# Boxplot for mean_ppd\n",
    "ppd_plot <- ggplot(df, aes(x = periodontitis, y = mean_ppd, fill = periodontitis)) +\n",
    "  geom_boxplot(alpha = 0.7) +\n",
    "  scale_fill_viridis_d(option = \"plasma\", begin = 0.2, end = 0.8) +\n",
    "  labs(title = \"Average Depth of Periodontal Pockets\",\n",
    "       x = \"Periodontitis Severity\",\n",
    "       y = \"Mean PPD (mm)\",\n",
    "       fill = \"Severity\") +\n",
    "  theme_minimal() +\n",
    "  theme(legend.position = \"none\",\n",
    "        plot.title = element_text(hjust = 0.5, face = \"bold\", size = 10))\n",
    "\n",
    "# Boxplot per mean_cal\n",
    "cal_plot <- ggplot(df, aes(x = periodontitis, y = mean_cal, fill = periodontitis)) +\n",
    "  geom_boxplot(alpha = 0.7) +\n",
    "  scale_fill_viridis_d(option = \"plasma\", begin = 0.2, end = 0.8) +\n",
    "  labs(title = \"Average Loss of Clinical Attack\",\n",
    "       x = \"Periodontitis Severity\",\n",
    "       y = \"Mean CAL (mm)\",\n",
    "       fill = \"Severity\") +\n",
    "  theme_minimal() +\n",
    "  theme(legend.position = \"none\",\n",
    "        plot.title = element_text(hjust = 0.5, face = \"bold\", size = 10))\n",
    "\n",
    "# Combine two plots\n",
    "ppd_plot / cal_plot +\n",
    "  plot_annotation(\n",
    "    title = \"Clinical Measures for Periodontitis Severity\",\n",
    "    theme = theme(plot.title = element_text(hjust = 0.5, face = \"bold\"))\n",
    "  ) +\n",
    "  plot_layout(guides = \"collect\") & \n",
    "  theme(legend.position = \"bottom\")"
   ]
  },
  {
   "cell_type": "code",
   "execution_count": null,
   "metadata": {
    "vscode": {
     "languageId": "r"
    }
   },
   "outputs": [],
   "source": [
    "# Correlation between clinical measures: scatterplot with regression line\n",
    "\n",
    "ggplot(df, aes(x = mean_ppd, y = mean_cal, color = periodontitis)) +\n",
    "  geom_point(alpha = 0.6) +\n",
    "  geom_smooth(method = \"lm\", se = TRUE, alpha = 0.2) +\n",
    "  scale_color_viridis_d(option = \"plasma\", begin = 0.2, end = 0.8) +\n",
    "  labs(title = \"Correlation between Depth of Pockets and Loss of Attack\",\n",
    "       x = \"Average Depth of Periodontal Pockets (mm)\",\n",
    "       y = \"Average Loss of Clinical Attack (mm)\",\n",
    "       color = \"Severity\") +\n",
    "  theme_minimal() +\n",
    "  theme(legend.position = \"bottom\",\n",
    "        plot.title = element_text(hjust = 0.5, face = \"bold\"))"
   ]
  },
  {
   "cell_type": "code",
   "execution_count": null,
   "metadata": {
    "vscode": {
     "languageId": "r"
    }
   },
   "outputs": [],
   "source": [
    "# Encoding SMQ020\n",
    "df$smoking_status <- factor(df$SMQ020, \n",
    "                           levels = c(1, 2), \n",
    "                           labels = c(\"Yes\", \"No\"))\n",
    "\n",
    "mosaic_data <- table(df$smoking_status, df$periodontitis)\n",
    "\n",
    "mosaic_df <- as.data.frame(mosaic_data)\n",
    "names(mosaic_df) <- c(\"Smoking\", \"Periodontitis\", \"Count\")\n",
    "\n",
    "ggplot(mosaic_df, aes(x = Smoking, y = Count, fill = Periodontitis)) +\n",
    "  geom_bar(stat = \"identity\", position = \"fill\") +\n",
    "  scale_y_continuous(labels = percent) +\n",
    "  scale_fill_viridis_d(option = \"plasma\", begin = 0.2, end = 0.8) +\n",
    "  labs(title = \"Relationship between Smoking and Periodontitis\",\n",
    "       x = \"Smoking Status\",\n",
    "       y = \"Percentage\",\n",
    "       fill = \"Severity\") +\n",
    "  theme_minimal() +\n",
    "  theme(legend.position = \"bottom\",\n",
    "        plot.title = element_text(hjust = 0.5, face = \"bold\"))"
   ]
  },
  {
   "cell_type": "code",
   "execution_count": null,
   "metadata": {
    "vscode": {
     "languageId": "r"
    }
   },
   "outputs": [],
   "source": [
    "# Side-by-side bar graph for smoke and periodontitis\n",
    "\n",
    "ggplot(df, aes(x = smoking_status, fill = periodontitis)) +\n",
    "  geom_bar(position = \"dodge\") +\n",
    "  scale_fill_viridis_d(option = \"plasma\", begin = 0.2, end = 0.8) +\n",
    "  labs(title = \"Relationship between Smoking and Periodontitis\",\n",
    "       x = \"Smoking Status\", \n",
    "       y = \"Count\",\n",
    "       fill = \"Severity\") +\n",
    "  theme_minimal() +\n",
    "  theme(legend.position = \"bottom\",\n",
    "        plot.title = element_text(hjust = 0.5, face = \"bold\"))"
   ]
  },
  {
   "cell_type": "code",
   "execution_count": null,
   "metadata": {
    "vscode": {
     "languageId": "r"
    }
   },
   "outputs": [],
   "source": [
    "# Encoding DIQ010 (Diabetes)\n",
    "df$diabetes <- factor(df$DIQ010, \n",
    "                     levels = c(1, 2, 3), \n",
    "                     labels = c(\"Yes\", \"No\", \"Borderline\"))\n",
    "\n",
    "# Contingency table\n",
    "diabetes_perio <- table(df$diabetes, df$periodontitis)\n",
    "diabetes_perio_df <- as.data.frame(diabetes_perio)\n",
    "names(diabetes_perio_df) <- c(\"Diabetes\", \"Periodontitis\", \"Count\")\n",
    "\n",
    "ggplot(diabetes_perio_df, aes(x = Diabetes, y = Count, fill = Periodontitis)) +\n",
    "  geom_bar(stat = \"identity\", position = \"fill\") +\n",
    "  scale_y_continuous(labels = percent) +\n",
    "  scale_fill_viridis_d(option = \"plasma\", begin = 0.2, end = 0.8) +\n",
    "  labs(title = \"Relationship between Diabetes and Periodontitis\",\n",
    "       x = \"Diabetes\", \n",
    "       y = \"Percentage\",\n",
    "       fill = \"Severity\") +\n",
    "  theme_minimal() +\n",
    "  theme(legend.position = \"bottom\",\n",
    "        plot.title = element_text(hjust = 0.5, face = \"bold\"))"
   ]
  },
  {
   "cell_type": "code",
   "execution_count": null,
   "metadata": {
    "vscode": {
     "languageId": "r"
    }
   },
   "outputs": [],
   "source": [
    "# Side-by-side bar graph for diabetes and periodontitis\n",
    "\n",
    "ggplot(df, aes(x = diabetes, fill = periodontitis)) +\n",
    "  geom_bar(position = \"dodge\") +\n",
    "  scale_fill_viridis_d(option = \"plasma\", begin = 0.2, end = 0.8) +\n",
    "  labs(title = \"Relationship between Diabetes and Periodontitis\",\n",
    "       x = \"Diabetes\", \n",
    "       y = \"Count\",\n",
    "       fill = \"Severity\") +\n",
    "  theme_minimal() +\n",
    "  theme(legend.position = \"bottom\",\n",
    "        plot.title = element_text(hjust = 0.5, face = \"bold\"))"
   ]
  },
  {
   "cell_type": "code",
   "execution_count": null,
   "metadata": {
    "vscode": {
     "languageId": "r"
    }
   },
   "outputs": [],
   "source": [
    "# Encoding BPQ020 (hypertension)\n",
    "df$hypertension <- factor(df$BPQ020, \n",
    "                         levels = c(1, 2), \n",
    "                         labels = c(\"Yes\", \"No\"))\n",
    "\n",
    "ggplot(df, aes(x = hypertension, fill = periodontitis)) +\n",
    "  geom_bar(position = \"fill\") +\n",
    "  scale_y_continuous(labels = percent) +\n",
    "  scale_fill_viridis_d(option = \"plasma\", begin = 0.2, end = 0.8) +\n",
    "  labs(title = \"Relationship between hypertension and periodontitis\",\n",
    "       x = \"Hypertension\", \n",
    "       y = \"Percentage\",\n",
    "       fill = \"Severity\") +\n",
    "  theme_minimal() +\n",
    "  theme(legend.position = \"bottom\",\n",
    "        plot.title = element_text(hjust = 0.5, face = \"bold\"))"
   ]
  },
  {
   "cell_type": "code",
   "execution_count": null,
   "metadata": {
    "vscode": {
     "languageId": "r"
    }
   },
   "outputs": [],
   "source": [
    "# Side-by-side bar chart for hypertension and periodontitis\n",
    "\n",
    "ggplot(df, aes(x = hypertension, fill = periodontitis)) +\n",
    "  geom_bar(position = \"dodge\") +\n",
    "  scale_fill_viridis_d(option = \"plasma\", begin = 0.2, end = 0.8) +\n",
    "  labs(title = \"Relationship between hypertension and periodontitis\",\n",
    "       x = \"Hypertension\", \n",
    "       y = \"Count\",\n",
    "       fill = \"Severity\") +\n",
    "  theme_minimal() +\n",
    "  theme(legend.position = \"bottom\",\n",
    "        plot.title = element_text(hjust = 0.5, face = \"bold\"))"
   ]
  },
  {
   "cell_type": "markdown",
   "metadata": {},
   "source": [
    "#### Visualization with Plotly"
   ]
  },
  {
   "cell_type": "code",
   "execution_count": null,
   "metadata": {
    "vscode": {
     "languageId": "r"
    }
   },
   "outputs": [],
   "source": [
    "library(plotly)\n",
    "library(dplyr)\n",
    "library(tidyr)"
   ]
  },
  {
   "cell_type": "code",
   "execution_count": null,
   "metadata": {
    "vscode": {
     "languageId": "r"
    }
   },
   "outputs": [],
   "source": [
    "df <- read.csv(\"/Users/silvanoquarto/Desktop/LAVORO/MEDICAL_PHYSICS/Med-Physics/data/NHANES/recoded_df_09_14.csv\", \n",
    "              stringsAsFactors = TRUE)\n",
    "\n",
    "head(df)"
   ]
  },
  {
   "cell_type": "code",
   "execution_count": null,
   "metadata": {
    "vscode": {
     "languageId": "r"
    }
   },
   "outputs": [],
   "source": [
    "# Conversion of the variable periodontitis into factor with specific order\n",
    "df$periodontitis <- factor(df$periodontitis, \n",
    "                          levels = c(\"None/Mild\", \"Moderate\", \"Severe\"),\n",
    "                          ordered = TRUE)\n",
    "\n",
    "# Coding of categorical variables\n",
    "df <- df %>%\n",
    "  mutate(\n",
    "    # Demografiche\n",
    "    gender = factor(RIAGENDR, levels = c(1, 2), labels = c(\"Male\", \"Female\")),\n",
    "    \n",
    "    ethnicity = factor(RIDRETH1, \n",
    "                      levels = c(1, 2, 3, 4, 5), \n",
    "                      labels = c(\"Mexican American\",\n",
    "                                 \"Other Hispanic\",\n",
    "                                 \"Non-Hispanic White\",\n",
    "                                 \"Non-Hispanic Black\",\n",
    "                                 \"Other Race\")),\n",
    "    \n",
    "    education = factor(DMDEDUC2, \n",
    "                      levels = c(1, 2, 3, 4, 5), \n",
    "                      labels = c(\"Less than 9th grade\",\n",
    "                                 \"9-11th grade\",\n",
    "                                 \"High school graduate\",\n",
    "                                 \"Some college/AA degree\",\n",
    "                                 \"College graduate or above\")),\n",
    "    \n",
    "    smoking_status = factor(SMQ020, \n",
    "                           levels = c(1, 2), \n",
    "                           labels = c(\"Yes\", \"No\")),\n",
    "    \n",
    "    alcohol_use = factor(ALQ101, \n",
    "                        levels = c(1, 2), \n",
    "                        labels = c(\"Yes\", \"No\")),\n",
    "    \n",
    "    hypertension = factor(BPQ020, \n",
    "                         levels = c(1, 2), \n",
    "                         labels = c(\"Yes\", \"No\")),\n",
    "    \n",
    "    diabetes = factor(DIQ010, \n",
    "                     levels = c(1, 2, 3), \n",
    "                     labels = c(\"Yes\", \"No\", \"Borderline\")),\n",
    "    \n",
    "    depression_little_interest = factor(DPQ010_bin, \n",
    "                                      levels = c(0, 1), \n",
    "                                      labels = c(\"No\", \"Yes\")),\n",
    "    \n",
    "    depression_feeling_down = factor(DPQ020_bin, \n",
    "                                   levels = c(0, 1), \n",
    "                                   labels = c(\"No\", \"Yes\")),\n",
    "    \n",
    "    depression_feeling_failure = factor(DPQ050_bin, \n",
    "                                      levels = c(0, 1), \n",
    "                                      labels = c(\"No\", \"Yes\")),\n",
    "    \n",
    "    age_group = cut(RIDAGEYR, \n",
    "                   breaks = c(59, 65, 70, 75, 81),\n",
    "                   labels = c(\"60-65\", \"66-70\", \"71-75\", \"76-80\"),\n",
    "                   include.lowest = TRUE)\n",
    "  )\n",
    "\n",
    "# Renames variables\n",
    "df <- df %>%\n",
    "  rename(\n",
    "    Age = RIDAGEYR,\n",
    "    Income_Ratio = INDFMPIR,\n",
    "    PPD = mean_ppd,\n",
    "    CAL = mean_cal\n",
    "  )"
   ]
  },
  {
   "cell_type": "code",
   "execution_count": null,
   "metadata": {
    "vscode": {
     "languageId": "r"
    }
   },
   "outputs": [],
   "source": [
    "# Distribution of periodontitis\n",
    "\n",
    "plot1 <- df %>%\n",
    "  count(periodontitis) %>%\n",
    "  plot_ly(x = ~periodontitis, y = ~n, type = 'bar',\n",
    "          marker = list(color = c('#FDE725', '#5DC963', '#3B528B')),\n",
    "          text = ~n, textposition = 'auto') %>%\n",
    "  layout(title = \"Distribution of Periodontitis\",\n",
    "         xaxis = list(title = \"Severity of periodontitis\"),\n",
    "         yaxis = list(title = \"Count\"))\n",
    "\n",
    "plot1"
   ]
  },
  {
   "cell_type": "code",
   "execution_count": null,
   "metadata": {
    "vscode": {
     "languageId": "r"
    }
   },
   "outputs": [],
   "source": [
    "# Periodontitis by gender (side bars)\n",
    "plot2 <- df %>%\n",
    "  count(gender, periodontitis) %>%\n",
    "  plot_ly(x = ~gender, y = ~n, color = ~periodontitis, type = 'bar',\n",
    "          colors = c('#FDE725', '#5DC963', '#3B528B')) %>%\n",
    "  layout(title = \"Periodontitis distribution by gender\",\n",
    "         xaxis = list(title = \"Gender\"),\n",
    "         yaxis = list(title = \"Count\"),\n",
    "         barmode = 'group',\n",
    "         legend = list(title = list(text = \"Severity\")))\n",
    "        \n",
    "plot2"
   ]
  },
  {
   "cell_type": "code",
   "execution_count": null,
   "metadata": {
    "vscode": {
     "languageId": "r"
    }
   },
   "outputs": [],
   "source": [
    "# Age and Periodontitis (boxplot)\n",
    "\n",
    "plot3 <- plot_ly(df, y = ~Age, color = ~periodontitis, type = \"box\",\n",
    "                colors = c('#FDE725', '#5DC963', '#3B528B')) %>%\n",
    "  layout(title = \"Age Distribution for Severity of Periodontitis\",\n",
    "         xaxis = list(title = \"Severity of Periodontitis\"),\n",
    "         yaxis = list(title = \"Age (years)\"),\n",
    "         legend = list(title = list(text = \"Severity\")))\n",
    "\n",
    "plot3"
   ]
  },
  {
   "cell_type": "code",
   "execution_count": null,
   "metadata": {
    "vscode": {
     "languageId": "r"
    }
   },
   "outputs": [],
   "source": [
    "# Clinical measurements scatter plot\n",
    "\n",
    "plot4 <- plot_ly(df, x = ~PPD, y = ~CAL, color = ~periodontitis, type = \"scatter\", mode = \"markers\",\n",
    "                colors = c('#FDE725', '#5DC963', '#3B528B'),\n",
    "                marker = list(size = 8, opacity = 0.7),\n",
    "                text = ~paste(\"Periodontitis: \", periodontitis, \n",
    "                             \"<br>PPD: \", PPD, \n",
    "                             \"<br>CAL: \", CAL, \n",
    "                             \"<br>Age: \", Age)) %>%\n",
    "  layout(title = \"Relationship between Pocket Depth and Attack Loss\",\n",
    "         xaxis = list(title = \"Average Depth of Pockets PPD (mm)\"),\n",
    "         yaxis = list(title = \"Average Loss of Attack CAL (mm)\"),\n",
    "         legend = list(title = list(text = \"Severity\")))\n",
    "\n",
    "plot4"
   ]
  },
  {
   "cell_type": "code",
   "execution_count": null,
   "metadata": {
    "vscode": {
     "languageId": "r"
    }
   },
   "outputs": [],
   "source": [
    "# Smoking status and Periodontitis (side bars)\n",
    "\n",
    "plot5 <- df %>%\n",
    "  count(smoking_status, periodontitis) %>%\n",
    "  plot_ly(x = ~smoking_status, y = ~n, color = ~periodontitis, type = 'bar',\n",
    "          colors = c('#FDE725', '#5DC963', '#3B528B')) %>%\n",
    "  layout(title = \"Relationship Smoking status and Periodontitis\",\n",
    "         xaxis = list(title = \"Smoking Status\"),\n",
    "         yaxis = list(title = \"Count\"),\n",
    "         barmode = 'group',\n",
    "         legend = list(title = list(text = \"Severity\")))\n",
    "\n",
    "plot5"
   ]
  },
  {
   "cell_type": "code",
   "execution_count": null,
   "metadata": {
    "vscode": {
     "languageId": "r"
    }
   },
   "outputs": [],
   "source": [
    "# Diabetes and periodontitis (side-by-side bars)\n",
    "\n",
    "plot6 <- df %>%\n",
    "  count(diabetes, periodontitis) %>%\n",
    "  plot_ly(x = ~diabetes, y = ~n, color = ~periodontitis, type = 'bar',\n",
    "          colors = c('#FDE725', '#5DC963', '#3B528B')) %>%\n",
    "  layout(title = \"Relationship between Diabetes and Periodontitis\",\n",
    "         xaxis = list(title = \"Diabetes\"),\n",
    "         yaxis = list(title = \"Count\"),\n",
    "         barmode = 'group',\n",
    "         legend = list(title = list(text = \"Severity\")))\n",
    "\n",
    "plot6"
   ]
  },
  {
   "cell_type": "code",
   "execution_count": null,
   "metadata": {
    "vscode": {
     "languageId": "r"
    }
   },
   "outputs": [],
   "source": [
    "# Hypertension and Periodontitis (side-by-side bars)\n",
    "\n",
    "plot7 <- df %>%\n",
    "  count(hypertension, periodontitis) %>%\n",
    "  plot_ly(x = ~hypertension, y = ~n, color = ~periodontitis, type = 'bar',\n",
    "          colors = c('#FDE725', '#5DC963', '#3B528B')) %>%\n",
    "  layout(title = \"Relationship between Hypertension and Periodontitis\",\n",
    "         xaxis = list(title = \"Hypertension\"),\n",
    "         yaxis = list(title = \"Count\"),\n",
    "         barmode = 'group',\n",
    "         legend = list(title = list(text = \"Severity\")))\n",
    "\n",
    "plot7"
   ]
  },
  {
   "cell_type": "code",
   "execution_count": null,
   "metadata": {
    "vscode": {
     "languageId": "r"
    }
   },
   "outputs": [],
   "source": [
    "# Ethnicity and periodontitis (side-by-side bars)\n",
    "\n",
    "plot8 <- df %>%\n",
    "  count(ethnicity, periodontitis) %>%\n",
    "  plot_ly(x = ~ethnicity, y = ~n, color = ~periodontitis, type = 'bar',\n",
    "          colors = c('#FDE725', '#5DC963', '#3B528B')) %>%\n",
    "  layout(title = \"Distribution of Periodontitis by Ethnicity\",\n",
    "         xaxis = list(title = \"Ethnicity\"),\n",
    "         yaxis = list(title = \"Count\"),\n",
    "         barmode = 'group',\n",
    "         legend = list(title = list(text = \"Severity\")))\n",
    "\n",
    "plot8"
   ]
  },
  {
   "cell_type": "code",
   "execution_count": null,
   "metadata": {
    "vscode": {
     "languageId": "r"
    }
   },
   "outputs": [],
   "source": [
    "# Education and periodontitis (side-by-side bars)\n",
    "\n",
    "plot9 <- df %>%\n",
    "  count(education, periodontitis) %>%\n",
    "  plot_ly(x = ~education, y = ~n, color = ~periodontitis, type = 'bar',\n",
    "          colors = c('#FDE725', '#5DC963', '#3B528B')) %>%\n",
    "  layout(title = \"Periodontitis distribution by level of education\",\n",
    "         xaxis = list(title = \"Education Level\"),\n",
    "         yaxis = list(title = \"Count\"),\n",
    "         barmode = 'group',\n",
    "         legend = list(title = list(text = \"Severity\")))\n",
    "\n",
    "plot9"
   ]
  },
  {
   "cell_type": "code",
   "execution_count": null,
   "metadata": {
    "vscode": {
     "languageId": "r"
    }
   },
   "outputs": [],
   "source": [
    "# Depression (little interest) and periodontitis (side-by-side bars)\n",
    "\n",
    "plot10 <- df %>%\n",
    "  count(depression_little_interest, periodontitis) %>%\n",
    "  plot_ly(x = ~depression_little_interest, y = ~n, color = ~periodontitis, type = 'bar',\n",
    "          colors = c('#FDE725', '#5DC963', '#3B528B')) %>%\n",
    "  layout(title = \"Relationship between Low Interest (Depression) and Periodontitis\",\n",
    "         xaxis = list(title = \"Little Interest\"),\n",
    "         yaxis = list(title = \"Count\"),\n",
    "         barmode = 'group',\n",
    "         legend = list(title = list(text = \"Severity\")))\n",
    "\n",
    "plot10"
   ]
  },
  {
   "cell_type": "code",
   "execution_count": null,
   "metadata": {
    "vscode": {
     "languageId": "r"
    }
   },
   "outputs": [],
   "source": [
    "# Socio-economic condition and periodontitis (boxplot)\n",
    "\n",
    "plot11 <- plot_ly(df, y = ~Income_Ratio, color = ~periodontitis, type = \"box\",\n",
    "                 colors = c('#FDE725', '#5DC963', '#3B528B')) %>%\n",
    "  layout(title = \"Poverty Index for Severity of Periodontitis\",\n",
    "         xaxis = list(title = \"Severity of periodontitis\"),\n",
    "         yaxis = list(title = \"Poverty Index (INDFMPIR)\"),\n",
    "         legend = list(title = list(text = \"Severity\")))\n",
    "\n",
    "plot11"
   ]
  },
  {
   "cell_type": "code",
   "execution_count": null,
   "metadata": {
    "vscode": {
     "languageId": "r"
    }
   },
   "outputs": [],
   "source": [
    "# Istogramma distribuzione PPD con slider interattivo\n",
    "\n",
    "plot12 <- plot_ly(df, x = ~PPD, type = \"histogram\",\n",
    "                 histnorm = \"count\",\n",
    "                 marker = list(color = \"#3B528B\"),\n",
    "                 nbinsx = 30) %>%\n",
    "  layout(title = \"Distribution of the Average Depth of Pockets PPD\",\n",
    "         xaxis = list(title = \"Average Depth of Pockets PPD (mm)\"),\n",
    "         yaxis = list(title = \"Count\"),\n",
    "         updatemenus = list(\n",
    "           list(\n",
    "             type = \"buttons\",\n",
    "             direction = \"left\",\n",
    "             x = 0.1,\n",
    "             y = 1.2,\n",
    "             buttons = list(\n",
    "               list(method = \"restyle\",\n",
    "                    args = list(list(histnorm = \"count\")),\n",
    "                    label = \"Count\"),\n",
    "               list(method = \"restyle\",\n",
    "                    args = list(list(histnorm = \"probability\")),\n",
    "                    label = \"Probability\"),\n",
    "               list(method = \"restyle\",\n",
    "                    args = list(list(histnorm = \"density\")),\n",
    "                    label = \"Density\")\n",
    "             )\n",
    "           )\n",
    "         ))\n",
    "\n",
    "plot12"
   ]
  },
  {
   "cell_type": "code",
   "execution_count": null,
   "metadata": {
    "vscode": {
     "languageId": "r"
    }
   },
   "outputs": [],
   "source": [
    "# Proof of Concept: Dashboard with subplot (grid 2x2)\n",
    "\n",
    "dashboard <- subplot(\n",
    "  plot2, plot4,\n",
    "  plot5, plot6,\n",
    "  nrows = 2, \n",
    "  titleY = TRUE,\n",
    "  titleX = TRUE,\n",
    "  margin = 0.1\n",
    ") %>% \n",
    "  layout(title = \"Dashboard Periodontitis: demographic and risk factors\",\n",
    "         showlegend = TRUE)\n",
    "\n",
    "dashboard"
   ]
  }
 ],
 "metadata": {
  "kernelspec": {
   "display_name": "R",
   "language": "R",
   "name": "ir"
  },
  "language_info": {
   "codemirror_mode": "r",
   "file_extension": ".r",
   "mimetype": "text/x-r-source",
   "name": "R",
   "pygments_lexer": "r",
   "version": "4.4.2"
  }
 },
 "nbformat": 4,
 "nbformat_minor": 2
}
