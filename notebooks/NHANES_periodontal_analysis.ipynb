{
 "cells": [
  {
   "cell_type": "markdown",
   "metadata": {},
   "source": [
    "# NHANES project about Periodontal disease: descriptive and regression analysis\n",
    "> This notebook has the purpose to collect all the analysis on Nhanes dataset for a medical paper project \n",
    "\n",
    "Requirements and Information:\n",
    "1. Nhanes dataset from 2009/10 to 2013/14\n",
    "2. 5 Intrinsic Capacity domains\n",
    "    1. Locomotion:\n",
    "        - Standingup from armless chair difficulty (PFQ061I)\n",
    "    2. Cognitive Function:\n",
    "        - Trouble concentrating on things (DPQ070)\n",
    "    3. Vitality:\n",
    "        - Weight change intentional (WHQ060)\n",
    "        - Poor appetite or overeating (DPQ050)\n",
    "    4. Psychological status:\n",
    "        - Feeling down, depressed, or hopeless (DPQ020)\n",
    "        - Have little interest in doing things (DPQ010)\n",
    "    5. Sensory domain:\n",
    "        - Have serious difficulty hearing? (DLQ010)\n",
    "        - Have serious difficulty seeing? (DLQ020)\n",
    "3. Outcome:\n",
    "    - calculated using Periodontal Exam (OHXPER_H) and CDC/AAP criteria (Eke et al., 2012)\n",
    "    - consists of 3 categories: None/Mild, Moderate, Severe\n",
    "4. Confounding Variables:\n",
    "    - Gender (RIAGENDR)\n",
    "    - Age at screening (RIDAGEYR)\n",
    "    - Race (RIDRETH1)\n",
    "    - Education\t(DMDEDUC2)\n",
    "    - Poverty income ratio (INDFMPIR)\n",
    "    - Smoking status (SMQ020)\n",
    "5. Mediators:\n",
    "    - Heart failure\t(RIDRETH1)  \n",
    "    - Coronary heart disease (MCQ160b)\n",
    "    - Stroke (MCQ160c)\n",
    "    - Liver disease\t(MCQ160o)\n",
    "    - Cancer (MCQ500)\n",
    "    - Diabetes (MCQ220)\n",
    "    - High blood pressure (DIQ010)\n",
    "6. Age => 60"
   ]
  },
  {
   "cell_type": "markdown",
   "metadata": {},
   "source": [
    "## NHANES 2013/14: Intrinsic Capacity and Periodontal disease"
   ]
  },
  {
   "cell_type": "markdown",
   "metadata": {},
   "source": [
    "### Import Libraries"
   ]
  },
  {
   "cell_type": "code",
   "execution_count": null,
   "metadata": {
    "vscode": {
     "languageId": "r"
    }
   },
   "outputs": [],
   "source": [
    "library(haven)\n",
    "library(nhanesA)\n",
    "library(survey)\n",
    "library(MASS)\n",
    "library(dplyr)\n",
    "library(tidyr)\n",
    "library(tidyverse)\n",
    "library(ggplot2)\n",
    "library(readr)\n",
    "library(flextable)\n",
    "library(officer)\n",
    "library(nnet)\n",
    "library(broom)"
   ]
  },
  {
   "cell_type": "markdown",
   "metadata": {},
   "source": [
    "### Configurations"
   ]
  },
  {
   "cell_type": "code",
   "execution_count": 3,
   "metadata": {
    "vscode": {
     "languageId": "r"
    }
   },
   "outputs": [],
   "source": [
    "path_to_data <- \"/Users/silvanoquarto/Desktop/LAVORO/MEDICAL_PHYSICS/Med-Physics/data/NHANES/2013_14/\"\n",
    "\n",
    "path_to_data_09_10 <- \"/Users/silvanoquarto/Desktop/LAVORO/MEDICAL_PHYSICS/Med-Physics/data/NHANES/2009_10/\"\n",
    "path_to_data_11_12 <- \"/Users/silvanoquarto/Desktop/LAVORO/MEDICAL_PHYSICS/Med-Physics/data/NHANES/2011_12/\""
   ]
  },
  {
   "cell_type": "markdown",
   "metadata": {},
   "source": [
    "### Load Dataset & Feature Selection"
   ]
  },
  {
   "cell_type": "code",
   "execution_count": 4,
   "metadata": {
    "vscode": {
     "languageId": "r"
    }
   },
   "outputs": [],
   "source": [
    "# Datasets for 2009/10 period\n",
    "\n",
    "demo_09_10 <- read_xpt(file.path(path_to_data_09_10, \"DEMO_F.xpt\"))\n",
    "\n",
    "demo_09_10_selected <- demo_09_10 %>%\n",
    "  select(SEQN, RIAGENDR, RIDAGEYR, RIDRETH1, DMDEDUC2, INDFMPIR)\n",
    "\n",
    "alcohol_09_10 <- read_xpt(file.path(path_to_data_09_10, \"ALQ_F.xpt\"))\n",
    "\n",
    "alcohol_09_10_selected <- alcohol_09_10 %>%\n",
    "  select(SEQN, ALQ101)\n",
    "\n",
    "smoking_09_10 <- read_xpt(file.path(path_to_data_09_10, \"SMQ_F.xpt.txt\"))\n",
    "\n",
    "smoking_09_10_selected <- smoking_09_10 %>%\n",
    "    select(SEQN, SMQ020)\n",
    "\n",
    "med_conditions_09_10 <- read_xpt(file.path(path_to_data_09_10, \"MCQ_F.xpt\"))\n",
    "\n",
    "med_conditions_09_10_selected <- med_conditions_09_10 %>%\n",
    "    select(SEQN, MCQ140, MCQ160B, MCQ160C, MCQ160D, MCQ160E, MCQ160F, MCQ160L, MCQ220)\n",
    "\n",
    "med_conditions_09_10_selected <- med_conditions_09_10_selected %>%\n",
    "  rename(DLQ020 = MCQ140)\n",
    "\n",
    "\n",
    "blood_pressure_09_10 <- read_xpt(file.path(path_to_data_09_10, \"BPQ_F.xpt\"))\n",
    "\n",
    "blood_pressure_09_10_selected <- blood_pressure_09_10 %>%\n",
    "    select(SEQN, BPQ020)\n",
    "\n",
    "\n",
    "diabetes_09_10 <- read_xpt(file.path(path_to_data_09_10, \"DIQ_F.xpt\"))\n",
    "\n",
    "diabetes_09_10_selected <- diabetes_09_10 %>%\n",
    "    select(SEQN, DIQ010)\n",
    "\n",
    "\n",
    "periodontal_09_10 <- read_xpt(file.path(path_to_data_09_10, \"OHXPER_F.xpt.txt\"))\n",
    "\n",
    "selected_cols <- colnames(periodontal_09_10)[grepl(\"^OHX\\\\d{2}(PC|LA)[A-Z]$\", colnames(periodontal_09_10))]\n",
    "\n",
    "periodontal_09_10_selected <- periodontal_09_10 %>%\n",
    "    select(SEQN, all_of(selected_cols))\n",
    "\n",
    "\n",
    "locomotion_09_10 <- read_xpt(file.path(path_to_data_09_10, \"PFQ_F.xpt\"))\n",
    "\n",
    "locomotion_09_10_selected <- locomotion_09_10 %>%\n",
    "    select(SEQN, PFQ061I)\n",
    "\n",
    "\n",
    "mental_health_09_10 <- read_xpt(file.path(path_to_data_09_10, \"DPQ_F.xpt\"))\n",
    "\n",
    "mental_health_09_10_selected <- mental_health_09_10 %>%\n",
    "    select(SEQN, DPQ010, DPQ020, DPQ050, DPQ070)\n",
    "\n",
    "mental_health_09_10_selected <- mental_health_09_10_selected %>%\n",
    "  mutate(DPQ070 = case_when(\n",
    "    DPQ070 %in% c(0, 1) ~ 2,\n",
    "    DPQ070 %in% c(2, 3) ~ 1,\n",
    "    TRUE ~ DPQ070\n",
    "  ))\n",
    "\n",
    "mental_health_09_10_selected <- mental_health_09_10_selected %>%\n",
    "  rename(DLQ040 = DPQ070)\n",
    "\n",
    "\n",
    "weight_history_09_10 <- read_xpt(file.path(path_to_data_09_10, \"WHQ_F.xpt\"))\n",
    "\n",
    "weight_history_09_10_selected <- weight_history_09_10 %>%\n",
    "    select(SEQN, WHQ060)\n",
    "\n",
    "\n",
    "audiometry_09_10 <- read_xpt(file.path(path_to_data_09_10, \"AUQ_F.xpt\"))\n",
    "\n",
    "audiometry_09_10_selected <- audiometry_09_10 %>%\n",
    "    select(SEQN, AUQ131)\n",
    "\n",
    "audiometry_09_10_selected <- audiometry_09_10_selected %>%\n",
    "  mutate(AUQ131 = case_when(\n",
    "    AUQ131 %in% c(1, 2, 3) ~ 2,\n",
    "    AUQ131 %in% c(4, 5, 6) ~ 1,\n",
    "    TRUE ~ AUQ131\n",
    "  ))\n",
    "\n",
    "audiometry_09_10_selected <- audiometry_09_10_selected %>%\n",
    "  rename(DLQ010 = AUQ131)"
   ]
  },
  {
   "cell_type": "code",
   "execution_count": 5,
   "metadata": {
    "vscode": {
     "languageId": "r"
    }
   },
   "outputs": [],
   "source": [
    "# Datasets for 2011/12 period\n",
    "\n",
    "demo_11_12 <- read_xpt(file.path(path_to_data_11_12, \"DEMO_G.xpt.txt\"))\n",
    "\n",
    "demo_11_12_selected <- demo_11_12 %>%\n",
    "  select(SEQN, RIAGENDR, RIDAGEYR, RIDRETH1, DMDEDUC2, INDFMPIR)\n",
    "\n",
    "alcohol_11_12 <- read_xpt(file.path(path_to_data_11_12, \"ALQ_G.xpt.txt\"))\n",
    "\n",
    "alcohol_11_12_selected <- alcohol_11_12 %>%\n",
    "  select(SEQN, ALQ101)\n",
    "\n",
    "\n",
    "smoking_11_12 <- read_xpt(file.path(path_to_data_11_12, \"SMQ_G.xpt.txt\"))\n",
    "\n",
    "smoking_11_12_selected <- smoking_11_12 %>%\n",
    "    select(SEQN, SMQ020)\n",
    "\n",
    "\n",
    "med_conditions_11_12 <- read_xpt(file.path(path_to_data_11_12, \"MCQ_G.xpt.txt\"))\n",
    "\n",
    "med_conditions_11_12_selected <- med_conditions_11_12 %>%\n",
    "    select(SEQN, MCQ140, MCQ160B, MCQ160C, MCQ160D, MCQ160E, MCQ160F, MCQ160L, MCQ220)\n",
    "\n",
    "med_conditions_11_12_selected <- med_conditions_11_12_selected %>%\n",
    "  rename(DLQ020 = MCQ140)\n",
    "\n",
    "\n",
    "blood_pressure_11_12 <- read_xpt(file.path(path_to_data_11_12, \"BPQ_G.xpt.txt\"))\n",
    "\n",
    "blood_pressure_11_12_selected <- blood_pressure_11_12 %>%\n",
    "    select(SEQN, BPQ020)\n",
    "\n",
    "\n",
    "diabetes_11_12 <- read_xpt(file.path(path_to_data_11_12, \"DIQ_G.xpt.txt\"))\n",
    "\n",
    "diabetes_11_12_selected <- diabetes_11_12 %>%\n",
    "    select(SEQN, DIQ010)\n",
    "\n",
    "\n",
    "periodontal_11_12 <- read_xpt(file.path(path_to_data_11_12, \"OHXPER_G.xpt.txt\"))\n",
    "\n",
    "selected_cols <- colnames(periodontal_11_12)[grepl(\"^OHX\\\\d{2}(PC|LA)[A-Z]$\", colnames(periodontal_11_12))]\n",
    "\n",
    "periodontal_11_12_selected <- periodontal_11_12 %>%\n",
    "    select(SEQN, all_of(selected_cols))\n",
    "\n",
    "\n",
    "locomotion_11_12 <- read_xpt(file.path(path_to_data_11_12, \"PFQ_G.xpt.txt\"))\n",
    "\n",
    "locomotion_11_12_selected <- locomotion_11_12 %>%\n",
    "    select(SEQN, PFQ061I)\n",
    "\n",
    "\n",
    "mental_health_11_12 <- read_xpt(file.path(path_to_data_11_12, \"DPQ_G.xpt.txt\"))\n",
    "\n",
    "mental_health_11_12_selected <- mental_health_11_12 %>%\n",
    "    select(SEQN, DPQ010, DPQ020, DPQ050, DPQ070)\n",
    "\n",
    "mental_health_11_12_selected <- mental_health_11_12_selected %>%\n",
    "  mutate(DPQ070 = case_when(\n",
    "    DPQ070 %in% c(0, 1) ~ 2,\n",
    "    DPQ070 %in% c(2, 3) ~ 1,\n",
    "    TRUE ~ DPQ070\n",
    "  ))\n",
    "\n",
    "mental_health_11_12_selected <- mental_health_11_12_selected %>%\n",
    "  rename(DLQ040 = DPQ070)\n",
    "\n",
    "\n",
    "weight_history_11_12 <- read_xpt(file.path(path_to_data_11_12, \"WHQ_G.xpt.txt\"))\n",
    "\n",
    "weight_history_11_12_selected <- weight_history_11_12 %>%\n",
    "    select(SEQN, WHQ060)\n",
    "\n",
    "\n",
    "audiometry_11_12 <- read_xpt(file.path(path_to_data_11_12, \"AUQ_G.xpt.txt\"))\n",
    "\n",
    "audiometry_11_12_selected <- audiometry_11_12 %>%\n",
    "  select(SEQN, AUQ054)\n",
    "\n",
    "audiometry_11_12_selected <- audiometry_11_12_selected %>%\n",
    "  mutate(AUQ054 = case_when(\n",
    "    AUQ054 %in% c(1, 2, 3) ~ 2,\n",
    "    AUQ054 %in% c(4, 5, 6) ~ 1,\n",
    "    TRUE ~ AUQ054\n",
    "  ))\n",
    "\n",
    "audiometry_11_12_selected <- audiometry_11_12_selected %>%\n",
    "  rename(DLQ010 = AUQ054)"
   ]
  },
  {
   "cell_type": "code",
   "execution_count": 6,
   "metadata": {
    "vscode": {
     "languageId": "r"
    }
   },
   "outputs": [],
   "source": [
    "# Datasets for 2013/14 period\n",
    "\n",
    "demo_13_14 <- read_xpt(file.path(path_to_data, \"DEMO_H.xpt.txt\"))\n",
    "\n",
    "demo_13_14_selected <- demo_13_14 %>%\n",
    "    select(SEQN, RIAGENDR, RIDAGEYR, RIDRETH1, DMDEDUC2, INDFMPIR)\n",
    "\n",
    "\n",
    "alcohol_13_14 <- read_xpt(file.path(path_to_data, \"ALQ_H.xpt.txt\"))\n",
    "\n",
    "alcohol_13_14_selected <- alcohol_13_14 %>%\n",
    "    select(SEQN, ALQ101)\n",
    "\n",
    "\n",
    "smoking_13_14 <- read_xpt(file.path(path_to_data, \"SMQ_H.xpt.txt\"))\n",
    "\n",
    "smoking_13_14_selected <- smoking_13_14 %>%\n",
    "    select(SEQN, SMQ020)\n",
    "\n",
    "\n",
    "med_conditions_13_14 <- read_xpt(file.path(path_to_data, \"MCQ_H.xpt.txt\"))\n",
    "\n",
    "med_conditions_13_14_selected <- med_conditions_13_14 %>%\n",
    "    select(SEQN, MCQ160B, MCQ160C, MCQ160D, MCQ160E, MCQ160F, MCQ160L, MCQ220)\n",
    "\n",
    "\n",
    "blood_pressure_13_14 <- read_xpt(file.path(path_to_data, \"BPQ_H.xpt.txt\"))\n",
    "\n",
    "blood_pressure_13_14_selected <- blood_pressure_13_14 %>%\n",
    "    select(SEQN, BPQ020)\n",
    "\n",
    "\n",
    "diabetes_13_14 <- read_xpt(file.path(path_to_data, \"DIQ_H.xpt.txt\"))\n",
    "\n",
    "diabetes_13_14_selected <- diabetes_13_14 %>%\n",
    "    select(SEQN, DIQ010)\n",
    "\n",
    "\n",
    "periodontal_13_14 <- read_xpt(file.path(path_to_data, \"OHXPER_H.xpt.txt\"))\n",
    "\n",
    "selected_cols <- colnames(periodontal_13_14)[grepl(\"^OHX\\\\d{2}(PC|LA)[A-Z]$\", colnames(periodontal_13_14))]\n",
    "\n",
    "periodontal_13_14_selected <- periodontal_13_14 %>%\n",
    "    select(SEQN, all_of(selected_cols))\n",
    "\n",
    "\n",
    "locomotion_13_14 <- read_xpt(file.path(path_to_data, \"PFQ061I.txt\"))\n",
    "\n",
    "locomotion_13_14_selected <- locomotion_13_14 %>%\n",
    "    select(SEQN, PFQ061I)\n",
    "\n",
    "\n",
    "disability_13_14 <- read_xpt(file.path(path_to_data, \"DLQ040.txt\"))\n",
    "\n",
    "disability_13_14_selected <- disability_13_14 %>%\n",
    "    select(SEQN, DLQ010, DLQ020, DLQ040)\n",
    "\n",
    "\n",
    "mental_health_13_14 <- read_xpt(file.path(path_to_data, \"DPQ-.txt\"))\n",
    "\n",
    "mental_health_13_14_selected <- mental_health_13_14 %>%\n",
    "    select(SEQN, DPQ010, DPQ020, DPQ050)\n",
    "\n",
    "\n",
    "weight_history_13_14 <- read_xpt(file.path(path_to_data, \"WHQ060.txt\"))\n",
    "\n",
    "weight_history_13_14_selected <- weight_history_13_14 %>%\n",
    "    select(SEQN, WHQ060)"
   ]
  },
  {
   "cell_type": "code",
   "execution_count": 7,
   "metadata": {
    "vscode": {
     "languageId": "r"
    }
   },
   "outputs": [
    {
     "data": {
      "text/html": [
       "<style>\n",
       ".list-inline {list-style: none; margin:0; padding: 0}\n",
       ".list-inline>li {display: inline-block}\n",
       ".list-inline>li:not(:last-child)::after {content: \"\\00b7\"; padding: 0 .5ex}\n",
       "</style>\n",
       "<ol class=list-inline><li>5037</li><li>337</li></ol>\n"
      ],
      "text/latex": [
       "\\begin{enumerate*}\n",
       "\\item 5037\n",
       "\\item 337\n",
       "\\end{enumerate*}\n"
      ],
      "text/markdown": [
       "1. 5037\n",
       "2. 337\n",
       "\n",
       "\n"
      ],
      "text/plain": [
       "[1] 5037  337"
      ]
     },
     "metadata": {},
     "output_type": "display_data"
    },
    {
     "data": {
      "text/html": [
       "<style>\n",
       ".list-inline {list-style: none; margin:0; padding: 0}\n",
       ".list-inline>li {display: inline-block}\n",
       ".list-inline>li:not(:last-child)::after {content: \"\\00b7\"; padding: 0 .5ex}\n",
       "</style>\n",
       "<ol class=list-inline><li>4365</li><li>337</li></ol>\n"
      ],
      "text/latex": [
       "\\begin{enumerate*}\n",
       "\\item 4365\n",
       "\\item 337\n",
       "\\end{enumerate*}\n"
      ],
      "text/markdown": [
       "1. 4365\n",
       "2. 337\n",
       "\n",
       "\n"
      ],
      "text/plain": [
       "[1] 4365  337"
      ]
     },
     "metadata": {},
     "output_type": "display_data"
    },
    {
     "data": {
      "text/html": [
       "<style>\n",
       ".list-inline {list-style: none; margin:0; padding: 0}\n",
       ".list-inline>li {display: inline-block}\n",
       ".list-inline>li:not(:last-child)::after {content: \"\\00b7\"; padding: 0 .5ex}\n",
       "</style>\n",
       "<ol class=list-inline><li>4669</li><li>337</li></ol>\n"
      ],
      "text/latex": [
       "\\begin{enumerate*}\n",
       "\\item 4669\n",
       "\\item 337\n",
       "\\end{enumerate*}\n"
      ],
      "text/markdown": [
       "1. 4669\n",
       "2. 337\n",
       "\n",
       "\n"
      ],
      "text/plain": [
       "[1] 4669  337"
      ]
     },
     "metadata": {},
     "output_type": "display_data"
    }
   ],
   "source": [
    "dim(periodontal_09_10_selected)\n",
    "dim(periodontal_11_12_selected)\n",
    "dim(periodontal_13_14_selected)"
   ]
  },
  {
   "cell_type": "markdown",
   "metadata": {},
   "source": [
    "### Merge datasets without NA and missing values"
   ]
  },
  {
   "cell_type": "code",
   "execution_count": 8,
   "metadata": {
    "vscode": {
     "languageId": "r"
    }
   },
   "outputs": [
    {
     "name": "stdout",
     "output_type": "stream",
     "text": [
      "[1] \"Deleted Rows: 1071\"\n"
     ]
    },
    {
     "data": {
      "text/html": [
       "<style>\n",
       ".list-inline {list-style: none; margin:0; padding: 0}\n",
       ".list-inline>li {display: inline-block}\n",
       ".list-inline>li:not(:last-child)::after {content: \"\\00b7\"; padding: 0 .5ex}\n",
       "</style>\n",
       "<ol class=list-inline><li>13000</li><li>337</li></ol>\n"
      ],
      "text/latex": [
       "\\begin{enumerate*}\n",
       "\\item 13000\n",
       "\\item 337\n",
       "\\end{enumerate*}\n"
      ],
      "text/markdown": [
       "1. 13000\n",
       "2. 337\n",
       "\n",
       "\n"
      ],
      "text/plain": [
       "[1] 13000   337"
      ]
     },
     "metadata": {},
     "output_type": "display_data"
    }
   ],
   "source": [
    "# Vertical union for periodontal data: removing patients with 0 teeth \n",
    "\n",
    "df_periodontal <- bind_rows(periodontal_09_10_selected, periodontal_11_12_selected, periodontal_13_14_selected)\n",
    "\n",
    "df_periodontal_clean <- df_periodontal[rowSums(df_periodontal[, colnames(df_periodontal) != \"SEQN\"] == 99) != (ncol(df_periodontal) - 1), ]\n",
    "\n",
    "print(paste(\"Deleted Rows:\", nrow(df_periodontal) - nrow(df_periodontal_clean)))\n",
    "\n",
    "dim(df_periodontal_clean)"
   ]
  },
  {
   "cell_type": "code",
   "execution_count": 9,
   "metadata": {
    "vscode": {
     "languageId": "r"
    }
   },
   "outputs": [
    {
     "name": "stdout",
     "output_type": "stream",
     "text": [
      "[1] \"Dimensions before removing NA values\"\n"
     ]
    },
    {
     "data": {
      "text/html": [
       "<style>\n",
       ".list-inline {list-style: none; margin:0; padding: 0}\n",
       ".list-inline>li {display: inline-block}\n",
       ".list-inline>li:not(:last-child)::after {content: \"\\00b7\"; padding: 0 .5ex}\n",
       "</style>\n",
       "<ol class=list-inline><li>30468</li><li>25</li></ol>\n"
      ],
      "text/latex": [
       "\\begin{enumerate*}\n",
       "\\item 30468\n",
       "\\item 25\n",
       "\\end{enumerate*}\n"
      ],
      "text/markdown": [
       "1. 30468\n",
       "2. 25\n",
       "\n",
       "\n"
      ],
      "text/plain": [
       "[1] 30468    25"
      ]
     },
     "metadata": {},
     "output_type": "display_data"
    },
    {
     "name": "stdout",
     "output_type": "stream",
     "text": [
      "[1] \"Dimensions after removing NA values\"\n"
     ]
    },
    {
     "data": {
      "text/html": [
       "<style>\n",
       ".list-inline {list-style: none; margin:0; padding: 0}\n",
       ".list-inline>li {display: inline-block}\n",
       ".list-inline>li:not(:last-child)::after {content: \"\\00b7\"; padding: 0 .5ex}\n",
       "</style>\n",
       "<ol class=list-inline><li>1352</li><li>25</li></ol>\n"
      ],
      "text/latex": [
       "\\begin{enumerate*}\n",
       "\\item 1352\n",
       "\\item 25\n",
       "\\end{enumerate*}\n"
      ],
      "text/markdown": [
       "1. 1352\n",
       "2. 25\n",
       "\n",
       "\n"
      ],
      "text/plain": [
       "[1] 1352   25"
      ]
     },
     "metadata": {},
     "output_type": "display_data"
    },
    {
     "name": "stdout",
     "output_type": "stream",
     "text": [
      "[1] \"Dimensions with AGE >= 60\"\n"
     ]
    },
    {
     "data": {
      "text/html": [
       "<style>\n",
       ".list-inline {list-style: none; margin:0; padding: 0}\n",
       ".list-inline>li {display: inline-block}\n",
       ".list-inline>li:not(:last-child)::after {content: \"\\00b7\"; padding: 0 .5ex}\n",
       "</style>\n",
       "<ol class=list-inline><li>890</li><li>25</li></ol>\n"
      ],
      "text/latex": [
       "\\begin{enumerate*}\n",
       "\\item 890\n",
       "\\item 25\n",
       "\\end{enumerate*}\n"
      ],
      "text/markdown": [
       "1. 890\n",
       "2. 25\n",
       "\n",
       "\n"
      ],
      "text/plain": [
       "[1] 890  25"
      ]
     },
     "metadata": {},
     "output_type": "display_data"
    }
   ],
   "source": [
    "# Merge datasets demographics and intrinsic capacity data\n",
    "\n",
    "datasets_09_10 <- list(\n",
    "  demo_09_10_selected, alcohol_09_10_selected, smoking_09_10_selected, med_conditions_09_10_selected,\n",
    "  blood_pressure_09_10_selected, diabetes_09_10_selected,\n",
    "  locomotion_09_10_selected, mental_health_09_10_selected,\n",
    "  weight_history_09_10_selected, audiometry_09_10_selected\n",
    ")\n",
    "\n",
    "datasets_11_12 <- list(\n",
    "  demo_11_12_selected, alcohol_11_12_selected, smoking_11_12_selected, med_conditions_11_12_selected,\n",
    "  blood_pressure_11_12_selected, diabetes_11_12_selected,\n",
    "  locomotion_11_12_selected, mental_health_11_12_selected,\n",
    "  weight_history_11_12_selected, audiometry_11_12_selected\n",
    ")\n",
    "\n",
    "datasets_13_14 <- list(\n",
    "  demo_13_14_selected, alcohol_13_14_selected, smoking_13_14_selected, med_conditions_13_14_selected,\n",
    "  blood_pressure_13_14_selected, diabetes_13_14_selected,\n",
    "  locomotion_13_14_selected, disability_13_14_selected, mental_health_13_14_selected,\n",
    "  weight_history_13_14_selected\n",
    ")\n",
    "\n",
    "# Horizontal union for period 2009/10, 2011/12, 2013/14\n",
    "\n",
    "df_09_10 <- Reduce(function(x, y) full_join(x, y, by = \"SEQN\"), datasets_09_10)\n",
    "\n",
    "df_11_12 <- Reduce(function(x, y) full_join(x, y, by = \"SEQN\"), datasets_11_12)\n",
    "\n",
    "df_13_14 <- Reduce(function(x, y) full_join(x, y, by = \"SEQN\"), datasets_13_14)\n",
    "\n",
    "# Vertical union\n",
    "\n",
    "df_final <- bind_rows(df_09_10, df_11_12, df_13_14)\n",
    "\n",
    "print(\"Dimensions before removing NA values\")\n",
    "dim(df_final)\n",
    "\n",
    "# Remove NA values\n",
    "\n",
    "df_final <- na.omit(df_final)\n",
    "\n",
    "df_final <- df_final %>%\n",
    "  filter(!if_any(c(DMDEDUC2, ALQ101, DLQ020, MCQ160B, MCQ160C, MCQ160D, \n",
    "                   MCQ160E, MCQ160F, MCQ160L, BPQ020, DIQ010, PFQ061I, \n",
    "                   DPQ020, DPQ050, DPQ010), ~ . == 9))\n",
    "\n",
    "df_final <- df_final %>%\n",
    "  filter(!if_any(c(DPQ010), ~ . == 7))\n",
    "\n",
    "df_final <- df_final %>%\n",
    "  filter(!if_any(c(DLQ010), ~ . == 99))\n",
    "\n",
    "print(\"Dimensions after removing NA values\")\n",
    "dim(df_final)\n",
    "\n",
    "# Filter with AGE >= 60\n",
    "\n",
    "df_final_age_60 <- subset(df_final, RIDAGEYR >= 60)\n",
    "\n",
    "print(\"Dimensions with AGE >= 60\")\n",
    "dim(df_final_age_60)"
   ]
  },
  {
   "cell_type": "code",
   "execution_count": 10,
   "metadata": {
    "vscode": {
     "languageId": "r"
    }
   },
   "outputs": [
    {
     "data": {
      "text/html": [
       "<style>\n",
       ".list-inline {list-style: none; margin:0; padding: 0}\n",
       ".list-inline>li {display: inline-block}\n",
       ".list-inline>li:not(:last-child)::after {content: \"\\00b7\"; padding: 0 .5ex}\n",
       "</style>\n",
       "<ol class=list-inline><li>551</li><li>361</li></ol>\n"
      ],
      "text/latex": [
       "\\begin{enumerate*}\n",
       "\\item 551\n",
       "\\item 361\n",
       "\\end{enumerate*}\n"
      ],
      "text/markdown": [
       "1. 551\n",
       "2. 361\n",
       "\n",
       "\n"
      ],
      "text/plain": [
       "[1] 551 361"
      ]
     },
     "metadata": {},
     "output_type": "display_data"
    }
   ],
   "source": [
    "# Merge df_final_age_60 with features for periodontal disease\n",
    "\n",
    "df_final_merged <- df_final_age_60 %>%\n",
    "  inner_join(df_periodontal_clean, by = \"SEQN\")\n",
    "\n",
    "dim(df_final_merged)"
   ]
  },
  {
   "cell_type": "code",
   "execution_count": 11,
   "metadata": {
    "vscode": {
     "languageId": "r"
    }
   },
   "outputs": [],
   "source": [
    "# Saving completed and cleaned dataframe for analysis\n",
    "\n",
    "write.csv(df_final_merged, \"/Users/silvanoquarto/Desktop/LAVORO/MEDICAL_PHYSICS/Med-Physics/data/NHANES/merged_and_cleaned_df_09_14.csv\")"
   ]
  },
  {
   "cell_type": "markdown",
   "metadata": {},
   "source": [
    "### Periodontitis Classification"
   ]
  },
  {
   "cell_type": "code",
   "execution_count": 12,
   "metadata": {
    "vscode": {
     "languageId": "r"
    }
   },
   "outputs": [],
   "source": [
    "classify_periodontitis <- function(df) {\n",
    "  # Function to count sites on different teeth that meet a criterion\n",
    "  count_sites_different_teeth <- function(tooth_sites,\n",
    "                                          threshold, measurement_type) {\n",
    "    teeth_with_sites <- list()\n",
    "    for(tooth in unique(sub(\"(OHX\\\\d+).*\", \"\\\\1\", names(tooth_sites)))) {\n",
    "      # Include all interproximal sites\n",
    "      # S = mesio-facial, D = distal, A = mesio-lingual, P = disto-lingual\n",
    "      tooth_cols <- grep(paste0(tooth, measurement_type, \"[SDAP]$\"), \n",
    "                        names(tooth_sites), value = TRUE)\n",
    "      values <- as.numeric(tooth_sites[tooth_cols])\n",
    "      valid_values <- values[values != 99 & !is.na(values)]\n",
    "      # If at least one site exceeds the threshold, add to list\n",
    "      if(length(valid_values) > 0 && any(valid_values >= threshold)) {\n",
    "        teeth_with_sites <- c(teeth_with_sites, tooth)\n",
    "      }\n",
    "    }\n",
    "    # Returns the number of different teeth with sites exceeding the threshold\n",
    "    return(length(teeth_with_sites))\n",
    "  }\n",
    "\n",
    "  ppd_cols <- grep(\"PC[SDAP]$\", names(df), value = TRUE)\n",
    "  cal_cols <- grep(\"LA[SDAP]$\", names(df), value = TRUE)\n",
    "\n",
    "  # Initializes the columns for classification\n",
    "  df$severe <- FALSE\n",
    "  df$moderate <- FALSE\n",
    "  df$mild <- FALSE\n",
    "\n",
    "  for(i in 1:nrow(df)) {\n",
    "    ppd_values <- df[i, ppd_cols]\n",
    "    cal_values <- df[i, cal_cols]\n",
    "\n",
    "    # Counts teeth with sites that meet the criteria\n",
    "    teeth_with_cal_6mm <- count_sites_different_teeth(cal_values, 6, \"LA\")\n",
    "    teeth_with_cal_4mm <- count_sites_different_teeth(cal_values, 4, \"LA\")\n",
    "    teeth_with_cal_3mm <- count_sites_different_teeth(cal_values, 3, \"LA\")\n",
    "    teeth_with_ppd_5mm <- count_sites_different_teeth(ppd_values, 5, \"PC\")\n",
    "    teeth_with_ppd_4mm <- count_sites_different_teeth(ppd_values, 4, \"PC\")\n",
    "\n",
    "    # Severe periodontitis classification\n",
    "    # ≥2 teeth with interproximal sites CAL ≥6 mm AND ≥1 tooth with PPD ≥5 mm\n",
    "    if(teeth_with_cal_6mm >= 2 && teeth_with_ppd_5mm >= 1) {\n",
    "      df$severe[i] <- TRUE\n",
    "    }\n",
    "    # Moderate periodontitis classification\n",
    "    # ≥2 teeth with interproximal sites CAL ≥4 mm OR ≥2 tooth with PPD ≥5 mm\n",
    "    else if(teeth_with_cal_4mm >= 2 || teeth_with_ppd_5mm >= 2) {\n",
    "      df$moderate[i] <- TRUE\n",
    "    }\n",
    "    # Mild periodontitis\n",
    "    # ≥2 teeth with interproximal sites CAL ≥3 mm AND\n",
    "    # ≥2 teeth with interproximal sites PPD ≥4 mm\n",
    "    else if(teeth_with_cal_3mm >= 2 &&\n",
    "              teeth_with_ppd_4mm >= 2) {\n",
    "      df$mild[i] <- TRUE\n",
    "    }\n",
    "  }\n",
    "\n",
    "  # Final Classification\n",
    "  df$periodontitis <- case_when(\n",
    "    df$severe ~ \"Severe\",\n",
    "    df$moderate ~ \"Moderate\",\n",
    "    #TRUE ~ \"None/Mild\"\n",
    "    df$mild ~ \"Mild\",\n",
    "    TRUE ~ \"None\"\n",
    "  )\n",
    "\n",
    "  return(df)\n",
    "}"
   ]
  },
  {
   "cell_type": "code",
   "execution_count": 13,
   "metadata": {
    "vscode": {
     "languageId": "r"
    }
   },
   "outputs": [],
   "source": [
    "df_classification <- classify_periodontitis(df_final_merged)"
   ]
  },
  {
   "cell_type": "code",
   "execution_count": 14,
   "metadata": {
    "vscode": {
     "languageId": "r"
    }
   },
   "outputs": [
    {
     "name": "stdout",
     "output_type": "stream",
     "text": [
      "[1] \"Distribution of periodontitis categories (counting):\"\n"
     ]
    },
    {
     "name": "stdout",
     "output_type": "stream",
     "text": [
      "\n",
      "    Mild Moderate     None   Severe \n",
      "      11      286      171       83 \n",
      "[1] \"Distribution of periodontitis categories (percentage):\"\n",
      "\n",
      "    Mild Moderate     None   Severe \n",
      "    2.00    51.91    31.03    15.06 \n"
     ]
    }
   ],
   "source": [
    "table_counts <- table(df_classification$periodontitis)\n",
    "table_percent <- prop.table(table_counts) * 100\n",
    "\n",
    "print(\"Distribution of periodontitis categories (counting):\")\n",
    "print(table_counts)\n",
    "\n",
    "print(\"Distribution of periodontitis categories (percentage):\")\n",
    "print(round(table_percent, 2))"
   ]
  },
  {
   "cell_type": "markdown",
   "metadata": {},
   "source": [
    "### Calculate Mean PPD and Mean CAL"
   ]
  },
  {
   "cell_type": "code",
   "execution_count": 15,
   "metadata": {
    "vscode": {
     "languageId": "r"
    }
   },
   "outputs": [],
   "source": [
    "calculate_means <- function(df) {\n",
    "  # Select columns for interproximal sites\n",
    "  ppd_cols <- grep(\"PC[SDAP]$\", names(df), value = TRUE)\n",
    "  cal_cols <- grep(\"LA[SDAP]$\", names(df), value = TRUE)\n",
    "  \n",
    "  # Calculate the average excluding invalid values\n",
    "  calculate_valid_mean <- function(row, cols) {\n",
    "    values <- as.numeric(row[cols])\n",
    "    valid_values <- values[values != 99 & !is.na(values)]\n",
    "    if(length(valid_values) > 0) {\n",
    "      return(mean(valid_values, na.rm = TRUE))\n",
    "    } else {\n",
    "      return(NA)\n",
    "    }\n",
    "  }\n",
    "  \n",
    "  df$mean_ppd <- apply(df[ppd_cols], 1, calculate_valid_mean, cols = ppd_cols)\n",
    "  df$mean_cal <- apply(df[cal_cols], 1, calculate_valid_mean, cols = cal_cols)\n",
    "  \n",
    "  df$mean_ppd <- round(df$mean_ppd, 2)\n",
    "  df$mean_cal <- round(df$mean_cal, 2)\n",
    "  \n",
    "  return(df)\n",
    "}"
   ]
  },
  {
   "cell_type": "code",
   "execution_count": 16,
   "metadata": {
    "vscode": {
     "languageId": "r"
    }
   },
   "outputs": [
    {
     "data": {
      "text/html": [
       "<style>\n",
       ".list-inline {list-style: none; margin:0; padding: 0}\n",
       ".list-inline>li {display: inline-block}\n",
       ".list-inline>li:not(:last-child)::after {content: \"\\00b7\"; padding: 0 .5ex}\n",
       "</style>\n",
       "<ol class=list-inline><li>551</li><li>367</li></ol>\n"
      ],
      "text/latex": [
       "\\begin{enumerate*}\n",
       "\\item 551\n",
       "\\item 367\n",
       "\\end{enumerate*}\n"
      ],
      "text/markdown": [
       "1. 551\n",
       "2. 367\n",
       "\n",
       "\n"
      ],
      "text/plain": [
       "[1] 551 367"
      ]
     },
     "metadata": {},
     "output_type": "display_data"
    },
    {
     "data": {
      "text/html": [
       "<table class=\"dataframe\">\n",
       "<caption>A tibble: 6 x 367</caption>\n",
       "<thead>\n",
       "\t<tr><th scope=col>SEQN</th><th scope=col>RIAGENDR</th><th scope=col>RIDAGEYR</th><th scope=col>RIDRETH1</th><th scope=col>DMDEDUC2</th><th scope=col>INDFMPIR</th><th scope=col>ALQ101</th><th scope=col>SMQ020</th><th scope=col>DLQ020</th><th scope=col>MCQ160B</th><th scope=col>...</th><th scope=col>OHX31LAS</th><th scope=col>OHX31LAP</th><th scope=col>OHX31LAL</th><th scope=col>OHX31LAA</th><th scope=col>severe</th><th scope=col>moderate</th><th scope=col>mild</th><th scope=col>periodontitis</th><th scope=col>mean_ppd</th><th scope=col>mean_cal</th></tr>\n",
       "\t<tr><th scope=col>&lt;dbl&gt;</th><th scope=col>&lt;dbl&gt;</th><th scope=col>&lt;dbl&gt;</th><th scope=col>&lt;dbl&gt;</th><th scope=col>&lt;dbl&gt;</th><th scope=col>&lt;dbl&gt;</th><th scope=col>&lt;dbl&gt;</th><th scope=col>&lt;dbl&gt;</th><th scope=col>&lt;dbl&gt;</th><th scope=col>&lt;dbl&gt;</th><th scope=col>...</th><th scope=col>&lt;dbl&gt;</th><th scope=col>&lt;dbl&gt;</th><th scope=col>&lt;dbl&gt;</th><th scope=col>&lt;dbl&gt;</th><th scope=col>&lt;lgl&gt;</th><th scope=col>&lt;lgl&gt;</th><th scope=col>&lt;lgl&gt;</th><th scope=col>&lt;chr&gt;</th><th scope=col>&lt;dbl&gt;</th><th scope=col>&lt;dbl&gt;</th></tr>\n",
       "</thead>\n",
       "<tbody>\n",
       "\t<tr><td>51633</td><td>1</td><td>80</td><td>3</td><td>4</td><td>1.27</td><td>1</td><td>1</td><td>1</td><td>2</td><td>...</td><td>99</td><td>99</td><td>99</td><td>99</td><td>FALSE</td><td> TRUE</td><td>FALSE</td><td>Moderate</td><td>2.26</td><td>1.26</td></tr>\n",
       "\t<tr><td>51654</td><td>1</td><td>66</td><td>3</td><td>4</td><td>2.20</td><td>1</td><td>1</td><td>2</td><td>2</td><td>...</td><td>99</td><td>99</td><td>99</td><td>99</td><td>FALSE</td><td> TRUE</td><td>FALSE</td><td>Moderate</td><td>1.95</td><td>1.72</td></tr>\n",
       "\t<tr><td>51680</td><td>2</td><td>60</td><td>4</td><td>4</td><td>2.59</td><td>1</td><td>1</td><td>1</td><td>2</td><td>...</td><td>99</td><td>99</td><td>99</td><td>99</td><td> TRUE</td><td>FALSE</td><td>FALSE</td><td>Severe  </td><td>1.81</td><td>1.48</td></tr>\n",
       "\t<tr><td>51687</td><td>1</td><td>78</td><td>3</td><td>5</td><td>5.00</td><td>1</td><td>1</td><td>2</td><td>2</td><td>...</td><td> 1</td><td> 1</td><td> 1</td><td> 1</td><td>FALSE</td><td>FALSE</td><td>FALSE</td><td>None    </td><td>1.29</td><td>1.27</td></tr>\n",
       "\t<tr><td>51736</td><td>2</td><td>60</td><td>1</td><td>3</td><td>0.68</td><td>1</td><td>1</td><td>2</td><td>2</td><td>...</td><td>99</td><td>99</td><td>99</td><td>99</td><td>FALSE</td><td> TRUE</td><td>FALSE</td><td>Moderate</td><td>2.49</td><td>1.99</td></tr>\n",
       "\t<tr><td>51861</td><td>1</td><td>80</td><td>3</td><td>3</td><td>4.94</td><td>1</td><td>2</td><td>2</td><td>2</td><td>...</td><td>99</td><td>99</td><td>99</td><td>99</td><td>FALSE</td><td> TRUE</td><td>FALSE</td><td>Moderate</td><td>1.70</td><td>1.33</td></tr>\n",
       "</tbody>\n",
       "</table>\n"
      ],
      "text/latex": [
       "A tibble: 6 x 367\n",
       "\\begin{tabular}{lllllllllllllllllllll}\n",
       " SEQN & RIAGENDR & RIDAGEYR & RIDRETH1 & DMDEDUC2 & INDFMPIR & ALQ101 & SMQ020 & DLQ020 & MCQ160B & ... & OHX31LAS & OHX31LAP & OHX31LAL & OHX31LAA & severe & moderate & mild & periodontitis & mean\\_ppd & mean\\_cal\\\\\n",
       " <dbl> & <dbl> & <dbl> & <dbl> & <dbl> & <dbl> & <dbl> & <dbl> & <dbl> & <dbl> & ... & <dbl> & <dbl> & <dbl> & <dbl> & <lgl> & <lgl> & <lgl> & <chr> & <dbl> & <dbl>\\\\\n",
       "\\hline\n",
       "\t 51633 & 1 & 80 & 3 & 4 & 1.27 & 1 & 1 & 1 & 2 & ... & 99 & 99 & 99 & 99 & FALSE &  TRUE & FALSE & Moderate & 2.26 & 1.26\\\\\n",
       "\t 51654 & 1 & 66 & 3 & 4 & 2.20 & 1 & 1 & 2 & 2 & ... & 99 & 99 & 99 & 99 & FALSE &  TRUE & FALSE & Moderate & 1.95 & 1.72\\\\\n",
       "\t 51680 & 2 & 60 & 4 & 4 & 2.59 & 1 & 1 & 1 & 2 & ... & 99 & 99 & 99 & 99 &  TRUE & FALSE & FALSE & Severe   & 1.81 & 1.48\\\\\n",
       "\t 51687 & 1 & 78 & 3 & 5 & 5.00 & 1 & 1 & 2 & 2 & ... &  1 &  1 &  1 &  1 & FALSE & FALSE & FALSE & None     & 1.29 & 1.27\\\\\n",
       "\t 51736 & 2 & 60 & 1 & 3 & 0.68 & 1 & 1 & 2 & 2 & ... & 99 & 99 & 99 & 99 & FALSE &  TRUE & FALSE & Moderate & 2.49 & 1.99\\\\\n",
       "\t 51861 & 1 & 80 & 3 & 3 & 4.94 & 1 & 2 & 2 & 2 & ... & 99 & 99 & 99 & 99 & FALSE &  TRUE & FALSE & Moderate & 1.70 & 1.33\\\\\n",
       "\\end{tabular}\n"
      ],
      "text/markdown": [
       "\n",
       "A tibble: 6 x 367\n",
       "\n",
       "| SEQN &lt;dbl&gt; | RIAGENDR &lt;dbl&gt; | RIDAGEYR &lt;dbl&gt; | RIDRETH1 &lt;dbl&gt; | DMDEDUC2 &lt;dbl&gt; | INDFMPIR &lt;dbl&gt; | ALQ101 &lt;dbl&gt; | SMQ020 &lt;dbl&gt; | DLQ020 &lt;dbl&gt; | MCQ160B &lt;dbl&gt; | ... ... | OHX31LAS &lt;dbl&gt; | OHX31LAP &lt;dbl&gt; | OHX31LAL &lt;dbl&gt; | OHX31LAA &lt;dbl&gt; | severe &lt;lgl&gt; | moderate &lt;lgl&gt; | mild &lt;lgl&gt; | periodontitis &lt;chr&gt; | mean_ppd &lt;dbl&gt; | mean_cal &lt;dbl&gt; |\n",
       "|---|---|---|---|---|---|---|---|---|---|---|---|---|---|---|---|---|---|---|---|---|\n",
       "| 51633 | 1 | 80 | 3 | 4 | 1.27 | 1 | 1 | 1 | 2 | ... | 99 | 99 | 99 | 99 | FALSE |  TRUE | FALSE | Moderate | 2.26 | 1.26 |\n",
       "| 51654 | 1 | 66 | 3 | 4 | 2.20 | 1 | 1 | 2 | 2 | ... | 99 | 99 | 99 | 99 | FALSE |  TRUE | FALSE | Moderate | 1.95 | 1.72 |\n",
       "| 51680 | 2 | 60 | 4 | 4 | 2.59 | 1 | 1 | 1 | 2 | ... | 99 | 99 | 99 | 99 |  TRUE | FALSE | FALSE | Severe   | 1.81 | 1.48 |\n",
       "| 51687 | 1 | 78 | 3 | 5 | 5.00 | 1 | 1 | 2 | 2 | ... |  1 |  1 |  1 |  1 | FALSE | FALSE | FALSE | None     | 1.29 | 1.27 |\n",
       "| 51736 | 2 | 60 | 1 | 3 | 0.68 | 1 | 1 | 2 | 2 | ... | 99 | 99 | 99 | 99 | FALSE |  TRUE | FALSE | Moderate | 2.49 | 1.99 |\n",
       "| 51861 | 1 | 80 | 3 | 3 | 4.94 | 1 | 2 | 2 | 2 | ... | 99 | 99 | 99 | 99 | FALSE |  TRUE | FALSE | Moderate | 1.70 | 1.33 |\n",
       "\n"
      ],
      "text/plain": [
       "  SEQN  RIAGENDR RIDAGEYR RIDRETH1 DMDEDUC2 INDFMPIR ALQ101 SMQ020 DLQ020\n",
       "1 51633 1        80       3        4        1.27     1      1      1     \n",
       "2 51654 1        66       3        4        2.20     1      1      2     \n",
       "3 51680 2        60       4        4        2.59     1      1      1     \n",
       "4 51687 1        78       3        5        5.00     1      1      2     \n",
       "5 51736 2        60       1        3        0.68     1      1      2     \n",
       "6 51861 1        80       3        3        4.94     1      2      2     \n",
       "  MCQ160B ... OHX31LAS OHX31LAP OHX31LAL OHX31LAA severe moderate mild \n",
       "1 2       ... 99       99       99       99       FALSE   TRUE    FALSE\n",
       "2 2       ... 99       99       99       99       FALSE   TRUE    FALSE\n",
       "3 2       ... 99       99       99       99        TRUE  FALSE    FALSE\n",
       "4 2       ...  1        1        1        1       FALSE  FALSE    FALSE\n",
       "5 2       ... 99       99       99       99       FALSE   TRUE    FALSE\n",
       "6 2       ... 99       99       99       99       FALSE   TRUE    FALSE\n",
       "  periodontitis mean_ppd mean_cal\n",
       "1 Moderate      2.26     1.26    \n",
       "2 Moderate      1.95     1.72    \n",
       "3 Severe        1.81     1.48    \n",
       "4 None          1.29     1.27    \n",
       "5 Moderate      2.49     1.99    \n",
       "6 Moderate      1.70     1.33    "
      ]
     },
     "metadata": {},
     "output_type": "display_data"
    }
   ],
   "source": [
    "df_class_with_means <- calculate_means(df_classification)\n",
    "\n",
    "dim(df_class_with_means)\n",
    "head(df_class_with_means)"
   ]
  },
  {
   "cell_type": "markdown",
   "metadata": {},
   "source": [
    "### Features selection"
   ]
  },
  {
   "cell_type": "code",
   "execution_count": 17,
   "metadata": {
    "vscode": {
     "languageId": "r"
    }
   },
   "outputs": [
    {
     "data": {
      "text/html": [
       "<style>\n",
       ".list-inline {list-style: none; margin:0; padding: 0}\n",
       ".list-inline>li {display: inline-block}\n",
       ".list-inline>li:not(:last-child)::after {content: \"\\00b7\"; padding: 0 .5ex}\n",
       "</style>\n",
       "<ol class=list-inline><li>551</li><li>28</li></ol>\n"
      ],
      "text/latex": [
       "\\begin{enumerate*}\n",
       "\\item 551\n",
       "\\item 28\n",
       "\\end{enumerate*}\n"
      ],
      "text/markdown": [
       "1. 551\n",
       "2. 28\n",
       "\n",
       "\n"
      ],
      "text/plain": [
       "[1] 551  28"
      ]
     },
     "metadata": {},
     "output_type": "display_data"
    },
    {
     "data": {
      "text/html": [
       "<table class=\"dataframe\">\n",
       "<caption>A tibble: 6 x 28</caption>\n",
       "<thead>\n",
       "\t<tr><th scope=col>SEQN</th><th scope=col>RIAGENDR</th><th scope=col>RIDAGEYR</th><th scope=col>RIDRETH1</th><th scope=col>DMDEDUC2</th><th scope=col>INDFMPIR</th><th scope=col>SMQ020</th><th scope=col>ALQ101</th><th scope=col>MCQ160B</th><th scope=col>MCQ160C</th><th scope=col>...</th><th scope=col>DLQ010</th><th scope=col>DLQ020</th><th scope=col>DLQ040</th><th scope=col>DPQ010</th><th scope=col>DPQ020</th><th scope=col>DPQ050</th><th scope=col>WHQ060</th><th scope=col>periodontitis</th><th scope=col>mean_ppd</th><th scope=col>mean_cal</th></tr>\n",
       "\t<tr><th scope=col>&lt;dbl&gt;</th><th scope=col>&lt;dbl&gt;</th><th scope=col>&lt;dbl&gt;</th><th scope=col>&lt;dbl&gt;</th><th scope=col>&lt;dbl&gt;</th><th scope=col>&lt;dbl&gt;</th><th scope=col>&lt;dbl&gt;</th><th scope=col>&lt;dbl&gt;</th><th scope=col>&lt;dbl&gt;</th><th scope=col>&lt;dbl&gt;</th><th scope=col>...</th><th scope=col>&lt;dbl&gt;</th><th scope=col>&lt;dbl&gt;</th><th scope=col>&lt;dbl&gt;</th><th scope=col>&lt;dbl&gt;</th><th scope=col>&lt;dbl&gt;</th><th scope=col>&lt;dbl&gt;</th><th scope=col>&lt;dbl&gt;</th><th scope=col>&lt;chr&gt;</th><th scope=col>&lt;dbl&gt;</th><th scope=col>&lt;dbl&gt;</th></tr>\n",
       "</thead>\n",
       "<tbody>\n",
       "\t<tr><td>51633</td><td>1</td><td>80</td><td>3</td><td>4</td><td>1.27</td><td>1</td><td>1</td><td>2</td><td>2</td><td>...</td><td>2</td><td>1</td><td>2</td><td>0</td><td>0</td><td>0</td><td>1</td><td>Moderate</td><td>2.26</td><td>1.26</td></tr>\n",
       "\t<tr><td>51654</td><td>1</td><td>66</td><td>3</td><td>4</td><td>2.20</td><td>1</td><td>1</td><td>2</td><td>2</td><td>...</td><td>2</td><td>2</td><td>2</td><td>0</td><td>0</td><td>0</td><td>2</td><td>Moderate</td><td>1.95</td><td>1.72</td></tr>\n",
       "\t<tr><td>51680</td><td>2</td><td>60</td><td>4</td><td>4</td><td>2.59</td><td>1</td><td>1</td><td>2</td><td>2</td><td>...</td><td>2</td><td>1</td><td>2</td><td>0</td><td>1</td><td>1</td><td>1</td><td>Severe  </td><td>1.81</td><td>1.48</td></tr>\n",
       "\t<tr><td>51687</td><td>1</td><td>78</td><td>3</td><td>5</td><td>5.00</td><td>1</td><td>1</td><td>2</td><td>2</td><td>...</td><td>2</td><td>2</td><td>2</td><td>0</td><td>0</td><td>0</td><td>2</td><td>None    </td><td>1.29</td><td>1.27</td></tr>\n",
       "\t<tr><td>51736</td><td>2</td><td>60</td><td>1</td><td>3</td><td>0.68</td><td>1</td><td>1</td><td>2</td><td>2</td><td>...</td><td>2</td><td>2</td><td>2</td><td>0</td><td>1</td><td>0</td><td>1</td><td>Moderate</td><td>2.49</td><td>1.99</td></tr>\n",
       "\t<tr><td>51861</td><td>1</td><td>80</td><td>3</td><td>3</td><td>4.94</td><td>2</td><td>1</td><td>2</td><td>1</td><td>...</td><td>1</td><td>2</td><td>2</td><td>0</td><td>0</td><td>0</td><td>1</td><td>Moderate</td><td>1.70</td><td>1.33</td></tr>\n",
       "</tbody>\n",
       "</table>\n"
      ],
      "text/latex": [
       "A tibble: 6 x 28\n",
       "\\begin{tabular}{lllllllllllllllllllll}\n",
       " SEQN & RIAGENDR & RIDAGEYR & RIDRETH1 & DMDEDUC2 & INDFMPIR & SMQ020 & ALQ101 & MCQ160B & MCQ160C & ... & DLQ010 & DLQ020 & DLQ040 & DPQ010 & DPQ020 & DPQ050 & WHQ060 & periodontitis & mean\\_ppd & mean\\_cal\\\\\n",
       " <dbl> & <dbl> & <dbl> & <dbl> & <dbl> & <dbl> & <dbl> & <dbl> & <dbl> & <dbl> & ... & <dbl> & <dbl> & <dbl> & <dbl> & <dbl> & <dbl> & <dbl> & <chr> & <dbl> & <dbl>\\\\\n",
       "\\hline\n",
       "\t 51633 & 1 & 80 & 3 & 4 & 1.27 & 1 & 1 & 2 & 2 & ... & 2 & 1 & 2 & 0 & 0 & 0 & 1 & Moderate & 2.26 & 1.26\\\\\n",
       "\t 51654 & 1 & 66 & 3 & 4 & 2.20 & 1 & 1 & 2 & 2 & ... & 2 & 2 & 2 & 0 & 0 & 0 & 2 & Moderate & 1.95 & 1.72\\\\\n",
       "\t 51680 & 2 & 60 & 4 & 4 & 2.59 & 1 & 1 & 2 & 2 & ... & 2 & 1 & 2 & 0 & 1 & 1 & 1 & Severe   & 1.81 & 1.48\\\\\n",
       "\t 51687 & 1 & 78 & 3 & 5 & 5.00 & 1 & 1 & 2 & 2 & ... & 2 & 2 & 2 & 0 & 0 & 0 & 2 & None     & 1.29 & 1.27\\\\\n",
       "\t 51736 & 2 & 60 & 1 & 3 & 0.68 & 1 & 1 & 2 & 2 & ... & 2 & 2 & 2 & 0 & 1 & 0 & 1 & Moderate & 2.49 & 1.99\\\\\n",
       "\t 51861 & 1 & 80 & 3 & 3 & 4.94 & 2 & 1 & 2 & 1 & ... & 1 & 2 & 2 & 0 & 0 & 0 & 1 & Moderate & 1.70 & 1.33\\\\\n",
       "\\end{tabular}\n"
      ],
      "text/markdown": [
       "\n",
       "A tibble: 6 x 28\n",
       "\n",
       "| SEQN &lt;dbl&gt; | RIAGENDR &lt;dbl&gt; | RIDAGEYR &lt;dbl&gt; | RIDRETH1 &lt;dbl&gt; | DMDEDUC2 &lt;dbl&gt; | INDFMPIR &lt;dbl&gt; | SMQ020 &lt;dbl&gt; | ALQ101 &lt;dbl&gt; | MCQ160B &lt;dbl&gt; | MCQ160C &lt;dbl&gt; | ... ... | DLQ010 &lt;dbl&gt; | DLQ020 &lt;dbl&gt; | DLQ040 &lt;dbl&gt; | DPQ010 &lt;dbl&gt; | DPQ020 &lt;dbl&gt; | DPQ050 &lt;dbl&gt; | WHQ060 &lt;dbl&gt; | periodontitis &lt;chr&gt; | mean_ppd &lt;dbl&gt; | mean_cal &lt;dbl&gt; |\n",
       "|---|---|---|---|---|---|---|---|---|---|---|---|---|---|---|---|---|---|---|---|---|\n",
       "| 51633 | 1 | 80 | 3 | 4 | 1.27 | 1 | 1 | 2 | 2 | ... | 2 | 1 | 2 | 0 | 0 | 0 | 1 | Moderate | 2.26 | 1.26 |\n",
       "| 51654 | 1 | 66 | 3 | 4 | 2.20 | 1 | 1 | 2 | 2 | ... | 2 | 2 | 2 | 0 | 0 | 0 | 2 | Moderate | 1.95 | 1.72 |\n",
       "| 51680 | 2 | 60 | 4 | 4 | 2.59 | 1 | 1 | 2 | 2 | ... | 2 | 1 | 2 | 0 | 1 | 1 | 1 | Severe   | 1.81 | 1.48 |\n",
       "| 51687 | 1 | 78 | 3 | 5 | 5.00 | 1 | 1 | 2 | 2 | ... | 2 | 2 | 2 | 0 | 0 | 0 | 2 | None     | 1.29 | 1.27 |\n",
       "| 51736 | 2 | 60 | 1 | 3 | 0.68 | 1 | 1 | 2 | 2 | ... | 2 | 2 | 2 | 0 | 1 | 0 | 1 | Moderate | 2.49 | 1.99 |\n",
       "| 51861 | 1 | 80 | 3 | 3 | 4.94 | 2 | 1 | 2 | 1 | ... | 1 | 2 | 2 | 0 | 0 | 0 | 1 | Moderate | 1.70 | 1.33 |\n",
       "\n"
      ],
      "text/plain": [
       "  SEQN  RIAGENDR RIDAGEYR RIDRETH1 DMDEDUC2 INDFMPIR SMQ020 ALQ101 MCQ160B\n",
       "1 51633 1        80       3        4        1.27     1      1      2      \n",
       "2 51654 1        66       3        4        2.20     1      1      2      \n",
       "3 51680 2        60       4        4        2.59     1      1      2      \n",
       "4 51687 1        78       3        5        5.00     1      1      2      \n",
       "5 51736 2        60       1        3        0.68     1      1      2      \n",
       "6 51861 1        80       3        3        4.94     2      1      2      \n",
       "  MCQ160C ... DLQ010 DLQ020 DLQ040 DPQ010 DPQ020 DPQ050 WHQ060 periodontitis\n",
       "1 2       ... 2      1      2      0      0      0      1      Moderate     \n",
       "2 2       ... 2      2      2      0      0      0      2      Moderate     \n",
       "3 2       ... 2      1      2      0      1      1      1      Severe       \n",
       "4 2       ... 2      2      2      0      0      0      2      None         \n",
       "5 2       ... 2      2      2      0      1      0      1      Moderate     \n",
       "6 1       ... 1      2      2      0      0      0      1      Moderate     \n",
       "  mean_ppd mean_cal\n",
       "1 2.26     1.26    \n",
       "2 1.95     1.72    \n",
       "3 1.81     1.48    \n",
       "4 1.29     1.27    \n",
       "5 2.49     1.99    \n",
       "6 1.70     1.33    "
      ]
     },
     "metadata": {},
     "output_type": "display_data"
    }
   ],
   "source": [
    "# Features selection for the descriptive and regression analysis\n",
    "\n",
    "columns_to_keep <- c(\"SEQN\", \"RIAGENDR\", \"RIDAGEYR\", \"RIDRETH1\",\n",
    "                     \"DMDEDUC2\", \"INDFMPIR\",\n",
    "                     \"SMQ020\", \"ALQ101\", \"MCQ160B\", \"MCQ160C\",\n",
    "                     \"MCQ160D\", \"MCQ160E\", \"MCQ160F\",\n",
    "                     \"MCQ160L\", \"MCQ220\", \"BPQ020\",\n",
    "                     \"DIQ010\", \"PFQ061I\",\n",
    "                     \"DLQ010\", \"DLQ020\", \"DLQ040\",\n",
    "                     \"DPQ010\", \"DPQ020\", \"DPQ050\", \"WHQ060\",\n",
    "                     \"periodontitis\", \"mean_ppd\", \"mean_cal\")\n",
    "\n",
    "df <- df_class_with_means[, columns_to_keep]\n",
    "\n",
    "dim(df)\n",
    "head(df)"
   ]
  },
  {
   "cell_type": "code",
   "execution_count": 19,
   "metadata": {
    "vscode": {
     "languageId": "r"
    }
   },
   "outputs": [],
   "source": [
    "write.csv(df, \"/Users/silvanoquarto/Desktop/LAVORO/MEDICAL_PHYSICS/Med-Physics/data/NHANES/preprocessed_df_09_14.csv\")"
   ]
  },
  {
   "cell_type": "markdown",
   "metadata": {},
   "source": [
    "### Descriptive analysis"
   ]
  },
  {
   "cell_type": "code",
   "execution_count": 91,
   "metadata": {
    "vscode": {
     "languageId": "r"
    }
   },
   "outputs": [],
   "source": [
    "# Function for the descriptive analysis\n",
    "\n",
    "create_descriptive_table <- function(df) {\n",
    "  require(tableone)\n",
    "  require(dplyr)\n",
    "\n",
    "  df$periodontitis <- factor(df$periodontitis, levels = c(\"None\", \"Mild\", \"Moderate\", \"Severe\"))\n",
    "  \n",
    "  # Recoding categorical variables\n",
    "  df <- df %>%\n",
    "    mutate(\n",
    "      `Age (years)` = RIDAGEYR,\n",
    "      `Ratio of family income` = INDFMPIR,\n",
    "      `Mean PPD` = mean_ppd,\n",
    "      `Mean CAL` = mean_cal,\n",
    "      Gender = factor(RIAGENDR, levels = c(1, 2), \n",
    "                      labels = c(\"Male\", \"Female\")),\n",
    "      \n",
    "      Ethnicity = factor(RIDRETH1, levels = 1:5, \n",
    "                         labels = c(\"Mexican American\", \"Other Hispanic\",\n",
    "                                    \"Non-Hispanic White\", \"Non-Hispanic Black\",\n",
    "                                    \"Other Race\")),\n",
    "      \n",
    "      Education = factor(DMDEDUC2, levels = 1:5,\n",
    "                         labels = c(\"Less than 9th grade\", \"9-11th grade\",\n",
    "                                    \"High school graduate\",\n",
    "                                    \"Some college/AA degree\",\n",
    "                                    \"College graduate or above\")),\n",
    "      \n",
    "      Smoking = factor(SMQ020, levels = c(1, 2),\n",
    "                       labels = c(\"Yes\", \"No\")),\n",
    "      \n",
    "      `Alcohol intake` = factor(ALQ101, levels = c(1, 2),\n",
    "                       labels = c(\"Over 12 alcohol drinks/1 yr\",\n",
    "                       \"Under 12 alcohol drinks/1 yr\")),\n",
    "      \n",
    "      `Heart Failure` = factor(MCQ160B, levels = c(1, 2), \n",
    "                             labels = c(\"Yes\", \"No\")),\n",
    "      `Coronary Heart` = factor(MCQ160C, levels = c(1, 2),\n",
    "                              labels = c(\"Yes\", \"No\")),\n",
    "      Angina = factor(MCQ160D, levels = c(1, 2),\n",
    "                      labels = c(\"Yes\", \"No\")),\n",
    "      `Heart Attack` = factor(MCQ160E, levels = c(1, 2),\n",
    "                            labels = c(\"Yes\", \"No\")),\n",
    "      Stroke = factor(MCQ160F, levels = c(1, 2),\n",
    "                      labels = c(\"Yes\", \"No\")),\n",
    "      Cancer = factor(MCQ220, levels = c(1, 2),\n",
    "                    labels = c(\"Yes\", \"No\")),\n",
    "      Liver = factor(MCQ160L, levels = c(1, 2),\n",
    "                     labels = c(\"Yes\", \"No\")),\n",
    "      Hypertension = factor(BPQ020, levels = c(1,2),\n",
    "                            labels = c(\"Yes\", \"No\")),\n",
    "      Diabetes = factor(DIQ010, levels = 1:3,\n",
    "                        labels = c(\"Yes\", \"No\", \"Borderline\"))\n",
    "    )\n",
    "  \n",
    "  continuous_vars <- c(\"Age (years)\", \"Ratio of family income\", \"Mean PPD\", \"Mean CAL\")\n",
    "  \n",
    "  categorical_vars <- c(\"Gender\", \"Ethnicity\", \"Education\", \"Smoking\", \"Alcohol intake\",\n",
    "                        \"Heart Failure\", \"Coronary Heart\", \"Angina\", \"Heart Attack\",\n",
    "                        \"Stroke\", \"Cancer\", \"Liver\", \"Hypertension\", \"Diabetes\")\n",
    "\n",
    "  table1 <- CreateTableOne(vars = c(continuous_vars, categorical_vars),\n",
    "                           strata = \"periodontitis\",\n",
    "                           data = df,\n",
    "                           test = TRUE)\n",
    "\n",
    "  cont_vars_overall <- c(\"Age (years)\", \"Ratio of family income\")\n",
    "  \n",
    "  table_overall <- CreateTableOne(vars = c(cont_vars_overall, categorical_vars),\n",
    "                                  data = df,\n",
    "                                  test = FALSE)\n",
    "  \n",
    "  formatted_table <- print(table1,\n",
    "                           #nonnormal = continuous_vars,\n",
    "                           nonnormal = NULL,\n",
    "                           contDigits = 2,\n",
    "                           showAllLevels = TRUE,\n",
    "                           printToggle = FALSE,\n",
    "                           smd = FALSE)\n",
    "  \n",
    "  formatted_table_overall <- print(table_overall,\n",
    "                                   #nonnormal = continuous_vars,\n",
    "                                   nonnormal = NULL,\n",
    "                                   contDigits = 2,\n",
    "                                   showAllLevels = TRUE,\n",
    "                                   printToggle = FALSE,\n",
    "                                   smd = FALSE)\n",
    "  \n",
    "  final_table <- list(\"Stratified by periodontitis\" = formatted_table, \n",
    "                      \"Overall\" = formatted_table_overall)\n",
    "  \n",
    "  return(final_table)\n",
    "}"
   ]
  },
  {
   "cell_type": "code",
   "execution_count": 94,
   "metadata": {
    "vscode": {
     "languageId": "r"
    }
   },
   "outputs": [
    {
     "data": {
      "text/html": [
       "<dl>\n",
       "\t<dt>$`Stratified by periodontitis`</dt>\n",
       "\t\t<dd><table class=\"dataframe\">\n",
       "<caption>A matrix: 40 x 7 of type chr</caption>\n",
       "<thead>\n",
       "\t<tr><th></th><th scope=col>level</th><th scope=col>None</th><th scope=col>Mild</th><th scope=col>Moderate</th><th scope=col>Severe</th><th scope=col>p</th><th scope=col>test</th></tr>\n",
       "</thead>\n",
       "<tbody>\n",
       "\t<tr><th scope=row>n</th><td>                            </td><td>  171        </td><td>   11         </td><td>  286        </td><td>   83        </td><td>      </td><td></td></tr>\n",
       "\t<tr><th scope=row>Age (years) (mean (SD))</th><td>                            </td><td>67.56 (6.50) </td><td>67.27 (6.63)  </td><td>69.40 (6.85) </td><td>67.76 (6.75) </td><td> 0.021</td><td></td></tr>\n",
       "\t<tr><th scope=row>Ratio of family income (mean (SD))</th><td><span style=white-space:pre-wrap>                            </span></td><td> 3.18 (1.61) </td><td><span style=white-space:pre-wrap> 2.84 (1.41)  </span></td><td> 2.50 (1.54) </td><td> 1.97 (1.41) </td><td>&lt;0.001</td><td></td></tr>\n",
       "\t<tr><th scope=row>Mean PPD (mean (SD))</th><td><span style=white-space:pre-wrap>                            </span></td><td> 1.33 (0.39) </td><td><span style=white-space:pre-wrap> 1.97 (0.35)  </span></td><td> 1.81 (0.47) </td><td> 2.85 (0.99) </td><td>&lt;0.001</td><td></td></tr>\n",
       "\t<tr><th scope=row>Mean CAL (mean (SD))</th><td><span style=white-space:pre-wrap>                            </span></td><td> 1.33 (0.60) </td><td><span style=white-space:pre-wrap> 1.29 (0.20)  </span></td><td> 2.50 (1.09) </td><td> 4.29 (2.03) </td><td>&lt;0.001</td><td></td></tr>\n",
       "\t<tr><th scope=row>Gender (%)</th><td><span style=white-space:pre-wrap>Male                        </span></td><td><span style=white-space:pre-wrap>   72 (42.1) </span></td><td><span style=white-space:pre-wrap>    6 ( 54.5) </span></td><td><span style=white-space:pre-wrap>  154 (53.8) </span></td><td><span style=white-space:pre-wrap>   60 (72.3) </span></td><td>&lt;0.001</td><td></td></tr>\n",
       "\t<tr><th scope=row></th><td>Female                      </td><td>   99 (57.9) </td><td>    5 ( 45.5) </td><td>  132 (46.2) </td><td>   23 (27.7) </td><td>      </td><td></td></tr>\n",
       "\t<tr><th scope=row>Ethnicity (%)</th><td><span style=white-space:pre-wrap>Mexican American            </span></td><td><span style=white-space:pre-wrap>   10 ( 5.8) </span></td><td><span style=white-space:pre-wrap>    1 (  9.1) </span></td><td><span style=white-space:pre-wrap>   28 ( 9.8) </span></td><td><span style=white-space:pre-wrap>   20 (24.1) </span></td><td>&lt;0.001</td><td></td></tr>\n",
       "\t<tr><th scope=row></th><td>Other Hispanic              </td><td>   19 (11.1) </td><td>    1 (  9.1) </td><td>   23 ( 8.0) </td><td>    4 ( 4.8) </td><td>      </td><td></td></tr>\n",
       "\t<tr><th scope=row></th><td>Non-Hispanic White          </td><td>   97 (56.7) </td><td>    6 ( 54.5) </td><td>  127 (44.4) </td><td>   23 (27.7) </td><td>      </td><td></td></tr>\n",
       "\t<tr><th scope=row></th><td>Non-Hispanic Black          </td><td>   34 (19.9) </td><td>    3 ( 27.3) </td><td>   95 (33.2) </td><td>   34 (41.0) </td><td>      </td><td></td></tr>\n",
       "\t<tr><th scope=row></th><td>Other Race                  </td><td>   11 ( 6.4) </td><td>    0 (  0.0) </td><td>   13 ( 4.5) </td><td>    2 ( 2.4) </td><td>      </td><td></td></tr>\n",
       "\t<tr><th scope=row>Education (%)</th><td>Less than 9th grade         </td><td>   11 ( 6.4) </td><td>    1 (  9.1) </td><td>   36 (12.6) </td><td>   15 (18.1) </td><td> 0.006</td><td></td></tr>\n",
       "\t<tr><th scope=row></th><td>9-11th grade                </td><td>   18 (10.5) </td><td>    1 (  9.1) </td><td>   42 (14.7) </td><td>   19 (22.9) </td><td>      </td><td></td></tr>\n",
       "\t<tr><th scope=row></th><td>High school graduate        </td><td>   32 (18.7) </td><td>    3 ( 27.3) </td><td>   71 (24.8) </td><td>   18 (21.7) </td><td>      </td><td></td></tr>\n",
       "\t<tr><th scope=row></th><td>Some college/AA degree      </td><td>   60 (35.1) </td><td>    5 ( 45.5) </td><td>   79 (27.6) </td><td>   21 (25.3) </td><td>      </td><td></td></tr>\n",
       "\t<tr><th scope=row></th><td>College graduate or above   </td><td>   50 (29.2) </td><td>    1 (  9.1) </td><td>   58 (20.3) </td><td>   10 (12.0) </td><td>      </td><td></td></tr>\n",
       "\t<tr><th scope=row>Smoking (%)</th><td>Yes                         </td><td>   75 (43.9) </td><td>    4 ( 36.4) </td><td>  164 (57.3) </td><td>   43 (51.8) </td><td> 0.031</td><td></td></tr>\n",
       "\t<tr><th scope=row></th><td>No                          </td><td>   96 (56.1) </td><td>    7 ( 63.6) </td><td>  122 (42.7) </td><td>   40 (48.2) </td><td>      </td><td></td></tr>\n",
       "\t<tr><th scope=row>Alcohol intake (%)</th><td>Over 12 alcohol drinks/1 yr </td><td>  116 (67.8) </td><td>    9 ( 81.8) </td><td>  186 (65.0) </td><td>   62 (74.7) </td><td> 0.285</td><td></td></tr>\n",
       "\t<tr><th scope=row></th><td>Under 12 alcohol drinks/1 yr</td><td>   55 (32.2) </td><td>    2 ( 18.2) </td><td>  100 (35.0) </td><td>   21 (25.3) </td><td>      </td><td></td></tr>\n",
       "\t<tr><th scope=row>Heart Failure (%)</th><td>Yes                         </td><td>    7 ( 4.1) </td><td>    0 (  0.0) </td><td>   18 ( 6.3) </td><td>    4 ( 4.8) </td><td> 0.632</td><td></td></tr>\n",
       "\t<tr><th scope=row></th><td>No                          </td><td>  164 (95.9) </td><td>   11 (100.0) </td><td>  268 (93.7) </td><td>   79 (95.2) </td><td>      </td><td></td></tr>\n",
       "\t<tr><th scope=row>Coronary Heart (%)</th><td>Yes                         </td><td>   15 ( 8.8) </td><td>    0 (  0.0) </td><td>   22 ( 7.7) </td><td>    7 ( 8.4) </td><td> 0.764</td><td></td></tr>\n",
       "\t<tr><th scope=row></th><td>No                          </td><td>  156 (91.2) </td><td>   11 (100.0) </td><td>  264 (92.3) </td><td>   76 (91.6) </td><td>      </td><td></td></tr>\n",
       "\t<tr><th scope=row>Angina (%)</th><td>Yes                         </td><td>    7 ( 4.1) </td><td>    0 (  0.0) </td><td>   16 ( 5.6) </td><td>    4 ( 4.8) </td><td> 0.776</td><td></td></tr>\n",
       "\t<tr><th scope=row></th><td>No                          </td><td>  164 (95.9) </td><td>   11 (100.0) </td><td>  270 (94.4) </td><td>   79 (95.2) </td><td>      </td><td></td></tr>\n",
       "\t<tr><th scope=row>Heart Attack (%)</th><td>Yes                         </td><td>   10 ( 5.8) </td><td>    0 (  0.0) </td><td>   25 ( 8.7) </td><td>    8 ( 9.6) </td><td> 0.461</td><td></td></tr>\n",
       "\t<tr><th scope=row></th><td>No                          </td><td>  161 (94.2) </td><td>   11 (100.0) </td><td>  261 (91.3) </td><td>   75 (90.4) </td><td>      </td><td></td></tr>\n",
       "\t<tr><th scope=row>Stroke (%)</th><td>Yes                         </td><td>   11 ( 6.4) </td><td>    1 (  9.1) </td><td>   24 ( 8.4) </td><td>    6 ( 7.2) </td><td> 0.888</td><td></td></tr>\n",
       "\t<tr><th scope=row></th><td>No                          </td><td>  160 (93.6) </td><td>   10 ( 90.9) </td><td>  262 (91.6) </td><td>   77 (92.8) </td><td>      </td><td></td></tr>\n",
       "\t<tr><th scope=row>Cancer (%)</th><td>Yes                         </td><td>   34 (19.9) </td><td>    4 ( 36.4) </td><td>   53 (18.5) </td><td>   17 (20.5) </td><td> 0.528</td><td></td></tr>\n",
       "\t<tr><th scope=row></th><td>No                          </td><td>  137 (80.1) </td><td>    7 ( 63.6) </td><td>  233 (81.5) </td><td>   66 (79.5) </td><td>      </td><td></td></tr>\n",
       "\t<tr><th scope=row>Liver (%)</th><td>Yes                         </td><td>   12 ( 7.0) </td><td>    1 (  9.1) </td><td>   14 ( 4.9) </td><td>    6 ( 7.2) </td><td> 0.719</td><td></td></tr>\n",
       "\t<tr><th scope=row></th><td>No                          </td><td>  159 (93.0) </td><td>   10 ( 90.9) </td><td>  272 (95.1) </td><td>   77 (92.8) </td><td>      </td><td></td></tr>\n",
       "\t<tr><th scope=row>Hypertension (%)</th><td>Yes                         </td><td>  118 (69.0) </td><td>    8 ( 72.7) </td><td>  188 (65.7) </td><td>   59 (71.1) </td><td> 0.753</td><td></td></tr>\n",
       "\t<tr><th scope=row></th><td>No                          </td><td>   53 (31.0) </td><td>    3 ( 27.3) </td><td>   98 (34.3) </td><td>   24 (28.9) </td><td>      </td><td></td></tr>\n",
       "\t<tr><th scope=row>Diabetes (%)</th><td>Yes                         </td><td>   45 (26.3) </td><td>    2 ( 18.2) </td><td>  109 (38.1) </td><td>   27 (32.5) </td><td> 0.140</td><td></td></tr>\n",
       "\t<tr><th scope=row></th><td>No                          </td><td>  113 (66.1) </td><td>    9 ( 81.8) </td><td>  156 (54.5) </td><td>   51 (61.4) </td><td>      </td><td></td></tr>\n",
       "\t<tr><th scope=row></th><td>Borderline                  </td><td>   13 ( 7.6) </td><td>    0 (  0.0) </td><td>   21 ( 7.3) </td><td>    5 ( 6.0) </td><td>      </td><td></td></tr>\n",
       "</tbody>\n",
       "</table>\n",
       "</dd>\n",
       "\t<dt>$Overall</dt>\n",
       "\t\t<dd><table class=\"dataframe\">\n",
       "<caption>A matrix: 38 x 2 of type chr</caption>\n",
       "<thead>\n",
       "\t<tr><th></th><th scope=col>level</th><th scope=col>Overall</th></tr>\n",
       "</thead>\n",
       "<tbody>\n",
       "\t<tr><th scope=row>n</th><td>                            </td><td>  551        </td></tr>\n",
       "\t<tr><th scope=row>Age (years) (mean (SD))</th><td>                            </td><td>68.54 (6.76) </td></tr>\n",
       "\t<tr><th scope=row>Ratio of family income (mean (SD))</th><td>                            </td><td> 2.64 (1.59) </td></tr>\n",
       "\t<tr><th scope=row>Gender (%)</th><td>Male                        </td><td>  292 (53.0) </td></tr>\n",
       "\t<tr><th scope=row></th><td>Female                      </td><td>  259 (47.0) </td></tr>\n",
       "\t<tr><th scope=row>Ethnicity (%)</th><td>Mexican American            </td><td>   59 (10.7) </td></tr>\n",
       "\t<tr><th scope=row></th><td>Other Hispanic              </td><td>   47 ( 8.5) </td></tr>\n",
       "\t<tr><th scope=row></th><td>Non-Hispanic White          </td><td>  253 (45.9) </td></tr>\n",
       "\t<tr><th scope=row></th><td>Non-Hispanic Black          </td><td>  166 (30.1) </td></tr>\n",
       "\t<tr><th scope=row></th><td>Other Race                  </td><td>   26 ( 4.7) </td></tr>\n",
       "\t<tr><th scope=row>Education (%)</th><td>Less than 9th grade         </td><td>   63 (11.4) </td></tr>\n",
       "\t<tr><th scope=row></th><td>9-11th grade                </td><td>   80 (14.5) </td></tr>\n",
       "\t<tr><th scope=row></th><td>High school graduate        </td><td>  124 (22.5) </td></tr>\n",
       "\t<tr><th scope=row></th><td>Some college/AA degree      </td><td>  165 (29.9) </td></tr>\n",
       "\t<tr><th scope=row></th><td>College graduate or above   </td><td>  119 (21.6) </td></tr>\n",
       "\t<tr><th scope=row>Smoking (%)</th><td>Yes                         </td><td>  286 (51.9) </td></tr>\n",
       "\t<tr><th scope=row></th><td>No                          </td><td>  265 (48.1) </td></tr>\n",
       "\t<tr><th scope=row>Alcohol intake (%)</th><td>Over 12 alcohol drinks/1 yr </td><td>  373 (67.7) </td></tr>\n",
       "\t<tr><th scope=row></th><td>Under 12 alcohol drinks/1 yr</td><td>  178 (32.3) </td></tr>\n",
       "\t<tr><th scope=row>Heart Failure (%)</th><td>Yes                         </td><td>   29 ( 5.3) </td></tr>\n",
       "\t<tr><th scope=row></th><td>No                          </td><td>  522 (94.7) </td></tr>\n",
       "\t<tr><th scope=row>Coronary Heart (%)</th><td>Yes                         </td><td>   44 ( 8.0) </td></tr>\n",
       "\t<tr><th scope=row></th><td>No                          </td><td>  507 (92.0) </td></tr>\n",
       "\t<tr><th scope=row>Angina (%)</th><td>Yes                         </td><td>   27 ( 4.9) </td></tr>\n",
       "\t<tr><th scope=row></th><td>No                          </td><td>  524 (95.1) </td></tr>\n",
       "\t<tr><th scope=row>Heart Attack (%)</th><td>Yes                         </td><td>   43 ( 7.8) </td></tr>\n",
       "\t<tr><th scope=row></th><td>No                          </td><td>  508 (92.2) </td></tr>\n",
       "\t<tr><th scope=row>Stroke (%)</th><td>Yes                         </td><td>   42 ( 7.6) </td></tr>\n",
       "\t<tr><th scope=row></th><td>No                          </td><td>  509 (92.4) </td></tr>\n",
       "\t<tr><th scope=row>Cancer (%)</th><td>Yes                         </td><td>  108 (19.6) </td></tr>\n",
       "\t<tr><th scope=row></th><td>No                          </td><td>  443 (80.4) </td></tr>\n",
       "\t<tr><th scope=row>Liver (%)</th><td>Yes                         </td><td>   33 ( 6.0) </td></tr>\n",
       "\t<tr><th scope=row></th><td>No                          </td><td>  518 (94.0) </td></tr>\n",
       "\t<tr><th scope=row>Hypertension (%)</th><td>Yes                         </td><td>  373 (67.7) </td></tr>\n",
       "\t<tr><th scope=row></th><td>No                          </td><td>  178 (32.3) </td></tr>\n",
       "\t<tr><th scope=row>Diabetes (%)</th><td>Yes                         </td><td>  183 (33.2) </td></tr>\n",
       "\t<tr><th scope=row></th><td>No                          </td><td>  329 (59.7) </td></tr>\n",
       "\t<tr><th scope=row></th><td>Borderline                  </td><td>   39 ( 7.1) </td></tr>\n",
       "</tbody>\n",
       "</table>\n",
       "</dd>\n",
       "</dl>\n"
      ],
      "text/latex": [
       "\\begin{description}\n",
       "\\item[\\$`Stratified by periodontitis`] A matrix: 40 x 7 of type chr\n",
       "\\begin{tabular}{r|lllllll}\n",
       "  & level & None & Mild & Moderate & Severe & p & test\\\\\n",
       "\\hline\n",
       "\tn &                              &   171         &    11          &   286         &    83         &        & \\\\\n",
       "\tAge (years) (mean (SD)) &                              & 67.56 (6.50)  & 67.27 (6.63)   & 69.40 (6.85)  & 67.76 (6.75)  &  0.021 & \\\\\n",
       "\tRatio of family income (mean (SD)) &                              &  3.18 (1.61)  &  2.84 (1.41)   &  2.50 (1.54)  &  1.97 (1.41)  & <0.001 & \\\\\n",
       "\tMean PPD (mean (SD)) &                              &  1.33 (0.39)  &  1.97 (0.35)   &  1.81 (0.47)  &  2.85 (0.99)  & <0.001 & \\\\\n",
       "\tMean CAL (mean (SD)) &                              &  1.33 (0.60)  &  1.29 (0.20)   &  2.50 (1.09)  &  4.29 (2.03)  & <0.001 & \\\\\n",
       "\tGender (\\%) & Male                         &    72 (42.1)  &     6 ( 54.5)  &   154 (53.8)  &    60 (72.3)  & <0.001 & \\\\\n",
       "\t & Female                       &    99 (57.9)  &     5 ( 45.5)  &   132 (46.2)  &    23 (27.7)  &        & \\\\\n",
       "\tEthnicity (\\%) & Mexican American             &    10 ( 5.8)  &     1 (  9.1)  &    28 ( 9.8)  &    20 (24.1)  & <0.001 & \\\\\n",
       "\t & Other Hispanic               &    19 (11.1)  &     1 (  9.1)  &    23 ( 8.0)  &     4 ( 4.8)  &        & \\\\\n",
       "\t & Non-Hispanic White           &    97 (56.7)  &     6 ( 54.5)  &   127 (44.4)  &    23 (27.7)  &        & \\\\\n",
       "\t & Non-Hispanic Black           &    34 (19.9)  &     3 ( 27.3)  &    95 (33.2)  &    34 (41.0)  &        & \\\\\n",
       "\t & Other Race                   &    11 ( 6.4)  &     0 (  0.0)  &    13 ( 4.5)  &     2 ( 2.4)  &        & \\\\\n",
       "\tEducation (\\%) & Less than 9th grade          &    11 ( 6.4)  &     1 (  9.1)  &    36 (12.6)  &    15 (18.1)  &  0.006 & \\\\\n",
       "\t & 9-11th grade                 &    18 (10.5)  &     1 (  9.1)  &    42 (14.7)  &    19 (22.9)  &        & \\\\\n",
       "\t & High school graduate         &    32 (18.7)  &     3 ( 27.3)  &    71 (24.8)  &    18 (21.7)  &        & \\\\\n",
       "\t & Some college/AA degree       &    60 (35.1)  &     5 ( 45.5)  &    79 (27.6)  &    21 (25.3)  &        & \\\\\n",
       "\t & College graduate or above    &    50 (29.2)  &     1 (  9.1)  &    58 (20.3)  &    10 (12.0)  &        & \\\\\n",
       "\tSmoking (\\%) & Yes                          &    75 (43.9)  &     4 ( 36.4)  &   164 (57.3)  &    43 (51.8)  &  0.031 & \\\\\n",
       "\t & No                           &    96 (56.1)  &     7 ( 63.6)  &   122 (42.7)  &    40 (48.2)  &        & \\\\\n",
       "\tAlcohol intake (\\%) & Over 12 alcohol drinks/1 yr  &   116 (67.8)  &     9 ( 81.8)  &   186 (65.0)  &    62 (74.7)  &  0.285 & \\\\\n",
       "\t & Under 12 alcohol drinks/1 yr &    55 (32.2)  &     2 ( 18.2)  &   100 (35.0)  &    21 (25.3)  &        & \\\\\n",
       "\tHeart Failure (\\%) & Yes                          &     7 ( 4.1)  &     0 (  0.0)  &    18 ( 6.3)  &     4 ( 4.8)  &  0.632 & \\\\\n",
       "\t & No                           &   164 (95.9)  &    11 (100.0)  &   268 (93.7)  &    79 (95.2)  &        & \\\\\n",
       "\tCoronary Heart (\\%) & Yes                          &    15 ( 8.8)  &     0 (  0.0)  &    22 ( 7.7)  &     7 ( 8.4)  &  0.764 & \\\\\n",
       "\t & No                           &   156 (91.2)  &    11 (100.0)  &   264 (92.3)  &    76 (91.6)  &        & \\\\\n",
       "\tAngina (\\%) & Yes                          &     7 ( 4.1)  &     0 (  0.0)  &    16 ( 5.6)  &     4 ( 4.8)  &  0.776 & \\\\\n",
       "\t & No                           &   164 (95.9)  &    11 (100.0)  &   270 (94.4)  &    79 (95.2)  &        & \\\\\n",
       "\tHeart Attack (\\%) & Yes                          &    10 ( 5.8)  &     0 (  0.0)  &    25 ( 8.7)  &     8 ( 9.6)  &  0.461 & \\\\\n",
       "\t & No                           &   161 (94.2)  &    11 (100.0)  &   261 (91.3)  &    75 (90.4)  &        & \\\\\n",
       "\tStroke (\\%) & Yes                          &    11 ( 6.4)  &     1 (  9.1)  &    24 ( 8.4)  &     6 ( 7.2)  &  0.888 & \\\\\n",
       "\t & No                           &   160 (93.6)  &    10 ( 90.9)  &   262 (91.6)  &    77 (92.8)  &        & \\\\\n",
       "\tCancer (\\%) & Yes                          &    34 (19.9)  &     4 ( 36.4)  &    53 (18.5)  &    17 (20.5)  &  0.528 & \\\\\n",
       "\t & No                           &   137 (80.1)  &     7 ( 63.6)  &   233 (81.5)  &    66 (79.5)  &        & \\\\\n",
       "\tLiver (\\%) & Yes                          &    12 ( 7.0)  &     1 (  9.1)  &    14 ( 4.9)  &     6 ( 7.2)  &  0.719 & \\\\\n",
       "\t & No                           &   159 (93.0)  &    10 ( 90.9)  &   272 (95.1)  &    77 (92.8)  &        & \\\\\n",
       "\tHypertension (\\%) & Yes                          &   118 (69.0)  &     8 ( 72.7)  &   188 (65.7)  &    59 (71.1)  &  0.753 & \\\\\n",
       "\t & No                           &    53 (31.0)  &     3 ( 27.3)  &    98 (34.3)  &    24 (28.9)  &        & \\\\\n",
       "\tDiabetes (\\%) & Yes                          &    45 (26.3)  &     2 ( 18.2)  &   109 (38.1)  &    27 (32.5)  &  0.140 & \\\\\n",
       "\t & No                           &   113 (66.1)  &     9 ( 81.8)  &   156 (54.5)  &    51 (61.4)  &        & \\\\\n",
       "\t & Borderline                   &    13 ( 7.6)  &     0 (  0.0)  &    21 ( 7.3)  &     5 ( 6.0)  &        & \\\\\n",
       "\\end{tabular}\n",
       "\n",
       "\\item[\\$Overall] A matrix: 38 x 2 of type chr\n",
       "\\begin{tabular}{r|ll}\n",
       "  & level & Overall\\\\\n",
       "\\hline\n",
       "\tn &                              &   551        \\\\\n",
       "\tAge (years) (mean (SD)) &                              & 68.54 (6.76) \\\\\n",
       "\tRatio of family income (mean (SD)) &                              &  2.64 (1.59) \\\\\n",
       "\tGender (\\%) & Male                         &   292 (53.0) \\\\\n",
       "\t & Female                       &   259 (47.0) \\\\\n",
       "\tEthnicity (\\%) & Mexican American             &    59 (10.7) \\\\\n",
       "\t & Other Hispanic               &    47 ( 8.5) \\\\\n",
       "\t & Non-Hispanic White           &   253 (45.9) \\\\\n",
       "\t & Non-Hispanic Black           &   166 (30.1) \\\\\n",
       "\t & Other Race                   &    26 ( 4.7) \\\\\n",
       "\tEducation (\\%) & Less than 9th grade          &    63 (11.4) \\\\\n",
       "\t & 9-11th grade                 &    80 (14.5) \\\\\n",
       "\t & High school graduate         &   124 (22.5) \\\\\n",
       "\t & Some college/AA degree       &   165 (29.9) \\\\\n",
       "\t & College graduate or above    &   119 (21.6) \\\\\n",
       "\tSmoking (\\%) & Yes                          &   286 (51.9) \\\\\n",
       "\t & No                           &   265 (48.1) \\\\\n",
       "\tAlcohol intake (\\%) & Over 12 alcohol drinks/1 yr  &   373 (67.7) \\\\\n",
       "\t & Under 12 alcohol drinks/1 yr &   178 (32.3) \\\\\n",
       "\tHeart Failure (\\%) & Yes                          &    29 ( 5.3) \\\\\n",
       "\t & No                           &   522 (94.7) \\\\\n",
       "\tCoronary Heart (\\%) & Yes                          &    44 ( 8.0) \\\\\n",
       "\t & No                           &   507 (92.0) \\\\\n",
       "\tAngina (\\%) & Yes                          &    27 ( 4.9) \\\\\n",
       "\t & No                           &   524 (95.1) \\\\\n",
       "\tHeart Attack (\\%) & Yes                          &    43 ( 7.8) \\\\\n",
       "\t & No                           &   508 (92.2) \\\\\n",
       "\tStroke (\\%) & Yes                          &    42 ( 7.6) \\\\\n",
       "\t & No                           &   509 (92.4) \\\\\n",
       "\tCancer (\\%) & Yes                          &   108 (19.6) \\\\\n",
       "\t & No                           &   443 (80.4) \\\\\n",
       "\tLiver (\\%) & Yes                          &    33 ( 6.0) \\\\\n",
       "\t & No                           &   518 (94.0) \\\\\n",
       "\tHypertension (\\%) & Yes                          &   373 (67.7) \\\\\n",
       "\t & No                           &   178 (32.3) \\\\\n",
       "\tDiabetes (\\%) & Yes                          &   183 (33.2) \\\\\n",
       "\t & No                           &   329 (59.7) \\\\\n",
       "\t & Borderline                   &    39 ( 7.1) \\\\\n",
       "\\end{tabular}\n",
       "\n",
       "\\end{description}\n"
      ],
      "text/markdown": [
       "$`Stratified by periodontitis`\n",
       ":   \n",
       "A matrix: 40 x 7 of type chr\n",
       "\n",
       "| <!--/--> | level | None | Mild | Moderate | Severe | p | test |\n",
       "|---|---|---|---|---|---|---|---|\n",
       "| n | <!----> |   171         |    11          |   286         |    83         | <!----> | <!----> |\n",
       "| Age (years) (mean (SD)) | <!----> | 67.56 (6.50)  | 67.27 (6.63)   | 69.40 (6.85)  | 67.76 (6.75)  |  0.021 | <!----> |\n",
       "| Ratio of family income (mean (SD)) | <!----> |  3.18 (1.61)  |  2.84 (1.41)   |  2.50 (1.54)  |  1.97 (1.41)  | &lt;0.001 | <!----> |\n",
       "| Mean PPD (mean (SD)) | <!----> |  1.33 (0.39)  |  1.97 (0.35)   |  1.81 (0.47)  |  2.85 (0.99)  | &lt;0.001 | <!----> |\n",
       "| Mean CAL (mean (SD)) | <!----> |  1.33 (0.60)  |  1.29 (0.20)   |  2.50 (1.09)  |  4.29 (2.03)  | &lt;0.001 | <!----> |\n",
       "| Gender (%) | Male                         |    72 (42.1)  |     6 ( 54.5)  |   154 (53.8)  |    60 (72.3)  | &lt;0.001 | <!----> |\n",
       "| <!----> | Female                       |    99 (57.9)  |     5 ( 45.5)  |   132 (46.2)  |    23 (27.7)  | <!----> | <!----> |\n",
       "| Ethnicity (%) | Mexican American             |    10 ( 5.8)  |     1 (  9.1)  |    28 ( 9.8)  |    20 (24.1)  | &lt;0.001 | <!----> |\n",
       "| <!----> | Other Hispanic               |    19 (11.1)  |     1 (  9.1)  |    23 ( 8.0)  |     4 ( 4.8)  | <!----> | <!----> |\n",
       "| <!----> | Non-Hispanic White           |    97 (56.7)  |     6 ( 54.5)  |   127 (44.4)  |    23 (27.7)  | <!----> | <!----> |\n",
       "| <!----> | Non-Hispanic Black           |    34 (19.9)  |     3 ( 27.3)  |    95 (33.2)  |    34 (41.0)  | <!----> | <!----> |\n",
       "| <!----> | Other Race                   |    11 ( 6.4)  |     0 (  0.0)  |    13 ( 4.5)  |     2 ( 2.4)  | <!----> | <!----> |\n",
       "| Education (%) | Less than 9th grade          |    11 ( 6.4)  |     1 (  9.1)  |    36 (12.6)  |    15 (18.1)  |  0.006 | <!----> |\n",
       "| <!----> | 9-11th grade                 |    18 (10.5)  |     1 (  9.1)  |    42 (14.7)  |    19 (22.9)  | <!----> | <!----> |\n",
       "| <!----> | High school graduate         |    32 (18.7)  |     3 ( 27.3)  |    71 (24.8)  |    18 (21.7)  | <!----> | <!----> |\n",
       "| <!----> | Some college/AA degree       |    60 (35.1)  |     5 ( 45.5)  |    79 (27.6)  |    21 (25.3)  | <!----> | <!----> |\n",
       "| <!----> | College graduate or above    |    50 (29.2)  |     1 (  9.1)  |    58 (20.3)  |    10 (12.0)  | <!----> | <!----> |\n",
       "| Smoking (%) | Yes                          |    75 (43.9)  |     4 ( 36.4)  |   164 (57.3)  |    43 (51.8)  |  0.031 | <!----> |\n",
       "| <!----> | No                           |    96 (56.1)  |     7 ( 63.6)  |   122 (42.7)  |    40 (48.2)  | <!----> | <!----> |\n",
       "| Alcohol intake (%) | Over 12 alcohol drinks/1 yr  |   116 (67.8)  |     9 ( 81.8)  |   186 (65.0)  |    62 (74.7)  |  0.285 | <!----> |\n",
       "| <!----> | Under 12 alcohol drinks/1 yr |    55 (32.2)  |     2 ( 18.2)  |   100 (35.0)  |    21 (25.3)  | <!----> | <!----> |\n",
       "| Heart Failure (%) | Yes                          |     7 ( 4.1)  |     0 (  0.0)  |    18 ( 6.3)  |     4 ( 4.8)  |  0.632 | <!----> |\n",
       "| <!----> | No                           |   164 (95.9)  |    11 (100.0)  |   268 (93.7)  |    79 (95.2)  | <!----> | <!----> |\n",
       "| Coronary Heart (%) | Yes                          |    15 ( 8.8)  |     0 (  0.0)  |    22 ( 7.7)  |     7 ( 8.4)  |  0.764 | <!----> |\n",
       "| <!----> | No                           |   156 (91.2)  |    11 (100.0)  |   264 (92.3)  |    76 (91.6)  | <!----> | <!----> |\n",
       "| Angina (%) | Yes                          |     7 ( 4.1)  |     0 (  0.0)  |    16 ( 5.6)  |     4 ( 4.8)  |  0.776 | <!----> |\n",
       "| <!----> | No                           |   164 (95.9)  |    11 (100.0)  |   270 (94.4)  |    79 (95.2)  | <!----> | <!----> |\n",
       "| Heart Attack (%) | Yes                          |    10 ( 5.8)  |     0 (  0.0)  |    25 ( 8.7)  |     8 ( 9.6)  |  0.461 | <!----> |\n",
       "| <!----> | No                           |   161 (94.2)  |    11 (100.0)  |   261 (91.3)  |    75 (90.4)  | <!----> | <!----> |\n",
       "| Stroke (%) | Yes                          |    11 ( 6.4)  |     1 (  9.1)  |    24 ( 8.4)  |     6 ( 7.2)  |  0.888 | <!----> |\n",
       "| <!----> | No                           |   160 (93.6)  |    10 ( 90.9)  |   262 (91.6)  |    77 (92.8)  | <!----> | <!----> |\n",
       "| Cancer (%) | Yes                          |    34 (19.9)  |     4 ( 36.4)  |    53 (18.5)  |    17 (20.5)  |  0.528 | <!----> |\n",
       "| <!----> | No                           |   137 (80.1)  |     7 ( 63.6)  |   233 (81.5)  |    66 (79.5)  | <!----> | <!----> |\n",
       "| Liver (%) | Yes                          |    12 ( 7.0)  |     1 (  9.1)  |    14 ( 4.9)  |     6 ( 7.2)  |  0.719 | <!----> |\n",
       "| <!----> | No                           |   159 (93.0)  |    10 ( 90.9)  |   272 (95.1)  |    77 (92.8)  | <!----> | <!----> |\n",
       "| Hypertension (%) | Yes                          |   118 (69.0)  |     8 ( 72.7)  |   188 (65.7)  |    59 (71.1)  |  0.753 | <!----> |\n",
       "| <!----> | No                           |    53 (31.0)  |     3 ( 27.3)  |    98 (34.3)  |    24 (28.9)  | <!----> | <!----> |\n",
       "| Diabetes (%) | Yes                          |    45 (26.3)  |     2 ( 18.2)  |   109 (38.1)  |    27 (32.5)  |  0.140 | <!----> |\n",
       "| <!----> | No                           |   113 (66.1)  |     9 ( 81.8)  |   156 (54.5)  |    51 (61.4)  | <!----> | <!----> |\n",
       "| <!----> | Borderline                   |    13 ( 7.6)  |     0 (  0.0)  |    21 ( 7.3)  |     5 ( 6.0)  | <!----> | <!----> |\n",
       "\n",
       "\n",
       "$Overall\n",
       ":   \n",
       "A matrix: 38 x 2 of type chr\n",
       "\n",
       "| <!--/--> | level | Overall |\n",
       "|---|---|---|\n",
       "| n | <!----> |   551         |\n",
       "| Age (years) (mean (SD)) | <!----> | 68.54 (6.76)  |\n",
       "| Ratio of family income (mean (SD)) | <!----> |  2.64 (1.59)  |\n",
       "| Gender (%) | Male                         |   292 (53.0)  |\n",
       "| <!----> | Female                       |   259 (47.0)  |\n",
       "| Ethnicity (%) | Mexican American             |    59 (10.7)  |\n",
       "| <!----> | Other Hispanic               |    47 ( 8.5)  |\n",
       "| <!----> | Non-Hispanic White           |   253 (45.9)  |\n",
       "| <!----> | Non-Hispanic Black           |   166 (30.1)  |\n",
       "| <!----> | Other Race                   |    26 ( 4.7)  |\n",
       "| Education (%) | Less than 9th grade          |    63 (11.4)  |\n",
       "| <!----> | 9-11th grade                 |    80 (14.5)  |\n",
       "| <!----> | High school graduate         |   124 (22.5)  |\n",
       "| <!----> | Some college/AA degree       |   165 (29.9)  |\n",
       "| <!----> | College graduate or above    |   119 (21.6)  |\n",
       "| Smoking (%) | Yes                          |   286 (51.9)  |\n",
       "| <!----> | No                           |   265 (48.1)  |\n",
       "| Alcohol intake (%) | Over 12 alcohol drinks/1 yr  |   373 (67.7)  |\n",
       "| <!----> | Under 12 alcohol drinks/1 yr |   178 (32.3)  |\n",
       "| Heart Failure (%) | Yes                          |    29 ( 5.3)  |\n",
       "| <!----> | No                           |   522 (94.7)  |\n",
       "| Coronary Heart (%) | Yes                          |    44 ( 8.0)  |\n",
       "| <!----> | No                           |   507 (92.0)  |\n",
       "| Angina (%) | Yes                          |    27 ( 4.9)  |\n",
       "| <!----> | No                           |   524 (95.1)  |\n",
       "| Heart Attack (%) | Yes                          |    43 ( 7.8)  |\n",
       "| <!----> | No                           |   508 (92.2)  |\n",
       "| Stroke (%) | Yes                          |    42 ( 7.6)  |\n",
       "| <!----> | No                           |   509 (92.4)  |\n",
       "| Cancer (%) | Yes                          |   108 (19.6)  |\n",
       "| <!----> | No                           |   443 (80.4)  |\n",
       "| Liver (%) | Yes                          |    33 ( 6.0)  |\n",
       "| <!----> | No                           |   518 (94.0)  |\n",
       "| Hypertension (%) | Yes                          |   373 (67.7)  |\n",
       "| <!----> | No                           |   178 (32.3)  |\n",
       "| Diabetes (%) | Yes                          |   183 (33.2)  |\n",
       "| <!----> | No                           |   329 (59.7)  |\n",
       "| <!----> | Borderline                   |    39 ( 7.1)  |\n",
       "\n",
       "\n",
       "\n",
       "\n"
      ],
      "text/plain": [
       "$`Stratified by periodontitis`\n",
       "                                    Stratified by periodontitis\n",
       "                                     level                         \n",
       "  n                                  \"\"                            \n",
       "  Age (years) (mean (SD))            \"\"                            \n",
       "  Ratio of family income (mean (SD)) \"\"                            \n",
       "  Mean PPD (mean (SD))               \"\"                            \n",
       "  Mean CAL (mean (SD))               \"\"                            \n",
       "  Gender (%)                         \"Male\"                        \n",
       "                                     \"Female\"                      \n",
       "  Ethnicity (%)                      \"Mexican American\"            \n",
       "                                     \"Other Hispanic\"              \n",
       "                                     \"Non-Hispanic White\"          \n",
       "                                     \"Non-Hispanic Black\"          \n",
       "                                     \"Other Race\"                  \n",
       "  Education (%)                      \"Less than 9th grade\"         \n",
       "                                     \"9-11th grade\"                \n",
       "                                     \"High school graduate\"        \n",
       "                                     \"Some college/AA degree\"      \n",
       "                                     \"College graduate or above\"   \n",
       "  Smoking (%)                        \"Yes\"                         \n",
       "                                     \"No\"                          \n",
       "  Alcohol intake (%)                 \"Over 12 alcohol drinks/1 yr\" \n",
       "                                     \"Under 12 alcohol drinks/1 yr\"\n",
       "  Heart Failure (%)                  \"Yes\"                         \n",
       "                                     \"No\"                          \n",
       "  Coronary Heart (%)                 \"Yes\"                         \n",
       "                                     \"No\"                          \n",
       "  Angina (%)                         \"Yes\"                         \n",
       "                                     \"No\"                          \n",
       "  Heart Attack (%)                   \"Yes\"                         \n",
       "                                     \"No\"                          \n",
       "  Stroke (%)                         \"Yes\"                         \n",
       "                                     \"No\"                          \n",
       "  Cancer (%)                         \"Yes\"                         \n",
       "                                     \"No\"                          \n",
       "  Liver (%)                          \"Yes\"                         \n",
       "                                     \"No\"                          \n",
       "  Hypertension (%)                   \"Yes\"                         \n",
       "                                     \"No\"                          \n",
       "  Diabetes (%)                       \"Yes\"                         \n",
       "                                     \"No\"                          \n",
       "                                     \"Borderline\"                  \n",
       "                                    Stratified by periodontitis\n",
       "                                     None            Mild            \n",
       "  n                                  \"  171\"         \"   11\"         \n",
       "  Age (years) (mean (SD))            \"67.56 (6.50)\"  \"67.27 (6.63)\"  \n",
       "  Ratio of family income (mean (SD)) \" 3.18 (1.61)\"  \" 2.84 (1.41)\"  \n",
       "  Mean PPD (mean (SD))               \" 1.33 (0.39)\"  \" 1.97 (0.35)\"  \n",
       "  Mean CAL (mean (SD))               \" 1.33 (0.60)\"  \" 1.29 (0.20)\"  \n",
       "  Gender (%)                         \"   72 (42.1) \" \"    6 ( 54.5) \"\n",
       "                                     \"   99 (57.9) \" \"    5 ( 45.5) \"\n",
       "  Ethnicity (%)                      \"   10 ( 5.8) \" \"    1 (  9.1) \"\n",
       "                                     \"   19 (11.1) \" \"    1 (  9.1) \"\n",
       "                                     \"   97 (56.7) \" \"    6 ( 54.5) \"\n",
       "                                     \"   34 (19.9) \" \"    3 ( 27.3) \"\n",
       "                                     \"   11 ( 6.4) \" \"    0 (  0.0) \"\n",
       "  Education (%)                      \"   11 ( 6.4) \" \"    1 (  9.1) \"\n",
       "                                     \"   18 (10.5) \" \"    1 (  9.1) \"\n",
       "                                     \"   32 (18.7) \" \"    3 ( 27.3) \"\n",
       "                                     \"   60 (35.1) \" \"    5 ( 45.5) \"\n",
       "                                     \"   50 (29.2) \" \"    1 (  9.1) \"\n",
       "  Smoking (%)                        \"   75 (43.9) \" \"    4 ( 36.4) \"\n",
       "                                     \"   96 (56.1) \" \"    7 ( 63.6) \"\n",
       "  Alcohol intake (%)                 \"  116 (67.8) \" \"    9 ( 81.8) \"\n",
       "                                     \"   55 (32.2) \" \"    2 ( 18.2) \"\n",
       "  Heart Failure (%)                  \"    7 ( 4.1) \" \"    0 (  0.0) \"\n",
       "                                     \"  164 (95.9) \" \"   11 (100.0) \"\n",
       "  Coronary Heart (%)                 \"   15 ( 8.8) \" \"    0 (  0.0) \"\n",
       "                                     \"  156 (91.2) \" \"   11 (100.0) \"\n",
       "  Angina (%)                         \"    7 ( 4.1) \" \"    0 (  0.0) \"\n",
       "                                     \"  164 (95.9) \" \"   11 (100.0) \"\n",
       "  Heart Attack (%)                   \"   10 ( 5.8) \" \"    0 (  0.0) \"\n",
       "                                     \"  161 (94.2) \" \"   11 (100.0) \"\n",
       "  Stroke (%)                         \"   11 ( 6.4) \" \"    1 (  9.1) \"\n",
       "                                     \"  160 (93.6) \" \"   10 ( 90.9) \"\n",
       "  Cancer (%)                         \"   34 (19.9) \" \"    4 ( 36.4) \"\n",
       "                                     \"  137 (80.1) \" \"    7 ( 63.6) \"\n",
       "  Liver (%)                          \"   12 ( 7.0) \" \"    1 (  9.1) \"\n",
       "                                     \"  159 (93.0) \" \"   10 ( 90.9) \"\n",
       "  Hypertension (%)                   \"  118 (69.0) \" \"    8 ( 72.7) \"\n",
       "                                     \"   53 (31.0) \" \"    3 ( 27.3) \"\n",
       "  Diabetes (%)                       \"   45 (26.3) \" \"    2 ( 18.2) \"\n",
       "                                     \"  113 (66.1) \" \"    9 ( 81.8) \"\n",
       "                                     \"   13 ( 7.6) \" \"    0 (  0.0) \"\n",
       "                                    Stratified by periodontitis\n",
       "                                     Moderate        Severe          p       \n",
       "  n                                  \"  286\"         \"   83\"         \"\"      \n",
       "  Age (years) (mean (SD))            \"69.40 (6.85)\"  \"67.76 (6.75)\"  \" 0.021\"\n",
       "  Ratio of family income (mean (SD)) \" 2.50 (1.54)\"  \" 1.97 (1.41)\"  \"<0.001\"\n",
       "  Mean PPD (mean (SD))               \" 1.81 (0.47)\"  \" 2.85 (0.99)\"  \"<0.001\"\n",
       "  Mean CAL (mean (SD))               \" 2.50 (1.09)\"  \" 4.29 (2.03)\"  \"<0.001\"\n",
       "  Gender (%)                         \"  154 (53.8) \" \"   60 (72.3) \" \"<0.001\"\n",
       "                                     \"  132 (46.2) \" \"   23 (27.7) \" \"\"      \n",
       "  Ethnicity (%)                      \"   28 ( 9.8) \" \"   20 (24.1) \" \"<0.001\"\n",
       "                                     \"   23 ( 8.0) \" \"    4 ( 4.8) \" \"\"      \n",
       "                                     \"  127 (44.4) \" \"   23 (27.7) \" \"\"      \n",
       "                                     \"   95 (33.2) \" \"   34 (41.0) \" \"\"      \n",
       "                                     \"   13 ( 4.5) \" \"    2 ( 2.4) \" \"\"      \n",
       "  Education (%)                      \"   36 (12.6) \" \"   15 (18.1) \" \" 0.006\"\n",
       "                                     \"   42 (14.7) \" \"   19 (22.9) \" \"\"      \n",
       "                                     \"   71 (24.8) \" \"   18 (21.7) \" \"\"      \n",
       "                                     \"   79 (27.6) \" \"   21 (25.3) \" \"\"      \n",
       "                                     \"   58 (20.3) \" \"   10 (12.0) \" \"\"      \n",
       "  Smoking (%)                        \"  164 (57.3) \" \"   43 (51.8) \" \" 0.031\"\n",
       "                                     \"  122 (42.7) \" \"   40 (48.2) \" \"\"      \n",
       "  Alcohol intake (%)                 \"  186 (65.0) \" \"   62 (74.7) \" \" 0.285\"\n",
       "                                     \"  100 (35.0) \" \"   21 (25.3) \" \"\"      \n",
       "  Heart Failure (%)                  \"   18 ( 6.3) \" \"    4 ( 4.8) \" \" 0.632\"\n",
       "                                     \"  268 (93.7) \" \"   79 (95.2) \" \"\"      \n",
       "  Coronary Heart (%)                 \"   22 ( 7.7) \" \"    7 ( 8.4) \" \" 0.764\"\n",
       "                                     \"  264 (92.3) \" \"   76 (91.6) \" \"\"      \n",
       "  Angina (%)                         \"   16 ( 5.6) \" \"    4 ( 4.8) \" \" 0.776\"\n",
       "                                     \"  270 (94.4) \" \"   79 (95.2) \" \"\"      \n",
       "  Heart Attack (%)                   \"   25 ( 8.7) \" \"    8 ( 9.6) \" \" 0.461\"\n",
       "                                     \"  261 (91.3) \" \"   75 (90.4) \" \"\"      \n",
       "  Stroke (%)                         \"   24 ( 8.4) \" \"    6 ( 7.2) \" \" 0.888\"\n",
       "                                     \"  262 (91.6) \" \"   77 (92.8) \" \"\"      \n",
       "  Cancer (%)                         \"   53 (18.5) \" \"   17 (20.5) \" \" 0.528\"\n",
       "                                     \"  233 (81.5) \" \"   66 (79.5) \" \"\"      \n",
       "  Liver (%)                          \"   14 ( 4.9) \" \"    6 ( 7.2) \" \" 0.719\"\n",
       "                                     \"  272 (95.1) \" \"   77 (92.8) \" \"\"      \n",
       "  Hypertension (%)                   \"  188 (65.7) \" \"   59 (71.1) \" \" 0.753\"\n",
       "                                     \"   98 (34.3) \" \"   24 (28.9) \" \"\"      \n",
       "  Diabetes (%)                       \"  109 (38.1) \" \"   27 (32.5) \" \" 0.140\"\n",
       "                                     \"  156 (54.5) \" \"   51 (61.4) \" \"\"      \n",
       "                                     \"   21 ( 7.3) \" \"    5 ( 6.0) \" \"\"      \n",
       "                                    Stratified by periodontitis\n",
       "                                     test\n",
       "  n                                  \"\"  \n",
       "  Age (years) (mean (SD))            \"\"  \n",
       "  Ratio of family income (mean (SD)) \"\"  \n",
       "  Mean PPD (mean (SD))               \"\"  \n",
       "  Mean CAL (mean (SD))               \"\"  \n",
       "  Gender (%)                         \"\"  \n",
       "                                     \"\"  \n",
       "  Ethnicity (%)                      \"\"  \n",
       "                                     \"\"  \n",
       "                                     \"\"  \n",
       "                                     \"\"  \n",
       "                                     \"\"  \n",
       "  Education (%)                      \"\"  \n",
       "                                     \"\"  \n",
       "                                     \"\"  \n",
       "                                     \"\"  \n",
       "                                     \"\"  \n",
       "  Smoking (%)                        \"\"  \n",
       "                                     \"\"  \n",
       "  Alcohol intake (%)                 \"\"  \n",
       "                                     \"\"  \n",
       "  Heart Failure (%)                  \"\"  \n",
       "                                     \"\"  \n",
       "  Coronary Heart (%)                 \"\"  \n",
       "                                     \"\"  \n",
       "  Angina (%)                         \"\"  \n",
       "                                     \"\"  \n",
       "  Heart Attack (%)                   \"\"  \n",
       "                                     \"\"  \n",
       "  Stroke (%)                         \"\"  \n",
       "                                     \"\"  \n",
       "  Cancer (%)                         \"\"  \n",
       "                                     \"\"  \n",
       "  Liver (%)                          \"\"  \n",
       "                                     \"\"  \n",
       "  Hypertension (%)                   \"\"  \n",
       "                                     \"\"  \n",
       "  Diabetes (%)                       \"\"  \n",
       "                                     \"\"  \n",
       "                                     \"\"  \n",
       "\n",
       "$Overall\n",
       "                                    \n",
       "                                     level                         \n",
       "  n                                  \"\"                            \n",
       "  Age (years) (mean (SD))            \"\"                            \n",
       "  Ratio of family income (mean (SD)) \"\"                            \n",
       "  Gender (%)                         \"Male\"                        \n",
       "                                     \"Female\"                      \n",
       "  Ethnicity (%)                      \"Mexican American\"            \n",
       "                                     \"Other Hispanic\"              \n",
       "                                     \"Non-Hispanic White\"          \n",
       "                                     \"Non-Hispanic Black\"          \n",
       "                                     \"Other Race\"                  \n",
       "  Education (%)                      \"Less than 9th grade\"         \n",
       "                                     \"9-11th grade\"                \n",
       "                                     \"High school graduate\"        \n",
       "                                     \"Some college/AA degree\"      \n",
       "                                     \"College graduate or above\"   \n",
       "  Smoking (%)                        \"Yes\"                         \n",
       "                                     \"No\"                          \n",
       "  Alcohol intake (%)                 \"Over 12 alcohol drinks/1 yr\" \n",
       "                                     \"Under 12 alcohol drinks/1 yr\"\n",
       "  Heart Failure (%)                  \"Yes\"                         \n",
       "                                     \"No\"                          \n",
       "  Coronary Heart (%)                 \"Yes\"                         \n",
       "                                     \"No\"                          \n",
       "  Angina (%)                         \"Yes\"                         \n",
       "                                     \"No\"                          \n",
       "  Heart Attack (%)                   \"Yes\"                         \n",
       "                                     \"No\"                          \n",
       "  Stroke (%)                         \"Yes\"                         \n",
       "                                     \"No\"                          \n",
       "  Cancer (%)                         \"Yes\"                         \n",
       "                                     \"No\"                          \n",
       "  Liver (%)                          \"Yes\"                         \n",
       "                                     \"No\"                          \n",
       "  Hypertension (%)                   \"Yes\"                         \n",
       "                                     \"No\"                          \n",
       "  Diabetes (%)                       \"Yes\"                         \n",
       "                                     \"No\"                          \n",
       "                                     \"Borderline\"                  \n",
       "                                    \n",
       "                                     Overall        \n",
       "  n                                  \"  551\"        \n",
       "  Age (years) (mean (SD))            \"68.54 (6.76)\" \n",
       "  Ratio of family income (mean (SD)) \" 2.64 (1.59)\" \n",
       "  Gender (%)                         \"  292 (53.0) \"\n",
       "                                     \"  259 (47.0) \"\n",
       "  Ethnicity (%)                      \"   59 (10.7) \"\n",
       "                                     \"   47 ( 8.5) \"\n",
       "                                     \"  253 (45.9) \"\n",
       "                                     \"  166 (30.1) \"\n",
       "                                     \"   26 ( 4.7) \"\n",
       "  Education (%)                      \"   63 (11.4) \"\n",
       "                                     \"   80 (14.5) \"\n",
       "                                     \"  124 (22.5) \"\n",
       "                                     \"  165 (29.9) \"\n",
       "                                     \"  119 (21.6) \"\n",
       "  Smoking (%)                        \"  286 (51.9) \"\n",
       "                                     \"  265 (48.1) \"\n",
       "  Alcohol intake (%)                 \"  373 (67.7) \"\n",
       "                                     \"  178 (32.3) \"\n",
       "  Heart Failure (%)                  \"   29 ( 5.3) \"\n",
       "                                     \"  522 (94.7) \"\n",
       "  Coronary Heart (%)                 \"   44 ( 8.0) \"\n",
       "                                     \"  507 (92.0) \"\n",
       "  Angina (%)                         \"   27 ( 4.9) \"\n",
       "                                     \"  524 (95.1) \"\n",
       "  Heart Attack (%)                   \"   43 ( 7.8) \"\n",
       "                                     \"  508 (92.2) \"\n",
       "  Stroke (%)                         \"   42 ( 7.6) \"\n",
       "                                     \"  509 (92.4) \"\n",
       "  Cancer (%)                         \"  108 (19.6) \"\n",
       "                                     \"  443 (80.4) \"\n",
       "  Liver (%)                          \"   33 ( 6.0) \"\n",
       "                                     \"  518 (94.0) \"\n",
       "  Hypertension (%)                   \"  373 (67.7) \"\n",
       "                                     \"  178 (32.3) \"\n",
       "  Diabetes (%)                       \"  183 (33.2) \"\n",
       "                                     \"  329 (59.7) \"\n",
       "                                     \"   39 ( 7.1) \"\n"
      ]
     },
     "metadata": {},
     "output_type": "display_data"
    }
   ],
   "source": [
    "descriptive_table <- create_descriptive_table(df)\n",
    "\n",
    "descriptive_table"
   ]
  },
  {
   "cell_type": "code",
   "execution_count": 95,
   "metadata": {
    "vscode": {
     "languageId": "r"
    }
   },
   "outputs": [],
   "source": [
    "# Save tables as csv files\n",
    "\n",
    "write.csv(descriptive_table$`Stratified by periodontitis`,\n",
    "          \"descriptive_table_stratified.csv\", row.names = TRUE)\n",
    "\n",
    "write.csv(descriptive_table$Overall,\n",
    "          \"descriptive_table_overall.csv\", row.names = TRUE)"
   ]
  },
  {
   "cell_type": "markdown",
   "metadata": {},
   "source": [
    "### Regression Analysis"
   ]
  },
  {
   "cell_type": "code",
   "execution_count": 20,
   "metadata": {
    "vscode": {
     "languageId": "r"
    }
   },
   "outputs": [],
   "source": [
    "# Recoding of the outcome with 3 levels: \"None/Mild\", \"Moderate\", \"Severe\"\n",
    "\n",
    "df <- df %>%\n",
    "  mutate(periodontitis = recode(periodontitis,\n",
    "                                \"Mild\" = \"None/Mild\",\n",
    "                                \"None\" = \"None/Mild\"))\n",
    "\n",
    "df$periodontitis <- factor(df$periodontitis,\n",
    "                           levels = c(\"None/Mild\", \"Moderate\", \"Severe\"),\n",
    "                           ordered = TRUE)"
   ]
  },
  {
   "cell_type": "code",
   "execution_count": 21,
   "metadata": {
    "vscode": {
     "languageId": "r"
    }
   },
   "outputs": [
    {
     "data": {
      "text/plain": [
       "\n",
       "None/Mild  Moderate    Severe \n",
       "      182       286        83 "
      ]
     },
     "metadata": {},
     "output_type": "display_data"
    }
   ],
   "source": [
    "table(df$periodontitis)"
   ]
  },
  {
   "cell_type": "code",
   "execution_count": 22,
   "metadata": {
    "vscode": {
     "languageId": "r"
    }
   },
   "outputs": [],
   "source": [
    "# Create a df copy (just in case)\n",
    "\n",
    "df_prove <- df"
   ]
  },
  {
   "cell_type": "code",
   "execution_count": null,
   "metadata": {
    "vscode": {
     "languageId": "r"
    }
   },
   "outputs": [],
   "source": [
    "# Recoding binary variables (1/2 -> 0/1): 0 as \"No\", 1 as \"Yes\"\n",
    "\n",
    "binary_vars <- c(\"DLQ040\", \"WHQ060\", \"DLQ010\", \"DLQ020\")\n",
    "for(var in binary_vars) {\n",
    "  df_prove[[var]] <- ifelse(df_prove[[var]] == 1, 1, 0)\n",
    "}"
   ]
  },
  {
   "cell_type": "code",
   "execution_count": 24,
   "metadata": {
    "vscode": {
     "languageId": "r"
    }
   },
   "outputs": [],
   "source": [
    "# Recoding multi level variables as binary variable: 0 as \"No\", 1 as \"Yes\"\n",
    "\n",
    "df_prove <- df_prove %>% mutate(\n",
    "  # Locomotion\n",
    "  PFQ061I_bin = ifelse(PFQ061I == 1, 0, 1),\n",
    "  \n",
    "  # Vitality\n",
    "  DPQ050_bin = ifelse(DPQ050 == 0, 0, 1),\n",
    "  \n",
    "  # Psychological\n",
    "  DPQ020_bin = ifelse(DPQ020 == 0, 0, 1),\n",
    "  DPQ010_bin = ifelse(DPQ010 == 0, 0, 1)\n",
    ")"
   ]
  },
  {
   "cell_type": "code",
   "execution_count": null,
   "metadata": {
    "vscode": {
     "languageId": "r"
    }
   },
   "outputs": [],
   "source": [
    "# Function to run a crude logistic regression analysis\n",
    "\n",
    "run_logistic_analysis <- function(df, predictor) {\n",
    "\n",
    "  df$moderate = ifelse(df$periodontitis == \"Moderate\", 1, 0)\n",
    "  df$severe = ifelse(df$periodontitis == \"Severe\", 1, 0)\n",
    "  \n",
    "  results = list()\n",
    "  \n",
    "  get_model_stats <- function(model) {\n",
    "    coef_summary <- summary(model)\n",
    "    or <- exp(coef(model)[2])\n",
    "    ci <- exp(confint(model)[2,])\n",
    "    p_value <- coef_summary$coefficients[2,4]\n",
    "    \n",
    "    return(list(\n",
    "      or = or,\n",
    "      ci_low = ci[1],\n",
    "      ci_high = ci[2],\n",
    "      p = p_value\n",
    "    ))\n",
    "  }\n",
    "  \n",
    "  for(outcome in c(\"moderate\", \"severe\")) {\n",
    "    # Overall\n",
    "    model_overall = glm(as.formula(paste(outcome, \"~\", predictor)),\n",
    "                       family = binomial, data = df)\n",
    "    \n",
    "    # Males only\n",
    "    model_males = glm(as.formula(paste(outcome, \"~\", predictor)),\n",
    "                     family = binomial, data = df[df$RIAGENDR == 1,])\n",
    "    \n",
    "    # Females only\n",
    "    model_females = glm(as.formula(paste(outcome, \"~\", predictor)),\n",
    "                       family = binomial, data = df[df$RIAGENDR == 2,])\n",
    "    \n",
    "    results[[outcome]] = list(\n",
    "      overall = get_model_stats(model_overall),\n",
    "      males = get_model_stats(model_males),\n",
    "      females = get_model_stats(model_females)\n",
    "    )\n",
    "  }\n",
    "  \n",
    "  return(results)\n",
    "}"
   ]
  },
  {
   "cell_type": "code",
   "execution_count": null,
   "metadata": {
    "vscode": {
     "languageId": "r"
    }
   },
   "outputs": [],
   "source": [
    "# Function to format results in a precise table\n",
    "\n",
    "format_results <- function(results_list, predictors) {\n",
    "  formatted_table <- data.frame(\n",
    "    Predictor = character(),\n",
    "    `Moderate (Overall)` = character(),\n",
    "    `Moderate (Males)` = character(),\n",
    "    `Moderate (Females)` = character(),\n",
    "    `Severe (Overall)` = character(),\n",
    "    `Severe (Males)` = character(),\n",
    "    `Severe (Females)` = character(),\n",
    "    stringsAsFactors = FALSE\n",
    "  )\n",
    "  \n",
    "  format_stats <- function(stats) {\n",
    "    stars <- ifelse(stats$p < 0.001, \"***\",\n",
    "                   ifelse(stats$p < 0.01, \"**\",\n",
    "                          ifelse(stats$p < 0.05, \"*\", \"\")))\n",
    "    \n",
    "    paste0(\n",
    "      round(stats$or, 2), \" (\",\n",
    "      round(stats$ci_low, 2), \"-\",\n",
    "      round(stats$ci_high, 2), \")\",\n",
    "      stars\n",
    "    )\n",
    "  }\n",
    "  \n",
    "  for(pred in names(results_list)) {\n",
    "    res <- results_list[[pred]]\n",
    "    \n",
    "    row <- data.frame(\n",
    "      Predictor = pred,\n",
    "      `Moderate (Overall)` = format_stats(res$moderate$overall),\n",
    "      `Moderate (Males)` = format_stats(res$moderate$males),\n",
    "      `Moderate (Females)` = format_stats(res$moderate$females),\n",
    "      `Severe (Overall)` = format_stats(res$severe$overall),\n",
    "      `Severe (Males)` = format_stats(res$severe$males),\n",
    "      `Severe (Females)` = format_stats(res$severe$females)\n",
    "    )\n",
    "    \n",
    "    formatted_table <- rbind(formatted_table, row)\n",
    "  }\n",
    "  \n",
    "  predictor_names <- c(\n",
    "    \"PFQ061I_bin\" = \"Locomotion\",\n",
    "    \"DLQ040\" = \"Cognitive Function\",\n",
    "    \"WHQ060\" = \"Vitality (Weight changes)\",\n",
    "    \"DPQ050_bin\" = \"Vitality (Appetite)\",\n",
    "    \"DPQ020_bin\" = \"Psychological status (Emotional status)\",\n",
    "    \"DPQ010_bin\" = \"Psychological status (Expressing interest)\",\n",
    "    \"DLQ010\" = \"Sensory (Difficulty hearing)\",\n",
    "    \"DLQ020\" = \"Sensory (Difficulty seeing)\"\n",
    "  )\n",
    "  \n",
    "  formatted_table$Predictor <- predictor_names[formatted_table$Predictor]\n",
    "  \n",
    "  formatted_table <- formatted_table[match(predictor_names, formatted_table$Predictor), ]\n",
    "  \n",
    "  return(formatted_table)\n",
    "}"
   ]
  },
  {
   "cell_type": "code",
   "execution_count": null,
   "metadata": {
    "vscode": {
     "languageId": "r"
    }
   },
   "outputs": [
    {
     "name": "stderr",
     "output_type": "stream",
     "text": [
      "Waiting for profiling to be done...\n",
      "\n",
      "Waiting for profiling to be done...\n",
      "\n",
      "Waiting for profiling to be done...\n",
      "\n",
      "Waiting for profiling to be done...\n",
      "\n",
      "Waiting for profiling to be done...\n",
      "\n",
      "Waiting for profiling to be done...\n",
      "\n",
      "Waiting for profiling to be done...\n",
      "\n",
      "Waiting for profiling to be done...\n",
      "\n",
      "Waiting for profiling to be done...\n",
      "\n",
      "Waiting for profiling to be done...\n",
      "\n",
      "Waiting for profiling to be done...\n",
      "\n",
      "Waiting for profiling to be done...\n",
      "\n",
      "Waiting for profiling to be done...\n",
      "\n",
      "Waiting for profiling to be done...\n",
      "\n",
      "Waiting for profiling to be done...\n",
      "\n",
      "Waiting for profiling to be done...\n",
      "\n",
      "Waiting for profiling to be done...\n",
      "\n",
      "Waiting for profiling to be done...\n",
      "\n",
      "Waiting for profiling to be done...\n",
      "\n",
      "Waiting for profiling to be done...\n",
      "\n",
      "Waiting for profiling to be done...\n",
      "\n",
      "Waiting for profiling to be done...\n",
      "\n",
      "Waiting for profiling to be done...\n",
      "\n",
      "Waiting for profiling to be done...\n",
      "\n",
      "Waiting for profiling to be done...\n",
      "\n",
      "Waiting for profiling to be done...\n",
      "\n",
      "Waiting for profiling to be done...\n",
      "\n",
      "Waiting for profiling to be done...\n",
      "\n",
      "Waiting for profiling to be done...\n",
      "\n",
      "Waiting for profiling to be done...\n",
      "\n",
      "Waiting for profiling to be done...\n",
      "\n",
      "Waiting for profiling to be done...\n",
      "\n",
      "Waiting for profiling to be done...\n",
      "\n",
      "Waiting for profiling to be done...\n",
      "\n",
      "Waiting for profiling to be done...\n",
      "\n",
      "Waiting for profiling to be done...\n",
      "\n",
      "Waiting for profiling to be done...\n",
      "\n",
      "Waiting for profiling to be done...\n",
      "\n",
      "Waiting for profiling to be done...\n",
      "\n",
      "Waiting for profiling to be done...\n",
      "\n",
      "Waiting for profiling to be done...\n",
      "\n",
      "Waiting for profiling to be done...\n",
      "\n",
      "Waiting for profiling to be done...\n",
      "\n",
      "Waiting for profiling to be done...\n",
      "\n",
      "Waiting for profiling to be done...\n",
      "\n",
      "Waiting for profiling to be done...\n",
      "\n",
      "Waiting for profiling to be done...\n",
      "\n",
      "Waiting for profiling to be done...\n",
      "\n"
     ]
    },
    {
     "data": {
      "text/html": [
       "<table class=\"dataframe\">\n",
       "<caption>A data.frame: 8 x 7</caption>\n",
       "<thead>\n",
       "\t<tr><th></th><th scope=col>Predictor</th><th scope=col>Moderate..Overall.</th><th scope=col>Moderate..Males.</th><th scope=col>Moderate..Females.</th><th scope=col>Severe..Overall.</th><th scope=col>Severe..Males.</th><th scope=col>Severe..Females.</th></tr>\n",
       "\t<tr><th></th><th scope=col>&lt;chr&gt;</th><th scope=col>&lt;chr&gt;</th><th scope=col>&lt;chr&gt;</th><th scope=col>&lt;chr&gt;</th><th scope=col>&lt;chr&gt;</th><th scope=col>&lt;chr&gt;</th><th scope=col>&lt;chr&gt;</th></tr>\n",
       "</thead>\n",
       "<tbody>\n",
       "\t<tr><th scope=row>1</th><td>Locomotion                                </td><td>1.23 (0.84-1.82) </td><td>1.18 (0.68-2.05)</td><td>1.3 (0.75-2.26) </td><td>1.66 (0.99-2.72)*</td><td>1.56 (0.81-2.91)</td><td>2.26 (0.92-5.4)  </td></tr>\n",
       "\t<tr><th scope=row>2</th><td>Cognitive Function                        </td><td>1.34 (0.71-2.59) </td><td>1.25 (0.49-3.32)</td><td>1.43 (0.6-3.59) </td><td>0.77 (0.26-1.86) </td><td>0.71 (0.16-2.22)</td><td>1.03 (0.16-3.87) </td></tr>\n",
       "\t<tr><th scope=row>3</th><td>Vitality (Weight changes)                 </td><td>0.8 (0.57-1.13)  </td><td>1.01 (0.63-1.61)</td><td>0.62 (0.37-1.03)</td><td>0.7 (0.44-1.13)  </td><td>0.73 (0.41-1.31)</td><td>0.69 (0.29-1.69) </td></tr>\n",
       "\t<tr><th scope=row>4</th><td>Vitality (Appetite)                       </td><td>0.71 (0.48-1.05) </td><td>0.92 (0.5-1.69) </td><td>0.58 (0.34-1)*  </td><td>1.42 (0.83-2.38) </td><td>1.41 (0.68-2.81)</td><td>2.36 (0.98-5.65) </td></tr>\n",
       "\t<tr><th scope=row>5</th><td>Psychological status (Emotional status)   </td><td>0.9 (0.62-1.32)  </td><td>0.91 (0.52-1.6) </td><td>0.91 (0.54-1.54)</td><td>1.69 (1.02-2.76)*</td><td>1.88 (0.97-3.55)</td><td>2.17 (0.9-5.19)  </td></tr>\n",
       "\t<tr><th scope=row>6</th><td>Psychological status (Expressing interest)</td><td>0.84 (0.57-1.23) </td><td>1.19 (0.66-2.14)</td><td>0.63 (0.37-1.07)</td><td>0.82 (0.46-1.41) </td><td>0.79 (0.35-1.61)</td><td>1.24 (0.48-2.99) </td></tr>\n",
       "\t<tr><th scope=row>7</th><td>Sensory (Difficulty hearing)              </td><td>1.84 (1.13-3.05)*</td><td>1.77 (0.97-3.34)</td><td>1.94 (0.85-4.71)</td><td>1.13 (0.57-2.1)  </td><td>0.75 (0.33-1.58)</td><td>2.05 (0.56-6.06) </td></tr>\n",
       "\t<tr><th scope=row>8</th><td>Sensory (Difficulty seeing)               </td><td>1.08 (0.7-1.68)  </td><td>0.96 (0.53-1.76)</td><td>1.24 (0.66-2.35)</td><td>1.83 (1.04-3.12)*</td><td>1.55 (0.76-3.05)</td><td>2.69 (1.02-6.66)*</td></tr>\n",
       "</tbody>\n",
       "</table>\n"
      ],
      "text/latex": [
       "A data.frame: 8 x 7\n",
       "\\begin{tabular}{r|lllllll}\n",
       "  & Predictor & Moderate..Overall. & Moderate..Males. & Moderate..Females. & Severe..Overall. & Severe..Males. & Severe..Females.\\\\\n",
       "  & <chr> & <chr> & <chr> & <chr> & <chr> & <chr> & <chr>\\\\\n",
       "\\hline\n",
       "\t1 & Locomotion                                 & 1.23 (0.84-1.82)  & 1.18 (0.68-2.05) & 1.3 (0.75-2.26)  & 1.66 (0.99-2.72)* & 1.56 (0.81-2.91) & 2.26 (0.92-5.4)  \\\\\n",
       "\t2 & Cognitive Function                         & 1.34 (0.71-2.59)  & 1.25 (0.49-3.32) & 1.43 (0.6-3.59)  & 0.77 (0.26-1.86)  & 0.71 (0.16-2.22) & 1.03 (0.16-3.87) \\\\\n",
       "\t3 & Vitality (Weight changes)                  & 0.8 (0.57-1.13)   & 1.01 (0.63-1.61) & 0.62 (0.37-1.03) & 0.7 (0.44-1.13)   & 0.73 (0.41-1.31) & 0.69 (0.29-1.69) \\\\\n",
       "\t4 & Vitality (Appetite)                        & 0.71 (0.48-1.05)  & 0.92 (0.5-1.69)  & 0.58 (0.34-1)*   & 1.42 (0.83-2.38)  & 1.41 (0.68-2.81) & 2.36 (0.98-5.65) \\\\\n",
       "\t5 & Psychological status (Emotional status)    & 0.9 (0.62-1.32)   & 0.91 (0.52-1.6)  & 0.91 (0.54-1.54) & 1.69 (1.02-2.76)* & 1.88 (0.97-3.55) & 2.17 (0.9-5.19)  \\\\\n",
       "\t6 & Psychological status (Expressing interest) & 0.84 (0.57-1.23)  & 1.19 (0.66-2.14) & 0.63 (0.37-1.07) & 0.82 (0.46-1.41)  & 0.79 (0.35-1.61) & 1.24 (0.48-2.99) \\\\\n",
       "\t7 & Sensory (Difficulty hearing)               & 1.84 (1.13-3.05)* & 1.77 (0.97-3.34) & 1.94 (0.85-4.71) & 1.13 (0.57-2.1)   & 0.75 (0.33-1.58) & 2.05 (0.56-6.06) \\\\\n",
       "\t8 & Sensory (Difficulty seeing)                & 1.08 (0.7-1.68)   & 0.96 (0.53-1.76) & 1.24 (0.66-2.35) & 1.83 (1.04-3.12)* & 1.55 (0.76-3.05) & 2.69 (1.02-6.66)*\\\\\n",
       "\\end{tabular}\n"
      ],
      "text/markdown": [
       "\n",
       "A data.frame: 8 x 7\n",
       "\n",
       "| <!--/--> | Predictor &lt;chr&gt; | Moderate..Overall. &lt;chr&gt; | Moderate..Males. &lt;chr&gt; | Moderate..Females. &lt;chr&gt; | Severe..Overall. &lt;chr&gt; | Severe..Males. &lt;chr&gt; | Severe..Females. &lt;chr&gt; |\n",
       "|---|---|---|---|---|---|---|---|\n",
       "| 1 | Locomotion                                 | 1.23 (0.84-1.82)  | 1.18 (0.68-2.05) | 1.3 (0.75-2.26)  | 1.66 (0.99-2.72)* | 1.56 (0.81-2.91) | 2.26 (0.92-5.4)   |\n",
       "| 2 | Cognitive Function                         | 1.34 (0.71-2.59)  | 1.25 (0.49-3.32) | 1.43 (0.6-3.59)  | 0.77 (0.26-1.86)  | 0.71 (0.16-2.22) | 1.03 (0.16-3.87)  |\n",
       "| 3 | Vitality (Weight changes)                  | 0.8 (0.57-1.13)   | 1.01 (0.63-1.61) | 0.62 (0.37-1.03) | 0.7 (0.44-1.13)   | 0.73 (0.41-1.31) | 0.69 (0.29-1.69)  |\n",
       "| 4 | Vitality (Appetite)                        | 0.71 (0.48-1.05)  | 0.92 (0.5-1.69)  | 0.58 (0.34-1)*   | 1.42 (0.83-2.38)  | 1.41 (0.68-2.81) | 2.36 (0.98-5.65)  |\n",
       "| 5 | Psychological status (Emotional status)    | 0.9 (0.62-1.32)   | 0.91 (0.52-1.6)  | 0.91 (0.54-1.54) | 1.69 (1.02-2.76)* | 1.88 (0.97-3.55) | 2.17 (0.9-5.19)   |\n",
       "| 6 | Psychological status (Expressing interest) | 0.84 (0.57-1.23)  | 1.19 (0.66-2.14) | 0.63 (0.37-1.07) | 0.82 (0.46-1.41)  | 0.79 (0.35-1.61) | 1.24 (0.48-2.99)  |\n",
       "| 7 | Sensory (Difficulty hearing)               | 1.84 (1.13-3.05)* | 1.77 (0.97-3.34) | 1.94 (0.85-4.71) | 1.13 (0.57-2.1)   | 0.75 (0.33-1.58) | 2.05 (0.56-6.06)  |\n",
       "| 8 | Sensory (Difficulty seeing)                | 1.08 (0.7-1.68)   | 0.96 (0.53-1.76) | 1.24 (0.66-2.35) | 1.83 (1.04-3.12)* | 1.55 (0.76-3.05) | 2.69 (1.02-6.66)* |\n",
       "\n"
      ],
      "text/plain": [
       "  Predictor                                  Moderate..Overall.\n",
       "1 Locomotion                                 1.23 (0.84-1.82)  \n",
       "2 Cognitive Function                         1.34 (0.71-2.59)  \n",
       "3 Vitality (Weight changes)                  0.8 (0.57-1.13)   \n",
       "4 Vitality (Appetite)                        0.71 (0.48-1.05)  \n",
       "5 Psychological status (Emotional status)    0.9 (0.62-1.32)   \n",
       "6 Psychological status (Expressing interest) 0.84 (0.57-1.23)  \n",
       "7 Sensory (Difficulty hearing)               1.84 (1.13-3.05)* \n",
       "8 Sensory (Difficulty seeing)                1.08 (0.7-1.68)   \n",
       "  Moderate..Males. Moderate..Females. Severe..Overall.  Severe..Males.  \n",
       "1 1.18 (0.68-2.05) 1.3 (0.75-2.26)    1.66 (0.99-2.72)* 1.56 (0.81-2.91)\n",
       "2 1.25 (0.49-3.32) 1.43 (0.6-3.59)    0.77 (0.26-1.86)  0.71 (0.16-2.22)\n",
       "3 1.01 (0.63-1.61) 0.62 (0.37-1.03)   0.7 (0.44-1.13)   0.73 (0.41-1.31)\n",
       "4 0.92 (0.5-1.69)  0.58 (0.34-1)*     1.42 (0.83-2.38)  1.41 (0.68-2.81)\n",
       "5 0.91 (0.52-1.6)  0.91 (0.54-1.54)   1.69 (1.02-2.76)* 1.88 (0.97-3.55)\n",
       "6 1.19 (0.66-2.14) 0.63 (0.37-1.07)   0.82 (0.46-1.41)  0.79 (0.35-1.61)\n",
       "7 1.77 (0.97-3.34) 1.94 (0.85-4.71)   1.13 (0.57-2.1)   0.75 (0.33-1.58)\n",
       "8 0.96 (0.53-1.76) 1.24 (0.66-2.35)   1.83 (1.04-3.12)* 1.55 (0.76-3.05)\n",
       "  Severe..Females. \n",
       "1 2.26 (0.92-5.4)  \n",
       "2 1.03 (0.16-3.87) \n",
       "3 0.69 (0.29-1.69) \n",
       "4 2.36 (0.98-5.65) \n",
       "5 2.17 (0.9-5.19)  \n",
       "6 1.24 (0.48-2.99) \n",
       "7 2.05 (0.56-6.06) \n",
       "8 2.69 (1.02-6.66)*"
      ]
     },
     "metadata": {},
     "output_type": "display_data"
    }
   ],
   "source": [
    "# Perform Regression\n",
    "\n",
    "predictors <- c(\"PFQ061I_bin\", \"DLQ040\", \"WHQ060\", \"DPQ050_bin\", \n",
    "                \"DPQ020_bin\", \"DPQ010_bin\", \"DLQ010\", \"DLQ020\")\n",
    "\n",
    "results_list <- setNames(\n",
    "  lapply(predictors, function(pred) run_logistic_analysis(df_prove, pred)),\n",
    "  predictors\n",
    ")\n",
    "\n",
    "final_table <- format_results(results_list, predictors)\n",
    "final_table"
   ]
  },
  {
   "cell_type": "code",
   "execution_count": null,
   "metadata": {
    "vscode": {
     "languageId": "r"
    }
   },
   "outputs": [],
   "source": [
    "# Saving Table in the csv format\n",
    "\n",
    "csv_table <- final_table\n",
    "colnames(csv_table) <- c(\n",
    "    \"Predictor\",\n",
    "    \"Moderate periodontitis - OR (95% CI) - Overall\",\n",
    "    \"Moderate periodontitis - OR (95% CI) - Males\",\n",
    "    \"Moderate periodontitis - OR (95% CI) - Females\",\n",
    "    \"Severe periodontitis - OR (95% CI) - Overall\",\n",
    "    \"Severe periodontitis - OR (95% CI) - Males\",\n",
    "    \"Severe periodontitis - OR (95% CI) - Females\"\n",
    ")\n",
    "\n",
    "write.csv(csv_table, \"logistic_regression_results.csv\", row.names = FALSE)"
   ]
  },
  {
   "cell_type": "code",
   "execution_count": null,
   "metadata": {
    "vscode": {
     "languageId": "r"
    }
   },
   "outputs": [],
   "source": [
    "# Saving Table in the docx format\n",
    "\n",
    "library(flextable)\n",
    "\n",
    "final_table_formatted <- flextable(final_table) %>%\n",
    "  set_header_labels(\n",
    "    Predictor = \"\",\n",
    "    `Moderate (Overall)` = \"Overall\",\n",
    "    `Moderate (Males)` = \"Males\",\n",
    "    `Moderate (Females)` = \"Females\",\n",
    "    `Severe (Overall)` = \"Overall\",\n",
    "    `Severe (Males)` = \"Males\",\n",
    "    `Severe (Females)` = \"Females\"\n",
    "  ) %>%\n",
    "  add_header_rows(\n",
    "    values = c(\"\", \"Moderate periodontitis - OR (95% CI)\", \"Severe periodontitis - OR (95% CI)\"),\n",
    "    colwidths = c(1, 3, 3)\n",
    "  ) %>%\n",
    "  italic(j = 2:7) %>%  \n",
    "  font(fontname = \"Times New Roman\", part = \"all\") %>%\n",
    "  fontsize(size = 10, part = \"all\") %>%\n",
    "  align(align = \"center\", j = 2:7) %>%\n",
    "  align(align = \"left\", j = 1)\n",
    "\n",
    "save_as_docx(final_table_formatted, path = \"regression_results.docx\")"
   ]
  },
  {
   "cell_type": "code",
   "execution_count": null,
   "metadata": {
    "vscode": {
     "languageId": "r"
    }
   },
   "outputs": [],
   "source": [
    "# Function to run a adjusted logistic regression analysis\n",
    "\n",
    "run_adjusted_logistic_analysis <- function(df, predictor) {\n",
    "  df$moderate = ifelse(df$periodontitis == \"Moderate\", 1, 0)\n",
    "  df$severe = ifelse(df$periodontitis == \"Severe\", 1, 0)\n",
    "  results = list()\n",
    "\n",
    "  get_model_stats <- function(model) {\n",
    "    coef_summary <- summary(model)\n",
    "    pred_idx <- which(rownames(coef_summary$coefficients) == predictor)\n",
    "    or <- exp(coef(model)[pred_idx])\n",
    "    ci <- exp(confint(model)[pred_idx,])\n",
    "    p_value <- coef_summary$coefficients[pred_idx,4]\n",
    "    return(list(\n",
    "      or = or,\n",
    "      ci_low = ci[1],\n",
    "      ci_high = ci[2],\n",
    "      p = p_value\n",
    "    ))\n",
    "  }\n",
    "\n",
    "  adjusted_formula <- paste(\n",
    "    \"~ \", predictor, \" + RIDAGEYR + RIAGENDR + SMQ020 + INDFMPIR + DMDEDUC2 + ALQ101\"\n",
    "  )\n",
    "\n",
    "  for(outcome in c(\"moderate\", \"severe\")) {\n",
    "    # Overall\n",
    "    model_overall = glm(as.formula(paste(outcome, adjusted_formula)),\n",
    "                       family = binomial, data = df)\n",
    "\n",
    "    # Males only (remove RIAGENDR from formula for Gender subgroups)\n",
    "    males_formula <- paste(\n",
    "      \"~ \", predictor, \" + RIDAGEYR + SMQ020 + INDFMPIR + DMDEDUC2 + ALQ101\"\n",
    "    )\n",
    "    model_males = glm(as.formula(paste(outcome, males_formula)),\n",
    "                      family = binomial, data = df[df$RIAGENDR == 1,])\n",
    "    \n",
    "    # Females only\n",
    "    model_females = glm(as.formula(paste(outcome, males_formula)),\n",
    "                        family = binomial, data = df[df$RIAGENDR == 2,])\n",
    "\n",
    "    results[[outcome]] = list(\n",
    "      overall = get_model_stats(model_overall),\n",
    "      males = get_model_stats(model_males),\n",
    "      females = get_model_stats(model_females)\n",
    "    )\n",
    "  }\n",
    "  \n",
    "  return(results)\n",
    "}"
   ]
  },
  {
   "cell_type": "code",
   "execution_count": null,
   "metadata": {
    "vscode": {
     "languageId": "r"
    }
   },
   "outputs": [],
   "source": [
    "# Perform Adjusted Regression\n",
    "\n",
    "predictors <- c(\"PFQ061I_bin\", \"DLQ040\", \"WHQ060\", \"DPQ050_bin\",\n",
    "                \"DPQ020_bin\", \"DPQ010_bin\", \"DLQ010\", \"DLQ020\")\n",
    "\n",
    "results_list <- setNames(\n",
    "  lapply(predictors,\n",
    "         function(pred) run_adjusted_logistic_analysis(df_prove, pred)),\n",
    "  predictors\n",
    ")\n",
    "\n",
    "final_table <- format_results(results_list, predictors)\n",
    "final_table"
   ]
  }
 ],
 "metadata": {
  "kernelspec": {
   "display_name": "R",
   "language": "R",
   "name": "ir"
  },
  "language_info": {
   "codemirror_mode": "r",
   "file_extension": ".r",
   "mimetype": "text/x-r-source",
   "name": "R",
   "pygments_lexer": "r",
   "version": "4.4.2"
  }
 },
 "nbformat": 4,
 "nbformat_minor": 2
}
