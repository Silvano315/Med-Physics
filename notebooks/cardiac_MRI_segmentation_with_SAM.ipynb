{
 "cells": [
  {
   "cell_type": "markdown",
   "metadata": {},
   "source": [
    "# Notebook project about testing SAM to segment Cardiac MRI scans"
   ]
  },
  {
   "cell_type": "markdown",
   "metadata": {},
   "source": [
    "## Google Colab configuration"
   ]
  },
  {
   "cell_type": "code",
   "execution_count": null,
   "metadata": {},
   "outputs": [],
   "source": [
    "# change working directory\n",
    "\n",
    "import os \n",
    "\n",
    "os.chdir(\"Malware-classification-model\")\n",
    "os.getcwd()"
   ]
  },
  {
   "cell_type": "code",
   "execution_count": null,
   "metadata": {},
   "outputs": [],
   "source": [
    "from google.colab import drive\n",
    "drive.mount('/content/drive')"
   ]
  },
  {
   "cell_type": "code",
   "execution_count": null,
   "metadata": {},
   "outputs": [],
   "source": [
    "# Copy your Kaggle API to /root/.config/kaggle and /root/.kaggle/kaggle.json\n",
    "\n",
    "os.makedirs('/root/.kaggle', exist_ok = True)\n",
    "\n",
    "!cp /content/drive/MyDrive/Kaggle_api/kaggle.json /root/.config/kaggle.json\n",
    "!cp /content/drive/MyDrive/Kaggle_api/kaggle.json /root/.kaggle/kaggle.json"
   ]
  },
  {
   "cell_type": "markdown",
   "metadata": {},
   "source": [
    "## Import Libraries"
   ]
  },
  {
   "cell_type": "code",
   "execution_count": 1,
   "metadata": {},
   "outputs": [
    {
     "data": {
      "text/plain": [
       "'/Users/silvanoquarto/Desktop/LAVORO/MEDICAL_PHYSICS/Med-Physics'"
      ]
     },
     "execution_count": 1,
     "metadata": {},
     "output_type": "execute_result"
    }
   ],
   "source": [
    "# If you're running this repository locally, RUN this cell:\n",
    "\n",
    "import os\n",
    "os.chdir(\"..\")\n",
    "os.getcwd()"
   ]
  },
  {
   "cell_type": "code",
   "execution_count": 20,
   "metadata": {},
   "outputs": [],
   "source": [
    "# Import libraries \n",
    "\n",
    "import kaggle\n",
    "import urllib.request\n",
    "from pathlib import Path\n",
    "from pathlib import Path\n",
    "import numpy as np\n",
    "import matplotlib.pyplot as plt\n",
    "import torch\n",
    "from segment_anything import sam_model_registry, SamPredictor\n",
    "import h5py"
   ]
  },
  {
   "cell_type": "markdown",
   "metadata": {},
   "source": [
    "## Setup and Configuration"
   ]
  },
  {
   "cell_type": "code",
   "execution_count": 9,
   "metadata": {},
   "outputs": [
    {
     "name": "stdout",
     "output_type": "stream",
     "text": [
      "Using device: cpu\n"
     ]
    }
   ],
   "source": [
    "# Set up device to use\n",
    "\n",
    "DEVICE = torch.device('cuda' if torch.cuda.is_available() else 'cpu')\n",
    "print(f\"Using device: {DEVICE}\")"
   ]
  },
  {
   "cell_type": "code",
   "execution_count": 10,
   "metadata": {},
   "outputs": [],
   "source": [
    "# Create directories\n",
    "\n",
    "data_dir = Path('data')\n",
    "data_dir.mkdir(exist_ok=True)"
   ]
  },
  {
   "cell_type": "markdown",
   "metadata": {},
   "source": [
    "## Download dataset"
   ]
  },
  {
   "cell_type": "code",
   "execution_count": null,
   "metadata": {},
   "outputs": [],
   "source": [
    "def download_kaggle_dataset(dataset_name : str = None, kaggle_url : str = None):\n",
    "    \"\"\"\n",
    "    Download ACDC dataset from Kaggle using Kaggle API.\n",
    "    Requires:\n",
    "    1. Kaggle account\n",
    "    2. API token (kaggle.json) in ~/.kaggle/\n",
    "    3. kaggle package installed: pip install kaggle\n",
    "    \"\"\"\n",
    "\n",
    "    data_dir = Path('data')\n",
    "    data_dir.mkdir(exist_ok=True)\n",
    "\n",
    "    print(f\"Downloading {dataset_name} dataset from Kaggle...\")\n",
    "    try:\n",
    "        kaggle.api.authenticate()\n",
    "        kaggle.api.dataset_download_files(\n",
    "            kaggle_url,\n",
    "            path=data_dir,\n",
    "            unzip=True\n",
    "        )\n",
    "        print(\"Dataset downloaded and extracted successfully!\")\n",
    "        \n",
    "    except Exception as e:\n",
    "        print(f\"Error downloading dataset: {e}\")\n",
    "        print(\"\\nPlease ensure you have:\")\n",
    "        print(\"1. Created a Kaggle account\")\n",
    "        print(\"2. Generated an API token from https://www.kaggle.com/settings\")\n",
    "        print(\"3. Placed kaggle.json in ~/.kaggle/\")\n",
    "        print(\"4. Set appropriate permissions: chmod 600 ~/.kaggle/kaggle.json\")\n",
    "        raise"
   ]
  },
  {
   "cell_type": "code",
   "execution_count": null,
   "metadata": {},
   "outputs": [
    {
     "name": "stdout",
     "output_type": "stream",
     "text": [
      "Downloading ACDC dataset from Kaggle...\n",
      "Dataset URL: https://www.kaggle.com/datasets/anhoangvo/acdc-dataset\n",
      "Dataset downloaded and extracted successfully!\n"
     ]
    }
   ],
   "source": [
    "# Download ACDC dataset from Kaggle using API key\n",
    "\n",
    "download_kaggle_dataset(dataset_name=\"ACDC\", kaggle_url='anhoangvo/acdc-dataset')"
   ]
  },
  {
   "cell_type": "markdown",
   "metadata": {},
   "source": [
    "## Cardiac MRI Segmentation with SAM - Exploratory Analysis"
   ]
  },
  {
   "cell_type": "code",
   "execution_count": 13,
   "metadata": {},
   "outputs": [],
   "source": [
    "# Set up SAM Model\n",
    "\n",
    "def setup_sam():\n",
    "    \"\"\"Initialize and load SAM model.\"\"\"\n",
    "\n",
    "    sam_checkpoint = \"sam_vit_b_01ec64.pth\"\n",
    "    checkpoint_url = \"https://dl.fbaipublicfiles.com/segment_anything/sam_vit_b_01ec64.pth\"\n",
    "\n",
    "    if not os.path.exists(sam_checkpoint):\n",
    "        print(\"Downloading SAM checkpoint...\")\n",
    "        urllib.request.urlretrieve(checkpoint_url, sam_checkpoint)\n",
    "\n",
    "    model_type = \"vit_b\"\n",
    "    sam = sam_model_registry[model_type](checkpoint=sam_checkpoint)\n",
    "    sam.to(device=DEVICE)\n",
    "\n",
    "    return sam"
   ]
  },
  {
   "cell_type": "code",
   "execution_count": 16,
   "metadata": {},
   "outputs": [
    {
     "name": "stdout",
     "output_type": "stream",
     "text": [
      "Downloading SAM checkpoint...\n"
     ]
    },
    {
     "name": "stderr",
     "output_type": "stream",
     "text": [
      "/Users/silvanoquarto/Desktop/LAVORO/MEDICAL_PHYSICS/Med-Physics/.venv/lib/python3.11/site-packages/segment_anything/build_sam.py:105: FutureWarning: You are using `torch.load` with `weights_only=False` (the current default value), which uses the default pickle module implicitly. It is possible to construct malicious pickle data which will execute arbitrary code during unpickling (See https://github.com/pytorch/pytorch/blob/main/SECURITY.md#untrusted-models for more details). In a future release, the default value for `weights_only` will be flipped to `True`. This limits the functions that could be executed during unpickling. Arbitrary objects will no longer be allowed to be loaded via this mode unless they are explicitly allowlisted by the user via `torch.serialization.add_safe_globals`. We recommend you start setting `weights_only=True` for any use case where you don't have full control of the loaded file. Please open an issue on GitHub for any issues related to this experimental feature.\n",
      "  state_dict = torch.load(f)\n"
     ]
    }
   ],
   "source": [
    "sam = setup_sam()\n",
    "predictor = SamPredictor(sam)"
   ]
  },
  {
   "cell_type": "markdown",
   "metadata": {},
   "source": [
    "## Data Loading & Preprocessing"
   ]
  }
 ],
 "metadata": {
  "kernelspec": {
   "display_name": ".venv",
   "language": "python",
   "name": "python3"
  },
  "language_info": {
   "codemirror_mode": {
    "name": "ipython",
    "version": 3
   },
   "file_extension": ".py",
   "mimetype": "text/x-python",
   "name": "python",
   "nbconvert_exporter": "python",
   "pygments_lexer": "ipython3",
   "version": "3.11.9"
  }
 },
 "nbformat": 4,
 "nbformat_minor": 2
}
